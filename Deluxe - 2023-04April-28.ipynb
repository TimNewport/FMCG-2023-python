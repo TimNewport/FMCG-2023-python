{
 "cells": [
  {
   "cell_type": "markdown",
   "id": "de19196b",
   "metadata": {},
   "source": [
    "# Agenda\n",
    "\n",
    "- Series (1d data structures)\n",
    "- Indexes\n",
    "- Series methods\n",
    "- `nan` and Pandas\n",
    "- Data frames (2d data structures)"
   ]
  },
  {
   "cell_type": "code",
   "execution_count": 2,
   "id": "c524a02e",
   "metadata": {},
   "outputs": [],
   "source": [
    "import numpy as np\n",
    "import pandas as pd\n",
    "from pandas import Series, DataFrame"
   ]
  },
  {
   "cell_type": "markdown",
   "id": "601afdd2",
   "metadata": {},
   "source": [
    "# Apache Arrow\n",
    "\n",
    "Apache Arrow is a high-speed, in-memory database optimized for the kinds of things we do with NumPy and Pandas. It has ways to work with Pandas, R, and Spark (among other things). It also has"
   ]
  }
 ],
 "metadata": {
  "kernelspec": {
   "display_name": "Python 3 (ipykernel)",
   "language": "python",
   "name": "python3"
  },
  "language_info": {
   "codemirror_mode": {
    "name": "ipython",
    "version": 3
   },
   "file_extension": ".py",
   "mimetype": "text/x-python",
   "name": "python",
   "nbconvert_exporter": "python",
   "pygments_lexer": "ipython3",
   "version": "3.11.3"
  }
 },
 "nbformat": 4,
 "nbformat_minor": 5
}
