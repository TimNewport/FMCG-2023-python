{
 "cells": [
  {
   "cell_type": "markdown",
   "id": "de19196b",
   "metadata": {},
   "source": [
    "# Agenda\n",
    "\n",
    "- Series (1d data structures)\n",
    "- Indexes\n",
    "- Series methods\n",
    "- `nan` and Pandas\n",
    "- Data frames (2d data structures)"
   ]
  },
  {
   "cell_type": "code",
   "execution_count": 2,
   "id": "7027b3a3",
   "metadata": {},
   "outputs": [],
   "source": [
    "import numpy as np\n",
    "import pandas as pd\n",
    "from pandas import Series, DataFrame"
   ]
  },
  {
   "cell_type": "markdown",
   "id": "6d9b80d2",
   "metadata": {},
   "source": [
    "# Apache Arrow\n",
    "\n",
    "Apache Arrow is a high-speed, in-memory database optimized for the kinds of things we do with NumPy and Pandas. It has ways to work with Pandas, R, and Spark (among other things). It also has a disk version that you can use to save and retrieve data.\n",
    "\n",
    "As of Pandas 2.0 (which came out a few weeks ago), you can use Arrow instead of NumPy in the back end.\n",
    "\n",
    "For some operations (such as searching), it's *far* faster than NumPy.\n",
    "\n",
    "For other operations (such as grouping), it's actually much slower.\n",
    "\n"
   ]
  },
  {
   "cell_type": "code",
   "execution_count": 3,
   "id": "8a8a0557",
   "metadata": {},
   "outputs": [],
   "source": [
    "# let's create a series!\n",
    "\n",
    "# this is similar to creating a 1D NumPy array\n",
    "# we pass a list of Python objects (or of a NumPy array), and we get a series out of it\n",
    "\n",
    "s = Series([10, 20, 30, 40, 50])"
   ]
  },
  {
   "cell_type": "code",
   "execution_count": 4,
   "id": "f57147a7",
   "metadata": {},
   "outputs": [
    {
     "data": {
      "text/plain": [
       "pandas.core.series.Series"
      ]
     },
     "execution_count": 4,
     "metadata": {},
     "output_type": "execute_result"
    }
   ],
   "source": [
    "type(s)"
   ]
  },
  {
   "cell_type": "code",
   "execution_count": 6,
   "id": "ade2416b",
   "metadata": {},
   "outputs": [
    {
     "data": {
      "text/plain": [
       "0    10\n",
       "1    20\n",
       "2    30\n",
       "3    40\n",
       "4    50\n",
       "dtype: int64"
      ]
     },
     "execution_count": 6,
     "metadata": {},
     "output_type": "execute_result"
    }
   ],
   "source": [
    "# when we look at the representation of s,\n",
    "# we see the index (along the left side) and the \n",
    "# values (on the right side).\n",
    "\n",
    "# we also see the dtype -- just like NumPy arrays, series have dtypes\n",
    "\n",
    "s"
   ]
  },
  {
   "cell_type": "code",
   "execution_count": 8,
   "id": "b08729ab",
   "metadata": {},
   "outputs": [
    {
     "data": {
      "text/plain": [
       "array([10, 20, 30, 40, 50])"
      ]
     },
     "execution_count": 8,
     "metadata": {},
     "output_type": "execute_result"
    }
   ],
   "source": [
    "# let's look at the values in our series\n",
    "\n",
    "s.values   # it's a NumPy array!"
   ]
  },
  {
   "cell_type": "code",
   "execution_count": 9,
   "id": "c7deccd4",
   "metadata": {},
   "outputs": [
    {
     "data": {
      "text/plain": [
       "30.0"
      ]
     },
     "execution_count": 9,
     "metadata": {},
     "output_type": "execute_result"
    }
   ],
   "source": [
    "# because we have NumPy arrays in the back end, so many of the things\n",
    "# we've learned about NumPy also apply to Pandas series\n",
    "\n",
    "s.mean()"
   ]
  },
  {
   "cell_type": "code",
   "execution_count": 10,
   "id": "413d9138",
   "metadata": {},
   "outputs": [
    {
     "data": {
      "text/plain": [
       "15.811388300841896"
      ]
     },
     "execution_count": 10,
     "metadata": {},
     "output_type": "execute_result"
    }
   ],
   "source": [
    "s.std()"
   ]
  },
  {
   "cell_type": "code",
   "execution_count": 11,
   "id": "61f175fe",
   "metadata": {},
   "outputs": [
    {
     "data": {
      "text/plain": [
       "10"
      ]
     },
     "execution_count": 11,
     "metadata": {},
     "output_type": "execute_result"
    }
   ],
   "source": [
    "s.min()"
   ]
  },
  {
   "cell_type": "code",
   "execution_count": 12,
   "id": "f4dd1afe",
   "metadata": {},
   "outputs": [
    {
     "data": {
      "text/plain": [
       "50"
      ]
     },
     "execution_count": 12,
     "metadata": {},
     "output_type": "execute_result"
    }
   ],
   "source": [
    "s.max()"
   ]
  },
  {
   "cell_type": "code",
   "execution_count": 13,
   "id": "5182449f",
   "metadata": {},
   "outputs": [
    {
     "data": {
      "text/plain": [
       "150"
      ]
     },
     "execution_count": 13,
     "metadata": {},
     "output_type": "execute_result"
    }
   ],
   "source": [
    "s.sum()"
   ]
  },
  {
   "cell_type": "code",
   "execution_count": 14,
   "id": "85d4eb04",
   "metadata": {},
   "outputs": [
    {
     "data": {
      "text/plain": [
       "5"
      ]
     },
     "execution_count": 14,
     "metadata": {},
     "output_type": "execute_result"
    }
   ],
   "source": [
    "s.count()   # how many non-NaN values are there?"
   ]
  },
  {
   "cell_type": "code",
   "execution_count": 15,
   "id": "ca78a5b5",
   "metadata": {},
   "outputs": [
    {
     "data": {
      "text/plain": [
       "0    10\n",
       "1    20\n",
       "2    30\n",
       "3    40\n",
       "4    50\n",
       "dtype: int64"
      ]
     },
     "execution_count": 15,
     "metadata": {},
     "output_type": "execute_result"
    }
   ],
   "source": [
    "s"
   ]
  },
  {
   "cell_type": "code",
   "execution_count": 16,
   "id": "743105fc",
   "metadata": {},
   "outputs": [
    {
     "data": {
      "text/plain": [
       "30"
      ]
     },
     "execution_count": 16,
     "metadata": {},
     "output_type": "execute_result"
    }
   ],
   "source": [
    "# I can retrieve with []  -- but we'll talk about this in a moment\n",
    "s[2]"
   ]
  },
  {
   "cell_type": "code",
   "execution_count": 17,
   "id": "cf63a867",
   "metadata": {},
   "outputs": [
    {
     "data": {
      "text/plain": [
       "2    30\n",
       "4    50\n",
       "dtype: int64"
      ]
     },
     "execution_count": 17,
     "metadata": {},
     "output_type": "execute_result"
    }
   ],
   "source": [
    "# fancy indexing\n",
    "s[[2, 4]]"
   ]
  },
  {
   "cell_type": "code",
   "execution_count": null,
   "id": "7508b610",
   "metadata": {},
   "outputs": [],
   "source": []
  }
 ],
 "metadata": {
  "kernelspec": {
   "display_name": "Python 3 (ipykernel)",
   "language": "python",
   "name": "python3"
  },
  "language_info": {
   "codemirror_mode": {
    "name": "ipython",
    "version": 3
   },
   "file_extension": ".py",
   "mimetype": "text/x-python",
   "name": "python",
   "nbconvert_exporter": "python",
   "pygments_lexer": "ipython3",
   "version": "3.11.3"
  }
 },
 "nbformat": 4,
 "nbformat_minor": 5
}
