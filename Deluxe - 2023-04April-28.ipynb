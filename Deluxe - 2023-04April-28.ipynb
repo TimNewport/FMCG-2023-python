{
 "cells": [
  {
   "cell_type": "markdown",
   "id": "de19196b",
   "metadata": {},
   "source": [
    "# Agenda\n",
    "\n",
    "- Series (1d data structures)\n",
    "- Indexes\n",
    "- Series methods\n",
    "- `nan` and Pandas\n",
    "- Data frames (2d data structures)"
   ]
  },
  {
   "cell_type": "code",
   "execution_count": 2,
   "id": "bd003dcb",
   "metadata": {},
   "outputs": [],
   "source": [
    "import numpy as np\n",
    "import pandas as pd\n",
    "from pandas import Series, DataFrame"
   ]
  },
  {
   "cell_type": "markdown",
   "id": "fef7ef5a",
   "metadata": {},
   "source": [
    "# Apache Arrow\n",
    "\n",
    "Apache Arrow is a high-speed, in-memory database optimized for the kinds of things we do with NumPy and Pandas. It has ways to work with Pandas, R, and Spark (among other things). It also has a disk version that you can use to save and retrieve data.\n",
    "\n",
    "As of Pandas 2.0 (which came out a few weeks ago), you can use Arrow instead of NumPy in the back end.\n",
    "\n",
    "For some operations (such as searching), it's *far* faster than NumPy.\n",
    "\n",
    "For other operations (such as grouping), it's actually much slower.\n",
    "\n"
   ]
  },
  {
   "cell_type": "code",
   "execution_count": 3,
   "id": "c9502eae",
   "metadata": {},
   "outputs": [],
   "source": [
    "# let's create a series!\n",
    "\n",
    "# this is similar to creating a 1D NumPy array\n",
    "# we pass a list of Python objects (or of a NumPy array), and we get a series out of it\n",
    "\n",
    "s = Series([10, 20, 30, 40, 50])"
   ]
  },
  {
   "cell_type": "code",
   "execution_count": 4,
   "id": "1c5e0047",
   "metadata": {},
   "outputs": [
    {
     "data": {
      "text/plain": [
       "pandas.core.series.Series"
      ]
     },
     "execution_count": 4,
     "metadata": {},
     "output_type": "execute_result"
    }
   ],
   "source": [
    "type(s)"
   ]
  },
  {
   "cell_type": "code",
   "execution_count": 6,
   "id": "5c9d3100",
   "metadata": {},
   "outputs": [
    {
     "data": {
      "text/plain": [
       "0    10\n",
       "1    20\n",
       "2    30\n",
       "3    40\n",
       "4    50\n",
       "dtype: int64"
      ]
     },
     "execution_count": 6,
     "metadata": {},
     "output_type": "execute_result"
    }
   ],
   "source": [
    "# when we look at the representation of s,\n",
    "# we see the index (along the left side) and the \n",
    "# values (on the right side).\n",
    "\n",
    "# we also see the dtype -- just like NumPy arrays, series have dtypes\n",
    "\n",
    "s"
   ]
  },
  {
   "cell_type": "code",
   "execution_count": 8,
   "id": "5c02725a",
   "metadata": {},
   "outputs": [
    {
     "data": {
      "text/plain": [
       "array([10, 20, 30, 40, 50])"
      ]
     },
     "execution_count": 8,
     "metadata": {},
     "output_type": "execute_result"
    }
   ],
   "source": [
    "# let's look at the values in our series\n",
    "\n",
    "s.values   # it's a NumPy array!"
   ]
  },
  {
   "cell_type": "code",
   "execution_count": 9,
   "id": "3279793a",
   "metadata": {},
   "outputs": [
    {
     "data": {
      "text/plain": [
       "30.0"
      ]
     },
     "execution_count": 9,
     "metadata": {},
     "output_type": "execute_result"
    }
   ],
   "source": [
    "# because we have NumPy arrays in the back end, so many of the things\n",
    "# we've learned about NumPy also apply to Pandas series\n",
    "\n",
    "s.mean()"
   ]
  },
  {
   "cell_type": "code",
   "execution_count": 10,
   "id": "0544c045",
   "metadata": {},
   "outputs": [
    {
     "data": {
      "text/plain": [
       "15.811388300841896"
      ]
     },
     "execution_count": 10,
     "metadata": {},
     "output_type": "execute_result"
    }
   ],
   "source": [
    "s.std()"
   ]
  },
  {
   "cell_type": "code",
   "execution_count": 11,
   "id": "f87f4e2f",
   "metadata": {},
   "outputs": [
    {
     "data": {
      "text/plain": [
       "10"
      ]
     },
     "execution_count": 11,
     "metadata": {},
     "output_type": "execute_result"
    }
   ],
   "source": [
    "s.min()"
   ]
  },
  {
   "cell_type": "code",
   "execution_count": 12,
   "id": "b35bea00",
   "metadata": {},
   "outputs": [
    {
     "data": {
      "text/plain": [
       "50"
      ]
     },
     "execution_count": 12,
     "metadata": {},
     "output_type": "execute_result"
    }
   ],
   "source": [
    "s.max()"
   ]
  },
  {
   "cell_type": "code",
   "execution_count": 13,
   "id": "5e90139e",
   "metadata": {},
   "outputs": [
    {
     "data": {
      "text/plain": [
       "150"
      ]
     },
     "execution_count": 13,
     "metadata": {},
     "output_type": "execute_result"
    }
   ],
   "source": [
    "s.sum()"
   ]
  },
  {
   "cell_type": "code",
   "execution_count": 14,
   "id": "b55a549b",
   "metadata": {},
   "outputs": [
    {
     "data": {
      "text/plain": [
       "5"
      ]
     },
     "execution_count": 14,
     "metadata": {},
     "output_type": "execute_result"
    }
   ],
   "source": [
    "s.count()   # how many non-NaN values are there?"
   ]
  },
  {
   "cell_type": "code",
   "execution_count": 15,
   "id": "45ce526d",
   "metadata": {},
   "outputs": [
    {
     "data": {
      "text/plain": [
       "0    10\n",
       "1    20\n",
       "2    30\n",
       "3    40\n",
       "4    50\n",
       "dtype: int64"
      ]
     },
     "execution_count": 15,
     "metadata": {},
     "output_type": "execute_result"
    }
   ],
   "source": [
    "s"
   ]
  },
  {
   "cell_type": "code",
   "execution_count": 16,
   "id": "f591648c",
   "metadata": {},
   "outputs": [
    {
     "data": {
      "text/plain": [
       "30"
      ]
     },
     "execution_count": 16,
     "metadata": {},
     "output_type": "execute_result"
    }
   ],
   "source": [
    "# I can retrieve with []  -- but we'll talk about this in a moment\n",
    "s[2]"
   ]
  },
  {
   "cell_type": "code",
   "execution_count": 17,
   "id": "f3853ecd",
   "metadata": {},
   "outputs": [
    {
     "data": {
      "text/plain": [
       "2    30\n",
       "4    50\n",
       "dtype: int64"
      ]
     },
     "execution_count": 17,
     "metadata": {},
     "output_type": "execute_result"
    }
   ],
   "source": [
    "# fancy indexing\n",
    "s[[2, 4]]"
   ]
  },
  {
   "cell_type": "code",
   "execution_count": 18,
   "id": "cafd8e0c",
   "metadata": {},
   "outputs": [
    {
     "data": {
      "text/plain": [
       "40.0"
      ]
     },
     "execution_count": 18,
     "metadata": {},
     "output_type": "execute_result"
    }
   ],
   "source": [
    "# if I get a series back, then I can run any method I'd like\n",
    "s[[2, 4]].mean()"
   ]
  },
  {
   "cell_type": "markdown",
   "id": "90e32cc9",
   "metadata": {},
   "source": [
    "# Indexes on series\n",
    "\n",
    "In NumPy, we're stuck with the same sort of numeric index as many other objects in Python use -- starting at 0, and going up to len-1.\n",
    "\n",
    "However, in Pandas, we can use any sort of data as our index, sort of like how it's done with dictionaries. This means that our series can be much more expressive."
   ]
  },
  {
   "cell_type": "code",
   "execution_count": 19,
   "id": "bf1532d3",
   "metadata": {},
   "outputs": [
    {
     "data": {
      "text/plain": [
       "0    10\n",
       "1    20\n",
       "2    30\n",
       "3    40\n",
       "4    50\n",
       "dtype: int64"
      ]
     },
     "execution_count": 19,
     "metadata": {},
     "output_type": "execute_result"
    }
   ],
   "source": [
    "s"
   ]
  },
  {
   "cell_type": "code",
   "execution_count": 20,
   "id": "ec0674dc",
   "metadata": {},
   "outputs": [
    {
     "data": {
      "text/plain": [
       "RangeIndex(start=0, stop=5, step=1)"
      ]
     },
     "execution_count": 20,
     "metadata": {},
     "output_type": "execute_result"
    }
   ],
   "source": [
    "# we can always replace the existing index by assigning \n",
    "# to s.index. It needs to get a list or NumPy array that's of the right length\n",
    "\n",
    "s.index"
   ]
  },
  {
   "cell_type": "code",
   "execution_count": 21,
   "id": "7a9dbd18",
   "metadata": {},
   "outputs": [],
   "source": [
    "s.index = [50, 51, 203, 62, 18]"
   ]
  },
  {
   "cell_type": "code",
   "execution_count": 23,
   "id": "c588231a",
   "metadata": {},
   "outputs": [
    {
     "data": {
      "text/plain": [
       "50     10\n",
       "51     20\n",
       "203    30\n",
       "62     40\n",
       "18     50\n",
       "dtype: int64"
      ]
     },
     "execution_count": 23,
     "metadata": {},
     "output_type": "execute_result"
    }
   ],
   "source": [
    "s  # look at the index now!"
   ]
  },
  {
   "cell_type": "code",
   "execution_count": 24,
   "id": "35dc18c4",
   "metadata": {},
   "outputs": [],
   "source": [
    "# how do I retrieve from our series now?\n",
    "# the answer -- two different special accessors, .loc and .iloc\n",
    "# you can still use [] to retrieve via the index BUT DON'T DO THAT?"
   ]
  },
  {
   "cell_type": "code",
   "execution_count": 25,
   "id": "f5fa1985",
   "metadata": {},
   "outputs": [
    {
     "data": {
      "text/plain": [
       "20"
      ]
     },
     "execution_count": 25,
     "metadata": {},
     "output_type": "execute_result"
    }
   ],
   "source": [
    "s[51]  # what's wrong with this?"
   ]
  },
  {
   "cell_type": "code",
   "execution_count": 26,
   "id": "f2c0c663",
   "metadata": {},
   "outputs": [
    {
     "data": {
      "text/plain": [
       "20"
      ]
     },
     "execution_count": 26,
     "metadata": {},
     "output_type": "execute_result"
    }
   ],
   "source": [
    "# if I want to retrieve via the index, I can use .loc\n",
    "# note that you use [] with .loc, not ()\n",
    "\n",
    "s.loc[51]  # retrieve the item with index 51"
   ]
  },
  {
   "cell_type": "code",
   "execution_count": 27,
   "id": "accc9ec0",
   "metadata": {},
   "outputs": [
    {
     "data": {
      "text/plain": [
       "40"
      ]
     },
     "execution_count": 27,
     "metadata": {},
     "output_type": "execute_result"
    }
   ],
   "source": [
    "s.loc[62]"
   ]
  },
  {
   "cell_type": "code",
   "execution_count": 28,
   "id": "a1341544",
   "metadata": {},
   "outputs": [
    {
     "data": {
      "text/plain": [
       "51    20\n",
       "62    40\n",
       "dtype: int64"
      ]
     },
     "execution_count": 28,
     "metadata": {},
     "output_type": "execute_result"
    }
   ],
   "source": [
    "s.loc[[51, 62]]   # retrieve the items at indexes 51 and 62"
   ]
  },
  {
   "cell_type": "code",
   "execution_count": 29,
   "id": "629a7971",
   "metadata": {},
   "outputs": [
    {
     "data": {
      "text/plain": [
       "30.0"
      ]
     },
     "execution_count": 29,
     "metadata": {},
     "output_type": "execute_result"
    }
   ],
   "source": [
    "s.loc[[51, 62]].mean()   # get the mean of the items at indexes 51 + 62"
   ]
  },
  {
   "cell_type": "code",
   "execution_count": 33,
   "id": "1aa3afdc",
   "metadata": {},
   "outputs": [
    {
     "data": {
      "text/plain": [
       "20"
      ]
     },
     "execution_count": 33,
     "metadata": {},
     "output_type": "execute_result"
    }
   ],
   "source": [
    "# what, then, is .iloc?\n",
    "# it allows us to retrieve items via their numeric position, \n",
    "# using the default integer index that we're used to in Python\n",
    "\n",
    "s.iloc[1]"
   ]
  },
  {
   "cell_type": "code",
   "execution_count": 34,
   "id": "1569f8a9",
   "metadata": {},
   "outputs": [
    {
     "data": {
      "text/plain": [
       "40"
      ]
     },
     "execution_count": 34,
     "metadata": {},
     "output_type": "execute_result"
    }
   ],
   "source": [
    "s.iloc[3]"
   ]
  },
  {
   "cell_type": "code",
   "execution_count": 35,
   "id": "fd6ec7c5",
   "metadata": {},
   "outputs": [
    {
     "data": {
      "text/plain": [
       "51    20\n",
       "62    40\n",
       "dtype: int64"
      ]
     },
     "execution_count": 35,
     "metadata": {},
     "output_type": "execute_result"
    }
   ],
   "source": [
    "s.iloc[[1,3]]"
   ]
  },
  {
   "cell_type": "code",
   "execution_count": 36,
   "id": "40ed27e2",
   "metadata": {},
   "outputs": [],
   "source": [
    "# define a series with an index already\n",
    "\n",
    "s = Series([10, 20, 30, 40, 50],\n",
    "          index=list('abcde'))  # yes, we can have string indexes"
   ]
  },
  {
   "cell_type": "code",
   "execution_count": 37,
   "id": "e8920cba",
   "metadata": {},
   "outputs": [
    {
     "data": {
      "text/plain": [
       "a    10\n",
       "b    20\n",
       "c    30\n",
       "d    40\n",
       "e    50\n",
       "dtype: int64"
      ]
     },
     "execution_count": 37,
     "metadata": {},
     "output_type": "execute_result"
    }
   ],
   "source": [
    "s"
   ]
  },
  {
   "cell_type": "code",
   "execution_count": 38,
   "id": "d2c2cce4",
   "metadata": {},
   "outputs": [
    {
     "data": {
      "text/plain": [
       "30"
      ]
     },
     "execution_count": 38,
     "metadata": {},
     "output_type": "execute_result"
    }
   ],
   "source": [
    "s.loc['c']"
   ]
  },
  {
   "cell_type": "code",
   "execution_count": 39,
   "id": "c4838d2e",
   "metadata": {},
   "outputs": [
    {
     "data": {
      "text/plain": [
       "50"
      ]
     },
     "execution_count": 39,
     "metadata": {},
     "output_type": "execute_result"
    }
   ],
   "source": [
    "s.loc['e']"
   ]
  },
  {
   "cell_type": "code",
   "execution_count": 40,
   "id": "0e943942",
   "metadata": {},
   "outputs": [
    {
     "data": {
      "text/plain": [
       "a    10\n",
       "c    30\n",
       "d    40\n",
       "dtype: int64"
      ]
     },
     "execution_count": 40,
     "metadata": {},
     "output_type": "execute_result"
    }
   ],
   "source": [
    "s.loc[['a', 'c', 'd']]"
   ]
  },
  {
   "cell_type": "code",
   "execution_count": 42,
   "id": "96661b48",
   "metadata": {},
   "outputs": [
    {
     "data": {
      "text/plain": [
       "b    20\n",
       "c    30\n",
       "d    40\n",
       "dtype: int64"
      ]
     },
     "execution_count": 42,
     "metadata": {},
     "output_type": "execute_result"
    }
   ],
   "source": [
    "# what about slices?\n",
    "\n",
    "s.loc['b':'d']  # in normal Python, this would be \"from b, up to and not including d\"\n",
    "\n",
    "# but in .loc, we include the endpoint!  It's up to and including!"
   ]
  },
  {
   "cell_type": "code",
   "execution_count": 45,
   "id": "186cee8a",
   "metadata": {},
   "outputs": [
    {
     "data": {
      "text/plain": [
       "b    20\n",
       "c    30\n",
       "dtype: int64"
      ]
     },
     "execution_count": 45,
     "metadata": {},
     "output_type": "execute_result"
    }
   ],
   "source": [
    "# if I use .iloc and numeric indexes, then the standard behavior returns\n",
    "# it's up to and *not* including\n",
    "\n",
    "s.iloc[1:3]  # 'b':'d'"
   ]
  },
  {
   "cell_type": "code",
   "execution_count": 46,
   "id": "95833ea2",
   "metadata": {},
   "outputs": [],
   "source": [
    "s = Series([10, 20, 30, 40, 50],\n",
    "          index=list('baced'))  # yes, we can have string indexes"
   ]
  },
  {
   "cell_type": "code",
   "execution_count": 47,
   "id": "b20b123a",
   "metadata": {},
   "outputs": [
    {
     "data": {
      "text/plain": [
       "b    10\n",
       "a    20\n",
       "c    30\n",
       "e    40\n",
       "d    50\n",
       "dtype: int64"
      ]
     },
     "execution_count": 47,
     "metadata": {},
     "output_type": "execute_result"
    }
   ],
   "source": [
    "s"
   ]
  },
  {
   "cell_type": "code",
   "execution_count": 48,
   "id": "cbd9d654",
   "metadata": {},
   "outputs": [
    {
     "data": {
      "text/plain": [
       "a    20\n",
       "c    30\n",
       "e    40\n",
       "dtype: int64"
      ]
     },
     "execution_count": 48,
     "metadata": {},
     "output_type": "execute_result"
    }
   ],
   "source": [
    "s.loc['a':'e']"
   ]
  },
  {
   "cell_type": "code",
   "execution_count": null,
   "id": "0019f43e",
   "metadata": {},
   "outputs": [],
   "source": []
  }
 ],
 "metadata": {
  "kernelspec": {
   "display_name": "Python 3 (ipykernel)",
   "language": "python",
   "name": "python3"
  },
  "language_info": {
   "codemirror_mode": {
    "name": "ipython",
    "version": 3
   },
   "file_extension": ".py",
   "mimetype": "text/x-python",
   "name": "python",
   "nbconvert_exporter": "python",
   "pygments_lexer": "ipython3",
   "version": "3.11.3"
  }
 },
 "nbformat": 4,
 "nbformat_minor": 5
}
