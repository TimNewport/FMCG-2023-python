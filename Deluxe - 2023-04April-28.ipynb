{
 "cells": [
  {
   "cell_type": "markdown",
   "id": "de19196b",
   "metadata": {},
   "source": [
    "# Agenda\n",
    "\n",
    "- Series (1d data structures)\n",
    "- Indexes\n",
    "- Series methods\n",
    "- `nan` and Pandas\n",
    "- Data frames (2d data structures)"
   ]
  },
  {
   "cell_type": "code",
   "execution_count": 2,
   "id": "4cfaf58b",
   "metadata": {},
   "outputs": [],
   "source": [
    "import numpy as np\n",
    "import pandas as pd\n",
    "from pandas import Series, DataFrame"
   ]
  },
  {
   "cell_type": "markdown",
   "id": "0a2747e9",
   "metadata": {},
   "source": [
    "# Apache Arrow\n",
    "\n",
    "Apache Arrow is a high-speed, in-memory database optimized for the kinds of things we do with NumPy and Pandas. It has ways to work with Pandas, R, and Spark (among other things). It also has a disk version that you can use to save and retrieve data.\n",
    "\n",
    "As of Pandas 2.0 (which came out a few weeks ago), you can use Arrow instead of NumPy in the back end.\n",
    "\n",
    "For some operations (such as searching), it's *far* faster than NumPy.\n",
    "\n",
    "For other operations (such as grouping), it's actually much slower.\n",
    "\n"
   ]
  },
  {
   "cell_type": "code",
   "execution_count": 3,
   "id": "20ad0e23",
   "metadata": {},
   "outputs": [],
   "source": [
    "# let's create a series!\n",
    "\n",
    "# this is similar to creating a 1D NumPy array\n",
    "# we pass a list of Python objects (or of a NumPy array), and we get a series out of it\n",
    "\n",
    "s = Series([10, 20, 30, 40, 50])"
   ]
  },
  {
   "cell_type": "code",
   "execution_count": 4,
   "id": "a671825f",
   "metadata": {},
   "outputs": [
    {
     "data": {
      "text/plain": [
       "pandas.core.series.Series"
      ]
     },
     "execution_count": 4,
     "metadata": {},
     "output_type": "execute_result"
    }
   ],
   "source": [
    "type(s)"
   ]
  },
  {
   "cell_type": "code",
   "execution_count": 6,
   "id": "c621fec9",
   "metadata": {},
   "outputs": [
    {
     "data": {
      "text/plain": [
       "0    10\n",
       "1    20\n",
       "2    30\n",
       "3    40\n",
       "4    50\n",
       "dtype: int64"
      ]
     },
     "execution_count": 6,
     "metadata": {},
     "output_type": "execute_result"
    }
   ],
   "source": [
    "# when we look at the representation of s,\n",
    "# we see the index (along the left side) and the \n",
    "# values (on the right side).\n",
    "\n",
    "# we also see the dtype -- just like NumPy arrays, series have dtypes\n",
    "\n",
    "s"
   ]
  },
  {
   "cell_type": "code",
   "execution_count": 8,
   "id": "d83ffc80",
   "metadata": {},
   "outputs": [
    {
     "data": {
      "text/plain": [
       "array([10, 20, 30, 40, 50])"
      ]
     },
     "execution_count": 8,
     "metadata": {},
     "output_type": "execute_result"
    }
   ],
   "source": [
    "# let's look at the values in our series\n",
    "\n",
    "s.values   # it's a NumPy array!"
   ]
  },
  {
   "cell_type": "code",
   "execution_count": 9,
   "id": "f19d5598",
   "metadata": {},
   "outputs": [
    {
     "data": {
      "text/plain": [
       "30.0"
      ]
     },
     "execution_count": 9,
     "metadata": {},
     "output_type": "execute_result"
    }
   ],
   "source": [
    "# because we have NumPy arrays in the back end, so many of the things\n",
    "# we've learned about NumPy also apply to Pandas series\n",
    "\n",
    "s.mean()"
   ]
  },
  {
   "cell_type": "code",
   "execution_count": 10,
   "id": "c3194b36",
   "metadata": {},
   "outputs": [
    {
     "data": {
      "text/plain": [
       "15.811388300841896"
      ]
     },
     "execution_count": 10,
     "metadata": {},
     "output_type": "execute_result"
    }
   ],
   "source": [
    "s.std()"
   ]
  },
  {
   "cell_type": "code",
   "execution_count": 11,
   "id": "4f5911c6",
   "metadata": {},
   "outputs": [
    {
     "data": {
      "text/plain": [
       "10"
      ]
     },
     "execution_count": 11,
     "metadata": {},
     "output_type": "execute_result"
    }
   ],
   "source": [
    "s.min()"
   ]
  },
  {
   "cell_type": "code",
   "execution_count": 12,
   "id": "f6e8321a",
   "metadata": {},
   "outputs": [
    {
     "data": {
      "text/plain": [
       "50"
      ]
     },
     "execution_count": 12,
     "metadata": {},
     "output_type": "execute_result"
    }
   ],
   "source": [
    "s.max()"
   ]
  },
  {
   "cell_type": "code",
   "execution_count": 13,
   "id": "7c612772",
   "metadata": {},
   "outputs": [
    {
     "data": {
      "text/plain": [
       "150"
      ]
     },
     "execution_count": 13,
     "metadata": {},
     "output_type": "execute_result"
    }
   ],
   "source": [
    "s.sum()"
   ]
  },
  {
   "cell_type": "code",
   "execution_count": 14,
   "id": "3d2f8eef",
   "metadata": {},
   "outputs": [
    {
     "data": {
      "text/plain": [
       "5"
      ]
     },
     "execution_count": 14,
     "metadata": {},
     "output_type": "execute_result"
    }
   ],
   "source": [
    "s.count()   # how many non-NaN values are there?"
   ]
  },
  {
   "cell_type": "code",
   "execution_count": 15,
   "id": "0055ca1e",
   "metadata": {},
   "outputs": [
    {
     "data": {
      "text/plain": [
       "0    10\n",
       "1    20\n",
       "2    30\n",
       "3    40\n",
       "4    50\n",
       "dtype: int64"
      ]
     },
     "execution_count": 15,
     "metadata": {},
     "output_type": "execute_result"
    }
   ],
   "source": [
    "s"
   ]
  },
  {
   "cell_type": "code",
   "execution_count": 16,
   "id": "2eb65854",
   "metadata": {},
   "outputs": [
    {
     "data": {
      "text/plain": [
       "30"
      ]
     },
     "execution_count": 16,
     "metadata": {},
     "output_type": "execute_result"
    }
   ],
   "source": [
    "# I can retrieve with []  -- but we'll talk about this in a moment\n",
    "s[2]"
   ]
  },
  {
   "cell_type": "code",
   "execution_count": 17,
   "id": "6d9cbae7",
   "metadata": {},
   "outputs": [
    {
     "data": {
      "text/plain": [
       "2    30\n",
       "4    50\n",
       "dtype: int64"
      ]
     },
     "execution_count": 17,
     "metadata": {},
     "output_type": "execute_result"
    }
   ],
   "source": [
    "# fancy indexing\n",
    "s[[2, 4]]"
   ]
  },
  {
   "cell_type": "code",
   "execution_count": 18,
   "id": "41b0c30d",
   "metadata": {},
   "outputs": [
    {
     "data": {
      "text/plain": [
       "40.0"
      ]
     },
     "execution_count": 18,
     "metadata": {},
     "output_type": "execute_result"
    }
   ],
   "source": [
    "# if I get a series back, then I can run any method I'd like\n",
    "s[[2, 4]].mean()"
   ]
  },
  {
   "cell_type": "markdown",
   "id": "1d5b1fde",
   "metadata": {},
   "source": [
    "# Indexes on series\n",
    "\n",
    "In NumPy, we're stuck with the same sort of numeric index as many other objects in Python use -- starting at 0, and going up to len-1.\n",
    "\n",
    "However, in Pandas, we can use any sort of data as our index, sort of like how it's done with dictionaries. This means that our series can be much more expressive."
   ]
  },
  {
   "cell_type": "code",
   "execution_count": 19,
   "id": "49cf883f",
   "metadata": {},
   "outputs": [
    {
     "data": {
      "text/plain": [
       "0    10\n",
       "1    20\n",
       "2    30\n",
       "3    40\n",
       "4    50\n",
       "dtype: int64"
      ]
     },
     "execution_count": 19,
     "metadata": {},
     "output_type": "execute_result"
    }
   ],
   "source": [
    "s"
   ]
  },
  {
   "cell_type": "code",
   "execution_count": 20,
   "id": "13d597d9",
   "metadata": {},
   "outputs": [
    {
     "data": {
      "text/plain": [
       "RangeIndex(start=0, stop=5, step=1)"
      ]
     },
     "execution_count": 20,
     "metadata": {},
     "output_type": "execute_result"
    }
   ],
   "source": [
    "# we can always replace the existing index by assigning \n",
    "# to s.index. It needs to get a list or NumPy array that's of the right length\n",
    "\n",
    "s.index"
   ]
  },
  {
   "cell_type": "code",
   "execution_count": 21,
   "id": "96d9333f",
   "metadata": {},
   "outputs": [],
   "source": [
    "s.index = [50, 51, 203, 62, 18]"
   ]
  },
  {
   "cell_type": "code",
   "execution_count": 23,
   "id": "eceffc1f",
   "metadata": {},
   "outputs": [
    {
     "data": {
      "text/plain": [
       "50     10\n",
       "51     20\n",
       "203    30\n",
       "62     40\n",
       "18     50\n",
       "dtype: int64"
      ]
     },
     "execution_count": 23,
     "metadata": {},
     "output_type": "execute_result"
    }
   ],
   "source": [
    "s  # look at the index now!"
   ]
  },
  {
   "cell_type": "code",
   "execution_count": 24,
   "id": "3f889b03",
   "metadata": {},
   "outputs": [],
   "source": [
    "# how do I retrieve from our series now?\n",
    "# the answer -- two different special accessors, .loc and .iloc\n",
    "# you can still use [] to retrieve via the index BUT DON'T DO THAT?"
   ]
  },
  {
   "cell_type": "code",
   "execution_count": 25,
   "id": "0f47c52a",
   "metadata": {},
   "outputs": [
    {
     "data": {
      "text/plain": [
       "20"
      ]
     },
     "execution_count": 25,
     "metadata": {},
     "output_type": "execute_result"
    }
   ],
   "source": [
    "s[51]  # what's wrong with this?"
   ]
  },
  {
   "cell_type": "code",
   "execution_count": 26,
   "id": "ab00d434",
   "metadata": {},
   "outputs": [
    {
     "data": {
      "text/plain": [
       "20"
      ]
     },
     "execution_count": 26,
     "metadata": {},
     "output_type": "execute_result"
    }
   ],
   "source": [
    "# if I want to retrieve via the index, I can use .loc\n",
    "# note that you use [] with .loc, not ()\n",
    "\n",
    "s.loc[51]  # retrieve the item with index 51"
   ]
  },
  {
   "cell_type": "code",
   "execution_count": 27,
   "id": "f503da18",
   "metadata": {},
   "outputs": [
    {
     "data": {
      "text/plain": [
       "40"
      ]
     },
     "execution_count": 27,
     "metadata": {},
     "output_type": "execute_result"
    }
   ],
   "source": [
    "s.loc[62]"
   ]
  },
  {
   "cell_type": "code",
   "execution_count": 28,
   "id": "61b9c53c",
   "metadata": {},
   "outputs": [
    {
     "data": {
      "text/plain": [
       "51    20\n",
       "62    40\n",
       "dtype: int64"
      ]
     },
     "execution_count": 28,
     "metadata": {},
     "output_type": "execute_result"
    }
   ],
   "source": [
    "s.loc[[51, 62]]   # retrieve the items at indexes 51 and 62"
   ]
  },
  {
   "cell_type": "code",
   "execution_count": 29,
   "id": "69702795",
   "metadata": {},
   "outputs": [
    {
     "data": {
      "text/plain": [
       "30.0"
      ]
     },
     "execution_count": 29,
     "metadata": {},
     "output_type": "execute_result"
    }
   ],
   "source": [
    "s.loc[[51, 62]].mean()   # get the mean of the items at indexes 51 + 62"
   ]
  },
  {
   "cell_type": "code",
   "execution_count": 33,
   "id": "961c477a",
   "metadata": {},
   "outputs": [
    {
     "data": {
      "text/plain": [
       "20"
      ]
     },
     "execution_count": 33,
     "metadata": {},
     "output_type": "execute_result"
    }
   ],
   "source": [
    "# what, then, is .iloc?\n",
    "# it allows us to retrieve items via their numeric position, \n",
    "# using the default integer index that we're used to in Python\n",
    "\n",
    "s.iloc[1]"
   ]
  },
  {
   "cell_type": "code",
   "execution_count": 34,
   "id": "82d79762",
   "metadata": {},
   "outputs": [
    {
     "data": {
      "text/plain": [
       "40"
      ]
     },
     "execution_count": 34,
     "metadata": {},
     "output_type": "execute_result"
    }
   ],
   "source": [
    "s.iloc[3]"
   ]
  },
  {
   "cell_type": "code",
   "execution_count": 35,
   "id": "12121a26",
   "metadata": {},
   "outputs": [
    {
     "data": {
      "text/plain": [
       "51    20\n",
       "62    40\n",
       "dtype: int64"
      ]
     },
     "execution_count": 35,
     "metadata": {},
     "output_type": "execute_result"
    }
   ],
   "source": [
    "s.iloc[[1,3]]"
   ]
  },
  {
   "cell_type": "code",
   "execution_count": 36,
   "id": "1fa4ca87",
   "metadata": {},
   "outputs": [],
   "source": [
    "# define a series with an index already\n",
    "\n",
    "s = Series([10, 20, 30, 40, 50],\n",
    "          index=list('abcde'))  # yes, we can have string indexes"
   ]
  },
  {
   "cell_type": "code",
   "execution_count": 37,
   "id": "9d218eb1",
   "metadata": {},
   "outputs": [
    {
     "data": {
      "text/plain": [
       "a    10\n",
       "b    20\n",
       "c    30\n",
       "d    40\n",
       "e    50\n",
       "dtype: int64"
      ]
     },
     "execution_count": 37,
     "metadata": {},
     "output_type": "execute_result"
    }
   ],
   "source": [
    "s"
   ]
  },
  {
   "cell_type": "code",
   "execution_count": 38,
   "id": "f3dcd123",
   "metadata": {},
   "outputs": [
    {
     "data": {
      "text/plain": [
       "30"
      ]
     },
     "execution_count": 38,
     "metadata": {},
     "output_type": "execute_result"
    }
   ],
   "source": [
    "s.loc['c']"
   ]
  },
  {
   "cell_type": "code",
   "execution_count": 39,
   "id": "1016235e",
   "metadata": {},
   "outputs": [
    {
     "data": {
      "text/plain": [
       "50"
      ]
     },
     "execution_count": 39,
     "metadata": {},
     "output_type": "execute_result"
    }
   ],
   "source": [
    "s.loc['e']"
   ]
  },
  {
   "cell_type": "code",
   "execution_count": 40,
   "id": "bf73982f",
   "metadata": {},
   "outputs": [
    {
     "data": {
      "text/plain": [
       "a    10\n",
       "c    30\n",
       "d    40\n",
       "dtype: int64"
      ]
     },
     "execution_count": 40,
     "metadata": {},
     "output_type": "execute_result"
    }
   ],
   "source": [
    "s.loc[['a', 'c', 'd']]"
   ]
  },
  {
   "cell_type": "code",
   "execution_count": 42,
   "id": "673940ac",
   "metadata": {},
   "outputs": [
    {
     "data": {
      "text/plain": [
       "b    20\n",
       "c    30\n",
       "d    40\n",
       "dtype: int64"
      ]
     },
     "execution_count": 42,
     "metadata": {},
     "output_type": "execute_result"
    }
   ],
   "source": [
    "# what about slices?\n",
    "\n",
    "s.loc['b':'d']  # in normal Python, this would be \"from b, up to and not including d\"\n",
    "\n",
    "# but in .loc, we include the endpoint!  It's up to and including!"
   ]
  },
  {
   "cell_type": "code",
   "execution_count": 45,
   "id": "abe3d8e8",
   "metadata": {},
   "outputs": [
    {
     "data": {
      "text/plain": [
       "b    20\n",
       "c    30\n",
       "dtype: int64"
      ]
     },
     "execution_count": 45,
     "metadata": {},
     "output_type": "execute_result"
    }
   ],
   "source": [
    "# if I use .iloc and numeric indexes, then the standard behavior returns\n",
    "# it's up to and *not* including\n",
    "\n",
    "s.iloc[1:3]  # 'b':'d'"
   ]
  },
  {
   "cell_type": "code",
   "execution_count": 46,
   "id": "c3ce2da9",
   "metadata": {},
   "outputs": [],
   "source": [
    "s = Series([10, 20, 30, 40, 50],\n",
    "          index=list('baced'))  # yes, we can have string indexes"
   ]
  },
  {
   "cell_type": "code",
   "execution_count": 47,
   "id": "8f79c239",
   "metadata": {},
   "outputs": [
    {
     "data": {
      "text/plain": [
       "b    10\n",
       "a    20\n",
       "c    30\n",
       "e    40\n",
       "d    50\n",
       "dtype: int64"
      ]
     },
     "execution_count": 47,
     "metadata": {},
     "output_type": "execute_result"
    }
   ],
   "source": [
    "s"
   ]
  },
  {
   "cell_type": "code",
   "execution_count": 48,
   "id": "d48fb9d0",
   "metadata": {},
   "outputs": [
    {
     "data": {
      "text/plain": [
       "a    20\n",
       "c    30\n",
       "e    40\n",
       "dtype: int64"
      ]
     },
     "execution_count": 48,
     "metadata": {},
     "output_type": "execute_result"
    }
   ],
   "source": [
    "s.loc['a':'e']"
   ]
  },
  {
   "cell_type": "code",
   "execution_count": 49,
   "id": "a5f88c3b",
   "metadata": {},
   "outputs": [
    {
     "data": {
      "text/plain": [
       "Series([], dtype: int64)"
      ]
     },
     "execution_count": 49,
     "metadata": {},
     "output_type": "execute_result"
    }
   ],
   "source": [
    "s.loc['e':'a']"
   ]
  },
  {
   "cell_type": "code",
   "execution_count": 51,
   "id": "4eb9c78d",
   "metadata": {},
   "outputs": [
    {
     "data": {
      "text/plain": [
       "e    40\n",
       "c    30\n",
       "a    20\n",
       "dtype: int64"
      ]
     },
     "execution_count": 51,
     "metadata": {},
     "output_type": "execute_result"
    }
   ],
   "source": [
    "s.loc['e':'a':-1]  # from 'e', until (and including) 'a', step size -1"
   ]
  },
  {
   "cell_type": "markdown",
   "id": "c171f0bf",
   "metadata": {},
   "source": [
    "# Exercises: Series and indexes\n",
    "\n",
    "1. Create a series containing 10 random integers, with index a-j.\n",
    "2. Retrieve the item at index b.\n",
    "3. Retrieve the items at indexes c, d, and f\n",
    "4. What is the mean of the items at indexes a, e, g, and h?\n",
    "5. What is the mean of the items with even numeric (positional) indexes?"
   ]
  },
  {
   "cell_type": "code",
   "execution_count": 58,
   "id": "4dafee90",
   "metadata": {
    "scrolled": true
   },
   "outputs": [
    {
     "data": {
      "text/plain": [
       "ab    44\n",
       "cd    47\n",
       "ef    64\n",
       "gh    67\n",
       "ij    67\n",
       "kl     9\n",
       "mn    83\n",
       "op    21\n",
       "qr    36\n",
       "st    87\n",
       "dtype: int64"
      ]
     },
     "execution_count": 58,
     "metadata": {},
     "output_type": "execute_result"
    }
   ],
   "source": [
    "# 1. Create a series containing 10 random integers, with index a-j.\n",
    "\n",
    "np.random.seed(0)\n",
    "s = Series(np.random.randint(0, 100, 10),\n",
    "          index='ab cd ef gh ij kl mn op qr st'.split())\n",
    "s"
   ]
  },
  {
   "cell_type": "code",
   "execution_count": 59,
   "id": "8cebe94a",
   "metadata": {},
   "outputs": [
    {
     "data": {
      "text/plain": [
       "a    44\n",
       "b    47\n",
       "c    64\n",
       "d    67\n",
       "e    67\n",
       "f     9\n",
       "g    83\n",
       "h    21\n",
       "i    36\n",
       "j    87\n",
       "dtype: int64"
      ]
     },
     "execution_count": 59,
     "metadata": {},
     "output_type": "execute_result"
    }
   ],
   "source": [
    "# 1. Create a series containing 10 random integers, with index a-j.\n",
    "\n",
    "np.random.seed(0)\n",
    "s = Series(np.random.randint(0, 100, 10),\n",
    "          index=list('abcdefghij'))\n",
    "s"
   ]
  },
  {
   "cell_type": "code",
   "execution_count": 60,
   "id": "09482067",
   "metadata": {},
   "outputs": [
    {
     "data": {
      "text/plain": [
       "47"
      ]
     },
     "execution_count": 60,
     "metadata": {},
     "output_type": "execute_result"
    }
   ],
   "source": [
    "# 2. Retrieve the item at index b.\n",
    "s.loc['b']"
   ]
  },
  {
   "cell_type": "code",
   "execution_count": 61,
   "id": "60899579",
   "metadata": {},
   "outputs": [
    {
     "data": {
      "text/plain": [
       "c    64\n",
       "d    67\n",
       "f     9\n",
       "dtype: int64"
      ]
     },
     "execution_count": 61,
     "metadata": {},
     "output_type": "execute_result"
    }
   ],
   "source": [
    "# 3. Retrieve the items at indexes c, d, and f\n",
    "\n",
    "s.loc[['c', 'd', 'f']]"
   ]
  },
  {
   "cell_type": "code",
   "execution_count": 63,
   "id": "c8ecd69a",
   "metadata": {},
   "outputs": [
    {
     "data": {
      "text/plain": [
       "53.75"
      ]
     },
     "execution_count": 63,
     "metadata": {},
     "output_type": "execute_result"
    }
   ],
   "source": [
    "# 4. What is the mean of the items at indexes a, e, g, and h?\n",
    "\n",
    "s.loc[['a', 'e', 'g', 'h']].mean()"
   ]
  },
  {
   "cell_type": "code",
   "execution_count": 65,
   "id": "1a749638",
   "metadata": {},
   "outputs": [
    {
     "data": {
      "text/plain": [
       "53.75"
      ]
     },
     "execution_count": 65,
     "metadata": {},
     "output_type": "execute_result"
    }
   ],
   "source": [
    "# Matt Harrison style\n",
    "# If we open parentheses, then we have much more flexibility with indentation and lines\n",
    "\n",
    "(\n",
    "    s.       # start with our series\n",
    "    loc[['a', 'e', 'g', 'h']].   # retrieve four items\n",
    "    mean()   # calculate their mean\n",
    ")"
   ]
  },
  {
   "cell_type": "code",
   "execution_count": 67,
   "id": "eca50442",
   "metadata": {},
   "outputs": [
    {
     "data": {
      "text/plain": [
       "a    44\n",
       "c    64\n",
       "e    67\n",
       "g    83\n",
       "i    36\n",
       "dtype: int64"
      ]
     },
     "execution_count": 67,
     "metadata": {},
     "output_type": "execute_result"
    }
   ],
   "source": [
    "# 5. What is the mean of the items with even numeric (positional) indexes?\n",
    "\n",
    "s.iloc[[0, 2, 4, 6, 8]]"
   ]
  },
  {
   "cell_type": "code",
   "execution_count": 69,
   "id": "99662b18",
   "metadata": {},
   "outputs": [
    {
     "data": {
      "text/plain": [
       "a    44\n",
       "c    64\n",
       "e    67\n",
       "g    83\n",
       "i    36\n",
       "dtype: int64"
      ]
     },
     "execution_count": 69,
     "metadata": {},
     "output_type": "execute_result"
    }
   ],
   "source": [
    "# a more elegant way?\n",
    "\n",
    "s.iloc[::2]   # use iloc along with a numeric slice"
   ]
  },
  {
   "cell_type": "markdown",
   "id": "88ced937",
   "metadata": {},
   "source": [
    "# Some useful methods\n",
    "\n",
    "Pandas provides us with lots of methods that we can use to better work with and understand our data. These go above and beyond what NumPy offers."
   ]
  },
  {
   "cell_type": "code",
   "execution_count": 70,
   "id": "f03dd239",
   "metadata": {},
   "outputs": [
    {
     "data": {
      "text/plain": [
       "a    44\n",
       "b    47\n",
       "c    64\n",
       "d    67\n",
       "e    67\n",
       "dtype: int64"
      ]
     },
     "execution_count": 70,
     "metadata": {},
     "output_type": "execute_result"
    }
   ],
   "source": [
    "s.head()   # return the first 5 elements"
   ]
  },
  {
   "cell_type": "code",
   "execution_count": 71,
   "id": "98158c2b",
   "metadata": {},
   "outputs": [
    {
     "data": {
      "text/plain": [
       "a    44\n",
       "b    47\n",
       "c    64\n",
       "dtype: int64"
      ]
     },
     "execution_count": 71,
     "metadata": {},
     "output_type": "execute_result"
    }
   ],
   "source": [
    "s.head(3)   # return the first 3 elements"
   ]
  },
  {
   "cell_type": "code",
   "execution_count": 72,
   "id": "397a95a2",
   "metadata": {},
   "outputs": [
    {
     "data": {
      "text/plain": [
       "f     9\n",
       "g    83\n",
       "h    21\n",
       "i    36\n",
       "j    87\n",
       "dtype: int64"
      ]
     },
     "execution_count": 72,
     "metadata": {},
     "output_type": "execute_result"
    }
   ],
   "source": [
    "s.tail()   # return the final 5 elements"
   ]
  },
  {
   "cell_type": "code",
   "execution_count": 73,
   "id": "7fe93cdd",
   "metadata": {},
   "outputs": [
    {
     "data": {
      "text/plain": [
       "h    21\n",
       "i    36\n",
       "j    87\n",
       "dtype: int64"
      ]
     },
     "execution_count": 73,
     "metadata": {},
     "output_type": "execute_result"
    }
   ],
   "source": [
    "s.tail(3)  # return the final 3 elements"
   ]
  },
  {
   "cell_type": "code",
   "execution_count": 74,
   "id": "334fa6de",
   "metadata": {},
   "outputs": [
    {
     "data": {
      "text/plain": [
       "count    10.000000\n",
       "mean     52.500000\n",
       "std      25.674241\n",
       "min       9.000000\n",
       "25%      38.000000\n",
       "50%      55.500000\n",
       "75%      67.000000\n",
       "max      87.000000\n",
       "dtype: float64"
      ]
     },
     "execution_count": 74,
     "metadata": {},
     "output_type": "execute_result"
    }
   ],
   "source": [
    "s.describe()   # returns descriptive statistics for our series"
   ]
  },
  {
   "cell_type": "code",
   "execution_count": 75,
   "id": "5b5cc20f",
   "metadata": {},
   "outputs": [
    {
     "data": {
      "text/plain": [
       "52.5"
      ]
     },
     "execution_count": 75,
     "metadata": {},
     "output_type": "execute_result"
    }
   ],
   "source": [
    "# I could do this (but don't!)\n",
    "\n",
    "s.describe().loc['mean']"
   ]
  },
  {
   "cell_type": "code",
   "execution_count": 76,
   "id": "3e820d12",
   "metadata": {},
   "outputs": [
    {
     "data": {
      "text/plain": [
       "mean    52.500000\n",
       "std     25.674241\n",
       "dtype: float64"
      ]
     },
     "execution_count": 76,
     "metadata": {},
     "output_type": "execute_result"
    }
   ],
   "source": [
    "# sometimes (maybe) you might want to do this:\n",
    "\n",
    "s.describe().loc[['mean', 'std']]"
   ]
  },
  {
   "cell_type": "code",
   "execution_count": null,
   "id": "273f8f02",
   "metadata": {},
   "outputs": [],
   "source": []
  }
 ],
 "metadata": {
  "kernelspec": {
   "display_name": "Python 3 (ipykernel)",
   "language": "python",
   "name": "python3"
  },
  "language_info": {
   "codemirror_mode": {
    "name": "ipython",
    "version": 3
   },
   "file_extension": ".py",
   "mimetype": "text/x-python",
   "name": "python",
   "nbconvert_exporter": "python",
   "pygments_lexer": "ipython3",
   "version": "3.11.3"
  }
 },
 "nbformat": 4,
 "nbformat_minor": 5
}
