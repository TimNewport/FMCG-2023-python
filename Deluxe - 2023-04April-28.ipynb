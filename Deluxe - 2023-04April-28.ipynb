{
 "cells": [
  {
   "cell_type": "markdown",
   "id": "de19196b",
   "metadata": {},
   "source": [
    "# Agenda\n",
    "\n",
    "- Series (1d data structures)\n",
    "- Indexes\n",
    "- Series methods\n",
    "- `nan` and Pandas\n",
    "- Data frames (2d data structures)"
   ]
  },
  {
   "cell_type": "code",
   "execution_count": 2,
   "id": "1c844a7a",
   "metadata": {},
   "outputs": [],
   "source": [
    "import numpy as np\n",
    "import pandas as pd\n",
    "from pandas import Series, DataFrame"
   ]
  },
  {
   "cell_type": "markdown",
   "id": "7efbcbd5",
   "metadata": {},
   "source": [
    "# Apache Arrow\n",
    "\n",
    "Apache Arrow is a high-speed, in-memory database optimized for the kinds of things we do with NumPy and Pandas. It has ways to work with Pandas, R, and Spark (among other things). It also has a disk version that you can use to save and retrieve data.\n",
    "\n",
    "As of Pandas 2.0 (which came out a few weeks ago), you can use Arrow instead of NumPy in the back end.\n",
    "\n",
    "For some operations (such as searching), it's *far* faster than NumPy.\n",
    "\n",
    "For other operations (such as grouping), it's actually much slower.\n",
    "\n"
   ]
  },
  {
   "cell_type": "code",
   "execution_count": 3,
   "id": "64d7595c",
   "metadata": {},
   "outputs": [],
   "source": [
    "# let's create a series!\n",
    "\n",
    "# this is similar to creating a 1D NumPy array\n",
    "# we pass a list of Python objects (or of a NumPy array), and we get a series out of it\n",
    "\n",
    "s = Series([10, 20, 30, 40, 50])"
   ]
  },
  {
   "cell_type": "code",
   "execution_count": 4,
   "id": "a5dc0301",
   "metadata": {},
   "outputs": [
    {
     "data": {
      "text/plain": [
       "pandas.core.series.Series"
      ]
     },
     "execution_count": 4,
     "metadata": {},
     "output_type": "execute_result"
    }
   ],
   "source": [
    "type(s)"
   ]
  },
  {
   "cell_type": "code",
   "execution_count": 6,
   "id": "78b3e430",
   "metadata": {},
   "outputs": [
    {
     "data": {
      "text/plain": [
       "0    10\n",
       "1    20\n",
       "2    30\n",
       "3    40\n",
       "4    50\n",
       "dtype: int64"
      ]
     },
     "execution_count": 6,
     "metadata": {},
     "output_type": "execute_result"
    }
   ],
   "source": [
    "# when we look at the representation of s,\n",
    "# we see the index (along the left side) and the \n",
    "# values (on the right side).\n",
    "\n",
    "# we also see the dtype -- just like NumPy arrays, series have dtypes\n",
    "\n",
    "s"
   ]
  },
  {
   "cell_type": "code",
   "execution_count": 8,
   "id": "d564f73c",
   "metadata": {},
   "outputs": [
    {
     "data": {
      "text/plain": [
       "array([10, 20, 30, 40, 50])"
      ]
     },
     "execution_count": 8,
     "metadata": {},
     "output_type": "execute_result"
    }
   ],
   "source": [
    "# let's look at the values in our series\n",
    "\n",
    "s.values   # it's a NumPy array!"
   ]
  },
  {
   "cell_type": "code",
   "execution_count": 9,
   "id": "299af036",
   "metadata": {},
   "outputs": [
    {
     "data": {
      "text/plain": [
       "30.0"
      ]
     },
     "execution_count": 9,
     "metadata": {},
     "output_type": "execute_result"
    }
   ],
   "source": [
    "# because we have NumPy arrays in the back end, so many of the things\n",
    "# we've learned about NumPy also apply to Pandas series\n",
    "\n",
    "s.mean()"
   ]
  },
  {
   "cell_type": "code",
   "execution_count": 10,
   "id": "c10fa4e3",
   "metadata": {},
   "outputs": [
    {
     "data": {
      "text/plain": [
       "15.811388300841896"
      ]
     },
     "execution_count": 10,
     "metadata": {},
     "output_type": "execute_result"
    }
   ],
   "source": [
    "s.std()"
   ]
  },
  {
   "cell_type": "code",
   "execution_count": 11,
   "id": "c08d3ed3",
   "metadata": {},
   "outputs": [
    {
     "data": {
      "text/plain": [
       "10"
      ]
     },
     "execution_count": 11,
     "metadata": {},
     "output_type": "execute_result"
    }
   ],
   "source": [
    "s.min()"
   ]
  },
  {
   "cell_type": "code",
   "execution_count": 12,
   "id": "d649e4d5",
   "metadata": {},
   "outputs": [
    {
     "data": {
      "text/plain": [
       "50"
      ]
     },
     "execution_count": 12,
     "metadata": {},
     "output_type": "execute_result"
    }
   ],
   "source": [
    "s.max()"
   ]
  },
  {
   "cell_type": "code",
   "execution_count": 13,
   "id": "97eff502",
   "metadata": {},
   "outputs": [
    {
     "data": {
      "text/plain": [
       "150"
      ]
     },
     "execution_count": 13,
     "metadata": {},
     "output_type": "execute_result"
    }
   ],
   "source": [
    "s.sum()"
   ]
  },
  {
   "cell_type": "code",
   "execution_count": 14,
   "id": "052b4213",
   "metadata": {},
   "outputs": [
    {
     "data": {
      "text/plain": [
       "5"
      ]
     },
     "execution_count": 14,
     "metadata": {},
     "output_type": "execute_result"
    }
   ],
   "source": [
    "s.count()   # how many non-NaN values are there?"
   ]
  },
  {
   "cell_type": "code",
   "execution_count": 15,
   "id": "a9837648",
   "metadata": {},
   "outputs": [
    {
     "data": {
      "text/plain": [
       "0    10\n",
       "1    20\n",
       "2    30\n",
       "3    40\n",
       "4    50\n",
       "dtype: int64"
      ]
     },
     "execution_count": 15,
     "metadata": {},
     "output_type": "execute_result"
    }
   ],
   "source": [
    "s"
   ]
  },
  {
   "cell_type": "code",
   "execution_count": 16,
   "id": "57597982",
   "metadata": {},
   "outputs": [
    {
     "data": {
      "text/plain": [
       "30"
      ]
     },
     "execution_count": 16,
     "metadata": {},
     "output_type": "execute_result"
    }
   ],
   "source": [
    "# I can retrieve with []  -- but we'll talk about this in a moment\n",
    "s[2]"
   ]
  },
  {
   "cell_type": "code",
   "execution_count": 17,
   "id": "03138c60",
   "metadata": {},
   "outputs": [
    {
     "data": {
      "text/plain": [
       "2    30\n",
       "4    50\n",
       "dtype: int64"
      ]
     },
     "execution_count": 17,
     "metadata": {},
     "output_type": "execute_result"
    }
   ],
   "source": [
    "# fancy indexing\n",
    "s[[2, 4]]"
   ]
  },
  {
   "cell_type": "code",
   "execution_count": 18,
   "id": "8377329c",
   "metadata": {},
   "outputs": [
    {
     "data": {
      "text/plain": [
       "40.0"
      ]
     },
     "execution_count": 18,
     "metadata": {},
     "output_type": "execute_result"
    }
   ],
   "source": [
    "# if I get a series back, then I can run any method I'd like\n",
    "s[[2, 4]].mean()"
   ]
  },
  {
   "cell_type": "markdown",
   "id": "edf5a604",
   "metadata": {},
   "source": [
    "# Indexes on series\n",
    "\n",
    "In NumPy, we're stuck with the same sort of numeric index as many other objects in Python use -- starting at 0, and going up to len-1.\n",
    "\n",
    "However, in Pandas, we can use any sort of data as our index, sort of like how it's done with dictionaries. This means that our series can be much more expressive."
   ]
  },
  {
   "cell_type": "code",
   "execution_count": 19,
   "id": "a3a49464",
   "metadata": {},
   "outputs": [
    {
     "data": {
      "text/plain": [
       "0    10\n",
       "1    20\n",
       "2    30\n",
       "3    40\n",
       "4    50\n",
       "dtype: int64"
      ]
     },
     "execution_count": 19,
     "metadata": {},
     "output_type": "execute_result"
    }
   ],
   "source": [
    "s"
   ]
  },
  {
   "cell_type": "code",
   "execution_count": 20,
   "id": "c2416724",
   "metadata": {},
   "outputs": [
    {
     "data": {
      "text/plain": [
       "RangeIndex(start=0, stop=5, step=1)"
      ]
     },
     "execution_count": 20,
     "metadata": {},
     "output_type": "execute_result"
    }
   ],
   "source": [
    "# we can always replace the existing index by assigning \n",
    "# to s.index. It needs to get a list or NumPy array that's of the right length\n",
    "\n",
    "s.index"
   ]
  },
  {
   "cell_type": "code",
   "execution_count": 21,
   "id": "3cfd8e8c",
   "metadata": {},
   "outputs": [],
   "source": [
    "s.index = [50, 51, 203, 62, 18]"
   ]
  },
  {
   "cell_type": "code",
   "execution_count": 23,
   "id": "3c9fdd9b",
   "metadata": {},
   "outputs": [
    {
     "data": {
      "text/plain": [
       "50     10\n",
       "51     20\n",
       "203    30\n",
       "62     40\n",
       "18     50\n",
       "dtype: int64"
      ]
     },
     "execution_count": 23,
     "metadata": {},
     "output_type": "execute_result"
    }
   ],
   "source": [
    "s  # look at the index now!"
   ]
  },
  {
   "cell_type": "code",
   "execution_count": null,
   "id": "73bed1f5",
   "metadata": {},
   "outputs": [],
   "source": [
    "# how do I retrieve from our series now?\n",
    "# the answer -- two different special accessors, .loc and .iloc\n",
    "# you can still use [] to retrieve via the index B"
   ]
  }
 ],
 "metadata": {
  "kernelspec": {
   "display_name": "Python 3 (ipykernel)",
   "language": "python",
   "name": "python3"
  },
  "language_info": {
   "codemirror_mode": {
    "name": "ipython",
    "version": 3
   },
   "file_extension": ".py",
   "mimetype": "text/x-python",
   "name": "python",
   "nbconvert_exporter": "python",
   "pygments_lexer": "ipython3",
   "version": "3.11.3"
  }
 },
 "nbformat": 4,
 "nbformat_minor": 5
}
