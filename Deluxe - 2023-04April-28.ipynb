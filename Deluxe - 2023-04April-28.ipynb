{
 "cells": [
  {
   "cell_type": "markdown",
   "id": "de19196b",
   "metadata": {},
   "source": [
    "# Agenda\n",
    "\n",
    "- Series (1d data structures)\n",
    "- Indexes\n",
    "- Series methods\n",
    "- `nan` and Pandas\n",
    "- Data frames (2d data structures)"
   ]
  },
  {
   "cell_type": "code",
   "execution_count": 2,
   "id": "e7be5b2c",
   "metadata": {},
   "outputs": [],
   "source": [
    "import numpy as np\n",
    "import pandas as pd\n",
    "from pandas import Series, DataFrame"
   ]
  },
  {
   "cell_type": "markdown",
   "id": "6fcca910",
   "metadata": {},
   "source": [
    "# Apache Arrow\n",
    "\n",
    "Apache Arrow is a high-speed, in-memory database optimized for the kinds of things we do with NumPy and Pandas. It has ways to work with Pandas, R, and Spark (among other things). It also has a disk version that you can use to save and retrieve data.\n",
    "\n",
    "As of Pandas 2.0 (which came out a few weeks ago), you can use Arrow instead of NumPy in the back end.\n",
    "\n",
    "For some operations (such as searching), it's *far* faster than NumPy.\n",
    "\n",
    "For other operations (such as grouping), it's actually much slower.\n",
    "\n"
   ]
  },
  {
   "cell_type": "code",
   "execution_count": 3,
   "id": "001df2be",
   "metadata": {},
   "outputs": [],
   "source": [
    "# let's create a series!\n",
    "\n",
    "# this is similar to creating a 1D NumPy array\n",
    "# we pass a list of Python objects (or of a NumPy array), and we get a series out of it\n",
    "\n",
    "s = Series([10, 20, 30, 40, 50])"
   ]
  },
  {
   "cell_type": "code",
   "execution_count": 4,
   "id": "16e1d58b",
   "metadata": {},
   "outputs": [
    {
     "data": {
      "text/plain": [
       "pandas.core.series.Series"
      ]
     },
     "execution_count": 4,
     "metadata": {},
     "output_type": "execute_result"
    }
   ],
   "source": [
    "type(s)"
   ]
  },
  {
   "cell_type": "code",
   "execution_count": 6,
   "id": "7fb08d39",
   "metadata": {},
   "outputs": [
    {
     "data": {
      "text/plain": [
       "0    10\n",
       "1    20\n",
       "2    30\n",
       "3    40\n",
       "4    50\n",
       "dtype: int64"
      ]
     },
     "execution_count": 6,
     "metadata": {},
     "output_type": "execute_result"
    }
   ],
   "source": [
    "# when we look at the representation of s,\n",
    "# we see the index (along the left side) and the \n",
    "# values (on the right side).\n",
    "\n",
    "# we also see the dtype -- just like NumPy arrays, series have dtypes\n",
    "\n",
    "s"
   ]
  },
  {
   "cell_type": "code",
   "execution_count": 8,
   "id": "788ba927",
   "metadata": {},
   "outputs": [
    {
     "data": {
      "text/plain": [
       "array([10, 20, 30, 40, 50])"
      ]
     },
     "execution_count": 8,
     "metadata": {},
     "output_type": "execute_result"
    }
   ],
   "source": [
    "# let's look at the values in our series\n",
    "\n",
    "s.values   # it's a NumPy array!"
   ]
  },
  {
   "cell_type": "code",
   "execution_count": 9,
   "id": "9ec1869d",
   "metadata": {},
   "outputs": [
    {
     "data": {
      "text/plain": [
       "30.0"
      ]
     },
     "execution_count": 9,
     "metadata": {},
     "output_type": "execute_result"
    }
   ],
   "source": [
    "# because we have NumPy arrays in the back end, so many of the things\n",
    "# we've learned about NumPy also apply to Pandas series\n",
    "\n",
    "s.mean()"
   ]
  },
  {
   "cell_type": "code",
   "execution_count": 10,
   "id": "72cb1416",
   "metadata": {},
   "outputs": [
    {
     "data": {
      "text/plain": [
       "15.811388300841896"
      ]
     },
     "execution_count": 10,
     "metadata": {},
     "output_type": "execute_result"
    }
   ],
   "source": [
    "s.std()"
   ]
  },
  {
   "cell_type": "code",
   "execution_count": 11,
   "id": "8770ef5e",
   "metadata": {},
   "outputs": [
    {
     "data": {
      "text/plain": [
       "10"
      ]
     },
     "execution_count": 11,
     "metadata": {},
     "output_type": "execute_result"
    }
   ],
   "source": [
    "s.min()"
   ]
  },
  {
   "cell_type": "code",
   "execution_count": 12,
   "id": "c8dbb01f",
   "metadata": {},
   "outputs": [
    {
     "data": {
      "text/plain": [
       "50"
      ]
     },
     "execution_count": 12,
     "metadata": {},
     "output_type": "execute_result"
    }
   ],
   "source": [
    "s.max()"
   ]
  },
  {
   "cell_type": "code",
   "execution_count": 13,
   "id": "93595467",
   "metadata": {},
   "outputs": [
    {
     "data": {
      "text/plain": [
       "150"
      ]
     },
     "execution_count": 13,
     "metadata": {},
     "output_type": "execute_result"
    }
   ],
   "source": [
    "s.sum()"
   ]
  },
  {
   "cell_type": "code",
   "execution_count": 14,
   "id": "c707bce2",
   "metadata": {},
   "outputs": [
    {
     "data": {
      "text/plain": [
       "5"
      ]
     },
     "execution_count": 14,
     "metadata": {},
     "output_type": "execute_result"
    }
   ],
   "source": [
    "s.count()   # how many non-NaN values are there?"
   ]
  },
  {
   "cell_type": "code",
   "execution_count": 15,
   "id": "db4d7671",
   "metadata": {},
   "outputs": [
    {
     "data": {
      "text/plain": [
       "0    10\n",
       "1    20\n",
       "2    30\n",
       "3    40\n",
       "4    50\n",
       "dtype: int64"
      ]
     },
     "execution_count": 15,
     "metadata": {},
     "output_type": "execute_result"
    }
   ],
   "source": [
    "s"
   ]
  },
  {
   "cell_type": "code",
   "execution_count": 16,
   "id": "22c9d297",
   "metadata": {},
   "outputs": [
    {
     "data": {
      "text/plain": [
       "30"
      ]
     },
     "execution_count": 16,
     "metadata": {},
     "output_type": "execute_result"
    }
   ],
   "source": [
    "# I can retrieve with []  -- but we'll talk about this in a moment\n",
    "s[2]"
   ]
  },
  {
   "cell_type": "code",
   "execution_count": 17,
   "id": "44a7c3fe",
   "metadata": {},
   "outputs": [
    {
     "data": {
      "text/plain": [
       "2    30\n",
       "4    50\n",
       "dtype: int64"
      ]
     },
     "execution_count": 17,
     "metadata": {},
     "output_type": "execute_result"
    }
   ],
   "source": [
    "# fancy indexing\n",
    "s[[2, 4]]"
   ]
  },
  {
   "cell_type": "code",
   "execution_count": 18,
   "id": "881d2347",
   "metadata": {},
   "outputs": [
    {
     "data": {
      "text/plain": [
       "40.0"
      ]
     },
     "execution_count": 18,
     "metadata": {},
     "output_type": "execute_result"
    }
   ],
   "source": [
    "# if I get a series back, then I can run any method I'd like\n",
    "s[[2, 4]].mean()"
   ]
  },
  {
   "cell_type": "code",
   "execution_count": null,
   "id": "e170e864",
   "metadata": {},
   "outputs": [],
   "source": []
  }
 ],
 "metadata": {
  "kernelspec": {
   "display_name": "Python 3 (ipykernel)",
   "language": "python",
   "name": "python3"
  },
  "language_info": {
   "codemirror_mode": {
    "name": "ipython",
    "version": 3
   },
   "file_extension": ".py",
   "mimetype": "text/x-python",
   "name": "python",
   "nbconvert_exporter": "python",
   "pygments_lexer": "ipython3",
   "version": "3.11.3"
  }
 },
 "nbformat": 4,
 "nbformat_minor": 5
}
