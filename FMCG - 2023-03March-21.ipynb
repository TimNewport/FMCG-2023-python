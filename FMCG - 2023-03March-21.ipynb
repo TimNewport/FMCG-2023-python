{
 "cells": [
  {
   "cell_type": "markdown",
   "metadata": {},
   "source": [
    "# Agenda\n",
    "\n",
    "1. Python\n",
    "    1. Variables and values\n",
    "    2. Conditionals and comparison\n",
    "    3. Numbers (integers and floats)\n",
    "    4. Strings\n",
    "    5. Lists and tuples\n",
    "    6. Dictionaries and sets\n",
    "    7. Files\n",
    "    8. Functions\n",
    "    9. Comprehensions\n",
    "    10. Modules \n",
    "2. Pandas\n",
    "    1. NumPy\n",
    "    2. Series\n",
    "    3. Data frames\n",
    "    4. Loading data from various formats (CSV, Excel, JSON, and basic SQL)\n",
    "    5. Working with large files\n",
    "    6. Grouping and pivot tables\n",
    "    7. Window functions\n",
    "    8. Sorting\n",
    "    9. Plotting\n",
    "    10. PySpark"
   ]
  },
  {
   "cell_type": "code",
   "execution_count": 1,
   "metadata": {
    "scrolled": true
   },
   "outputs": [
    {
     "name": "stdout",
     "output_type": "stream",
     "text": [
      "Hello, world!\n"
     ]
    }
   ],
   "source": [
    "print('Hello, world!')"
   ]
  },
  {
   "cell_type": "markdown",
   "metadata": {},
   "source": [
    "My configuration:\n",
    "\n",
    "- I run Jupyter on my computer, and it saves every 1-2 minutes.\n",
    "- In that directory, I'm running `gitautopush`\n",
    "- The directory is connected to a GitHub repo, to which it pushes automatically every 2-3 minutes"
   ]
  },
  {
   "cell_type": "code",
   "execution_count": 3,
   "metadata": {},
   "outputs": [],
   "source": [
    "# assignment is done with the = operator\n",
    "# whatever is on the right should be assigned to the variable on the left\n",
    "# Python is a dynamic language -- variables don't have specific types -- any variable can contain any value\n",
    "\n",
    "x = 100"
   ]
  },
  {
   "cell_type": "code",
   "execution_count": 4,
   "metadata": {},
   "outputs": [
    {
     "data": {
      "text/plain": [
       "int"
      ]
     },
     "execution_count": 4,
     "metadata": {},
     "output_type": "execute_result"
    }
   ],
   "source": [
    "type(x)   # I'm asking -- what kind of value is x containing?"
   ]
  },
  {
   "cell_type": "code",
   "execution_count": 5,
   "metadata": {},
   "outputs": [
    {
     "data": {
      "text/plain": [
       "str"
      ]
     },
     "execution_count": 5,
     "metadata": {},
     "output_type": "execute_result"
    }
   ],
   "source": [
    "x = 'abcde'\n",
    "\n",
    "type(x)"
   ]
  },
  {
   "cell_type": "code",
   "execution_count": 6,
   "metadata": {},
   "outputs": [
    {
     "name": "stdout",
     "output_type": "stream",
     "text": [
      "30\n"
     ]
    }
   ],
   "source": [
    "x = 10\n",
    "y = 20\n",
    "\n",
    "# let's add these numbers together!\n",
    "# print lets us display anything we want on the screen\n",
    "\n",
    "print(x+y)"
   ]
  },
  {
   "cell_type": "code",
   "execution_count": 7,
   "metadata": {},
   "outputs": [
    {
     "data": {
      "text/plain": [
       "30"
      ]
     },
     "execution_count": 7,
     "metadata": {},
     "output_type": "execute_result"
    }
   ],
   "source": [
    "# in Jupyter and *ONLY* in Jupyter, we can just put an expression in our cell\n",
    "# and if it's on the last line, we'll see the value\n",
    "\n",
    "x + y"
   ]
  },
  {
   "cell_type": "markdown",
   "metadata": {},
   "source": [
    "# Some more notes\n",
    "\n",
    "1. A comment in Python starts with `#` and goes to the end of the line. There is no way to do comments on multiple lines. However, if you highlight a few lines and then use control-/, it will comment/uncomment those lines in Jupyter (and many other editors).\n",
    "2. If I want to execute all of the code in a cell, then I use shift+ENTER."
   ]
  },
  {
   "cell_type": "markdown",
   "metadata": {},
   "source": [
    "# Some Jupyter commands and notes\n",
    "\n",
    "Jupyter has two different modes:\n",
    "\n",
    "- Edit mode -- the outline is green, and typing actually puts content into the cell (like right now). We can enter edit mode by clicking inside of the cell or by pressing ENTER.\n",
    "- Command mode -- the outline is blue, and typing sends commands to Jupyter, not to the cell.  We can enter command mode by clicking to the left of the cell or pressing ESC.\n",
    "\n",
    "Some commands in command mode:\n",
    "\n",
    "- `c` -- copy the current cell\n",
    "- `v` -- paste the curent cell\n",
    "- `x` -- cut the current cell\n",
    "- `z` -- undo the last cut\n",
    "- `y` -- turn the cell into a code cell\n",
    "- `m` -- turn it into a Markdown (documentation) cell\n",
    "- `a` -- add a new cell above the current one\n",
    "- `b` -- add a new cell below the current one\n",
    "- `h` -- help with all commands\n",
    "\n",
    "\n",
    "This is formatted Python code:\n",
    "\n",
    "```python\n",
    "x = 100\n",
    "print(x * 'a')\n",
    "```"
   ]
  },
  {
   "cell_type": "code",
   "execution_count": null,
   "metadata": {},
   "outputs": [],
   "source": []
  }
 ],
 "metadata": {
  "kernelspec": {
   "display_name": "Python 3 (ipykernel)",
   "language": "python",
   "name": "python3"
  },
  "language_info": {
   "codemirror_mode": {
    "name": "ipython",
    "version": 3
   },
   "file_extension": ".py",
   "mimetype": "text/x-python",
   "name": "python",
   "nbconvert_exporter": "python",
   "pygments_lexer": "ipython3",
   "version": "3.11.2"
  }
 },
 "nbformat": 4,
 "nbformat_minor": 4
}
