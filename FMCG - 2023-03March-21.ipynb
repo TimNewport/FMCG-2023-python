{
 "cells": [
  {
   "cell_type": "markdown",
   "metadata": {},
   "source": [
    "# Agenda\n",
    "\n",
    "1. Python\n",
    "    1. Variables and values\n",
    "    2. Conditionals and comparison\n",
    "    3. Numbers (integers and floats)\n",
    "    4. Strings\n",
    "    5. Lists and tuples\n",
    "    6. Dictionaries and sets\n",
    "    7. Files\n",
    "    8. Functions\n",
    "    9. Comprehensions\n",
    "    10. Modules \n",
    "2. Pandas\n",
    "    1. NumPy\n",
    "    2. Series\n",
    "    3. Data frames\n",
    "    4. Loading data from various formats (CSV, Excel, JSON, and basic SQL)\n",
    "    5. Working with large files\n",
    "    6. Grouping and pivot tables\n",
    "    7. Window functions\n",
    "    8. Sorting\n",
    "    9. Plotting\n",
    "    10. PySpark"
   ]
  },
  {
   "cell_type": "code",
   "execution_count": 1,
   "metadata": {
    "scrolled": true
   },
   "outputs": [
    {
     "name": "stdout",
     "output_type": "stream",
     "text": [
      "Hello, world!\n"
     ]
    }
   ],
   "source": [
    "print('Hello, world!')"
   ]
  },
  {
   "cell_type": "code",
   "execution_count": null,
   "metadata": {},
   "outputs": [],
   "source": []
  }
 ],
 "metadata": {
  "kernelspec": {
   "display_name": "Python 3 (ipykernel)",
   "language": "python",
   "name": "python3"
  },
  "language_info": {
   "codemirror_mode": {
    "name": "ipython",
    "version": 3
   },
   "file_extension": ".py",
   "mimetype": "text/x-python",
   "name": "python",
   "nbconvert_exporter": "python",
   "pygments_lexer": "ipython3",
   "version": "3.11.2"
  }
 },
 "nbformat": 4,
 "nbformat_minor": 4
}
