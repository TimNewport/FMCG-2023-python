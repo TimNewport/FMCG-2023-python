{
 "cells": [
  {
   "cell_type": "markdown",
   "id": "663d29c8",
   "metadata": {},
   "source": [
    "# Agenda\n",
    "\n",
    "1. Sorting + passing functions (maybe even `lambda`)\n",
    "2. Modules + packages\n",
    "3. boto3 -- working with AWS"
   ]
  },
  {
   "cell_type": "markdown",
   "id": "50bfa143",
   "metadata": {},
   "source": [
    "# Sorting \n",
    "\n",
    "There are many times when we might want to sort our data! In Python, lists have a `sort` method that actually changes the list, and sorts its elements from lowest to highest. (You can indicate that you want to sort in reverse order, if you want.)\n",
    "\n",
    "Don't use this method.  Don't sort things with `list.sort`!  There are several"
   ]
  }
 ],
 "metadata": {
  "kernelspec": {
   "display_name": "Python 3 (ipykernel)",
   "language": "python",
   "name": "python3"
  },
  "language_info": {
   "codemirror_mode": {
    "name": "ipython",
    "version": 3
   },
   "file_extension": ".py",
   "mimetype": "text/x-python",
   "name": "python",
   "nbconvert_exporter": "python",
   "pygments_lexer": "ipython3",
   "version": "3.11.3"
  }
 },
 "nbformat": 4,
 "nbformat_minor": 5
}
