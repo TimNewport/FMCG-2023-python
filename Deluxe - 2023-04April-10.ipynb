{
 "cells": [
  {
   "cell_type": "markdown",
   "id": "663d29c8",
   "metadata": {},
   "source": [
    "# Agenda\n",
    "\n",
    "1. Sorting + passing functions (maybe even `lambda`)\n",
    "2. Modules + packages\n",
    "3. boto3 -- working with AWS"
   ]
  },
  {
   "cell_type": "markdown",
   "id": "fee74991",
   "metadata": {},
   "source": [
    "# Sorting \n",
    "\n",
    "There are many times when we might want to sort our data! In Python, lists have a `sort` method that actually changes the list, and sorts its elements from lowest to highest. (You can indicate that you want to sort in reverse order, if you want.)\n",
    "\n",
    "Don't use this method.  Don't sort things with `list.sort`!  There are several reasons:\n",
    "\n",
    "1. This changes the list itself\n",
    "2. It only works on lists, and you often want to sort other types of data.\n",
    "\n",
    "We can instead use the `sorted` builtin function. It's *not* a method, but is a function that takes any iterable as an argument.  It returns a list of the input's elements, sorted from lowest to highest."
   ]
  },
  {
   "cell_type": "code",
   "execution_count": 2,
   "id": "a32df19f",
   "metadata": {},
   "outputs": [
    {
     "data": {
      "text/plain": [
       "[-1, 47, 3, -45, -17, 15, 12, 1, 50, -12]"
      ]
     },
     "execution_count": 2,
     "metadata": {},
     "output_type": "execute_result"
    }
   ],
   "source": [
    "# let's create a list of random integers\n",
    "\n",
    "import random\n",
    "random.seed(0)   # reset the random-number generator to a known state\n",
    "\n",
    "numbers = [random.randint(-50, 50)\n",
    "           for i in range(10)]\n",
    "\n",
    "numbers"
   ]
  },
  {
   "cell_type": "code",
   "execution_count": 3,
   "id": "062ab8f1",
   "metadata": {},
   "outputs": [
    {
     "data": {
      "text/plain": [
       "[-45, -17, -12, -1, 1, 3, 12, 15, 47, 50]"
      ]
     },
     "execution_count": 3,
     "metadata": {},
     "output_type": "execute_result"
    }
   ],
   "source": [
    "# let's sort our numbers from lowest to highest, using sorted\n",
    "\n",
    "sorted(numbers)"
   ]
  },
  {
   "cell_type": "markdown",
   "id": "bb2b953f",
   "metadata": {},
   "source": [
    "# Things to notice/know about `sorted`\n",
    "\n",
    "1. It assumes that all of the values in the input argument are comparable in general, and to one another.  Integers, floats, strings, lists, and tuples are all comparable. You can use `<` and `>` on any of them.  But you cannot compare integers with strings, or strings with lists.\n",
    "2. If you're dealing with strings, lists, or tuples, then `sorted` compares index 0 in both. If they're the same, it checks index 1. If those are the same, it checks index 2. This continues until (a) they're found to be equal, (b) one obviously comes first, or (c) one is shorter.\n"
   ]
  }
 ],
 "metadata": {
  "kernelspec": {
   "display_name": "Python 3 (ipykernel)",
   "language": "python",
   "name": "python3"
  },
  "language_info": {
   "codemirror_mode": {
    "name": "ipython",
    "version": 3
   },
   "file_extension": ".py",
   "mimetype": "text/x-python",
   "name": "python",
   "nbconvert_exporter": "python",
   "pygments_lexer": "ipython3",
   "version": "3.11.3"
  }
 },
 "nbformat": 4,
 "nbformat_minor": 5
}
