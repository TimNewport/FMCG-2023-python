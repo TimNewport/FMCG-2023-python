{
 "cells": [
  {
   "cell_type": "markdown",
   "id": "663d29c8",
   "metadata": {},
   "source": [
    "# Agenda\n",
    "\n",
    "1. Sorting + passing functions (maybe even `lambda`)\n",
    "2. Modules + packages\n",
    "3. boto3 -- working with AWS"
   ]
  },
  {
   "cell_type": "markdown",
   "id": "0e5228e6",
   "metadata": {},
   "source": [
    "# Sorting \n",
    "\n",
    "There are many times when we might want to sort our data! In Python, lists have a `sort` method that actually changes the list, and sorts its elements from lowest to highest. (You can indicate that you want to sort in reverse order, if you want.)\n",
    "\n",
    "Don't use this method.  Don't sort things with `list.sort`!  There are several reasons:\n",
    "\n",
    "1. This changes the list itself\n",
    "2. It only works on lists, and you often want to sort other types of data.\n",
    "\n",
    "We can instead use the `sorted` builtin function. It's *not* a method, but is a function that takes any iterable as an argument.  It returns a list of the input's elements, sorted from lowest to highest."
   ]
  },
  {
   "cell_type": "code",
   "execution_count": 2,
   "id": "702641e1",
   "metadata": {},
   "outputs": [
    {
     "data": {
      "text/plain": [
       "[-1, 47, 3, -45, -17, 15, 12, 1, 50, -12]"
      ]
     },
     "execution_count": 2,
     "metadata": {},
     "output_type": "execute_result"
    }
   ],
   "source": [
    "# let's create a list of random integers\n",
    "\n",
    "import random\n",
    "random.seed(0)   # reset the random-number generator to a known state\n",
    "\n",
    "numbers = [random.randint(-50, 50)\n",
    "           for i in range(10)]\n",
    "\n",
    "numbers"
   ]
  },
  {
   "cell_type": "code",
   "execution_count": 4,
   "id": "cf982f7c",
   "metadata": {},
   "outputs": [
    {
     "data": {
      "text/plain": [
       "[-45, -17, -12, -1, 1, 3, 12, 15, 47, 50]"
      ]
     },
     "execution_count": 4,
     "metadata": {},
     "output_type": "execute_result"
    }
   ],
   "source": [
    "# let's sort our numbers from lowest to highest, using sorted\n",
    "\n",
    "sorted(numbers)"
   ]
  },
  {
   "cell_type": "markdown",
   "id": "912c4676",
   "metadata": {},
   "source": [
    "# Things to notice/know about `sorted`\n",
    "\n",
    "1. It assumes that all of the values in the input argument are comparable in general, and to one another.  Integers, floats, strings, lists, and tuples are all comparable. You can use `<` and `>` on any of them.  But you cannot compare integers with strings, or strings with lists.\n",
    "2. If you're dealing with strings, lists, or tuples, then `sorted` compares index 0 in both. If they're the same, it checks index 1. If those are the same, it checks index 2. This continues until (a) they're found to be equal, (b) one obviously comes first, or (c) one is shorter.\n",
    "3. `sorted` returns a new list, and doesn't modify its input argument.\n",
    "\n",
    "If you're curious, `sorted` uses TimSort, written by ... Tim.  It combines heapsort and insertion sort, and generally works well if (a) you have big objects and (b) some of the values are already in order."
   ]
  },
  {
   "cell_type": "code",
   "execution_count": 5,
   "id": "5fa5712a",
   "metadata": {},
   "outputs": [
    {
     "data": {
      "text/plain": [
       "[50, 47, 15, 12, 3, 1, -1, -12, -17, -45]"
      ]
     },
     "execution_count": 5,
     "metadata": {},
     "output_type": "execute_result"
    }
   ],
   "source": [
    "# if I want to sort in reverse order, I can pass the keyword argument reverse=True\n",
    "\n",
    "sorted(numbers, reverse=True)"
   ]
  },
  {
   "cell_type": "code",
   "execution_count": 6,
   "id": "8658cde9",
   "metadata": {},
   "outputs": [],
   "source": [
    "# what if I want to sort these numbers by absolute value? (That is, by positive value?)\n",
    "\n",
    "# this does *not* mean that I want to convert all of the numbers to positive\n",
    "# I want to keep the original values, but sort them as if they were all positive\n",
    "\n"
   ]
  },
  {
   "cell_type": "markdown",
   "id": "c76786b5",
   "metadata": {},
   "source": [
    "# TimSort compares two elements at a time\n",
    "\n",
    "It doesn't compare everything against everything. But it does check two elements, and compares one with the other:\n",
    "\n",
    "    a < b\n",
    "    \n",
    "Given two elements, `a` and `b`, TimSort checks whether `a` is lower. If so, then it returns `a`. If not, then it returns `b`.\n",
    "\n",
    "What we want to do is this:\n",
    "\n",
    "    abs(a) < abs(b)\n",
    "    \n",
    "We want to run `abs`, Python's builtin function for absolute values. This will return a new positive value. If we can compare the positive values, then we'll have things sorted the way we want.\n",
    "\n",
    "More generally, we might want to do this:\n",
    "\n",
    "    func(a) < func(b)\n",
    "    \n",
    "That is, take a function -- any function! -- and apply it to each value in our comparison, and then find out which comes first.\n",
    "\n",
    "`sorted` supports this, thanks to our ability to pass functions as arguments to functions.\n",
    "\n",
    "Remember that functions in Python are objects, just like integers, strings, lists, etc. Just as we can pass a list as an argument to a function, we can pass a function as an argument to a function. Then the function we call invokes the function we passed.  We won't be invoking `abs` ourselves. Rather, `sorted` will do it for us.\n",
    "\n",
    "We do this by passing a function as the argument to the `key` keyword argument.\n",
    "\n",
    "Note that we don't want to call our key function. Rather, we just want to pass it."
   ]
  },
  {
   "cell_type": "code",
   "execution_count": 7,
   "id": "5d7191b4",
   "metadata": {},
   "outputs": [
    {
     "data": {
      "text/plain": [
       "[-45, -17, -12, -1, 1, 3, 12, 15, 47, 50]"
      ]
     },
     "execution_count": 7,
     "metadata": {},
     "output_type": "execute_result"
    }
   ],
   "source": [
    "sorted(numbers)"
   ]
  },
  {
   "cell_type": "code",
   "execution_count": 8,
   "id": "f06e9b00",
   "metadata": {},
   "outputs": [
    {
     "data": {
      "text/plain": [
       "[-1, 1, 3, 12, -12, 15, -17, -45, 47, 50]"
      ]
     },
     "execution_count": 8,
     "metadata": {},
     "output_type": "execute_result"
    }
   ],
   "source": [
    "sorted(numbers, key=abs)   # tell TimSort to apply abs to each number when comparing..."
   ]
  },
  {
   "cell_type": "markdown",
   "id": "77fe86e9",
   "metadata": {},
   "source": [
    "TimSort is a \"stable sort,\" meaning that if two values are seen to be equal, they will be put in our output in their original order. "
   ]
  },
  {
   "cell_type": "code",
   "execution_count": 9,
   "id": "0153ecb3",
   "metadata": {},
   "outputs": [
    {
     "data": {
      "text/plain": [
       "[-1, 47, 3, -45, -17, 15, 12, 1, 50, -12]"
      ]
     },
     "execution_count": 9,
     "metadata": {},
     "output_type": "execute_result"
    }
   ],
   "source": [
    "numbers"
   ]
  },
  {
   "cell_type": "markdown",
   "id": "5f741d1f",
   "metadata": {},
   "source": [
    "# What can we pass as a key function?\n",
    "\n",
    "1. A function that takes exactly one argument, and\n",
    "2. Returns a comparable value which TimSort can use.\n",
    "\n",
    "The function doesn't need to return the same type as it got in its input."
   ]
  },
  {
   "cell_type": "code",
   "execution_count": 11,
   "id": "ee70cea1",
   "metadata": {},
   "outputs": [
    {
     "data": {
      "text/plain": [
       "['This',\n",
       " 'is',\n",
       " 'a',\n",
       " 'bunch',\n",
       " 'of',\n",
       " 'words',\n",
       " 'for',\n",
       " 'an',\n",
       " 'example',\n",
       " 'sentence',\n",
       " 'in',\n",
       " 'my',\n",
       " 'Python',\n",
       " 'course']"
      ]
     },
     "execution_count": 11,
     "metadata": {},
     "output_type": "execute_result"
    }
   ],
   "source": [
    "words = 'This is a bunch of words for an example sentence in my Python course'.split()\n",
    "\n",
    "words"
   ]
  },
  {
   "cell_type": "code",
   "execution_count": 12,
   "id": "7dd91c28",
   "metadata": {},
   "outputs": [
    {
     "data": {
      "text/plain": [
       "['Python',\n",
       " 'This',\n",
       " 'a',\n",
       " 'an',\n",
       " 'bunch',\n",
       " 'course',\n",
       " 'example',\n",
       " 'for',\n",
       " 'in',\n",
       " 'is',\n",
       " 'my',\n",
       " 'of',\n",
       " 'sentence',\n",
       " 'words']"
      ]
     },
     "execution_count": 12,
     "metadata": {},
     "output_type": "execute_result"
    }
   ],
   "source": [
    "# sorted sorts strings according to their Unicode values (very similar to ASCII values)\n",
    "# capital letters all come before lowercase letters\n",
    "\n",
    "sorted(words)"
   ]
  },
  {
   "cell_type": "code",
   "execution_count": 13,
   "id": "c20ab72d",
   "metadata": {},
   "outputs": [
    {
     "data": {
      "text/plain": [
       "['a',\n",
       " 'an',\n",
       " 'bunch',\n",
       " 'course',\n",
       " 'example',\n",
       " 'for',\n",
       " 'in',\n",
       " 'is',\n",
       " 'my',\n",
       " 'of',\n",
       " 'Python',\n",
       " 'sentence',\n",
       " 'This',\n",
       " 'words']"
      ]
     },
     "execution_count": 13,
     "metadata": {},
     "output_type": "execute_result"
    }
   ],
   "source": [
    "# we can pass str.lower as our key function\n",
    "# the comparison will be made between lowercase strings, not the original strings\n",
    "\n",
    "sorted(words, key=str.lower)   # s.lower() == str.lower(s)"
   ]
  },
  {
   "cell_type": "code",
   "execution_count": null,
   "id": "5f6a7e7c",
   "metadata": {},
   "outputs": [],
   "source": []
  }
 ],
 "metadata": {
  "kernelspec": {
   "display_name": "Python 3 (ipykernel)",
   "language": "python",
   "name": "python3"
  },
  "language_info": {
   "codemirror_mode": {
    "name": "ipython",
    "version": 3
   },
   "file_extension": ".py",
   "mimetype": "text/x-python",
   "name": "python",
   "nbconvert_exporter": "python",
   "pygments_lexer": "ipython3",
   "version": "3.11.3"
  }
 },
 "nbformat": 4,
 "nbformat_minor": 5
}
