{
 "cells": [
  {
   "cell_type": "markdown",
   "id": "663d29c8",
   "metadata": {},
   "source": [
    "# Agenda\n",
    "\n",
    "1. Sorting + passing functions (maybe even `lambda`)\n",
    "2. Modules + packages\n",
    "3. boto3 -- working with AWS"
   ]
  },
  {
   "cell_type": "markdown",
   "id": "d9990de8",
   "metadata": {},
   "source": [
    "# Sorting \n",
    "\n",
    "There are many times when we might want to sort our data! In Python, lists have a `sort` method that actually changes the list, and sorts its elements from lowest to highest. (You can indicate that you want to sort in reverse order, if you want.)\n",
    "\n",
    "Don't use this method.  Don't sort things with `list.sort`!  There are several reasons:\n",
    "\n",
    "1. This changes the list itself\n",
    "2. It only works on lists, and you often want to sort other types of data.\n",
    "\n",
    "We can instead use the `sorted` builtin function. It's *not* a method, but is a function that takes any iterable as an argument.  It returns a list of the input's elements, sorted from lowest to highest."
   ]
  },
  {
   "cell_type": "code",
   "execution_count": 2,
   "id": "df0863bb",
   "metadata": {},
   "outputs": [
    {
     "data": {
      "text/plain": [
       "[-1, 47, 3, -45, -17, 15, 12, 1, 50, -12]"
      ]
     },
     "execution_count": 2,
     "metadata": {},
     "output_type": "execute_result"
    }
   ],
   "source": [
    "# let's create a list of random integers\n",
    "\n",
    "import random\n",
    "random.seed(0)   # reset the random-number generator to a known state\n",
    "\n",
    "numbers = [random.randint(-50, 50)\n",
    "           for i in range(10)]\n",
    "\n",
    "numbers"
   ]
  },
  {
   "cell_type": "code",
   "execution_count": 4,
   "id": "529d67f5",
   "metadata": {},
   "outputs": [
    {
     "data": {
      "text/plain": [
       "[-45, -17, -12, -1, 1, 3, 12, 15, 47, 50]"
      ]
     },
     "execution_count": 4,
     "metadata": {},
     "output_type": "execute_result"
    }
   ],
   "source": [
    "# let's sort our numbers from lowest to highest, using sorted\n",
    "\n",
    "sorted(numbers)"
   ]
  },
  {
   "cell_type": "markdown",
   "id": "8b3155e3",
   "metadata": {},
   "source": [
    "# Things to notice/know about `sorted`\n",
    "\n",
    "1. It assumes that all of the values in the input argument are comparable in general, and to one another.  Integers, floats, strings, lists, and tuples are all comparable. You can use `<` and `>` on any of them.  But you cannot compare integers with strings, or strings with lists.\n",
    "2. If you're dealing with strings, lists, or tuples, then `sorted` compares index 0 in both. If they're the same, it checks index 1. If those are the same, it checks index 2. This continues until (a) they're found to be equal, (b) one obviously comes first, or (c) one is shorter.\n",
    "3. `sorted` returns a new list, and doesn't modify its input argument.\n",
    "\n",
    "If you're curious, `sorted` uses TimSort, written by ... Tim.  It combines heapsort and insertion sort, and generally works well if (a) you have big objects and (b) some of the values are already in order."
   ]
  },
  {
   "cell_type": "code",
   "execution_count": 5,
   "id": "9de34506",
   "metadata": {},
   "outputs": [
    {
     "data": {
      "text/plain": [
       "[50, 47, 15, 12, 3, 1, -1, -12, -17, -45]"
      ]
     },
     "execution_count": 5,
     "metadata": {},
     "output_type": "execute_result"
    }
   ],
   "source": [
    "# if I want to sort in reverse order, I can pass the keyword argument reverse=True\n",
    "\n",
    "sorted(numbers, reverse=True)"
   ]
  },
  {
   "cell_type": "code",
   "execution_count": 6,
   "id": "0da1bb41",
   "metadata": {},
   "outputs": [],
   "source": [
    "# what if I want to sort these numbers by absolute value? (That is, by positive value?)\n",
    "\n",
    "# this does *not* mean that I want to convert all of the numbers to positive\n",
    "# I want to keep the original values, but sort them as if they were all positive\n",
    "\n"
   ]
  },
  {
   "cell_type": "markdown",
   "id": "bb78d22b",
   "metadata": {},
   "source": [
    "# TimSort compares two elements at a time\n",
    "\n",
    "It doesn't compare everything against everything. But it does check two elements, and compares one with the other:\n",
    "\n",
    "    a < b\n",
    "    \n",
    "Given two elements, `a` and `b`, TimSort checks whether `a` is lower. If so, then it returns `a`. If not, then it returns `b`.\n",
    "\n",
    "What we want to do is this:\n",
    "\n",
    "    abs(a) < abs(b)\n",
    "    \n",
    "We want to run `abs`, Python's builtin function for absolute values. This will return a new positive value. If we can compare the positive values, then we'll have things sorted the way we want.\n",
    "\n",
    "More generally, we might want to do this:\n",
    "\n",
    "    func(a) < func(b)\n",
    "    \n",
    "That is, take a function -- any function! -- and apply it to each value in our comparison, and then find out which comes first.\n",
    "\n",
    "`sorted` supports this, thanks to our ability to pass functions as arguments to functions.\n",
    "\n",
    "Remember that functions in Python are objects, just like integers, strings, lists, etc. Just as we can pass a list as an argument to a function, we can pass a function as an argument to a function. Then the function we call invokes the function we passed.  We won't be invoking `abs` ourselves. Rather, `sorted` will do it for us.\n",
    "\n",
    "We do this by passing a function as the argument to the `key` keyword argument.\n",
    "\n",
    "Note that we don't want to call our key function. Rather, we just want to pass it."
   ]
  },
  {
   "cell_type": "code",
   "execution_count": 7,
   "id": "e7b22be8",
   "metadata": {},
   "outputs": [
    {
     "data": {
      "text/plain": [
       "[-45, -17, -12, -1, 1, 3, 12, 15, 47, 50]"
      ]
     },
     "execution_count": 7,
     "metadata": {},
     "output_type": "execute_result"
    }
   ],
   "source": [
    "sorted(numbers)"
   ]
  },
  {
   "cell_type": "code",
   "execution_count": 8,
   "id": "734ee8b9",
   "metadata": {},
   "outputs": [
    {
     "data": {
      "text/plain": [
       "[-1, 1, 3, 12, -12, 15, -17, -45, 47, 50]"
      ]
     },
     "execution_count": 8,
     "metadata": {},
     "output_type": "execute_result"
    }
   ],
   "source": [
    "sorted(numbers, key=abs)   # tell TimSort to apply abs to each number when comparing..."
   ]
  },
  {
   "cell_type": "markdown",
   "id": "d6eb654f",
   "metadata": {},
   "source": [
    "TimSort is a \"stable sort,\" meaning that if two values are seen to be equal, they will be put in our output in their original order. "
   ]
  },
  {
   "cell_type": "code",
   "execution_count": 9,
   "id": "d09a7eed",
   "metadata": {},
   "outputs": [
    {
     "data": {
      "text/plain": [
       "[-1, 47, 3, -45, -17, 15, 12, 1, 50, -12]"
      ]
     },
     "execution_count": 9,
     "metadata": {},
     "output_type": "execute_result"
    }
   ],
   "source": [
    "numbers"
   ]
  },
  {
   "cell_type": "markdown",
   "id": "e23636c2",
   "metadata": {},
   "source": [
    "# What can we pass as a key function?\n",
    "\n",
    "1. A function that takes exactly one argument, and\n",
    "2. Returns a comparable value which TimSort can use.\n",
    "\n",
    "The function doesn't need to return the same type as it got in its input."
   ]
  },
  {
   "cell_type": "code",
   "execution_count": 11,
   "id": "50fd533b",
   "metadata": {},
   "outputs": [
    {
     "data": {
      "text/plain": [
       "['This',\n",
       " 'is',\n",
       " 'a',\n",
       " 'bunch',\n",
       " 'of',\n",
       " 'words',\n",
       " 'for',\n",
       " 'an',\n",
       " 'example',\n",
       " 'sentence',\n",
       " 'in',\n",
       " 'my',\n",
       " 'Python',\n",
       " 'course']"
      ]
     },
     "execution_count": 11,
     "metadata": {},
     "output_type": "execute_result"
    }
   ],
   "source": [
    "words = 'This is a bunch of words for an example sentence in my Python course'.split()\n",
    "\n",
    "words"
   ]
  },
  {
   "cell_type": "code",
   "execution_count": 12,
   "id": "75d1805c",
   "metadata": {},
   "outputs": [
    {
     "data": {
      "text/plain": [
       "['Python',\n",
       " 'This',\n",
       " 'a',\n",
       " 'an',\n",
       " 'bunch',\n",
       " 'course',\n",
       " 'example',\n",
       " 'for',\n",
       " 'in',\n",
       " 'is',\n",
       " 'my',\n",
       " 'of',\n",
       " 'sentence',\n",
       " 'words']"
      ]
     },
     "execution_count": 12,
     "metadata": {},
     "output_type": "execute_result"
    }
   ],
   "source": [
    "# sorted sorts strings according to their Unicode values (very similar to ASCII values)\n",
    "# capital letters all come before lowercase letters\n",
    "\n",
    "sorted(words)"
   ]
  },
  {
   "cell_type": "code",
   "execution_count": 13,
   "id": "b922b38e",
   "metadata": {},
   "outputs": [
    {
     "data": {
      "text/plain": [
       "['a',\n",
       " 'an',\n",
       " 'bunch',\n",
       " 'course',\n",
       " 'example',\n",
       " 'for',\n",
       " 'in',\n",
       " 'is',\n",
       " 'my',\n",
       " 'of',\n",
       " 'Python',\n",
       " 'sentence',\n",
       " 'This',\n",
       " 'words']"
      ]
     },
     "execution_count": 13,
     "metadata": {},
     "output_type": "execute_result"
    }
   ],
   "source": [
    "# we can pass str.lower as our key function\n",
    "# the comparison will be made between lowercase strings, not the original strings\n",
    "\n",
    "sorted(words, key=str.lower)   # s.lower() == str.lower(s)"
   ]
  },
  {
   "cell_type": "code",
   "execution_count": 14,
   "id": "d2af0a4e",
   "metadata": {},
   "outputs": [
    {
     "name": "stdout",
     "output_type": "stream",
     "text": [
      "Now looking at This\n",
      "Now looking at is\n",
      "Now looking at a\n",
      "Now looking at bunch\n",
      "Now looking at of\n",
      "Now looking at words\n",
      "Now looking at for\n",
      "Now looking at an\n",
      "Now looking at example\n",
      "Now looking at sentence\n",
      "Now looking at in\n",
      "Now looking at my\n",
      "Now looking at Python\n",
      "Now looking at course\n"
     ]
    },
    {
     "data": {
      "text/plain": [
       "['a',\n",
       " 'an',\n",
       " 'bunch',\n",
       " 'course',\n",
       " 'example',\n",
       " 'for',\n",
       " 'in',\n",
       " 'is',\n",
       " 'my',\n",
       " 'of',\n",
       " 'Python',\n",
       " 'sentence',\n",
       " 'This',\n",
       " 'words']"
      ]
     },
     "execution_count": 14,
     "metadata": {},
     "output_type": "execute_result"
    }
   ],
   "source": [
    "def by_very_loud_lower(one_word):    # I like to call my key functions by_ something, for readability\n",
    "    print(f'Now looking at {one_word}')\n",
    "    return one_word.lower()\n",
    "\n",
    "sorted(words, key=by_very_loud_lower)"
   ]
  },
  {
   "cell_type": "markdown",
   "id": "b32fff7d",
   "metadata": {},
   "source": [
    "# Exercise: Sorting\n",
    "\n",
    "1. Define a list containing 10+ strings (words).\n",
    "2. Sort the list by word length, from longest to shortest.\n",
    "3. Sort the list by the number of vowels, from 0 vowels to the maximum."
   ]
  },
  {
   "cell_type": "code",
   "execution_count": 15,
   "id": "ee6bafd1",
   "metadata": {},
   "outputs": [
    {
     "data": {
      "text/plain": [
       "['This',\n",
       " 'is',\n",
       " 'yet',\n",
       " 'another',\n",
       " 'attempt',\n",
       " 'to',\n",
       " 'define',\n",
       " 'a',\n",
       " 'ridiculous',\n",
       " 'sentence',\n",
       " 'that',\n",
       " 'is',\n",
       " 'wonderful',\n",
       " 'and',\n",
       " 'extensive',\n",
       " 'and',\n",
       " 'full',\n",
       " 'of',\n",
       " 'vowels']"
      ]
     },
     "execution_count": 15,
     "metadata": {},
     "output_type": "execute_result"
    }
   ],
   "source": [
    "words = 'This is yet another attempt to define a ridiculous sentence that is wonderful and extensive and full of vowels'.split()\n",
    "\n",
    "words"
   ]
  },
  {
   "cell_type": "code",
   "execution_count": 16,
   "id": "abda137b",
   "metadata": {},
   "outputs": [
    {
     "data": {
      "text/plain": [
       "['This',\n",
       " 'a',\n",
       " 'and',\n",
       " 'and',\n",
       " 'another',\n",
       " 'attempt',\n",
       " 'define',\n",
       " 'extensive',\n",
       " 'full',\n",
       " 'is',\n",
       " 'is',\n",
       " 'of',\n",
       " 'ridiculous',\n",
       " 'sentence',\n",
       " 'that',\n",
       " 'to',\n",
       " 'vowels',\n",
       " 'wonderful',\n",
       " 'yet']"
      ]
     },
     "execution_count": 16,
     "metadata": {},
     "output_type": "execute_result"
    }
   ],
   "source": [
    "# basic sort -- will be alphabetical\n",
    "sorted(words)"
   ]
  },
  {
   "cell_type": "code",
   "execution_count": 19,
   "id": "969ce57b",
   "metadata": {},
   "outputs": [
    {
     "data": {
      "text/plain": [
       "['a',\n",
       " 'is',\n",
       " 'to',\n",
       " 'is',\n",
       " 'of',\n",
       " 'yet',\n",
       " 'and',\n",
       " 'and',\n",
       " 'This',\n",
       " 'that',\n",
       " 'full',\n",
       " 'define',\n",
       " 'vowels',\n",
       " 'another',\n",
       " 'attempt',\n",
       " 'sentence',\n",
       " 'wonderful',\n",
       " 'extensive',\n",
       " 'ridiculous']"
      ]
     },
     "execution_count": 19,
     "metadata": {},
     "output_type": "execute_result"
    }
   ],
   "source": [
    "# sort by length -- meaning, we want to run len() on each word, and sort them by that result\n",
    "\n",
    "sorted(words, key=len)"
   ]
  },
  {
   "cell_type": "code",
   "execution_count": 20,
   "id": "29729e04",
   "metadata": {},
   "outputs": [
    {
     "data": {
      "text/plain": [
       "['ridiculous',\n",
       " 'wonderful',\n",
       " 'extensive',\n",
       " 'sentence',\n",
       " 'another',\n",
       " 'attempt',\n",
       " 'define',\n",
       " 'vowels',\n",
       " 'This',\n",
       " 'that',\n",
       " 'full',\n",
       " 'yet',\n",
       " 'and',\n",
       " 'and',\n",
       " 'is',\n",
       " 'to',\n",
       " 'is',\n",
       " 'of',\n",
       " 'a']"
      ]
     },
     "execution_count": 20,
     "metadata": {},
     "output_type": "execute_result"
    }
   ],
   "source": [
    "sorted(words, key=len, reverse=True)"
   ]
  },
  {
   "cell_type": "code",
   "execution_count": null,
   "id": "178f03db",
   "metadata": {},
   "outputs": [],
   "source": []
  }
 ],
 "metadata": {
  "kernelspec": {
   "display_name": "Python 3 (ipykernel)",
   "language": "python",
   "name": "python3"
  },
  "language_info": {
   "codemirror_mode": {
    "name": "ipython",
    "version": 3
   },
   "file_extension": ".py",
   "mimetype": "text/x-python",
   "name": "python",
   "nbconvert_exporter": "python",
   "pygments_lexer": "ipython3",
   "version": "3.11.3"
  }
 },
 "nbformat": 4,
 "nbformat_minor": 5
}
