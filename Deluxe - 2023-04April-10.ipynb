{
 "cells": [
  {
   "cell_type": "markdown",
   "id": "663d29c8",
   "metadata": {},
   "source": [
    "# Agenda\n",
    "\n",
    "1. Sorting + passing functions (maybe even `lambda`)\n",
    "2. Modules + packages\n",
    "3. boto3 -- working with AWS"
   ]
  },
  {
   "cell_type": "markdown",
   "id": "e02c1dc1",
   "metadata": {},
   "source": [
    "# Sorting \n",
    "\n",
    "There are many times when we might want to sort our data! In Python, lists have a `sort` method that actually changes the list, and sorts its elements from lowest to highest. (You can indicate that you want to sort in reverse order, if you want.)\n",
    "\n",
    "Don't use this method.  Don't sort things with `list.sort`!  There are several reasons:\n",
    "\n",
    "1. This changes the list itself\n",
    "2. It only works on lists, and you often want to sort other types of data.\n",
    "\n",
    "We can instead use the `sorted` builtin function. It's *not* a method, but is a function that takes any iterable as an argument.  It returns a list of the input's elements, sorted from lowest to highest."
   ]
  },
  {
   "cell_type": "code",
   "execution_count": 2,
   "id": "b10f98ca",
   "metadata": {},
   "outputs": [
    {
     "data": {
      "text/plain": [
       "[-1, 47, 3, -45, -17, 15, 12, 1, 50, -12]"
      ]
     },
     "execution_count": 2,
     "metadata": {},
     "output_type": "execute_result"
    }
   ],
   "source": [
    "# let's create a list of random integers\n",
    "\n",
    "import random\n",
    "random.seed(0)   # reset the random-number generator to a known state\n",
    "\n",
    "numbers = [random.randint(-50, 50)\n",
    "           for i in range(10)]\n",
    "\n",
    "numbers"
   ]
  },
  {
   "cell_type": "code",
   "execution_count": 4,
   "id": "14aacdd5",
   "metadata": {},
   "outputs": [
    {
     "data": {
      "text/plain": [
       "[-45, -17, -12, -1, 1, 3, 12, 15, 47, 50]"
      ]
     },
     "execution_count": 4,
     "metadata": {},
     "output_type": "execute_result"
    }
   ],
   "source": [
    "# let's sort our numbers from lowest to highest, using sorted\n",
    "\n",
    "sorted(numbers)"
   ]
  },
  {
   "cell_type": "markdown",
   "id": "6784f366",
   "metadata": {},
   "source": [
    "# Things to notice/know about `sorted`\n",
    "\n",
    "1. It assumes that all of the values in the input argument are comparable in general, and to one another.  Integers, floats, strings, lists, and tuples are all comparable. You can use `<` and `>` on any of them.  But you cannot compare integers with strings, or strings with lists.\n",
    "2. If you're dealing with strings, lists, or tuples, then `sorted` compares index 0 in both. If they're the same, it checks index 1. If those are the same, it checks index 2. This continues until (a) they're found to be equal, (b) one obviously comes first, or (c) one is shorter.\n",
    "3. `sorted` returns a new list, and doesn't modify its input argument.\n",
    "\n",
    "If you're curious, `sorted` uses TimSort, written by ... Tim.  It combines heapsort and insertion sort, and generally works well if (a) you have big objects and (b) some of the values are already in order."
   ]
  },
  {
   "cell_type": "code",
   "execution_count": 5,
   "id": "3ae5c352",
   "metadata": {},
   "outputs": [
    {
     "data": {
      "text/plain": [
       "[50, 47, 15, 12, 3, 1, -1, -12, -17, -45]"
      ]
     },
     "execution_count": 5,
     "metadata": {},
     "output_type": "execute_result"
    }
   ],
   "source": [
    "# if I want to sort in reverse order, I can pass the keyword argument reverse=True\n",
    "\n",
    "sorted(numbers, reverse=True)"
   ]
  },
  {
   "cell_type": "code",
   "execution_count": 6,
   "id": "251cf5b6",
   "metadata": {},
   "outputs": [],
   "source": [
    "# what if I want to sort these numbers by absolute value? (That is, by positive value?)\n",
    "\n",
    "# this does *not* mean that I want to convert all of the numbers to positive\n",
    "# I want to keep the original values, but sort them as if they were all positive\n",
    "\n"
   ]
  },
  {
   "cell_type": "markdown",
   "id": "55ae39c8",
   "metadata": {},
   "source": [
    "# TimSort compares two elements at a time\n",
    "\n",
    "It doesn't compare everything against everything. But it does check two elements, and compares one with the other:\n",
    "\n",
    "    a < b\n",
    "    \n",
    "Given two elements, `a` and `b`, TimSort checks whether `a` is lower. If so, then it returns `a`. If not, then it returns `b`.\n",
    "\n",
    "What we want to do is this:\n",
    "\n",
    "    abs(a) < abs(b)\n",
    "    \n",
    "We want to run `abs`, Python's builtin function for absolute values. This will return a new positive value. If we can compare the positive values, then we'll have things sorted the way we want.\n",
    "\n",
    "More generally, we might want to do this:\n",
    "\n",
    "    func(a) < func(b)\n",
    "    \n",
    "That is, take a function -- any function! -- and apply it to each value in our comparison, and then find out which comes first.\n",
    "\n",
    "`sorted` supports this, thanks to our ability to pass functions as arguments to functions.\n",
    "\n",
    "Remember that functions in Python are objects, just like integers, strings, lists, etc. Just as we can pass a list as an argument to a function, we can pass a function as an argument to a function. Then the function we call invokes the function we passed.  We won't be invoking `abs` ourselves. Rather, `sorted` will do it for us.\n",
    "\n",
    "We do this by passing a function as the argument to the `key` keyword argument.\n",
    "\n",
    "Note that we don't want to call our key function. Rather, we just want to pass it."
   ]
  },
  {
   "cell_type": "code",
   "execution_count": 7,
   "id": "d291e3a3",
   "metadata": {},
   "outputs": [
    {
     "data": {
      "text/plain": [
       "[-45, -17, -12, -1, 1, 3, 12, 15, 47, 50]"
      ]
     },
     "execution_count": 7,
     "metadata": {},
     "output_type": "execute_result"
    }
   ],
   "source": [
    "sorted(numbers)"
   ]
  },
  {
   "cell_type": "code",
   "execution_count": 8,
   "id": "7f7f77dc",
   "metadata": {},
   "outputs": [
    {
     "data": {
      "text/plain": [
       "[-1, 1, 3, 12, -12, 15, -17, -45, 47, 50]"
      ]
     },
     "execution_count": 8,
     "metadata": {},
     "output_type": "execute_result"
    }
   ],
   "source": [
    "sorted(numbers, key=abs)   # tell TimSort to apply abs to each number when comparing..."
   ]
  },
  {
   "cell_type": "markdown",
   "id": "08a78efa",
   "metadata": {},
   "source": [
    "TimSort is a \"stable sort,\" meaning that if two values are seen to be equal, they will be put in our output in their original order. "
   ]
  },
  {
   "cell_type": "code",
   "execution_count": 9,
   "id": "635933a8",
   "metadata": {},
   "outputs": [
    {
     "data": {
      "text/plain": [
       "[-1, 47, 3, -45, -17, 15, 12, 1, 50, -12]"
      ]
     },
     "execution_count": 9,
     "metadata": {},
     "output_type": "execute_result"
    }
   ],
   "source": [
    "numbers"
   ]
  },
  {
   "cell_type": "markdown",
   "id": "bbe33cde",
   "metadata": {},
   "source": [
    "# What can we pass as a key function?\n",
    "\n",
    "1. A function that takes exactly one argument, and\n",
    "2. Returns a comparable value which TimSort can use.\n",
    "\n",
    "The function doesn't need to return the same type as it got in its input."
   ]
  },
  {
   "cell_type": "code",
   "execution_count": 11,
   "id": "24761f13",
   "metadata": {},
   "outputs": [
    {
     "data": {
      "text/plain": [
       "['This',\n",
       " 'is',\n",
       " 'a',\n",
       " 'bunch',\n",
       " 'of',\n",
       " 'words',\n",
       " 'for',\n",
       " 'an',\n",
       " 'example',\n",
       " 'sentence',\n",
       " 'in',\n",
       " 'my',\n",
       " 'Python',\n",
       " 'course']"
      ]
     },
     "execution_count": 11,
     "metadata": {},
     "output_type": "execute_result"
    }
   ],
   "source": [
    "words = 'This is a bunch of words for an example sentence in my Python course'.split()\n",
    "\n",
    "words"
   ]
  },
  {
   "cell_type": "code",
   "execution_count": 12,
   "id": "779352fe",
   "metadata": {},
   "outputs": [
    {
     "data": {
      "text/plain": [
       "['Python',\n",
       " 'This',\n",
       " 'a',\n",
       " 'an',\n",
       " 'bunch',\n",
       " 'course',\n",
       " 'example',\n",
       " 'for',\n",
       " 'in',\n",
       " 'is',\n",
       " 'my',\n",
       " 'of',\n",
       " 'sentence',\n",
       " 'words']"
      ]
     },
     "execution_count": 12,
     "metadata": {},
     "output_type": "execute_result"
    }
   ],
   "source": [
    "# sorted sorts strings according to their Unicode values (very similar to ASCII values)\n",
    "# capital letters all come before lowercase letters\n",
    "\n",
    "sorted(words)"
   ]
  },
  {
   "cell_type": "code",
   "execution_count": 13,
   "id": "8e5b3242",
   "metadata": {},
   "outputs": [
    {
     "data": {
      "text/plain": [
       "['a',\n",
       " 'an',\n",
       " 'bunch',\n",
       " 'course',\n",
       " 'example',\n",
       " 'for',\n",
       " 'in',\n",
       " 'is',\n",
       " 'my',\n",
       " 'of',\n",
       " 'Python',\n",
       " 'sentence',\n",
       " 'This',\n",
       " 'words']"
      ]
     },
     "execution_count": 13,
     "metadata": {},
     "output_type": "execute_result"
    }
   ],
   "source": [
    "# we can pass str.lower as our key function\n",
    "# the comparison will be made between lowercase strings, not the original strings\n",
    "\n",
    "sorted(words, key=str.lower)   # s.lower() == str.lower(s)"
   ]
  },
  {
   "cell_type": "code",
   "execution_count": 14,
   "id": "278499cf",
   "metadata": {},
   "outputs": [
    {
     "name": "stdout",
     "output_type": "stream",
     "text": [
      "Now looking at This\n",
      "Now looking at is\n",
      "Now looking at a\n",
      "Now looking at bunch\n",
      "Now looking at of\n",
      "Now looking at words\n",
      "Now looking at for\n",
      "Now looking at an\n",
      "Now looking at example\n",
      "Now looking at sentence\n",
      "Now looking at in\n",
      "Now looking at my\n",
      "Now looking at Python\n",
      "Now looking at course\n"
     ]
    },
    {
     "data": {
      "text/plain": [
       "['a',\n",
       " 'an',\n",
       " 'bunch',\n",
       " 'course',\n",
       " 'example',\n",
       " 'for',\n",
       " 'in',\n",
       " 'is',\n",
       " 'my',\n",
       " 'of',\n",
       " 'Python',\n",
       " 'sentence',\n",
       " 'This',\n",
       " 'words']"
      ]
     },
     "execution_count": 14,
     "metadata": {},
     "output_type": "execute_result"
    }
   ],
   "source": [
    "def by_very_loud_lower(one_word):    # I like to call my key functions by_ something, for readability\n",
    "    print(f'Now looking at {one_word}')\n",
    "    return one_word.lower()\n",
    "\n",
    "sorted(words, key=by_very_loud_lower)"
   ]
  },
  {
   "cell_type": "markdown",
   "id": "f7f3e5e0",
   "metadata": {},
   "source": [
    "# Exercise: Sorting\n",
    "\n",
    "1. Define a list containing 10+ strings (words).\n",
    "2. Sort the list by word length, from longest to shortest.\n",
    "3. Sort the list by the number of vowels, from 0 vowels to the maximum."
   ]
  },
  {
   "cell_type": "code",
   "execution_count": 15,
   "id": "42ccc067",
   "metadata": {},
   "outputs": [
    {
     "data": {
      "text/plain": [
       "['This',\n",
       " 'is',\n",
       " 'yet',\n",
       " 'another',\n",
       " 'attempt',\n",
       " 'to',\n",
       " 'define',\n",
       " 'a',\n",
       " 'ridiculous',\n",
       " 'sentence',\n",
       " 'that',\n",
       " 'is',\n",
       " 'wonderful',\n",
       " 'and',\n",
       " 'extensive',\n",
       " 'and',\n",
       " 'full',\n",
       " 'of',\n",
       " 'vowels']"
      ]
     },
     "execution_count": 15,
     "metadata": {},
     "output_type": "execute_result"
    }
   ],
   "source": [
    "words = 'This is yet another attempt to define a ridiculous sentence that is wonderful and extensive and full of vowels'.split()\n",
    "\n",
    "words"
   ]
  },
  {
   "cell_type": "code",
   "execution_count": 16,
   "id": "86b2c6e0",
   "metadata": {},
   "outputs": [
    {
     "data": {
      "text/plain": [
       "['This',\n",
       " 'a',\n",
       " 'and',\n",
       " 'and',\n",
       " 'another',\n",
       " 'attempt',\n",
       " 'define',\n",
       " 'extensive',\n",
       " 'full',\n",
       " 'is',\n",
       " 'is',\n",
       " 'of',\n",
       " 'ridiculous',\n",
       " 'sentence',\n",
       " 'that',\n",
       " 'to',\n",
       " 'vowels',\n",
       " 'wonderful',\n",
       " 'yet']"
      ]
     },
     "execution_count": 16,
     "metadata": {},
     "output_type": "execute_result"
    }
   ],
   "source": [
    "# basic sort -- will be alphabetical\n",
    "sorted(words)"
   ]
  },
  {
   "cell_type": "code",
   "execution_count": 19,
   "id": "2d579942",
   "metadata": {},
   "outputs": [
    {
     "data": {
      "text/plain": [
       "['a',\n",
       " 'is',\n",
       " 'to',\n",
       " 'is',\n",
       " 'of',\n",
       " 'yet',\n",
       " 'and',\n",
       " 'and',\n",
       " 'This',\n",
       " 'that',\n",
       " 'full',\n",
       " 'define',\n",
       " 'vowels',\n",
       " 'another',\n",
       " 'attempt',\n",
       " 'sentence',\n",
       " 'wonderful',\n",
       " 'extensive',\n",
       " 'ridiculous']"
      ]
     },
     "execution_count": 19,
     "metadata": {},
     "output_type": "execute_result"
    }
   ],
   "source": [
    "# sort by length -- meaning, we want to run len() on each word, and sort them by that result\n",
    "\n",
    "sorted(words, key=len)"
   ]
  },
  {
   "cell_type": "code",
   "execution_count": 20,
   "id": "4ee1cf5e",
   "metadata": {},
   "outputs": [
    {
     "data": {
      "text/plain": [
       "['ridiculous',\n",
       " 'wonderful',\n",
       " 'extensive',\n",
       " 'sentence',\n",
       " 'another',\n",
       " 'attempt',\n",
       " 'define',\n",
       " 'vowels',\n",
       " 'This',\n",
       " 'that',\n",
       " 'full',\n",
       " 'yet',\n",
       " 'and',\n",
       " 'and',\n",
       " 'is',\n",
       " 'to',\n",
       " 'is',\n",
       " 'of',\n",
       " 'a']"
      ]
     },
     "execution_count": 20,
     "metadata": {},
     "output_type": "execute_result"
    }
   ],
   "source": [
    "sorted(words, key=len, reverse=True)"
   ]
  },
  {
   "cell_type": "code",
   "execution_count": 22,
   "id": "9a34a3b1",
   "metadata": {},
   "outputs": [
    {
     "name": "stdout",
     "output_type": "stream",
     "text": [
      "This: 1\n",
      "is: 1\n",
      "yet: 1\n",
      "another: 3\n",
      "attempt: 2\n",
      "to: 1\n",
      "define: 3\n",
      "a: 1\n",
      "ridiculous: 5\n",
      "sentence: 3\n",
      "that: 1\n",
      "is: 1\n",
      "wonderful: 3\n",
      "and: 1\n",
      "extensive: 4\n",
      "and: 1\n",
      "full: 1\n",
      "of: 1\n",
      "vowels: 2\n"
     ]
    },
    {
     "data": {
      "text/plain": [
       "['This',\n",
       " 'is',\n",
       " 'yet',\n",
       " 'to',\n",
       " 'a',\n",
       " 'that',\n",
       " 'is',\n",
       " 'and',\n",
       " 'and',\n",
       " 'full',\n",
       " 'of',\n",
       " 'attempt',\n",
       " 'vowels',\n",
       " 'another',\n",
       " 'define',\n",
       " 'sentence',\n",
       " 'wonderful',\n",
       " 'extensive',\n",
       " 'ridiculous']"
      ]
     },
     "execution_count": 22,
     "metadata": {},
     "output_type": "execute_result"
    }
   ],
   "source": [
    "# sort by the number of vowels\n",
    "# I'll write a function!\n",
    "\n",
    "def count_vowels(one_word):\n",
    "    total = 0\n",
    "    \n",
    "    for one_letter in one_word.lower():\n",
    "        if one_letter in 'aeiou':\n",
    "            total += 1\n",
    "            \n",
    "    print(f'{one_word}: {total}')\n",
    "            \n",
    "    return total\n",
    "\n",
    "sorted(words, key=count_vowels)"
   ]
  },
  {
   "cell_type": "code",
   "execution_count": 23,
   "id": "21523cfc",
   "metadata": {},
   "outputs": [],
   "source": [
    "def by_count_lowercase_vowels(one_word):\n",
    "    return ..."
   ]
  },
  {
   "cell_type": "code",
   "execution_count": 29,
   "id": "81ac0f54",
   "metadata": {},
   "outputs": [
    {
     "data": {
      "text/plain": [
       "[[2, 4, 6, 8, 10, 50],\n",
       " [3, 4, 5, 6, 7, 8, 9],\n",
       " [10, 20, 30],\n",
       " [9, 11, 13, 15],\n",
       " [2, 3, 4, 5],\n",
       " [10, 11, 12, 13]]"
      ]
     },
     "execution_count": 29,
     "metadata": {},
     "output_type": "execute_result"
    }
   ],
   "source": [
    "mylist = [[2, 4, 6, 8, 10, 50], [3,4,5,6,7,8,9], [10, 20,30], [9, 11, 13, 15],\n",
    "         [2,3,4,5], [10,11,12,13]]\n",
    "\n",
    "mylist"
   ]
  },
  {
   "cell_type": "code",
   "execution_count": 30,
   "id": "a6e66f08",
   "metadata": {},
   "outputs": [
    {
     "data": {
      "text/plain": [
       "[[2, 3, 4, 5],\n",
       " [2, 4, 6, 8, 10, 50],\n",
       " [3, 4, 5, 6, 7, 8, 9],\n",
       " [9, 11, 13, 15],\n",
       " [10, 11, 12, 13],\n",
       " [10, 20, 30]]"
      ]
     },
     "execution_count": 30,
     "metadata": {},
     "output_type": "execute_result"
    }
   ],
   "source": [
    "sorted(mylist)"
   ]
  },
  {
   "cell_type": "code",
   "execution_count": 31,
   "id": "60f7e2b4",
   "metadata": {},
   "outputs": [
    {
     "data": {
      "text/plain": [
       "[[2, 3, 4, 5],\n",
       " [3, 4, 5, 6, 7, 8, 9],\n",
       " [10, 11, 12, 13],\n",
       " [9, 11, 13, 15],\n",
       " [10, 20, 30],\n",
       " [2, 4, 6, 8, 10, 50]]"
      ]
     },
     "execution_count": 31,
     "metadata": {},
     "output_type": "execute_result"
    }
   ],
   "source": [
    "sorted(mylist, key=sum)    # sort each list by its total"
   ]
  },
  {
   "cell_type": "code",
   "execution_count": 32,
   "id": "3c34e166",
   "metadata": {},
   "outputs": [],
   "source": [
    "# let's define \"shoes\" to be a list of dicts, our shoes from last time\n",
    "\n",
    "filename = 'shoe-data.txt'\n",
    "\n",
    "def line_to_dict(s):\n",
    "    fields = s.strip().split('\\t')    \n",
    "    \n",
    "    return {'brand': fields[0],\n",
    "           'color': fields[1],\n",
    "           'size': fields[2]}\n",
    "\n",
    "shoes = [line_to_dict(one_line)\n",
    "         for one_line in open(filename)]"
   ]
  },
  {
   "cell_type": "code",
   "execution_count": 33,
   "id": "18b2ea4d",
   "metadata": {},
   "outputs": [
    {
     "data": {
      "text/plain": [
       "[{'brand': 'Adidas', 'color': 'orange', 'size': '43'},\n",
       " {'brand': 'Nike', 'color': 'black', 'size': '41'},\n",
       " {'brand': 'Adidas', 'color': 'black', 'size': '39'},\n",
       " {'brand': 'New Balance', 'color': 'pink', 'size': '41'},\n",
       " {'brand': 'Nike', 'color': 'white', 'size': '44'},\n",
       " {'brand': 'New Balance', 'color': 'orange', 'size': '38'},\n",
       " {'brand': 'Nike', 'color': 'pink', 'size': '44'},\n",
       " {'brand': 'Adidas', 'color': 'pink', 'size': '44'},\n",
       " {'brand': 'New Balance', 'color': 'orange', 'size': '39'},\n",
       " {'brand': 'New Balance', 'color': 'black', 'size': '43'},\n",
       " {'brand': 'New Balance', 'color': 'orange', 'size': '44'},\n",
       " {'brand': 'Nike', 'color': 'black', 'size': '41'},\n",
       " {'brand': 'Adidas', 'color': 'orange', 'size': '37'},\n",
       " {'brand': 'Adidas', 'color': 'black', 'size': '38'},\n",
       " {'brand': 'Adidas', 'color': 'pink', 'size': '41'},\n",
       " {'brand': 'Adidas', 'color': 'white', 'size': '36'},\n",
       " {'brand': 'Adidas', 'color': 'orange', 'size': '36'},\n",
       " {'brand': 'Nike', 'color': 'pink', 'size': '41'},\n",
       " {'brand': 'Adidas', 'color': 'pink', 'size': '35'},\n",
       " {'brand': 'New Balance', 'color': 'orange', 'size': '37'},\n",
       " {'brand': 'Nike', 'color': 'pink', 'size': '43'},\n",
       " {'brand': 'Nike', 'color': 'black', 'size': '43'},\n",
       " {'brand': 'Nike', 'color': 'black', 'size': '42'},\n",
       " {'brand': 'Nike', 'color': 'black', 'size': '35'},\n",
       " {'brand': 'Adidas', 'color': 'black', 'size': '41'},\n",
       " {'brand': 'New Balance', 'color': 'pink', 'size': '40'},\n",
       " {'brand': 'Adidas', 'color': 'white', 'size': '35'},\n",
       " {'brand': 'New Balance', 'color': 'pink', 'size': '41'},\n",
       " {'brand': 'New Balance', 'color': 'orange', 'size': '41'},\n",
       " {'brand': 'Adidas', 'color': 'orange', 'size': '40'},\n",
       " {'brand': 'New Balance', 'color': 'orange', 'size': '40'},\n",
       " {'brand': 'New Balance', 'color': 'white', 'size': '44'},\n",
       " {'brand': 'New Balance', 'color': 'pink', 'size': '40'},\n",
       " {'brand': 'Nike', 'color': 'black', 'size': '43'},\n",
       " {'brand': 'Nike', 'color': 'pink', 'size': '36'},\n",
       " {'brand': 'New Balance', 'color': 'white', 'size': '39'},\n",
       " {'brand': 'Nike', 'color': 'black', 'size': '42'},\n",
       " {'brand': 'Adidas', 'color': 'black', 'size': '41'},\n",
       " {'brand': 'New Balance', 'color': 'orange', 'size': '40'},\n",
       " {'brand': 'New Balance', 'color': 'black', 'size': '40'},\n",
       " {'brand': 'Nike', 'color': 'white', 'size': '37'},\n",
       " {'brand': 'Adidas', 'color': 'black', 'size': '39'},\n",
       " {'brand': 'Adidas', 'color': 'black', 'size': '40'},\n",
       " {'brand': 'Adidas', 'color': 'orange', 'size': '38'},\n",
       " {'brand': 'New Balance', 'color': 'orange', 'size': '39'},\n",
       " {'brand': 'Nike', 'color': 'black', 'size': '35'},\n",
       " {'brand': 'Adidas', 'color': 'white', 'size': '39'},\n",
       " {'brand': 'Nike', 'color': 'white', 'size': '37'},\n",
       " {'brand': 'Adidas', 'color': 'orange', 'size': '37'},\n",
       " {'brand': 'Adidas', 'color': 'pink', 'size': '35'},\n",
       " {'brand': 'New Balance', 'color': 'orange', 'size': '41'},\n",
       " {'brand': 'Nike', 'color': 'pink', 'size': '44'},\n",
       " {'brand': 'Nike', 'color': 'pink', 'size': '38'},\n",
       " {'brand': 'Adidas', 'color': 'black', 'size': '39'},\n",
       " {'brand': 'New Balance', 'color': 'white', 'size': '35'},\n",
       " {'brand': 'Nike', 'color': 'pink', 'size': '40'},\n",
       " {'brand': 'Nike', 'color': 'white', 'size': '44'},\n",
       " {'brand': 'Nike', 'color': 'orange', 'size': '38'},\n",
       " {'brand': 'Adidas', 'color': 'orange', 'size': '42'},\n",
       " {'brand': 'New Balance', 'color': 'orange', 'size': '43'},\n",
       " {'brand': 'Adidas', 'color': 'pink', 'size': '39'},\n",
       " {'brand': 'Adidas', 'color': 'pink', 'size': '41'},\n",
       " {'brand': 'Adidas', 'color': 'pink', 'size': '39'},\n",
       " {'brand': 'Nike', 'color': 'white', 'size': '37'},\n",
       " {'brand': 'Nike', 'color': 'orange', 'size': '38'},\n",
       " {'brand': 'Adidas', 'color': 'orange', 'size': '39'},\n",
       " {'brand': 'Nike', 'color': 'pink', 'size': '40'},\n",
       " {'brand': 'Adidas', 'color': 'white', 'size': '36'},\n",
       " {'brand': 'Nike', 'color': 'orange', 'size': '40'},\n",
       " {'brand': 'New Balance', 'color': 'pink', 'size': '40'},\n",
       " {'brand': 'New Balance', 'color': 'black', 'size': '40'},\n",
       " {'brand': 'New Balance', 'color': 'pink', 'size': '40'},\n",
       " {'brand': 'Adidas', 'color': 'pink', 'size': '41'},\n",
       " {'brand': 'Nike', 'color': 'pink', 'size': '40'},\n",
       " {'brand': 'Nike', 'color': 'black', 'size': '41'},\n",
       " {'brand': 'Nike', 'color': 'black', 'size': '39'},\n",
       " {'brand': 'New Balance', 'color': 'white', 'size': '38'},\n",
       " {'brand': 'Adidas', 'color': 'black', 'size': '41'},\n",
       " {'brand': 'Nike', 'color': 'orange', 'size': '36'},\n",
       " {'brand': 'Nike', 'color': 'black', 'size': '38'},\n",
       " {'brand': 'New Balance', 'color': 'black', 'size': '40'},\n",
       " {'brand': 'New Balance', 'color': 'pink', 'size': '40'},\n",
       " {'brand': 'Adidas', 'color': 'black', 'size': '42'},\n",
       " {'brand': 'Adidas', 'color': 'white', 'size': '40'},\n",
       " {'brand': 'New Balance', 'color': 'orange', 'size': '38'},\n",
       " {'brand': 'Nike', 'color': 'pink', 'size': '41'},\n",
       " {'brand': 'Adidas', 'color': 'orange', 'size': '37'},\n",
       " {'brand': 'Nike', 'color': 'black', 'size': '44'},\n",
       " {'brand': 'Adidas', 'color': 'pink', 'size': '36'},\n",
       " {'brand': 'Adidas', 'color': 'white', 'size': '35'},\n",
       " {'brand': 'Nike', 'color': 'black', 'size': '38'},\n",
       " {'brand': 'Nike', 'color': 'pink', 'size': '42'},\n",
       " {'brand': 'New Balance', 'color': 'black', 'size': '43'},\n",
       " {'brand': 'Nike', 'color': 'white', 'size': '38'},\n",
       " {'brand': 'New Balance', 'color': 'pink', 'size': '39'},\n",
       " {'brand': 'Nike', 'color': 'orange', 'size': '39'},\n",
       " {'brand': 'New Balance', 'color': 'orange', 'size': '40'},\n",
       " {'brand': 'New Balance', 'color': 'white', 'size': '44'},\n",
       " {'brand': 'Adidas', 'color': 'black', 'size': '42'},\n",
       " {'brand': 'Nike', 'color': 'black', 'size': '35'}]"
      ]
     },
     "execution_count": 33,
     "metadata": {},
     "output_type": "execute_result"
    }
   ],
   "source": [
    "shoes"
   ]
  },
  {
   "cell_type": "code",
   "execution_count": 34,
   "id": "9ddf51fe",
   "metadata": {},
   "outputs": [
    {
     "ename": "TypeError",
     "evalue": "'<' not supported between instances of 'dict' and 'dict'",
     "output_type": "error",
     "traceback": [
      "\u001b[0;31m---------------------------------------------------------------------------\u001b[0m",
      "\u001b[0;31mTypeError\u001b[0m                                 Traceback (most recent call last)",
      "Cell \u001b[0;32mIn [34], line 3\u001b[0m\n\u001b[1;32m      1\u001b[0m \u001b[38;5;66;03m# sort our list of dicts\u001b[39;00m\n\u001b[0;32m----> 3\u001b[0m \u001b[38;5;28;43msorted\u001b[39;49m\u001b[43m(\u001b[49m\u001b[43mshoes\u001b[49m\u001b[43m)\u001b[49m\n",
      "\u001b[0;31mTypeError\u001b[0m: '<' not supported between instances of 'dict' and 'dict'"
     ]
    }
   ],
   "source": [
    "# sort our list of dicts\n",
    "\n",
    "sorted(shoes)"
   ]
  },
  {
   "cell_type": "code",
   "execution_count": 35,
   "id": "c448e06d",
   "metadata": {},
   "outputs": [
    {
     "ename": "TypeError",
     "evalue": "'<' not supported between instances of 'dict' and 'dict'",
     "output_type": "error",
     "traceback": [
      "\u001b[0;31m---------------------------------------------------------------------------\u001b[0m",
      "\u001b[0;31mTypeError\u001b[0m                                 Traceback (most recent call last)",
      "Cell \u001b[0;32mIn [35], line 1\u001b[0m\n\u001b[0;32m----> 1\u001b[0m \u001b[43m{\u001b[49m\u001b[43m}\u001b[49m\u001b[43m \u001b[49m\u001b[38;5;241;43m<\u001b[39;49m\u001b[43m \u001b[49m\u001b[43m{\u001b[49m\u001b[43m}\u001b[49m\n",
      "\u001b[0;31mTypeError\u001b[0m: '<' not supported between instances of 'dict' and 'dict'"
     ]
    }
   ],
   "source": [
    "{} < {}"
   ]
  },
  {
   "cell_type": "code",
   "execution_count": 37,
   "id": "3ac83518",
   "metadata": {},
   "outputs": [
    {
     "data": {
      "text/plain": [
       "[{'brand': 'Adidas', 'color': 'orange', 'size': '43'},\n",
       " {'brand': 'Adidas', 'color': 'black', 'size': '39'},\n",
       " {'brand': 'Adidas', 'color': 'pink', 'size': '44'},\n",
       " {'brand': 'Adidas', 'color': 'orange', 'size': '37'},\n",
       " {'brand': 'Adidas', 'color': 'black', 'size': '38'},\n",
       " {'brand': 'Adidas', 'color': 'pink', 'size': '41'},\n",
       " {'brand': 'Adidas', 'color': 'white', 'size': '36'},\n",
       " {'brand': 'Adidas', 'color': 'orange', 'size': '36'},\n",
       " {'brand': 'Adidas', 'color': 'pink', 'size': '35'},\n",
       " {'brand': 'Adidas', 'color': 'black', 'size': '41'},\n",
       " {'brand': 'Adidas', 'color': 'white', 'size': '35'},\n",
       " {'brand': 'Adidas', 'color': 'orange', 'size': '40'},\n",
       " {'brand': 'Adidas', 'color': 'black', 'size': '41'},\n",
       " {'brand': 'Adidas', 'color': 'black', 'size': '39'},\n",
       " {'brand': 'Adidas', 'color': 'black', 'size': '40'},\n",
       " {'brand': 'Adidas', 'color': 'orange', 'size': '38'},\n",
       " {'brand': 'Adidas', 'color': 'white', 'size': '39'},\n",
       " {'brand': 'Adidas', 'color': 'orange', 'size': '37'},\n",
       " {'brand': 'Adidas', 'color': 'pink', 'size': '35'},\n",
       " {'brand': 'Adidas', 'color': 'black', 'size': '39'},\n",
       " {'brand': 'Adidas', 'color': 'orange', 'size': '42'},\n",
       " {'brand': 'Adidas', 'color': 'pink', 'size': '39'},\n",
       " {'brand': 'Adidas', 'color': 'pink', 'size': '41'},\n",
       " {'brand': 'Adidas', 'color': 'pink', 'size': '39'},\n",
       " {'brand': 'Adidas', 'color': 'orange', 'size': '39'},\n",
       " {'brand': 'Adidas', 'color': 'white', 'size': '36'},\n",
       " {'brand': 'Adidas', 'color': 'pink', 'size': '41'},\n",
       " {'brand': 'Adidas', 'color': 'black', 'size': '41'},\n",
       " {'brand': 'Adidas', 'color': 'black', 'size': '42'},\n",
       " {'brand': 'Adidas', 'color': 'white', 'size': '40'},\n",
       " {'brand': 'Adidas', 'color': 'orange', 'size': '37'},\n",
       " {'brand': 'Adidas', 'color': 'pink', 'size': '36'},\n",
       " {'brand': 'Adidas', 'color': 'white', 'size': '35'},\n",
       " {'brand': 'Adidas', 'color': 'black', 'size': '42'},\n",
       " {'brand': 'New Balance', 'color': 'pink', 'size': '41'},\n",
       " {'brand': 'New Balance', 'color': 'orange', 'size': '38'},\n",
       " {'brand': 'New Balance', 'color': 'orange', 'size': '39'},\n",
       " {'brand': 'New Balance', 'color': 'black', 'size': '43'},\n",
       " {'brand': 'New Balance', 'color': 'orange', 'size': '44'},\n",
       " {'brand': 'New Balance', 'color': 'orange', 'size': '37'},\n",
       " {'brand': 'New Balance', 'color': 'pink', 'size': '40'},\n",
       " {'brand': 'New Balance', 'color': 'pink', 'size': '41'},\n",
       " {'brand': 'New Balance', 'color': 'orange', 'size': '41'},\n",
       " {'brand': 'New Balance', 'color': 'orange', 'size': '40'},\n",
       " {'brand': 'New Balance', 'color': 'white', 'size': '44'},\n",
       " {'brand': 'New Balance', 'color': 'pink', 'size': '40'},\n",
       " {'brand': 'New Balance', 'color': 'white', 'size': '39'},\n",
       " {'brand': 'New Balance', 'color': 'orange', 'size': '40'},\n",
       " {'brand': 'New Balance', 'color': 'black', 'size': '40'},\n",
       " {'brand': 'New Balance', 'color': 'orange', 'size': '39'},\n",
       " {'brand': 'New Balance', 'color': 'orange', 'size': '41'},\n",
       " {'brand': 'New Balance', 'color': 'white', 'size': '35'},\n",
       " {'brand': 'New Balance', 'color': 'orange', 'size': '43'},\n",
       " {'brand': 'New Balance', 'color': 'pink', 'size': '40'},\n",
       " {'brand': 'New Balance', 'color': 'black', 'size': '40'},\n",
       " {'brand': 'New Balance', 'color': 'pink', 'size': '40'},\n",
       " {'brand': 'New Balance', 'color': 'white', 'size': '38'},\n",
       " {'brand': 'New Balance', 'color': 'black', 'size': '40'},\n",
       " {'brand': 'New Balance', 'color': 'pink', 'size': '40'},\n",
       " {'brand': 'New Balance', 'color': 'orange', 'size': '38'},\n",
       " {'brand': 'New Balance', 'color': 'black', 'size': '43'},\n",
       " {'brand': 'New Balance', 'color': 'pink', 'size': '39'},\n",
       " {'brand': 'New Balance', 'color': 'orange', 'size': '40'},\n",
       " {'brand': 'New Balance', 'color': 'white', 'size': '44'},\n",
       " {'brand': 'Nike', 'color': 'black', 'size': '41'},\n",
       " {'brand': 'Nike', 'color': 'white', 'size': '44'},\n",
       " {'brand': 'Nike', 'color': 'pink', 'size': '44'},\n",
       " {'brand': 'Nike', 'color': 'black', 'size': '41'},\n",
       " {'brand': 'Nike', 'color': 'pink', 'size': '41'},\n",
       " {'brand': 'Nike', 'color': 'pink', 'size': '43'},\n",
       " {'brand': 'Nike', 'color': 'black', 'size': '43'},\n",
       " {'brand': 'Nike', 'color': 'black', 'size': '42'},\n",
       " {'brand': 'Nike', 'color': 'black', 'size': '35'},\n",
       " {'brand': 'Nike', 'color': 'black', 'size': '43'},\n",
       " {'brand': 'Nike', 'color': 'pink', 'size': '36'},\n",
       " {'brand': 'Nike', 'color': 'black', 'size': '42'},\n",
       " {'brand': 'Nike', 'color': 'white', 'size': '37'},\n",
       " {'brand': 'Nike', 'color': 'black', 'size': '35'},\n",
       " {'brand': 'Nike', 'color': 'white', 'size': '37'},\n",
       " {'brand': 'Nike', 'color': 'pink', 'size': '44'},\n",
       " {'brand': 'Nike', 'color': 'pink', 'size': '38'},\n",
       " {'brand': 'Nike', 'color': 'pink', 'size': '40'},\n",
       " {'brand': 'Nike', 'color': 'white', 'size': '44'},\n",
       " {'brand': 'Nike', 'color': 'orange', 'size': '38'},\n",
       " {'brand': 'Nike', 'color': 'white', 'size': '37'},\n",
       " {'brand': 'Nike', 'color': 'orange', 'size': '38'},\n",
       " {'brand': 'Nike', 'color': 'pink', 'size': '40'},\n",
       " {'brand': 'Nike', 'color': 'orange', 'size': '40'},\n",
       " {'brand': 'Nike', 'color': 'pink', 'size': '40'},\n",
       " {'brand': 'Nike', 'color': 'black', 'size': '41'},\n",
       " {'brand': 'Nike', 'color': 'black', 'size': '39'},\n",
       " {'brand': 'Nike', 'color': 'orange', 'size': '36'},\n",
       " {'brand': 'Nike', 'color': 'black', 'size': '38'},\n",
       " {'brand': 'Nike', 'color': 'pink', 'size': '41'},\n",
       " {'brand': 'Nike', 'color': 'black', 'size': '44'},\n",
       " {'brand': 'Nike', 'color': 'black', 'size': '38'},\n",
       " {'brand': 'Nike', 'color': 'pink', 'size': '42'},\n",
       " {'brand': 'Nike', 'color': 'white', 'size': '38'},\n",
       " {'brand': 'Nike', 'color': 'orange', 'size': '39'},\n",
       " {'brand': 'Nike', 'color': 'black', 'size': '35'}]"
      ]
     },
     "execution_count": 37,
     "metadata": {},
     "output_type": "execute_result"
    }
   ],
   "source": [
    "# say I want to sort them by brand\n",
    "\n",
    "def by_brand(shoe_dict):\n",
    "    return shoe_dict['brand']\n",
    "\n",
    "sorted(shoes, key=by_brand)"
   ]
  },
  {
   "cell_type": "code",
   "execution_count": 38,
   "id": "03a39d51",
   "metadata": {},
   "outputs": [
    {
     "data": {
      "text/plain": [
       "[{'brand': 'Adidas', 'color': 'pink', 'size': '35'},\n",
       " {'brand': 'Nike', 'color': 'black', 'size': '35'},\n",
       " {'brand': 'Adidas', 'color': 'white', 'size': '35'},\n",
       " {'brand': 'Nike', 'color': 'black', 'size': '35'},\n",
       " {'brand': 'Adidas', 'color': 'pink', 'size': '35'},\n",
       " {'brand': 'New Balance', 'color': 'white', 'size': '35'},\n",
       " {'brand': 'Adidas', 'color': 'white', 'size': '35'},\n",
       " {'brand': 'Nike', 'color': 'black', 'size': '35'},\n",
       " {'brand': 'Adidas', 'color': 'white', 'size': '36'},\n",
       " {'brand': 'Adidas', 'color': 'orange', 'size': '36'},\n",
       " {'brand': 'Nike', 'color': 'pink', 'size': '36'},\n",
       " {'brand': 'Adidas', 'color': 'white', 'size': '36'},\n",
       " {'brand': 'Nike', 'color': 'orange', 'size': '36'},\n",
       " {'brand': 'Adidas', 'color': 'pink', 'size': '36'},\n",
       " {'brand': 'Adidas', 'color': 'orange', 'size': '37'},\n",
       " {'brand': 'New Balance', 'color': 'orange', 'size': '37'},\n",
       " {'brand': 'Nike', 'color': 'white', 'size': '37'},\n",
       " {'brand': 'Nike', 'color': 'white', 'size': '37'},\n",
       " {'brand': 'Adidas', 'color': 'orange', 'size': '37'},\n",
       " {'brand': 'Nike', 'color': 'white', 'size': '37'},\n",
       " {'brand': 'Adidas', 'color': 'orange', 'size': '37'},\n",
       " {'brand': 'New Balance', 'color': 'orange', 'size': '38'},\n",
       " {'brand': 'Adidas', 'color': 'black', 'size': '38'},\n",
       " {'brand': 'Adidas', 'color': 'orange', 'size': '38'},\n",
       " {'brand': 'Nike', 'color': 'pink', 'size': '38'},\n",
       " {'brand': 'Nike', 'color': 'orange', 'size': '38'},\n",
       " {'brand': 'Nike', 'color': 'orange', 'size': '38'},\n",
       " {'brand': 'New Balance', 'color': 'white', 'size': '38'},\n",
       " {'brand': 'Nike', 'color': 'black', 'size': '38'},\n",
       " {'brand': 'New Balance', 'color': 'orange', 'size': '38'},\n",
       " {'brand': 'Nike', 'color': 'black', 'size': '38'},\n",
       " {'brand': 'Nike', 'color': 'white', 'size': '38'},\n",
       " {'brand': 'Adidas', 'color': 'black', 'size': '39'},\n",
       " {'brand': 'New Balance', 'color': 'orange', 'size': '39'},\n",
       " {'brand': 'New Balance', 'color': 'white', 'size': '39'},\n",
       " {'brand': 'Adidas', 'color': 'black', 'size': '39'},\n",
       " {'brand': 'New Balance', 'color': 'orange', 'size': '39'},\n",
       " {'brand': 'Adidas', 'color': 'white', 'size': '39'},\n",
       " {'brand': 'Adidas', 'color': 'black', 'size': '39'},\n",
       " {'brand': 'Adidas', 'color': 'pink', 'size': '39'},\n",
       " {'brand': 'Adidas', 'color': 'pink', 'size': '39'},\n",
       " {'brand': 'Adidas', 'color': 'orange', 'size': '39'},\n",
       " {'brand': 'Nike', 'color': 'black', 'size': '39'},\n",
       " {'brand': 'New Balance', 'color': 'pink', 'size': '39'},\n",
       " {'brand': 'Nike', 'color': 'orange', 'size': '39'},\n",
       " {'brand': 'New Balance', 'color': 'pink', 'size': '40'},\n",
       " {'brand': 'Adidas', 'color': 'orange', 'size': '40'},\n",
       " {'brand': 'New Balance', 'color': 'orange', 'size': '40'},\n",
       " {'brand': 'New Balance', 'color': 'pink', 'size': '40'},\n",
       " {'brand': 'New Balance', 'color': 'orange', 'size': '40'},\n",
       " {'brand': 'New Balance', 'color': 'black', 'size': '40'},\n",
       " {'brand': 'Adidas', 'color': 'black', 'size': '40'},\n",
       " {'brand': 'Nike', 'color': 'pink', 'size': '40'},\n",
       " {'brand': 'Nike', 'color': 'pink', 'size': '40'},\n",
       " {'brand': 'Nike', 'color': 'orange', 'size': '40'},\n",
       " {'brand': 'New Balance', 'color': 'pink', 'size': '40'},\n",
       " {'brand': 'New Balance', 'color': 'black', 'size': '40'},\n",
       " {'brand': 'New Balance', 'color': 'pink', 'size': '40'},\n",
       " {'brand': 'Nike', 'color': 'pink', 'size': '40'},\n",
       " {'brand': 'New Balance', 'color': 'black', 'size': '40'},\n",
       " {'brand': 'New Balance', 'color': 'pink', 'size': '40'},\n",
       " {'brand': 'Adidas', 'color': 'white', 'size': '40'},\n",
       " {'brand': 'New Balance', 'color': 'orange', 'size': '40'},\n",
       " {'brand': 'Nike', 'color': 'black', 'size': '41'},\n",
       " {'brand': 'New Balance', 'color': 'pink', 'size': '41'},\n",
       " {'brand': 'Nike', 'color': 'black', 'size': '41'},\n",
       " {'brand': 'Adidas', 'color': 'pink', 'size': '41'},\n",
       " {'brand': 'Nike', 'color': 'pink', 'size': '41'},\n",
       " {'brand': 'Adidas', 'color': 'black', 'size': '41'},\n",
       " {'brand': 'New Balance', 'color': 'pink', 'size': '41'},\n",
       " {'brand': 'New Balance', 'color': 'orange', 'size': '41'},\n",
       " {'brand': 'Adidas', 'color': 'black', 'size': '41'},\n",
       " {'brand': 'New Balance', 'color': 'orange', 'size': '41'},\n",
       " {'brand': 'Adidas', 'color': 'pink', 'size': '41'},\n",
       " {'brand': 'Adidas', 'color': 'pink', 'size': '41'},\n",
       " {'brand': 'Nike', 'color': 'black', 'size': '41'},\n",
       " {'brand': 'Adidas', 'color': 'black', 'size': '41'},\n",
       " {'brand': 'Nike', 'color': 'pink', 'size': '41'},\n",
       " {'brand': 'Nike', 'color': 'black', 'size': '42'},\n",
       " {'brand': 'Nike', 'color': 'black', 'size': '42'},\n",
       " {'brand': 'Adidas', 'color': 'orange', 'size': '42'},\n",
       " {'brand': 'Adidas', 'color': 'black', 'size': '42'},\n",
       " {'brand': 'Nike', 'color': 'pink', 'size': '42'},\n",
       " {'brand': 'Adidas', 'color': 'black', 'size': '42'},\n",
       " {'brand': 'Adidas', 'color': 'orange', 'size': '43'},\n",
       " {'brand': 'New Balance', 'color': 'black', 'size': '43'},\n",
       " {'brand': 'Nike', 'color': 'pink', 'size': '43'},\n",
       " {'brand': 'Nike', 'color': 'black', 'size': '43'},\n",
       " {'brand': 'Nike', 'color': 'black', 'size': '43'},\n",
       " {'brand': 'New Balance', 'color': 'orange', 'size': '43'},\n",
       " {'brand': 'New Balance', 'color': 'black', 'size': '43'},\n",
       " {'brand': 'Nike', 'color': 'white', 'size': '44'},\n",
       " {'brand': 'Nike', 'color': 'pink', 'size': '44'},\n",
       " {'brand': 'Adidas', 'color': 'pink', 'size': '44'},\n",
       " {'brand': 'New Balance', 'color': 'orange', 'size': '44'},\n",
       " {'brand': 'New Balance', 'color': 'white', 'size': '44'},\n",
       " {'brand': 'Nike', 'color': 'pink', 'size': '44'},\n",
       " {'brand': 'Nike', 'color': 'white', 'size': '44'},\n",
       " {'brand': 'Nike', 'color': 'black', 'size': '44'},\n",
       " {'brand': 'New Balance', 'color': 'white', 'size': '44'}]"
      ]
     },
     "execution_count": 38,
     "metadata": {},
     "output_type": "execute_result"
    }
   ],
   "source": [
    "# say I want to sort them by size\n",
    "\n",
    "def by_size(shoe_dict):\n",
    "    return shoe_dict['size']\n",
    "\n",
    "sorted(shoes, key=by_size)"
   ]
  },
  {
   "cell_type": "code",
   "execution_count": 39,
   "id": "4e0d143e",
   "metadata": {
    "scrolled": true
   },
   "outputs": [
    {
     "data": {
      "text/plain": [
       "[{'brand': 'Adidas', 'color': 'pink', 'size': '35'},\n",
       " {'brand': 'Adidas', 'color': 'white', 'size': '35'},\n",
       " {'brand': 'Adidas', 'color': 'pink', 'size': '35'},\n",
       " {'brand': 'Adidas', 'color': 'white', 'size': '35'},\n",
       " {'brand': 'Adidas', 'color': 'white', 'size': '36'},\n",
       " {'brand': 'Adidas', 'color': 'orange', 'size': '36'},\n",
       " {'brand': 'Adidas', 'color': 'white', 'size': '36'},\n",
       " {'brand': 'Adidas', 'color': 'pink', 'size': '36'},\n",
       " {'brand': 'Adidas', 'color': 'orange', 'size': '37'},\n",
       " {'brand': 'Adidas', 'color': 'orange', 'size': '37'},\n",
       " {'brand': 'Adidas', 'color': 'orange', 'size': '37'},\n",
       " {'brand': 'Adidas', 'color': 'black', 'size': '38'},\n",
       " {'brand': 'Adidas', 'color': 'orange', 'size': '38'},\n",
       " {'brand': 'Adidas', 'color': 'black', 'size': '39'},\n",
       " {'brand': 'Adidas', 'color': 'black', 'size': '39'},\n",
       " {'brand': 'Adidas', 'color': 'white', 'size': '39'},\n",
       " {'brand': 'Adidas', 'color': 'black', 'size': '39'},\n",
       " {'brand': 'Adidas', 'color': 'pink', 'size': '39'},\n",
       " {'brand': 'Adidas', 'color': 'pink', 'size': '39'},\n",
       " {'brand': 'Adidas', 'color': 'orange', 'size': '39'},\n",
       " {'brand': 'Adidas', 'color': 'orange', 'size': '40'},\n",
       " {'brand': 'Adidas', 'color': 'black', 'size': '40'},\n",
       " {'brand': 'Adidas', 'color': 'white', 'size': '40'},\n",
       " {'brand': 'Adidas', 'color': 'pink', 'size': '41'},\n",
       " {'brand': 'Adidas', 'color': 'black', 'size': '41'},\n",
       " {'brand': 'Adidas', 'color': 'black', 'size': '41'},\n",
       " {'brand': 'Adidas', 'color': 'pink', 'size': '41'},\n",
       " {'brand': 'Adidas', 'color': 'pink', 'size': '41'},\n",
       " {'brand': 'Adidas', 'color': 'black', 'size': '41'},\n",
       " {'brand': 'Adidas', 'color': 'orange', 'size': '42'},\n",
       " {'brand': 'Adidas', 'color': 'black', 'size': '42'},\n",
       " {'brand': 'Adidas', 'color': 'black', 'size': '42'},\n",
       " {'brand': 'Adidas', 'color': 'orange', 'size': '43'},\n",
       " {'brand': 'Adidas', 'color': 'pink', 'size': '44'},\n",
       " {'brand': 'New Balance', 'color': 'white', 'size': '35'},\n",
       " {'brand': 'New Balance', 'color': 'orange', 'size': '37'},\n",
       " {'brand': 'New Balance', 'color': 'orange', 'size': '38'},\n",
       " {'brand': 'New Balance', 'color': 'white', 'size': '38'},\n",
       " {'brand': 'New Balance', 'color': 'orange', 'size': '38'},\n",
       " {'brand': 'New Balance', 'color': 'orange', 'size': '39'},\n",
       " {'brand': 'New Balance', 'color': 'white', 'size': '39'},\n",
       " {'brand': 'New Balance', 'color': 'orange', 'size': '39'},\n",
       " {'brand': 'New Balance', 'color': 'pink', 'size': '39'},\n",
       " {'brand': 'New Balance', 'color': 'pink', 'size': '40'},\n",
       " {'brand': 'New Balance', 'color': 'orange', 'size': '40'},\n",
       " {'brand': 'New Balance', 'color': 'pink', 'size': '40'},\n",
       " {'brand': 'New Balance', 'color': 'orange', 'size': '40'},\n",
       " {'brand': 'New Balance', 'color': 'black', 'size': '40'},\n",
       " {'brand': 'New Balance', 'color': 'pink', 'size': '40'},\n",
       " {'brand': 'New Balance', 'color': 'black', 'size': '40'},\n",
       " {'brand': 'New Balance', 'color': 'pink', 'size': '40'},\n",
       " {'brand': 'New Balance', 'color': 'black', 'size': '40'},\n",
       " {'brand': 'New Balance', 'color': 'pink', 'size': '40'},\n",
       " {'brand': 'New Balance', 'color': 'orange', 'size': '40'},\n",
       " {'brand': 'New Balance', 'color': 'pink', 'size': '41'},\n",
       " {'brand': 'New Balance', 'color': 'pink', 'size': '41'},\n",
       " {'brand': 'New Balance', 'color': 'orange', 'size': '41'},\n",
       " {'brand': 'New Balance', 'color': 'orange', 'size': '41'},\n",
       " {'brand': 'New Balance', 'color': 'black', 'size': '43'},\n",
       " {'brand': 'New Balance', 'color': 'orange', 'size': '43'},\n",
       " {'brand': 'New Balance', 'color': 'black', 'size': '43'},\n",
       " {'brand': 'New Balance', 'color': 'orange', 'size': '44'},\n",
       " {'brand': 'New Balance', 'color': 'white', 'size': '44'},\n",
       " {'brand': 'New Balance', 'color': 'white', 'size': '44'},\n",
       " {'brand': 'Nike', 'color': 'black', 'size': '35'},\n",
       " {'brand': 'Nike', 'color': 'black', 'size': '35'},\n",
       " {'brand': 'Nike', 'color': 'black', 'size': '35'},\n",
       " {'brand': 'Nike', 'color': 'pink', 'size': '36'},\n",
       " {'brand': 'Nike', 'color': 'orange', 'size': '36'},\n",
       " {'brand': 'Nike', 'color': 'white', 'size': '37'},\n",
       " {'brand': 'Nike', 'color': 'white', 'size': '37'},\n",
       " {'brand': 'Nike', 'color': 'white', 'size': '37'},\n",
       " {'brand': 'Nike', 'color': 'pink', 'size': '38'},\n",
       " {'brand': 'Nike', 'color': 'orange', 'size': '38'},\n",
       " {'brand': 'Nike', 'color': 'orange', 'size': '38'},\n",
       " {'brand': 'Nike', 'color': 'black', 'size': '38'},\n",
       " {'brand': 'Nike', 'color': 'black', 'size': '38'},\n",
       " {'brand': 'Nike', 'color': 'white', 'size': '38'},\n",
       " {'brand': 'Nike', 'color': 'black', 'size': '39'},\n",
       " {'brand': 'Nike', 'color': 'orange', 'size': '39'},\n",
       " {'brand': 'Nike', 'color': 'pink', 'size': '40'},\n",
       " {'brand': 'Nike', 'color': 'pink', 'size': '40'},\n",
       " {'brand': 'Nike', 'color': 'orange', 'size': '40'},\n",
       " {'brand': 'Nike', 'color': 'pink', 'size': '40'},\n",
       " {'brand': 'Nike', 'color': 'black', 'size': '41'},\n",
       " {'brand': 'Nike', 'color': 'black', 'size': '41'},\n",
       " {'brand': 'Nike', 'color': 'pink', 'size': '41'},\n",
       " {'brand': 'Nike', 'color': 'black', 'size': '41'},\n",
       " {'brand': 'Nike', 'color': 'pink', 'size': '41'},\n",
       " {'brand': 'Nike', 'color': 'black', 'size': '42'},\n",
       " {'brand': 'Nike', 'color': 'black', 'size': '42'},\n",
       " {'brand': 'Nike', 'color': 'pink', 'size': '42'},\n",
       " {'brand': 'Nike', 'color': 'pink', 'size': '43'},\n",
       " {'brand': 'Nike', 'color': 'black', 'size': '43'},\n",
       " {'brand': 'Nike', 'color': 'black', 'size': '43'},\n",
       " {'brand': 'Nike', 'color': 'white', 'size': '44'},\n",
       " {'brand': 'Nike', 'color': 'pink', 'size': '44'},\n",
       " {'brand': 'Nike', 'color': 'pink', 'size': '44'},\n",
       " {'brand': 'Nike', 'color': 'white', 'size': '44'},\n",
       " {'brand': 'Nike', 'color': 'black', 'size': '44'}]"
      ]
     },
     "execution_count": 39,
     "metadata": {},
     "output_type": "execute_result"
    }
   ],
   "source": [
    "# say I want to sort them first by brand, then by size\n",
    "\n",
    "def by_brand_and_size(shoe_dict):\n",
    "    return shoe_dict['brand'], shoe_dict['size']    # here, I return a tuple\n",
    "\n",
    "sorted(shoes, key=by_brand_and_size)"
   ]
  },
  {
   "cell_type": "code",
   "execution_count": 41,
   "id": "e45e2fe0",
   "metadata": {},
   "outputs": [
    {
     "data": {
      "text/plain": [
       "'d'"
      ]
     },
     "execution_count": 41,
     "metadata": {},
     "output_type": "execute_result"
    }
   ],
   "source": [
    "# there must be a more standard way to solve this problem if it's general..\n",
    "# we can use the \"operator\" module, and specifically operator.itemgetter\n",
    "\n",
    "# when you call operator.itemgetter, it returns a function that operates as []\n",
    "\n",
    "# meaning:\n",
    "\n",
    "import operator\n",
    "\n",
    "x = operator.itemgetter(3)   # x is a function that runs [3] on any data\n",
    "\n",
    "x('abcde')   # same as 'abcde'[3]"
   ]
  },
  {
   "cell_type": "code",
   "execution_count": 42,
   "id": "79ce786a",
   "metadata": {},
   "outputs": [
    {
     "data": {
      "text/plain": [
       "[{'brand': 'Adidas', 'color': 'orange', 'size': '43'},\n",
       " {'brand': 'Adidas', 'color': 'black', 'size': '39'},\n",
       " {'brand': 'Adidas', 'color': 'pink', 'size': '44'},\n",
       " {'brand': 'Adidas', 'color': 'orange', 'size': '37'},\n",
       " {'brand': 'Adidas', 'color': 'black', 'size': '38'},\n",
       " {'brand': 'Adidas', 'color': 'pink', 'size': '41'},\n",
       " {'brand': 'Adidas', 'color': 'white', 'size': '36'},\n",
       " {'brand': 'Adidas', 'color': 'orange', 'size': '36'},\n",
       " {'brand': 'Adidas', 'color': 'pink', 'size': '35'},\n",
       " {'brand': 'Adidas', 'color': 'black', 'size': '41'},\n",
       " {'brand': 'Adidas', 'color': 'white', 'size': '35'},\n",
       " {'brand': 'Adidas', 'color': 'orange', 'size': '40'},\n",
       " {'brand': 'Adidas', 'color': 'black', 'size': '41'},\n",
       " {'brand': 'Adidas', 'color': 'black', 'size': '39'},\n",
       " {'brand': 'Adidas', 'color': 'black', 'size': '40'},\n",
       " {'brand': 'Adidas', 'color': 'orange', 'size': '38'},\n",
       " {'brand': 'Adidas', 'color': 'white', 'size': '39'},\n",
       " {'brand': 'Adidas', 'color': 'orange', 'size': '37'},\n",
       " {'brand': 'Adidas', 'color': 'pink', 'size': '35'},\n",
       " {'brand': 'Adidas', 'color': 'black', 'size': '39'},\n",
       " {'brand': 'Adidas', 'color': 'orange', 'size': '42'},\n",
       " {'brand': 'Adidas', 'color': 'pink', 'size': '39'},\n",
       " {'brand': 'Adidas', 'color': 'pink', 'size': '41'},\n",
       " {'brand': 'Adidas', 'color': 'pink', 'size': '39'},\n",
       " {'brand': 'Adidas', 'color': 'orange', 'size': '39'},\n",
       " {'brand': 'Adidas', 'color': 'white', 'size': '36'},\n",
       " {'brand': 'Adidas', 'color': 'pink', 'size': '41'},\n",
       " {'brand': 'Adidas', 'color': 'black', 'size': '41'},\n",
       " {'brand': 'Adidas', 'color': 'black', 'size': '42'},\n",
       " {'brand': 'Adidas', 'color': 'white', 'size': '40'},\n",
       " {'brand': 'Adidas', 'color': 'orange', 'size': '37'},\n",
       " {'brand': 'Adidas', 'color': 'pink', 'size': '36'},\n",
       " {'brand': 'Adidas', 'color': 'white', 'size': '35'},\n",
       " {'brand': 'Adidas', 'color': 'black', 'size': '42'},\n",
       " {'brand': 'New Balance', 'color': 'pink', 'size': '41'},\n",
       " {'brand': 'New Balance', 'color': 'orange', 'size': '38'},\n",
       " {'brand': 'New Balance', 'color': 'orange', 'size': '39'},\n",
       " {'brand': 'New Balance', 'color': 'black', 'size': '43'},\n",
       " {'brand': 'New Balance', 'color': 'orange', 'size': '44'},\n",
       " {'brand': 'New Balance', 'color': 'orange', 'size': '37'},\n",
       " {'brand': 'New Balance', 'color': 'pink', 'size': '40'},\n",
       " {'brand': 'New Balance', 'color': 'pink', 'size': '41'},\n",
       " {'brand': 'New Balance', 'color': 'orange', 'size': '41'},\n",
       " {'brand': 'New Balance', 'color': 'orange', 'size': '40'},\n",
       " {'brand': 'New Balance', 'color': 'white', 'size': '44'},\n",
       " {'brand': 'New Balance', 'color': 'pink', 'size': '40'},\n",
       " {'brand': 'New Balance', 'color': 'white', 'size': '39'},\n",
       " {'brand': 'New Balance', 'color': 'orange', 'size': '40'},\n",
       " {'brand': 'New Balance', 'color': 'black', 'size': '40'},\n",
       " {'brand': 'New Balance', 'color': 'orange', 'size': '39'},\n",
       " {'brand': 'New Balance', 'color': 'orange', 'size': '41'},\n",
       " {'brand': 'New Balance', 'color': 'white', 'size': '35'},\n",
       " {'brand': 'New Balance', 'color': 'orange', 'size': '43'},\n",
       " {'brand': 'New Balance', 'color': 'pink', 'size': '40'},\n",
       " {'brand': 'New Balance', 'color': 'black', 'size': '40'},\n",
       " {'brand': 'New Balance', 'color': 'pink', 'size': '40'},\n",
       " {'brand': 'New Balance', 'color': 'white', 'size': '38'},\n",
       " {'brand': 'New Balance', 'color': 'black', 'size': '40'},\n",
       " {'brand': 'New Balance', 'color': 'pink', 'size': '40'},\n",
       " {'brand': 'New Balance', 'color': 'orange', 'size': '38'},\n",
       " {'brand': 'New Balance', 'color': 'black', 'size': '43'},\n",
       " {'brand': 'New Balance', 'color': 'pink', 'size': '39'},\n",
       " {'brand': 'New Balance', 'color': 'orange', 'size': '40'},\n",
       " {'brand': 'New Balance', 'color': 'white', 'size': '44'},\n",
       " {'brand': 'Nike', 'color': 'black', 'size': '41'},\n",
       " {'brand': 'Nike', 'color': 'white', 'size': '44'},\n",
       " {'brand': 'Nike', 'color': 'pink', 'size': '44'},\n",
       " {'brand': 'Nike', 'color': 'black', 'size': '41'},\n",
       " {'brand': 'Nike', 'color': 'pink', 'size': '41'},\n",
       " {'brand': 'Nike', 'color': 'pink', 'size': '43'},\n",
       " {'brand': 'Nike', 'color': 'black', 'size': '43'},\n",
       " {'brand': 'Nike', 'color': 'black', 'size': '42'},\n",
       " {'brand': 'Nike', 'color': 'black', 'size': '35'},\n",
       " {'brand': 'Nike', 'color': 'black', 'size': '43'},\n",
       " {'brand': 'Nike', 'color': 'pink', 'size': '36'},\n",
       " {'brand': 'Nike', 'color': 'black', 'size': '42'},\n",
       " {'brand': 'Nike', 'color': 'white', 'size': '37'},\n",
       " {'brand': 'Nike', 'color': 'black', 'size': '35'},\n",
       " {'brand': 'Nike', 'color': 'white', 'size': '37'},\n",
       " {'brand': 'Nike', 'color': 'pink', 'size': '44'},\n",
       " {'brand': 'Nike', 'color': 'pink', 'size': '38'},\n",
       " {'brand': 'Nike', 'color': 'pink', 'size': '40'},\n",
       " {'brand': 'Nike', 'color': 'white', 'size': '44'},\n",
       " {'brand': 'Nike', 'color': 'orange', 'size': '38'},\n",
       " {'brand': 'Nike', 'color': 'white', 'size': '37'},\n",
       " {'brand': 'Nike', 'color': 'orange', 'size': '38'},\n",
       " {'brand': 'Nike', 'color': 'pink', 'size': '40'},\n",
       " {'brand': 'Nike', 'color': 'orange', 'size': '40'},\n",
       " {'brand': 'Nike', 'color': 'pink', 'size': '40'},\n",
       " {'brand': 'Nike', 'color': 'black', 'size': '41'},\n",
       " {'brand': 'Nike', 'color': 'black', 'size': '39'},\n",
       " {'brand': 'Nike', 'color': 'orange', 'size': '36'},\n",
       " {'brand': 'Nike', 'color': 'black', 'size': '38'},\n",
       " {'brand': 'Nike', 'color': 'pink', 'size': '41'},\n",
       " {'brand': 'Nike', 'color': 'black', 'size': '44'},\n",
       " {'brand': 'Nike', 'color': 'black', 'size': '38'},\n",
       " {'brand': 'Nike', 'color': 'pink', 'size': '42'},\n",
       " {'brand': 'Nike', 'color': 'white', 'size': '38'},\n",
       " {'brand': 'Nike', 'color': 'orange', 'size': '39'},\n",
       " {'brand': 'Nike', 'color': 'black', 'size': '35'}]"
      ]
     },
     "execution_count": 42,
     "metadata": {},
     "output_type": "execute_result"
    }
   ],
   "source": [
    "# want to sort by brand? We don't need to define our own, new function!\n",
    "\n",
    "sorted(shoes, key=operator.itemgetter('brand'))"
   ]
  },
  {
   "cell_type": "code",
   "execution_count": 43,
   "id": "32329672",
   "metadata": {},
   "outputs": [
    {
     "data": {
      "text/plain": [
       "[{'brand': 'Adidas', 'color': 'pink', 'size': '35'},\n",
       " {'brand': 'Nike', 'color': 'black', 'size': '35'},\n",
       " {'brand': 'Adidas', 'color': 'white', 'size': '35'},\n",
       " {'brand': 'Nike', 'color': 'black', 'size': '35'},\n",
       " {'brand': 'Adidas', 'color': 'pink', 'size': '35'},\n",
       " {'brand': 'New Balance', 'color': 'white', 'size': '35'},\n",
       " {'brand': 'Adidas', 'color': 'white', 'size': '35'},\n",
       " {'brand': 'Nike', 'color': 'black', 'size': '35'},\n",
       " {'brand': 'Adidas', 'color': 'white', 'size': '36'},\n",
       " {'brand': 'Adidas', 'color': 'orange', 'size': '36'},\n",
       " {'brand': 'Nike', 'color': 'pink', 'size': '36'},\n",
       " {'brand': 'Adidas', 'color': 'white', 'size': '36'},\n",
       " {'brand': 'Nike', 'color': 'orange', 'size': '36'},\n",
       " {'brand': 'Adidas', 'color': 'pink', 'size': '36'},\n",
       " {'brand': 'Adidas', 'color': 'orange', 'size': '37'},\n",
       " {'brand': 'New Balance', 'color': 'orange', 'size': '37'},\n",
       " {'brand': 'Nike', 'color': 'white', 'size': '37'},\n",
       " {'brand': 'Nike', 'color': 'white', 'size': '37'},\n",
       " {'brand': 'Adidas', 'color': 'orange', 'size': '37'},\n",
       " {'brand': 'Nike', 'color': 'white', 'size': '37'},\n",
       " {'brand': 'Adidas', 'color': 'orange', 'size': '37'},\n",
       " {'brand': 'New Balance', 'color': 'orange', 'size': '38'},\n",
       " {'brand': 'Adidas', 'color': 'black', 'size': '38'},\n",
       " {'brand': 'Adidas', 'color': 'orange', 'size': '38'},\n",
       " {'brand': 'Nike', 'color': 'pink', 'size': '38'},\n",
       " {'brand': 'Nike', 'color': 'orange', 'size': '38'},\n",
       " {'brand': 'Nike', 'color': 'orange', 'size': '38'},\n",
       " {'brand': 'New Balance', 'color': 'white', 'size': '38'},\n",
       " {'brand': 'Nike', 'color': 'black', 'size': '38'},\n",
       " {'brand': 'New Balance', 'color': 'orange', 'size': '38'},\n",
       " {'brand': 'Nike', 'color': 'black', 'size': '38'},\n",
       " {'brand': 'Nike', 'color': 'white', 'size': '38'},\n",
       " {'brand': 'Adidas', 'color': 'black', 'size': '39'},\n",
       " {'brand': 'New Balance', 'color': 'orange', 'size': '39'},\n",
       " {'brand': 'New Balance', 'color': 'white', 'size': '39'},\n",
       " {'brand': 'Adidas', 'color': 'black', 'size': '39'},\n",
       " {'brand': 'New Balance', 'color': 'orange', 'size': '39'},\n",
       " {'brand': 'Adidas', 'color': 'white', 'size': '39'},\n",
       " {'brand': 'Adidas', 'color': 'black', 'size': '39'},\n",
       " {'brand': 'Adidas', 'color': 'pink', 'size': '39'},\n",
       " {'brand': 'Adidas', 'color': 'pink', 'size': '39'},\n",
       " {'brand': 'Adidas', 'color': 'orange', 'size': '39'},\n",
       " {'brand': 'Nike', 'color': 'black', 'size': '39'},\n",
       " {'brand': 'New Balance', 'color': 'pink', 'size': '39'},\n",
       " {'brand': 'Nike', 'color': 'orange', 'size': '39'},\n",
       " {'brand': 'New Balance', 'color': 'pink', 'size': '40'},\n",
       " {'brand': 'Adidas', 'color': 'orange', 'size': '40'},\n",
       " {'brand': 'New Balance', 'color': 'orange', 'size': '40'},\n",
       " {'brand': 'New Balance', 'color': 'pink', 'size': '40'},\n",
       " {'brand': 'New Balance', 'color': 'orange', 'size': '40'},\n",
       " {'brand': 'New Balance', 'color': 'black', 'size': '40'},\n",
       " {'brand': 'Adidas', 'color': 'black', 'size': '40'},\n",
       " {'brand': 'Nike', 'color': 'pink', 'size': '40'},\n",
       " {'brand': 'Nike', 'color': 'pink', 'size': '40'},\n",
       " {'brand': 'Nike', 'color': 'orange', 'size': '40'},\n",
       " {'brand': 'New Balance', 'color': 'pink', 'size': '40'},\n",
       " {'brand': 'New Balance', 'color': 'black', 'size': '40'},\n",
       " {'brand': 'New Balance', 'color': 'pink', 'size': '40'},\n",
       " {'brand': 'Nike', 'color': 'pink', 'size': '40'},\n",
       " {'brand': 'New Balance', 'color': 'black', 'size': '40'},\n",
       " {'brand': 'New Balance', 'color': 'pink', 'size': '40'},\n",
       " {'brand': 'Adidas', 'color': 'white', 'size': '40'},\n",
       " {'brand': 'New Balance', 'color': 'orange', 'size': '40'},\n",
       " {'brand': 'Nike', 'color': 'black', 'size': '41'},\n",
       " {'brand': 'New Balance', 'color': 'pink', 'size': '41'},\n",
       " {'brand': 'Nike', 'color': 'black', 'size': '41'},\n",
       " {'brand': 'Adidas', 'color': 'pink', 'size': '41'},\n",
       " {'brand': 'Nike', 'color': 'pink', 'size': '41'},\n",
       " {'brand': 'Adidas', 'color': 'black', 'size': '41'},\n",
       " {'brand': 'New Balance', 'color': 'pink', 'size': '41'},\n",
       " {'brand': 'New Balance', 'color': 'orange', 'size': '41'},\n",
       " {'brand': 'Adidas', 'color': 'black', 'size': '41'},\n",
       " {'brand': 'New Balance', 'color': 'orange', 'size': '41'},\n",
       " {'brand': 'Adidas', 'color': 'pink', 'size': '41'},\n",
       " {'brand': 'Adidas', 'color': 'pink', 'size': '41'},\n",
       " {'brand': 'Nike', 'color': 'black', 'size': '41'},\n",
       " {'brand': 'Adidas', 'color': 'black', 'size': '41'},\n",
       " {'brand': 'Nike', 'color': 'pink', 'size': '41'},\n",
       " {'brand': 'Nike', 'color': 'black', 'size': '42'},\n",
       " {'brand': 'Nike', 'color': 'black', 'size': '42'},\n",
       " {'brand': 'Adidas', 'color': 'orange', 'size': '42'},\n",
       " {'brand': 'Adidas', 'color': 'black', 'size': '42'},\n",
       " {'brand': 'Nike', 'color': 'pink', 'size': '42'},\n",
       " {'brand': 'Adidas', 'color': 'black', 'size': '42'},\n",
       " {'brand': 'Adidas', 'color': 'orange', 'size': '43'},\n",
       " {'brand': 'New Balance', 'color': 'black', 'size': '43'},\n",
       " {'brand': 'Nike', 'color': 'pink', 'size': '43'},\n",
       " {'brand': 'Nike', 'color': 'black', 'size': '43'},\n",
       " {'brand': 'Nike', 'color': 'black', 'size': '43'},\n",
       " {'brand': 'New Balance', 'color': 'orange', 'size': '43'},\n",
       " {'brand': 'New Balance', 'color': 'black', 'size': '43'},\n",
       " {'brand': 'Nike', 'color': 'white', 'size': '44'},\n",
       " {'brand': 'Nike', 'color': 'pink', 'size': '44'},\n",
       " {'brand': 'Adidas', 'color': 'pink', 'size': '44'},\n",
       " {'brand': 'New Balance', 'color': 'orange', 'size': '44'},\n",
       " {'brand': 'New Balance', 'color': 'white', 'size': '44'},\n",
       " {'brand': 'Nike', 'color': 'pink', 'size': '44'},\n",
       " {'brand': 'Nike', 'color': 'white', 'size': '44'},\n",
       " {'brand': 'Nike', 'color': 'black', 'size': '44'},\n",
       " {'brand': 'New Balance', 'color': 'white', 'size': '44'}]"
      ]
     },
     "execution_count": 43,
     "metadata": {},
     "output_type": "execute_result"
    }
   ],
   "source": [
    "# let's do it by size\n",
    "\n",
    "sorted(shoes, key=operator.itemgetter('size'))"
   ]
  },
  {
   "cell_type": "code",
   "execution_count": 44,
   "id": "9679bf3d",
   "metadata": {},
   "outputs": [
    {
     "data": {
      "text/plain": [
       "[{'brand': 'Adidas', 'color': 'pink', 'size': '35'},\n",
       " {'brand': 'Adidas', 'color': 'white', 'size': '35'},\n",
       " {'brand': 'Adidas', 'color': 'pink', 'size': '35'},\n",
       " {'brand': 'Adidas', 'color': 'white', 'size': '35'},\n",
       " {'brand': 'Adidas', 'color': 'white', 'size': '36'},\n",
       " {'brand': 'Adidas', 'color': 'orange', 'size': '36'},\n",
       " {'brand': 'Adidas', 'color': 'white', 'size': '36'},\n",
       " {'brand': 'Adidas', 'color': 'pink', 'size': '36'},\n",
       " {'brand': 'Adidas', 'color': 'orange', 'size': '37'},\n",
       " {'brand': 'Adidas', 'color': 'orange', 'size': '37'},\n",
       " {'brand': 'Adidas', 'color': 'orange', 'size': '37'},\n",
       " {'brand': 'Adidas', 'color': 'black', 'size': '38'},\n",
       " {'brand': 'Adidas', 'color': 'orange', 'size': '38'},\n",
       " {'brand': 'Adidas', 'color': 'black', 'size': '39'},\n",
       " {'brand': 'Adidas', 'color': 'black', 'size': '39'},\n",
       " {'brand': 'Adidas', 'color': 'white', 'size': '39'},\n",
       " {'brand': 'Adidas', 'color': 'black', 'size': '39'},\n",
       " {'brand': 'Adidas', 'color': 'pink', 'size': '39'},\n",
       " {'brand': 'Adidas', 'color': 'pink', 'size': '39'},\n",
       " {'brand': 'Adidas', 'color': 'orange', 'size': '39'},\n",
       " {'brand': 'Adidas', 'color': 'orange', 'size': '40'},\n",
       " {'brand': 'Adidas', 'color': 'black', 'size': '40'},\n",
       " {'brand': 'Adidas', 'color': 'white', 'size': '40'},\n",
       " {'brand': 'Adidas', 'color': 'pink', 'size': '41'},\n",
       " {'brand': 'Adidas', 'color': 'black', 'size': '41'},\n",
       " {'brand': 'Adidas', 'color': 'black', 'size': '41'},\n",
       " {'brand': 'Adidas', 'color': 'pink', 'size': '41'},\n",
       " {'brand': 'Adidas', 'color': 'pink', 'size': '41'},\n",
       " {'brand': 'Adidas', 'color': 'black', 'size': '41'},\n",
       " {'brand': 'Adidas', 'color': 'orange', 'size': '42'},\n",
       " {'brand': 'Adidas', 'color': 'black', 'size': '42'},\n",
       " {'brand': 'Adidas', 'color': 'black', 'size': '42'},\n",
       " {'brand': 'Adidas', 'color': 'orange', 'size': '43'},\n",
       " {'brand': 'Adidas', 'color': 'pink', 'size': '44'},\n",
       " {'brand': 'New Balance', 'color': 'white', 'size': '35'},\n",
       " {'brand': 'New Balance', 'color': 'orange', 'size': '37'},\n",
       " {'brand': 'New Balance', 'color': 'orange', 'size': '38'},\n",
       " {'brand': 'New Balance', 'color': 'white', 'size': '38'},\n",
       " {'brand': 'New Balance', 'color': 'orange', 'size': '38'},\n",
       " {'brand': 'New Balance', 'color': 'orange', 'size': '39'},\n",
       " {'brand': 'New Balance', 'color': 'white', 'size': '39'},\n",
       " {'brand': 'New Balance', 'color': 'orange', 'size': '39'},\n",
       " {'brand': 'New Balance', 'color': 'pink', 'size': '39'},\n",
       " {'brand': 'New Balance', 'color': 'pink', 'size': '40'},\n",
       " {'brand': 'New Balance', 'color': 'orange', 'size': '40'},\n",
       " {'brand': 'New Balance', 'color': 'pink', 'size': '40'},\n",
       " {'brand': 'New Balance', 'color': 'orange', 'size': '40'},\n",
       " {'brand': 'New Balance', 'color': 'black', 'size': '40'},\n",
       " {'brand': 'New Balance', 'color': 'pink', 'size': '40'},\n",
       " {'brand': 'New Balance', 'color': 'black', 'size': '40'},\n",
       " {'brand': 'New Balance', 'color': 'pink', 'size': '40'},\n",
       " {'brand': 'New Balance', 'color': 'black', 'size': '40'},\n",
       " {'brand': 'New Balance', 'color': 'pink', 'size': '40'},\n",
       " {'brand': 'New Balance', 'color': 'orange', 'size': '40'},\n",
       " {'brand': 'New Balance', 'color': 'pink', 'size': '41'},\n",
       " {'brand': 'New Balance', 'color': 'pink', 'size': '41'},\n",
       " {'brand': 'New Balance', 'color': 'orange', 'size': '41'},\n",
       " {'brand': 'New Balance', 'color': 'orange', 'size': '41'},\n",
       " {'brand': 'New Balance', 'color': 'black', 'size': '43'},\n",
       " {'brand': 'New Balance', 'color': 'orange', 'size': '43'},\n",
       " {'brand': 'New Balance', 'color': 'black', 'size': '43'},\n",
       " {'brand': 'New Balance', 'color': 'orange', 'size': '44'},\n",
       " {'brand': 'New Balance', 'color': 'white', 'size': '44'},\n",
       " {'brand': 'New Balance', 'color': 'white', 'size': '44'},\n",
       " {'brand': 'Nike', 'color': 'black', 'size': '35'},\n",
       " {'brand': 'Nike', 'color': 'black', 'size': '35'},\n",
       " {'brand': 'Nike', 'color': 'black', 'size': '35'},\n",
       " {'brand': 'Nike', 'color': 'pink', 'size': '36'},\n",
       " {'brand': 'Nike', 'color': 'orange', 'size': '36'},\n",
       " {'brand': 'Nike', 'color': 'white', 'size': '37'},\n",
       " {'brand': 'Nike', 'color': 'white', 'size': '37'},\n",
       " {'brand': 'Nike', 'color': 'white', 'size': '37'},\n",
       " {'brand': 'Nike', 'color': 'pink', 'size': '38'},\n",
       " {'brand': 'Nike', 'color': 'orange', 'size': '38'},\n",
       " {'brand': 'Nike', 'color': 'orange', 'size': '38'},\n",
       " {'brand': 'Nike', 'color': 'black', 'size': '38'},\n",
       " {'brand': 'Nike', 'color': 'black', 'size': '38'},\n",
       " {'brand': 'Nike', 'color': 'white', 'size': '38'},\n",
       " {'brand': 'Nike', 'color': 'black', 'size': '39'},\n",
       " {'brand': 'Nike', 'color': 'orange', 'size': '39'},\n",
       " {'brand': 'Nike', 'color': 'pink', 'size': '40'},\n",
       " {'brand': 'Nike', 'color': 'pink', 'size': '40'},\n",
       " {'brand': 'Nike', 'color': 'orange', 'size': '40'},\n",
       " {'brand': 'Nike', 'color': 'pink', 'size': '40'},\n",
       " {'brand': 'Nike', 'color': 'black', 'size': '41'},\n",
       " {'brand': 'Nike', 'color': 'black', 'size': '41'},\n",
       " {'brand': 'Nike', 'color': 'pink', 'size': '41'},\n",
       " {'brand': 'Nike', 'color': 'black', 'size': '41'},\n",
       " {'brand': 'Nike', 'color': 'pink', 'size': '41'},\n",
       " {'brand': 'Nike', 'color': 'black', 'size': '42'},\n",
       " {'brand': 'Nike', 'color': 'black', 'size': '42'},\n",
       " {'brand': 'Nike', 'color': 'pink', 'size': '42'},\n",
       " {'brand': 'Nike', 'color': 'pink', 'size': '43'},\n",
       " {'brand': 'Nike', 'color': 'black', 'size': '43'},\n",
       " {'brand': 'Nike', 'color': 'black', 'size': '43'},\n",
       " {'brand': 'Nike', 'color': 'white', 'size': '44'},\n",
       " {'brand': 'Nike', 'color': 'pink', 'size': '44'},\n",
       " {'brand': 'Nike', 'color': 'pink', 'size': '44'},\n",
       " {'brand': 'Nike', 'color': 'white', 'size': '44'},\n",
       " {'brand': 'Nike', 'color': 'black', 'size': '44'}]"
      ]
     },
     "execution_count": 44,
     "metadata": {},
     "output_type": "execute_result"
    }
   ],
   "source": [
    "# brand and size?\n",
    "\n",
    "sorted(shoes, key=operator.itemgetter('brand', 'size'))    # itemgetter takes *args!"
   ]
  },
  {
   "cell_type": "markdown",
   "id": "c01daf0d",
   "metadata": {},
   "source": [
    "# What the heck is `lambda`?\n",
    "\n",
    "When we use `def` to define a function, we're doing two things:\n",
    "\n",
    "1. Creating a function object\n",
    "2. Assigning that function object to a variable.\n",
    "\n",
    "`lambda` is a special keyword in Python that does the first of these (i.e., creating a function object) but not the second (i.e., assigning it).\n",
    "\n",
    "That is, it allows us to create an *anonymous function*. Why would we want that? Typically, for sorting...\n",
    "\n",
    "`lambda` has a bunch of restrictions:\n",
    "\n",
    "1. No statements -- no `for`, no `if`, no assignment. (You can have list comprehensions and some other weird syntax, but only one expression.)\n",
    "2. Only one line.\n",
    "3. No `return` -- the expression is automatically returned."
   ]
  },
  {
   "cell_type": "code",
   "execution_count": 45,
   "id": "824ee668",
   "metadata": {},
   "outputs": [
    {
     "data": {
      "text/plain": [
       "<function __main__.<lambda>(shoe_dict)>"
      ]
     },
     "execution_count": 45,
     "metadata": {},
     "output_type": "execute_result"
    }
   ],
   "source": [
    "# the syntax of lambda is:\n",
    "\n",
    "lambda shoe_dict: shoe_dict['brand']"
   ]
  },
  {
   "cell_type": "code",
   "execution_count": 46,
   "id": "0992b12e",
   "metadata": {},
   "outputs": [
    {
     "data": {
      "text/plain": [
       "[{'brand': 'Adidas', 'color': 'orange', 'size': '43'},\n",
       " {'brand': 'Adidas', 'color': 'black', 'size': '39'},\n",
       " {'brand': 'Adidas', 'color': 'pink', 'size': '44'},\n",
       " {'brand': 'Adidas', 'color': 'orange', 'size': '37'},\n",
       " {'brand': 'Adidas', 'color': 'black', 'size': '38'},\n",
       " {'brand': 'Adidas', 'color': 'pink', 'size': '41'},\n",
       " {'brand': 'Adidas', 'color': 'white', 'size': '36'},\n",
       " {'brand': 'Adidas', 'color': 'orange', 'size': '36'},\n",
       " {'brand': 'Adidas', 'color': 'pink', 'size': '35'},\n",
       " {'brand': 'Adidas', 'color': 'black', 'size': '41'},\n",
       " {'brand': 'Adidas', 'color': 'white', 'size': '35'},\n",
       " {'brand': 'Adidas', 'color': 'orange', 'size': '40'},\n",
       " {'brand': 'Adidas', 'color': 'black', 'size': '41'},\n",
       " {'brand': 'Adidas', 'color': 'black', 'size': '39'},\n",
       " {'brand': 'Adidas', 'color': 'black', 'size': '40'},\n",
       " {'brand': 'Adidas', 'color': 'orange', 'size': '38'},\n",
       " {'brand': 'Adidas', 'color': 'white', 'size': '39'},\n",
       " {'brand': 'Adidas', 'color': 'orange', 'size': '37'},\n",
       " {'brand': 'Adidas', 'color': 'pink', 'size': '35'},\n",
       " {'brand': 'Adidas', 'color': 'black', 'size': '39'},\n",
       " {'brand': 'Adidas', 'color': 'orange', 'size': '42'},\n",
       " {'brand': 'Adidas', 'color': 'pink', 'size': '39'},\n",
       " {'brand': 'Adidas', 'color': 'pink', 'size': '41'},\n",
       " {'brand': 'Adidas', 'color': 'pink', 'size': '39'},\n",
       " {'brand': 'Adidas', 'color': 'orange', 'size': '39'},\n",
       " {'brand': 'Adidas', 'color': 'white', 'size': '36'},\n",
       " {'brand': 'Adidas', 'color': 'pink', 'size': '41'},\n",
       " {'brand': 'Adidas', 'color': 'black', 'size': '41'},\n",
       " {'brand': 'Adidas', 'color': 'black', 'size': '42'},\n",
       " {'brand': 'Adidas', 'color': 'white', 'size': '40'},\n",
       " {'brand': 'Adidas', 'color': 'orange', 'size': '37'},\n",
       " {'brand': 'Adidas', 'color': 'pink', 'size': '36'},\n",
       " {'brand': 'Adidas', 'color': 'white', 'size': '35'},\n",
       " {'brand': 'Adidas', 'color': 'black', 'size': '42'},\n",
       " {'brand': 'New Balance', 'color': 'pink', 'size': '41'},\n",
       " {'brand': 'New Balance', 'color': 'orange', 'size': '38'},\n",
       " {'brand': 'New Balance', 'color': 'orange', 'size': '39'},\n",
       " {'brand': 'New Balance', 'color': 'black', 'size': '43'},\n",
       " {'brand': 'New Balance', 'color': 'orange', 'size': '44'},\n",
       " {'brand': 'New Balance', 'color': 'orange', 'size': '37'},\n",
       " {'brand': 'New Balance', 'color': 'pink', 'size': '40'},\n",
       " {'brand': 'New Balance', 'color': 'pink', 'size': '41'},\n",
       " {'brand': 'New Balance', 'color': 'orange', 'size': '41'},\n",
       " {'brand': 'New Balance', 'color': 'orange', 'size': '40'},\n",
       " {'brand': 'New Balance', 'color': 'white', 'size': '44'},\n",
       " {'brand': 'New Balance', 'color': 'pink', 'size': '40'},\n",
       " {'brand': 'New Balance', 'color': 'white', 'size': '39'},\n",
       " {'brand': 'New Balance', 'color': 'orange', 'size': '40'},\n",
       " {'brand': 'New Balance', 'color': 'black', 'size': '40'},\n",
       " {'brand': 'New Balance', 'color': 'orange', 'size': '39'},\n",
       " {'brand': 'New Balance', 'color': 'orange', 'size': '41'},\n",
       " {'brand': 'New Balance', 'color': 'white', 'size': '35'},\n",
       " {'brand': 'New Balance', 'color': 'orange', 'size': '43'},\n",
       " {'brand': 'New Balance', 'color': 'pink', 'size': '40'},\n",
       " {'brand': 'New Balance', 'color': 'black', 'size': '40'},\n",
       " {'brand': 'New Balance', 'color': 'pink', 'size': '40'},\n",
       " {'brand': 'New Balance', 'color': 'white', 'size': '38'},\n",
       " {'brand': 'New Balance', 'color': 'black', 'size': '40'},\n",
       " {'brand': 'New Balance', 'color': 'pink', 'size': '40'},\n",
       " {'brand': 'New Balance', 'color': 'orange', 'size': '38'},\n",
       " {'brand': 'New Balance', 'color': 'black', 'size': '43'},\n",
       " {'brand': 'New Balance', 'color': 'pink', 'size': '39'},\n",
       " {'brand': 'New Balance', 'color': 'orange', 'size': '40'},\n",
       " {'brand': 'New Balance', 'color': 'white', 'size': '44'},\n",
       " {'brand': 'Nike', 'color': 'black', 'size': '41'},\n",
       " {'brand': 'Nike', 'color': 'white', 'size': '44'},\n",
       " {'brand': 'Nike', 'color': 'pink', 'size': '44'},\n",
       " {'brand': 'Nike', 'color': 'black', 'size': '41'},\n",
       " {'brand': 'Nike', 'color': 'pink', 'size': '41'},\n",
       " {'brand': 'Nike', 'color': 'pink', 'size': '43'},\n",
       " {'brand': 'Nike', 'color': 'black', 'size': '43'},\n",
       " {'brand': 'Nike', 'color': 'black', 'size': '42'},\n",
       " {'brand': 'Nike', 'color': 'black', 'size': '35'},\n",
       " {'brand': 'Nike', 'color': 'black', 'size': '43'},\n",
       " {'brand': 'Nike', 'color': 'pink', 'size': '36'},\n",
       " {'brand': 'Nike', 'color': 'black', 'size': '42'},\n",
       " {'brand': 'Nike', 'color': 'white', 'size': '37'},\n",
       " {'brand': 'Nike', 'color': 'black', 'size': '35'},\n",
       " {'brand': 'Nike', 'color': 'white', 'size': '37'},\n",
       " {'brand': 'Nike', 'color': 'pink', 'size': '44'},\n",
       " {'brand': 'Nike', 'color': 'pink', 'size': '38'},\n",
       " {'brand': 'Nike', 'color': 'pink', 'size': '40'},\n",
       " {'brand': 'Nike', 'color': 'white', 'size': '44'},\n",
       " {'brand': 'Nike', 'color': 'orange', 'size': '38'},\n",
       " {'brand': 'Nike', 'color': 'white', 'size': '37'},\n",
       " {'brand': 'Nike', 'color': 'orange', 'size': '38'},\n",
       " {'brand': 'Nike', 'color': 'pink', 'size': '40'},\n",
       " {'brand': 'Nike', 'color': 'orange', 'size': '40'},\n",
       " {'brand': 'Nike', 'color': 'pink', 'size': '40'},\n",
       " {'brand': 'Nike', 'color': 'black', 'size': '41'},\n",
       " {'brand': 'Nike', 'color': 'black', 'size': '39'},\n",
       " {'brand': 'Nike', 'color': 'orange', 'size': '36'},\n",
       " {'brand': 'Nike', 'color': 'black', 'size': '38'},\n",
       " {'brand': 'Nike', 'color': 'pink', 'size': '41'},\n",
       " {'brand': 'Nike', 'color': 'black', 'size': '44'},\n",
       " {'brand': 'Nike', 'color': 'black', 'size': '38'},\n",
       " {'brand': 'Nike', 'color': 'pink', 'size': '42'},\n",
       " {'brand': 'Nike', 'color': 'white', 'size': '38'},\n",
       " {'brand': 'Nike', 'color': 'orange', 'size': '39'},\n",
       " {'brand': 'Nike', 'color': 'black', 'size': '35'}]"
      ]
     },
     "execution_count": 46,
     "metadata": {},
     "output_type": "execute_result"
    }
   ],
   "source": [
    "# if we want to use a lambda, we typically pass it as an argument to another function\n",
    "# this way, we don't have to create a new function with a name\n",
    "\n",
    "# this sorts by brand, because our lambda does the same thing as by_brand and operator.itemgetter('brand')\n",
    "\n",
    "sorted(shoes, key=lambda shoe_dict: shoe_dict['brand'])"
   ]
  },
  {
   "cell_type": "code",
   "execution_count": 47,
   "id": "dad38825",
   "metadata": {},
   "outputs": [],
   "source": [
    "vowels = 'aeiouAEIOU'\n",
    "sorted_by_vowels = sorted(words, \n",
    "                          key=lambda word: sum(1 for letter in word if letter in vowels))"
   ]
  },
  {
   "cell_type": "markdown",
   "id": "5b898995",
   "metadata": {},
   "source": [
    "# Modules, packages, etc.\n",
    "\n",
    "DRY -- don't repeat yourself\n",
    "\n",
    "1. If you have several nearly identical lines of code in a row, use a loop instead.\n",
    "2. If you have the same code in several places, define a function and call it.\n",
    "3. If you have the same code in several different programs, define a library and import it when you need it.\n",
    "\n",
    "In Python, our libraries are known as \"modules.\" They serve two purposes:\n",
    "\n",
    "1. They are libraries, repositories for functions, classes, and data that we can use across our programs.\n",
    "2. They are also namespaces, allowing us to reduce the possiblity of \"namespace collisions,\" where multiple developers use the same variable/function names.\n",
    "\n",
    "When I get random numbers by importing `random`, I'm importing a module full of functionality. If I want to invoke a function that module, I can't just name the function itself. Rather, I have to give the full name, `random.randint`."
   ]
  },
  {
   "cell_type": "markdown",
   "id": "a9a2aa7a",
   "metadata": {},
   "source": [
    "# Using modules\n",
    "\n",
    "If you want to use a module, just `import` it:\n",
    "\n",
    "    import random\n",
    "    \n",
    "A few things to notice about this:\n",
    "\n",
    "1. `import` is a keyword, not a function. Don't use parentheses.\n",
    "2. The module name (`random`) is *not* a filename, and is *not* a string. It's the name of the module you want to create/import.\n",
    "3. When you're done importing, the module you asked to import is now defined as a variable -- which refers to the module object that was created.\n",
    "\n",
    "In other words, when you say `import random`:\n",
    "\n",
    "1. Python knows where to look for the module on disk.\n",
    "2. Python loads the module into memory.\n",
    "3. Python creates a module object based on what it loaded.\n",
    "4. It makes the functions + data in the module available to you via the variable it defines, `random`."
   ]
  },
  {
   "cell_type": "code",
   "execution_count": 48,
   "id": "f46e22cb",
   "metadata": {},
   "outputs": [
    {
     "data": {
      "text/plain": [
       "module"
      ]
     },
     "execution_count": 48,
     "metadata": {},
     "output_type": "execute_result"
    }
   ],
   "source": [
    "type(random)"
   ]
  },
  {
   "cell_type": "code",
   "execution_count": 49,
   "id": "fbfaf97d",
   "metadata": {},
   "outputs": [
    {
     "data": {
      "text/plain": [
       "['/Users/reuven/Courses/Current/Deluxe-2023-python',\n",
       " '/usr/local/Cellar/python@3.11/3.11.3/Frameworks/Python.framework/Versions/3.11/lib/python311.zip',\n",
       " '/usr/local/Cellar/python@3.11/3.11.3/Frameworks/Python.framework/Versions/3.11/lib/python3.11',\n",
       " '/usr/local/Cellar/python@3.11/3.11.3/Frameworks/Python.framework/Versions/3.11/lib/python3.11/lib-dynload',\n",
       " '',\n",
       " '/usr/local/lib/python3.11/site-packages',\n",
       " '/usr/local/Cellar/pybind11/2.10.4/libexec/lib/python3.11/site-packages',\n",
       " '/usr/local/opt/python-tk@3.11/libexec']"
      ]
     },
     "execution_count": 49,
     "metadata": {},
     "output_type": "execute_result"
    }
   ],
   "source": [
    "# where is Python looking for our \"random\" module?\n",
    "\n",
    "# it's looking at a bunch of directories, one by one. The first directory in its list \n",
    "# to contain the module we're asking for \"wins\", and the search stops.\n",
    "\n",
    "# where does it look? In the list defined in sys.path.\n",
    "# sys is a module, the Python system. It is loaded when Python starts, but the variable isn't \n",
    "# defined... so you need to import it.\n",
    "\n",
    "import sys  \n",
    "sys.path"
   ]
  },
  {
   "cell_type": "code",
   "execution_count": 50,
   "id": "60c549e4",
   "metadata": {},
   "outputs": [
    {
     "data": {
      "text/plain": [
       "['BPF',\n",
       " 'LOG4',\n",
       " 'NV_MAGICCONST',\n",
       " 'RECIP_BPF',\n",
       " 'Random',\n",
       " 'SG_MAGICCONST',\n",
       " 'SystemRandom',\n",
       " 'TWOPI',\n",
       " '_ONE',\n",
       " '_Sequence',\n",
       " '_Set',\n",
       " '__all__',\n",
       " '__builtins__',\n",
       " '__cached__',\n",
       " '__doc__',\n",
       " '__file__',\n",
       " '__loader__',\n",
       " '__name__',\n",
       " '__package__',\n",
       " '__spec__',\n",
       " '_accumulate',\n",
       " '_acos',\n",
       " '_bisect',\n",
       " '_ceil',\n",
       " '_cos',\n",
       " '_e',\n",
       " '_exp',\n",
       " '_floor',\n",
       " '_index',\n",
       " '_inst',\n",
       " '_isfinite',\n",
       " '_log',\n",
       " '_os',\n",
       " '_pi',\n",
       " '_random',\n",
       " '_repeat',\n",
       " '_sha512',\n",
       " '_sin',\n",
       " '_sqrt',\n",
       " '_test',\n",
       " '_test_generator',\n",
       " '_urandom',\n",
       " '_warn',\n",
       " 'betavariate',\n",
       " 'choice',\n",
       " 'choices',\n",
       " 'expovariate',\n",
       " 'gammavariate',\n",
       " 'gauss',\n",
       " 'getrandbits',\n",
       " 'getstate',\n",
       " 'lognormvariate',\n",
       " 'normalvariate',\n",
       " 'paretovariate',\n",
       " 'randbytes',\n",
       " 'randint',\n",
       " 'random',\n",
       " 'randrange',\n",
       " 'sample',\n",
       " 'seed',\n",
       " 'setstate',\n",
       " 'shuffle',\n",
       " 'triangular',\n",
       " 'uniform',\n",
       " 'vonmisesvariate',\n",
       " 'weibullvariate']"
      ]
     },
     "execution_count": 50,
     "metadata": {},
     "output_type": "execute_result"
    }
   ],
   "source": [
    "# what names are available once I've loaded a module?\n",
    "# we can use the \"dir\" function to get a simple list\n",
    "\n",
    "# for any name here, I can say random.NAME, and I'll get an object back\n",
    "# whethat it's data or a function, is another question...\n",
    "\n",
    "dir(random)"
   ]
  },
  {
   "cell_type": "code",
   "execution_count": 51,
   "id": "6974b59e",
   "metadata": {
    "collapsed": true
   },
   "outputs": [
    {
     "name": "stdout",
     "output_type": "stream",
     "text": [
      "Help on module random:\n",
      "\n",
      "NAME\n",
      "    random - Random variable generators.\n",
      "\n",
      "DESCRIPTION\n",
      "        bytes\n",
      "        -----\n",
      "               uniform bytes (values between 0 and 255)\n",
      "    \n",
      "        integers\n",
      "        --------\n",
      "               uniform within range\n",
      "    \n",
      "        sequences\n",
      "        ---------\n",
      "               pick random element\n",
      "               pick random sample\n",
      "               pick weighted random sample\n",
      "               generate random permutation\n",
      "    \n",
      "        distributions on the real line:\n",
      "        ------------------------------\n",
      "               uniform\n",
      "               triangular\n",
      "               normal (Gaussian)\n",
      "               lognormal\n",
      "               negative exponential\n",
      "               gamma\n",
      "               beta\n",
      "               pareto\n",
      "               Weibull\n",
      "    \n",
      "        distributions on the circle (angles 0 to 2pi)\n",
      "        ---------------------------------------------\n",
      "               circular uniform\n",
      "               von Mises\n",
      "    \n",
      "    General notes on the underlying Mersenne Twister core generator:\n",
      "    \n",
      "    * The period is 2**19937-1.\n",
      "    * It is one of the most extensively tested generators in existence.\n",
      "    * The random() method is implemented in C, executes in a single Python step,\n",
      "      and is, therefore, threadsafe.\n",
      "\n",
      "CLASSES\n",
      "    _random.Random(builtins.object)\n",
      "        Random\n",
      "            SystemRandom\n",
      "    \n",
      "    class Random(_random.Random)\n",
      "     |  Random(x=None)\n",
      "     |  \n",
      "     |  Random number generator base class used by bound module functions.\n",
      "     |  \n",
      "     |  Used to instantiate instances of Random to get generators that don't\n",
      "     |  share state.\n",
      "     |  \n",
      "     |  Class Random can also be subclassed if you want to use a different basic\n",
      "     |  generator of your own devising: in that case, override the following\n",
      "     |  methods:  random(), seed(), getstate(), and setstate().\n",
      "     |  Optionally, implement a getrandbits() method so that randrange()\n",
      "     |  can cover arbitrarily large ranges.\n",
      "     |  \n",
      "     |  Method resolution order:\n",
      "     |      Random\n",
      "     |      _random.Random\n",
      "     |      builtins.object\n",
      "     |  \n",
      "     |  Methods defined here:\n",
      "     |  \n",
      "     |  __getstate__(self)\n",
      "     |      Helper for pickle.\n",
      "     |  \n",
      "     |  __init__(self, x=None)\n",
      "     |      Initialize an instance.\n",
      "     |      \n",
      "     |      Optional argument x controls seeding, as for Random.seed().\n",
      "     |  \n",
      "     |  __reduce__(self)\n",
      "     |      Helper for pickle.\n",
      "     |  \n",
      "     |  __setstate__(self, state)\n",
      "     |  \n",
      "     |  betavariate(self, alpha, beta)\n",
      "     |      Beta distribution.\n",
      "     |      \n",
      "     |      Conditions on the parameters are alpha > 0 and beta > 0.\n",
      "     |      Returned values range between 0 and 1.\n",
      "     |  \n",
      "     |  choice(self, seq)\n",
      "     |      Choose a random element from a non-empty sequence.\n",
      "     |  \n",
      "     |  choices(self, population, weights=None, *, cum_weights=None, k=1)\n",
      "     |      Return a k sized list of population elements chosen with replacement.\n",
      "     |      \n",
      "     |      If the relative weights or cumulative weights are not specified,\n",
      "     |      the selections are made with equal probability.\n",
      "     |  \n",
      "     |  expovariate(self, lambd)\n",
      "     |      Exponential distribution.\n",
      "     |      \n",
      "     |      lambd is 1.0 divided by the desired mean.  It should be\n",
      "     |      nonzero.  (The parameter would be called \"lambda\", but that is\n",
      "     |      a reserved word in Python.)  Returned values range from 0 to\n",
      "     |      positive infinity if lambd is positive, and from negative\n",
      "     |      infinity to 0 if lambd is negative.\n",
      "     |  \n",
      "     |  gammavariate(self, alpha, beta)\n",
      "     |      Gamma distribution.  Not the gamma function!\n",
      "     |      \n",
      "     |      Conditions on the parameters are alpha > 0 and beta > 0.\n",
      "     |      \n",
      "     |      The probability distribution function is:\n",
      "     |      \n",
      "     |                  x ** (alpha - 1) * math.exp(-x / beta)\n",
      "     |        pdf(x) =  --------------------------------------\n",
      "     |                    math.gamma(alpha) * beta ** alpha\n",
      "     |  \n",
      "     |  gauss(self, mu=0.0, sigma=1.0)\n",
      "     |      Gaussian distribution.\n",
      "     |      \n",
      "     |      mu is the mean, and sigma is the standard deviation.  This is\n",
      "     |      slightly faster than the normalvariate() function.\n",
      "     |      \n",
      "     |      Not thread-safe without a lock around calls.\n",
      "     |  \n",
      "     |  getstate(self)\n",
      "     |      Return internal state; can be passed to setstate() later.\n",
      "     |  \n",
      "     |  lognormvariate(self, mu, sigma)\n",
      "     |      Log normal distribution.\n",
      "     |      \n",
      "     |      If you take the natural logarithm of this distribution, you'll get a\n",
      "     |      normal distribution with mean mu and standard deviation sigma.\n",
      "     |      mu can have any value, and sigma must be greater than zero.\n",
      "     |  \n",
      "     |  normalvariate(self, mu=0.0, sigma=1.0)\n",
      "     |      Normal distribution.\n",
      "     |      \n",
      "     |      mu is the mean, and sigma is the standard deviation.\n",
      "     |  \n",
      "     |  paretovariate(self, alpha)\n",
      "     |      Pareto distribution.  alpha is the shape parameter.\n",
      "     |  \n",
      "     |  randbytes(self, n)\n",
      "     |      Generate n random bytes.\n",
      "     |  \n",
      "     |  randint(self, a, b)\n",
      "     |      Return random integer in range [a, b], including both end points.\n",
      "     |  \n",
      "     |  randrange(self, start, stop=None, step=1)\n",
      "     |      Choose a random item from range(stop) or range(start, stop[, step]).\n",
      "     |      \n",
      "     |      Roughly equivalent to ``choice(range(start, stop, step))`` but\n",
      "     |      supports arbitrarily large ranges and is optimized for common cases.\n",
      "     |  \n",
      "     |  sample(self, population, k, *, counts=None)\n",
      "     |      Chooses k unique random elements from a population sequence.\n",
      "     |      \n",
      "     |      Returns a new list containing elements from the population while\n",
      "     |      leaving the original population unchanged.  The resulting list is\n",
      "     |      in selection order so that all sub-slices will also be valid random\n",
      "     |      samples.  This allows raffle winners (the sample) to be partitioned\n",
      "     |      into grand prize and second place winners (the subslices).\n",
      "     |      \n",
      "     |      Members of the population need not be hashable or unique.  If the\n",
      "     |      population contains repeats, then each occurrence is a possible\n",
      "     |      selection in the sample.\n",
      "     |      \n",
      "     |      Repeated elements can be specified one at a time or with the optional\n",
      "     |      counts parameter.  For example:\n",
      "     |      \n",
      "     |          sample(['red', 'blue'], counts=[4, 2], k=5)\n",
      "     |      \n",
      "     |      is equivalent to:\n",
      "     |      \n",
      "     |          sample(['red', 'red', 'red', 'red', 'blue', 'blue'], k=5)\n",
      "     |      \n",
      "     |      To choose a sample from a range of integers, use range() for the\n",
      "     |      population argument.  This is especially fast and space efficient\n",
      "     |      for sampling from a large population:\n",
      "     |      \n",
      "     |          sample(range(10000000), 60)\n",
      "     |  \n",
      "     |  seed(self, a=None, version=2)\n",
      "     |      Initialize internal state from a seed.\n",
      "     |      \n",
      "     |      The only supported seed types are None, int, float,\n",
      "     |      str, bytes, and bytearray.\n",
      "     |      \n",
      "     |      None or no argument seeds from current time or from an operating\n",
      "     |      system specific randomness source if available.\n",
      "     |      \n",
      "     |      If *a* is an int, all bits are used.\n",
      "     |      \n",
      "     |      For version 2 (the default), all of the bits are used if *a* is a str,\n",
      "     |      bytes, or bytearray.  For version 1 (provided for reproducing random\n",
      "     |      sequences from older versions of Python), the algorithm for str and\n",
      "     |      bytes generates a narrower range of seeds.\n",
      "     |  \n",
      "     |  setstate(self, state)\n",
      "     |      Restore internal state from object returned by getstate().\n",
      "     |  \n",
      "     |  shuffle(self, x)\n",
      "     |      Shuffle list x in place, and return None.\n",
      "     |  \n",
      "     |  triangular(self, low=0.0, high=1.0, mode=None)\n",
      "     |      Triangular distribution.\n",
      "     |      \n",
      "     |      Continuous distribution bounded by given lower and upper limits,\n",
      "     |      and having a given mode value in-between.\n",
      "     |      \n",
      "     |      http://en.wikipedia.org/wiki/Triangular_distribution\n",
      "     |  \n",
      "     |  uniform(self, a, b)\n",
      "     |      Get a random number in the range [a, b) or [a, b] depending on rounding.\n",
      "     |  \n",
      "     |  vonmisesvariate(self, mu, kappa)\n",
      "     |      Circular data distribution.\n",
      "     |      \n",
      "     |      mu is the mean angle, expressed in radians between 0 and 2*pi, and\n",
      "     |      kappa is the concentration parameter, which must be greater than or\n",
      "     |      equal to zero.  If kappa is equal to zero, this distribution reduces\n",
      "     |      to a uniform random angle over the range 0 to 2*pi.\n",
      "     |  \n",
      "     |  weibullvariate(self, alpha, beta)\n",
      "     |      Weibull distribution.\n",
      "     |      \n",
      "     |      alpha is the scale parameter and beta is the shape parameter.\n",
      "     |  \n",
      "     |  ----------------------------------------------------------------------\n",
      "     |  Class methods defined here:\n",
      "     |  \n",
      "     |  __init_subclass__(**kwargs) from builtins.type\n",
      "     |      Control how subclasses generate random integers.\n",
      "     |      \n",
      "     |      The algorithm a subclass can use depends on the random() and/or\n",
      "     |      getrandbits() implementation available to it and determines\n",
      "     |      whether it can generate random integers from arbitrarily large\n",
      "     |      ranges.\n",
      "     |  \n",
      "     |  ----------------------------------------------------------------------\n",
      "     |  Data descriptors defined here:\n",
      "     |  \n",
      "     |  __dict__\n",
      "     |      dictionary for instance variables (if defined)\n",
      "     |  \n",
      "     |  __weakref__\n",
      "     |      list of weak references to the object (if defined)\n",
      "     |  \n",
      "     |  ----------------------------------------------------------------------\n",
      "     |  Data and other attributes defined here:\n",
      "     |  \n",
      "     |  VERSION = 3\n",
      "     |  \n",
      "     |  ----------------------------------------------------------------------\n",
      "     |  Methods inherited from _random.Random:\n",
      "     |  \n",
      "     |  getrandbits(self, k, /)\n",
      "     |      getrandbits(k) -> x.  Generates an int with k random bits.\n",
      "     |  \n",
      "     |  random(self, /)\n",
      "     |      random() -> x in the interval [0, 1).\n",
      "     |  \n",
      "     |  ----------------------------------------------------------------------\n",
      "     |  Static methods inherited from _random.Random:\n",
      "     |  \n",
      "     |  __new__(*args, **kwargs) from builtins.type\n",
      "     |      Create and return a new object.  See help(type) for accurate signature.\n",
      "    \n",
      "    class SystemRandom(Random)\n",
      "     |  SystemRandom(x=None)\n",
      "     |  \n",
      "     |  Alternate random number generator using sources provided\n",
      "     |  by the operating system (such as /dev/urandom on Unix or\n",
      "     |  CryptGenRandom on Windows).\n",
      "     |  \n",
      "     |   Not available on all systems (see os.urandom() for details).\n",
      "     |  \n",
      "     |  Method resolution order:\n",
      "     |      SystemRandom\n",
      "     |      Random\n",
      "     |      _random.Random\n",
      "     |      builtins.object\n",
      "     |  \n",
      "     |  Methods defined here:\n",
      "     |  \n",
      "     |  getrandbits(self, k)\n",
      "     |      getrandbits(k) -> x.  Generates an int with k random bits.\n",
      "     |  \n",
      "     |  getstate = _notimplemented(self, *args, **kwds)\n",
      "     |  \n",
      "     |  randbytes(self, n)\n",
      "     |      Generate n random bytes.\n",
      "     |  \n",
      "     |  random(self)\n",
      "     |      Get the next random number in the range 0.0 <= X < 1.0.\n",
      "     |  \n",
      "     |  seed(self, *args, **kwds)\n",
      "     |      Stub method.  Not used for a system random number generator.\n",
      "     |  \n",
      "     |  setstate = _notimplemented(self, *args, **kwds)\n",
      "     |  \n",
      "     |  ----------------------------------------------------------------------\n",
      "     |  Methods inherited from Random:\n",
      "     |  \n",
      "     |  __getstate__(self)\n",
      "     |      Helper for pickle.\n",
      "     |  \n",
      "     |  __init__(self, x=None)\n",
      "     |      Initialize an instance.\n",
      "     |      \n",
      "     |      Optional argument x controls seeding, as for Random.seed().\n",
      "     |  \n",
      "     |  __reduce__(self)\n",
      "     |      Helper for pickle.\n",
      "     |  \n",
      "     |  __setstate__(self, state)\n",
      "     |  \n",
      "     |  betavariate(self, alpha, beta)\n",
      "     |      Beta distribution.\n",
      "     |      \n",
      "     |      Conditions on the parameters are alpha > 0 and beta > 0.\n",
      "     |      Returned values range between 0 and 1.\n",
      "     |  \n",
      "     |  choice(self, seq)\n",
      "     |      Choose a random element from a non-empty sequence.\n",
      "     |  \n",
      "     |  choices(self, population, weights=None, *, cum_weights=None, k=1)\n",
      "     |      Return a k sized list of population elements chosen with replacement.\n",
      "     |      \n",
      "     |      If the relative weights or cumulative weights are not specified,\n",
      "     |      the selections are made with equal probability.\n",
      "     |  \n",
      "     |  expovariate(self, lambd)\n",
      "     |      Exponential distribution.\n",
      "     |      \n",
      "     |      lambd is 1.0 divided by the desired mean.  It should be\n",
      "     |      nonzero.  (The parameter would be called \"lambda\", but that is\n",
      "     |      a reserved word in Python.)  Returned values range from 0 to\n",
      "     |      positive infinity if lambd is positive, and from negative\n",
      "     |      infinity to 0 if lambd is negative.\n",
      "     |  \n",
      "     |  gammavariate(self, alpha, beta)\n",
      "     |      Gamma distribution.  Not the gamma function!\n",
      "     |      \n",
      "     |      Conditions on the parameters are alpha > 0 and beta > 0.\n",
      "     |      \n",
      "     |      The probability distribution function is:\n",
      "     |      \n",
      "     |                  x ** (alpha - 1) * math.exp(-x / beta)\n",
      "     |        pdf(x) =  --------------------------------------\n",
      "     |                    math.gamma(alpha) * beta ** alpha\n",
      "     |  \n",
      "     |  gauss(self, mu=0.0, sigma=1.0)\n",
      "     |      Gaussian distribution.\n",
      "     |      \n",
      "     |      mu is the mean, and sigma is the standard deviation.  This is\n",
      "     |      slightly faster than the normalvariate() function.\n",
      "     |      \n",
      "     |      Not thread-safe without a lock around calls.\n",
      "     |  \n",
      "     |  lognormvariate(self, mu, sigma)\n",
      "     |      Log normal distribution.\n",
      "     |      \n",
      "     |      If you take the natural logarithm of this distribution, you'll get a\n",
      "     |      normal distribution with mean mu and standard deviation sigma.\n",
      "     |      mu can have any value, and sigma must be greater than zero.\n",
      "     |  \n",
      "     |  normalvariate(self, mu=0.0, sigma=1.0)\n",
      "     |      Normal distribution.\n",
      "     |      \n",
      "     |      mu is the mean, and sigma is the standard deviation.\n",
      "     |  \n",
      "     |  paretovariate(self, alpha)\n",
      "     |      Pareto distribution.  alpha is the shape parameter.\n",
      "     |  \n",
      "     |  randint(self, a, b)\n",
      "     |      Return random integer in range [a, b], including both end points.\n",
      "     |  \n",
      "     |  randrange(self, start, stop=None, step=1)\n",
      "     |      Choose a random item from range(stop) or range(start, stop[, step]).\n",
      "     |      \n",
      "     |      Roughly equivalent to ``choice(range(start, stop, step))`` but\n",
      "     |      supports arbitrarily large ranges and is optimized for common cases.\n",
      "     |  \n",
      "     |  sample(self, population, k, *, counts=None)\n",
      "     |      Chooses k unique random elements from a population sequence.\n",
      "     |      \n",
      "     |      Returns a new list containing elements from the population while\n",
      "     |      leaving the original population unchanged.  The resulting list is\n",
      "     |      in selection order so that all sub-slices will also be valid random\n",
      "     |      samples.  This allows raffle winners (the sample) to be partitioned\n",
      "     |      into grand prize and second place winners (the subslices).\n",
      "     |      \n",
      "     |      Members of the population need not be hashable or unique.  If the\n",
      "     |      population contains repeats, then each occurrence is a possible\n",
      "     |      selection in the sample.\n",
      "     |      \n",
      "     |      Repeated elements can be specified one at a time or with the optional\n",
      "     |      counts parameter.  For example:\n",
      "     |      \n",
      "     |          sample(['red', 'blue'], counts=[4, 2], k=5)\n",
      "     |      \n",
      "     |      is equivalent to:\n",
      "     |      \n",
      "     |          sample(['red', 'red', 'red', 'red', 'blue', 'blue'], k=5)\n",
      "     |      \n",
      "     |      To choose a sample from a range of integers, use range() for the\n",
      "     |      population argument.  This is especially fast and space efficient\n",
      "     |      for sampling from a large population:\n",
      "     |      \n",
      "     |          sample(range(10000000), 60)\n",
      "     |  \n",
      "     |  shuffle(self, x)\n",
      "     |      Shuffle list x in place, and return None.\n",
      "     |  \n",
      "     |  triangular(self, low=0.0, high=1.0, mode=None)\n",
      "     |      Triangular distribution.\n",
      "     |      \n",
      "     |      Continuous distribution bounded by given lower and upper limits,\n",
      "     |      and having a given mode value in-between.\n",
      "     |      \n",
      "     |      http://en.wikipedia.org/wiki/Triangular_distribution\n",
      "     |  \n",
      "     |  uniform(self, a, b)\n",
      "     |      Get a random number in the range [a, b) or [a, b] depending on rounding.\n",
      "     |  \n",
      "     |  vonmisesvariate(self, mu, kappa)\n",
      "     |      Circular data distribution.\n",
      "     |      \n",
      "     |      mu is the mean angle, expressed in radians between 0 and 2*pi, and\n",
      "     |      kappa is the concentration parameter, which must be greater than or\n",
      "     |      equal to zero.  If kappa is equal to zero, this distribution reduces\n",
      "     |      to a uniform random angle over the range 0 to 2*pi.\n",
      "     |  \n",
      "     |  weibullvariate(self, alpha, beta)\n",
      "     |      Weibull distribution.\n",
      "     |      \n",
      "     |      alpha is the scale parameter and beta is the shape parameter.\n",
      "     |  \n",
      "     |  ----------------------------------------------------------------------\n",
      "     |  Class methods inherited from Random:\n",
      "     |  \n",
      "     |  __init_subclass__(**kwargs) from builtins.type\n",
      "     |      Control how subclasses generate random integers.\n",
      "     |      \n",
      "     |      The algorithm a subclass can use depends on the random() and/or\n",
      "     |      getrandbits() implementation available to it and determines\n",
      "     |      whether it can generate random integers from arbitrarily large\n",
      "     |      ranges.\n",
      "     |  \n",
      "     |  ----------------------------------------------------------------------\n",
      "     |  Data descriptors inherited from Random:\n",
      "     |  \n",
      "     |  __dict__\n",
      "     |      dictionary for instance variables (if defined)\n",
      "     |  \n",
      "     |  __weakref__\n",
      "     |      list of weak references to the object (if defined)\n",
      "     |  \n",
      "     |  ----------------------------------------------------------------------\n",
      "     |  Data and other attributes inherited from Random:\n",
      "     |  \n",
      "     |  VERSION = 3\n",
      "     |  \n",
      "     |  ----------------------------------------------------------------------\n",
      "     |  Static methods inherited from _random.Random:\n",
      "     |  \n",
      "     |  __new__(*args, **kwargs) from builtins.type\n",
      "     |      Create and return a new object.  See help(type) for accurate signature.\n",
      "\n",
      "FUNCTIONS\n",
      "    betavariate(alpha, beta) method of Random instance\n",
      "        Beta distribution.\n",
      "        \n",
      "        Conditions on the parameters are alpha > 0 and beta > 0.\n",
      "        Returned values range between 0 and 1.\n",
      "    \n",
      "    choice(seq) method of Random instance\n",
      "        Choose a random element from a non-empty sequence.\n",
      "    \n",
      "    choices(population, weights=None, *, cum_weights=None, k=1) method of Random instance\n",
      "        Return a k sized list of population elements chosen with replacement.\n",
      "        \n",
      "        If the relative weights or cumulative weights are not specified,\n",
      "        the selections are made with equal probability.\n",
      "    \n",
      "    expovariate(lambd) method of Random instance\n",
      "        Exponential distribution.\n",
      "        \n",
      "        lambd is 1.0 divided by the desired mean.  It should be\n",
      "        nonzero.  (The parameter would be called \"lambda\", but that is\n",
      "        a reserved word in Python.)  Returned values range from 0 to\n",
      "        positive infinity if lambd is positive, and from negative\n",
      "        infinity to 0 if lambd is negative.\n",
      "    \n",
      "    gammavariate(alpha, beta) method of Random instance\n",
      "        Gamma distribution.  Not the gamma function!\n",
      "        \n",
      "        Conditions on the parameters are alpha > 0 and beta > 0.\n",
      "        \n",
      "        The probability distribution function is:\n",
      "        \n",
      "                    x ** (alpha - 1) * math.exp(-x / beta)\n",
      "          pdf(x) =  --------------------------------------\n",
      "                      math.gamma(alpha) * beta ** alpha\n",
      "    \n",
      "    gauss(mu=0.0, sigma=1.0) method of Random instance\n",
      "        Gaussian distribution.\n",
      "        \n",
      "        mu is the mean, and sigma is the standard deviation.  This is\n",
      "        slightly faster than the normalvariate() function.\n",
      "        \n",
      "        Not thread-safe without a lock around calls.\n",
      "    \n",
      "    getrandbits(k, /) method of Random instance\n",
      "        getrandbits(k) -> x.  Generates an int with k random bits.\n",
      "    \n",
      "    getstate() method of Random instance\n",
      "        Return internal state; can be passed to setstate() later.\n",
      "    \n",
      "    lognormvariate(mu, sigma) method of Random instance\n",
      "        Log normal distribution.\n",
      "        \n",
      "        If you take the natural logarithm of this distribution, you'll get a\n",
      "        normal distribution with mean mu and standard deviation sigma.\n",
      "        mu can have any value, and sigma must be greater than zero.\n",
      "    \n",
      "    normalvariate(mu=0.0, sigma=1.0) method of Random instance\n",
      "        Normal distribution.\n",
      "        \n",
      "        mu is the mean, and sigma is the standard deviation.\n",
      "    \n",
      "    paretovariate(alpha) method of Random instance\n",
      "        Pareto distribution.  alpha is the shape parameter.\n",
      "    \n",
      "    randbytes(n) method of Random instance\n",
      "        Generate n random bytes.\n",
      "    \n",
      "    randint(a, b) method of Random instance\n",
      "        Return random integer in range [a, b], including both end points.\n",
      "    \n",
      "    random() method of Random instance\n",
      "        random() -> x in the interval [0, 1).\n",
      "    \n",
      "    randrange(start, stop=None, step=1) method of Random instance\n",
      "        Choose a random item from range(stop) or range(start, stop[, step]).\n",
      "        \n",
      "        Roughly equivalent to ``choice(range(start, stop, step))`` but\n",
      "        supports arbitrarily large ranges and is optimized for common cases.\n",
      "    \n",
      "    sample(population, k, *, counts=None) method of Random instance\n",
      "        Chooses k unique random elements from a population sequence.\n",
      "        \n",
      "        Returns a new list containing elements from the population while\n",
      "        leaving the original population unchanged.  The resulting list is\n",
      "        in selection order so that all sub-slices will also be valid random\n",
      "        samples.  This allows raffle winners (the sample) to be partitioned\n",
      "        into grand prize and second place winners (the subslices).\n",
      "        \n",
      "        Members of the population need not be hashable or unique.  If the\n",
      "        population contains repeats, then each occurrence is a possible\n",
      "        selection in the sample.\n",
      "        \n",
      "        Repeated elements can be specified one at a time or with the optional\n",
      "        counts parameter.  For example:\n",
      "        \n",
      "            sample(['red', 'blue'], counts=[4, 2], k=5)\n",
      "        \n",
      "        is equivalent to:\n",
      "        \n",
      "            sample(['red', 'red', 'red', 'red', 'blue', 'blue'], k=5)\n",
      "        \n",
      "        To choose a sample from a range of integers, use range() for the\n",
      "        population argument.  This is especially fast and space efficient\n",
      "        for sampling from a large population:\n",
      "        \n",
      "            sample(range(10000000), 60)\n",
      "    \n",
      "    seed(a=None, version=2) method of Random instance\n",
      "        Initialize internal state from a seed.\n",
      "        \n",
      "        The only supported seed types are None, int, float,\n",
      "        str, bytes, and bytearray.\n",
      "        \n",
      "        None or no argument seeds from current time or from an operating\n",
      "        system specific randomness source if available.\n",
      "        \n",
      "        If *a* is an int, all bits are used.\n",
      "        \n",
      "        For version 2 (the default), all of the bits are used if *a* is a str,\n",
      "        bytes, or bytearray.  For version 1 (provided for reproducing random\n",
      "        sequences from older versions of Python), the algorithm for str and\n",
      "        bytes generates a narrower range of seeds.\n",
      "    \n",
      "    setstate(state) method of Random instance\n",
      "        Restore internal state from object returned by getstate().\n",
      "    \n",
      "    shuffle(x) method of Random instance\n",
      "        Shuffle list x in place, and return None.\n",
      "    \n",
      "    triangular(low=0.0, high=1.0, mode=None) method of Random instance\n",
      "        Triangular distribution.\n",
      "        \n",
      "        Continuous distribution bounded by given lower and upper limits,\n",
      "        and having a given mode value in-between.\n",
      "        \n",
      "        http://en.wikipedia.org/wiki/Triangular_distribution\n",
      "    \n",
      "    uniform(a, b) method of Random instance\n",
      "        Get a random number in the range [a, b) or [a, b] depending on rounding.\n",
      "    \n",
      "    vonmisesvariate(mu, kappa) method of Random instance\n",
      "        Circular data distribution.\n",
      "        \n",
      "        mu is the mean angle, expressed in radians between 0 and 2*pi, and\n",
      "        kappa is the concentration parameter, which must be greater than or\n",
      "        equal to zero.  If kappa is equal to zero, this distribution reduces\n",
      "        to a uniform random angle over the range 0 to 2*pi.\n",
      "    \n",
      "    weibullvariate(alpha, beta) method of Random instance\n",
      "        Weibull distribution.\n",
      "        \n",
      "        alpha is the scale parameter and beta is the shape parameter.\n",
      "\n",
      "DATA\n",
      "    __all__ = ['Random', 'SystemRandom', 'betavariate', 'choice', 'choices...\n",
      "\n",
      "FILE\n",
      "    /usr/local/Cellar/python@3.11/3.11.3/Frameworks/Python.framework/Versions/3.11/lib/python3.11/random.py\n",
      "\n",
      "\n"
     ]
    }
   ],
   "source": [
    "# another form of documentation: help(our_module)\n",
    "\n",
    "help(random)"
   ]
  },
  {
   "cell_type": "code",
   "execution_count": 52,
   "id": "1c3b03a9",
   "metadata": {},
   "outputs": [
    {
     "data": {
      "text/plain": [
       "61"
      ]
     },
     "execution_count": 52,
     "metadata": {},
     "output_type": "execute_result"
    }
   ],
   "source": [
    "# if I want to call randint, I can't just do it without mentioning random\n",
    "# in Python, any name after a . is called an \"attribute\" -- it can be a function/method or data\n",
    "\n",
    "random.randint(0, 100)"
   ]
  },
  {
   "cell_type": "code",
   "execution_count": 53,
   "id": "d77e9d93",
   "metadata": {},
   "outputs": [
    {
     "ename": "NameError",
     "evalue": "name 'randint' is not defined",
     "output_type": "error",
     "traceback": [
      "\u001b[0;31m---------------------------------------------------------------------------\u001b[0m",
      "\u001b[0;31mNameError\u001b[0m                                 Traceback (most recent call last)",
      "Cell \u001b[0;32mIn [53], line 1\u001b[0m\n\u001b[0;32m----> 1\u001b[0m \u001b[43mrandint\u001b[49m(\u001b[38;5;241m0\u001b[39m, \u001b[38;5;241m100\u001b[39m)\n",
      "\u001b[0;31mNameError\u001b[0m: name 'randint' is not defined"
     ]
    }
   ],
   "source": [
    "randint(0, 100)"
   ]
  },
  {
   "cell_type": "code",
   "execution_count": 54,
   "id": "4792df99",
   "metadata": {},
   "outputs": [],
   "source": [
    "# What if I really want to call randint directly, not via random?\n",
    "\n",
    "# I can use an alternative version of import, called \"from .. import\"\n",
    "\n",
    "from random import randint"
   ]
  },
  {
   "cell_type": "code",
   "execution_count": 55,
   "id": "0f38e8c3",
   "metadata": {},
   "outputs": [
    {
     "data": {
      "text/plain": [
       "45"
      ]
     },
     "execution_count": 55,
     "metadata": {},
     "output_type": "execute_result"
    }
   ],
   "source": [
    "randint(0, 100)"
   ]
  },
  {
   "cell_type": "markdown",
   "id": "3cf1c18b",
   "metadata": {},
   "source": [
    "# `from .. import`\n",
    "\n",
    "This is a great way to make available names in a module that you'll be using a lot, without having to then always name the module.\n",
    "\n",
    "Two things to realize:\n",
    "\n",
    "1. The module is still loaded into memory. There is *no way* to avoid that.\n",
    "2. The module is *not* defined as a variable at the global level. Only the variable you named is.\n",
    "\n",
    "This means that if you say\n",
    "\n",
    "    from random import randint\n",
    "    \n",
    "the `random` module is loaded into memory, and the next time we say `import random`, it'll be instantaneous, because it'll just need a variable definition.  However, `random` won't be defined as a variable.    "
   ]
  },
  {
   "cell_type": "code",
   "execution_count": 56,
   "id": "86be44b2",
   "metadata": {},
   "outputs": [],
   "source": [
    "import random as r    # this imports our module, but defines a different variable\n",
    "\n",
    "# do this if\n",
    "\n",
    "# (1) You'll have a namespace collision\n",
    "# (2) Everyone else does it -- for example, everyone says \"import pandas as pd\""
   ]
  },
  {
   "cell_type": "code",
   "execution_count": 57,
   "id": "464259db",
   "metadata": {},
   "outputs": [],
   "source": [
    "# you can also do that with individual names imported with \"from .. import\"\n",
    "\n",
    "from random import randint as ri"
   ]
  },
  {
   "cell_type": "markdown",
   "id": "692f4ccf",
   "metadata": {},
   "source": [
    "# `import` only occurs once in a Python session\n",
    "\n",
    "If you have four different files in your Python program, and each of them starts with `import pandas as pd`, then the module will only be loaded a single time. Each subsequent time, Python will notice that the module has already been loaded into memory, and will use that cached version, assigning `pd` in its namespace to refer there.\n",
    "\n",
    "What is this cache? It's a dictionary, called `sys.modules`. The keys are strings (module names), and the values are module objects.\n",
    "\n",
    "Each time you use `import random`, Python checks if `'random' in sys.modules`. If so, then it doesn't need to load the module."
   ]
  },
  {
   "cell_type": "code",
   "execution_count": 58,
   "id": "060d5376",
   "metadata": {},
   "outputs": [
    {
     "data": {
      "text/plain": [
       "2427"
      ]
     },
     "execution_count": 58,
     "metadata": {},
     "output_type": "execute_result"
    }
   ],
   "source": [
    "len(sys.modules)"
   ]
  },
  {
   "cell_type": "markdown",
   "id": "33f3b554",
   "metadata": {},
   "source": [
    "# Writing a module\n",
    "\n",
    "A module is a (regular text file) containing Python code, whose name ends in `.py`. The filename should also be a legal Python identifier (i.e., starting with a letter or `_`, containing only letters, numbers, and underscores)."
   ]
  },
  {
   "cell_type": "code",
   "execution_count": 59,
   "id": "36f1d189",
   "metadata": {},
   "outputs": [
    {
     "data": {
      "text/plain": [
       "['/Users/reuven/Courses/Current/Deluxe-2023-python',\n",
       " '/usr/local/Cellar/python@3.11/3.11.3/Frameworks/Python.framework/Versions/3.11/lib/python311.zip',\n",
       " '/usr/local/Cellar/python@3.11/3.11.3/Frameworks/Python.framework/Versions/3.11/lib/python3.11',\n",
       " '/usr/local/Cellar/python@3.11/3.11.3/Frameworks/Python.framework/Versions/3.11/lib/python3.11/lib-dynload',\n",
       " '',\n",
       " '/usr/local/lib/python3.11/site-packages',\n",
       " '/usr/local/Cellar/pybind11/2.10.4/libexec/lib/python3.11/site-packages',\n",
       " '/usr/local/opt/python-tk@3.11/libexec']"
      ]
     },
     "execution_count": 59,
     "metadata": {},
     "output_type": "execute_result"
    }
   ],
   "source": [
    "sys.path"
   ]
  },
  {
   "cell_type": "code",
   "execution_count": 60,
   "id": "47f5cd57",
   "metadata": {},
   "outputs": [],
   "source": [
    "import mymod"
   ]
  },
  {
   "cell_type": "code",
   "execution_count": 61,
   "id": "9b56b703",
   "metadata": {},
   "outputs": [
    {
     "data": {
      "text/plain": [
       "module"
      ]
     },
     "execution_count": 61,
     "metadata": {},
     "output_type": "execute_result"
    }
   ],
   "source": [
    "type(mymod)"
   ]
  },
  {
   "cell_type": "code",
   "execution_count": 62,
   "id": "8fdb06c1",
   "metadata": {},
   "outputs": [
    {
     "data": {
      "text/plain": [
       "['__builtins__',\n",
       " '__cached__',\n",
       " '__doc__',\n",
       " '__file__',\n",
       " '__loader__',\n",
       " '__name__',\n",
       " '__package__',\n",
       " '__spec__']"
      ]
     },
     "execution_count": 62,
     "metadata": {},
     "output_type": "execute_result"
    }
   ],
   "source": [
    "# what names have been defined on mymod?\n",
    "\n",
    "dir(mymod)"
   ]
  },
  {
   "cell_type": "code",
   "execution_count": 63,
   "id": "131fcd4e",
   "metadata": {},
   "outputs": [
    {
     "data": {
      "text/plain": [
       "'/Users/reuven/Courses/Current/Deluxe-2023-python/mymod.py'"
      ]
     },
     "execution_count": 63,
     "metadata": {},
     "output_type": "execute_result"
    }
   ],
   "source": [
    "# these are known as \"dunders\" -- double underscore\n",
    "# all of these names are defined by Python when we import our module\n",
    "\n",
    "mymod.__file__"
   ]
  },
  {
   "cell_type": "code",
   "execution_count": 64,
   "id": "5f7905ec",
   "metadata": {},
   "outputs": [
    {
     "data": {
      "text/plain": [
       "'mymod'"
      ]
     },
     "execution_count": 64,
     "metadata": {},
     "output_type": "execute_result"
    }
   ],
   "source": [
    "mymod.__name__"
   ]
  },
  {
   "cell_type": "code",
   "execution_count": 65,
   "id": "0da78f25",
   "metadata": {},
   "outputs": [],
   "source": [
    "import mymod"
   ]
  },
  {
   "cell_type": "code",
   "execution_count": 66,
   "id": "c299dfa9",
   "metadata": {},
   "outputs": [
    {
     "data": {
      "text/plain": [
       "['__builtins__',\n",
       " '__cached__',\n",
       " '__doc__',\n",
       " '__file__',\n",
       " '__loader__',\n",
       " '__name__',\n",
       " '__package__',\n",
       " '__spec__']"
      ]
     },
     "execution_count": 66,
     "metadata": {},
     "output_type": "execute_result"
    }
   ],
   "source": [
    "dir(mymod)"
   ]
  },
  {
   "cell_type": "code",
   "execution_count": 67,
   "id": "eb471934",
   "metadata": {},
   "outputs": [],
   "source": [
    "# if you want to reload a module, you should import the \"reload\" function from \"importlib\"\n",
    "from importlib import reload"
   ]
  },
  {
   "cell_type": "code",
   "execution_count": 68,
   "id": "3383cb7d",
   "metadata": {},
   "outputs": [
    {
     "data": {
      "text/plain": [
       "<module 'mymod' from '/Users/reuven/Courses/Current/Deluxe-2023-python/mymod.py'>"
      ]
     },
     "execution_count": 68,
     "metadata": {},
     "output_type": "execute_result"
    }
   ],
   "source": [
    "reload(mymod)  # this removes the cached version, thus making the way for a new version to be imported"
   ]
  },
  {
   "cell_type": "code",
   "execution_count": null,
   "id": "20990bf0",
   "metadata": {},
   "outputs": [],
   "source": []
  }
 ],
 "metadata": {
  "kernelspec": {
   "display_name": "Python 3 (ipykernel)",
   "language": "python",
   "name": "python3"
  },
  "language_info": {
   "codemirror_mode": {
    "name": "ipython",
    "version": 3
   },
   "file_extension": ".py",
   "mimetype": "text/x-python",
   "name": "python",
   "nbconvert_exporter": "python",
   "pygments_lexer": "ipython3",
   "version": "3.11.3"
  }
 },
 "nbformat": 4,
 "nbformat_minor": 5
}
