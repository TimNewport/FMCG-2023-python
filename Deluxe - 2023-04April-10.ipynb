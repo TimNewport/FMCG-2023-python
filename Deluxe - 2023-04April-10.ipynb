{
 "cells": [
  {
   "cell_type": "markdown",
   "id": "663d29c8",
   "metadata": {},
   "source": [
    "# Agenda\n",
    "\n",
    "1. Sorting + passing functions (maybe even `lambda`)\n",
    "2. Modules + packages\n",
    "3. boto3 -- working with AWS"
   ]
  },
  {
   "cell_type": "markdown",
   "id": "9086d270",
   "metadata": {},
   "source": [
    "# Sorting \n",
    "\n",
    "There are many times when we might want to sort our data! In Python, lists have a `sort` method that actually changes the list, and sorts its elements from lowest to highest. (You can indicate that you want to sort in reverse order, if you want.)\n",
    "\n",
    "Don't use this method.  Don't sort things with `list.sort`!  There are several reasons:\n",
    "\n",
    "1. This changes the list itself\n",
    "2. It only works on lists, and you often want to sort other types of data.\n",
    "\n",
    "We can instead use the `sorted` builtin function. It's *not* a method, but is a function that takes any iterable as an argument.  It returns a list of the input's elements, sorted from lowest to highest."
   ]
  },
  {
   "cell_type": "code",
   "execution_count": null,
   "id": "afff1cbf",
   "metadata": {},
   "outputs": [],
   "source": [
    "# let's create a list of random integers\n",
    "\n"
   ]
  }
 ],
 "metadata": {
  "kernelspec": {
   "display_name": "Python 3 (ipykernel)",
   "language": "python",
   "name": "python3"
  },
  "language_info": {
   "codemirror_mode": {
    "name": "ipython",
    "version": 3
   },
   "file_extension": ".py",
   "mimetype": "text/x-python",
   "name": "python",
   "nbconvert_exporter": "python",
   "pygments_lexer": "ipython3",
   "version": "3.11.3"
  }
 },
 "nbformat": 4,
 "nbformat_minor": 5
}
