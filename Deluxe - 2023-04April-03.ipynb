{
 "cells": [
  {
   "cell_type": "markdown",
   "id": "aeb53ff6",
   "metadata": {},
   "source": [
    "# Agenda\n",
    "\n",
    "1. Files (reading from them, and writing to them)\n",
    "2. Comprehensions\n",
    "3. Passing functions as arguments "
   ]
  },
  {
   "cell_type": "markdown",
   "id": "a4d013a2",
   "metadata": {},
   "source": [
    "# Files\n",
    "\n",
    "We're going to discuss reading/writing plain-text files.  \n",
    "\n",
    "If/when we want to read from an existing file (or write to a new one), we cannot do it ourselves. We'll need an agent to do it on our behalf.  In the program"
   ]
  }
 ],
 "metadata": {
  "kernelspec": {
   "display_name": "Python 3 (ipykernel)",
   "language": "python",
   "name": "python3"
  },
  "language_info": {
   "codemirror_mode": {
    "name": "ipython",
    "version": 3
   },
   "file_extension": ".py",
   "mimetype": "text/x-python",
   "name": "python",
   "nbconvert_exporter": "python",
   "pygments_lexer": "ipython3",
   "version": "3.11.2"
  }
 },
 "nbformat": 4,
 "nbformat_minor": 5
}
