{
 "cells": [
  {
   "cell_type": "markdown",
   "id": "b0970496",
   "metadata": {},
   "source": [
    "# Agenda\n",
    "\n",
    "1. Files (reading from them, and writing to them)\n",
    "2. Comprehensions\n",
    "3. Passing functions as arguments "
   ]
  },
  {
   "cell_type": "markdown",
   "id": "6c7a7262",
   "metadata": {},
   "source": [
    "# Files\n",
    "\n",
    "We're going to discuss reading/writing plain-text files.  \n",
    "\n",
    "If/when we want to read from an existing file (or write to a new one), we cannot do it ourselves. We'll need an agent to do it on our behalf.  In the programming world, we often call such agents \"file handles.\" In the Python world, we use \"file objects,\" meaning that we get back a file object from the operating system (via Python), and then we read/write/manipulate our file using that file object.\n",
    "\n",
    "Actually, as of Python 3, there are *many* objects that can be returned from the OS for us to work with files. They are thus officially known as \"file-like objects.\"\n",
    "\n",
    "Typically you can open a file for reading or for writing, but not both.\n",
    "\n",
    "To open a file in Python, and get a file object back, we invoke the `open` function:\n",
    "\n",
    "- The first argument is mandatory -- it's the name of the file, as a string\n",
    "- The second argument is optional, telling Python whether you want to read from or write to the file. By default, we read from a file, which is the same as passing `'r` as the second argument.  If you want to write to a file (and we'll talk more about this later), then you use `'w'` as the second argument."
   ]
  },
  {
   "cell_type": "code",
   "execution_count": null,
   "id": "73227526",
   "metadata": {},
   "outputs": [],
   "source": [
    "# I'm on a Unix machine (a Mac) which has a file called /etc/passwd -- containing all of the usernames\n",
    "# on the system.  I love to play with this file...\n",
    "\n",
    "f = open('/etc/passwd')    "
   ]
  }
 ],
 "metadata": {
  "kernelspec": {
   "display_name": "Python 3 (ipykernel)",
   "language": "python",
   "name": "python3"
  },
  "language_info": {
   "codemirror_mode": {
    "name": "ipython",
    "version": 3
   },
   "file_extension": ".py",
   "mimetype": "text/x-python",
   "name": "python",
   "nbconvert_exporter": "python",
   "pygments_lexer": "ipython3",
   "version": "3.11.2"
  }
 },
 "nbformat": 4,
 "nbformat_minor": 5
}
