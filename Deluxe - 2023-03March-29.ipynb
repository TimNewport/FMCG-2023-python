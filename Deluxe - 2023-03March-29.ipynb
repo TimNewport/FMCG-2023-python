{
 "cells": [
  {
   "cell_type": "markdown",
   "id": "f7cb8c09",
   "metadata": {},
   "source": [
    "# Agenda: Functions!\n",
    "\n",
    "1. Defining functions\n",
    "2. Arguments + parameters\n",
    "3. `*args`\n",
    "4. `**kwargs`\n",
    "5. Variable scoping"
   ]
  },
  {
   "cell_type": "markdown",
   "id": "7bf83497",
   "metadata": {},
   "source": [
    "# Functions are verbs!\n",
    "\n",
    "Do we need functions in our programs? No.  We could, in theory, do without them.\n",
    "\n",
    "But functions allow us to think at a higher level. ABSTRACTION -- the idea that we can think at a higher level and ignore the details of the lower levels -- that allows us to build larger and more complex system."
   ]
  },
  {
   "cell_type": "code",
   "execution_count": 2,
   "id": "fbfe11e9",
   "metadata": {},
   "outputs": [
    {
     "name": "stdout",
     "output_type": "stream",
     "text": [
      "abcd\n"
     ]
    }
   ],
   "source": [
    "print('abcd')"
   ]
  },
  {
   "cell_type": "markdown",
   "id": "e24a2161",
   "metadata": {},
   "source": [
    "# In Python, functions are also nouns\n",
    "\n",
    "In contrast with many programming languages, Python's functions are objects, just like strings, lists, dicts, etc. This has lots of implications, most of them good, but sometimes you'll run into funny errors if you aren't expecting this to be the case."
   ]
  },
  {
   "cell_type": "code",
   "execution_count": 3,
   "id": "e19e6207",
   "metadata": {},
   "outputs": [
    {
     "data": {
      "text/plain": [
       "int"
      ]
     },
     "execution_count": 3,
     "metadata": {},
     "output_type": "execute_result"
    }
   ],
   "source": [
    "s = 'abcd'\n",
    "x = len(s)   # running len(s), assigning the result to x\n",
    "\n",
    "type(x)"
   ]
  },
  {
   "cell_type": "code",
   "execution_count": 4,
   "id": "cf7534b8",
   "metadata": {},
   "outputs": [
    {
     "data": {
      "text/plain": [
       "4"
      ]
     },
     "execution_count": 4,
     "metadata": {},
     "output_type": "execute_result"
    }
   ],
   "source": [
    "x"
   ]
  },
  {
   "cell_type": "code",
   "execution_count": 5,
   "id": "a2f425ce",
   "metadata": {},
   "outputs": [
    {
     "data": {
      "text/plain": [
       "str"
      ]
     },
     "execution_count": 5,
     "metadata": {},
     "output_type": "execute_result"
    }
   ],
   "source": [
    "x = s.upper()   # running s.upper(), and assigning the result to x\n",
    "\n",
    "type(x)"
   ]
  },
  {
   "cell_type": "code",
   "execution_count": 6,
   "id": "0e2e109e",
   "metadata": {},
   "outputs": [
    {
     "data": {
      "text/plain": [
       "'ABCD'"
      ]
     },
     "execution_count": 6,
     "metadata": {},
     "output_type": "execute_result"
    }
   ],
   "source": [
    "x"
   ]
  },
  {
   "cell_type": "code",
   "execution_count": 7,
   "id": "b371376a",
   "metadata": {},
   "outputs": [],
   "source": [
    "x = s.upper   # no parentheses -- will this even work? If so, what does it do?"
   ]
  },
  {
   "cell_type": "code",
   "execution_count": 8,
   "id": "8f8276e7",
   "metadata": {},
   "outputs": [
    {
     "data": {
      "text/plain": [
       "builtin_function_or_method"
      ]
     },
     "execution_count": 8,
     "metadata": {},
     "output_type": "execute_result"
    }
   ],
   "source": [
    "type(x)"
   ]
  },
  {
   "cell_type": "markdown",
   "id": "1039fc6b",
   "metadata": {},
   "source": [
    "In Python, when we refer to a function or method, we're retrieving an object from memory, no different from strings, lists, tuples, etc.\n",
    "\n",
    "The difference is that we can invoke, or call, a function, thus executing it and getting a result back.  How do we invoke a function? With parentheses."
   ]
  },
  {
   "cell_type": "code",
   "execution_count": 9,
   "id": "5077ff69",
   "metadata": {},
   "outputs": [
    {
     "data": {
      "text/plain": [
       "<function str.upper()>"
      ]
     },
     "execution_count": 9,
     "metadata": {},
     "output_type": "execute_result"
    }
   ],
   "source": [
    "x"
   ]
  },
  {
   "cell_type": "code",
   "execution_count": 10,
   "id": "f3189308",
   "metadata": {},
   "outputs": [
    {
     "data": {
      "text/plain": [
       "'ABCD'"
      ]
     },
     "execution_count": 10,
     "metadata": {},
     "output_type": "execute_result"
    }
   ],
   "source": [
    "# how do I call a function?  with parentheses\n",
    "\n",
    "x()"
   ]
  },
  {
   "cell_type": "code",
   "execution_count": 12,
   "id": "a1f333ca",
   "metadata": {},
   "outputs": [
    {
     "name": "stdout",
     "output_type": "stream",
     "text": [
      "a: 1\n",
      "b: 2\n",
      "c: 3\n"
     ]
    }
   ],
   "source": [
    "# here's one place where I see people surprised to discover this (as a bug)\n",
    "\n",
    "d = {'a':1, 'b':2, 'c':3}\n",
    "\n",
    "# I want to iterate over that dict\n",
    "\n",
    "for key, value in d.items():\n",
    "    print(f'{key}: {value}')"
   ]
  },
  {
   "cell_type": "code",
   "execution_count": 13,
   "id": "7fa02d40",
   "metadata": {},
   "outputs": [
    {
     "ename": "TypeError",
     "evalue": "'builtin_function_or_method' object is not iterable",
     "output_type": "error",
     "traceback": [
      "\u001b[0;31m---------------------------------------------------------------------------\u001b[0m",
      "\u001b[0;31mTypeError\u001b[0m                                 Traceback (most recent call last)",
      "Cell \u001b[0;32mIn [13], line 3\u001b[0m\n\u001b[1;32m      1\u001b[0m \u001b[38;5;66;03m# what about if I type this:\u001b[39;00m\n\u001b[0;32m----> 3\u001b[0m \u001b[38;5;28;01mfor\u001b[39;00m key, value \u001b[38;5;129;01min\u001b[39;00m d\u001b[38;5;241m.\u001b[39mitems:   \u001b[38;5;66;03m# notice -- no parentheses\u001b[39;00m\n\u001b[1;32m      4\u001b[0m     \u001b[38;5;28mprint\u001b[39m(\u001b[38;5;124mf\u001b[39m\u001b[38;5;124m'\u001b[39m\u001b[38;5;132;01m{\u001b[39;00mkey\u001b[38;5;132;01m}\u001b[39;00m\u001b[38;5;124m: \u001b[39m\u001b[38;5;132;01m{\u001b[39;00mvalue\u001b[38;5;132;01m}\u001b[39;00m\u001b[38;5;124m'\u001b[39m)\n",
      "\u001b[0;31mTypeError\u001b[0m: 'builtin_function_or_method' object is not iterable"
     ]
    }
   ],
   "source": [
    "# what about if I type this:\n",
    "\n",
    "for key, value in d.items:   # notice -- no parentheses\n",
    "    print(f'{key}: {value}')"
   ]
  },
  {
   "cell_type": "markdown",
   "id": "146c4617",
   "metadata": {},
   "source": [
    "# Let's define a function!\n",
    "\n",
    "How do we define functions?\n",
    "\n",
    "1. We use the keyword `def` (short for \"define\")\n",
    "2. We name the function\n",
    "3. We put parentheses after the function name (in a bit, we'll add parameters inside of the parentheses)\n",
    "4. We have a colon\n",
    "5. We have an indented block with *any* Python code we might want to have there -- `if`, `while`, `for`, etc.\n",
    "6. We normally want to return a value from our function, and we do this with the keyword `return`. If you don't explicitly `return` from a function, then the function returns `None`.\n",
    "\n",
    "There is a big difference between a function printing and a function returning. A function can print a lot or a little. But it can only return one item at a time. That can be anything. It's a good idea for functions to return values, not print them, so that someone can capture them"
   ]
  },
  {
   "cell_type": "code",
   "execution_count": 14,
   "id": "9471c5dc",
   "metadata": {},
   "outputs": [],
   "source": [
    "def hello():\n",
    "    return f'Hello!'"
   ]
  },
  {
   "cell_type": "code",
   "execution_count": 15,
   "id": "a09de28f",
   "metadata": {},
   "outputs": [
    {
     "data": {
      "text/plain": [
       "'Hello!'"
      ]
     },
     "execution_count": 15,
     "metadata": {},
     "output_type": "execute_result"
    }
   ],
   "source": [
    "hello()   # Python finds the variable \"hello\", sees that it's defined to be a function, executes it"
   ]
  },
  {
   "cell_type": "markdown",
   "id": "be885527",
   "metadata": {},
   "source": [
    "# What happens when I define a function?\n",
    "\n",
    "Two things happen:\n",
    "\n",
    "1. I create a function object\n",
    "2. I assign that function to a variable\n",
    "\n",
    "In many languages, there is a difference between data (variable names) and function names. You can have a function `x` and a variable `x` at the same time, and they won't interfere with one another.  Not so in Python! The most recent definition wins:\n",
    "\n",
    "- if you use the same name for more than one value, the last one wins\n",
    "- If you use the same name for more than one function, the last one wins\n",
    "- If you use the same name for both data and functions, the last one wins"
   ]
  },
  {
   "cell_type": "code",
   "execution_count": 16,
   "id": "549b10d8",
   "metadata": {},
   "outputs": [],
   "source": [
    "hello = 'my favorite greeting'   # I've assigned a string to hello"
   ]
  },
  {
   "cell_type": "code",
   "execution_count": 17,
   "id": "72dd15f3",
   "metadata": {},
   "outputs": [
    {
     "ename": "TypeError",
     "evalue": "'str' object is not callable",
     "output_type": "error",
     "traceback": [
      "\u001b[0;31m---------------------------------------------------------------------------\u001b[0m",
      "\u001b[0;31mTypeError\u001b[0m                                 Traceback (most recent call last)",
      "Cell \u001b[0;32mIn [17], line 1\u001b[0m\n\u001b[0;32m----> 1\u001b[0m \u001b[43mhello\u001b[49m\u001b[43m(\u001b[49m\u001b[43m)\u001b[49m\n",
      "\u001b[0;31mTypeError\u001b[0m: 'str' object is not callable"
     ]
    }
   ],
   "source": [
    "hello()"
   ]
  },
  {
   "cell_type": "markdown",
   "id": "3e755f3a",
   "metadata": {},
   "source": [
    "Keep your functions short!\n",
    "\n",
    "If your function is > 20 lines long, it's probably too long."
   ]
  },
  {
   "cell_type": "markdown",
   "id": "b4f1787f",
   "metadata": {},
   "source": [
    "# Arguments and parameters\n",
    "\n",
    "If we want our function to do different things each time we invoke it, we can define it with one or more *parameters*. These are variables that will automatically assigned values when we invoke the function.\n",
    "\n",
    "The values that we pass are known as *arguments*.\n",
    "\n",
    "Note: Most programmers don't distinguish between arguments and parameters. It's normal for people to mix these up.\n",
    "\n",
    "When I call\n",
    "\n",
    "    len('abcd')\n",
    "    \n",
    "The string `'abcd'` is the argument that I'm passing, and `len` has a parameter that gets assigned that argument.    "
   ]
  },
  {
   "cell_type": "code",
   "execution_count": 18,
   "id": "307f1913",
   "metadata": {},
   "outputs": [],
   "source": [
    "# redefine hello to take an argument\n",
    "\n",
    "def hello(name):\n",
    "    return f'Hello, {name}!'"
   ]
  },
  {
   "cell_type": "code",
   "execution_count": 19,
   "id": "abd5304b",
   "metadata": {},
   "outputs": [
    {
     "data": {
      "text/plain": [
       "'Hello, world!'"
      ]
     },
     "execution_count": 19,
     "metadata": {},
     "output_type": "execute_result"
    }
   ],
   "source": [
    "hello('world')"
   ]
  },
  {
   "cell_type": "code",
   "execution_count": 20,
   "id": "3c04d740",
   "metadata": {},
   "outputs": [
    {
     "data": {
      "text/plain": [
       "'Hello, out there!'"
      ]
     },
     "execution_count": 20,
     "metadata": {},
     "output_type": "execute_result"
    }
   ],
   "source": [
    "hello('out there')"
   ]
  },
  {
   "cell_type": "code",
   "execution_count": 21,
   "id": "abf30c0d",
   "metadata": {},
   "outputs": [
    {
     "data": {
      "text/plain": [
       "'Hello, 5!'"
      ]
     },
     "execution_count": 21,
     "metadata": {},
     "output_type": "execute_result"
    }
   ],
   "source": [
    "hello(5)"
   ]
  },
  {
   "cell_type": "code",
   "execution_count": 22,
   "id": "e5019185",
   "metadata": {},
   "outputs": [
    {
     "data": {
      "text/plain": [
       "'Hello, [10, 20, 30]!'"
      ]
     },
     "execution_count": 22,
     "metadata": {},
     "output_type": "execute_result"
    }
   ],
   "source": [
    "hello([10, 20, 30])"
   ]
  },
  {
   "cell_type": "code",
   "execution_count": 23,
   "id": "2228ad6e",
   "metadata": {},
   "outputs": [
    {
     "data": {
      "text/plain": [
       "'Hello, <function hello at 0x103cc6fc0>!'"
      ]
     },
     "execution_count": 23,
     "metadata": {},
     "output_type": "execute_result"
    }
   ],
   "source": [
    "# I can even do this:\n",
    "\n",
    "hello(hello)    # here, I invoked hello with an argument of a function object that happened to be itself"
   ]
  },
  {
   "cell_type": "markdown",
   "id": "2c8b178e",
   "metadata": {},
   "source": [
    "# Python is a dynamic language\n",
    "\n",
    "Just as we cannot tell Python in advance what types of values should be (or will be, or can be) assigned to our variables, we cannot tell it what types will be assigned to our parameters.\n",
    "\n",
    "Every function can take every type of value, as far as Python is concerned. It won't give us an error if we try to call a function with the wrong type of argument. But of course, it might crash our program to do that."
   ]
  },
  {
   "cell_type": "markdown",
   "id": "244a7696",
   "metadata": {},
   "source": [
    "# Return values\n",
    "\n",
    "A Python function can return **any value at all**. It can return an integer, string, list, tuple, dict, or even something more complex (yes, even a function).  \n",
    "\n",
    "This gives us a lot of freedom!\n",
    "\n"
   ]
  },
  {
   "cell_type": "code",
   "execution_count": 24,
   "id": "04f9a395",
   "metadata": {},
   "outputs": [
    {
     "data": {
      "text/plain": [
       "'Hello, Hello, 5!!'"
      ]
     },
     "execution_count": 24,
     "metadata": {},
     "output_type": "execute_result"
    }
   ],
   "source": [
    "# whenever you invoke a function, the first thing that happens is to evaluate the arguments\n",
    "# \n",
    "\n",
    "hello(hello(5))"
   ]
  },
  {
   "cell_type": "markdown",
   "id": "f41e5750",
   "metadata": {},
   "source": [
    "# Exercise: Letter frequencies\n",
    "\n",
    "1. Define a function, `count_letters`, that takes a string as an argument.\n",
    "2. The function returns a dictionary. The dict's keys will be the characters in the argument, and the values will be the number of times each character appears.\n",
    "\n",
    "Example:\n",
    "\n",
    "    d = count_letters('hello')\n",
    "    print(d)\n",
    "\n",
    "    {'h':1, 'e':1, 'l':2, 'o':1}   "
   ]
  },
  {
   "cell_type": "code",
   "execution_count": 25,
   "id": "4158a6e7",
   "metadata": {},
   "outputs": [],
   "source": [
    "def count_letters(s):\n",
    "    output = {}\n",
    "    \n",
    "    for one_character in s:\n",
    "\n",
    "        # ask output -- do you have one_character as a key?\n",
    "        # if so, then get the current value (the count), add 1\n",
    "        # if not, then get 0 and add 1 to it\n",
    "        # assign that value to output[one_character]\n",
    "        output[one_character] = output.get(one_character, 0) + 1    \n",
    "    \n",
    "    return output"
   ]
  },
  {
   "cell_type": "code",
   "execution_count": 26,
   "id": "d213b90c",
   "metadata": {},
   "outputs": [
    {
     "data": {
      "text/plain": [
       "{'h': 1, 'e': 1, 'l': 2, 'o': 1}"
      ]
     },
     "execution_count": 26,
     "metadata": {},
     "output_type": "execute_result"
    }
   ],
   "source": [
    "count_letters('hello')"
   ]
  },
  {
   "cell_type": "code",
   "execution_count": 27,
   "id": "0e72044c",
   "metadata": {},
   "outputs": [
    {
     "data": {
      "text/plain": [
       "{'h': 2, 'e': 3, 'l': 2, 'o': 2, ' ': 2, 'u': 1, 't': 2, 'r': 1, '!': 1}"
      ]
     },
     "execution_count": 27,
     "metadata": {},
     "output_type": "execute_result"
    }
   ],
   "source": [
    "count_letters('hello out there!')"
   ]
  },
  {
   "cell_type": "code",
   "execution_count": 28,
   "id": "87519276",
   "metadata": {},
   "outputs": [
    {
     "name": "stdout",
     "output_type": "stream",
     "text": [
      "{'t': 1, 'h': 1, 'i': 1, 's': 1}\n",
      "{'i': 1, 's': 1}\n",
      "{'a': 1}\n",
      "{'t': 2, 'e': 1, 's': 1}\n"
     ]
    }
   ],
   "source": [
    "for one_word in 'this is a test'.split():\n",
    "    print(count_letters(one_word))"
   ]
  },
  {
   "cell_type": "code",
   "execution_count": 29,
   "id": "bcb3291d",
   "metadata": {},
   "outputs": [
    {
     "ename": "TypeError",
     "evalue": "hello() missing 1 required positional argument: 'name'",
     "output_type": "error",
     "traceback": [
      "\u001b[0;31m---------------------------------------------------------------------------\u001b[0m",
      "\u001b[0;31mTypeError\u001b[0m                                 Traceback (most recent call last)",
      "Cell \u001b[0;32mIn [29], line 1\u001b[0m\n\u001b[0;32m----> 1\u001b[0m \u001b[43mhello\u001b[49m\u001b[43m(\u001b[49m\u001b[43m)\u001b[49m\n",
      "\u001b[0;31mTypeError\u001b[0m: hello() missing 1 required positional argument: 'name'"
     ]
    }
   ],
   "source": [
    "hello()"
   ]
  },
  {
   "cell_type": "code",
   "execution_count": 30,
   "id": "4eb7b8a4",
   "metadata": {},
   "outputs": [
    {
     "ename": "TypeError",
     "evalue": "hello() takes 1 positional argument but 2 were given",
     "output_type": "error",
     "traceback": [
      "\u001b[0;31m---------------------------------------------------------------------------\u001b[0m",
      "\u001b[0;31mTypeError\u001b[0m                                 Traceback (most recent call last)",
      "Cell \u001b[0;32mIn [30], line 1\u001b[0m\n\u001b[0;32m----> 1\u001b[0m \u001b[43mhello\u001b[49m\u001b[43m(\u001b[49m\u001b[38;5;124;43m'\u001b[39;49m\u001b[38;5;124;43ma\u001b[39;49m\u001b[38;5;124;43m'\u001b[39;49m\u001b[43m,\u001b[49m\u001b[43m \u001b[49m\u001b[38;5;124;43m'\u001b[39;49m\u001b[38;5;124;43mb\u001b[39;49m\u001b[38;5;124;43m'\u001b[39;49m\u001b[43m)\u001b[49m\n",
      "\u001b[0;31mTypeError\u001b[0m: hello() takes 1 positional argument but 2 were given"
     ]
    }
   ],
   "source": [
    "hello('a', 'b')"
   ]
  },
  {
   "cell_type": "code",
   "execution_count": 31,
   "id": "35c9411e",
   "metadata": {},
   "outputs": [
    {
     "ename": "TypeError",
     "evalue": "count_letters() missing 1 required positional argument: 's'",
     "output_type": "error",
     "traceback": [
      "\u001b[0;31m---------------------------------------------------------------------------\u001b[0m",
      "\u001b[0;31mTypeError\u001b[0m                                 Traceback (most recent call last)",
      "Cell \u001b[0;32mIn [31], line 1\u001b[0m\n\u001b[0;32m----> 1\u001b[0m \u001b[43mcount_letters\u001b[49m\u001b[43m(\u001b[49m\u001b[43m)\u001b[49m\n",
      "\u001b[0;31mTypeError\u001b[0m: count_letters() missing 1 required positional argument: 's'"
     ]
    }
   ],
   "source": [
    "count_letters()"
   ]
  },
  {
   "cell_type": "code",
   "execution_count": 32,
   "id": "bef0b617",
   "metadata": {},
   "outputs": [
    {
     "data": {
      "text/plain": [
       "4"
      ]
     },
     "execution_count": 32,
     "metadata": {},
     "output_type": "execute_result"
    }
   ],
   "source": [
    "len('abcd')"
   ]
  },
  {
   "cell_type": "code",
   "execution_count": 33,
   "id": "acc9628a",
   "metadata": {},
   "outputs": [
    {
     "ename": "TypeError",
     "evalue": "object of type 'int' has no len()",
     "output_type": "error",
     "traceback": [
      "\u001b[0;31m---------------------------------------------------------------------------\u001b[0m",
      "\u001b[0;31mTypeError\u001b[0m                                 Traceback (most recent call last)",
      "Cell \u001b[0;32mIn [33], line 1\u001b[0m\n\u001b[0;32m----> 1\u001b[0m \u001b[38;5;28;43mlen\u001b[39;49m\u001b[43m(\u001b[49m\u001b[38;5;241;43m3\u001b[39;49m\u001b[43m)\u001b[49m\n",
      "\u001b[0;31mTypeError\u001b[0m: object of type 'int' has no len()"
     ]
    }
   ],
   "source": [
    "len(3)"
   ]
  },
  {
   "cell_type": "markdown",
   "id": "bc5bf8a6",
   "metadata": {},
   "source": [
    "# Comments vs. docstrings\n",
    "\n",
    "Comments, which we should write in our code, are meant for the person (people) who will *maintain* the code down the line. Comments describe how the implementation was done.\n",
    "\n",
    "The person who just wants to run the function doens't need to know all that. They just need to know (a) what arguments to pass, (b) what will happen, and (c) what they should expect to get back.\n",
    "\n",
    "In Python, if the first line of the function is a string, then that string is called the \"docstring,\" and Python knows to display it in an editor, or let us access it within Jupyter and elsewhere.  It has no effect on the function's execution."
   ]
  },
  {
   "cell_type": "code",
   "execution_count": 34,
   "id": "494d9497",
   "metadata": {},
   "outputs": [],
   "source": [
    "def hello(name):\n",
    "    'This is the friendliest function in the world!'\n",
    "    \n",
    "    return f'Hello, {name}!'"
   ]
  },
  {
   "cell_type": "code",
   "execution_count": 35,
   "id": "da90a9cd",
   "metadata": {},
   "outputs": [
    {
     "data": {
      "text/plain": [
       "'Hello, world!'"
      ]
     },
     "execution_count": 35,
     "metadata": {},
     "output_type": "execute_result"
    }
   ],
   "source": [
    "hello('world')"
   ]
  },
  {
   "cell_type": "code",
   "execution_count": 36,
   "id": "d5d296c4",
   "metadata": {},
   "outputs": [
    {
     "name": "stdout",
     "output_type": "stream",
     "text": [
      "Help on function hello in module __main__:\n",
      "\n",
      "hello(name)\n",
      "    This is the friendliest function in the world!\n",
      "\n"
     ]
    }
   ],
   "source": [
    "help(hello)   # in Jupyter, I can call help on any function... I get the docstring"
   ]
  },
  {
   "cell_type": "code",
   "execution_count": 37,
   "id": "c46be853",
   "metadata": {},
   "outputs": [],
   "source": [
    "# it's traditional to use a triple-quoted string and have your docstring\n",
    "# take up a bunch of lines -- as much as needed\n",
    "\n",
    "def hello(name):\n",
    "    '''Returns a string, greeting the user nicely.\n",
    "    \n",
    "    Expects: one string, the name of the person to greet\n",
    "    Modifies: Nothing\n",
    "    Returns: a string with the person's name and a friendly greeting\n",
    "    '''\n",
    "    \n",
    "    return f'Hello, {name}!'"
   ]
  },
  {
   "cell_type": "code",
   "execution_count": 38,
   "id": "1c198074",
   "metadata": {},
   "outputs": [
    {
     "data": {
      "text/plain": [
       "'Hello, world!'"
      ]
     },
     "execution_count": 38,
     "metadata": {},
     "output_type": "execute_result"
    }
   ],
   "source": [
    "hello('world')"
   ]
  },
  {
   "cell_type": "code",
   "execution_count": 39,
   "id": "2bc70e74",
   "metadata": {},
   "outputs": [
    {
     "name": "stdout",
     "output_type": "stream",
     "text": [
      "Help on function hello in module __main__:\n",
      "\n",
      "hello(name)\n",
      "    Returns a string, greeting the user nicely.\n",
      "    \n",
      "    Expects: one string, the name of the person to greet\n",
      "    Modifies: Nothing\n",
      "    Returns: a string with the person's name and a friendly greeting\n",
      "\n"
     ]
    }
   ],
   "source": [
    "help(hello)"
   ]
  },
  {
   "cell_type": "code",
   "execution_count": 40,
   "id": "4053e288",
   "metadata": {},
   "outputs": [
    {
     "name": "stdout",
     "output_type": "stream",
     "text": [
      "Help on built-in function len in module builtins:\n",
      "\n",
      "len(obj, /)\n",
      "    Return the number of items in a container.\n",
      "\n"
     ]
    }
   ],
   "source": [
    "help(len)"
   ]
  },
  {
   "cell_type": "code",
   "execution_count": 41,
   "id": "ffd17e12",
   "metadata": {},
   "outputs": [
    {
     "name": "stdout",
     "output_type": "stream",
     "text": [
      "Help on method_descriptor:\n",
      "\n",
      "upper(self, /)\n",
      "    Return a copy of the string converted to uppercase.\n",
      "\n"
     ]
    }
   ],
   "source": [
    "help(str.upper)"
   ]
  },
  {
   "cell_type": "code",
   "execution_count": 42,
   "id": "5b08af60",
   "metadata": {
    "collapsed": true
   },
   "outputs": [
    {
     "name": "stdout",
     "output_type": "stream",
     "text": [
      "Help on class int in module builtins:\n",
      "\n",
      "class int(object)\n",
      " |  int([x]) -> integer\n",
      " |  int(x, base=10) -> integer\n",
      " |  \n",
      " |  Convert a number or string to an integer, or return 0 if no arguments\n",
      " |  are given.  If x is a number, return x.__int__().  For floating point\n",
      " |  numbers, this truncates towards zero.\n",
      " |  \n",
      " |  If x is not a number or if base is given, then x must be a string,\n",
      " |  bytes, or bytearray instance representing an integer literal in the\n",
      " |  given base.  The literal can be preceded by '+' or '-' and be surrounded\n",
      " |  by whitespace.  The base defaults to 10.  Valid bases are 0 and 2-36.\n",
      " |  Base 0 means to interpret the base from the string as an integer literal.\n",
      " |  >>> int('0b100', base=0)\n",
      " |  4\n",
      " |  \n",
      " |  Built-in subclasses:\n",
      " |      bool\n",
      " |  \n",
      " |  Methods defined here:\n",
      " |  \n",
      " |  __abs__(self, /)\n",
      " |      abs(self)\n",
      " |  \n",
      " |  __add__(self, value, /)\n",
      " |      Return self+value.\n",
      " |  \n",
      " |  __and__(self, value, /)\n",
      " |      Return self&value.\n",
      " |  \n",
      " |  __bool__(self, /)\n",
      " |      True if self else False\n",
      " |  \n",
      " |  __ceil__(...)\n",
      " |      Ceiling of an Integral returns itself.\n",
      " |  \n",
      " |  __divmod__(self, value, /)\n",
      " |      Return divmod(self, value).\n",
      " |  \n",
      " |  __eq__(self, value, /)\n",
      " |      Return self==value.\n",
      " |  \n",
      " |  __float__(self, /)\n",
      " |      float(self)\n",
      " |  \n",
      " |  __floor__(...)\n",
      " |      Flooring an Integral returns itself.\n",
      " |  \n",
      " |  __floordiv__(self, value, /)\n",
      " |      Return self//value.\n",
      " |  \n",
      " |  __format__(self, format_spec, /)\n",
      " |      Default object formatter.\n",
      " |  \n",
      " |  __ge__(self, value, /)\n",
      " |      Return self>=value.\n",
      " |  \n",
      " |  __getattribute__(self, name, /)\n",
      " |      Return getattr(self, name).\n",
      " |  \n",
      " |  __getnewargs__(self, /)\n",
      " |  \n",
      " |  __gt__(self, value, /)\n",
      " |      Return self>value.\n",
      " |  \n",
      " |  __hash__(self, /)\n",
      " |      Return hash(self).\n",
      " |  \n",
      " |  __index__(self, /)\n",
      " |      Return self converted to an integer, if self is suitable for use as an index into a list.\n",
      " |  \n",
      " |  __int__(self, /)\n",
      " |      int(self)\n",
      " |  \n",
      " |  __invert__(self, /)\n",
      " |      ~self\n",
      " |  \n",
      " |  __le__(self, value, /)\n",
      " |      Return self<=value.\n",
      " |  \n",
      " |  __lshift__(self, value, /)\n",
      " |      Return self<<value.\n",
      " |  \n",
      " |  __lt__(self, value, /)\n",
      " |      Return self<value.\n",
      " |  \n",
      " |  __mod__(self, value, /)\n",
      " |      Return self%value.\n",
      " |  \n",
      " |  __mul__(self, value, /)\n",
      " |      Return self*value.\n",
      " |  \n",
      " |  __ne__(self, value, /)\n",
      " |      Return self!=value.\n",
      " |  \n",
      " |  __neg__(self, /)\n",
      " |      -self\n",
      " |  \n",
      " |  __or__(self, value, /)\n",
      " |      Return self|value.\n",
      " |  \n",
      " |  __pos__(self, /)\n",
      " |      +self\n",
      " |  \n",
      " |  __pow__(self, value, mod=None, /)\n",
      " |      Return pow(self, value, mod).\n",
      " |  \n",
      " |  __radd__(self, value, /)\n",
      " |      Return value+self.\n",
      " |  \n",
      " |  __rand__(self, value, /)\n",
      " |      Return value&self.\n",
      " |  \n",
      " |  __rdivmod__(self, value, /)\n",
      " |      Return divmod(value, self).\n",
      " |  \n",
      " |  __repr__(self, /)\n",
      " |      Return repr(self).\n",
      " |  \n",
      " |  __rfloordiv__(self, value, /)\n",
      " |      Return value//self.\n",
      " |  \n",
      " |  __rlshift__(self, value, /)\n",
      " |      Return value<<self.\n",
      " |  \n",
      " |  __rmod__(self, value, /)\n",
      " |      Return value%self.\n",
      " |  \n",
      " |  __rmul__(self, value, /)\n",
      " |      Return value*self.\n",
      " |  \n",
      " |  __ror__(self, value, /)\n",
      " |      Return value|self.\n",
      " |  \n",
      " |  __round__(...)\n",
      " |      Rounding an Integral returns itself.\n",
      " |      \n",
      " |      Rounding with an ndigits argument also returns an integer.\n",
      " |  \n",
      " |  __rpow__(self, value, mod=None, /)\n",
      " |      Return pow(value, self, mod).\n",
      " |  \n",
      " |  __rrshift__(self, value, /)\n",
      " |      Return value>>self.\n",
      " |  \n",
      " |  __rshift__(self, value, /)\n",
      " |      Return self>>value.\n",
      " |  \n",
      " |  __rsub__(self, value, /)\n",
      " |      Return value-self.\n",
      " |  \n",
      " |  __rtruediv__(self, value, /)\n",
      " |      Return value/self.\n",
      " |  \n",
      " |  __rxor__(self, value, /)\n",
      " |      Return value^self.\n",
      " |  \n",
      " |  __sizeof__(self, /)\n",
      " |      Returns size in memory, in bytes.\n",
      " |  \n",
      " |  __sub__(self, value, /)\n",
      " |      Return self-value.\n",
      " |  \n",
      " |  __truediv__(self, value, /)\n",
      " |      Return self/value.\n",
      " |  \n",
      " |  __trunc__(...)\n",
      " |      Truncating an Integral returns itself.\n",
      " |  \n",
      " |  __xor__(self, value, /)\n",
      " |      Return self^value.\n",
      " |  \n",
      " |  as_integer_ratio(self, /)\n",
      " |      Return integer ratio.\n",
      " |      \n",
      " |      Return a pair of integers, whose ratio is exactly equal to the original int\n",
      " |      and with a positive denominator.\n",
      " |      \n",
      " |      >>> (10).as_integer_ratio()\n",
      " |      (10, 1)\n",
      " |      >>> (-10).as_integer_ratio()\n",
      " |      (-10, 1)\n",
      " |      >>> (0).as_integer_ratio()\n",
      " |      (0, 1)\n",
      " |  \n",
      " |  bit_count(self, /)\n",
      " |      Number of ones in the binary representation of the absolute value of self.\n",
      " |      \n",
      " |      Also known as the population count.\n",
      " |      \n",
      " |      >>> bin(13)\n",
      " |      '0b1101'\n",
      " |      >>> (13).bit_count()\n",
      " |      3\n",
      " |  \n",
      " |  bit_length(self, /)\n",
      " |      Number of bits necessary to represent self in binary.\n",
      " |      \n",
      " |      >>> bin(37)\n",
      " |      '0b100101'\n",
      " |      >>> (37).bit_length()\n",
      " |      6\n",
      " |  \n",
      " |  conjugate(...)\n",
      " |      Returns self, the complex conjugate of any int.\n",
      " |  \n",
      " |  to_bytes(self, /, length=1, byteorder='big', *, signed=False)\n",
      " |      Return an array of bytes representing an integer.\n",
      " |      \n",
      " |      length\n",
      " |        Length of bytes object to use.  An OverflowError is raised if the\n",
      " |        integer is not representable with the given number of bytes.  Default\n",
      " |        is length 1.\n",
      " |      byteorder\n",
      " |        The byte order used to represent the integer.  If byteorder is 'big',\n",
      " |        the most significant byte is at the beginning of the byte array.  If\n",
      " |        byteorder is 'little', the most significant byte is at the end of the\n",
      " |        byte array.  To request the native byte order of the host system, use\n",
      " |        `sys.byteorder' as the byte order value.  Default is to use 'big'.\n",
      " |      signed\n",
      " |        Determines whether two's complement is used to represent the integer.\n",
      " |        If signed is False and a negative integer is given, an OverflowError\n",
      " |        is raised.\n",
      " |  \n",
      " |  ----------------------------------------------------------------------\n",
      " |  Class methods defined here:\n",
      " |  \n",
      " |  from_bytes(bytes, byteorder='big', *, signed=False) from builtins.type\n",
      " |      Return the integer represented by the given array of bytes.\n",
      " |      \n",
      " |      bytes\n",
      " |        Holds the array of bytes to convert.  The argument must either\n",
      " |        support the buffer protocol or be an iterable object producing bytes.\n",
      " |        Bytes and bytearray are examples of built-in objects that support the\n",
      " |        buffer protocol.\n",
      " |      byteorder\n",
      " |        The byte order used to represent the integer.  If byteorder is 'big',\n",
      " |        the most significant byte is at the beginning of the byte array.  If\n",
      " |        byteorder is 'little', the most significant byte is at the end of the\n",
      " |        byte array.  To request the native byte order of the host system, use\n",
      " |        `sys.byteorder' as the byte order value.  Default is to use 'big'.\n",
      " |      signed\n",
      " |        Indicates whether two's complement is used to represent the integer.\n",
      " |  \n",
      " |  ----------------------------------------------------------------------\n",
      " |  Static methods defined here:\n",
      " |  \n",
      " |  __new__(*args, **kwargs) from builtins.type\n",
      " |      Create and return a new object.  See help(type) for accurate signature.\n",
      " |  \n",
      " |  ----------------------------------------------------------------------\n",
      " |  Data descriptors defined here:\n",
      " |  \n",
      " |  denominator\n",
      " |      the denominator of a rational number in lowest terms\n",
      " |  \n",
      " |  imag\n",
      " |      the imaginary part of a complex number\n",
      " |  \n",
      " |  numerator\n",
      " |      the numerator of a rational number in lowest terms\n",
      " |  \n",
      " |  real\n",
      " |      the real part of a complex number\n",
      "\n"
     ]
    }
   ],
   "source": [
    "help(int)"
   ]
  },
  {
   "cell_type": "code",
   "execution_count": 43,
   "id": "373e521b",
   "metadata": {},
   "outputs": [
    {
     "ename": "TypeError",
     "evalue": "hello() missing 1 required positional argument: 'name'",
     "output_type": "error",
     "traceback": [
      "\u001b[0;31m---------------------------------------------------------------------------\u001b[0m",
      "\u001b[0;31mTypeError\u001b[0m                                 Traceback (most recent call last)",
      "Cell \u001b[0;32mIn [43], line 1\u001b[0m\n\u001b[0;32m----> 1\u001b[0m \u001b[43mhello\u001b[49m\u001b[43m(\u001b[49m\u001b[43m)\u001b[49m\n",
      "\u001b[0;31mTypeError\u001b[0m: hello() missing 1 required positional argument: 'name'"
     ]
    }
   ],
   "source": [
    "hello()"
   ]
  },
  {
   "cell_type": "markdown",
   "id": "67515094",
   "metadata": {},
   "source": [
    "# Arguments and parameters\n",
    "\n",
    "When we call a function, Python needs to assign (\"map\" in technical lingo) the arguments to the parameters. How does it do this?\n",
    "\n",
    "There are actually two ways. There are only two types of arguments in Python:\n",
    "\n",
    "- Positional arguments -- the arguments are assigned to parameters based on their positions. The first argument is assigned to the first parameter, the second argument to the second, etc.\n",
    "- Keyword arguments -- these have the form of `name=value`, including the `=` sign. Python assigns the value to the name specified here."
   ]
  },
  {
   "cell_type": "code",
   "execution_count": 44,
   "id": "5ee2888f",
   "metadata": {},
   "outputs": [],
   "source": [
    "def add(x, y):\n",
    "    return x + y"
   ]
  },
  {
   "cell_type": "code",
   "execution_count": 45,
   "id": "35650f7d",
   "metadata": {},
   "outputs": [
    {
     "data": {
      "text/plain": [
       "13"
      ]
     },
     "execution_count": 45,
     "metadata": {},
     "output_type": "execute_result"
    }
   ],
   "source": [
    "# parameters: x   y\n",
    "# arguments:  10  3\n",
    "\n",
    "add(10, 3)    # two positional arguments"
   ]
  },
  {
   "cell_type": "code",
   "execution_count": 46,
   "id": "b1076999",
   "metadata": {},
   "outputs": [
    {
     "data": {
      "text/plain": [
       "13"
      ]
     },
     "execution_count": 46,
     "metadata": {},
     "output_type": "execute_result"
    }
   ],
   "source": [
    "# parameters:  x    y\n",
    "# arguments:   10   3\n",
    "\n",
    "add(x=10, y=3)   # two keyword arguments"
   ]
  },
  {
   "cell_type": "code",
   "execution_count": 47,
   "id": "c0cf852a",
   "metadata": {},
   "outputs": [
    {
     "data": {
      "text/plain": [
       "13"
      ]
     },
     "execution_count": 47,
     "metadata": {},
     "output_type": "execute_result"
    }
   ],
   "source": [
    "# parameters:  x    y\n",
    "# arguments:   3    10\n",
    "\n",
    "add(y=10, x=3)   # two keyword arguments"
   ]
  },
  {
   "cell_type": "code",
   "execution_count": 48,
   "id": "69b0dad6",
   "metadata": {},
   "outputs": [
    {
     "data": {
      "text/plain": [
       "13"
      ]
     },
     "execution_count": 48,
     "metadata": {},
     "output_type": "execute_result"
    }
   ],
   "source": [
    "# can you use both?\n",
    "# yes, so long as all positional arguments come before all keyword arguments\n",
    "\n",
    "# parameters:  x   y\n",
    "# arguments:   10  3\n",
    "\n",
    "add(10, y=3)"
   ]
  },
  {
   "cell_type": "code",
   "execution_count": 49,
   "id": "0aa3f298",
   "metadata": {},
   "outputs": [
    {
     "ename": "SyntaxError",
     "evalue": "positional argument follows keyword argument (1681104340.py, line 7)",
     "output_type": "error",
     "traceback": [
      "\u001b[0;36m  Cell \u001b[0;32mIn [49], line 7\u001b[0;36m\u001b[0m\n\u001b[0;31m    add(x=10, 3)   # first keyword, then positional\u001b[0m\n\u001b[0m               ^\u001b[0m\n\u001b[0;31mSyntaxError\u001b[0m\u001b[0;31m:\u001b[0m positional argument follows keyword argument\n"
     ]
    }
   ],
   "source": [
    "# what if we try it in the other direction?\n",
    "# hint: it won't work\n",
    "\n",
    "# parameters:  x    y\n",
    "# arguments:   \n",
    "\n",
    "add(x=10, 3)   # first keyword, then positional"
   ]
  },
  {
   "cell_type": "code",
   "execution_count": 50,
   "id": "fdc51879",
   "metadata": {},
   "outputs": [
    {
     "ename": "TypeError",
     "evalue": "add() got multiple values for argument 'x'",
     "output_type": "error",
     "traceback": [
      "\u001b[0;31m---------------------------------------------------------------------------\u001b[0m",
      "\u001b[0;31mTypeError\u001b[0m                                 Traceback (most recent call last)",
      "Cell \u001b[0;32mIn [50], line 7\u001b[0m\n\u001b[1;32m      1\u001b[0m \u001b[38;5;66;03m# can you use both?\u001b[39;00m\n\u001b[1;32m      2\u001b[0m \u001b[38;5;66;03m# yes, so long as all positional arguments come before all keyword arguments\u001b[39;00m\n\u001b[1;32m      3\u001b[0m \n\u001b[1;32m      4\u001b[0m \u001b[38;5;66;03m# parameters:  x   y\u001b[39;00m\n\u001b[1;32m      5\u001b[0m \u001b[38;5;66;03m# arguments:   10 \u001b[39;00m\n\u001b[0;32m----> 7\u001b[0m \u001b[43madd\u001b[49m\u001b[43m(\u001b[49m\u001b[38;5;241;43m10\u001b[39;49m\u001b[43m,\u001b[49m\u001b[43m \u001b[49m\u001b[43mx\u001b[49m\u001b[38;5;241;43m=\u001b[39;49m\u001b[38;5;241;43m3\u001b[39;49m\u001b[43m)\u001b[49m  \u001b[38;5;66;03m# positional + keyword\u001b[39;00m\n",
      "\u001b[0;31mTypeError\u001b[0m: add() got multiple values for argument 'x'"
     ]
    }
   ],
   "source": [
    "# can you use both?\n",
    "# yes, so long as all positional arguments come before all keyword arguments\n",
    "\n",
    "# parameters:  x   y\n",
    "# arguments:   10 \n",
    "\n",
    "add(10, x=3)  # positional + keyword"
   ]
  },
  {
   "cell_type": "code",
   "execution_count": 51,
   "id": "e72bd61d",
   "metadata": {},
   "outputs": [
    {
     "data": {
      "text/plain": [
       "2"
      ]
     },
     "execution_count": 51,
     "metadata": {},
     "output_type": "execute_result"
    }
   ],
   "source": [
    "# how does Python know how many arguments we're supposed to pass to our function?\n",
    "# Functions are objects. All objects in Python have \"attributes\", names that come after the .\n",
    "# we can look at our function's object and see what Python sees -- the hints that it left for itself\n",
    "\n",
    "add.__code__.co_argcount  # how many arguments do you expect to see?"
   ]
  },
  {
   "cell_type": "code",
   "execution_count": 52,
   "id": "6844692e",
   "metadata": {},
   "outputs": [
    {
     "data": {
      "text/plain": [
       "('x', 'y')"
      ]
     },
     "execution_count": 52,
     "metadata": {},
     "output_type": "execute_result"
    }
   ],
   "source": [
    "# what variables are defined inside of our function?\n",
    "\n",
    "add.__code__.co_varnames  # since there are 2 variables, and it's expect 2 arguments -- these are both parameters"
   ]
  },
  {
   "cell_type": "markdown",
   "id": "00ffee50",
   "metadata": {},
   "source": [
    "# Exercise: `mysum`\n",
    "\n",
    "1. There is a builtin function `sum`, which takes a list (or tuple, or set) of numbers, and returns the sum.\n",
    "2. Implement a similar function, `mysum`, which does the same thing.\n",
    "3. Note: Don't use `sum` in the implementation of your function."
   ]
  },
  {
   "cell_type": "code",
   "execution_count": 53,
   "id": "1d37d118",
   "metadata": {},
   "outputs": [],
   "source": [
    "def mysum(numbers):\n",
    "    total = 0\n",
    "    \n",
    "    for one_number in numbers:\n",
    "        total += one_number\n",
    "        \n",
    "    return total"
   ]
  },
  {
   "cell_type": "code",
   "execution_count": 54,
   "id": "48bb882d",
   "metadata": {},
   "outputs": [
    {
     "data": {
      "text/plain": [
       "150"
      ]
     },
     "execution_count": 54,
     "metadata": {},
     "output_type": "execute_result"
    }
   ],
   "source": [
    "mysum([10, 20, 30, 40, 50])  # here, we're passing 1 argument of type list that contains integers"
   ]
  },
  {
   "cell_type": "code",
   "execution_count": 55,
   "id": "619f61f2",
   "metadata": {},
   "outputs": [
    {
     "ename": "TypeError",
     "evalue": "mysum() takes 1 positional argument but 5 were given",
     "output_type": "error",
     "traceback": [
      "\u001b[0;31m---------------------------------------------------------------------------\u001b[0m",
      "\u001b[0;31mTypeError\u001b[0m                                 Traceback (most recent call last)",
      "Cell \u001b[0;32mIn [55], line 1\u001b[0m\n\u001b[0;32m----> 1\u001b[0m \u001b[43mmysum\u001b[49m\u001b[43m(\u001b[49m\u001b[38;5;241;43m10\u001b[39;49m\u001b[43m,\u001b[49m\u001b[43m \u001b[49m\u001b[38;5;241;43m20\u001b[39;49m\u001b[43m,\u001b[49m\u001b[43m \u001b[49m\u001b[38;5;241;43m30\u001b[39;49m\u001b[43m,\u001b[49m\u001b[43m \u001b[49m\u001b[38;5;241;43m40\u001b[39;49m\u001b[43m,\u001b[49m\u001b[43m \u001b[49m\u001b[38;5;241;43m50\u001b[39;49m\u001b[43m)\u001b[49m  \u001b[38;5;66;03m# will this work?  Can I pass 5 arguments?\u001b[39;00m\n",
      "\u001b[0;31mTypeError\u001b[0m: mysum() takes 1 positional argument but 5 were given"
     ]
    }
   ],
   "source": [
    "mysum(10, 20, 30, 40, 50)  # will this work?  Can I pass 5 arguments of type int?"
   ]
  },
  {
   "cell_type": "code",
   "execution_count": 59,
   "id": "dc40f9d6",
   "metadata": {},
   "outputs": [],
   "source": [
    "def mysum(numbers:list):   # this is a \"type hint\" or \"type annotation\"\n",
    "    print(f'{type(numbers)}')\n",
    "    total = 0\n",
    "    \n",
    "    for one_number in numbers:\n",
    "        total += one_number\n",
    "        \n",
    "    return total"
   ]
  },
  {
   "cell_type": "code",
   "execution_count": 60,
   "id": "a952b281",
   "metadata": {},
   "outputs": [
    {
     "ename": "TypeError",
     "evalue": "mysum() takes 1 positional argument but 5 were given",
     "output_type": "error",
     "traceback": [
      "\u001b[0;31m---------------------------------------------------------------------------\u001b[0m",
      "\u001b[0;31mTypeError\u001b[0m                                 Traceback (most recent call last)",
      "Cell \u001b[0;32mIn [60], line 1\u001b[0m\n\u001b[0;32m----> 1\u001b[0m \u001b[43mmysum\u001b[49m\u001b[43m(\u001b[49m\u001b[38;5;241;43m10\u001b[39;49m\u001b[43m,\u001b[49m\u001b[43m \u001b[49m\u001b[38;5;241;43m20\u001b[39;49m\u001b[43m,\u001b[49m\u001b[43m \u001b[49m\u001b[38;5;241;43m30\u001b[39;49m\u001b[43m,\u001b[49m\u001b[43m \u001b[49m\u001b[38;5;241;43m40\u001b[39;49m\u001b[43m,\u001b[49m\u001b[43m \u001b[49m\u001b[38;5;241;43m50\u001b[39;49m\u001b[43m)\u001b[49m\n",
      "\u001b[0;31mTypeError\u001b[0m: mysum() takes 1 positional argument but 5 were given"
     ]
    }
   ],
   "source": [
    "mysum(10, 20, 30, 40, 50)"
   ]
  },
  {
   "cell_type": "code",
   "execution_count": 61,
   "id": "bc93d280",
   "metadata": {},
   "outputs": [
    {
     "name": "stdout",
     "output_type": "stream",
     "text": [
      "<class 'set'>\n"
     ]
    },
    {
     "data": {
      "text/plain": [
       "150"
      ]
     },
     "execution_count": 61,
     "metadata": {},
     "output_type": "execute_result"
    }
   ],
   "source": [
    "mysum({10, 20, 30, 40, 50})"
   ]
  },
  {
   "cell_type": "markdown",
   "id": "ec1b665c",
   "metadata": {},
   "source": [
    "# The truth about type hints\n",
    "\n",
    "Python ignores them, other than keeping track of them in the function object.\n",
    "\n",
    "Outside tools can then look at them, and use them to tell us whether our arguments match the parameters. But Python itself will never enforce them -- not when you're writing code, and not when you're executing code.  And it certainly won't turn one type of data into another."
   ]
  },
  {
   "cell_type": "code",
   "execution_count": 62,
   "id": "733a2f16",
   "metadata": {},
   "outputs": [
    {
     "name": "stdout",
     "output_type": "stream",
     "text": [
      "<class 'list'>\n"
     ]
    },
    {
     "data": {
      "text/plain": [
       "60"
      ]
     },
     "execution_count": 62,
     "metadata": {},
     "output_type": "execute_result"
    }
   ],
   "source": [
    "mysum([10, 20, 30])"
   ]
  },
  {
   "cell_type": "code",
   "execution_count": 63,
   "id": "f183426b",
   "metadata": {},
   "outputs": [
    {
     "name": "stdout",
     "output_type": "stream",
     "text": [
      "<class 'list'>\n"
     ]
    },
    {
     "ename": "TypeError",
     "evalue": "unsupported operand type(s) for +=: 'int' and 'str'",
     "output_type": "error",
     "traceback": [
      "\u001b[0;31m---------------------------------------------------------------------------\u001b[0m",
      "\u001b[0;31mTypeError\u001b[0m                                 Traceback (most recent call last)",
      "Cell \u001b[0;32mIn [63], line 1\u001b[0m\n\u001b[0;32m----> 1\u001b[0m \u001b[43mmysum\u001b[49m\u001b[43m(\u001b[49m\u001b[43m[\u001b[49m\u001b[38;5;124;43m'\u001b[39;49m\u001b[38;5;124;43m10\u001b[39;49m\u001b[38;5;124;43m'\u001b[39;49m\u001b[43m,\u001b[49m\u001b[43m \u001b[49m\u001b[38;5;124;43m'\u001b[39;49m\u001b[38;5;124;43m20\u001b[39;49m\u001b[38;5;124;43m'\u001b[39;49m\u001b[43m,\u001b[49m\u001b[43m \u001b[49m\u001b[38;5;124;43m'\u001b[39;49m\u001b[38;5;124;43m30\u001b[39;49m\u001b[38;5;124;43m'\u001b[39;49m\u001b[43m]\u001b[49m\u001b[43m)\u001b[49m\n",
      "Cell \u001b[0;32mIn [59], line 6\u001b[0m, in \u001b[0;36mmysum\u001b[0;34m(numbers)\u001b[0m\n\u001b[1;32m      3\u001b[0m total \u001b[38;5;241m=\u001b[39m \u001b[38;5;241m0\u001b[39m\n\u001b[1;32m      5\u001b[0m \u001b[38;5;28;01mfor\u001b[39;00m one_number \u001b[38;5;129;01min\u001b[39;00m numbers:\n\u001b[0;32m----> 6\u001b[0m     \u001b[43mtotal\u001b[49m\u001b[43m \u001b[49m\u001b[38;5;241;43m+\u001b[39;49m\u001b[38;5;241;43m=\u001b[39;49m\u001b[43m \u001b[49m\u001b[43mone_number\u001b[49m\n\u001b[1;32m      8\u001b[0m \u001b[38;5;28;01mreturn\u001b[39;00m total\n",
      "\u001b[0;31mTypeError\u001b[0m: unsupported operand type(s) for +=: 'int' and 'str'"
     ]
    }
   ],
   "source": [
    "mysum(['10', '20', '30'])"
   ]
  },
  {
   "cell_type": "code",
   "execution_count": 64,
   "id": "d20c5b65",
   "metadata": {},
   "outputs": [
    {
     "data": {
      "text/plain": [
       "13"
      ]
     },
     "execution_count": 64,
     "metadata": {},
     "output_type": "execute_result"
    }
   ],
   "source": [
    "# let's try our \"add\" function again\n",
    "\n",
    "def add(x, y):\n",
    "    return x + y\n",
    "\n",
    "add(10, 3)"
   ]
  },
  {
   "cell_type": "code",
   "execution_count": 65,
   "id": "dc5a9f4b",
   "metadata": {},
   "outputs": [
    {
     "ename": "TypeError",
     "evalue": "add() missing 1 required positional argument: 'y'",
     "output_type": "error",
     "traceback": [
      "\u001b[0;31m---------------------------------------------------------------------------\u001b[0m",
      "\u001b[0;31mTypeError\u001b[0m                                 Traceback (most recent call last)",
      "Cell \u001b[0;32mIn [65], line 1\u001b[0m\n\u001b[0;32m----> 1\u001b[0m \u001b[43madd\u001b[49m\u001b[43m(\u001b[49m\u001b[38;5;241;43m10\u001b[39;49m\u001b[43m)\u001b[49m   \u001b[38;5;66;03m# this won't work -- not enough arguments!\u001b[39;00m\n",
      "\u001b[0;31mTypeError\u001b[0m: add() missing 1 required positional argument: 'y'"
     ]
    }
   ],
   "source": [
    "add(10)   # this won't work -- not enough arguments!"
   ]
  },
  {
   "cell_type": "code",
   "execution_count": 66,
   "id": "5268e810",
   "metadata": {},
   "outputs": [],
   "source": [
    "# what if we want our function to accept two arguments *or* one argument, and then we'll just add 10\n",
    "# that requires a default argument value\n",
    "\n",
    "# we can do that as follows:\n",
    "\n",
    "def add(x, y=10):   # y has a default argument value of 10\n",
    "    return x + y"
   ]
  },
  {
   "cell_type": "code",
   "execution_count": 67,
   "id": "6e226ce5",
   "metadata": {},
   "outputs": [
    {
     "data": {
      "text/plain": [
       "2"
      ]
     },
     "execution_count": 67,
     "metadata": {},
     "output_type": "execute_result"
    }
   ],
   "source": [
    "# our function still expects to get two arguments!\n",
    "add.__code__.co_argcount"
   ]
  },
  {
   "cell_type": "code",
   "execution_count": 68,
   "id": "3fd88554",
   "metadata": {},
   "outputs": [
    {
     "data": {
      "text/plain": [
       "8"
      ]
     },
     "execution_count": 68,
     "metadata": {},
     "output_type": "execute_result"
    }
   ],
   "source": [
    "# parameters:   x    y\n",
    "# arguments:    5    3 \n",
    "\n",
    "add(5, 3)"
   ]
  },
  {
   "cell_type": "code",
   "execution_count": 70,
   "id": "e33eefb1",
   "metadata": {},
   "outputs": [
    {
     "data": {
      "text/plain": [
       "15"
      ]
     },
     "execution_count": 70,
     "metadata": {},
     "output_type": "execute_result"
    }
   ],
   "source": [
    "# parameters:   x    y\n",
    "# arguments:    5   10    # we will look __defaults__ on the function object, and grab the final element\n",
    "\n",
    "add(5)"
   ]
  },
  {
   "cell_type": "code",
   "execution_count": 71,
   "id": "d152ed41",
   "metadata": {},
   "outputs": [
    {
     "data": {
      "text/plain": [
       "(10,)"
      ]
     },
     "execution_count": 71,
     "metadata": {},
     "output_type": "execute_result"
    }
   ],
   "source": [
    "add.__defaults__"
   ]
  },
  {
   "cell_type": "code",
   "execution_count": 72,
   "id": "09f5a298",
   "metadata": {},
   "outputs": [],
   "source": [
    "# let's have two defaults!\n",
    "\n",
    "def add(x=5, y=10):   \n",
    "    return x + y"
   ]
  },
  {
   "cell_type": "code",
   "execution_count": 73,
   "id": "aef46520",
   "metadata": {},
   "outputs": [
    {
     "data": {
      "text/plain": [
       "(5, 10)"
      ]
     },
     "execution_count": 73,
     "metadata": {},
     "output_type": "execute_result"
    }
   ],
   "source": [
    "add.__defaults__"
   ]
  },
  {
   "cell_type": "code",
   "execution_count": 74,
   "id": "8c509c2c",
   "metadata": {},
   "outputs": [
    {
     "data": {
      "text/plain": [
       "15"
      ]
     },
     "execution_count": 74,
     "metadata": {},
     "output_type": "execute_result"
    }
   ],
   "source": [
    "# parameters:  x    y\n",
    "# arguments:  5    10\n",
    "\n",
    "add()   "
   ]
  },
  {
   "cell_type": "markdown",
   "id": "64cbff7c",
   "metadata": {},
   "source": [
    "Rule for defaults: Mandatory parameters (without defaults) must come before optional parameters (with defaults).\n",
    "\n",
    "And yes, this seems similar to the \"positional before keyword\" rule for arguments, but it's a bit different, because that was for arguments, and this is for parameters.\n",
    "\n",
    "Always stuff without `=` comes before stuff with `=` -- another reasonable way to think about it."
   ]
  },
  {
   "cell_type": "code",
   "execution_count": 75,
   "id": "f89dcd76",
   "metadata": {},
   "outputs": [
    {
     "data": {
      "text/plain": [
       "['abcd', 'ef', 'ghi']"
      ]
     },
     "execution_count": 75,
     "metadata": {},
     "output_type": "execute_result"
    }
   ],
   "source": [
    "# we've seen this before!\n",
    "\n",
    "s = 'abcd ef ghi'\n",
    "\n",
    "s.split(' ')   # call split with ' '"
   ]
  },
  {
   "cell_type": "code",
   "execution_count": 76,
   "id": "c7fe84cb",
   "metadata": {},
   "outputs": [
    {
     "data": {
      "text/plain": [
       "['abcd', 'ef', 'ghi']"
      ]
     },
     "execution_count": 76,
     "metadata": {},
     "output_type": "execute_result"
    }
   ],
   "source": [
    "# or I can call it without an argument\n",
    "\n",
    "s.split()   # no argument -- how? the default is None, which means \"all whitespace, any length\""
   ]
  },
  {
   "cell_type": "code",
   "execution_count": 77,
   "id": "25c0f16b",
   "metadata": {
    "scrolled": true
   },
   "outputs": [
    {
     "name": "stdout",
     "output_type": "stream",
     "text": [
      "Help on method_descriptor:\n",
      "\n",
      "split(self, /, sep=None, maxsplit=-1)\n",
      "    Return a list of the substrings in the string, using sep as the separator string.\n",
      "    \n",
      "      sep\n",
      "        The separator used to split the string.\n",
      "    \n",
      "        When set to None (the default value), will split on any whitespace\n",
      "        character (including \\\\n \\\\r \\\\t \\\\f and spaces) and will discard\n",
      "        empty strings from the result.\n",
      "      maxsplit\n",
      "        Maximum number of splits (starting from the left).\n",
      "        -1 (the default value) means no limit.\n",
      "    \n",
      "    Note, str.split() is mainly useful for data that has been intentionally\n",
      "    delimited.  With natural text that includes punctuation, consider using\n",
      "    the regular expression module.\n",
      "\n"
     ]
    }
   ],
   "source": [
    "help(str.split)"
   ]
  },
  {
   "cell_type": "code",
   "execution_count": 80,
   "id": "285f8814",
   "metadata": {},
   "outputs": [
    {
     "data": {
      "text/plain": [
       "['abcd', 'ef', 'ghi']"
      ]
     },
     "execution_count": 80,
     "metadata": {},
     "output_type": "execute_result"
    }
   ],
   "source": [
    "s.split(maxsplit=-1)"
   ]
  },
  {
   "cell_type": "code",
   "execution_count": 78,
   "id": "23479bb7",
   "metadata": {},
   "outputs": [
    {
     "data": {
      "text/plain": [
       "['abcd ef ghi']"
      ]
     },
     "execution_count": 78,
     "metadata": {},
     "output_type": "execute_result"
    }
   ],
   "source": [
    "s.split(maxsplit=0)"
   ]
  },
  {
   "cell_type": "code",
   "execution_count": 79,
   "id": "24821da4",
   "metadata": {},
   "outputs": [
    {
     "data": {
      "text/plain": [
       "['abcd', 'ef ghi']"
      ]
     },
     "execution_count": 79,
     "metadata": {},
     "output_type": "execute_result"
    }
   ],
   "source": [
    "s.split(maxsplit=1)"
   ]
  },
  {
   "cell_type": "markdown",
   "id": "749500f2",
   "metadata": {},
   "source": [
    "# Mutable data and functions\n",
    "\n",
    "When I call a function, and pass it an argument... can the function modify my argument?\n",
    "\n",
    "(Spoiler alert: Yes, if it's mutable!)"
   ]
  },
  {
   "cell_type": "code",
   "execution_count": 81,
   "id": "d058848f",
   "metadata": {},
   "outputs": [
    {
     "data": {
      "text/plain": [
       "[10, 20, 30, 1]"
      ]
     },
     "execution_count": 81,
     "metadata": {},
     "output_type": "execute_result"
    }
   ],
   "source": [
    "def add_one(x):  # we'll assume that the argument is a list\n",
    "    x.append(1)\n",
    "    \n",
    "mylist = [10, 20, 30]\n",
    "add_one(mylist)\n",
    "\n",
    "mylist   # will mylist end with 1?"
   ]
  },
  {
   "cell_type": "markdown",
   "id": "44341007",
   "metadata": {},
   "source": [
    "# Let's add a default to our function"
   ]
  },
  {
   "cell_type": "code",
   "execution_count": 82,
   "id": "0f2e4d88",
   "metadata": {},
   "outputs": [
    {
     "data": {
      "text/plain": [
       "[1]"
      ]
     },
     "execution_count": 82,
     "metadata": {},
     "output_type": "execute_result"
    }
   ],
   "source": [
    "def add_one(x=[]):\n",
    "    x.append(1)\n",
    "    return x\n",
    "\n",
    "add_one()   # what will be printed?"
   ]
  },
  {
   "cell_type": "code",
   "execution_count": 83,
   "id": "27509e16",
   "metadata": {},
   "outputs": [
    {
     "data": {
      "text/plain": [
       "[1, 1]"
      ]
     },
     "execution_count": 83,
     "metadata": {},
     "output_type": "execute_result"
    }
   ],
   "source": [
    "add_one()  # what will be printed?"
   ]
  },
  {
   "cell_type": "code",
   "execution_count": 84,
   "id": "fffa4c5b",
   "metadata": {},
   "outputs": [
    {
     "data": {
      "text/plain": [
       "[1, 1, 1]"
      ]
     },
     "execution_count": 84,
     "metadata": {},
     "output_type": "execute_result"
    }
   ],
   "source": [
    "add_one()"
   ]
  },
  {
   "cell_type": "markdown",
   "id": "80eeb399",
   "metadata": {},
   "source": [
    "# What's going on?\n",
    "\n",
    "1. When we define the function, the defaults are stored in `__defaults__`.\n",
    "2. We thought that we were telling `add_one`: If I call you without an argument, use an empty list, `[]`.\n",
    "3. But actually, what we were saying was: Store `[]` in `__defaults__`, and retrieve it whenever we call the function without an argument.\n",
    "4. Tuples (like `__defaults__`) are immutable... but a list in a tuple is very much mutable.\n",
    "\n",
    "The bottom line: NEVER EVER EVER use mutable defaults!\n",
    "\n",
    "If your default is an int, string, tuple, or None, then it can't be changed, and this isn't an issue."
   ]
  },
  {
   "cell_type": "code",
   "execution_count": 85,
   "id": "c80e0df7",
   "metadata": {},
   "outputs": [
    {
     "data": {
      "text/plain": [
       "([1, 1, 1],)"
      ]
     },
     "execution_count": 85,
     "metadata": {},
     "output_type": "execute_result"
    }
   ],
   "source": [
    "add_one.__defaults__"
   ]
  },
  {
   "cell_type": "code",
   "execution_count": 86,
   "id": "57af779c",
   "metadata": {},
   "outputs": [
    {
     "name": "stdout",
     "output_type": "stream",
     "text": [
      "<built-in method upper of str object at 0x103cae0b0>\n"
     ]
    }
   ],
   "source": [
    "print(x)"
   ]
  },
  {
   "cell_type": "code",
   "execution_count": null,
   "id": "0f6e2520",
   "metadata": {},
   "outputs": [],
   "source": [
    "# what if I want this functionality, but without the trouble?\n",
    "\n",
    "def add_one(x=None):\n",
    "    if x is None:\n",
    "        x = []    # this list is created at runtime, not compile time, so it's new each time we run the function\n",
    "    \n",
    "    x.append(1)\n",
    "    return x\n",
    "\n",
    "add_one()   # what will be printed?"
   ]
  },
  {
   "cell_type": "code",
   "execution_count": 87,
   "id": "ac071bdf",
   "metadata": {},
   "outputs": [
    {
     "ename": "TypeError",
     "evalue": "mysum() takes 1 positional argument but 3 were given",
     "output_type": "error",
     "traceback": [
      "\u001b[0;31m---------------------------------------------------------------------------\u001b[0m",
      "\u001b[0;31mTypeError\u001b[0m                                 Traceback (most recent call last)",
      "Cell \u001b[0;32mIn [87], line 3\u001b[0m\n\u001b[1;32m      1\u001b[0m \u001b[38;5;66;03m# let's go back to mysum, and the fact that we cannot call it with a bunch of arguments\u001b[39;00m\n\u001b[0;32m----> 3\u001b[0m \u001b[43mmysum\u001b[49m\u001b[43m(\u001b[49m\u001b[38;5;241;43m10\u001b[39;49m\u001b[43m,\u001b[49m\u001b[43m \u001b[49m\u001b[38;5;241;43m20\u001b[39;49m\u001b[43m,\u001b[49m\u001b[43m \u001b[49m\u001b[38;5;241;43m30\u001b[39;49m\u001b[43m)\u001b[49m\n",
      "\u001b[0;31mTypeError\u001b[0m: mysum() takes 1 positional argument but 3 were given"
     ]
    }
   ],
   "source": [
    "# let's go back to mysum, and the fact that we cannot call it with a bunch of arguments\n",
    "\n",
    "mysum(10, 20, 30)"
   ]
  },
  {
   "cell_type": "code",
   "execution_count": 88,
   "id": "830e3b2e",
   "metadata": {},
   "outputs": [],
   "source": [
    "# I can try something, though...\n",
    "\n",
    "def mysum(a=0, b=0, c=0, d=0, e=0):\n",
    "    return a + b + c + d + e"
   ]
  },
  {
   "cell_type": "code",
   "execution_count": 89,
   "id": "24873653",
   "metadata": {},
   "outputs": [
    {
     "data": {
      "text/plain": [
       "60"
      ]
     },
     "execution_count": 89,
     "metadata": {},
     "output_type": "execute_result"
    }
   ],
   "source": [
    "mysum(10, 20, 30)"
   ]
  },
  {
   "cell_type": "code",
   "execution_count": 90,
   "id": "cb275758",
   "metadata": {},
   "outputs": [
    {
     "data": {
      "text/plain": [
       "150"
      ]
     },
     "execution_count": 90,
     "metadata": {},
     "output_type": "execute_result"
    }
   ],
   "source": [
    "mysum(10, 20, 30, 40, 50)"
   ]
  },
  {
   "cell_type": "code",
   "execution_count": 91,
   "id": "0fa663af",
   "metadata": {},
   "outputs": [
    {
     "ename": "TypeError",
     "evalue": "mysum() takes from 0 to 5 positional arguments but 6 were given",
     "output_type": "error",
     "traceback": [
      "\u001b[0;31m---------------------------------------------------------------------------\u001b[0m",
      "\u001b[0;31mTypeError\u001b[0m                                 Traceback (most recent call last)",
      "Cell \u001b[0;32mIn [91], line 1\u001b[0m\n\u001b[0;32m----> 1\u001b[0m \u001b[43mmysum\u001b[49m\u001b[43m(\u001b[49m\u001b[38;5;241;43m10\u001b[39;49m\u001b[43m,\u001b[49m\u001b[43m \u001b[49m\u001b[38;5;241;43m20\u001b[39;49m\u001b[43m,\u001b[49m\u001b[43m \u001b[49m\u001b[38;5;241;43m30\u001b[39;49m\u001b[43m,\u001b[49m\u001b[43m \u001b[49m\u001b[38;5;241;43m40\u001b[39;49m\u001b[43m,\u001b[49m\u001b[43m \u001b[49m\u001b[38;5;241;43m50\u001b[39;49m\u001b[43m,\u001b[49m\u001b[43m \u001b[49m\u001b[38;5;241;43m60\u001b[39;49m\u001b[43m)\u001b[49m\n",
      "\u001b[0;31mTypeError\u001b[0m: mysum() takes from 0 to 5 positional arguments but 6 were given"
     ]
    }
   ],
   "source": [
    "mysum(10, 20, 30, 40, 50, 60)"
   ]
  },
  {
   "cell_type": "markdown",
   "id": "560bc754",
   "metadata": {},
   "source": [
    "# What I'm trying to do\n",
    "\n",
    "I want to write my function such that it takes any number of arguments, and I don't have to pass all of those values as elements of a list or other collection.\n",
    "\n",
    "The way to do this is with `*args` (pronounced \"splat-args\").\n",
    "\n",
    "- The `*` is mandatory\n",
    "- The name can be anything at all, but `args` is pretty traditional.\n",
    "\n",
    "`*args` is a parameter, and it must be the final parameter, coming after mandatory parameters and optional ones (with defaults).  \n",
    "\n",
    "It is always a tuple, containing all of the positional arguments that no other parameter received.\n",
    "\n",
    "Typically, you don't want to measure the length of `args` or grab individual values from it via `[]`. Rather, you want to iterate over it with a `for` loop, and do the same thing with each value."
   ]
  },
  {
   "cell_type": "code",
   "execution_count": 92,
   "id": "6e33d35d",
   "metadata": {},
   "outputs": [],
   "source": [
    "def myfunc(a, b, *args):\n",
    "    return f'{a=}, {b=}, {args=}'"
   ]
  },
  {
   "cell_type": "code",
   "execution_count": 93,
   "id": "5789cade",
   "metadata": {},
   "outputs": [
    {
     "ename": "TypeError",
     "evalue": "myfunc() missing 1 required positional argument: 'b'",
     "output_type": "error",
     "traceback": [
      "\u001b[0;31m---------------------------------------------------------------------------\u001b[0m",
      "\u001b[0;31mTypeError\u001b[0m                                 Traceback (most recent call last)",
      "Cell \u001b[0;32mIn [93], line 1\u001b[0m\n\u001b[0;32m----> 1\u001b[0m \u001b[43mmyfunc\u001b[49m\u001b[43m(\u001b[49m\u001b[38;5;241;43m10\u001b[39;49m\u001b[43m)\u001b[49m\n",
      "\u001b[0;31mTypeError\u001b[0m: myfunc() missing 1 required positional argument: 'b'"
     ]
    }
   ],
   "source": [
    "myfunc(10)"
   ]
  },
  {
   "cell_type": "code",
   "execution_count": 94,
   "id": "4ad1837d",
   "metadata": {},
   "outputs": [
    {
     "data": {
      "text/plain": [
       "'a=10, b=20, args=()'"
      ]
     },
     "execution_count": 94,
     "metadata": {},
     "output_type": "execute_result"
    }
   ],
   "source": [
    "myfunc(10, 20)"
   ]
  },
  {
   "cell_type": "code",
   "execution_count": 95,
   "id": "e77e7357",
   "metadata": {},
   "outputs": [
    {
     "data": {
      "text/plain": [
       "'a=10, b=20, args=(30, 40, 50)'"
      ]
     },
     "execution_count": 95,
     "metadata": {},
     "output_type": "execute_result"
    }
   ],
   "source": [
    "myfunc(10, 20, 30, 40, 50)"
   ]
  },
  {
   "cell_type": "markdown",
   "id": "5031983b",
   "metadata": {},
   "source": [
    "# Parameter types\n",
    "\n",
    "1. Mandatory parameters (positional or keyword arguments)\n",
    "2. Optional parameters (positional or keyword arguments), with `=` and the default argument value\n",
    "3. `*args`, taking positional arguments that weren't absorbed by other paramters -- this can appear only once."
   ]
  },
  {
   "cell_type": "markdown",
   "id": "8d1ea0be",
   "metadata": {},
   "source": [
    "# Exercise: Many exponents\n",
    "\n",
    "1. Define a function, `powers`, that takes:\n",
    "    - one mandatory argument, an integer\n",
    "    - any number of additional integers\n",
    "2. Return a dict, whose keys are the additional integers,  and the values are our first integer to each of those powers.\n",
    "\n",
    "Example:\n",
    "\n",
    "    powers(2, 2, 3, 4)\n",
    "    {2:4, 3:8, 4:16}   "
   ]
  },
  {
   "cell_type": "code",
   "execution_count": 96,
   "id": "f17f2a94",
   "metadata": {},
   "outputs": [],
   "source": [
    "def powers(n, *args):\n",
    "    output = {}\n",
    "    \n",
    "    for one_power in args:\n",
    "        output[one_power] = n ** one_power\n",
    "\n",
    "    return output"
   ]
  },
  {
   "cell_type": "code",
   "execution_count": 97,
   "id": "b37f89c3",
   "metadata": {},
   "outputs": [
    {
     "data": {
      "text/plain": [
       "{2: 4, 3: 8, 4: 16}"
      ]
     },
     "execution_count": 97,
     "metadata": {},
     "output_type": "execute_result"
    }
   ],
   "source": [
    "#      n      *args\n",
    "powers(2,      2, 3, 4)"
   ]
  },
  {
   "cell_type": "code",
   "execution_count": 98,
   "id": "a1f15e69",
   "metadata": {},
   "outputs": [
    {
     "data": {
      "text/plain": [
       "{10: 1024, 15: 32768, 20: 1048576}"
      ]
     },
     "execution_count": 98,
     "metadata": {},
     "output_type": "execute_result"
    }
   ],
   "source": [
    "#      n       *args\n",
    "powers(2,     10, 15, 20)  "
   ]
  },
  {
   "cell_type": "code",
   "execution_count": 99,
   "id": "860d0dfe",
   "metadata": {},
   "outputs": [
    {
     "data": {
      "text/plain": [
       "{10: 1024,\n",
       " 15: 32768,\n",
       " 20: 1048576,\n",
       " 25: 33554432,\n",
       " 30: 1073741824,\n",
       " 35: 34359738368}"
      ]
     },
     "execution_count": 99,
     "metadata": {},
     "output_type": "execute_result"
    }
   ],
   "source": [
    "#      n       *args\n",
    "powers(2,     10, 15, 20, 25, 30, 35)  "
   ]
  },
  {
   "cell_type": "code",
   "execution_count": 100,
   "id": "b4fc8ddc",
   "metadata": {},
   "outputs": [
    {
     "name": "stdout",
     "output_type": "stream",
     "text": [
      "a\n"
     ]
    }
   ],
   "source": [
    "# what function uses *args?  print!\n",
    "\n",
    "print('a')"
   ]
  },
  {
   "cell_type": "code",
   "execution_count": 101,
   "id": "a7f0435c",
   "metadata": {},
   "outputs": [
    {
     "name": "stdout",
     "output_type": "stream",
     "text": [
      "a b c\n"
     ]
    }
   ],
   "source": [
    "print('a', 'b', 'c')"
   ]
  },
  {
   "cell_type": "markdown",
   "id": "1afa08ca",
   "metadata": {},
   "source": [
    "# Next up\n",
    "\n",
    "1. Scoping -- local vs. global vs. builtins\n",
    "2. `**kwargs`\n",
    "\n",
    "resume at :20\n"
   ]
  },
  {
   "cell_type": "markdown",
   "id": "54627628",
   "metadata": {},
   "source": [
    "# Scoping\n",
    "\n"
   ]
  }
 ],
 "metadata": {
  "kernelspec": {
   "display_name": "Python 3 (ipykernel)",
   "language": "python",
   "name": "python3"
  },
  "language_info": {
   "codemirror_mode": {
    "name": "ipython",
    "version": 3
   },
   "file_extension": ".py",
   "mimetype": "text/x-python",
   "name": "python",
   "nbconvert_exporter": "python",
   "pygments_lexer": "ipython3",
   "version": "3.11.2"
  }
 },
 "nbformat": 4,
 "nbformat_minor": 5
}
