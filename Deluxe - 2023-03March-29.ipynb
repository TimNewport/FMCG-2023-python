{
 "cells": [
  {
   "cell_type": "markdown",
   "id": "a55f7f9c",
   "metadata": {},
   "source": [
    "# Agenda: Functions!\n",
    "\n",
    "1. Defining functions\n",
    "2. Arguments + parameters\n",
    "3. `*args`\n",
    "4. `**kwargs`\n",
    "5. Variable scoping"
   ]
  },
  {
   "cell_type": "markdown",
   "id": "8c427a63",
   "metadata": {},
   "source": [
    "# Functions are verbs!\n",
    "\n"
   ]
  }
 ],
 "metadata": {
  "kernelspec": {
   "display_name": "Python 3 (ipykernel)",
   "language": "python",
   "name": "python3"
  },
  "language_info": {
   "codemirror_mode": {
    "name": "ipython",
    "version": 3
   },
   "file_extension": ".py",
   "mimetype": "text/x-python",
   "name": "python",
   "nbconvert_exporter": "python",
   "pygments_lexer": "ipython3",
   "version": "3.11.2"
  }
 },
 "nbformat": 4,
 "nbformat_minor": 5
}
