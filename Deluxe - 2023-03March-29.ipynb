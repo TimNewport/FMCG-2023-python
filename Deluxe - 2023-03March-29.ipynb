{
 "cells": [
  {
   "cell_type": "markdown",
   "id": "9387015a",
   "metadata": {},
   "source": [
    "# Agenda: Functions!\n",
    "\n",
    "1. Defining functions\n",
    "2. Arguments + parameters\n",
    "3. `*args`\n",
    "4. `**kwargs`\n",
    "5. Variable scoping"
   ]
  },
  {
   "cell_type": "markdown",
   "id": "ad38f188",
   "metadata": {},
   "source": [
    "# Functions are verbs!\n",
    "\n",
    "Do we need functions in our programs? No.  We could, in theory, do without them.\n",
    "\n",
    "But functions allow us to think at a higher level. ABSTRACTION -- the idea that we can think at a higher level and ignore the details of the lower levels -- that allows us to build larger and more complex system."
   ]
  },
  {
   "cell_type": "code",
   "execution_count": 2,
   "id": "27beb3b2",
   "metadata": {},
   "outputs": [
    {
     "name": "stdout",
     "output_type": "stream",
     "text": [
      "abcd\n"
     ]
    }
   ],
   "source": [
    "print('abcd')"
   ]
  },
  {
   "cell_type": "markdown",
   "id": "b52fd056",
   "metadata": {},
   "source": [
    "# In Python, functions are also nouns\n",
    "\n",
    "In contrast with many programming languages, Python's functions are objects, just like strings, lists, dicts, etc. This has lots of implications, most of them good, but sometimes you'll run into funny errors if you aren't expecting this to be the case."
   ]
  },
  {
   "cell_type": "code",
   "execution_count": 3,
   "id": "973450c8",
   "metadata": {},
   "outputs": [
    {
     "data": {
      "text/plain": [
       "int"
      ]
     },
     "execution_count": 3,
     "metadata": {},
     "output_type": "execute_result"
    }
   ],
   "source": [
    "s = 'abcd'\n",
    "x = len(s)   # running len(s), assigning the result to x\n",
    "\n",
    "type(x)"
   ]
  },
  {
   "cell_type": "code",
   "execution_count": 4,
   "id": "22d6a49c",
   "metadata": {},
   "outputs": [
    {
     "data": {
      "text/plain": [
       "4"
      ]
     },
     "execution_count": 4,
     "metadata": {},
     "output_type": "execute_result"
    }
   ],
   "source": [
    "x"
   ]
  },
  {
   "cell_type": "code",
   "execution_count": 5,
   "id": "d4182d37",
   "metadata": {},
   "outputs": [
    {
     "data": {
      "text/plain": [
       "str"
      ]
     },
     "execution_count": 5,
     "metadata": {},
     "output_type": "execute_result"
    }
   ],
   "source": [
    "x = s.upper()   # running s.upper(), and assigning the result to x\n",
    "\n",
    "type(x)"
   ]
  },
  {
   "cell_type": "code",
   "execution_count": 6,
   "id": "6d62e19b",
   "metadata": {},
   "outputs": [
    {
     "data": {
      "text/plain": [
       "'ABCD'"
      ]
     },
     "execution_count": 6,
     "metadata": {},
     "output_type": "execute_result"
    }
   ],
   "source": [
    "x"
   ]
  },
  {
   "cell_type": "code",
   "execution_count": 7,
   "id": "cd4c613d",
   "metadata": {},
   "outputs": [],
   "source": [
    "x = s.upper   # no parentheses -- will this even work? If so, what does it do?"
   ]
  },
  {
   "cell_type": "code",
   "execution_count": 8,
   "id": "ec23fe16",
   "metadata": {},
   "outputs": [
    {
     "data": {
      "text/plain": [
       "builtin_function_or_method"
      ]
     },
     "execution_count": 8,
     "metadata": {},
     "output_type": "execute_result"
    }
   ],
   "source": [
    "type(x)"
   ]
  },
  {
   "cell_type": "markdown",
   "id": "49eceae3",
   "metadata": {},
   "source": [
    "In Python, when we refer to a function or method, we're retrieving an object from memory, no different from strings, lists, tuples, etc.\n",
    "\n",
    "The difference is that we can invoke, or call, a function, thus executing it and getting a result back.  How do we invoke a function? With parentheses."
   ]
  },
  {
   "cell_type": "code",
   "execution_count": 9,
   "id": "1daa9584",
   "metadata": {},
   "outputs": [
    {
     "data": {
      "text/plain": [
       "<function str.upper()>"
      ]
     },
     "execution_count": 9,
     "metadata": {},
     "output_type": "execute_result"
    }
   ],
   "source": [
    "x"
   ]
  },
  {
   "cell_type": "code",
   "execution_count": 10,
   "id": "64ed0911",
   "metadata": {},
   "outputs": [
    {
     "data": {
      "text/plain": [
       "'ABCD'"
      ]
     },
     "execution_count": 10,
     "metadata": {},
     "output_type": "execute_result"
    }
   ],
   "source": [
    "# how do I call a function?  with parentheses\n",
    "\n",
    "x()"
   ]
  },
  {
   "cell_type": "code",
   "execution_count": 12,
   "id": "37c2ae93",
   "metadata": {},
   "outputs": [
    {
     "name": "stdout",
     "output_type": "stream",
     "text": [
      "a: 1\n",
      "b: 2\n",
      "c: 3\n"
     ]
    }
   ],
   "source": [
    "# here's one place where I see people surprised to discover this (as a bug)\n",
    "\n",
    "d = {'a':1, 'b':2, 'c':3}\n",
    "\n",
    "# I want to iterate over that dict\n",
    "\n",
    "for key, value in d.items():\n",
    "    print(f'{key}: {value}')"
   ]
  },
  {
   "cell_type": "code",
   "execution_count": null,
   "id": "c289c2f8",
   "metadata": {},
   "outputs": [],
   "source": [
    "# what about if I type this:\n",
    "\n",
    "for key, value in d.items:   # notice -- no parentheses\n",
    "    print"
   ]
  }
 ],
 "metadata": {
  "kernelspec": {
   "display_name": "Python 3 (ipykernel)",
   "language": "python",
   "name": "python3"
  },
  "language_info": {
   "codemirror_mode": {
    "name": "ipython",
    "version": 3
   },
   "file_extension": ".py",
   "mimetype": "text/x-python",
   "name": "python",
   "nbconvert_exporter": "python",
   "pygments_lexer": "ipython3",
   "version": "3.11.2"
  }
 },
 "nbformat": 4,
 "nbformat_minor": 5
}
