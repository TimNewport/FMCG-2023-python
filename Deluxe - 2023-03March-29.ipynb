{
 "cells": [
  {
   "cell_type": "markdown",
   "id": "96e50211",
   "metadata": {},
   "source": [
    "# Agenda: Functions!\n",
    "\n",
    "1. Defining functions\n",
    "2. Arguments + parameters\n",
    "3. `*args`\n",
    "4. `**kwargs`\n",
    "5. Variable scoping"
   ]
  },
  {
   "cell_type": "markdown",
   "id": "351db29f",
   "metadata": {},
   "source": [
    "# Functions are verbs!\n",
    "\n",
    "Do we need functions in our programs? No.  We could, in theory, do without them.\n",
    "\n",
    "But functions allow us to think at a higher level. ABSTRACTION -- the idea that we can think at a higher level and ignore the details of the lower levels -- that allows us to build larger and more complex system."
   ]
  },
  {
   "cell_type": "code",
   "execution_count": 2,
   "id": "6e5b3050",
   "metadata": {},
   "outputs": [
    {
     "name": "stdout",
     "output_type": "stream",
     "text": [
      "abcd\n"
     ]
    }
   ],
   "source": [
    "print('abcd')"
   ]
  },
  {
   "cell_type": "markdown",
   "id": "3fe41f6b",
   "metadata": {},
   "source": [
    "# In Python, functions are also nouns\n",
    "\n",
    "In contrast with many programming languages, Python's functions are objects, just like strings, lists, dicts, etc. This has lots of implications, most of them good, but sometimes you'll run into funny errors if you aren't expecting this to be the case."
   ]
  },
  {
   "cell_type": "code",
   "execution_count": 3,
   "id": "8c345db2",
   "metadata": {},
   "outputs": [
    {
     "data": {
      "text/plain": [
       "int"
      ]
     },
     "execution_count": 3,
     "metadata": {},
     "output_type": "execute_result"
    }
   ],
   "source": [
    "s = 'abcd'\n",
    "x = len(s)   # running len(s), assigning the result to x\n",
    "\n",
    "type(x)"
   ]
  },
  {
   "cell_type": "code",
   "execution_count": 4,
   "id": "360ef4ba",
   "metadata": {},
   "outputs": [
    {
     "data": {
      "text/plain": [
       "4"
      ]
     },
     "execution_count": 4,
     "metadata": {},
     "output_type": "execute_result"
    }
   ],
   "source": [
    "x"
   ]
  },
  {
   "cell_type": "code",
   "execution_count": 5,
   "id": "976cc66f",
   "metadata": {},
   "outputs": [
    {
     "data": {
      "text/plain": [
       "str"
      ]
     },
     "execution_count": 5,
     "metadata": {},
     "output_type": "execute_result"
    }
   ],
   "source": [
    "x = s.upper()   # running s.upper(), and assigning the result to x\n",
    "\n",
    "type(x)"
   ]
  },
  {
   "cell_type": "code",
   "execution_count": 6,
   "id": "5896443b",
   "metadata": {},
   "outputs": [
    {
     "data": {
      "text/plain": [
       "'ABCD'"
      ]
     },
     "execution_count": 6,
     "metadata": {},
     "output_type": "execute_result"
    }
   ],
   "source": [
    "x"
   ]
  },
  {
   "cell_type": "code",
   "execution_count": 7,
   "id": "3db80966",
   "metadata": {},
   "outputs": [],
   "source": [
    "x = s.upper   # no parentheses -- will this even work? If so, what does it do?"
   ]
  },
  {
   "cell_type": "code",
   "execution_count": 8,
   "id": "33bcb58d",
   "metadata": {},
   "outputs": [
    {
     "data": {
      "text/plain": [
       "builtin_function_or_method"
      ]
     },
     "execution_count": 8,
     "metadata": {},
     "output_type": "execute_result"
    }
   ],
   "source": [
    "type(x)"
   ]
  },
  {
   "cell_type": "markdown",
   "id": "f63b13cd",
   "metadata": {},
   "source": [
    "In Python, when we refer to a function or method, we're retrieving an object from memory, no different from strings, lists, tuples, etc.\n",
    "\n",
    "The difference is that we can invoke, or call, a function, thus executing it and getting a result back.  How do we invoke a function? With parentheses."
   ]
  },
  {
   "cell_type": "code",
   "execution_count": 9,
   "id": "2f27b74b",
   "metadata": {},
   "outputs": [
    {
     "data": {
      "text/plain": [
       "<function str.upper()>"
      ]
     },
     "execution_count": 9,
     "metadata": {},
     "output_type": "execute_result"
    }
   ],
   "source": [
    "x"
   ]
  },
  {
   "cell_type": "code",
   "execution_count": 10,
   "id": "7fd0be1a",
   "metadata": {},
   "outputs": [
    {
     "data": {
      "text/plain": [
       "'ABCD'"
      ]
     },
     "execution_count": 10,
     "metadata": {},
     "output_type": "execute_result"
    }
   ],
   "source": [
    "# how do I call a function?  with parentheses\n",
    "\n",
    "x()"
   ]
  },
  {
   "cell_type": "code",
   "execution_count": 12,
   "id": "d5901646",
   "metadata": {},
   "outputs": [
    {
     "name": "stdout",
     "output_type": "stream",
     "text": [
      "a: 1\n",
      "b: 2\n",
      "c: 3\n"
     ]
    }
   ],
   "source": [
    "# here's one place where I see people surprised to discover this (as a bug)\n",
    "\n",
    "d = {'a':1, 'b':2, 'c':3}\n",
    "\n",
    "# I want to iterate over that dict\n",
    "\n",
    "for key, value in d.items():\n",
    "    print(f'{key}: {value}')"
   ]
  },
  {
   "cell_type": "code",
   "execution_count": 13,
   "id": "a425a4c3",
   "metadata": {},
   "outputs": [
    {
     "ename": "TypeError",
     "evalue": "'builtin_function_or_method' object is not iterable",
     "output_type": "error",
     "traceback": [
      "\u001b[0;31m---------------------------------------------------------------------------\u001b[0m",
      "\u001b[0;31mTypeError\u001b[0m                                 Traceback (most recent call last)",
      "Cell \u001b[0;32mIn [13], line 3\u001b[0m\n\u001b[1;32m      1\u001b[0m \u001b[38;5;66;03m# what about if I type this:\u001b[39;00m\n\u001b[0;32m----> 3\u001b[0m \u001b[38;5;28;01mfor\u001b[39;00m key, value \u001b[38;5;129;01min\u001b[39;00m d\u001b[38;5;241m.\u001b[39mitems:   \u001b[38;5;66;03m# notice -- no parentheses\u001b[39;00m\n\u001b[1;32m      4\u001b[0m     \u001b[38;5;28mprint\u001b[39m(\u001b[38;5;124mf\u001b[39m\u001b[38;5;124m'\u001b[39m\u001b[38;5;132;01m{\u001b[39;00mkey\u001b[38;5;132;01m}\u001b[39;00m\u001b[38;5;124m: \u001b[39m\u001b[38;5;132;01m{\u001b[39;00mvalue\u001b[38;5;132;01m}\u001b[39;00m\u001b[38;5;124m'\u001b[39m)\n",
      "\u001b[0;31mTypeError\u001b[0m: 'builtin_function_or_method' object is not iterable"
     ]
    }
   ],
   "source": [
    "# what about if I type this:\n",
    "\n",
    "for key, value in d.items:   # notice -- no parentheses\n",
    "    print(f'{key}: {value}')"
   ]
  },
  {
   "cell_type": "markdown",
   "id": "4b4a1e85",
   "metadata": {},
   "source": [
    "# Let's define a function!\n",
    "\n",
    "How do we define functions?\n",
    "\n",
    "1. We use the keyword `def` (short for \"define\")\n",
    "2. We name the function\n",
    "3. We put parentheses after the function name (in a bit, we'll add parameters inside of the parentheses)\n",
    "4. We have a colon\n",
    "5. We have an indented block with *any* Python code we might want to have there -- `if`, `while`, `for`, etc.\n",
    "6. We normally want to return a value from our function, and we do this with the keyword `return`. If you don't explicitly `return` from a function, then the function returns `None`.\n",
    "\n",
    "There is a big difference between a function printing and a function returning. A function can print a lot or a little. But it can only return one item at a time. That can be anything. It's a good idea for functions to return values, not print them, so that someone can capture them"
   ]
  },
  {
   "cell_type": "code",
   "execution_count": 14,
   "id": "726d057b",
   "metadata": {},
   "outputs": [],
   "source": [
    "def hello():\n",
    "    return f'Hello!'"
   ]
  },
  {
   "cell_type": "code",
   "execution_count": 15,
   "id": "dab26556",
   "metadata": {},
   "outputs": [
    {
     "data": {
      "text/plain": [
       "'Hello!'"
      ]
     },
     "execution_count": 15,
     "metadata": {},
     "output_type": "execute_result"
    }
   ],
   "source": [
    "hello()   # Python finds the variable \"hello\", sees that it's defined to be a function, executes it"
   ]
  },
  {
   "cell_type": "markdown",
   "id": "0aba2a17",
   "metadata": {},
   "source": [
    "# What happens when I define a function?\n",
    "\n",
    "Two things happen:\n",
    "\n",
    "1. I create a function object\n",
    "2. I assign that function to a variable\n",
    "\n",
    "In many languages, there is a difference between data (variable names) and function names. You can have a function `x` and a variable `x` at the same time, and they won't interfere with one another.  Not so in Python! The most recent definition wins:\n",
    "\n",
    "- if you use the same name for more than one value, the last one wins\n",
    "- If you use the same name for more than one function, the last one wins\n",
    "- If you use the same name for both data and functions, the last one wins"
   ]
  },
  {
   "cell_type": "code",
   "execution_count": 16,
   "id": "194482b6",
   "metadata": {},
   "outputs": [],
   "source": [
    "hello = 'my favorite greeting'   # I've assigned a string to hello"
   ]
  },
  {
   "cell_type": "code",
   "execution_count": 17,
   "id": "87023e95",
   "metadata": {},
   "outputs": [
    {
     "ename": "TypeError",
     "evalue": "'str' object is not callable",
     "output_type": "error",
     "traceback": [
      "\u001b[0;31m---------------------------------------------------------------------------\u001b[0m",
      "\u001b[0;31mTypeError\u001b[0m                                 Traceback (most recent call last)",
      "Cell \u001b[0;32mIn [17], line 1\u001b[0m\n\u001b[0;32m----> 1\u001b[0m \u001b[43mhello\u001b[49m\u001b[43m(\u001b[49m\u001b[43m)\u001b[49m\n",
      "\u001b[0;31mTypeError\u001b[0m: 'str' object is not callable"
     ]
    }
   ],
   "source": [
    "hello()"
   ]
  },
  {
   "cell_type": "markdown",
   "id": "e1d9ec74",
   "metadata": {},
   "source": [
    "Keep your functions short!\n",
    "\n",
    "If your function is > 20 lines long, it's probably too long."
   ]
  },
  {
   "cell_type": "markdown",
   "id": "48f419cf",
   "metadata": {},
   "source": [
    "# Arguments and parameters\n",
    "\n",
    "If we want our function to do different things each time we invoke it, we can define it with one or more *parameters*. These are variables that will automatically assigned values when we invoke the function.\n",
    "\n",
    "The values that we pass are known as *arguments*.\n",
    "\n",
    "Note: Most programmers don't distinguish between arguments and parameters. It's normal for people to mix these up.\n",
    "\n",
    "When I call\n",
    "\n",
    "    len('abcd')\n",
    "    \n",
    "The string `'abcd'` is the argument that I'm passing, and `len` has a parameter that gets assigned that argument.    "
   ]
  },
  {
   "cell_type": "code",
   "execution_count": 18,
   "id": "247ec40f",
   "metadata": {},
   "outputs": [],
   "source": [
    "# redefine hello to take an argument\n",
    "\n",
    "def hello(name):\n",
    "    return f'Hello, {name}!'"
   ]
  },
  {
   "cell_type": "code",
   "execution_count": 19,
   "id": "c3f6baba",
   "metadata": {},
   "outputs": [
    {
     "data": {
      "text/plain": [
       "'Hello, world!'"
      ]
     },
     "execution_count": 19,
     "metadata": {},
     "output_type": "execute_result"
    }
   ],
   "source": [
    "hello('world')"
   ]
  },
  {
   "cell_type": "code",
   "execution_count": 20,
   "id": "c9370ea9",
   "metadata": {},
   "outputs": [
    {
     "data": {
      "text/plain": [
       "'Hello, out there!'"
      ]
     },
     "execution_count": 20,
     "metadata": {},
     "output_type": "execute_result"
    }
   ],
   "source": [
    "hello('out there')"
   ]
  },
  {
   "cell_type": "code",
   "execution_count": 21,
   "id": "717cb5d2",
   "metadata": {},
   "outputs": [
    {
     "data": {
      "text/plain": [
       "'Hello, 5!'"
      ]
     },
     "execution_count": 21,
     "metadata": {},
     "output_type": "execute_result"
    }
   ],
   "source": [
    "hello(5)"
   ]
  },
  {
   "cell_type": "code",
   "execution_count": 22,
   "id": "5b028303",
   "metadata": {},
   "outputs": [
    {
     "data": {
      "text/plain": [
       "'Hello, [10, 20, 30]!'"
      ]
     },
     "execution_count": 22,
     "metadata": {},
     "output_type": "execute_result"
    }
   ],
   "source": [
    "hello([10, 20, 30])"
   ]
  },
  {
   "cell_type": "code",
   "execution_count": 23,
   "id": "622f98d8",
   "metadata": {},
   "outputs": [
    {
     "data": {
      "text/plain": [
       "'Hello, <function hello at 0x103cc6fc0>!'"
      ]
     },
     "execution_count": 23,
     "metadata": {},
     "output_type": "execute_result"
    }
   ],
   "source": [
    "# I can even do this:\n",
    "\n",
    "hello(hello)    # here, I invoked hello with an argument of a function object that happened to be itself"
   ]
  },
  {
   "cell_type": "markdown",
   "id": "9c289642",
   "metadata": {},
   "source": [
    "# Python is a dynamic language\n",
    "\n",
    "Just as we cannot tell Python in advance what types of values should be (or will be, or can be) assigned to our variables, we cannot tell it what types will be assigned to our parameters.\n",
    "\n",
    "Every function can take every type of value, as far as Python is concerned. It won't give us an error if we try to call a function with the wrong type of argument. But of course, it might crash our program to do that."
   ]
  },
  {
   "cell_type": "markdown",
   "id": "5f89c416",
   "metadata": {},
   "source": [
    "# Return values\n",
    "\n",
    "A Python function can return **any value at all**. It can return an integer, string, list, tuple, dict, or even something more complex (yes, even a function).  \n",
    "\n",
    "This gives us a lot of freedom!\n",
    "\n"
   ]
  },
  {
   "cell_type": "code",
   "execution_count": 24,
   "id": "1250817b",
   "metadata": {},
   "outputs": [
    {
     "data": {
      "text/plain": [
       "'Hello, Hello, 5!!'"
      ]
     },
     "execution_count": 24,
     "metadata": {},
     "output_type": "execute_result"
    }
   ],
   "source": [
    "# whenever you invoke a function, the first thing that happens is to evaluate the arguments\n",
    "# \n",
    "\n",
    "hello(hello(5))"
   ]
  },
  {
   "cell_type": "markdown",
   "id": "520d4e3e",
   "metadata": {},
   "source": [
    "# Exercise: Letter frequencies\n",
    "\n",
    "1. Define a function, `count_letters`, that takes a string as an argument.\n",
    "2. The function returns a dictionary. The dict's keys will be the characters in the argument, and the values will be the number of times each character appears.\n",
    "\n",
    "Example:\n",
    "\n",
    "    d = count_letters('hello')\n",
    "    print(d)\n",
    "\n",
    "    {'h':1, 'e':1, 'l':2, 'o':1}   "
   ]
  },
  {
   "cell_type": "code",
   "execution_count": 25,
   "id": "8519f71f",
   "metadata": {},
   "outputs": [],
   "source": [
    "def count_letters(s):\n",
    "    output = {}\n",
    "    \n",
    "    for one_character in s:\n",
    "\n",
    "        # ask output -- do you have one_character as a key?\n",
    "        # if so, then get the current value (the count), add 1\n",
    "        # if not, then get 0 and add 1 to it\n",
    "        # assign that value to output[one_character]\n",
    "        output[one_character] = output.get(one_character, 0) + 1    \n",
    "    \n",
    "    return output"
   ]
  },
  {
   "cell_type": "code",
   "execution_count": 26,
   "id": "0ef42b4f",
   "metadata": {},
   "outputs": [
    {
     "data": {
      "text/plain": [
       "{'h': 1, 'e': 1, 'l': 2, 'o': 1}"
      ]
     },
     "execution_count": 26,
     "metadata": {},
     "output_type": "execute_result"
    }
   ],
   "source": [
    "count_letters('hello')"
   ]
  },
  {
   "cell_type": "code",
   "execution_count": 27,
   "id": "74cd77fa",
   "metadata": {},
   "outputs": [
    {
     "data": {
      "text/plain": [
       "{'h': 2, 'e': 3, 'l': 2, 'o': 2, ' ': 2, 'u': 1, 't': 2, 'r': 1, '!': 1}"
      ]
     },
     "execution_count": 27,
     "metadata": {},
     "output_type": "execute_result"
    }
   ],
   "source": [
    "count_letters('hello out there!')"
   ]
  },
  {
   "cell_type": "code",
   "execution_count": 28,
   "id": "de54d277",
   "metadata": {},
   "outputs": [
    {
     "name": "stdout",
     "output_type": "stream",
     "text": [
      "{'t': 1, 'h': 1, 'i': 1, 's': 1}\n",
      "{'i': 1, 's': 1}\n",
      "{'a': 1}\n",
      "{'t': 2, 'e': 1, 's': 1}\n"
     ]
    }
   ],
   "source": [
    "for one_word in 'this is a test'.split():\n",
    "    print(count_letters(one_word))"
   ]
  },
  {
   "cell_type": "code",
   "execution_count": 29,
   "id": "143683f4",
   "metadata": {},
   "outputs": [
    {
     "ename": "TypeError",
     "evalue": "hello() missing 1 required positional argument: 'name'",
     "output_type": "error",
     "traceback": [
      "\u001b[0;31m---------------------------------------------------------------------------\u001b[0m",
      "\u001b[0;31mTypeError\u001b[0m                                 Traceback (most recent call last)",
      "Cell \u001b[0;32mIn [29], line 1\u001b[0m\n\u001b[0;32m----> 1\u001b[0m \u001b[43mhello\u001b[49m\u001b[43m(\u001b[49m\u001b[43m)\u001b[49m\n",
      "\u001b[0;31mTypeError\u001b[0m: hello() missing 1 required positional argument: 'name'"
     ]
    }
   ],
   "source": [
    "hello()"
   ]
  },
  {
   "cell_type": "code",
   "execution_count": 30,
   "id": "2508f900",
   "metadata": {},
   "outputs": [
    {
     "ename": "TypeError",
     "evalue": "hello() takes 1 positional argument but 2 were given",
     "output_type": "error",
     "traceback": [
      "\u001b[0;31m---------------------------------------------------------------------------\u001b[0m",
      "\u001b[0;31mTypeError\u001b[0m                                 Traceback (most recent call last)",
      "Cell \u001b[0;32mIn [30], line 1\u001b[0m\n\u001b[0;32m----> 1\u001b[0m \u001b[43mhello\u001b[49m\u001b[43m(\u001b[49m\u001b[38;5;124;43m'\u001b[39;49m\u001b[38;5;124;43ma\u001b[39;49m\u001b[38;5;124;43m'\u001b[39;49m\u001b[43m,\u001b[49m\u001b[43m \u001b[49m\u001b[38;5;124;43m'\u001b[39;49m\u001b[38;5;124;43mb\u001b[39;49m\u001b[38;5;124;43m'\u001b[39;49m\u001b[43m)\u001b[49m\n",
      "\u001b[0;31mTypeError\u001b[0m: hello() takes 1 positional argument but 2 were given"
     ]
    }
   ],
   "source": [
    "hello('a', 'b')"
   ]
  },
  {
   "cell_type": "code",
   "execution_count": 31,
   "id": "e09f88d0",
   "metadata": {},
   "outputs": [
    {
     "ename": "TypeError",
     "evalue": "count_letters() missing 1 required positional argument: 's'",
     "output_type": "error",
     "traceback": [
      "\u001b[0;31m---------------------------------------------------------------------------\u001b[0m",
      "\u001b[0;31mTypeError\u001b[0m                                 Traceback (most recent call last)",
      "Cell \u001b[0;32mIn [31], line 1\u001b[0m\n\u001b[0;32m----> 1\u001b[0m \u001b[43mcount_letters\u001b[49m\u001b[43m(\u001b[49m\u001b[43m)\u001b[49m\n",
      "\u001b[0;31mTypeError\u001b[0m: count_letters() missing 1 required positional argument: 's'"
     ]
    }
   ],
   "source": [
    "count_letters()"
   ]
  },
  {
   "cell_type": "code",
   "execution_count": 32,
   "id": "72eeea9b",
   "metadata": {},
   "outputs": [
    {
     "data": {
      "text/plain": [
       "4"
      ]
     },
     "execution_count": 32,
     "metadata": {},
     "output_type": "execute_result"
    }
   ],
   "source": [
    "len('abcd')"
   ]
  },
  {
   "cell_type": "code",
   "execution_count": 33,
   "id": "b65da57b",
   "metadata": {},
   "outputs": [
    {
     "ename": "TypeError",
     "evalue": "object of type 'int' has no len()",
     "output_type": "error",
     "traceback": [
      "\u001b[0;31m---------------------------------------------------------------------------\u001b[0m",
      "\u001b[0;31mTypeError\u001b[0m                                 Traceback (most recent call last)",
      "Cell \u001b[0;32mIn [33], line 1\u001b[0m\n\u001b[0;32m----> 1\u001b[0m \u001b[38;5;28;43mlen\u001b[39;49m\u001b[43m(\u001b[49m\u001b[38;5;241;43m3\u001b[39;49m\u001b[43m)\u001b[49m\n",
      "\u001b[0;31mTypeError\u001b[0m: object of type 'int' has no len()"
     ]
    }
   ],
   "source": [
    "len(3)"
   ]
  },
  {
   "cell_type": "markdown",
   "id": "473ac244",
   "metadata": {},
   "source": [
    "# Comments vs. docstrings\n",
    "\n",
    "Comments, which we should write in our code, are meant for the person (people) who will *maintain* the code down the line. Comments describe how the implementation was done.\n",
    "\n",
    "The person who just wants to run the function doens't need to know all that. They just need to know (a) what arguments to pass, (b) what will happen, and (c) what they should expect to get back.\n",
    "\n",
    "In Python, if the first line of the function is a string, then that string is called the \"docstring,\" and Python knows to display it in an editor, or "
   ]
  }
 ],
 "metadata": {
  "kernelspec": {
   "display_name": "Python 3 (ipykernel)",
   "language": "python",
   "name": "python3"
  },
  "language_info": {
   "codemirror_mode": {
    "name": "ipython",
    "version": 3
   },
   "file_extension": ".py",
   "mimetype": "text/x-python",
   "name": "python",
   "nbconvert_exporter": "python",
   "pygments_lexer": "ipython3",
   "version": "3.11.2"
  }
 },
 "nbformat": 4,
 "nbformat_minor": 5
}
