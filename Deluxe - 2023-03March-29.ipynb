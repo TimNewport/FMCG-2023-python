{
 "cells": [
  {
   "cell_type": "markdown",
   "id": "af795134",
   "metadata": {},
   "source": [
    "# Agenda: Functions!\n",
    "\n",
    "1. Defining functions\n",
    "2. Arguments + parameters\n",
    "3. `*args`\n",
    "4. `**kwargs`\n",
    "5. Variable scoping"
   ]
  },
  {
   "cell_type": "markdown",
   "id": "bbdc5e8e",
   "metadata": {},
   "source": [
    "# Functions are verbs!\n",
    "\n",
    "Do we need functions in our programs? No.  We could, in theory, do without them.\n",
    "\n",
    "But functions allow us to think at a higher level. ABSTRACTION -- the idea that we can think at a higher level and ignore the details of the lower levels -- that allows us to build larger and more complex system."
   ]
  },
  {
   "cell_type": "code",
   "execution_count": 2,
   "id": "ad8b8930",
   "metadata": {},
   "outputs": [
    {
     "name": "stdout",
     "output_type": "stream",
     "text": [
      "abcd\n"
     ]
    }
   ],
   "source": [
    "print('abcd')"
   ]
  },
  {
   "cell_type": "markdown",
   "id": "1ea14563",
   "metadata": {},
   "source": [
    "# In Python, functions are also nouns\n",
    "\n",
    "In contrast with many programming languages, Python's functions are objects, just like strings, lists, dicts, etc. This has lots of implications, most of them good, but sometimes you'll run into funny errors if you aren't expecting this to be the case."
   ]
  },
  {
   "cell_type": "code",
   "execution_count": 3,
   "id": "50245abc",
   "metadata": {},
   "outputs": [
    {
     "data": {
      "text/plain": [
       "int"
      ]
     },
     "execution_count": 3,
     "metadata": {},
     "output_type": "execute_result"
    }
   ],
   "source": [
    "s = 'abcd'\n",
    "x = len(s)   # running len(s), assigning the result to x\n",
    "\n",
    "type(x)"
   ]
  },
  {
   "cell_type": "code",
   "execution_count": 4,
   "id": "6432e9f8",
   "metadata": {},
   "outputs": [
    {
     "data": {
      "text/plain": [
       "4"
      ]
     },
     "execution_count": 4,
     "metadata": {},
     "output_type": "execute_result"
    }
   ],
   "source": [
    "x"
   ]
  },
  {
   "cell_type": "code",
   "execution_count": 5,
   "id": "cbc1b83a",
   "metadata": {},
   "outputs": [
    {
     "data": {
      "text/plain": [
       "str"
      ]
     },
     "execution_count": 5,
     "metadata": {},
     "output_type": "execute_result"
    }
   ],
   "source": [
    "x = s.upper()   # running s.upper(), and assigning the result to x\n",
    "\n",
    "type(x)"
   ]
  },
  {
   "cell_type": "code",
   "execution_count": 6,
   "id": "d5a5151e",
   "metadata": {},
   "outputs": [
    {
     "data": {
      "text/plain": [
       "'ABCD'"
      ]
     },
     "execution_count": 6,
     "metadata": {},
     "output_type": "execute_result"
    }
   ],
   "source": [
    "x"
   ]
  },
  {
   "cell_type": "code",
   "execution_count": 7,
   "id": "3a95c982",
   "metadata": {},
   "outputs": [],
   "source": [
    "x = s.upper   # no parentheses -- will this even work? If so, what does it do?"
   ]
  },
  {
   "cell_type": "code",
   "execution_count": 8,
   "id": "92927441",
   "metadata": {},
   "outputs": [
    {
     "data": {
      "text/plain": [
       "builtin_function_or_method"
      ]
     },
     "execution_count": 8,
     "metadata": {},
     "output_type": "execute_result"
    }
   ],
   "source": [
    "type(x)"
   ]
  },
  {
   "cell_type": "markdown",
   "id": "8f063ad2",
   "metadata": {},
   "source": [
    "In Python, when we refer to a function or method, we're retrieving an object from memory, no different from strings, lists, tuples, etc.\n",
    "\n",
    "The difference is that we can invoke, or call, a function, thus executing it and getting a result back.  How do we invoke a function? With parentheses."
   ]
  },
  {
   "cell_type": "code",
   "execution_count": 9,
   "id": "f8a631ef",
   "metadata": {},
   "outputs": [
    {
     "data": {
      "text/plain": [
       "<function str.upper()>"
      ]
     },
     "execution_count": 9,
     "metadata": {},
     "output_type": "execute_result"
    }
   ],
   "source": [
    "x"
   ]
  },
  {
   "cell_type": "code",
   "execution_count": 10,
   "id": "05387bb8",
   "metadata": {},
   "outputs": [
    {
     "data": {
      "text/plain": [
       "'ABCD'"
      ]
     },
     "execution_count": 10,
     "metadata": {},
     "output_type": "execute_result"
    }
   ],
   "source": [
    "# how do I call a function?  with parentheses\n",
    "\n",
    "x()"
   ]
  },
  {
   "cell_type": "code",
   "execution_count": 12,
   "id": "1fff2f19",
   "metadata": {},
   "outputs": [
    {
     "name": "stdout",
     "output_type": "stream",
     "text": [
      "a: 1\n",
      "b: 2\n",
      "c: 3\n"
     ]
    }
   ],
   "source": [
    "# here's one place where I see people surprised to discover this (as a bug)\n",
    "\n",
    "d = {'a':1, 'b':2, 'c':3}\n",
    "\n",
    "# I want to iterate over that dict\n",
    "\n",
    "for key, value in d.items():\n",
    "    print(f'{key}: {value}')"
   ]
  },
  {
   "cell_type": "code",
   "execution_count": 13,
   "id": "21ef3dba",
   "metadata": {},
   "outputs": [
    {
     "ename": "TypeError",
     "evalue": "'builtin_function_or_method' object is not iterable",
     "output_type": "error",
     "traceback": [
      "\u001b[0;31m---------------------------------------------------------------------------\u001b[0m",
      "\u001b[0;31mTypeError\u001b[0m                                 Traceback (most recent call last)",
      "Cell \u001b[0;32mIn [13], line 3\u001b[0m\n\u001b[1;32m      1\u001b[0m \u001b[38;5;66;03m# what about if I type this:\u001b[39;00m\n\u001b[0;32m----> 3\u001b[0m \u001b[38;5;28;01mfor\u001b[39;00m key, value \u001b[38;5;129;01min\u001b[39;00m d\u001b[38;5;241m.\u001b[39mitems:   \u001b[38;5;66;03m# notice -- no parentheses\u001b[39;00m\n\u001b[1;32m      4\u001b[0m     \u001b[38;5;28mprint\u001b[39m(\u001b[38;5;124mf\u001b[39m\u001b[38;5;124m'\u001b[39m\u001b[38;5;132;01m{\u001b[39;00mkey\u001b[38;5;132;01m}\u001b[39;00m\u001b[38;5;124m: \u001b[39m\u001b[38;5;132;01m{\u001b[39;00mvalue\u001b[38;5;132;01m}\u001b[39;00m\u001b[38;5;124m'\u001b[39m)\n",
      "\u001b[0;31mTypeError\u001b[0m: 'builtin_function_or_method' object is not iterable"
     ]
    }
   ],
   "source": [
    "# what about if I type this:\n",
    "\n",
    "for key, value in d.items:   # notice -- no parentheses\n",
    "    print(f'{key}: {value}')"
   ]
  },
  {
   "cell_type": "markdown",
   "id": "6265d90e",
   "metadata": {},
   "source": [
    "# Let's define a function!\n",
    "\n",
    "How do we define functions?\n",
    "\n",
    "1. We use the keyword `def` (short for \"define\")\n",
    "2. We name the function\n",
    "3. We put parentheses after the function name (in a bit, we'll add parameters inside of the parentheses)\n",
    "4. We have a colon\n",
    "5. We have an indented block with *any* Python code we might want to have there -- `if`, `while`, `for`, etc.\n",
    "6. We normally want to return a value from our function, and we do this with the keyword `return`. If you don't explicitly `return` from a function, then the function returns `None`.\n",
    "\n",
    "There is a big difference between a function printing and a function returning. A function can print a lot or a little. But it can only return one item at a time. That can be anything. It's a good idea for functions to return values, not print them, so that someone can capture them"
   ]
  },
  {
   "cell_type": "code",
   "execution_count": 14,
   "id": "b7bb58be",
   "metadata": {},
   "outputs": [],
   "source": [
    "def hello():\n",
    "    return f'Hello!'"
   ]
  },
  {
   "cell_type": "code",
   "execution_count": 15,
   "id": "3f078b2d",
   "metadata": {},
   "outputs": [
    {
     "data": {
      "text/plain": [
       "'Hello!'"
      ]
     },
     "execution_count": 15,
     "metadata": {},
     "output_type": "execute_result"
    }
   ],
   "source": [
    "hello()   # Python finds the variable \"hello\", sees that it's defined to be a function, executes it"
   ]
  },
  {
   "cell_type": "markdown",
   "id": "2a05cd2f",
   "metadata": {},
   "source": [
    "# What happens when I define a function?\n",
    "\n",
    "Two things happen:\n",
    "\n",
    "1. I create a function object\n",
    "2. I assign that function to a variable\n",
    "\n",
    "In many languages, there is a difference between data (variable names) and function names. You can have a function `sx"
   ]
  }
 ],
 "metadata": {
  "kernelspec": {
   "display_name": "Python 3 (ipykernel)",
   "language": "python",
   "name": "python3"
  },
  "language_info": {
   "codemirror_mode": {
    "name": "ipython",
    "version": 3
   },
   "file_extension": ".py",
   "mimetype": "text/x-python",
   "name": "python",
   "nbconvert_exporter": "python",
   "pygments_lexer": "ipython3",
   "version": "3.11.2"
  }
 },
 "nbformat": 4,
 "nbformat_minor": 5
}
