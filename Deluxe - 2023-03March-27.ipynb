{
 "cells": [
  {
   "cell_type": "markdown",
   "id": "7441f43e",
   "metadata": {},
   "source": [
    "# Agenda\n",
    "\n",
    "1. Dictionaries\n",
    "2. Sets"
   ]
  },
  {
   "cell_type": "markdown",
   "id": "a138a6b0",
   "metadata": {},
   "source": [
    "# Assignment and mutable data -- and trying not to get confused!\n",
    "\n"
   ]
  },
  {
   "cell_type": "code",
   "execution_count": 3,
   "id": "634e5220",
   "metadata": {},
   "outputs": [],
   "source": [
    "# let's start with strings\n",
    "\n",
    "x = 'abcd'\n",
    "y = x        # this means: Get the object that x refers to, and have y refer to it, also (a 2nd reference to it)\n",
    "\n",
    "# strings are immutable -- so we can't modify it, and thus any \"changes\" we make really result\n",
    "# in a new string being created"
   ]
  },
  {
   "cell_type": "code",
   "execution_count": 4,
   "id": "e4ed02d5",
   "metadata": {},
   "outputs": [
    {
     "data": {
      "text/plain": [
       "'ABCD'"
      ]
     },
     "execution_count": 4,
     "metadata": {},
     "output_type": "execute_result"
    }
   ],
   "source": [
    "x.upper()   # this returns a new string, not affecting x... so it doesn't affect y, either"
   ]
  },
  {
   "cell_type": "code",
   "execution_count": 5,
   "id": "88c98a83",
   "metadata": {},
   "outputs": [
    {
     "data": {
      "text/plain": [
       "'abcd'"
      ]
     },
     "execution_count": 5,
     "metadata": {},
     "output_type": "execute_result"
    }
   ],
   "source": [
    "y"
   ]
  },
  {
   "cell_type": "code",
   "execution_count": 6,
   "id": "906ee3da",
   "metadata": {},
   "outputs": [
    {
     "data": {
      "text/plain": [
       "[10, 20, 30, 40]"
      ]
     },
     "execution_count": 6,
     "metadata": {},
     "output_type": "execute_result"
    }
   ],
   "source": [
    "# immutable data doesn't have to worry us in this way\n",
    "\n",
    "# if I have a list, though...\n",
    "\n",
    "x = [10, 20, 30]\n",
    "y = x             # get the value of x, that list, and have y refer to it\n",
    "\n",
    "# if we modify the list that x refers to, then we're also modifying the list that y refers to\n",
    "\n",
    "x.append(40)   # this doesn't return a new list -- it modifies the list itself\n",
    "x\n"
   ]
  },
  {
   "cell_type": "code",
   "execution_count": 7,
   "id": "17a79f20",
   "metadata": {},
   "outputs": [
    {
     "data": {
      "text/plain": [
       "[10, 20, 30, 40]"
      ]
     },
     "execution_count": 7,
     "metadata": {},
     "output_type": "execute_result"
    }
   ],
   "source": [
    "# what is y?\n",
    "y"
   ]
  },
  {
   "cell_type": "code",
   "execution_count": 8,
   "id": "6e15e0cf",
   "metadata": {},
   "outputs": [],
   "source": [
    "# how, then, can we get a new list that won't do this?\n",
    "# the easiest way is to use the .copy() method\n",
    "\n",
    "x = [10, 20, 30]\n",
    "y = x.copy()   # this creates a new list, based on x, and has y refer to that"
   ]
  },
  {
   "cell_type": "code",
   "execution_count": 9,
   "id": "6bba8974",
   "metadata": {},
   "outputs": [
    {
     "data": {
      "text/plain": [
       "True"
      ]
     },
     "execution_count": 9,
     "metadata": {},
     "output_type": "execute_result"
    }
   ],
   "source": [
    "x == y    # they are now equal in value -- both lists, both with [10, 20, 30]"
   ]
  },
  {
   "cell_type": "code",
   "execution_count": 10,
   "id": "8a17be24",
   "metadata": {},
   "outputs": [],
   "source": [
    "# but they are distinct objects\n",
    "x.append(40)\n",
    "y.append(50)"
   ]
  },
  {
   "cell_type": "code",
   "execution_count": 11,
   "id": "ebac5558",
   "metadata": {},
   "outputs": [
    {
     "data": {
      "text/plain": [
       "[10, 20, 30, 40]"
      ]
     },
     "execution_count": 11,
     "metadata": {},
     "output_type": "execute_result"
    }
   ],
   "source": [
    "x"
   ]
  },
  {
   "cell_type": "code",
   "execution_count": 12,
   "id": "918bb742",
   "metadata": {},
   "outputs": [
    {
     "data": {
      "text/plain": [
       "[10, 20, 30, 50]"
      ]
     },
     "execution_count": 12,
     "metadata": {},
     "output_type": "execute_result"
    }
   ],
   "source": [
    "y"
   ]
  },
  {
   "cell_type": "markdown",
   "id": "fac2e334",
   "metadata": {},
   "source": [
    "# Recap of lists \n",
    "\n",
    "1. We can store anything in our lists\n",
    "2. The index in a list starts at 0, and goes up to `len(the_list) - 1`. So if there are 10 items in the list, then the indexes will be 0 - 9.\n",
    "3. I can search in a list using the `in` operator, which returns `True` or `False`.\n",
    "\n",
    "What if I have a really long list, with 1,000 items in it?  And then I want to use `in` to search inside of it. How long will that take?\n",
    "\n",
    "In CS world, we call that `O(n)`, meaning that the longer the list is, the longer (on average) it'll take to find something.\n",
    "\n",
    "The other issue that we might have with lists is that the index is ... boring and non-descriptive. If I have a list of information about a person (and I might want to use a tuple instead, I admit) then using indexes 0, 1, 2, 3, etc. is not going to be very obvious to the next developer who has to work on my code.\n",
    "\n",
    "Dictionaries fix both of these problems."
   ]
  },
  {
   "cell_type": "markdown",
   "id": "0c73c90b",
   "metadata": {},
   "source": [
    "# Dictionaries (`dict`)\n",
    "\n",
    "Dictionaries are not unique to Python; they are also known by many other names in many other languages:\n",
    "\n",
    "- Hash tables\n",
    "- Hashes\n",
    "- Hash maps\n",
    "- Associative arrays\n",
    "- Key-value stores\n",
    "- Name-value stores\n",
    "\n",
    "The basic idea of a dictionary is that we can store pairs of data: The keys (which are the dict version of an index) can be any immutable type (usually numbers or strings). The values can be absolutely anything at all.\n",
    "\n",
    "In other words, it's kind of like a list, except that our index can be strings, which makes things way, way clearer and easier to work with.\n",
    "\n",
    "Some other things to keep in mind:\n",
    "\n",
    "- A dict is measured in *pairs*. There is no such thing as a key without a value, or a value without a key.\n",
    "- The keys must be unique. Just as a list has only one item at index 5, so too does a dict have only one item with a key `'x'` (if it's there at all).\n",
    "- We'll create dicts with `{}`, separating pairs with `,` (like a list or tuple) and separating the key from the value with `:` (colon)."
   ]
  },
  {
   "cell_type": "code",
   "execution_count": 13,
   "id": "0beaeffc",
   "metadata": {},
   "outputs": [],
   "source": [
    "d = {'a':10, 'b':20, 'c':30}   # here is a dict with three key-value pairs"
   ]
  },
  {
   "cell_type": "code",
   "execution_count": 14,
   "id": "04a4d717",
   "metadata": {},
   "outputs": [
    {
     "data": {
      "text/plain": [
       "3"
      ]
     },
     "execution_count": 14,
     "metadata": {},
     "output_type": "execute_result"
    }
   ],
   "source": [
    "len(d)  #  what's its length?"
   ]
  },
  {
   "cell_type": "code",
   "execution_count": 15,
   "id": "94c3c50a",
   "metadata": {},
   "outputs": [
    {
     "data": {
      "text/plain": [
       "10"
      ]
     },
     "execution_count": 15,
     "metadata": {},
     "output_type": "execute_result"
    }
   ],
   "source": [
    "# let's retrieve the value associated with the key 'a'\n",
    "\n",
    "d['a']"
   ]
  },
  {
   "cell_type": "code",
   "execution_count": 16,
   "id": "f21f5ef4",
   "metadata": {},
   "outputs": [
    {
     "ename": "KeyError",
     "evalue": "'A'",
     "output_type": "error",
     "traceback": [
      "\u001b[0;31m---------------------------------------------------------------------------\u001b[0m",
      "\u001b[0;31mKeyError\u001b[0m                                  Traceback (most recent call last)",
      "Cell \u001b[0;32mIn [16], line 1\u001b[0m\n\u001b[0;32m----> 1\u001b[0m \u001b[43md\u001b[49m\u001b[43m[\u001b[49m\u001b[38;5;124;43m'\u001b[39;49m\u001b[38;5;124;43mA\u001b[39;49m\u001b[38;5;124;43m'\u001b[39;49m\u001b[43m]\u001b[49m   \u001b[38;5;66;03m# will this work?\u001b[39;00m\n",
      "\u001b[0;31mKeyError\u001b[0m: 'A'"
     ]
    }
   ],
   "source": [
    "d['A']   # will this work?"
   ]
  },
  {
   "cell_type": "code",
   "execution_count": 17,
   "id": "3a05c633",
   "metadata": {},
   "outputs": [
    {
     "ename": "KeyError",
     "evalue": "' a'",
     "output_type": "error",
     "traceback": [
      "\u001b[0;31m---------------------------------------------------------------------------\u001b[0m",
      "\u001b[0;31mKeyError\u001b[0m                                  Traceback (most recent call last)",
      "Cell \u001b[0;32mIn [17], line 1\u001b[0m\n\u001b[0;32m----> 1\u001b[0m \u001b[43md\u001b[49m\u001b[43m[\u001b[49m\u001b[38;5;124;43m'\u001b[39;49m\u001b[38;5;124;43m a\u001b[39;49m\u001b[38;5;124;43m'\u001b[39;49m\u001b[43m]\u001b[49m   \u001b[38;5;66;03m# will this work?\u001b[39;00m\n",
      "\u001b[0;31mKeyError\u001b[0m: ' a'"
     ]
    }
   ],
   "source": [
    "d[' a']   # will this work?"
   ]
  },
  {
   "cell_type": "code",
   "execution_count": 18,
   "id": "1a18d164",
   "metadata": {},
   "outputs": [
    {
     "data": {
      "text/plain": [
       "True"
      ]
     },
     "execution_count": 18,
     "metadata": {},
     "output_type": "execute_result"
    }
   ],
   "source": [
    "# can I search in my dict to know if a key is there?\n",
    "# yes -- I can use the \"in\" operator!\n",
    "\n",
    "'a' in d   # is 'a' a key in the dict d?"
   ]
  },
  {
   "cell_type": "code",
   "execution_count": 19,
   "id": "052676ee",
   "metadata": {},
   "outputs": [
    {
     "data": {
      "text/plain": [
       "False"
      ]
     },
     "execution_count": 19,
     "metadata": {},
     "output_type": "execute_result"
    }
   ],
   "source": [
    "'x' in d  # is 'x' a key in d?"
   ]
  },
  {
   "cell_type": "markdown",
   "id": "9c60f289",
   "metadata": {},
   "source": [
    "# Where do we use dictionaries?\n",
    "\n",
    "*EVERYWHERE*. Python itself is implemented largely in dictionaries:\n",
    "\n",
    "- All of our variables are actually keys in a dict, and their values are values in a dict\n",
    "- All of our object's attributes (the things that come after a `.`) are actually keys in a dict, and the attribute values are values in a dict\n",
    "- Every module is a dictionary\n",
    "\n",
    "## Real-world examples\n",
    "\n",
    "- Keys are usernames, and values are tuples of info about users\n",
    "- Keys are directory names, and values are lists of filenames in the directory\n",
    "- Keys are network identifiers, and values are computers on that network\n",
    "- Keys are month names and values are month numbers\n",
    "- Keys are month numbers and values are month names\n",
    "\n",
    "Dictionaries are one-way streets -- you can get a value via the key, but you cannot get the key via the value (without a bit of work).\n",
    "\n",
    "Keys must be unique, but values don't have to be."
   ]
  },
  {
   "cell_type": "markdown",
   "id": "5dc05014",
   "metadata": {},
   "source": [
    "# Exercise: Restaurant\n",
    "\n",
    "1. Define a dict, called `menu`, in which the items on a restaurant menu are the keys (strings), and the values will be integers (the prices).\n",
    "2. Define `total` to be 0.\n",
    "3. Ask the user, repeatedly, to indicate what they want to order.\n",
    "    - If they enter the empty string, then exit from the loop and print the total.\n",
    "    - If they enter the name of something on the menu, then tell them the price and new total\n",
    "    - If they enter the name of something *not* on the menu, then scold them (gently) and let them try again\n",
    "4. Print the total\n",
    "\n",
    "Example:\n",
    "\n",
    "    Order: sandwich\n",
    "    sandwich is 15, total is 15\n",
    "    Order: tea\n",
    "    tea is 8, total is 23\n",
    "    Order: elephant\n",
    "    we are fresh out of elephant today\n",
    "    Order: [ENTER]\n",
    "    total is 23\n",
    "    "
   ]
  },
  {
   "cell_type": "code",
   "execution_count": 20,
   "id": "1838d5ae",
   "metadata": {},
   "outputs": [
    {
     "name": "stdout",
     "output_type": "stream",
     "text": [
      "Order: sandwich\n",
      "sandwich is 15, total is now 15\n",
      "Order: tea\n",
      "tea is 8, total is now 23\n",
      "Order: apple\n",
      "apple is 3, total is now 26\n",
      "Order: something else\n",
      "We are out of something else today!\n",
      "Order: \n",
      "total = 26\n"
     ]
    }
   ],
   "source": [
    "menu = {'sandwich':15, 'tea':8, 'apple':3, 'cake':12}\n",
    "\n",
    "total = 0\n",
    "\n",
    "while True:\n",
    "    s = input('Order: ').strip()\n",
    "    \n",
    "    if not s:   # did we get an empty string from the user?\n",
    "        break   # if so, we'll break out of the while loop\n",
    "        \n",
    "    if s in menu:   # if s is a key in our \"menu\" dict\n",
    "        price = menu[s]\n",
    "        total += price\n",
    "        print(f'{s} is {price}, total is now {total}')\n",
    "    else:\n",
    "        print(f'We are out of {s} today!')\n",
    "        \n",
    "print(f'total = {total}')        "
   ]
  },
  {
   "cell_type": "markdown",
   "id": "66b3f518",
   "metadata": {},
   "source": [
    "# Dictionaries are mutable!\n",
    "\n",
    "We can:\n",
    "- Update the value associated with a key\n",
    "- Add a new key-value pair\n",
    "- Remove a key-value pair"
   ]
  },
  {
   "cell_type": "code",
   "execution_count": 21,
   "id": "c63f0826",
   "metadata": {},
   "outputs": [
    {
     "data": {
      "text/plain": [
       "{'a': 10, 'b': 20, 'c': 999}"
      ]
     },
     "execution_count": 21,
     "metadata": {},
     "output_type": "execute_result"
    }
   ],
   "source": [
    "d = {'a':10, 'b':20, 'c':30}\n",
    "\n",
    "# I want to update the value associated with 'c'\n",
    "d['c'] = 999    # that's it -- we just assign!\n",
    "\n",
    "d"
   ]
  },
  {
   "cell_type": "code",
   "execution_count": 22,
   "id": "89dbfd04",
   "metadata": {},
   "outputs": [
    {
     "data": {
      "text/plain": [
       "{'a': 10, 'b': 20, 'c': 999, 'x': 543}"
      ]
     },
     "execution_count": 22,
     "metadata": {},
     "output_type": "execute_result"
    }
   ],
   "source": [
    "# I want to add a new key-value pair, 'x':543\n",
    "# there is no equivalent to append with dicts\n",
    "# rather, I just assign!\n",
    "\n",
    "d['x'] = 543    # same syntax as updating a value!\n",
    "\n",
    "d"
   ]
  },
  {
   "cell_type": "code",
   "execution_count": 23,
   "id": "3ac477f2",
   "metadata": {},
   "outputs": [
    {
     "data": {
      "text/plain": [
       "543"
      ]
     },
     "execution_count": 23,
     "metadata": {},
     "output_type": "execute_result"
    }
   ],
   "source": [
    "# in my experience, it's kind of rare to remove a key-value pair from a dict\n",
    "# but you can do it with the \"pop\" method. Give it the key, and it returns\n",
    "# the value, and also removes that key-value pair from the dict\n",
    "\n",
    "d.pop('x')"
   ]
  },
  {
   "cell_type": "code",
   "execution_count": 24,
   "id": "62787df1",
   "metadata": {},
   "outputs": [
    {
     "data": {
      "text/plain": [
       "{'a': 10, 'b': 20, 'c': 999}"
      ]
     },
     "execution_count": 24,
     "metadata": {},
     "output_type": "execute_result"
    }
   ],
   "source": [
    "d"
   ]
  },
  {
   "cell_type": "code",
   "execution_count": 25,
   "id": "b6509e93",
   "metadata": {},
   "outputs": [
    {
     "ename": "KeyError",
     "evalue": "'x'",
     "output_type": "error",
     "traceback": [
      "\u001b[0;31m---------------------------------------------------------------------------\u001b[0m",
      "\u001b[0;31mKeyError\u001b[0m                                  Traceback (most recent call last)",
      "Cell \u001b[0;32mIn [25], line 2\u001b[0m\n\u001b[1;32m      1\u001b[0m \u001b[38;5;66;03m# what if I try to pop a key that doesn't exist?\u001b[39;00m\n\u001b[0;32m----> 2\u001b[0m \u001b[43md\u001b[49m\u001b[38;5;241;43m.\u001b[39;49m\u001b[43mpop\u001b[49m\u001b[43m(\u001b[49m\u001b[38;5;124;43m'\u001b[39;49m\u001b[38;5;124;43mx\u001b[39;49m\u001b[38;5;124;43m'\u001b[39;49m\u001b[43m)\u001b[49m\n",
      "\u001b[0;31mKeyError\u001b[0m: 'x'"
     ]
    }
   ],
   "source": [
    "# what if I try to pop a key that doesn't exist?\n",
    "d.pop('x')"
   ]
  },
  {
   "cell_type": "code",
   "execution_count": null,
   "id": "1e05f0a7",
   "metadata": {},
   "outputs": [],
   "source": [
    "# what about here?\n",
    "\n",
    "d = {'a':10, 'b':20, 'c':30}\n",
    "\n",
    "# I want to add a number to d['b']\n",
    "\n",
    "d['b'] += 10   # this gets translated into d['b'] = d['b'] + 10"
   ]
  }
 ],
 "metadata": {
  "kernelspec": {
   "display_name": "Python 3 (ipykernel)",
   "language": "python",
   "name": "python3"
  },
  "language_info": {
   "codemirror_mode": {
    "name": "ipython",
    "version": 3
   },
   "file_extension": ".py",
   "mimetype": "text/x-python",
   "name": "python",
   "nbconvert_exporter": "python",
   "pygments_lexer": "ipython3",
   "version": "3.11.2"
  }
 },
 "nbformat": 4,
 "nbformat_minor": 5
}
