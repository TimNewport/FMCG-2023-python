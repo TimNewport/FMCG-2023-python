{
 "cells": [
  {
   "cell_type": "markdown",
   "id": "7441f43e",
   "metadata": {},
   "source": [
    "# Agenda\n",
    "\n",
    "1. Dictionaries\n",
    "2. Sets"
   ]
  },
  {
   "cell_type": "markdown",
   "id": "e31f96fc",
   "metadata": {},
   "source": [
    "# Assignment and mutable data -- and trying not to get confused!\n",
    "\n"
   ]
  },
  {
   "cell_type": "code",
   "execution_count": 3,
   "id": "b5a8fe58",
   "metadata": {},
   "outputs": [],
   "source": [
    "# let's start with strings\n",
    "\n",
    "x = 'abcd'\n",
    "y = x        # this means: Get the object that x refers to, and have y refer to it, also (a 2nd reference to it)\n",
    "\n",
    "# strings are immutable -- so we can't modify it, and thus any \"changes\" we make really result\n",
    "# in a new string being created"
   ]
  },
  {
   "cell_type": "code",
   "execution_count": null,
   "id": "19031c9e",
   "metadata": {},
   "outputs": [],
   "source": [
    "x.upper()   # this returns a new string, not affectin"
   ]
  }
 ],
 "metadata": {
  "kernelspec": {
   "display_name": "Python 3 (ipykernel)",
   "language": "python",
   "name": "python3"
  },
  "language_info": {
   "codemirror_mode": {
    "name": "ipython",
    "version": 3
   },
   "file_extension": ".py",
   "mimetype": "text/x-python",
   "name": "python",
   "nbconvert_exporter": "python",
   "pygments_lexer": "ipython3",
   "version": "3.11.2"
  }
 },
 "nbformat": 4,
 "nbformat_minor": 5
}
