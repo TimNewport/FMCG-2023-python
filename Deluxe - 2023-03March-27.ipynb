{
 "cells": [
  {
   "cell_type": "markdown",
   "id": "7441f43e",
   "metadata": {},
   "source": [
    "# Agenda\n",
    "\n",
    "1. Dictionaries\n",
    "2. Sets"
   ]
  },
  {
   "cell_type": "markdown",
   "id": "3a1c51c4",
   "metadata": {},
   "source": [
    "# Assignment and mutable data -- and trying not to get confused!\n",
    "\n"
   ]
  },
  {
   "cell_type": "code",
   "execution_count": 3,
   "id": "4bcaf87a",
   "metadata": {},
   "outputs": [],
   "source": [
    "# let's start with strings\n",
    "\n",
    "x = 'abcd'\n",
    "y = x        # this means: Get the object that x refers to, and have y refer to it, also (a 2nd reference to it)\n",
    "\n",
    "# strings are immutable -- so we can't modify it, and thus any \"changes\" we make really result\n",
    "# in a new string being created"
   ]
  },
  {
   "cell_type": "code",
   "execution_count": 4,
   "id": "3be556ad",
   "metadata": {},
   "outputs": [
    {
     "data": {
      "text/plain": [
       "'ABCD'"
      ]
     },
     "execution_count": 4,
     "metadata": {},
     "output_type": "execute_result"
    }
   ],
   "source": [
    "x.upper()   # this returns a new string, not affecting x... so it doesn't affect y, either"
   ]
  },
  {
   "cell_type": "code",
   "execution_count": 5,
   "id": "d9c7afae",
   "metadata": {},
   "outputs": [
    {
     "data": {
      "text/plain": [
       "'abcd'"
      ]
     },
     "execution_count": 5,
     "metadata": {},
     "output_type": "execute_result"
    }
   ],
   "source": [
    "y"
   ]
  },
  {
   "cell_type": "code",
   "execution_count": 6,
   "id": "835ee885",
   "metadata": {},
   "outputs": [
    {
     "data": {
      "text/plain": [
       "[10, 20, 30, 40]"
      ]
     },
     "execution_count": 6,
     "metadata": {},
     "output_type": "execute_result"
    }
   ],
   "source": [
    "# immutable data doesn't have to worry us in this way\n",
    "\n",
    "# if I have a list, though...\n",
    "\n",
    "x = [10, 20, 30]\n",
    "y = x             # get the value of x, that list, and have y refer to it\n",
    "\n",
    "# if we modify the list that x refers to, then we're also modifying the list that y refers to\n",
    "\n",
    "x.append(40)   # this doesn't return a new list -- it modifies the list itself\n",
    "x\n"
   ]
  },
  {
   "cell_type": "code",
   "execution_count": 7,
   "id": "cb7100b2",
   "metadata": {},
   "outputs": [
    {
     "data": {
      "text/plain": [
       "[10, 20, 30, 40]"
      ]
     },
     "execution_count": 7,
     "metadata": {},
     "output_type": "execute_result"
    }
   ],
   "source": [
    "# what is y?\n",
    "y"
   ]
  },
  {
   "cell_type": "code",
   "execution_count": 8,
   "id": "8f57d184",
   "metadata": {},
   "outputs": [],
   "source": [
    "# how, then, can we get a new list that won't do this?\n",
    "# the easiest way is to use the .copy() method\n",
    "\n",
    "x = [10, 20, 30]\n",
    "y = x.copy()   # this creates a new list, based on x, and has y refer to that"
   ]
  },
  {
   "cell_type": "code",
   "execution_count": 9,
   "id": "d7d71386",
   "metadata": {},
   "outputs": [
    {
     "data": {
      "text/plain": [
       "True"
      ]
     },
     "execution_count": 9,
     "metadata": {},
     "output_type": "execute_result"
    }
   ],
   "source": [
    "x == y    # they are now equal in value -- both lists, both with [10, 20, 30]"
   ]
  },
  {
   "cell_type": "code",
   "execution_count": 10,
   "id": "07a5723a",
   "metadata": {},
   "outputs": [],
   "source": [
    "# but they are distinct objects\n",
    "x.append(40)\n",
    "y.append(50)"
   ]
  },
  {
   "cell_type": "code",
   "execution_count": 11,
   "id": "24762631",
   "metadata": {},
   "outputs": [
    {
     "data": {
      "text/plain": [
       "[10, 20, 30, 40]"
      ]
     },
     "execution_count": 11,
     "metadata": {},
     "output_type": "execute_result"
    }
   ],
   "source": [
    "x"
   ]
  },
  {
   "cell_type": "code",
   "execution_count": 12,
   "id": "b6dbd913",
   "metadata": {},
   "outputs": [
    {
     "data": {
      "text/plain": [
       "[10, 20, 30, 50]"
      ]
     },
     "execution_count": 12,
     "metadata": {},
     "output_type": "execute_result"
    }
   ],
   "source": [
    "y"
   ]
  },
  {
   "cell_type": "markdown",
   "id": "627dd5ec",
   "metadata": {},
   "source": [
    "# Recap of lists \n",
    "\n",
    "1. We can store anything in our lists\n",
    "2. The index in a list starts at 0, and goes up to `len(the_list) - 1`. So if there are 10 items in the list, then the indexes will be 0 - 9.\n",
    "3"
   ]
  }
 ],
 "metadata": {
  "kernelspec": {
   "display_name": "Python 3 (ipykernel)",
   "language": "python",
   "name": "python3"
  },
  "language_info": {
   "codemirror_mode": {
    "name": "ipython",
    "version": 3
   },
   "file_extension": ".py",
   "mimetype": "text/x-python",
   "name": "python",
   "nbconvert_exporter": "python",
   "pygments_lexer": "ipython3",
   "version": "3.11.2"
  }
 },
 "nbformat": 4,
 "nbformat_minor": 5
}
