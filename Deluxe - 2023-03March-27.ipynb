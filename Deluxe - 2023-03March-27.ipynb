{
 "cells": [
  {
   "cell_type": "markdown",
   "id": "7441f43e",
   "metadata": {},
   "source": [
    "# Agenda\n",
    "\n",
    "1. Dictionaries\n",
    "2. Sets"
   ]
  },
  {
   "cell_type": "markdown",
   "id": "fac72cf6",
   "metadata": {},
   "source": [
    "# Assignment and mutable data -- and trying not to get confused!\n",
    "\n"
   ]
  },
  {
   "cell_type": "code",
   "execution_count": 3,
   "id": "aa2d8c38",
   "metadata": {},
   "outputs": [],
   "source": [
    "# let's start with strings\n",
    "\n",
    "x = 'abcd'\n",
    "y = x        # this means: Get the object that x refers to, and have y refer to it, also (a 2nd reference to it)\n",
    "\n",
    "# strings are immutable -- so we can't modify it, and thus any \"changes\" we make really result\n",
    "# in a new string being created"
   ]
  },
  {
   "cell_type": "code",
   "execution_count": 4,
   "id": "e19a08bf",
   "metadata": {},
   "outputs": [
    {
     "data": {
      "text/plain": [
       "'ABCD'"
      ]
     },
     "execution_count": 4,
     "metadata": {},
     "output_type": "execute_result"
    }
   ],
   "source": [
    "x.upper()   # this returns a new string, not affecting x... so it doesn't affect y, either"
   ]
  },
  {
   "cell_type": "code",
   "execution_count": 5,
   "id": "31e9c419",
   "metadata": {},
   "outputs": [
    {
     "data": {
      "text/plain": [
       "'abcd'"
      ]
     },
     "execution_count": 5,
     "metadata": {},
     "output_type": "execute_result"
    }
   ],
   "source": [
    "y"
   ]
  },
  {
   "cell_type": "code",
   "execution_count": 6,
   "id": "745bd173",
   "metadata": {},
   "outputs": [
    {
     "data": {
      "text/plain": [
       "[10, 20, 30, 40]"
      ]
     },
     "execution_count": 6,
     "metadata": {},
     "output_type": "execute_result"
    }
   ],
   "source": [
    "# immutable data doesn't have to worry us in this way\n",
    "\n",
    "# if I have a list, though...\n",
    "\n",
    "x = [10, 20, 30]\n",
    "y = x             # get the value of x, that list, and have y refer to it\n",
    "\n",
    "# if we modify the list that x refers to, then we're also modifying the list that y refers to\n",
    "\n",
    "x.append(40)   # this doesn't return a new list -- it modifies the list itself\n",
    "x\n"
   ]
  },
  {
   "cell_type": "code",
   "execution_count": 7,
   "id": "e250ab4f",
   "metadata": {},
   "outputs": [
    {
     "data": {
      "text/plain": [
       "[10, 20, 30, 40]"
      ]
     },
     "execution_count": 7,
     "metadata": {},
     "output_type": "execute_result"
    }
   ],
   "source": [
    "# what is y?\n",
    "y"
   ]
  },
  {
   "cell_type": "code",
   "execution_count": null,
   "id": "609d37e6",
   "metadata": {},
   "outputs": [],
   "source": [
    "# how, then, can we get a new list that won't do this?\n",
    "# the easiest way is to use the .copy() method\n",
    "\n",
    "x = [10, 20, 30]\n",
    "y = x.copy()   # this creates a new list, based on x, and has y refer to that"
   ]
  }
 ],
 "metadata": {
  "kernelspec": {
   "display_name": "Python 3 (ipykernel)",
   "language": "python",
   "name": "python3"
  },
  "language_info": {
   "codemirror_mode": {
    "name": "ipython",
    "version": 3
   },
   "file_extension": ".py",
   "mimetype": "text/x-python",
   "name": "python",
   "nbconvert_exporter": "python",
   "pygments_lexer": "ipython3",
   "version": "3.11.2"
  }
 },
 "nbformat": 4,
 "nbformat_minor": 5
}
