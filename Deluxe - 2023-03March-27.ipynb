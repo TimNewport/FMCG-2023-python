{
 "cells": [
  {
   "cell_type": "markdown",
   "id": "7441f43e",
   "metadata": {},
   "source": [
    "# Agenda\n",
    "\n",
    "1. Dictionaries\n",
    "2. Sets"
   ]
  },
  {
   "cell_type": "markdown",
   "id": "a07dacd3",
   "metadata": {},
   "source": [
    "# Assignment and mutable data -- and trying not to get confused!\n",
    "\n"
   ]
  },
  {
   "cell_type": "code",
   "execution_count": 3,
   "id": "11b44b80",
   "metadata": {},
   "outputs": [],
   "source": [
    "# let's start with strings\n",
    "\n",
    "x = 'abcd'\n",
    "y = x        # this means: Get the object that x refers to, and have y refer to it, also (a 2nd reference to it)\n",
    "\n",
    "# strings are immutable -- so we can't modify it, and thus any \"changes\" we make really result\n",
    "# in a new string being created"
   ]
  },
  {
   "cell_type": "code",
   "execution_count": 4,
   "id": "c9c08d23",
   "metadata": {},
   "outputs": [
    {
     "data": {
      "text/plain": [
       "'ABCD'"
      ]
     },
     "execution_count": 4,
     "metadata": {},
     "output_type": "execute_result"
    }
   ],
   "source": [
    "x.upper()   # this returns a new string, not affecting x... so it doesn't affect y, either"
   ]
  },
  {
   "cell_type": "code",
   "execution_count": 5,
   "id": "4b029bf4",
   "metadata": {},
   "outputs": [
    {
     "data": {
      "text/plain": [
       "'abcd'"
      ]
     },
     "execution_count": 5,
     "metadata": {},
     "output_type": "execute_result"
    }
   ],
   "source": [
    "y"
   ]
  },
  {
   "cell_type": "code",
   "execution_count": 6,
   "id": "b436e406",
   "metadata": {},
   "outputs": [
    {
     "data": {
      "text/plain": [
       "[10, 20, 30, 40]"
      ]
     },
     "execution_count": 6,
     "metadata": {},
     "output_type": "execute_result"
    }
   ],
   "source": [
    "# immutable data doesn't have to worry us in this way\n",
    "\n",
    "# if I have a list, though...\n",
    "\n",
    "x = [10, 20, 30]\n",
    "y = x             # get the value of x, that list, and have y refer to it\n",
    "\n",
    "# if we modify the list that x refers to, then we're also modifying the list that y refers to\n",
    "\n",
    "x.append(40)   # this doesn't return a new list -- it modifies the list itself\n",
    "x\n"
   ]
  },
  {
   "cell_type": "code",
   "execution_count": 7,
   "id": "784d42d9",
   "metadata": {},
   "outputs": [
    {
     "data": {
      "text/plain": [
       "[10, 20, 30, 40]"
      ]
     },
     "execution_count": 7,
     "metadata": {},
     "output_type": "execute_result"
    }
   ],
   "source": [
    "# what is y?\n",
    "y"
   ]
  },
  {
   "cell_type": "code",
   "execution_count": 8,
   "id": "51e3fc0a",
   "metadata": {},
   "outputs": [],
   "source": [
    "# how, then, can we get a new list that won't do this?\n",
    "# the easiest way is to use the .copy() method\n",
    "\n",
    "x = [10, 20, 30]\n",
    "y = x.copy()   # this creates a new list, based on x, and has y refer to that"
   ]
  },
  {
   "cell_type": "code",
   "execution_count": 9,
   "id": "361d19a9",
   "metadata": {},
   "outputs": [
    {
     "data": {
      "text/plain": [
       "True"
      ]
     },
     "execution_count": 9,
     "metadata": {},
     "output_type": "execute_result"
    }
   ],
   "source": [
    "x == y    # they are now equal in value -- both lists, both with [10, 20, 30]"
   ]
  },
  {
   "cell_type": "code",
   "execution_count": 10,
   "id": "12b9970d",
   "metadata": {},
   "outputs": [],
   "source": [
    "# but they are distinct objects\n",
    "x.append(40)\n",
    "y.append(50)"
   ]
  },
  {
   "cell_type": "code",
   "execution_count": 11,
   "id": "b495c08c",
   "metadata": {},
   "outputs": [
    {
     "data": {
      "text/plain": [
       "[10, 20, 30, 40]"
      ]
     },
     "execution_count": 11,
     "metadata": {},
     "output_type": "execute_result"
    }
   ],
   "source": [
    "x"
   ]
  },
  {
   "cell_type": "code",
   "execution_count": 12,
   "id": "1ce9f525",
   "metadata": {},
   "outputs": [
    {
     "data": {
      "text/plain": [
       "[10, 20, 30, 50]"
      ]
     },
     "execution_count": 12,
     "metadata": {},
     "output_type": "execute_result"
    }
   ],
   "source": [
    "y"
   ]
  },
  {
   "cell_type": "markdown",
   "id": "f21c1a51",
   "metadata": {},
   "source": [
    "# Recap of lists \n",
    "\n",
    "1. We can store anything in our lists\n",
    "2. The index in a list starts at 0, and goes up to `len(the_list) - 1`. So if there are 10 items in the list, then the indexes will be 0 - 9.\n",
    "3. I can search in a list using the `in` operator, which returns `True` or `False`.\n",
    "\n",
    "What if I have a really long list, with 1,000 items in it?  And then I want to use `in` to search inside of it. How long will that take?\n",
    "\n",
    "In CS world, we call that `O(n)`, meaning that the longer the list is, the longer (on average) it'll take to find something.\n",
    "\n",
    "The other issue that we might have with lists is that the index is ... boring and non-descriptive. If I have a list of information about a person (and I might want to use a tuple instead, I admit) then using indexes 0, 1, 2, 3, etc. is not going to be very obvious to the next developer who has to work on my code.\n",
    "\n",
    "Dictionaries fix both of these problems."
   ]
  },
  {
   "cell_type": "markdown",
   "id": "b44f9e60",
   "metadata": {},
   "source": [
    "# Dictionaries (`dict`)\n",
    "\n",
    "Dictionaries are not unique to Python; they are also known by many other names in many other languages:\n",
    "\n",
    "- Hash tables\n",
    "- Hashes\n",
    "- Hash maps\n",
    "- Associative arrays\n",
    "- Key-value stores\n",
    "- Name-value stores\n",
    "\n",
    "The basic idea of a dictionary is that we can store pairs of data: The keys (which are the dict version of an index) can be any immutable type (usually numbers or strings). The values can be absolutely anything at all.\n",
    "\n",
    "In other words, it's kind of like a list, except that our index can be strings, which makes things way, way "
   ]
  }
 ],
 "metadata": {
  "kernelspec": {
   "display_name": "Python 3 (ipykernel)",
   "language": "python",
   "name": "python3"
  },
  "language_info": {
   "codemirror_mode": {
    "name": "ipython",
    "version": 3
   },
   "file_extension": ".py",
   "mimetype": "text/x-python",
   "name": "python",
   "nbconvert_exporter": "python",
   "pygments_lexer": "ipython3",
   "version": "3.11.2"
  }
 },
 "nbformat": 4,
 "nbformat_minor": 5
}
