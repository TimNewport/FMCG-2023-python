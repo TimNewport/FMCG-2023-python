{
 "cells": [
  {
   "cell_type": "markdown",
   "id": "7441f43e",
   "metadata": {},
   "source": [
    "# Agenda\n",
    "\n",
    "1. Dictionaries\n",
    "2. Sets"
   ]
  },
  {
   "cell_type": "markdown",
   "id": "480578cb",
   "metadata": {},
   "source": [
    "# Assignment and mutable data -- and trying not to get confused!\n",
    "\n"
   ]
  },
  {
   "cell_type": "code",
   "execution_count": 3,
   "id": "c4de3cb7",
   "metadata": {},
   "outputs": [],
   "source": [
    "# let's start with strings\n",
    "\n",
    "x = 'abcd'\n",
    "y = x        # this means: Get the object that x refers to, and have y refer to it, also (a 2nd reference to it)\n",
    "\n",
    "# strings are immutable -- so we can't modify it, and thus any \"changes\" we make really result\n",
    "# in a new string being created"
   ]
  },
  {
   "cell_type": "code",
   "execution_count": 4,
   "id": "a9520cd3",
   "metadata": {},
   "outputs": [
    {
     "data": {
      "text/plain": [
       "'ABCD'"
      ]
     },
     "execution_count": 4,
     "metadata": {},
     "output_type": "execute_result"
    }
   ],
   "source": [
    "x.upper()   # this returns a new string, not affecting x... so it doesn't affect y, either"
   ]
  },
  {
   "cell_type": "code",
   "execution_count": 5,
   "id": "3932cc78",
   "metadata": {},
   "outputs": [
    {
     "data": {
      "text/plain": [
       "'abcd'"
      ]
     },
     "execution_count": 5,
     "metadata": {},
     "output_type": "execute_result"
    }
   ],
   "source": [
    "y"
   ]
  },
  {
   "cell_type": "code",
   "execution_count": 6,
   "id": "e5358363",
   "metadata": {},
   "outputs": [
    {
     "data": {
      "text/plain": [
       "[10, 20, 30, 40]"
      ]
     },
     "execution_count": 6,
     "metadata": {},
     "output_type": "execute_result"
    }
   ],
   "source": [
    "# immutable data doesn't have to worry us in this way\n",
    "\n",
    "# if I have a list, though...\n",
    "\n",
    "x = [10, 20, 30]\n",
    "y = x             # get the value of x, that list, and have y refer to it\n",
    "\n",
    "# if we modify the list that x refers to, then we're also modifying the list that y refers to\n",
    "\n",
    "x.append(40)   # this doesn't return a new list -- it modifies the list itself\n",
    "x\n"
   ]
  },
  {
   "cell_type": "code",
   "execution_count": 7,
   "id": "89bec042",
   "metadata": {},
   "outputs": [
    {
     "data": {
      "text/plain": [
       "[10, 20, 30, 40]"
      ]
     },
     "execution_count": 7,
     "metadata": {},
     "output_type": "execute_result"
    }
   ],
   "source": [
    "# what is y?\n",
    "y"
   ]
  },
  {
   "cell_type": "code",
   "execution_count": 8,
   "id": "42590fc4",
   "metadata": {},
   "outputs": [],
   "source": [
    "# how, then, can we get a new list that won't do this?\n",
    "# the easiest way is to use the .copy() method\n",
    "\n",
    "x = [10, 20, 30]\n",
    "y = x.copy()   # this creates a new list, based on x, and has y refer to that"
   ]
  },
  {
   "cell_type": "code",
   "execution_count": 9,
   "id": "344a663d",
   "metadata": {},
   "outputs": [
    {
     "data": {
      "text/plain": [
       "True"
      ]
     },
     "execution_count": 9,
     "metadata": {},
     "output_type": "execute_result"
    }
   ],
   "source": [
    "x == y    # they are now equal in value -- both lists, both with [10, 20, 30]"
   ]
  },
  {
   "cell_type": "code",
   "execution_count": 10,
   "id": "1d55fb52",
   "metadata": {},
   "outputs": [],
   "source": [
    "# but they are distinct objects\n",
    "x.append(40)\n",
    "y.append(50)"
   ]
  },
  {
   "cell_type": "code",
   "execution_count": 11,
   "id": "4d03b0ed",
   "metadata": {},
   "outputs": [
    {
     "data": {
      "text/plain": [
       "[10, 20, 30, 40]"
      ]
     },
     "execution_count": 11,
     "metadata": {},
     "output_type": "execute_result"
    }
   ],
   "source": [
    "x"
   ]
  },
  {
   "cell_type": "code",
   "execution_count": 12,
   "id": "4d259dd3",
   "metadata": {},
   "outputs": [
    {
     "data": {
      "text/plain": [
       "[10, 20, 30, 50]"
      ]
     },
     "execution_count": 12,
     "metadata": {},
     "output_type": "execute_result"
    }
   ],
   "source": [
    "y"
   ]
  },
  {
   "cell_type": "markdown",
   "id": "3f1eab73",
   "metadata": {},
   "source": [
    "# Recap of lists \n",
    "\n",
    "1. We can store anything in our lists\n",
    "2. The index in a list starts at 0, and goes up to `len(the_list) - 1`. So if there are 10 items in the list, then the indexes will be 0 - 9.\n",
    "3. I can search in a list using the `in` operator, which returns `True` or `False`.\n",
    "\n",
    "What if I have a really long list, with 1,000 items in it?  And then I want to use `in` to search inside of it. How long will that take?\n",
    "\n",
    "In CS world, we call that `O(n)`, meaning that the longer the list is, the longer (on average) it'll take to find something.\n",
    "\n",
    "The other issue that we might have with lists is that the index is ... boring and non-descriptive. If I have a list of information about a person (and I might want to use a tuple instead, I admit) then using indexes 0, 1, 2, 3, etc. is not going to be very obvious to the next developer who has to work on my code.\n",
    "\n",
    "Dictionaries fix both of these problems."
   ]
  },
  {
   "cell_type": "markdown",
   "id": "5a077a29",
   "metadata": {},
   "source": [
    "# Dictionaries (`dict`)\n",
    "\n",
    "Dictionaries are not unique to Python; they are also known by many other names in many other languages:\n",
    "\n",
    "- Hash tables\n",
    "- Hashes\n",
    "- Hash maps\n",
    "- Associative arrays\n",
    "- Key-value stores\n",
    "- Name-value stores\n",
    "\n",
    "The basic idea of a dictionary is that we can store pairs of data: The keys (which are the dict version of an index) can be any immutable type (usually numbers or strings). The values can be absolutely anything at all.\n",
    "\n",
    "In other words, it's kind of like a list, except that our index can be strings, which makes things way, way clearer and easier to work with.\n",
    "\n",
    "Some other things to keep in mind:\n",
    "\n",
    "- A dict is measured in *pairs*. There is no such thing as a key without a value, or a value without a key.\n",
    "- The keys must be unique. Just as a list has only one item at index 5, so too does a dict have only one item with a key `'x'` (if it's there at all).\n",
    "- We'll create dicts with `{}`, separating pairs with `,` (like a list or tuple) and separating the key from the value with `:` (colon)."
   ]
  },
  {
   "cell_type": "code",
   "execution_count": 13,
   "id": "0ce6c06b",
   "metadata": {},
   "outputs": [],
   "source": [
    "d = {'a':10, 'b':20, 'c':30}   # here is a dict with three key-value pairs"
   ]
  },
  {
   "cell_type": "code",
   "execution_count": 14,
   "id": "19d32821",
   "metadata": {},
   "outputs": [
    {
     "data": {
      "text/plain": [
       "3"
      ]
     },
     "execution_count": 14,
     "metadata": {},
     "output_type": "execute_result"
    }
   ],
   "source": [
    "len(d)  #  what's its length?"
   ]
  },
  {
   "cell_type": "code",
   "execution_count": 15,
   "id": "3fc5e05d",
   "metadata": {},
   "outputs": [
    {
     "data": {
      "text/plain": [
       "10"
      ]
     },
     "execution_count": 15,
     "metadata": {},
     "output_type": "execute_result"
    }
   ],
   "source": [
    "# let's retrieve the value associated with the key 'a'\n",
    "\n",
    "d['a']"
   ]
  },
  {
   "cell_type": "code",
   "execution_count": 16,
   "id": "13595b7d",
   "metadata": {},
   "outputs": [
    {
     "ename": "KeyError",
     "evalue": "'A'",
     "output_type": "error",
     "traceback": [
      "\u001b[0;31m---------------------------------------------------------------------------\u001b[0m",
      "\u001b[0;31mKeyError\u001b[0m                                  Traceback (most recent call last)",
      "Cell \u001b[0;32mIn [16], line 1\u001b[0m\n\u001b[0;32m----> 1\u001b[0m \u001b[43md\u001b[49m\u001b[43m[\u001b[49m\u001b[38;5;124;43m'\u001b[39;49m\u001b[38;5;124;43mA\u001b[39;49m\u001b[38;5;124;43m'\u001b[39;49m\u001b[43m]\u001b[49m   \u001b[38;5;66;03m# will this work?\u001b[39;00m\n",
      "\u001b[0;31mKeyError\u001b[0m: 'A'"
     ]
    }
   ],
   "source": [
    "d['A']   # will this work?"
   ]
  },
  {
   "cell_type": "code",
   "execution_count": 17,
   "id": "7cd5004a",
   "metadata": {},
   "outputs": [
    {
     "ename": "KeyError",
     "evalue": "' a'",
     "output_type": "error",
     "traceback": [
      "\u001b[0;31m---------------------------------------------------------------------------\u001b[0m",
      "\u001b[0;31mKeyError\u001b[0m                                  Traceback (most recent call last)",
      "Cell \u001b[0;32mIn [17], line 1\u001b[0m\n\u001b[0;32m----> 1\u001b[0m \u001b[43md\u001b[49m\u001b[43m[\u001b[49m\u001b[38;5;124;43m'\u001b[39;49m\u001b[38;5;124;43m a\u001b[39;49m\u001b[38;5;124;43m'\u001b[39;49m\u001b[43m]\u001b[49m   \u001b[38;5;66;03m# will this work?\u001b[39;00m\n",
      "\u001b[0;31mKeyError\u001b[0m: ' a'"
     ]
    }
   ],
   "source": [
    "d[' a']   # will this work?"
   ]
  },
  {
   "cell_type": "code",
   "execution_count": 18,
   "id": "9987861c",
   "metadata": {},
   "outputs": [
    {
     "data": {
      "text/plain": [
       "True"
      ]
     },
     "execution_count": 18,
     "metadata": {},
     "output_type": "execute_result"
    }
   ],
   "source": [
    "# can I search in my dict to know if a key is there?\n",
    "# yes -- I can use the \"in\" operator!\n",
    "\n",
    "'a' in d   # is 'a' a key in the dict d?"
   ]
  },
  {
   "cell_type": "code",
   "execution_count": 19,
   "id": "4d9fc705",
   "metadata": {},
   "outputs": [
    {
     "data": {
      "text/plain": [
       "False"
      ]
     },
     "execution_count": 19,
     "metadata": {},
     "output_type": "execute_result"
    }
   ],
   "source": [
    "'x' in d  # is 'x' a key in d?"
   ]
  },
  {
   "cell_type": "markdown",
   "id": "fe065bdb",
   "metadata": {},
   "source": [
    "# Where do we use dictionaries?\n",
    "\n",
    "*EVERYWHERE*. Python itself is implemented largely in dictionaries:\n",
    "\n",
    "- All of our variables are actually keys in a dict, and their values are values in a dict\n",
    "- All of our object's attributes (the things that come after a `.`) are actually keys in a dict, and the attribute values are values in a dict\n",
    "- Every module is a dictionary\n",
    "\n",
    "## Real-world examples\n",
    "\n",
    "- Keys are usernames, and values are tuples of info about users\n",
    "- Keys are directory names, and values are lists of filenames in the directory\n",
    "- Keys are network identifiers, and values are computers on that network\n",
    "- Keys are month names and values are month numbers\n",
    "- Keys are month numbers and values are month names\n",
    "\n",
    "Dictionaries are one-way streets -- you can get a value via the key, but you cannot get the key via the value (without a bit of work).\n",
    "\n",
    "Keys must be unique, but values don't have to be."
   ]
  },
  {
   "cell_type": "markdown",
   "id": "aa9ad93a",
   "metadata": {},
   "source": [
    "# Exercise: Restaurant\n",
    "\n",
    "1. Define a dict, called `menu`, in which the items on a restaurant menu are the keys (strings), and the values will be integers (the prices).\n",
    "2. Define `total` to be 0.\n",
    "3. Ask the user, repeatedly, to indicate what they want to order.\n",
    "    - If they enter the empty string, then exit from the loop and print the total.\n",
    "    - If they enter the name of something on the menu, then tell them the price and new total\n",
    "    - If they enter the name of something *not* on the menu, then scold them (gently) and let them try again\n",
    "4. Print the total\n",
    "\n",
    "Example:\n",
    "\n",
    "    Order: sandwich\n",
    "    sandwich is 15, total is 15\n",
    "    Order: tea\n",
    "    tea is 8, total is 23\n",
    "    Order: elephant\n",
    "    we are fresh out of elephant today\n",
    "    Order: [ENTER]\n",
    "    total is 23\n",
    "    "
   ]
  },
  {
   "cell_type": "code",
   "execution_count": 20,
   "id": "1c13879c",
   "metadata": {},
   "outputs": [
    {
     "name": "stdout",
     "output_type": "stream",
     "text": [
      "Order: sandwich\n",
      "sandwich is 15, total is now 15\n",
      "Order: tea\n",
      "tea is 8, total is now 23\n",
      "Order: apple\n",
      "apple is 3, total is now 26\n",
      "Order: something else\n",
      "We are out of something else today!\n",
      "Order: \n",
      "total = 26\n"
     ]
    }
   ],
   "source": [
    "menu = {'sandwich':15, 'tea':8, 'apple':3, 'cake':12}\n",
    "\n",
    "total = 0\n",
    "\n",
    "while True:\n",
    "    s = input('Order: ').strip()\n",
    "    \n",
    "    if not s:   # did we get an empty string from the user?\n",
    "        break   # if so, we'll break out of the while loop\n",
    "        \n",
    "    if s in menu:   # if s is a key in our \"menu\" dict\n",
    "        price = menu[s]\n",
    "        total += price\n",
    "        print(f'{s} is {price}, total is now {total}')\n",
    "    else:\n",
    "        print(f'We are out of {s} today!')\n",
    "        \n",
    "print(f'total = {total}')        "
   ]
  },
  {
   "cell_type": "markdown",
   "id": "f57ad4b6",
   "metadata": {},
   "source": [
    "# Dictionaries are mutable!\n",
    "\n",
    "We can:\n",
    "- Update the value associated with a key\n",
    "- Add a new key-value pair\n",
    "- Remove a key-value pair"
   ]
  },
  {
   "cell_type": "code",
   "execution_count": 21,
   "id": "d24ec2e5",
   "metadata": {},
   "outputs": [
    {
     "data": {
      "text/plain": [
       "{'a': 10, 'b': 20, 'c': 999}"
      ]
     },
     "execution_count": 21,
     "metadata": {},
     "output_type": "execute_result"
    }
   ],
   "source": [
    "d = {'a':10, 'b':20, 'c':30}\n",
    "\n",
    "# I want to update the value associated with 'c'\n",
    "d['c'] = 999    # that's it -- we just assign!\n",
    "\n",
    "d"
   ]
  },
  {
   "cell_type": "code",
   "execution_count": 22,
   "id": "db438fd2",
   "metadata": {},
   "outputs": [
    {
     "data": {
      "text/plain": [
       "{'a': 10, 'b': 20, 'c': 999, 'x': 543}"
      ]
     },
     "execution_count": 22,
     "metadata": {},
     "output_type": "execute_result"
    }
   ],
   "source": [
    "# I want to add a new key-value pair, 'x':543\n",
    "# there is no equivalent to append with dicts\n",
    "# rather, I just assign!\n",
    "\n",
    "d['x'] = 543    # same syntax as updating a value!\n",
    "\n",
    "d"
   ]
  },
  {
   "cell_type": "code",
   "execution_count": 23,
   "id": "4807c110",
   "metadata": {},
   "outputs": [
    {
     "data": {
      "text/plain": [
       "543"
      ]
     },
     "execution_count": 23,
     "metadata": {},
     "output_type": "execute_result"
    }
   ],
   "source": [
    "# in my experience, it's kind of rare to remove a key-value pair from a dict\n",
    "# but you can do it with the \"pop\" method. Give it the key, and it returns\n",
    "# the value, and also removes that key-value pair from the dict\n",
    "\n",
    "d.pop('x')"
   ]
  },
  {
   "cell_type": "code",
   "execution_count": 24,
   "id": "ac1d7ad6",
   "metadata": {},
   "outputs": [
    {
     "data": {
      "text/plain": [
       "{'a': 10, 'b': 20, 'c': 999}"
      ]
     },
     "execution_count": 24,
     "metadata": {},
     "output_type": "execute_result"
    }
   ],
   "source": [
    "d"
   ]
  },
  {
   "cell_type": "code",
   "execution_count": 25,
   "id": "9a97a599",
   "metadata": {},
   "outputs": [
    {
     "ename": "KeyError",
     "evalue": "'x'",
     "output_type": "error",
     "traceback": [
      "\u001b[0;31m---------------------------------------------------------------------------\u001b[0m",
      "\u001b[0;31mKeyError\u001b[0m                                  Traceback (most recent call last)",
      "Cell \u001b[0;32mIn [25], line 2\u001b[0m\n\u001b[1;32m      1\u001b[0m \u001b[38;5;66;03m# what if I try to pop a key that doesn't exist?\u001b[39;00m\n\u001b[0;32m----> 2\u001b[0m \u001b[43md\u001b[49m\u001b[38;5;241;43m.\u001b[39;49m\u001b[43mpop\u001b[49m\u001b[43m(\u001b[49m\u001b[38;5;124;43m'\u001b[39;49m\u001b[38;5;124;43mx\u001b[39;49m\u001b[38;5;124;43m'\u001b[39;49m\u001b[43m)\u001b[49m\n",
      "\u001b[0;31mKeyError\u001b[0m: 'x'"
     ]
    }
   ],
   "source": [
    "# what if I try to pop a key that doesn't exist?\n",
    "d.pop('x')"
   ]
  },
  {
   "cell_type": "code",
   "execution_count": 26,
   "id": "ba887387",
   "metadata": {},
   "outputs": [],
   "source": [
    "# what about here?\n",
    "\n",
    "d = {'a':10, 'b':20, 'c':30}\n",
    "\n",
    "# I want to add a number to d['b']\n",
    "\n",
    "d['b'] += 10   # this gets translated into d['b'] = d['b'] + 10"
   ]
  },
  {
   "cell_type": "code",
   "execution_count": 27,
   "id": "dc8da1be",
   "metadata": {},
   "outputs": [
    {
     "data": {
      "text/plain": [
       "{'a': 10, 'b': 30, 'c': 30}"
      ]
     },
     "execution_count": 27,
     "metadata": {},
     "output_type": "execute_result"
    }
   ],
   "source": [
    "d"
   ]
  },
  {
   "cell_type": "markdown",
   "id": "0e2cc434",
   "metadata": {},
   "source": [
    "# Three paradigms for dict use\n",
    "\n",
    "1. Define a dict, and use it as a read-only database in your program\n",
    "2. Define a dict with keys and empty/zero values, and update those values in the program -- but don't add new keys\n",
    "3. Define an empty dict, and add new keys over time, and update values, as well."
   ]
  },
  {
   "cell_type": "markdown",
   "id": "b3860843",
   "metadata": {},
   "source": [
    "# Exercise: Vowels, digits, and others (dict edition)\n",
    "\n",
    "1. Define a dict whose keys are `vowels`, `digits`, and `others`, and whose values are all 0.\n",
    "2. Ask the user, repeatedly, to enter a string.\n",
    "    - If the user enters an empty string, then stop asking.\n",
    "3. Go through each character in the string:\n",
    "    - If it's a vowel, then add 1 to the vowel count\n",
    "    - If it's a digit, then add 1 to the digit count\n",
    "    - If it's something else, then add 1 to the `others` count\n",
    "4. After exiting the loop, print the dict.\n",
    "\n",
    "Example:\n",
    "\n",
    "    Enter a string: hello\n",
    "    Enter a string: 12ab34\n",
    "    Enter a string: [ENTER]\n",
    "    {'vowels':3, 'digits':4, 'others':4}"
   ]
  },
  {
   "cell_type": "code",
   "execution_count": 28,
   "id": "8da3a94e",
   "metadata": {},
   "outputs": [
    {
     "name": "stdout",
     "output_type": "stream",
     "text": [
      "Enter a string: hello\n",
      "Enter a string: 12ab34\n",
      "Enter a string: \n",
      "{'vowels': 3, 'digits': 4, 'others': 4}\n"
     ]
    }
   ],
   "source": [
    "counts = {'vowels':0, \n",
    "          'digits':0,\n",
    "          'others':0}\n",
    "\n",
    "while True:\n",
    "    s = input('Enter a string: ').strip()\n",
    "    \n",
    "    if not s:   # if I got an empty string\n",
    "        break   # exit from the while loop\n",
    "        \n",
    "    for one_character in s.lower():\n",
    "        if one_character in 'aeiou':\n",
    "            counts['vowels'] += 1\n",
    "            \n",
    "        elif one_character.isdigit():\n",
    "            counts['digits'] += 1\n",
    "            \n",
    "        else:\n",
    "            counts['others'] += 1\n",
    "            \n",
    "print(counts)            "
   ]
  },
  {
   "cell_type": "code",
   "execution_count": 29,
   "id": "17fcb180",
   "metadata": {},
   "outputs": [
    {
     "data": {
      "text/plain": [
       "15"
      ]
     },
     "execution_count": 29,
     "metadata": {},
     "output_type": "execute_result"
    }
   ],
   "source": [
    "x = 10\n",
    "x += 5    # this is the same as saying x = x + 5\n",
    "x"
   ]
  },
  {
   "cell_type": "code",
   "execution_count": 30,
   "id": "846b4f45",
   "metadata": {},
   "outputs": [
    {
     "data": {
      "text/plain": [
       "5"
      ]
     },
     "execution_count": 30,
     "metadata": {},
     "output_type": "execute_result"
    }
   ],
   "source": [
    "x =+ 5    # what is this?  it's the same as saying x = + 5\n",
    "x"
   ]
  },
  {
   "cell_type": "code",
   "execution_count": 31,
   "id": "cdbfd9d8",
   "metadata": {},
   "outputs": [
    {
     "data": {
      "text/plain": [
       "4"
      ]
     },
     "execution_count": 31,
     "metadata": {},
     "output_type": "execute_result"
    }
   ],
   "source": [
    "# most math operators are \"binary\" -- they take two values/operands\n",
    "\n",
    "2 + 2    # on the left, we have a 2, and on the right, we have 2"
   ]
  },
  {
   "cell_type": "code",
   "execution_count": 32,
   "id": "ce23f198",
   "metadata": {},
   "outputs": [
    {
     "data": {
      "text/plain": [
       "-10"
      ]
     },
     "execution_count": 32,
     "metadata": {},
     "output_type": "execute_result"
    }
   ],
   "source": [
    "# there are some unary operators in Python.  One of them is \"unary minus\"\n",
    "\n",
    "x = 10\n",
    "-x    # this flips the sign on x, giving us -10"
   ]
  },
  {
   "cell_type": "code",
   "execution_count": 33,
   "id": "d8a5d6fe",
   "metadata": {},
   "outputs": [
    {
     "data": {
      "text/plain": [
       "10"
      ]
     },
     "execution_count": 33,
     "metadata": {},
     "output_type": "execute_result"
    }
   ],
   "source": [
    "x"
   ]
  },
  {
   "cell_type": "code",
   "execution_count": 34,
   "id": "70462653",
   "metadata": {},
   "outputs": [
    {
     "data": {
      "text/plain": [
       "5"
      ]
     },
     "execution_count": 34,
     "metadata": {},
     "output_type": "execute_result"
    }
   ],
   "source": [
    "# for reasons I have *NEVER* understood, most programming languages also offer \"unary +\"\n",
    "# which by definition does NOTHING\n",
    "\n",
    "x = + 5\n",
    "x"
   ]
  },
  {
   "cell_type": "code",
   "execution_count": 35,
   "id": "b6e35473",
   "metadata": {},
   "outputs": [],
   "source": [
    "# Fin's approach:\n",
    "\n",
    "total = [0, 0, 0]"
   ]
  },
  {
   "cell_type": "code",
   "execution_count": 36,
   "id": "b144b89e",
   "metadata": {},
   "outputs": [],
   "source": [
    "x = 100\n",
    "y = 200\n",
    "z = 300\n",
    "\n",
    "mylist = [x, y, z] # mylist contains three integers, *NOT* three references to the variables x, y, and z"
   ]
  },
  {
   "cell_type": "code",
   "execution_count": 37,
   "id": "0f99dfe5",
   "metadata": {},
   "outputs": [
    {
     "data": {
      "text/plain": [
       "[100, 200, 300]"
      ]
     },
     "execution_count": 37,
     "metadata": {},
     "output_type": "execute_result"
    }
   ],
   "source": [
    "mylist"
   ]
  },
  {
   "cell_type": "code",
   "execution_count": 38,
   "id": "c42b3c48",
   "metadata": {},
   "outputs": [],
   "source": [
    "mylist1 = [10, 20, 30]\n",
    "mylist2 = [100, 200, 300]\n",
    "\n",
    "biglist = [mylist1, mylist2]   # this actually does reference the list objects to which mylist1/mylist2 refer"
   ]
  },
  {
   "cell_type": "markdown",
   "id": "fb37d0af",
   "metadata": {},
   "source": [
    "# Dict keys + values\n",
    "\n",
    "The keys must be immutable.  The values can be anything!\n",
    "\n",
    "It's common for the values to be simple types, such as integers or strings.\n",
    "\n",
    "But they can also be:\n",
    "\n",
    "- Lists -- example, keys are directory names (strings), and the values are lists of strings (filenames in that directory)\n",
    "- Dicts -- this is a simple tree structure in Python -- example, keys are ID numbers and values are dicts describing people (first name, last name, etc.)\n",
    "- Other, more complex things\n",
    "\n"
   ]
  },
  {
   "cell_type": "markdown",
   "id": "3d843b30",
   "metadata": {},
   "source": [
    "# Iterating over dicts\n",
    "\n",
    "We've seen that we can use a `for` loop to iterate over the elements of a string (we get the characters) or a list/tuple (we get the elements).\n",
    "\n",
    "What happens if we iterate over a dict?"
   ]
  },
  {
   "cell_type": "code",
   "execution_count": 39,
   "id": "7c9c7612",
   "metadata": {},
   "outputs": [
    {
     "name": "stdout",
     "output_type": "stream",
     "text": [
      "a\n",
      "b\n",
      "c\n"
     ]
    }
   ],
   "source": [
    "d = {'a':10, 'b':20, 'c':30}\n",
    "\n",
    "for one_item in d:\n",
    "    print(one_item)"
   ]
  },
  {
   "cell_type": "code",
   "execution_count": 40,
   "id": "261547a9",
   "metadata": {},
   "outputs": [
    {
     "name": "stdout",
     "output_type": "stream",
     "text": [
      "a: 10\n",
      "b: 20\n",
      "c: 30\n"
     ]
    }
   ],
   "source": [
    "# can I use those keys to then print both keys and values? Of course!\n",
    "\n",
    "for one_key in d:\n",
    "    print(f'{one_key}: {d[one_key]}')"
   ]
  },
  {
   "cell_type": "code",
   "execution_count": 41,
   "id": "5b44282e",
   "metadata": {},
   "outputs": [
    {
     "data": {
      "text/plain": [
       "dict_keys(['a', 'b', 'c'])"
      ]
     },
     "execution_count": 41,
     "metadata": {},
     "output_type": "execute_result"
    }
   ],
   "source": [
    "# there are two methods that we can use to get d's keys and values\n",
    "\n",
    "# to get the keys, we can use d.keys()\n",
    "d.keys()"
   ]
  },
  {
   "cell_type": "code",
   "execution_count": 42,
   "id": "f43f9bea",
   "metadata": {},
   "outputs": [
    {
     "data": {
      "text/plain": [
       "dict_values([10, 20, 30])"
      ]
     },
     "execution_count": 42,
     "metadata": {},
     "output_type": "execute_result"
    }
   ],
   "source": [
    "# to get the values, we can use d.values()\n",
    "d.values()"
   ]
  },
  {
   "cell_type": "code",
   "execution_count": 43,
   "id": "0de365d9",
   "metadata": {},
   "outputs": [
    {
     "name": "stdout",
     "output_type": "stream",
     "text": [
      "a: 10\n",
      "b: 20\n",
      "c: 30\n"
     ]
    }
   ],
   "source": [
    "# NEVER EVER EVER iterate over d.keys()!\n",
    "# it'll work, but you shouldn't do it!\n",
    "\n",
    "for one_key in d.keys():\n",
    "    print(f'{one_key}: {d[one_key]}')"
   ]
  },
  {
   "cell_type": "code",
   "execution_count": 44,
   "id": "a0468af4",
   "metadata": {},
   "outputs": [
    {
     "name": "stdout",
     "output_type": "stream",
     "text": [
      "('a', 10)\n",
      "('b', 20)\n",
      "('c', 30)\n"
     ]
    }
   ],
   "source": [
    "# I don't want to have to reference d from inside of my for loop\n",
    "# can't I just get the keys and values with each iteration?\n",
    "\n",
    "# YES! with the .enumerate() method on dictionaries\n",
    "\n",
    "for one_item in d.items():  # it gives me a 2-element tuple with each iteration\n",
    "    print(one_item)"
   ]
  },
  {
   "cell_type": "code",
   "execution_count": 45,
   "id": "8728dfec",
   "metadata": {},
   "outputs": [
    {
     "name": "stdout",
     "output_type": "stream",
     "text": [
      "a: 10\n",
      "b: 20\n",
      "c: 30\n"
     ]
    }
   ],
   "source": [
    "# use unpacking to assign each tuple's elements to our variables, key and value\n",
    "for key, value in d.items():  \n",
    "    print(f'{key}: {value}')"
   ]
  },
  {
   "cell_type": "code",
   "execution_count": 46,
   "id": "7d90e680",
   "metadata": {},
   "outputs": [
    {
     "name": "stdout",
     "output_type": "stream",
     "text": [
      "('a', 10)\n",
      "('b', 20)\n",
      "('c', 30)\n"
     ]
    }
   ],
   "source": [
    "# if I use \"for x, y in THING\" -- that means each iteration over THING will give me a 2-element tuple\n",
    "# and I'm going to assign each element of that tuple to a separate variable.\n",
    "\n",
    "# it's shorthand for this:\n",
    "\n",
    "for one_item in d.items():\n",
    "    key, value = one_item   # unpacking -- assign the two elements of one_item to key + value\n",
    "    print(f'{key}:{value}')"
   ]
  },
  {
   "cell_type": "code",
   "execution_count": 47,
   "id": "abe27f46",
   "metadata": {},
   "outputs": [
    {
     "name": "stdout",
     "output_type": "stream",
     "text": [
      "Enter a key: a\n",
      "d[a] is 10\n",
      "Enter a key: b\n",
      "d[b] is 20\n",
      "Enter a key: c\n",
      "d[c] is 30\n",
      "Enter a key: x\n",
      "x is not a key in {'a': 10, 'b': 20, 'c': 30}\n",
      "Enter a key: \n"
     ]
    }
   ],
   "source": [
    "d = {'a':10, 'b':20, 'c':30}\n",
    "\n",
    "# I am going to let the user enter a key\n",
    "# - if we get an empty string, we'll stop\n",
    "# - if the user's input is a key in the dict, we'll print the key and value\n",
    "# - if the user's input is not a key in the dict, we'll print a default message\n",
    "\n",
    "while True:\n",
    "    k = input('Enter a key: ').strip()\n",
    "    \n",
    "    if not k:\n",
    "        break\n",
    "        \n",
    "    if k in d:\n",
    "        print(f'd[{k}] is {d[k]}')\n",
    "    else:\n",
    "        print(f'{k} is not a key in {d}')"
   ]
  },
  {
   "cell_type": "markdown",
   "id": "e9730000",
   "metadata": {},
   "source": [
    "The final four lines of that code -- the `if` and `else` -- repeat themselves in a lot of code.  We often want to say:\n",
    "\n",
    "- If the key exists, then give me the value\n",
    "- If the key does *not* exist, then don't blow up on me with a `KeyError`. Rather, return `None` or some default value.\n",
    "\n",
    "It turns out that there's a special method that does that, called `dict.get`.\n",
    "\n",
    "You can think of `dict.get` as a friendlier, more forgiving version of `[]` to retrieve a value via the key."
   ]
  },
  {
   "cell_type": "code",
   "execution_count": 48,
   "id": "fcda59c7",
   "metadata": {},
   "outputs": [
    {
     "data": {
      "text/plain": [
       "{'a': 10, 'b': 20, 'c': 30}"
      ]
     },
     "execution_count": 48,
     "metadata": {},
     "output_type": "execute_result"
    }
   ],
   "source": [
    "d"
   ]
  },
  {
   "cell_type": "code",
   "execution_count": 49,
   "id": "f6a98b80",
   "metadata": {},
   "outputs": [
    {
     "data": {
      "text/plain": [
       "10"
      ]
     },
     "execution_count": 49,
     "metadata": {},
     "output_type": "execute_result"
    }
   ],
   "source": [
    "d.get('a')  # if 'a' is a key, give me the value. If not, give me None"
   ]
  },
  {
   "cell_type": "code",
   "execution_count": 50,
   "id": "69b33877",
   "metadata": {},
   "outputs": [],
   "source": [
    "d.get('x')   # if 'x' is a key, give me the value. If not, give me None"
   ]
  },
  {
   "cell_type": "code",
   "execution_count": 51,
   "id": "fe908d78",
   "metadata": {},
   "outputs": [
    {
     "data": {
      "text/plain": [
       "5"
      ]
     },
     "execution_count": 51,
     "metadata": {},
     "output_type": "execute_result"
    }
   ],
   "source": [
    "# I can give dict.get a second, optional argument -- what to return if the key doesn't exist\n",
    "d.get('x', 5)"
   ]
  },
  {
   "cell_type": "code",
   "execution_count": 52,
   "id": "a7dde955",
   "metadata": {},
   "outputs": [
    {
     "data": {
      "text/plain": [
       "10"
      ]
     },
     "execution_count": 52,
     "metadata": {},
     "output_type": "execute_result"
    }
   ],
   "source": [
    "d.get('a', 5)  # 'a' is a key in d, so we'll get the value, not 5"
   ]
  },
  {
   "cell_type": "markdown",
   "id": "cf5bd9df",
   "metadata": {},
   "source": [
    "# Exercise: Rainfall\n",
    "\n",
    "1. Define an empty dict, `rainfall`.  It will be populated with city names (as keys, strings) and mm rain (as values, integers), and will grow over time. We don't know in advance what cities will be reported into our system.\n",
    "2. Ask the user, repeatedly, to enter a city name.\n",
    "    - If they enter an empty city name, break out of the loop.\n",
    "3. If we got a city name, ask the user to enter how many mm of rain.\n",
    "4. Check to see if we have seen this city before.\n",
    "    - If so, then add the new amount to the existing amount\n",
    "    - If not, then add the key-value pair to the dict\n",
    "5. After the user has entered an empty string for their city, print the cities and rainfall amounts nicely using a `for` loop.\n",
    "\n",
    "Example:\n",
    "\n",
    "    City: Jerusalem\n",
    "    Rain: 5\n",
    "    City: Tel Aviv\n",
    "    Rain: 3\n",
    "    City: Jerusalem\n",
    "    Rain: 2\n",
    "    City: [ENTER]\n",
    "    Jerusalem: 7\n",
    "    Tel Aviv: 3"
   ]
  },
  {
   "cell_type": "code",
   "execution_count": 57,
   "id": "05170375",
   "metadata": {},
   "outputs": [
    {
     "name": "stdout",
     "output_type": "stream",
     "text": [
      "Enter city name: a\n",
      "Enter rain: 5\n",
      "Enter city name: b\n",
      "Enter rain: 4\n",
      "Enter city name: c\n",
      "Enter rain: 3\n",
      "Enter city name: b\n",
      "Enter rain: 7\n",
      "Enter city name: c\n",
      "Enter rain: 2\n",
      "Enter city name: \n",
      "a: 5\n",
      "b: 11\n",
      "c: 5\n"
     ]
    }
   ],
   "source": [
    "rainfall = {}\n",
    "\n",
    "while True:\n",
    "    city_name = input('Enter city name: ').strip()\n",
    "    \n",
    "    if not city_name:   # if we get an empty string, then exit the while loop\n",
    "        break\n",
    "        \n",
    "    mm_rain = input('Enter rain: ').strip()\n",
    "    mm_rain = int(mm_rain)\n",
    "    \n",
    "#     if city_name in rainfall:\n",
    "#         rainfall[city_name] += mm_rain\n",
    "#     else:\n",
    "#         rainfall[city_name] = mm_rain\n",
    "\n",
    "    rainfall[city_name] = rainfall.get(city_name, 0) + mm_rain\n",
    "    \n",
    "for city_name, mm_rain in rainfall.items():\n",
    "    print(f'{city_name}: {mm_rain}')"
   ]
  },
  {
   "cell_type": "markdown",
   "id": "0777b779",
   "metadata": {},
   "source": [
    "# Next up\n",
    "\n",
    "1. How dictionaries work behind the scenes\n",
    "2. Sets\n",
    "\n",
    "Resume at :10"
   ]
  },
  {
   "cell_type": "markdown",
   "id": "3e608895",
   "metadata": {},
   "source": [
    "# Conditions and `while` loops\n",
    "\n",
    "A `while` loop checks it condition *once* per iteration, at the start.  If the condition is `True`, then the entire loop body is executed, and then we go back to the top where the condition is checked again."
   ]
  },
  {
   "cell_type": "code",
   "execution_count": 59,
   "id": "c404ea28",
   "metadata": {},
   "outputs": [
    {
     "ename": "SyntaxError",
     "evalue": "invalid non-printable character U+00A0 (2485050361.py, line 4)",
     "output_type": "error",
     "traceback": [
      "\u001b[0;36m  Cell \u001b[0;32mIn [59], line 4\u001b[0;36m\u001b[0m\n\u001b[0;31m    rainfall = input('Enter rainfall in mm: ').strip()\u001b[0m\n\u001b[0m    ^\u001b[0m\n\u001b[0;31mSyntaxError\u001b[0m\u001b[0;31m:\u001b[0m invalid non-printable character U+00A0\n"
     ]
    }
   ],
   "source": [
    "rainfall = ''\n",
    "\n",
    "while not rainfall.isdigit():\n",
    "    rainfall = input('Enter rainfall in mm: ').strip()\n",
    "    print(f'{rainfall} is not a valid number, enter a valid amount of rainfall in mm')"
   ]
  },
  {
   "cell_type": "code",
   "execution_count": 60,
   "id": "cb70ab2d",
   "metadata": {},
   "outputs": [
    {
     "name": "stdout",
     "output_type": "stream",
     "text": [
      "Enter rainfall in mm: 5\n",
      "5 is not a valid number, enter a valid amount of rainfall in mm\n"
     ]
    }
   ],
   "source": [
    "rainfall = ''\n",
    "\n",
    "while rainfall := input('Enter rainfall in mm: ').strip():\n",
    "    if not rainfall.isdigit():\n",
    "        print(f'{rainfall} is not a valid number, enter a valid amount of rainfall in mm')\n",
    "        break"
   ]
  },
  {
   "cell_type": "markdown",
   "id": "959917b4",
   "metadata": {},
   "source": [
    "# How dicts work\n",
    "\n",
    "Let's consider how lists work, and especially when we want to search in them, vs. how dicts work, and how we search in them!\n",
    "\n",
    "If we want to search for an item (using `in`) in a list, then we basically use a `for` loop, which is speed of `O(n)`. \n",
    "\n",
    "What happens when we search in a dictionary? (For a key only!)\n",
    "\n",
    "Using the data in order to know where it's stored is a common technique -- in dictionaries, we use a \"hash function\" in order to compute where something should be.\n",
    "\n",
    "In other words, when we define `d['a'] = 10`, Python looks at the key (`'a'`) and runs the hash function on it, which gives us a number back. This number looks random, and has nothing to do with what `'b'` will give us, but it's deterministic -- `'a'` will always give the same value back. This value is used to stick the key-value pair in a known place in memory.\n",
    "\n",
    "Then, when I retrieve `'a'`, it runs the hash function again, goes to that block of memory, and retrieves our value.\n",
    "\n",
    "If I want to search, then it goes to that block of memory and returns `True` if it's there.\n",
    "\n",
    "This is known in CS circles as O(1) -- constant time. It doesn't matter how many key-value pairs you have in your dictionary! It'll still take the same amount of time "
   ]
  },
  {
   "cell_type": "code",
   "execution_count": null,
   "id": "f805fc11",
   "metadata": {},
   "outputs": [],
   "source": []
  }
 ],
 "metadata": {
  "kernelspec": {
   "display_name": "Python 3 (ipykernel)",
   "language": "python",
   "name": "python3"
  },
  "language_info": {
   "codemirror_mode": {
    "name": "ipython",
    "version": 3
   },
   "file_extension": ".py",
   "mimetype": "text/x-python",
   "name": "python",
   "nbconvert_exporter": "python",
   "pygments_lexer": "ipython3",
   "version": "3.11.2"
  }
 },
 "nbformat": 4,
 "nbformat_minor": 5
}
