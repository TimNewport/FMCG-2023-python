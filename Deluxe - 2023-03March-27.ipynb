{
 "cells": [
  {
   "cell_type": "markdown",
   "id": "7441f43e",
   "metadata": {},
   "source": [
    "# Agenda\n",
    "\n",
    "1. Dictionaries\n",
    "2. Sets"
   ]
  },
  {
   "cell_type": "markdown",
   "id": "8e7b8cc7",
   "metadata": {},
   "source": [
    "# Assignment and mutable data -- and trying not to get confused!\n",
    "\n"
   ]
  },
  {
   "cell_type": "code",
   "execution_count": 3,
   "id": "70bdabd2",
   "metadata": {},
   "outputs": [],
   "source": [
    "# let's start with strings\n",
    "\n",
    "x = 'abcd'\n",
    "y = x        # this means: Get the object that x refers to, and have y refer to it, also (a 2nd reference to it)\n",
    "\n",
    "# strings are immutable -- so we can't modify it, and thus any \"changes\" we make really result\n",
    "# in a new string being created"
   ]
  },
  {
   "cell_type": "code",
   "execution_count": 4,
   "id": "16b20993",
   "metadata": {},
   "outputs": [
    {
     "data": {
      "text/plain": [
       "'ABCD'"
      ]
     },
     "execution_count": 4,
     "metadata": {},
     "output_type": "execute_result"
    }
   ],
   "source": [
    "x.upper()   # this returns a new string, not affecting x... so it doesn't affect y, either"
   ]
  },
  {
   "cell_type": "code",
   "execution_count": 5,
   "id": "06fa6ba1",
   "metadata": {},
   "outputs": [
    {
     "data": {
      "text/plain": [
       "'abcd'"
      ]
     },
     "execution_count": 5,
     "metadata": {},
     "output_type": "execute_result"
    }
   ],
   "source": [
    "y"
   ]
  },
  {
   "cell_type": "code",
   "execution_count": null,
   "id": "8f6e399d",
   "metadata": {},
   "outputs": [],
   "source": [
    "# immutable data doesn't have to worry us in this way\n",
    "\n",
    "# if I have a list, though...\n",
    "\n",
    "x = [10, 20, 30]\n",
    "y = x             # get the value of x\n"
   ]
  }
 ],
 "metadata": {
  "kernelspec": {
   "display_name": "Python 3 (ipykernel)",
   "language": "python",
   "name": "python3"
  },
  "language_info": {
   "codemirror_mode": {
    "name": "ipython",
    "version": 3
   },
   "file_extension": ".py",
   "mimetype": "text/x-python",
   "name": "python",
   "nbconvert_exporter": "python",
   "pygments_lexer": "ipython3",
   "version": "3.11.2"
  }
 },
 "nbformat": 4,
 "nbformat_minor": 5
}
