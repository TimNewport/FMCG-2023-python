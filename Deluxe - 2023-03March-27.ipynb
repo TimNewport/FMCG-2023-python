{
 "cells": [
  {
   "cell_type": "markdown",
   "id": "7441f43e",
   "metadata": {},
   "source": [
    "# Agenda\n",
    "\n",
    "1. Dictionaries\n",
    "2. Sets"
   ]
  },
  {
   "cell_type": "markdown",
   "id": "4ce6f7d5",
   "metadata": {},
   "source": [
    "# Assignment and mutable data -- and trying not to get confused!\n",
    "\n"
   ]
  },
  {
   "cell_type": "code",
   "execution_count": 3,
   "id": "d0851ee2",
   "metadata": {},
   "outputs": [],
   "source": [
    "# let's start with strings\n",
    "\n",
    "x = 'abcd'\n",
    "y = x        # this means: Get the object that x refers to, and have y refer to it, also (a 2nd reference to it)\n",
    "\n",
    "# strings are immutable -- so we can't modify it, and thus any \"changes\" we make really result\n",
    "# in a new string being created"
   ]
  },
  {
   "cell_type": "code",
   "execution_count": 4,
   "id": "7f759663",
   "metadata": {},
   "outputs": [
    {
     "data": {
      "text/plain": [
       "'ABCD'"
      ]
     },
     "execution_count": 4,
     "metadata": {},
     "output_type": "execute_result"
    }
   ],
   "source": [
    "x.upper()   # this returns a new string, not affecting x... so it doesn't affect y, either"
   ]
  },
  {
   "cell_type": "code",
   "execution_count": 5,
   "id": "b41a5003",
   "metadata": {},
   "outputs": [
    {
     "data": {
      "text/plain": [
       "'abcd'"
      ]
     },
     "execution_count": 5,
     "metadata": {},
     "output_type": "execute_result"
    }
   ],
   "source": [
    "y"
   ]
  },
  {
   "cell_type": "code",
   "execution_count": 6,
   "id": "e77725b3",
   "metadata": {},
   "outputs": [
    {
     "data": {
      "text/plain": [
       "[10, 20, 30, 40]"
      ]
     },
     "execution_count": 6,
     "metadata": {},
     "output_type": "execute_result"
    }
   ],
   "source": [
    "# immutable data doesn't have to worry us in this way\n",
    "\n",
    "# if I have a list, though...\n",
    "\n",
    "x = [10, 20, 30]\n",
    "y = x             # get the value of x, that list, and have y refer to it\n",
    "\n",
    "# if we modify the list that x refers to, then we're also modifying the list that y refers to\n",
    "\n",
    "x.append(40)   # this doesn't return a new list -- it modifies the list itself\n",
    "x\n"
   ]
  },
  {
   "cell_type": "code",
   "execution_count": 7,
   "id": "94da665c",
   "metadata": {},
   "outputs": [
    {
     "data": {
      "text/plain": [
       "[10, 20, 30, 40]"
      ]
     },
     "execution_count": 7,
     "metadata": {},
     "output_type": "execute_result"
    }
   ],
   "source": [
    "# what is y?\n",
    "y"
   ]
  },
  {
   "cell_type": "code",
   "execution_count": 8,
   "id": "b1285848",
   "metadata": {},
   "outputs": [],
   "source": [
    "# how, then, can we get a new list that won't do this?\n",
    "# the easiest way is to use the .copy() method\n",
    "\n",
    "x = [10, 20, 30]\n",
    "y = x.copy()   # this creates a new list, based on x, and has y refer to that"
   ]
  },
  {
   "cell_type": "code",
   "execution_count": 9,
   "id": "f4cd43d2",
   "metadata": {},
   "outputs": [
    {
     "data": {
      "text/plain": [
       "True"
      ]
     },
     "execution_count": 9,
     "metadata": {},
     "output_type": "execute_result"
    }
   ],
   "source": [
    "x == y    # they are now equal in value -- both lists, both with [10, 20, 30]"
   ]
  },
  {
   "cell_type": "code",
   "execution_count": 10,
   "id": "b21ffb86",
   "metadata": {},
   "outputs": [],
   "source": [
    "# but they are distinct objects\n",
    "x.append(40)\n",
    "y.append(50)"
   ]
  },
  {
   "cell_type": "code",
   "execution_count": 11,
   "id": "779ad47e",
   "metadata": {},
   "outputs": [
    {
     "data": {
      "text/plain": [
       "[10, 20, 30, 40]"
      ]
     },
     "execution_count": 11,
     "metadata": {},
     "output_type": "execute_result"
    }
   ],
   "source": [
    "x"
   ]
  },
  {
   "cell_type": "code",
   "execution_count": 12,
   "id": "dfb0c4bb",
   "metadata": {},
   "outputs": [
    {
     "data": {
      "text/plain": [
       "[10, 20, 30, 50]"
      ]
     },
     "execution_count": 12,
     "metadata": {},
     "output_type": "execute_result"
    }
   ],
   "source": [
    "y"
   ]
  },
  {
   "cell_type": "markdown",
   "id": "97dc4c4b",
   "metadata": {},
   "source": [
    "# Recap of lists \n",
    "\n",
    "1. We can store anything in our lists\n",
    "2. The index in a list starts at 0, and goes up to `len(the_list) - 1`. So if there are 10 items in the list, then the indexes will be 0 - 9.\n",
    "3. I can search in a list using the `in` operator, which returns `True` or `False`.\n",
    "\n",
    "What if I have a really long list, with 1,000 items in it?  And then I want to use `in` to search inside of it. How long will that take?\n",
    "\n",
    "In CS world, we call that `O(n)`, meaning that the longer the list is, the longer (on average) it'll take to find something.\n",
    "\n",
    "The other issue that we might have with lists is that the index is ... boring and non-descriptive. If I have a list of information about a person (and I might want to use a tuple instead, I admit) then using indexes 0, 1, 2, 3, etc. is not going to be very obvious to the next developer who has to work on my code.\n",
    "\n",
    "Dictionaries fix both of these problems."
   ]
  },
  {
   "cell_type": "markdown",
   "id": "929990a2",
   "metadata": {},
   "source": [
    "# Dictionaries (`dict`)\n",
    "\n",
    "Dictionaries are not unique to Python; they are also known by many other names in many other languages:\n",
    "\n",
    "- Hash tables\n",
    "- Hashes\n",
    "- Hash maps\n",
    "- Associative arrays\n",
    "- Key-value stores\n",
    "- Name-value stores\n",
    "\n",
    "The basic idea of a dictionary is that we can store pairs of data: The keys (which are the dict version of an index) can be any immutable type (usually numbers or strings). The values can be absolutely anything at all.\n",
    "\n",
    "In other words, it's kind of like a list, except that our index can be strings, which makes things way, way clearer and easier to work with.\n",
    "\n",
    "Some other things to keep in mind:\n",
    "\n",
    "- A dict is measured in *pairs*. There is no such thing as a key without a value, or a value without a key.\n",
    "- The keys must be unique. Just as a list has only one item at index 5, so too does a dict have only one item with a key `'x'` (if it's there at all).\n",
    "- We'll create dicts with `{}`, separating pairs with `,` (like a list or tuple) and separating the key from the value with `:` (colon)."
   ]
  },
  {
   "cell_type": "code",
   "execution_count": 13,
   "id": "9d3ceb3d",
   "metadata": {},
   "outputs": [],
   "source": [
    "d = {'a':10, 'b':20, 'c':30}   # here is a dict with three key-value pairs"
   ]
  },
  {
   "cell_type": "code",
   "execution_count": 14,
   "id": "44e3d73a",
   "metadata": {},
   "outputs": [
    {
     "data": {
      "text/plain": [
       "3"
      ]
     },
     "execution_count": 14,
     "metadata": {},
     "output_type": "execute_result"
    }
   ],
   "source": [
    "len(d)  #  what's its length?"
   ]
  },
  {
   "cell_type": "code",
   "execution_count": 15,
   "id": "b1d1a6e0",
   "metadata": {},
   "outputs": [
    {
     "data": {
      "text/plain": [
       "10"
      ]
     },
     "execution_count": 15,
     "metadata": {},
     "output_type": "execute_result"
    }
   ],
   "source": [
    "# let's retrieve the value associated with the key 'a'\n",
    "\n",
    "d['a']"
   ]
  },
  {
   "cell_type": "code",
   "execution_count": 16,
   "id": "bc74f53e",
   "metadata": {},
   "outputs": [
    {
     "ename": "KeyError",
     "evalue": "'A'",
     "output_type": "error",
     "traceback": [
      "\u001b[0;31m---------------------------------------------------------------------------\u001b[0m",
      "\u001b[0;31mKeyError\u001b[0m                                  Traceback (most recent call last)",
      "Cell \u001b[0;32mIn [16], line 1\u001b[0m\n\u001b[0;32m----> 1\u001b[0m \u001b[43md\u001b[49m\u001b[43m[\u001b[49m\u001b[38;5;124;43m'\u001b[39;49m\u001b[38;5;124;43mA\u001b[39;49m\u001b[38;5;124;43m'\u001b[39;49m\u001b[43m]\u001b[49m   \u001b[38;5;66;03m# will this work?\u001b[39;00m\n",
      "\u001b[0;31mKeyError\u001b[0m: 'A'"
     ]
    }
   ],
   "source": [
    "d['A']   # will this work?"
   ]
  },
  {
   "cell_type": "code",
   "execution_count": 17,
   "id": "b5445016",
   "metadata": {},
   "outputs": [
    {
     "ename": "KeyError",
     "evalue": "' a'",
     "output_type": "error",
     "traceback": [
      "\u001b[0;31m---------------------------------------------------------------------------\u001b[0m",
      "\u001b[0;31mKeyError\u001b[0m                                  Traceback (most recent call last)",
      "Cell \u001b[0;32mIn [17], line 1\u001b[0m\n\u001b[0;32m----> 1\u001b[0m \u001b[43md\u001b[49m\u001b[43m[\u001b[49m\u001b[38;5;124;43m'\u001b[39;49m\u001b[38;5;124;43m a\u001b[39;49m\u001b[38;5;124;43m'\u001b[39;49m\u001b[43m]\u001b[49m   \u001b[38;5;66;03m# will this work?\u001b[39;00m\n",
      "\u001b[0;31mKeyError\u001b[0m: ' a'"
     ]
    }
   ],
   "source": [
    "d[' a']   # will this work?"
   ]
  },
  {
   "cell_type": "code",
   "execution_count": 18,
   "id": "e2769611",
   "metadata": {},
   "outputs": [
    {
     "data": {
      "text/plain": [
       "True"
      ]
     },
     "execution_count": 18,
     "metadata": {},
     "output_type": "execute_result"
    }
   ],
   "source": [
    "# can I search in my dict to know if a key is there?\n",
    "# yes -- I can use the \"in\" operator!\n",
    "\n",
    "'a' in d   # is 'a' a key in the dict d?"
   ]
  },
  {
   "cell_type": "code",
   "execution_count": 19,
   "id": "47719b90",
   "metadata": {},
   "outputs": [
    {
     "data": {
      "text/plain": [
       "False"
      ]
     },
     "execution_count": 19,
     "metadata": {},
     "output_type": "execute_result"
    }
   ],
   "source": [
    "'x' in d  # is 'x' a key in d?"
   ]
  },
  {
   "cell_type": "markdown",
   "id": "a7cbf52f",
   "metadata": {},
   "source": [
    "# Where do we use dictionaries?\n",
    "\n",
    "*EVERYWHERE*. Python itself is implemented largely in dictionaries:\n",
    "\n",
    "- All of our variables are actually keys in a dict, and their values are values in a dict\n",
    "- All of our object's attributes (the things that come after a `.`) are actually keys in a dict, and the attribute values are values in a dict\n",
    "- Every module is a dictionary\n",
    "\n",
    "## Real-world examples\n",
    "\n",
    "- Keys are usernames, and values are tuples of info about users\n",
    "- Keys are directory names, and values are lists of filenames in the directory\n",
    "- Keys are network identifiers, and values are computers on that network\n",
    "- Keys are month names and values are month numbers\n",
    "- Keys are month numbers and values are month names\n",
    "\n",
    "Dictionaries are one-way streets -- you can get a value via the key, but you cannot get the key via the value (without a bit of work).\n",
    "\n",
    "Keys must be unique, but values don't have to be."
   ]
  },
  {
   "cell_type": "markdown",
   "id": "843ed510",
   "metadata": {},
   "source": [
    "# Exercise: Restaurant\n",
    "\n",
    "1. Define a dict, called `menu`, in which the items on a restaurant menu are the keys (strings), and the values will be integers (the prices).\n",
    "2. Define `total` to be 0.\n",
    "3. Ask the user, repeatedly, to indicate what they want to order.\n",
    "    - If they enter the empty string, then exit from the loop and print the total.\n",
    "    - If they enter the name of something on the menu, then tell them the price and new total\n",
    "    - If they enter the name of something *not* on the menu, then scold them (gently) and let them try again\n",
    "4. Print the total\n",
    "\n",
    "Example:\n",
    "\n",
    "    Order: sandwich\n",
    "    sandwich is 15, total is 15\n",
    "    Order: tea\n",
    "    tea is 8, total is 23\n",
    "    Order: elephant\n",
    "    we are fresh out of elephant today\n",
    "    Order: [ENTER]\n",
    "    total is 23\n",
    "    "
   ]
  },
  {
   "cell_type": "code",
   "execution_count": 20,
   "id": "768337bf",
   "metadata": {},
   "outputs": [
    {
     "name": "stdout",
     "output_type": "stream",
     "text": [
      "Order: sandwich\n",
      "sandwich is 15, total is now 15\n",
      "Order: tea\n",
      "tea is 8, total is now 23\n",
      "Order: apple\n",
      "apple is 3, total is now 26\n",
      "Order: something else\n",
      "We are out of something else today!\n",
      "Order: \n",
      "total = 26\n"
     ]
    }
   ],
   "source": [
    "menu = {'sandwich':15, 'tea':8, 'apple':3, 'cake':12}\n",
    "\n",
    "total = 0\n",
    "\n",
    "while True:\n",
    "    s = input('Order: ').strip()\n",
    "    \n",
    "    if not s:   # did we get an empty string from the user?\n",
    "        break   # if so, we'll break out of the while loop\n",
    "        \n",
    "    if s in menu:   # if s is a key in our \"menu\" dict\n",
    "        price = menu[s]\n",
    "        total += price\n",
    "        print(f'{s} is {price}, total is now {total}')\n",
    "    else:\n",
    "        print(f'We are out of {s} today!')\n",
    "        \n",
    "print(f'total = {total}')        "
   ]
  },
  {
   "cell_type": "markdown",
   "id": "e0f9b45a",
   "metadata": {},
   "source": [
    "# Dictionaries are mutable!\n",
    "\n",
    "We can:\n",
    "- Update the value associated with a key\n",
    "- Add a new key-value pair\n",
    "- Remove a key-value pair"
   ]
  },
  {
   "cell_type": "code",
   "execution_count": 21,
   "id": "6657975a",
   "metadata": {},
   "outputs": [
    {
     "data": {
      "text/plain": [
       "{'a': 10, 'b': 20, 'c': 999}"
      ]
     },
     "execution_count": 21,
     "metadata": {},
     "output_type": "execute_result"
    }
   ],
   "source": [
    "d = {'a':10, 'b':20, 'c':30}\n",
    "\n",
    "# I want to update the value associated with 'c'\n",
    "d['c'] = 999    # that's it -- we just assign!\n",
    "\n",
    "d"
   ]
  },
  {
   "cell_type": "code",
   "execution_count": 22,
   "id": "9d8a3298",
   "metadata": {},
   "outputs": [
    {
     "data": {
      "text/plain": [
       "{'a': 10, 'b': 20, 'c': 999, 'x': 543}"
      ]
     },
     "execution_count": 22,
     "metadata": {},
     "output_type": "execute_result"
    }
   ],
   "source": [
    "# I want to add a new key-value pair, 'x':543\n",
    "# there is no equivalent to append with dicts\n",
    "# rather, I just assign!\n",
    "\n",
    "d['x'] = 543    # same syntax as updating a value!\n",
    "\n",
    "d"
   ]
  },
  {
   "cell_type": "code",
   "execution_count": 23,
   "id": "f25ec329",
   "metadata": {},
   "outputs": [
    {
     "data": {
      "text/plain": [
       "543"
      ]
     },
     "execution_count": 23,
     "metadata": {},
     "output_type": "execute_result"
    }
   ],
   "source": [
    "# in my experience, it's kind of rare to remove a key-value pair from a dict\n",
    "# but you can do it with the \"pop\" method. Give it the key, and it returns\n",
    "# the value, and also removes that key-value pair from the dict\n",
    "\n",
    "d.pop('x')"
   ]
  },
  {
   "cell_type": "code",
   "execution_count": 24,
   "id": "6cce73ed",
   "metadata": {},
   "outputs": [
    {
     "data": {
      "text/plain": [
       "{'a': 10, 'b': 20, 'c': 999}"
      ]
     },
     "execution_count": 24,
     "metadata": {},
     "output_type": "execute_result"
    }
   ],
   "source": [
    "d"
   ]
  },
  {
   "cell_type": "code",
   "execution_count": 25,
   "id": "3f918e8a",
   "metadata": {},
   "outputs": [
    {
     "ename": "KeyError",
     "evalue": "'x'",
     "output_type": "error",
     "traceback": [
      "\u001b[0;31m---------------------------------------------------------------------------\u001b[0m",
      "\u001b[0;31mKeyError\u001b[0m                                  Traceback (most recent call last)",
      "Cell \u001b[0;32mIn [25], line 2\u001b[0m\n\u001b[1;32m      1\u001b[0m \u001b[38;5;66;03m# what if I try to pop a key that doesn't exist?\u001b[39;00m\n\u001b[0;32m----> 2\u001b[0m \u001b[43md\u001b[49m\u001b[38;5;241;43m.\u001b[39;49m\u001b[43mpop\u001b[49m\u001b[43m(\u001b[49m\u001b[38;5;124;43m'\u001b[39;49m\u001b[38;5;124;43mx\u001b[39;49m\u001b[38;5;124;43m'\u001b[39;49m\u001b[43m)\u001b[49m\n",
      "\u001b[0;31mKeyError\u001b[0m: 'x'"
     ]
    }
   ],
   "source": [
    "# what if I try to pop a key that doesn't exist?\n",
    "d.pop('x')"
   ]
  },
  {
   "cell_type": "code",
   "execution_count": 26,
   "id": "bd3debe0",
   "metadata": {},
   "outputs": [],
   "source": [
    "# what about here?\n",
    "\n",
    "d = {'a':10, 'b':20, 'c':30}\n",
    "\n",
    "# I want to add a number to d['b']\n",
    "\n",
    "d['b'] += 10   # this gets translated into d['b'] = d['b'] + 10"
   ]
  },
  {
   "cell_type": "code",
   "execution_count": 27,
   "id": "9fc102ec",
   "metadata": {},
   "outputs": [
    {
     "data": {
      "text/plain": [
       "{'a': 10, 'b': 30, 'c': 30}"
      ]
     },
     "execution_count": 27,
     "metadata": {},
     "output_type": "execute_result"
    }
   ],
   "source": [
    "d"
   ]
  },
  {
   "cell_type": "markdown",
   "id": "a0e18cbf",
   "metadata": {},
   "source": [
    "# Three paradigms for dict use\n",
    "\n",
    "1. Define a dict, and use it as a read-only database in your program\n",
    "2. Define a dict with keys and empty/zero values, and update those values in the program -- but don't add new keys\n",
    "3. Define an empty dict, and add new keys over time, and update values, as well."
   ]
  },
  {
   "cell_type": "markdown",
   "id": "3066f6f8",
   "metadata": {},
   "source": [
    "# Exercise: Vowels, digits, and others (dict edition)\n",
    "\n",
    "1. Define a dict whose keys are `vowels`, `digits`, and `others`, and whose values are all 0.\n",
    "2. Ask the user, repeatedly, to enter a string.\n",
    "    - If the user enters an empty string, then stop asking.\n",
    "3. Go through each character in the string:\n",
    "    - If it's a vowel, then add 1 to the vowel count\n",
    "    - If it's a digit, then add 1 to the digit count\n",
    "    - If it's something else, then add 1 to the `others` count\n",
    "4. After exiting the loop, print the dict.\n",
    "\n",
    "Example:\n",
    "\n",
    "    Enter a string: hello\n",
    "    Enter a string: 12ab34\n",
    "    Enter a string: [ENTER]\n",
    "    {'vowels':3, 'digits':4, 'others':4}"
   ]
  },
  {
   "cell_type": "code",
   "execution_count": 28,
   "id": "9dc72827",
   "metadata": {},
   "outputs": [
    {
     "name": "stdout",
     "output_type": "stream",
     "text": [
      "Enter a string: hello\n",
      "Enter a string: 12ab34\n",
      "Enter a string: \n",
      "{'vowels': 3, 'digits': 4, 'others': 4}\n"
     ]
    }
   ],
   "source": [
    "counts = {'vowels':0, \n",
    "          'digits':0,\n",
    "          'others':0}\n",
    "\n",
    "while True:\n",
    "    s = input('Enter a string: ').strip()\n",
    "    \n",
    "    if not s:   # if I got an empty string\n",
    "        break   # exit from the while loop\n",
    "        \n",
    "    for one_character in s.lower():\n",
    "        if one_character in 'aeiou':\n",
    "            counts['vowels'] += 1\n",
    "            \n",
    "        elif one_character.isdigit():\n",
    "            counts['digits'] += 1\n",
    "            \n",
    "        else:\n",
    "            counts['others'] += 1\n",
    "            \n",
    "print(counts)            "
   ]
  },
  {
   "cell_type": "code",
   "execution_count": 29,
   "id": "34d3b32c",
   "metadata": {},
   "outputs": [
    {
     "data": {
      "text/plain": [
       "15"
      ]
     },
     "execution_count": 29,
     "metadata": {},
     "output_type": "execute_result"
    }
   ],
   "source": [
    "x = 10\n",
    "x += 5    # this is the same as saying x = x + 5\n",
    "x"
   ]
  },
  {
   "cell_type": "code",
   "execution_count": 30,
   "id": "da5fbf30",
   "metadata": {},
   "outputs": [
    {
     "data": {
      "text/plain": [
       "5"
      ]
     },
     "execution_count": 30,
     "metadata": {},
     "output_type": "execute_result"
    }
   ],
   "source": [
    "x =+ 5    # what is this?  it's the same as saying x = + 5\n",
    "x"
   ]
  },
  {
   "cell_type": "code",
   "execution_count": 31,
   "id": "93c52a38",
   "metadata": {},
   "outputs": [
    {
     "data": {
      "text/plain": [
       "4"
      ]
     },
     "execution_count": 31,
     "metadata": {},
     "output_type": "execute_result"
    }
   ],
   "source": [
    "# most math operators are \"binary\" -- they take two values/operands\n",
    "\n",
    "2 + 2    # on the left, we have a 2, and on the right, we have 2"
   ]
  },
  {
   "cell_type": "code",
   "execution_count": 32,
   "id": "a799a089",
   "metadata": {},
   "outputs": [
    {
     "data": {
      "text/plain": [
       "-10"
      ]
     },
     "execution_count": 32,
     "metadata": {},
     "output_type": "execute_result"
    }
   ],
   "source": [
    "# there are some unary operators in Python.  One of them is \"unary minus\"\n",
    "\n",
    "x = 10\n",
    "-x    # this flips the sign on x, giving us -10"
   ]
  },
  {
   "cell_type": "code",
   "execution_count": 33,
   "id": "200be53a",
   "metadata": {},
   "outputs": [
    {
     "data": {
      "text/plain": [
       "10"
      ]
     },
     "execution_count": 33,
     "metadata": {},
     "output_type": "execute_result"
    }
   ],
   "source": [
    "x"
   ]
  },
  {
   "cell_type": "code",
   "execution_count": 34,
   "id": "8f51cd32",
   "metadata": {},
   "outputs": [
    {
     "data": {
      "text/plain": [
       "5"
      ]
     },
     "execution_count": 34,
     "metadata": {},
     "output_type": "execute_result"
    }
   ],
   "source": [
    "# for reasons I have *NEVER* understood, most programming languages also offer \"unary +\"\n",
    "# which by definition does NOTHING\n",
    "\n",
    "x = + 5\n",
    "x"
   ]
  },
  {
   "cell_type": "code",
   "execution_count": 35,
   "id": "2f3ec68b",
   "metadata": {},
   "outputs": [],
   "source": [
    "# Fin's approach:\n",
    "\n",
    "total = [0, 0, 0]"
   ]
  },
  {
   "cell_type": "code",
   "execution_count": 36,
   "id": "d6c2a450",
   "metadata": {},
   "outputs": [],
   "source": [
    "x = 100\n",
    "y = 200\n",
    "z = 300\n",
    "\n",
    "mylist = [x, y, z] # mylist contains three integers, *NOT* three references to the variables x, y, and z"
   ]
  },
  {
   "cell_type": "code",
   "execution_count": 37,
   "id": "9b634229",
   "metadata": {},
   "outputs": [
    {
     "data": {
      "text/plain": [
       "[100, 200, 300]"
      ]
     },
     "execution_count": 37,
     "metadata": {},
     "output_type": "execute_result"
    }
   ],
   "source": [
    "mylist"
   ]
  },
  {
   "cell_type": "code",
   "execution_count": 38,
   "id": "01b7ba93",
   "metadata": {},
   "outputs": [],
   "source": [
    "mylist1 = [10, 20, 30]\n",
    "mylist2 = [100, 200, 300]\n",
    "\n",
    "biglist = [mylist1, mylist2]   # this actually does reference the list objects to which mylist1/mylist2 refer"
   ]
  },
  {
   "cell_type": "markdown",
   "id": "be331790",
   "metadata": {},
   "source": [
    "# Dict keys + values\n",
    "\n",
    "The keys must be immutable.  The values can be anything!\n",
    "\n",
    "It's common for the values to be simple types, such as integers or strings.\n",
    "\n",
    "But they can also be:\n",
    "\n",
    "- Lists -- example, keys are directory names (strings), and the values are lists of strings (filenames in that directory)\n",
    "- Dicts -- this is a simple tree structure in Python -- example, keys are ID numbers and values are dicts describing people (first name, last name, etc.)\n",
    "- Other, more complex things\n",
    "\n"
   ]
  },
  {
   "cell_type": "markdown",
   "id": "830b0fcf",
   "metadata": {},
   "source": [
    "# Iterating over dicts\n",
    "\n",
    "We've seen that we can use a `for` loop to iterate over the elements of a string (we get the characters) or a list/tuple (we get the elements).\n",
    "\n",
    "What happens if we iterate over a dict?"
   ]
  },
  {
   "cell_type": "code",
   "execution_count": 39,
   "id": "86db62bd",
   "metadata": {},
   "outputs": [
    {
     "name": "stdout",
     "output_type": "stream",
     "text": [
      "a\n",
      "b\n",
      "c\n"
     ]
    }
   ],
   "source": [
    "d = {'a':10, 'b':20, 'c':30}\n",
    "\n",
    "for one_item in d:\n",
    "    print(one_item)"
   ]
  },
  {
   "cell_type": "code",
   "execution_count": 40,
   "id": "f4ca06b2",
   "metadata": {},
   "outputs": [
    {
     "name": "stdout",
     "output_type": "stream",
     "text": [
      "a: 10\n",
      "b: 20\n",
      "c: 30\n"
     ]
    }
   ],
   "source": [
    "# can I use those keys to then print both keys and values? Of course!\n",
    "\n",
    "for one_key in d:\n",
    "    print(f'{one_key}: {d[one_key]}')"
   ]
  },
  {
   "cell_type": "code",
   "execution_count": 41,
   "id": "e20cc647",
   "metadata": {},
   "outputs": [
    {
     "data": {
      "text/plain": [
       "dict_keys(['a', 'b', 'c'])"
      ]
     },
     "execution_count": 41,
     "metadata": {},
     "output_type": "execute_result"
    }
   ],
   "source": [
    "# there are two methods that we can use to get d's keys and values\n",
    "\n",
    "# to get the keys, we can use d.keys()\n",
    "d.keys()"
   ]
  },
  {
   "cell_type": "code",
   "execution_count": 42,
   "id": "6cda4dae",
   "metadata": {},
   "outputs": [
    {
     "data": {
      "text/plain": [
       "dict_values([10, 20, 30])"
      ]
     },
     "execution_count": 42,
     "metadata": {},
     "output_type": "execute_result"
    }
   ],
   "source": [
    "# to get the values, we can use d.values()\n",
    "d.values()"
   ]
  },
  {
   "cell_type": "code",
   "execution_count": 43,
   "id": "ecf3cfc3",
   "metadata": {},
   "outputs": [
    {
     "name": "stdout",
     "output_type": "stream",
     "text": [
      "a: 10\n",
      "b: 20\n",
      "c: 30\n"
     ]
    }
   ],
   "source": [
    "# NEVER EVER EVER iterate over d.keys()!\n",
    "# it'll work, but you shouldn't do it!\n",
    "\n",
    "for one_key in d.keys():\n",
    "    print(f'{one_key}: {d[one_key]}')"
   ]
  },
  {
   "cell_type": "code",
   "execution_count": 44,
   "id": "9b2e61ad",
   "metadata": {},
   "outputs": [
    {
     "name": "stdout",
     "output_type": "stream",
     "text": [
      "('a', 10)\n",
      "('b', 20)\n",
      "('c', 30)\n"
     ]
    }
   ],
   "source": [
    "# I don't want to have to reference d from inside of my for loop\n",
    "# can't I just get the keys and values with each iteration?\n",
    "\n",
    "# YES! with the .enumerate() method on dictionaries\n",
    "\n",
    "for one_item in d.items():  # it gives me a 2-element tuple with each iteration\n",
    "    print(one_item)"
   ]
  },
  {
   "cell_type": "code",
   "execution_count": 45,
   "id": "2bb7004c",
   "metadata": {},
   "outputs": [
    {
     "name": "stdout",
     "output_type": "stream",
     "text": [
      "a: 10\n",
      "b: 20\n",
      "c: 30\n"
     ]
    }
   ],
   "source": [
    "# use unpacking to assign each tuple's elements to our variables, key and value\n",
    "for key, value in d.items():  \n",
    "    print(f'{key}: {value}')"
   ]
  },
  {
   "cell_type": "code",
   "execution_count": 46,
   "id": "3914f028",
   "metadata": {},
   "outputs": [
    {
     "name": "stdout",
     "output_type": "stream",
     "text": [
      "('a', 10)\n",
      "('b', 20)\n",
      "('c', 30)\n"
     ]
    }
   ],
   "source": [
    "# if I use \"for x, y in THING\" -- that means each iteration over THING will give me a 2-element tuple\n",
    "# and I'm going to assign each element of that tuple to a separate variable.\n",
    "\n",
    "# it's shorthand for this:\n",
    "\n",
    "for one_item in d.items():\n",
    "    key, value = one_item   # unpacking -- assign the two elements of one_item to key + value\n",
    "    print(f'{key}:{value}')"
   ]
  },
  {
   "cell_type": "code",
   "execution_count": 47,
   "id": "aa1eef1d",
   "metadata": {},
   "outputs": [
    {
     "name": "stdout",
     "output_type": "stream",
     "text": [
      "Enter a key: a\n",
      "d[a] is 10\n",
      "Enter a key: b\n",
      "d[b] is 20\n",
      "Enter a key: c\n",
      "d[c] is 30\n",
      "Enter a key: x\n",
      "x is not a key in {'a': 10, 'b': 20, 'c': 30}\n",
      "Enter a key: \n"
     ]
    }
   ],
   "source": [
    "d = {'a':10, 'b':20, 'c':30}\n",
    "\n",
    "# I am going to let the user enter a key\n",
    "# - if we get an empty string, we'll stop\n",
    "# - if the user's input is a key in the dict, we'll print the key and value\n",
    "# - if the user's input is not a key in the dict, we'll print a default message\n",
    "\n",
    "while True:\n",
    "    k = input('Enter a key: ').strip()\n",
    "    \n",
    "    if not k:\n",
    "        break\n",
    "        \n",
    "    if k in d:\n",
    "        print(f'd[{k}] is {d[k]}')\n",
    "    else:\n",
    "        print(f'{k} is not a key in {d}')"
   ]
  },
  {
   "cell_type": "markdown",
   "id": "8e5353ac",
   "metadata": {},
   "source": [
    "The final four lines of that code -- the `if` and `else` -- repeat themselves in a lot of code.  We often want to say:\n",
    "\n",
    "- If the key exists, then give me the value\n",
    "- If the key does *not* exist, then don't blow up on me with a `KeyError`. Rather, return `None` or some default value.\n",
    "\n",
    "It turns out that there's a special method that does that, called `dict.get`.\n",
    "\n",
    "You can think of `dict.get` as a friendlier, more forgiving version of `[]` to retrieve a value via the key."
   ]
  },
  {
   "cell_type": "code",
   "execution_count": 48,
   "id": "51ea6dd3",
   "metadata": {},
   "outputs": [
    {
     "data": {
      "text/plain": [
       "{'a': 10, 'b': 20, 'c': 30}"
      ]
     },
     "execution_count": 48,
     "metadata": {},
     "output_type": "execute_result"
    }
   ],
   "source": [
    "d"
   ]
  },
  {
   "cell_type": "code",
   "execution_count": 49,
   "id": "4a0ece37",
   "metadata": {},
   "outputs": [
    {
     "data": {
      "text/plain": [
       "10"
      ]
     },
     "execution_count": 49,
     "metadata": {},
     "output_type": "execute_result"
    }
   ],
   "source": [
    "d.get('a')  # if 'a' is a key, give me the value. If not, give me None"
   ]
  },
  {
   "cell_type": "code",
   "execution_count": 50,
   "id": "a815668a",
   "metadata": {},
   "outputs": [],
   "source": [
    "d.get('x')   # if 'x' is a key, give me the value. If not, give me None"
   ]
  },
  {
   "cell_type": "code",
   "execution_count": 51,
   "id": "8bc835f7",
   "metadata": {},
   "outputs": [
    {
     "data": {
      "text/plain": [
       "5"
      ]
     },
     "execution_count": 51,
     "metadata": {},
     "output_type": "execute_result"
    }
   ],
   "source": [
    "# I can give dict.get a second, optional argument -- what to return if the key doesn't exist\n",
    "d.get('x', 5)"
   ]
  },
  {
   "cell_type": "code",
   "execution_count": 52,
   "id": "82273d13",
   "metadata": {},
   "outputs": [
    {
     "data": {
      "text/plain": [
       "10"
      ]
     },
     "execution_count": 52,
     "metadata": {},
     "output_type": "execute_result"
    }
   ],
   "source": [
    "d.get('a', 5)  # 'a' is a key in d, so we'll get the value, not 5"
   ]
  },
  {
   "cell_type": "markdown",
   "id": "017d34c7",
   "metadata": {},
   "source": [
    "# Exercise: Rainfall\n",
    "\n",
    "1. Define an empty dict, `rainfall`.  It will be populated with city names (as keys, strings) and mm rain (as values, integers), and will grow over time. We don't know in advance what cities will be reported into our system.\n",
    "2. Ask the user, repeatedly, to enter a city name.\n",
    "    - If they enter an empty city name, break out of the loop.\n",
    "3. If we got a city name, ask the user to enter how many mm of rain.\n",
    "4. Check to see if we have seen this city before.\n",
    "    - If so, then add the new amount to the existing amount\n",
    "    - If not, then add the key-value pair to the dict\n",
    "5. After the user has entered an empty string for their city, print the cities and rainfall amounts nicely using a `for` loop.\n",
    "\n",
    "Example:\n",
    "\n",
    "    City: Jerusalem\n",
    "    Rain: 5\n",
    "    City: Tel Aviv\n",
    "    Rain: 3\n",
    "    City: Jerusalem\n",
    "    Rain: 2\n",
    "    City: [ENTER]\n",
    "    Jerusalem: 7\n",
    "    Tel Aviv: 3"
   ]
  },
  {
   "cell_type": "code",
   "execution_count": 57,
   "id": "18e7d9a0",
   "metadata": {},
   "outputs": [
    {
     "name": "stdout",
     "output_type": "stream",
     "text": [
      "Enter city name: a\n",
      "Enter rain: 5\n",
      "Enter city name: b\n",
      "Enter rain: 4\n",
      "Enter city name: c\n",
      "Enter rain: 3\n",
      "Enter city name: b\n",
      "Enter rain: 7\n",
      "Enter city name: c\n",
      "Enter rain: 2\n",
      "Enter city name: \n",
      "a: 5\n",
      "b: 11\n",
      "c: 5\n"
     ]
    }
   ],
   "source": [
    "rainfall = {}\n",
    "\n",
    "while True:\n",
    "    city_name = input('Enter city name: ').strip()\n",
    "    \n",
    "    if not city_name:   # if we get an empty string, then exit the while loop\n",
    "        break\n",
    "        \n",
    "    mm_rain = input('Enter rain: ').strip()\n",
    "    mm_rain = int(mm_rain)\n",
    "    \n",
    "#     if city_name in rainfall:\n",
    "#         rainfall[city_name] += mm_rain\n",
    "#     else:\n",
    "#         rainfall[city_name] = mm_rain\n",
    "\n",
    "    rainfall[city_name] = rainfall.get(city_name, 0) + mm_rain\n",
    "    \n",
    "for city_name, mm_rain in rainfall.items():\n",
    "    print(f'{city_name}: {mm_rain}')"
   ]
  },
  {
   "cell_type": "markdown",
   "id": "ee1b458a",
   "metadata": {},
   "source": [
    "# Next up\n",
    "\n",
    "1. How dictionaries work behind the scenes\n",
    "2. Sets\n",
    "\n",
    "Resume at :10"
   ]
  },
  {
   "cell_type": "markdown",
   "id": "3b0c04b0",
   "metadata": {},
   "source": [
    "# Conditions and `while` loops\n",
    "\n",
    "A `while` loop checks it condition *once* per iteration, at the start.  If the condition is `True`, then the entire loop body is executed, and then we go back to the top where the condition is checked again."
   ]
  },
  {
   "cell_type": "code",
   "execution_count": 59,
   "id": "fdb8c19d",
   "metadata": {},
   "outputs": [
    {
     "ename": "SyntaxError",
     "evalue": "invalid non-printable character U+00A0 (2485050361.py, line 4)",
     "output_type": "error",
     "traceback": [
      "\u001b[0;36m  Cell \u001b[0;32mIn [59], line 4\u001b[0;36m\u001b[0m\n\u001b[0;31m    rainfall = input('Enter rainfall in mm: ').strip()\u001b[0m\n\u001b[0m    ^\u001b[0m\n\u001b[0;31mSyntaxError\u001b[0m\u001b[0;31m:\u001b[0m invalid non-printable character U+00A0\n"
     ]
    }
   ],
   "source": [
    "rainfall = ''\n",
    "\n",
    "while not rainfall.isdigit():\n",
    "    rainfall = input('Enter rainfall in mm: ').strip()\n",
    "    print(f'{rainfall} is not a valid number, enter a valid amount of rainfall in mm')"
   ]
  },
  {
   "cell_type": "code",
   "execution_count": 60,
   "id": "ccd90e95",
   "metadata": {},
   "outputs": [
    {
     "name": "stdout",
     "output_type": "stream",
     "text": [
      "Enter rainfall in mm: 5\n",
      "5 is not a valid number, enter a valid amount of rainfall in mm\n"
     ]
    }
   ],
   "source": [
    "rainfall = ''\n",
    "\n",
    "while rainfall := input('Enter rainfall in mm: ').strip():\n",
    "    if not rainfall.isdigit():\n",
    "        print(f'{rainfall} is not a valid number, enter a valid amount of rainfall in mm')\n",
    "        break"
   ]
  },
  {
   "cell_type": "markdown",
   "id": "19b5372f",
   "metadata": {},
   "source": [
    "# How dicts work\n",
    "\n",
    "Let's consider how lists work, and especially when we want to search in them, vs. how dicts work, and how we search in them!\n",
    "\n",
    "If we want to search for an item (using `in`) in a list, then we basically use a `for` loop, which is speed of `O(n)`. \n",
    "\n",
    "What happens when we search in a dictionary? (For a key only!)\n",
    "\n",
    "Using the data in order to know where it's stored is a common technique -- in dictionaries, we use a \"hash function\" in order to compute where something should be.\n",
    "\n",
    "In other words, when we define `d['a'] = 10`, Python looks at the key (`'a'`) and runs the hash function on it, which gives us a number back. This number looks random, and has nothing to do with what `'b'` will give us, but it's deterministic -- `'a'` will always give the same value back. This value is used to stick the key-value pair in a known place in memory.\n",
    "\n",
    "Then, when I retrieve `'a'`, it runs the hash function again, goes to that block of memory, and retrieves our value.\n",
    "\n",
    "If I want to search, then it goes to that block of memory and returns `True` if it's there.\n",
    "\n",
    "This is known in CS circles as O(1) -- constant time. It doesn't matter how many key-value pairs you have in your dictionary! It'll still take the same amount of time to retrieve."
   ]
  },
  {
   "cell_type": "code",
   "execution_count": 61,
   "id": "4cbce2fe",
   "metadata": {},
   "outputs": [
    {
     "data": {
      "text/plain": [
       "100"
      ]
     },
     "execution_count": 61,
     "metadata": {},
     "output_type": "execute_result"
    }
   ],
   "source": [
    "x"
   ]
  },
  {
   "cell_type": "code",
   "execution_count": 62,
   "id": "5b7c42eb",
   "metadata": {},
   "outputs": [],
   "source": [
    "# starting in Python 3.6, the way that dicts work was changed. This was then cemented in 3.7.\n",
    "\n"
   ]
  },
  {
   "cell_type": "markdown",
   "id": "c3212a04",
   "metadata": {},
   "source": [
    "# In pre-Python 3.6, how were dicts implemented?\n",
    "\n",
    "A new dict resulted in the creation of an 8-row, 2-column table:\n",
    "\n"
   ]
  },
  {
   "cell_type": "raw",
   "id": "8ebbe55d",
   "metadata": {},
   "source": [
    "index      key        value\n",
    "----------------------------\n",
    "0           'a'        1\n",
    "1\n",
    "2           'c'        3\n",
    "3           'b'        2\n",
    "4\n",
    "5\n",
    "6\n",
    "7\n"
   ]
  },
  {
   "cell_type": "code",
   "execution_count": 63,
   "id": "73d7733b",
   "metadata": {},
   "outputs": [],
   "source": [
    "# as of 3.6, dictionaries have some interesting new properties:\n",
    "# (1) they remain in chronological order\n",
    "# (2) use 30% less memory than before"
   ]
  },
  {
   "cell_type": "markdown",
   "id": "72aeefdb",
   "metadata": {},
   "source": [
    "# How are dicts implemented as of Python 3.6?\n",
    "\n",
    "Behind the scenes, there are now *two* data structures -- a 3-column table (like before) and also\n",
    "an array, implemented in C, containing integers."
   ]
  },
  {
   "cell_type": "raw",
   "id": "bcc1f086",
   "metadata": {},
   "source": [
    "index        key          value\n",
    "--------------------------------\n",
    "0             'a'          10\n",
    "1             'b'          20\n",
    "2             'c'          30\n",
    "\n",
    "# the table starts with 0 rows\n",
    "# the array starts with 8 elements\n",
    "\n",
    "array = [None, 0, 1, None, None, None, None, 2]"
   ]
  },
  {
   "cell_type": "code",
   "execution_count": 64,
   "id": "e9f8050d",
   "metadata": {},
   "outputs": [],
   "source": [
    "d = {}\n",
    "\n",
    "d['a'] = 10"
   ]
  },
  {
   "cell_type": "code",
   "execution_count": 65,
   "id": "d94041f3",
   "metadata": {},
   "outputs": [
    {
     "data": {
      "text/plain": [
       "1"
      ]
     },
     "execution_count": 65,
     "metadata": {},
     "output_type": "execute_result"
    }
   ],
   "source": [
    "# as before, when I store d['a'] = 10, Python calculates the hash function, modulo 8\n",
    "# it's modulo 8 because there are 8 spots in my array\n",
    "\n",
    "hash('a') % 8"
   ]
  },
  {
   "cell_type": "code",
   "execution_count": 70,
   "id": "eb783e90",
   "metadata": {},
   "outputs": [
    {
     "data": {
      "text/plain": [
       "1"
      ]
     },
     "execution_count": 70,
     "metadata": {},
     "output_type": "execute_result"
    }
   ],
   "source": [
    "d['b'] = 20\n",
    "hash('b') % 8"
   ]
  },
  {
   "cell_type": "code",
   "execution_count": 71,
   "id": "4331e7bf",
   "metadata": {},
   "outputs": [
    {
     "data": {
      "text/plain": [
       "7"
      ]
     },
     "execution_count": 71,
     "metadata": {},
     "output_type": "execute_result"
    }
   ],
   "source": [
    "d['c'] = 30\n",
    "hash('c') % 8"
   ]
  },
  {
   "cell_type": "code",
   "execution_count": 72,
   "id": "d25006e0",
   "metadata": {},
   "outputs": [
    {
     "data": {
      "text/plain": [
       "True"
      ]
     },
     "execution_count": 72,
     "metadata": {},
     "output_type": "execute_result"
    }
   ],
   "source": [
    "# before doing anything else, I add a new row to our table with our key-value pair\n",
    "# the index will grow over time, starting with 0\n",
    "\n",
    "# if I ask \n",
    "\n",
    "'a' in d"
   ]
  },
  {
   "cell_type": "code",
   "execution_count": 73,
   "id": "03d5b74f",
   "metadata": {},
   "outputs": [
    {
     "data": {
      "text/plain": [
       "True"
      ]
     },
     "execution_count": 73,
     "metadata": {},
     "output_type": "execute_result"
    }
   ],
   "source": [
    "'b' in d"
   ]
  },
  {
   "cell_type": "markdown",
   "id": "f59e6967",
   "metadata": {},
   "source": [
    "# Every time we use a dict\n",
    "\n",
    "1. Python calculates the hash function on the key\n",
    "2. It jumps to the index in the back-end array based on the hash function's output\n",
    "3. It jumps to the index in the table based on the array's value"
   ]
  },
  {
   "cell_type": "markdown",
   "id": "33dd4c8c",
   "metadata": {},
   "source": [
    "# Sets\n",
    "\n",
    "Let's say that I want to know whether a certain letter has appeared in a string.  (It's just a yes/no kind of thing.) I could use dicts for this, to keep track of it."
   ]
  },
  {
   "cell_type": "code",
   "execution_count": 74,
   "id": "f6ee3229",
   "metadata": {},
   "outputs": [
    {
     "name": "stdout",
     "output_type": "stream",
     "text": [
      "Enter a string: hello out there\n"
     ]
    }
   ],
   "source": [
    "letters_seen = {}\n",
    "\n",
    "s = input('Enter a string: ').strip()\n",
    "\n",
    "for one_letter in s:\n",
    "    letters_seen[one_letter] = True"
   ]
  },
  {
   "cell_type": "code",
   "execution_count": 75,
   "id": "89906819",
   "metadata": {},
   "outputs": [
    {
     "data": {
      "text/plain": [
       "{'h': True,\n",
       " 'e': True,\n",
       " 'l': True,\n",
       " 'o': True,\n",
       " ' ': True,\n",
       " 'u': True,\n",
       " 't': True,\n",
       " 'r': True}"
      ]
     },
     "execution_count": 75,
     "metadata": {},
     "output_type": "execute_result"
    }
   ],
   "source": [
    "letters_seen"
   ]
  },
  {
   "cell_type": "code",
   "execution_count": 76,
   "id": "0aeea857",
   "metadata": {},
   "outputs": [
    {
     "data": {
      "text/plain": [
       "True"
      ]
     },
     "execution_count": 76,
     "metadata": {},
     "output_type": "execute_result"
    }
   ],
   "source": [
    "'h' in letters_seen"
   ]
  },
  {
   "cell_type": "code",
   "execution_count": 77,
   "id": "4e45e353",
   "metadata": {},
   "outputs": [],
   "source": [
    "# what if I could have a data structure that worked like a dict, but only the keys?\n",
    "# that's a set -- it's a data structure that *only* contains a dictionary's keys\n",
    "\n",
    "# the idea is that we can assign things to it, that each of the elements is guaranteed to be\n",
    "# unique, and that lookup is super fast."
   ]
  },
  {
   "cell_type": "code",
   "execution_count": 78,
   "id": "e4baf0d4",
   "metadata": {},
   "outputs": [
    {
     "data": {
      "text/plain": [
       "set"
      ]
     },
     "execution_count": 78,
     "metadata": {},
     "output_type": "execute_result"
    }
   ],
   "source": [
    "# to define a set, we use {}\n",
    "# the elements are separated by , and there is no : because there is no value\n",
    "\n",
    "s = {10, 20, 30, 40, 50}\n",
    "type(s)"
   ]
  },
  {
   "cell_type": "code",
   "execution_count": 79,
   "id": "05a9f4bc",
   "metadata": {},
   "outputs": [
    {
     "data": {
      "text/plain": [
       "{10, 20, 30, 40, 50}"
      ]
     },
     "execution_count": 79,
     "metadata": {},
     "output_type": "execute_result"
    }
   ],
   "source": [
    "# what if I do this?\n",
    "s = {10, 20, 30, 40, 20, 30, 40, 20, 30, 40, 50, 20, 30, 40, 50}\n",
    "s"
   ]
  },
  {
   "cell_type": "code",
   "execution_count": 80,
   "id": "192f6adb",
   "metadata": {},
   "outputs": [
    {
     "data": {
      "text/plain": [
       "{10, 20, 30, 40, 50}"
      ]
     },
     "execution_count": 80,
     "metadata": {},
     "output_type": "execute_result"
    }
   ],
   "source": [
    "# can I add an element to a set?\n",
    "# yes, with the .add method\n",
    "\n",
    "s.add(30)   # if 30 is already there, no change... if it's not, then 30 is added\n",
    "s"
   ]
  },
  {
   "cell_type": "code",
   "execution_count": 81,
   "id": "93dbc351",
   "metadata": {},
   "outputs": [
    {
     "data": {
      "text/plain": [
       "{10, 20, 30, 40, 50, 90}"
      ]
     },
     "execution_count": 81,
     "metadata": {},
     "output_type": "execute_result"
    }
   ],
   "source": [
    "s.add(90)\n",
    "s"
   ]
  },
  {
   "cell_type": "code",
   "execution_count": 82,
   "id": "331da31f",
   "metadata": {},
   "outputs": [],
   "source": [
    "# how can I remove from a set?\n",
    "# use the remove method\n",
    "s.remove(30)   "
   ]
  },
  {
   "cell_type": "code",
   "execution_count": 83,
   "id": "1838144e",
   "metadata": {},
   "outputs": [
    {
     "data": {
      "text/plain": [
       "{10, 20, 40, 50, 90}"
      ]
     },
     "execution_count": 83,
     "metadata": {},
     "output_type": "execute_result"
    }
   ],
   "source": [
    "s"
   ]
  },
  {
   "cell_type": "code",
   "execution_count": 84,
   "id": "839e41d7",
   "metadata": {},
   "outputs": [
    {
     "ename": "KeyError",
     "evalue": "30",
     "output_type": "error",
     "traceback": [
      "\u001b[0;31m---------------------------------------------------------------------------\u001b[0m",
      "\u001b[0;31mKeyError\u001b[0m                                  Traceback (most recent call last)",
      "Cell \u001b[0;32mIn [84], line 1\u001b[0m\n\u001b[0;32m----> 1\u001b[0m \u001b[43ms\u001b[49m\u001b[38;5;241;43m.\u001b[39;49m\u001b[43mremove\u001b[49m\u001b[43m(\u001b[49m\u001b[38;5;241;43m30\u001b[39;49m\u001b[43m)\u001b[49m  \u001b[38;5;66;03m# if we try to remove an element that isn't there, we get an error\u001b[39;00m\n",
      "\u001b[0;31mKeyError\u001b[0m: 30"
     ]
    }
   ],
   "source": [
    "s.remove(30)  # if we try to remove an element that isn't there, we get an error"
   ]
  },
  {
   "cell_type": "code",
   "execution_count": 85,
   "id": "ba647f70",
   "metadata": {},
   "outputs": [
    {
     "data": {
      "text/plain": [
       "True"
      ]
     },
     "execution_count": 85,
     "metadata": {},
     "output_type": "execute_result"
    }
   ],
   "source": [
    "# I can search in a set with \"in\"\n",
    "\n",
    "40 in s"
   ]
  },
  {
   "cell_type": "code",
   "execution_count": 86,
   "id": "a837b22e",
   "metadata": {},
   "outputs": [],
   "source": [
    "# the big thing to remember: sets are like dict keys\n",
    "# the elements must be immutable!\n",
    "# you can store numbers, strings, tuples\n",
    "# you cannot store lists, dicts, and sets"
   ]
  },
  {
   "cell_type": "code",
   "execution_count": 88,
   "id": "5daf4252",
   "metadata": {},
   "outputs": [
    {
     "data": {
      "text/plain": [
       "dict"
      ]
     },
     "execution_count": 88,
     "metadata": {},
     "output_type": "execute_result"
    }
   ],
   "source": [
    "# if you want to create an empty set... \n",
    "\n",
    "s = {}   # this doesn't work?\n",
    "type(s)"
   ]
  },
  {
   "cell_type": "code",
   "execution_count": 89,
   "id": "64d57c35",
   "metadata": {},
   "outputs": [],
   "source": [
    "# you have to use the word \"set\" \n",
    "s = set()"
   ]
  },
  {
   "cell_type": "code",
   "execution_count": 90,
   "id": "38c6a095",
   "metadata": {},
   "outputs": [
    {
     "data": {
      "text/plain": [
       "{10, 20, 30, 40, 50}"
      ]
     },
     "execution_count": 90,
     "metadata": {},
     "output_type": "execute_result"
    }
   ],
   "source": [
    "# you can create a set by calling \"set\" on an iterable\n",
    "\n",
    "set([10, 20, 30, 20, 30, 40, 20, 30, 40, 50])"
   ]
  },
  {
   "cell_type": "code",
   "execution_count": 91,
   "id": "3511b4c1",
   "metadata": {},
   "outputs": [],
   "source": [
    "s1 = {10, 20, 30, 40}\n",
    "s2 = {20, 30}\n",
    "s3 = {30, 40, 50, 60}"
   ]
  },
  {
   "cell_type": "code",
   "execution_count": 92,
   "id": "9be2a373",
   "metadata": {},
   "outputs": [
    {
     "data": {
      "text/plain": [
       "{10, 20, 30, 40, 50, 60}"
      ]
     },
     "execution_count": 92,
     "metadata": {},
     "output_type": "execute_result"
    }
   ],
   "source": [
    "s1 | s3    # this returns a new set -- the union of the two others"
   ]
  },
  {
   "cell_type": "code",
   "execution_count": 93,
   "id": "445fb253",
   "metadata": {},
   "outputs": [
    {
     "data": {
      "text/plain": [
       "{30, 40}"
      ]
     },
     "execution_count": 93,
     "metadata": {},
     "output_type": "execute_result"
    }
   ],
   "source": [
    "s1 & s3    # this returns a new set -- the intersection of the two others"
   ]
  },
  {
   "cell_type": "code",
   "execution_count": 94,
   "id": "d31af04f",
   "metadata": {},
   "outputs": [
    {
     "data": {
      "text/plain": [
       "True"
      ]
     },
     "execution_count": 94,
     "metadata": {},
     "output_type": "execute_result"
    }
   ],
   "source": [
    "s2 < s1    # is s2 a subset of s1?"
   ]
  },
  {
   "cell_type": "code",
   "execution_count": 95,
   "id": "30b4f329",
   "metadata": {},
   "outputs": [
    {
     "data": {
      "text/plain": [
       "False"
      ]
     },
     "execution_count": 95,
     "metadata": {},
     "output_type": "execute_result"
    }
   ],
   "source": [
    "s2 < s2    # is s2 a subset of itself?"
   ]
  },
  {
   "cell_type": "code",
   "execution_count": 96,
   "id": "65a45b17",
   "metadata": {},
   "outputs": [
    {
     "data": {
      "text/plain": [
       "True"
      ]
     },
     "execution_count": 96,
     "metadata": {},
     "output_type": "execute_result"
    }
   ],
   "source": [
    "s2 <= s2   # you have to use <= for itself"
   ]
  },
  {
   "cell_type": "code",
   "execution_count": 97,
   "id": "5bcb6cd3",
   "metadata": {},
   "outputs": [
    {
     "data": {
      "text/plain": [
       "{10, 20}"
      ]
     },
     "execution_count": 97,
     "metadata": {},
     "output_type": "execute_result"
    }
   ],
   "source": [
    "s1 - s3   # what elements does s1 contain that s3 is lacking?"
   ]
  },
  {
   "cell_type": "code",
   "execution_count": 98,
   "id": "16f9151c",
   "metadata": {},
   "outputs": [
    {
     "data": {
      "text/plain": [
       "{50, 60}"
      ]
     },
     "execution_count": 98,
     "metadata": {},
     "output_type": "execute_result"
    }
   ],
   "source": [
    "s3 - s1   # what does s3 contain that s1 is lacking?"
   ]
  },
  {
   "cell_type": "code",
   "execution_count": 99,
   "id": "b78a4627",
   "metadata": {},
   "outputs": [
    {
     "data": {
      "text/plain": [
       "{10, 40}"
      ]
     },
     "execution_count": 99,
     "metadata": {},
     "output_type": "execute_result"
    }
   ],
   "source": [
    "# I can do it in both directions, too!\n",
    "\n",
    "s1.symmetric_difference(s2)   # what is in one of them, but not in the other?"
   ]
  },
  {
   "cell_type": "code",
   "execution_count": 100,
   "id": "5771f1cc",
   "metadata": {},
   "outputs": [
    {
     "data": {
      "text/plain": [
       "{10, 40}"
      ]
     },
     "execution_count": 100,
     "metadata": {},
     "output_type": "execute_result"
    }
   ],
   "source": [
    "# logically, this is known as \"xor\" -- exclusive or -- and we can use ^ to do that, instead\n",
    "\n",
    "s1 ^ s2"
   ]
  },
  {
   "cell_type": "code",
   "execution_count": 102,
   "id": "e29672a5",
   "metadata": {},
   "outputs": [
    {
     "data": {
      "text/plain": [
       "{'1.2.3.4', '5.6.7.8', '9.10.11.12'}"
      ]
     },
     "execution_count": 102,
     "metadata": {},
     "output_type": "execute_result"
    }
   ],
   "source": [
    "ip_address = ['1.2.3.4', '5.6.7.8', '5.6.7.8', '9.10.11.12']\n",
    "set(ip_address)"
   ]
  },
  {
   "cell_type": "code",
   "execution_count": 103,
   "id": "172168e5",
   "metadata": {},
   "outputs": [
    {
     "name": "stdout",
     "output_type": "stream",
     "text": [
      "5.6.7.8\n",
      "9.10.11.12\n",
      "1.2.3.4\n"
     ]
    }
   ],
   "source": [
    "s = set(ip_address)\n",
    "\n",
    "for one_item in s:\n",
    "    print(one_item)"
   ]
  },
  {
   "cell_type": "code",
   "execution_count": 104,
   "id": "9dd732ef",
   "metadata": {},
   "outputs": [
    {
     "ename": "TypeError",
     "evalue": "'set' object is not subscriptable",
     "output_type": "error",
     "traceback": [
      "\u001b[0;31m---------------------------------------------------------------------------\u001b[0m",
      "\u001b[0;31mTypeError\u001b[0m                                 Traceback (most recent call last)",
      "Cell \u001b[0;32mIn [104], line 1\u001b[0m\n\u001b[0;32m----> 1\u001b[0m \u001b[43ms\u001b[49m\u001b[43m[\u001b[49m\u001b[38;5;241;43m1\u001b[39;49m\u001b[43m]\u001b[49m\n",
      "\u001b[0;31mTypeError\u001b[0m: 'set' object is not subscriptable"
     ]
    }
   ],
   "source": [
    "s[1]"
   ]
  },
  {
   "cell_type": "markdown",
   "id": "318685dd",
   "metadata": {},
   "source": [
    "# Exercise: Sum unique numbers\n",
    "\n",
    "1. Ask the user to enter a bunch of numbers as a string, separated by spaces.\n",
    "2. Add the unique numbers in that string.\n",
    "\n",
    "Example:\n",
    "\n",
    "    Enter numbers: 10 20 30\n",
    "    60\n",
    "    Enter numbers: 10 20 30 10 20 30\n",
    "    60\n",
    "    "
   ]
  },
  {
   "cell_type": "code",
   "execution_count": 106,
   "id": "ed5ce21a",
   "metadata": {},
   "outputs": [
    {
     "name": "stdout",
     "output_type": "stream",
     "text": [
      "Enter numbers: 10 20 30 10 20 30\n",
      "60\n"
     ]
    }
   ],
   "source": [
    "all_numbers = set()   # empty set\n",
    "\n",
    "s = input('Enter numbers: ').strip()\n",
    "\n",
    "for one_number in s.split():   # s.split returns a list of strings, based on s.\n",
    "    if one_number.isdigit():\n",
    "        all_numbers.add(int(one_number))\n",
    "        \n",
    "print(sum(all_numbers))        "
   ]
  },
  {
   "cell_type": "code",
   "execution_count": 107,
   "id": "fa5d28fc",
   "metadata": {},
   "outputs": [
    {
     "data": {
      "text/plain": [
       "{10, 20, 30}"
      ]
     },
     "execution_count": 107,
     "metadata": {},
     "output_type": "execute_result"
    }
   ],
   "source": [
    "all_numbers"
   ]
  },
  {
   "cell_type": "code",
   "execution_count": 108,
   "id": "d6324d9b",
   "metadata": {},
   "outputs": [],
   "source": [
    "# what if I want to add a bunch of things to a set?\n",
    "# I could iterate over them, and .add each one\n",
    "# or I can use \"update\"\n",
    "\n",
    "s = {10, 20, 30, 40, 50}\n",
    "\n",
    "s.update([30, 40, 50, 60, 70])  # I can pass any iterable -- anything that knows how to behave in a for loop (list, tuple, set)"
   ]
  },
  {
   "cell_type": "code",
   "execution_count": 109,
   "id": "b38d7467",
   "metadata": {},
   "outputs": [
    {
     "data": {
      "text/plain": [
       "{10, 20, 30, 40, 50, 60, 70}"
      ]
     },
     "execution_count": 109,
     "metadata": {},
     "output_type": "execute_result"
    }
   ],
   "source": [
    "s"
   ]
  },
  {
   "cell_type": "code",
   "execution_count": 110,
   "id": "859cee86",
   "metadata": {},
   "outputs": [
    {
     "data": {
      "text/plain": [
       "{'a', 'b', 'c', 'd', 'e', 'f', 'g'}"
      ]
     },
     "execution_count": 110,
     "metadata": {},
     "output_type": "execute_result"
    }
   ],
   "source": [
    "# what if I have a set of letters, and I want to make sure that a word only uses those letters?\n",
    "\n",
    "letters = 'abcdefg'\n",
    "word = 'face'   # how can I find out if word only contains the items in letters?\n",
    "\n",
    "# answer: Turn them both into sets!\n",
    "\n",
    "set(letters)"
   ]
  },
  {
   "cell_type": "code",
   "execution_count": 111,
   "id": "4929705b",
   "metadata": {},
   "outputs": [
    {
     "data": {
      "text/plain": [
       "{'a', 'c', 'e', 'f'}"
      ]
     },
     "execution_count": 111,
     "metadata": {},
     "output_type": "execute_result"
    }
   ],
   "source": [
    "set(word)"
   ]
  },
  {
   "cell_type": "code",
   "execution_count": 112,
   "id": "cfe1e07a",
   "metadata": {},
   "outputs": [
    {
     "data": {
      "text/plain": [
       "True"
      ]
     },
     "execution_count": 112,
     "metadata": {},
     "output_type": "execute_result"
    }
   ],
   "source": [
    "set(word) <= set(letters)   # are the letters in word all found in letters?"
   ]
  },
  {
   "cell_type": "code",
   "execution_count": null,
   "id": "8cf449be",
   "metadata": {},
   "outputs": [
    {
     "name": "stdout",
     "output_type": "stream",
     "text": [
      "Enter word: face\n",
      "Yes, face only uses {'e', 'g', 'a', 'd', 'c', 'b', 'f'}\n"
     ]
    }
   ],
   "source": [
    "all_letters = set(letters)\n",
    "\n",
    "while True:\n",
    "    s = input('Enter word: ').strip()\n",
    "    \n",
    "    if not s:\n",
    "        break\n",
    "        \n",
    "    if set(s) <= all_letters:\n",
    "        print(f'Yes, {s} only uses {all_letters}')\n",
    "    else:\n",
    "        print(f'No, it uses other letters')"
   ]
  },
  {
   "cell_type": "code",
   "execution_count": null,
   "id": "fa9cc99d",
   "metadata": {},
   "outputs": [],
   "source": []
  }
 ],
 "metadata": {
  "kernelspec": {
   "display_name": "Python 3 (ipykernel)",
   "language": "python",
   "name": "python3"
  },
  "language_info": {
   "codemirror_mode": {
    "name": "ipython",
    "version": 3
   },
   "file_extension": ".py",
   "mimetype": "text/x-python",
   "name": "python",
   "nbconvert_exporter": "python",
   "pygments_lexer": "ipython3",
   "version": "3.11.2"
  }
 },
 "nbformat": 4,
 "nbformat_minor": 5
}
