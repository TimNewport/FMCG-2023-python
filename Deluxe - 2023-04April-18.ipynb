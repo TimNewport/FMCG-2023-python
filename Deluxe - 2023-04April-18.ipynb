{
 "cells": [
  {
   "cell_type": "markdown",
   "id": "b164db19",
   "metadata": {},
   "source": [
    "# Agenda\n",
    "\n",
    "1. NumPy\n",
    "    - NumPy arrays\n",
    "    - Setting + retrieving\n",
    "    - Broadcasting\n",
    "    - Boolean / mask arrays for retrieving\n",
    "    - dtypes and `nan`\n",
    "2. Pandas\n",
    "    - series vs. data frames\n",
    "    - creating a series, from scratch or via NumPy"
   ]
  },
  {
   "cell_type": "markdown",
   "id": "e7f534fb",
   "metadata": {},
   "source": [
    "# What is NumPy? Why do we care?\n",
    "\n",
    "Python is *not*:\n",
    "\n",
    "- slim (in terms of memory)\n",
    "- fast (in terms of execution)\n",
    "\n"
   ]
  },
  {
   "cell_type": "code",
   "execution_count": 1,
   "id": "dbbaec61",
   "metadata": {},
   "outputs": [
    {
     "data": {
      "text/plain": [
       "28"
      ]
     },
     "execution_count": 1,
     "metadata": {},
     "output_type": "execute_result"
    }
   ],
   "source": [
    "import sys\n",
    "x = 0\n",
    "\n",
    "sys.getsizeof(x) # how many bytes does this integer use in memory?"
   ]
  },
  {
   "cell_type": "code",
   "execution_count": 4,
   "id": "9d50f78b",
   "metadata": {},
   "outputs": [
    {
     "data": {
      "text/plain": [
       "28"
      ]
     },
     "execution_count": 4,
     "metadata": {},
     "output_type": "execute_result"
    }
   ],
   "source": [
    "x = 100_000_000\n",
    "sys.getsizeof(x)"
   ]
  },
  {
   "cell_type": "markdown",
   "id": "1cba2080",
   "metadata": {},
   "source": [
    "# What does NumPy do?\n",
    "\n",
    "The problem is that everything in Python is an object, and thus it's really big.\n",
    "\n",
    "In C, integers are tiny -- at the most, they're 64 bits (8 bytes) in size.  \n",
    "\n",
    "NumPy allows us to use C data structures with a Python API.  We (mostly) feel like we're working in Python, but we're gaining the speed and memory usage of C.\n",
    "\n",
    "The big deal in NumPy is actually one data structure, the NumPy array, aka `ndarray` -- it's an n-dimensional array.  If you're a mathematician or a physicist, then you'll want all of those dimensions.  We'll be using just 1-dimensional arrays and 2D arrays.\n",
    "\n",
    "A NumPy array actually has two pieces:\n",
    "\n",
    "- The Python part, which we work with\n",
    "- The C part, where it allocates memory and works with it at that level\n",
    "\n"
   ]
  },
  {
   "cell_type": "code",
   "execution_count": 5,
   "id": "c12f6bb4",
   "metadata": {},
   "outputs": [],
   "source": [
    "# let's load NumPy!\n",
    "\n",
    "import numpy as np     "
   ]
  },
  {
   "cell_type": "code",
   "execution_count": 6,
   "id": "77c5a2f6",
   "metadata": {},
   "outputs": [
    {
     "data": {
      "text/plain": [
       "numpy.ndarray"
      ]
     },
     "execution_count": 6,
     "metadata": {},
     "output_type": "execute_result"
    }
   ],
   "source": [
    "# create a NumPy array\n",
    "# we *don't* directly use np.ndarray, even though it exists!\n",
    "\n",
    "# rather, we'll use np.array, and pass it a regular Python list, which it'll turn\n",
    "# into a NumPy array with the appropriate back-end values\n",
    "\n",
    "a = np.array([10, 20, 30, 40, 50, 60, 70])\n",
    "type(a)"
   ]
  },
  {
   "cell_type": "code",
   "execution_count": 7,
   "id": "b5426117",
   "metadata": {},
   "outputs": [
    {
     "data": {
      "text/plain": [
       "array([10, 20, 30, 40, 50, 60, 70])"
      ]
     },
     "execution_count": 7,
     "metadata": {},
     "output_type": "execute_result"
    }
   ],
   "source": [
    "a"
   ]
  },
  {
   "cell_type": "code",
   "execution_count": 8,
   "id": "57f1347f",
   "metadata": {},
   "outputs": [
    {
     "data": {
      "text/plain": [
       "40"
      ]
     },
     "execution_count": 8,
     "metadata": {},
     "output_type": "execute_result"
    }
   ],
   "source": [
    "# things that are similar between lists and arrays\n",
    "# basic retrieval\n",
    "\n",
    "a[3]   #get the element at index 3"
   ]
  },
  {
   "cell_type": "code",
   "execution_count": 9,
   "id": "f7858640",
   "metadata": {},
   "outputs": [
    {
     "data": {
      "text/plain": [
       "array([10, 20, 30, 41, 50, 60, 70])"
      ]
     },
     "execution_count": 9,
     "metadata": {},
     "output_type": "execute_result"
    }
   ],
   "source": [
    "# arrays are mutable\n",
    "a[3] = 41\n",
    "a"
   ]
  },
  {
   "cell_type": "code",
   "execution_count": 10,
   "id": "face05c4",
   "metadata": {},
   "outputs": [],
   "source": [
    "# they are iterable, as well -- so we can put them in a for loop\n",
    "\n",
    "# but DON'T DO THAT!"
   ]
  },
  {
   "cell_type": "code",
   "execution_count": 11,
   "id": "8b7cc19d",
   "metadata": {},
   "outputs": [],
   "source": [
    "# a few other ways to create NumPy arrays\n",
    "\n",
    "# (1) get a range, using np.arange (similar to Python's \"range\" builtin)\n",
    "a = np.arange(10, 200, 3)   # start at 10, end before 200, step size 3"
   ]
  },
  {
   "cell_type": "code",
   "execution_count": 12,
   "id": "ee64c302",
   "metadata": {},
   "outputs": [
    {
     "data": {
      "text/plain": [
       "array([ 10,  13,  16,  19,  22,  25,  28,  31,  34,  37,  40,  43,  46,\n",
       "        49,  52,  55,  58,  61,  64,  67,  70,  73,  76,  79,  82,  85,\n",
       "        88,  91,  94,  97, 100, 103, 106, 109, 112, 115, 118, 121, 124,\n",
       "       127, 130, 133, 136, 139, 142, 145, 148, 151, 154, 157, 160, 163,\n",
       "       166, 169, 172, 175, 178, 181, 184, 187, 190, 193, 196, 199])"
      ]
     },
     "execution_count": 12,
     "metadata": {},
     "output_type": "execute_result"
    }
   ],
   "source": [
    "a"
   ]
  },
  {
   "cell_type": "code",
   "execution_count": 13,
   "id": "b5e476ba",
   "metadata": {},
   "outputs": [
    {
     "data": {
      "text/plain": [
       "array([0., 0., 0., 0., 0., 0., 0., 0., 0., 0.])"
      ]
     },
     "execution_count": 13,
     "metadata": {},
     "output_type": "execute_result"
    }
   ],
   "source": [
    "# (2) get a bunch of 0s\n",
    "np.zeros(10)   # it's spelled \"zeros\" not \"zeroes\""
   ]
  },
  {
   "cell_type": "code",
   "execution_count": 14,
   "id": "4bf38dd3",
   "metadata": {},
   "outputs": [
    {
     "data": {
      "text/plain": [
       "array([1., 1., 1., 1., 1., 1., 1., 1., 1., 1.])"
      ]
     },
     "execution_count": 14,
     "metadata": {},
     "output_type": "execute_result"
    }
   ],
   "source": [
    "# (3) get a bunch of 1s\n",
    "np.ones(10)"
   ]
  },
  {
   "cell_type": "code",
   "execution_count": 17,
   "id": "c9d4a193",
   "metadata": {},
   "outputs": [
    {
     "data": {
      "text/plain": [
       "array([44, 47, 64, 67, 67,  9, 83, 21, 36, 87, 70, 88, 88, 12, 58, 65, 39,\n",
       "       87, 46, 88])"
      ]
     },
     "execution_count": 17,
     "metadata": {},
     "output_type": "execute_result"
    }
   ],
   "source": [
    "# (4) get a bunch of random integers\n",
    "\n",
    "np.random.seed(0)    # start the random-number generator at a known value\n",
    "np.random.randint(0, 100, 20)   # 20 random ints from 0-100 (not including 100)"
   ]
  },
  {
   "cell_type": "code",
   "execution_count": null,
   "id": "791bae56",
   "metadata": {},
   "outputs": [],
   "source": []
  }
 ],
 "metadata": {
  "kernelspec": {
   "display_name": "Python 3 (ipykernel)",
   "language": "python",
   "name": "python3"
  },
  "language_info": {
   "codemirror_mode": {
    "name": "ipython",
    "version": 3
   },
   "file_extension": ".py",
   "mimetype": "text/x-python",
   "name": "python",
   "nbconvert_exporter": "python",
   "pygments_lexer": "ipython3",
   "version": "3.11.3"
  }
 },
 "nbformat": 4,
 "nbformat_minor": 5
}
