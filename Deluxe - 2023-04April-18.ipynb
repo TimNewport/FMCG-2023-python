{
 "cells": [
  {
   "cell_type": "markdown",
   "id": "67256837",
   "metadata": {},
   "source": [
    "# Agenda\n",
    "\n",
    "1. NumPy\n",
    "    - NumPy arrays\n",
    "    - Setting + retrieving\n",
    "    - Broadcasting\n",
    "    - Boolean / mask arrays for retrieving\n",
    "    - dtypes and `nan`\n",
    "2. Pandas\n",
    "    - series vs. data frames\n",
    "    - creating a series, from scratch or via NumPy"
   ]
  },
  {
   "cell_type": "markdown",
   "id": "8ab15391",
   "metadata": {},
   "source": [
    "# What is NumPy? Why do we care?\n",
    "\n",
    "Python is *not*:\n",
    "\n",
    "- slim (in terms of memory)\n",
    "- fast (in terms of execution)\n",
    "\n"
   ]
  },
  {
   "cell_type": "code",
   "execution_count": 1,
   "id": "2498a81b",
   "metadata": {},
   "outputs": [
    {
     "data": {
      "text/plain": [
       "28"
      ]
     },
     "execution_count": 1,
     "metadata": {},
     "output_type": "execute_result"
    }
   ],
   "source": [
    "import sys\n",
    "x = 0\n",
    "\n",
    "sys.getsizeof(x) # how many bytes does this integer use in memory?"
   ]
  },
  {
   "cell_type": "code",
   "execution_count": 4,
   "id": "cbc1d1be",
   "metadata": {},
   "outputs": [
    {
     "data": {
      "text/plain": [
       "28"
      ]
     },
     "execution_count": 4,
     "metadata": {},
     "output_type": "execute_result"
    }
   ],
   "source": [
    "x = 100_000_000\n",
    "sys.getsizeof(x)"
   ]
  },
  {
   "cell_type": "markdown",
   "id": "24643aa4",
   "metadata": {},
   "source": [
    "# What does NumPy do?\n",
    "\n",
    "The problem is that everything in Python is an object, and thus it's really big.\n",
    "\n",
    "In C, integers are tiny -- at the most, they're 64 bits (8 bytes) in size.  \n",
    "\n",
    "NumPy allows us to use C data structures with a Python API.  We (mostly) feel like we're working in Python, but we're gaining the speed and memory usage of C.\n",
    "\n",
    "The big deal in NumPy is actually one data structure, the NumPy array, aka `ndarray` -- it's an n-dimensional array.  If you're a mathematician or a physicist, then you'll want all of those dimensions.  We'll be using just 1-dimensional arrays and 2D arrays.\n",
    "\n",
    "A NumPy array actually has two pieces:\n",
    "\n",
    "- The Python part, which we work with\n",
    "- The C part, where it allocates memory and works with it at that level\n",
    "\n"
   ]
  },
  {
   "cell_type": "code",
   "execution_count": 5,
   "id": "ad27e262",
   "metadata": {},
   "outputs": [],
   "source": [
    "# let's load NumPy!\n",
    "\n",
    "import numpy as np     "
   ]
  },
  {
   "cell_type": "code",
   "execution_count": 6,
   "id": "35061ee1",
   "metadata": {},
   "outputs": [
    {
     "data": {
      "text/plain": [
       "numpy.ndarray"
      ]
     },
     "execution_count": 6,
     "metadata": {},
     "output_type": "execute_result"
    }
   ],
   "source": [
    "# create a NumPy array\n",
    "# we *don't* directly use np.ndarray, even though it exists!\n",
    "\n",
    "# rather, we'll use np.array, and pass it a regular Python list, which it'll turn\n",
    "# into a NumPy array with the appropriate back-end values\n",
    "\n",
    "a = np.array([10, 20, 30, 40, 50, 60, 70])\n",
    "type(a)"
   ]
  },
  {
   "cell_type": "code",
   "execution_count": 7,
   "id": "d40ebe0d",
   "metadata": {},
   "outputs": [
    {
     "data": {
      "text/plain": [
       "array([10, 20, 30, 40, 50, 60, 70])"
      ]
     },
     "execution_count": 7,
     "metadata": {},
     "output_type": "execute_result"
    }
   ],
   "source": [
    "a"
   ]
  },
  {
   "cell_type": "code",
   "execution_count": 8,
   "id": "ecc00caf",
   "metadata": {},
   "outputs": [
    {
     "data": {
      "text/plain": [
       "40"
      ]
     },
     "execution_count": 8,
     "metadata": {},
     "output_type": "execute_result"
    }
   ],
   "source": [
    "# things that are similar between lists and arrays\n",
    "# basic retrieval\n",
    "\n",
    "a[3]   #get the element at index 3"
   ]
  },
  {
   "cell_type": "code",
   "execution_count": 9,
   "id": "1abfa60e",
   "metadata": {},
   "outputs": [
    {
     "data": {
      "text/plain": [
       "array([10, 20, 30, 41, 50, 60, 70])"
      ]
     },
     "execution_count": 9,
     "metadata": {},
     "output_type": "execute_result"
    }
   ],
   "source": [
    "# arrays are mutable\n",
    "a[3] = 41\n",
    "a"
   ]
  },
  {
   "cell_type": "code",
   "execution_count": 10,
   "id": "5deb9950",
   "metadata": {},
   "outputs": [],
   "source": [
    "# they are iterable, as well -- so we can put them in a for loop\n",
    "\n",
    "# but DON'T DO THAT!"
   ]
  },
  {
   "cell_type": "code",
   "execution_count": 11,
   "id": "f8c6f605",
   "metadata": {},
   "outputs": [],
   "source": [
    "# a few other ways to create NumPy arrays\n",
    "\n",
    "# (1) get a range, using np.arange (similar to Python's \"range\" builtin)\n",
    "a = np.arange(10, 200, 3)   # start at 10, end before 200, step size 3"
   ]
  },
  {
   "cell_type": "code",
   "execution_count": 12,
   "id": "70d5464e",
   "metadata": {},
   "outputs": [
    {
     "data": {
      "text/plain": [
       "array([ 10,  13,  16,  19,  22,  25,  28,  31,  34,  37,  40,  43,  46,\n",
       "        49,  52,  55,  58,  61,  64,  67,  70,  73,  76,  79,  82,  85,\n",
       "        88,  91,  94,  97, 100, 103, 106, 109, 112, 115, 118, 121, 124,\n",
       "       127, 130, 133, 136, 139, 142, 145, 148, 151, 154, 157, 160, 163,\n",
       "       166, 169, 172, 175, 178, 181, 184, 187, 190, 193, 196, 199])"
      ]
     },
     "execution_count": 12,
     "metadata": {},
     "output_type": "execute_result"
    }
   ],
   "source": [
    "a"
   ]
  },
  {
   "cell_type": "code",
   "execution_count": 13,
   "id": "703dfba1",
   "metadata": {},
   "outputs": [
    {
     "data": {
      "text/plain": [
       "array([0., 0., 0., 0., 0., 0., 0., 0., 0., 0.])"
      ]
     },
     "execution_count": 13,
     "metadata": {},
     "output_type": "execute_result"
    }
   ],
   "source": [
    "# (2) get a bunch of 0s\n",
    "np.zeros(10)   # it's spelled \"zeros\" not \"zeroes\""
   ]
  },
  {
   "cell_type": "code",
   "execution_count": 14,
   "id": "a62de3d5",
   "metadata": {},
   "outputs": [
    {
     "data": {
      "text/plain": [
       "array([1., 1., 1., 1., 1., 1., 1., 1., 1., 1.])"
      ]
     },
     "execution_count": 14,
     "metadata": {},
     "output_type": "execute_result"
    }
   ],
   "source": [
    "# (3) get a bunch of 1s\n",
    "np.ones(10)"
   ]
  },
  {
   "cell_type": "code",
   "execution_count": 17,
   "id": "48263fe0",
   "metadata": {},
   "outputs": [
    {
     "data": {
      "text/plain": [
       "array([44, 47, 64, 67, 67,  9, 83, 21, 36, 87, 70, 88, 88, 12, 58, 65, 39,\n",
       "       87, 46, 88])"
      ]
     },
     "execution_count": 17,
     "metadata": {},
     "output_type": "execute_result"
    }
   ],
   "source": [
    "# (4) get a bunch of random integers\n",
    "\n",
    "np.random.seed(0)    # start the random-number generator at a known value\n",
    "np.random.randint(0, 100, 20)   # 20 random ints from 0-100 (not including 100)"
   ]
  },
  {
   "cell_type": "code",
   "execution_count": 22,
   "id": "cdc06309",
   "metadata": {},
   "outputs": [
    {
     "data": {
      "text/plain": [
       "array([ 9, 12, 21, 36, 39, 44, 46, 47, 58, 64, 65, 67, 70, 83, 87, 88])"
      ]
     },
     "execution_count": 22,
     "metadata": {},
     "output_type": "execute_result"
    }
   ],
   "source": [
    "\n",
    "np.random.seed(0)    # start the random-number generator at a known value\n",
    "a = np.random.randint(0, 100, 20)\n",
    "np.unique(a)"
   ]
  },
  {
   "cell_type": "code",
   "execution_count": 18,
   "id": "95731d19",
   "metadata": {},
   "outputs": [
    {
     "data": {
      "text/plain": [
       "array([0.3927848 , 0.83607876, 0.33739616, 0.64817187, 0.36824154,\n",
       "       0.95715516, 0.14035078, 0.87008726, 0.47360805, 0.80091075])"
      ]
     },
     "execution_count": 18,
     "metadata": {},
     "output_type": "execute_result"
    }
   ],
   "source": [
    "# (5 ) get a bunch of random floats from 0-1\n",
    "\n",
    "np.random.rand(10)    # each result is a float in that range"
   ]
  },
  {
   "cell_type": "code",
   "execution_count": null,
   "id": "908cca2c",
   "metadata": {},
   "outputs": [],
   "source": []
  },
  {
   "cell_type": "code",
   "execution_count": null,
   "id": "e9b62358",
   "metadata": {},
   "outputs": [],
   "source": []
  },
  {
   "cell_type": "code",
   "execution_count": 24,
   "id": "06d6360c",
   "metadata": {},
   "outputs": [
    {
     "data": {
      "text/plain": [
       "1166"
      ]
     },
     "execution_count": 24,
     "metadata": {},
     "output_type": "execute_result"
    }
   ],
   "source": [
    "# methods we can run on a NumPy array\n",
    "\n",
    "a.sum()"
   ]
  },
  {
   "cell_type": "code",
   "execution_count": 27,
   "id": "7f55558d",
   "metadata": {},
   "outputs": [
    {
     "data": {
      "text/plain": [
       "20"
      ]
     },
     "execution_count": 27,
     "metadata": {},
     "output_type": "execute_result"
    }
   ],
   "source": [
    "a.size   # this is not a method -- this is a data attribute!"
   ]
  },
  {
   "cell_type": "code",
   "execution_count": 28,
   "id": "713e1f61",
   "metadata": {},
   "outputs": [
    {
     "data": {
      "text/plain": [
       "58.3"
      ]
     },
     "execution_count": 28,
     "metadata": {},
     "output_type": "execute_result"
    }
   ],
   "source": [
    "a.mean()  # mean"
   ]
  },
  {
   "cell_type": "code",
   "execution_count": 29,
   "id": "87879e8f",
   "metadata": {},
   "outputs": [
    {
     "data": {
      "text/plain": [
       "25.088044961694404"
      ]
     },
     "execution_count": 29,
     "metadata": {},
     "output_type": "execute_result"
    }
   ],
   "source": [
    "a.std()   # standard deviation"
   ]
  },
  {
   "cell_type": "code",
   "execution_count": 30,
   "id": "4f86535e",
   "metadata": {},
   "outputs": [
    {
     "data": {
      "text/plain": [
       "9"
      ]
     },
     "execution_count": 30,
     "metadata": {},
     "output_type": "execute_result"
    }
   ],
   "source": [
    "a.min()\n"
   ]
  },
  {
   "cell_type": "code",
   "execution_count": 31,
   "id": "82d7f4a2",
   "metadata": {},
   "outputs": [
    {
     "data": {
      "text/plain": [
       "88"
      ]
     },
     "execution_count": 31,
     "metadata": {},
     "output_type": "execute_result"
    }
   ],
   "source": [
    "a.max()"
   ]
  },
  {
   "cell_type": "code",
   "execution_count": 36,
   "id": "ad8336cf",
   "metadata": {},
   "outputs": [
    {
     "data": {
      "text/plain": [
       "5"
      ]
     },
     "execution_count": 36,
     "metadata": {},
     "output_type": "execute_result"
    }
   ],
   "source": [
    "a.argmin()  # at what index in a is the min located?"
   ]
  },
  {
   "cell_type": "code",
   "execution_count": 37,
   "id": "6a475050",
   "metadata": {},
   "outputs": [
    {
     "data": {
      "text/plain": [
       "11"
      ]
     },
     "execution_count": 37,
     "metadata": {},
     "output_type": "execute_result"
    }
   ],
   "source": [
    "a.argmax()   # at what index in a is the max located?"
   ]
  },
  {
   "cell_type": "code",
   "execution_count": 39,
   "id": "95ddae20",
   "metadata": {},
   "outputs": [
    {
     "data": {
      "text/plain": [
       "[10, 20, 30, 10, 20, 30]"
      ]
     },
     "execution_count": 39,
     "metadata": {},
     "output_type": "execute_result"
    }
   ],
   "source": [
    "mylist = [10, 20, 30]  # regular Python list\n",
    "\n",
    "# what happens if I add it to itself?\n",
    "# we get a new list with all of the elements twice\n",
    "mylist + mylist"
   ]
  },
  {
   "cell_type": "code",
   "execution_count": 40,
   "id": "dde48299",
   "metadata": {},
   "outputs": [
    {
     "ename": "TypeError",
     "evalue": "can only concatenate list (not \"int\") to list",
     "output_type": "error",
     "traceback": [
      "\u001b[0;31m---------------------------------------------------------------------------\u001b[0m",
      "\u001b[0;31mTypeError\u001b[0m                                 Traceback (most recent call last)",
      "Cell \u001b[0;32mIn [40], line 3\u001b[0m\n\u001b[1;32m      1\u001b[0m \u001b[38;5;66;03m# what happens if I add 5 to mylist?\u001b[39;00m\n\u001b[0;32m----> 3\u001b[0m \u001b[43mmylist\u001b[49m\u001b[43m \u001b[49m\u001b[38;5;241;43m+\u001b[39;49m\u001b[43m \u001b[49m\u001b[38;5;241;43m5\u001b[39;49m\n",
      "\u001b[0;31mTypeError\u001b[0m: can only concatenate list (not \"int\") to list"
     ]
    }
   ],
   "source": [
    "# what happens if I add 5 to mylist?\n",
    "\n",
    "mylist + 5"
   ]
  },
  {
   "cell_type": "code",
   "execution_count": 41,
   "id": "017d979a",
   "metadata": {},
   "outputs": [
    {
     "data": {
      "text/plain": [
       "array([20, 40, 60])"
      ]
     },
     "execution_count": 41,
     "metadata": {},
     "output_type": "execute_result"
    }
   ],
   "source": [
    "# What happens if we do the same to a NumPy array?\n",
    "\n",
    "a = np.array([10, 20, 30])\n",
    "\n",
    "a + a  "
   ]
  },
  {
   "cell_type": "code",
   "execution_count": 43,
   "id": "36a113cc",
   "metadata": {},
   "outputs": [
    {
     "data": {
      "text/plain": [
       "array([50, 70, 90])"
      ]
     },
     "execution_count": 43,
     "metadata": {},
     "output_type": "execute_result"
    }
   ],
   "source": [
    "# if you add two arrays to each other:\n",
    "# (a) They must be of the same size\n",
    "# (b) we'll get a new array back , also of the same size, with the addition\n",
    "#  performed on a per-index basis.\n",
    "\n",
    "b = np.array([40, 50, 60])\n",
    "a + b"
   ]
  },
  {
   "cell_type": "code",
   "execution_count": 44,
   "id": "77ab0aa2",
   "metadata": {},
   "outputs": [
    {
     "ename": "ValueError",
     "evalue": "operands could not be broadcast together with shapes (3,) (4,) ",
     "output_type": "error",
     "traceback": [
      "\u001b[0;31m---------------------------------------------------------------------------\u001b[0m",
      "\u001b[0;31mValueError\u001b[0m                                Traceback (most recent call last)",
      "Cell \u001b[0;32mIn [44], line 3\u001b[0m\n\u001b[1;32m      1\u001b[0m c \u001b[38;5;241m=\u001b[39m np\u001b[38;5;241m.\u001b[39marray([\u001b[38;5;241m100\u001b[39m, \u001b[38;5;241m200\u001b[39m, \u001b[38;5;241m300\u001b[39m, \u001b[38;5;241m400\u001b[39m])\n\u001b[0;32m----> 3\u001b[0m \u001b[43ma\u001b[49m\u001b[43m \u001b[49m\u001b[38;5;241;43m+\u001b[39;49m\u001b[43m \u001b[49m\u001b[43mc\u001b[49m\n",
      "\u001b[0;31mValueError\u001b[0m: operands could not be broadcast together with shapes (3,) (4,) "
     ]
    }
   ],
   "source": [
    "c = np.array([100, 200, 300, 400])\n",
    "\n",
    "a + c"
   ]
  },
  {
   "cell_type": "code",
   "execution_count": 45,
   "id": "486b34c5",
   "metadata": {},
   "outputs": [
    {
     "data": {
      "text/plain": [
       "array([15, 25, 35])"
      ]
     },
     "execution_count": 45,
     "metadata": {},
     "output_type": "execute_result"
    }
   ],
   "source": [
    "# what happens if we add 5 to a?\n",
    "\n",
    "a + 5  # this is \"broadcasting!\""
   ]
  },
  {
   "cell_type": "markdown",
   "id": "1a5628c0",
   "metadata": {},
   "source": [
    "# Broadcasting\n",
    "\n",
    "If you try to perform a mathematical operation involving 1 array and 1 scalar value, then the operation is performed on each element of the array and that scalar value, resulting in a new array."
   ]
  },
  {
   "cell_type": "code",
   "execution_count": 46,
   "id": "8540749f",
   "metadata": {},
   "outputs": [
    {
     "data": {
      "text/plain": [
       "array([13, 23, 33, 43, 53])"
      ]
     },
     "execution_count": 46,
     "metadata": {},
     "output_type": "execute_result"
    }
   ],
   "source": [
    "a = np.array([10, 20, 30, 40, 50])\n",
    "\n",
    "a + 3"
   ]
  },
  {
   "cell_type": "code",
   "execution_count": 47,
   "id": "cb445ba8",
   "metadata": {},
   "outputs": [
    {
     "data": {
      "text/plain": [
       "array([ 7, 17, 27, 37, 47])"
      ]
     },
     "execution_count": 47,
     "metadata": {},
     "output_type": "execute_result"
    }
   ],
   "source": [
    "a - 3"
   ]
  },
  {
   "cell_type": "code",
   "execution_count": 48,
   "id": "b0af8904",
   "metadata": {},
   "outputs": [
    {
     "data": {
      "text/plain": [
       "array([ 30,  60,  90, 120, 150])"
      ]
     },
     "execution_count": 48,
     "metadata": {},
     "output_type": "execute_result"
    }
   ],
   "source": [
    "a * 3"
   ]
  },
  {
   "cell_type": "code",
   "execution_count": 49,
   "id": "ce535f40",
   "metadata": {},
   "outputs": [
    {
     "data": {
      "text/plain": [
       "array([ 3.33333333,  6.66666667, 10.        , 13.33333333, 16.66666667])"
      ]
     },
     "execution_count": 49,
     "metadata": {},
     "output_type": "execute_result"
    }
   ],
   "source": [
    "a / 3    # notice -- / always results in a float"
   ]
  },
  {
   "cell_type": "code",
   "execution_count": 50,
   "id": "f48a43d8",
   "metadata": {},
   "outputs": [
    {
     "data": {
      "text/plain": [
       "array([ 3,  6, 10, 13, 16])"
      ]
     },
     "execution_count": 50,
     "metadata": {},
     "output_type": "execute_result"
    }
   ],
   "source": [
    "a // 3   # truediv -- truncates any fractional part"
   ]
  },
  {
   "cell_type": "code",
   "execution_count": 51,
   "id": "b45a8be7",
   "metadata": {},
   "outputs": [
    {
     "data": {
      "text/plain": [
       "array([  1000,   8000,  27000,  64000, 125000])"
      ]
     },
     "execution_count": 51,
     "metadata": {},
     "output_type": "execute_result"
    }
   ],
   "source": [
    "a ** 3"
   ]
  },
  {
   "cell_type": "code",
   "execution_count": 52,
   "id": "98a89e4f",
   "metadata": {},
   "outputs": [
    {
     "data": {
      "text/plain": [
       "array([1, 2, 0, 1, 2])"
      ]
     },
     "execution_count": 52,
     "metadata": {},
     "output_type": "execute_result"
    }
   ],
   "source": [
    "a % 3"
   ]
  },
  {
   "cell_type": "code",
   "execution_count": 54,
   "id": "5161017b",
   "metadata": {},
   "outputs": [
    {
     "data": {
      "text/plain": [
       "array([52.04774796, 67.88795301, 72.06326547, 58.20197921, 53.73732294,\n",
       "       75.86156243, 10.59076072, 47.36004193, 18.63323433, 73.69181771])"
      ]
     },
     "execution_count": 54,
     "metadata": {},
     "output_type": "execute_result"
    }
   ],
   "source": [
    "# remember our floating-point random numbers?\n",
    "\n",
    "np.random.rand(10) * 100   # now I have 10 floats between 0-100"
   ]
  },
  {
   "cell_type": "code",
   "execution_count": 55,
   "id": "df068680",
   "metadata": {},
   "outputs": [
    {
     "data": {
      "text/plain": [
       "array([5., 5., 5., 5., 5., 5., 5., 5., 5., 5.])"
      ]
     },
     "execution_count": 55,
     "metadata": {},
     "output_type": "execute_result"
    }
   ],
   "source": [
    "# remember np.ones and np.zeros?  I can use addition/multiplication to get\n",
    "# an array of any number I want.\n",
    "\n",
    "np.ones(10) * 5"
   ]
  },
  {
   "cell_type": "code",
   "execution_count": 56,
   "id": "0c911330",
   "metadata": {},
   "outputs": [
    {
     "data": {
      "text/plain": [
       "array([10, 20, 30, 40, 50])"
      ]
     },
     "execution_count": 56,
     "metadata": {},
     "output_type": "execute_result"
    }
   ],
   "source": [
    "# I can retrieve (as we've seen) from an array\n",
    "a"
   ]
  },
  {
   "cell_type": "code",
   "execution_count": 57,
   "id": "42805409",
   "metadata": {},
   "outputs": [
    {
     "data": {
      "text/plain": [
       "30"
      ]
     },
     "execution_count": 57,
     "metadata": {},
     "output_type": "execute_result"
    }
   ],
   "source": [
    "a[2]"
   ]
  },
  {
   "cell_type": "code",
   "execution_count": 58,
   "id": "00a64aa2",
   "metadata": {},
   "outputs": [
    {
     "data": {
      "text/plain": [
       "50"
      ]
     },
     "execution_count": 58,
     "metadata": {},
     "output_type": "execute_result"
    }
   ],
   "source": [
    "a[4]"
   ]
  },
  {
   "cell_type": "code",
   "execution_count": 59,
   "id": "f635bc98",
   "metadata": {},
   "outputs": [
    {
     "data": {
      "text/plain": [
       "array([30, 50])"
      ]
     },
     "execution_count": 59,
     "metadata": {},
     "output_type": "execute_result"
    }
   ],
   "source": [
    "# can I get *both* of these values back?\n",
    "# yes, with \"fancy indexing\"\n",
    "# instead of passing a single index value to [], I pass a list of values\n",
    "# yes, this means double square brackets!\n",
    "\n",
    "a[   [2, 4 ]   ]    # exaggerated whitespace for pedagogical effect"
   ]
  },
  {
   "cell_type": "code",
   "execution_count": 60,
   "id": "9f7f5fca",
   "metadata": {},
   "outputs": [
    {
     "data": {
      "text/plain": [
       "array([30, 40, 30, 40, 30, 40])"
      ]
     },
     "execution_count": 60,
     "metadata": {},
     "output_type": "execute_result"
    }
   ],
   "source": [
    "a[  [2,3,2,3,2,3] ]"
   ]
  },
  {
   "cell_type": "code",
   "execution_count": 61,
   "id": "d076645d",
   "metadata": {},
   "outputs": [
    {
     "data": {
      "text/plain": [
       "35.0"
      ]
     },
     "execution_count": 61,
     "metadata": {},
     "output_type": "execute_result"
    }
   ],
   "source": [
    "a[  [2,3,2,3,2,3] ].mean()"
   ]
  },
  {
   "cell_type": "markdown",
   "id": "a87b7ef5",
   "metadata": {},
   "source": [
    "# Exercises with NumPy\n",
    "\n",
    "1. Get the 10-day forecast for your city. Create two NumPy arrays -- `highs` with the expected high temps and `lows` with the expected low temps.\n",
    "2. Find the mean high temp in the coming days.\n",
    "3. Find the std for high temps, as well.\n",
    "4. If you entered the temperature in Fahrenheit, convert the temperature to Celsius. (If you used Celsius, convert to Fahrenheight.)\n",
    "5. Calculate the mean difference between highs and lows in the coming days."
   ]
  },
  {
   "cell_type": "code",
   "execution_count": 62,
   "id": "8e3c384e",
   "metadata": {},
   "outputs": [],
   "source": [
    "highs = np.array([51, 48, 56, 61, 68, 67, 63, 66, 63, 65])\n",
    "lows = np.array([32, 34, 40, 43, 49, 47, 46, 44, 45, 45])"
   ]
  },
  {
   "cell_type": "code",
   "execution_count": 63,
   "id": "70d405de",
   "metadata": {},
   "outputs": [
    {
     "data": {
      "text/plain": [
       "array([51, 48, 56, 61, 68, 67, 63, 66, 63, 65])"
      ]
     },
     "execution_count": 63,
     "metadata": {},
     "output_type": "execute_result"
    }
   ],
   "source": [
    "highs"
   ]
  },
  {
   "cell_type": "code",
   "execution_count": 64,
   "id": "37d27ff6",
   "metadata": {},
   "outputs": [
    {
     "data": {
      "text/plain": [
       "array([32, 34, 40, 43, 49, 47, 46, 44, 45, 45])"
      ]
     },
     "execution_count": 64,
     "metadata": {},
     "output_type": "execute_result"
    }
   ],
   "source": [
    "lows"
   ]
  },
  {
   "cell_type": "code",
   "execution_count": 65,
   "id": "2e4c03bb",
   "metadata": {},
   "outputs": [
    {
     "data": {
      "text/plain": [
       "60.8"
      ]
     },
     "execution_count": 65,
     "metadata": {},
     "output_type": "execute_result"
    }
   ],
   "source": [
    "# mean high temp\n",
    "highs.mean()"
   ]
  },
  {
   "cell_type": "code",
   "execution_count": 66,
   "id": "b3385d1d",
   "metadata": {},
   "outputs": [
    {
     "data": {
      "text/plain": [
       "60.8"
      ]
     },
     "execution_count": 66,
     "metadata": {},
     "output_type": "execute_result"
    }
   ],
   "source": [
    "highs.sum() / highs.size"
   ]
  },
  {
   "cell_type": "code",
   "execution_count": 67,
   "id": "71bef52b",
   "metadata": {},
   "outputs": [
    {
     "data": {
      "text/plain": [
       "6.539113089708726"
      ]
     },
     "execution_count": 67,
     "metadata": {},
     "output_type": "execute_result"
    }
   ],
   "source": [
    "highs.std()"
   ]
  },
  {
   "cell_type": "code",
   "execution_count": 68,
   "id": "12d00b0a",
   "metadata": {},
   "outputs": [
    {
     "data": {
      "text/plain": [
       "array([10.55555556,  8.88888889, 13.33333333, 16.11111111, 20.        ,\n",
       "       19.44444444, 17.22222222, 18.88888889, 17.22222222, 18.33333333])"
      ]
     },
     "execution_count": 68,
     "metadata": {},
     "output_type": "execute_result"
    }
   ],
   "source": [
    "# C = (F-32) * (5/9)\n",
    "\n",
    "(highs-32) * (5/9)"
   ]
  },
  {
   "cell_type": "code",
   "execution_count": 69,
   "id": "5036970e",
   "metadata": {},
   "outputs": [
    {
     "data": {
      "text/plain": [
       "array([19, 16, 24, 29, 36, 35, 31, 34, 31, 33])"
      ]
     },
     "execution_count": 69,
     "metadata": {},
     "output_type": "execute_result"
    }
   ],
   "source": [
    "highs-32"
   ]
  },
  {
   "cell_type": "code",
   "execution_count": 70,
   "id": "f32a9319",
   "metadata": {},
   "outputs": [
    {
     "data": {
      "text/plain": [
       "array([19, 14, 16, 18, 19, 20, 17, 22, 18, 20])"
      ]
     },
     "execution_count": 70,
     "metadata": {},
     "output_type": "execute_result"
    }
   ],
   "source": [
    "highs - lows"
   ]
  },
  {
   "cell_type": "code",
   "execution_count": 71,
   "id": "34c6760e",
   "metadata": {},
   "outputs": [
    {
     "data": {
      "text/plain": [
       "18.3"
      ]
     },
     "execution_count": 71,
     "metadata": {},
     "output_type": "execute_result"
    }
   ],
   "source": [
    "# if I have an array, then I can calculate the mean on it\n",
    "\n",
    "(highs - lows).mean()"
   ]
  },
  {
   "cell_type": "code",
   "execution_count": 72,
   "id": "274bd822",
   "metadata": {},
   "outputs": [
    {
     "data": {
      "text/plain": [
       "18.299999999999997"
      ]
     },
     "execution_count": 72,
     "metadata": {},
     "output_type": "execute_result"
    }
   ],
   "source": [
    "# this calculates the mean on each array, and then subtracts a float from another float\n",
    "highs.mean() - lows.mean()"
   ]
  },
  {
   "cell_type": "code",
   "execution_count": 73,
   "id": "5e1acacc",
   "metadata": {},
   "outputs": [
    {
     "data": {
      "text/plain": [
       "18.3"
      ]
     },
     "execution_count": 73,
     "metadata": {},
     "output_type": "execute_result"
    }
   ],
   "source": [
    "# this creates a new array based on invoking - on highs and lows, then \n",
    "# calculates the mean on that new array\n",
    "(highs-lows).mean()   "
   ]
  },
  {
   "cell_type": "code",
   "execution_count": 74,
   "id": "a3095e9b",
   "metadata": {},
   "outputs": [
    {
     "name": "stdout",
     "output_type": "stream",
     "text": [
      "10.5 µs ± 111 ns per loop (mean ± std. dev. of 7 runs, 100,000 loops each)\n"
     ]
    }
   ],
   "source": [
    "%timeit highs.mean() - lows.mean()"
   ]
  },
  {
   "cell_type": "code",
   "execution_count": 75,
   "id": "b8b95d42",
   "metadata": {},
   "outputs": [
    {
     "name": "stdout",
     "output_type": "stream",
     "text": [
      "6.52 µs ± 115 ns per loop (mean ± std. dev. of 7 runs, 100,000 loops each)\n"
     ]
    }
   ],
   "source": [
    "%timeit (highs-lows).mean()   "
   ]
  },
  {
   "cell_type": "code",
   "execution_count": 76,
   "id": "fd37e026",
   "metadata": {},
   "outputs": [
    {
     "data": {
      "text/plain": [
       "array([ 0,  1,  2,  3,  4,  5,  6,  7,  8,  9, 10, 11, 12, 13, 14, 15, 16,\n",
       "       17, 18, 19, 20, 21, 22, 23, 24, 25, 26, 27, 28, 29, 30, 31, 32, 33,\n",
       "       34, 35, 36, 37, 38, 39, 40, 41, 42, 43, 44, 45, 46, 47, 48, 49, 50,\n",
       "       51, 52, 53, 54, 55, 56, 57, 58, 59, 60, 61, 62, 63, 64, 65, 66, 67,\n",
       "       68, 69, 70, 71, 72, 73, 74, 75, 76, 77, 78, 79, 80, 81, 82, 83, 84,\n",
       "       85, 86, 87, 88, 89, 90, 91, 92, 93, 94, 95, 96, 97, 98, 99])"
      ]
     },
     "execution_count": 76,
     "metadata": {},
     "output_type": "execute_result"
    }
   ],
   "source": [
    "np.array(np.arange(100))"
   ]
  },
  {
   "cell_type": "code",
   "execution_count": 77,
   "id": "c138e9c0",
   "metadata": {},
   "outputs": [
    {
     "data": {
      "text/plain": [
       "array([100, 200, 300])"
      ]
     },
     "execution_count": 77,
     "metadata": {},
     "output_type": "execute_result"
    }
   ],
   "source": [
    "np.array((100, 200, 300))"
   ]
  },
  {
   "cell_type": "code",
   "execution_count": 78,
   "id": "de77a227",
   "metadata": {},
   "outputs": [
    {
     "data": {
      "text/plain": [
       "array({1: 'hello', 2: 'goodbye', 3: 'whatever'}, dtype=object)"
      ]
     },
     "execution_count": 78,
     "metadata": {},
     "output_type": "execute_result"
    }
   ],
   "source": [
    "np.array({1:'hello', 2:'goodbye', 3:'whatever'})"
   ]
  },
  {
   "cell_type": "code",
   "execution_count": 79,
   "id": "d990a617",
   "metadata": {},
   "outputs": [
    {
     "data": {
      "text/plain": [
       "array([False, False,  True, False, False])"
      ]
     },
     "execution_count": 79,
     "metadata": {},
     "output_type": "execute_result"
    }
   ],
   "source": [
    "# what about if I try to check equality -- that's also a mathematical operation!\n",
    "\n",
    "a = np.array([10, 20, 30, 40, 50])\n",
    "\n",
    "a == 30   # what will be the result?   I get back a boolean array"
   ]
  },
  {
   "cell_type": "markdown",
   "id": "df2e5cb1",
   "metadata": {},
   "source": [
    "# Mask arrays / mask index\n",
    "\n",
    "If you invoke `[]` on an array and give it a single integer, you get the value at that index.\n",
    "\n",
    "If you invoke `[]` on an array and give it a list of integers, you get the values at each of those indexes (\"fancy indexing\").\n",
    "\n",
    "If you invoke `[]` on an array and give it a list of *booleans*, you get the values that correspond to `True` values. The `False` values are ignored."
   ]
  },
  {
   "cell_type": "code",
   "execution_count": 80,
   "id": "19dee4a1",
   "metadata": {},
   "outputs": [
    {
     "data": {
      "text/plain": [
       "array([10, 30, 40])"
      ]
     },
     "execution_count": 80,
     "metadata": {},
     "output_type": "execute_result"
    }
   ],
   "source": [
    "#   10    20    30    40      50\n",
    "\n",
    "a[[True, False, True, True, False]]"
   ]
  },
  {
   "cell_type": "code",
   "execution_count": 81,
   "id": "9368d81f",
   "metadata": {},
   "outputs": [
    {
     "data": {
      "text/plain": [
       "array([30])"
      ]
     },
     "execution_count": 81,
     "metadata": {},
     "output_type": "execute_result"
    }
   ],
   "source": [
    "# we can combine these latest two techniques to retrieve only \n",
    "# the elements of an array that fit a condition.\n",
    "\n",
    "# (1) we get a boolean array from calculating a==30\n",
    "# (2) we apply that boolean array to a, getting those elements for which it's true\n",
    "\n",
    "a[ a==30 ]"
   ]
  },
  {
   "cell_type": "code",
   "execution_count": 83,
   "id": "42a3f270",
   "metadata": {},
   "outputs": [
    {
     "data": {
      "text/plain": [
       "array([10, 20])"
      ]
     },
     "execution_count": 83,
     "metadata": {},
     "output_type": "execute_result"
    }
   ],
   "source": [
    "a[ a < 30 ]    #get the elements less than 30 in a"
   ]
  },
  {
   "cell_type": "markdown",
   "id": "e086260e",
   "metadata": {},
   "source": [
    "# Using and reading mask indexes\n",
    "\n",
    "1. You first create a boolean array based on a condition and broadcasting.\n",
    "2. You apply that boolean array as a mask index to the array.\n",
    "\n",
    "This means, of course, that you can apply a boolean array created from one array, to another one.  They all have to be the same size, but if they are, this can work."
   ]
  },
  {
   "cell_type": "code",
   "execution_count": 86,
   "id": "b676fdb8",
   "metadata": {},
   "outputs": [
    {
     "data": {
      "text/plain": [
       "array([10, 12, 14, 16])"
      ]
     },
     "execution_count": 86,
     "metadata": {},
     "output_type": "execute_result"
    }
   ],
   "source": [
    "a = np.array([10, 11, 12, 13, 14, 15, 16])\n",
    "\n",
    "# I want to see the even numbers in a\n",
    "\n",
    "a[a%2 == 0]"
   ]
  },
  {
   "cell_type": "code",
   "execution_count": 87,
   "id": "f7006b6e",
   "metadata": {},
   "outputs": [
    {
     "data": {
      "text/plain": [
       "array([10, 11, 10, 11, 10, 11, 10])"
      ]
     },
     "execution_count": 87,
     "metadata": {},
     "output_type": "execute_result"
    }
   ],
   "source": [
    "# what happens if I decide I want odd nubmers, and in such a case,\n",
    "# I don't need to perform a comparison! I can simply ask a%2. If it's 1,\n",
    "# then that'll be seen as True. If it's 0, it'll be seen as False.\n",
    "\n",
    "a[a%2]   # a%2 gives me an array of integers (not booleans)"
   ]
  },
  {
   "cell_type": "markdown",
   "id": "3efbf38a",
   "metadata": {},
   "source": [
    "# Exercises:\n",
    "\n",
    "1. Create an array of 20 random integers from 0 to 100.\n",
    "2. Find the largest even number.\n",
    "3. Find the mean of the odd numbers.\n",
    "4. Find items that are less than the mean.\n",
    "5. Find items less than the mean-std."
   ]
  },
  {
   "cell_type": "code",
   "execution_count": 89,
   "id": "882a444e",
   "metadata": {},
   "outputs": [
    {
     "data": {
      "text/plain": [
       "array([44, 47, 64, 67, 67,  9, 83, 21, 36, 87, 70, 88, 88, 12, 58, 65, 39,\n",
       "       87, 46, 88])"
      ]
     },
     "execution_count": 89,
     "metadata": {},
     "output_type": "execute_result"
    }
   ],
   "source": [
    "np.random.seed(0)\n",
    "a = np.random.randint(0, 100, 20)\n",
    "a"
   ]
  },
  {
   "cell_type": "code",
   "execution_count": 92,
   "id": "15d88975",
   "metadata": {},
   "outputs": [
    {
     "data": {
      "text/plain": [
       "array([44, 64, 36, 70, 88, 88, 12, 58, 46, 88])"
      ]
     },
     "execution_count": 92,
     "metadata": {},
     "output_type": "execute_result"
    }
   ],
   "source": [
    "# find the even numbers\n",
    "\n",
    "a[a%2 == 0]"
   ]
  },
  {
   "cell_type": "code",
   "execution_count": 93,
   "id": "4186cf3a",
   "metadata": {},
   "outputs": [
    {
     "data": {
      "text/plain": [
       "88"
      ]
     },
     "execution_count": 93,
     "metadata": {},
     "output_type": "execute_result"
    }
   ],
   "source": [
    "# get the *largest* even number with .max()\n",
    "\n",
    "a[a%2 == 0].max()"
   ]
  },
  {
   "cell_type": "code",
   "execution_count": 97,
   "id": "8c3a52fe",
   "metadata": {},
   "outputs": [
    {
     "data": {
      "text/plain": [
       "57.2"
      ]
     },
     "execution_count": 97,
     "metadata": {},
     "output_type": "execute_result"
    }
   ],
   "source": [
    "# find the odd numbers\n",
    "\n",
    "a[a%2 == 1].mean()"
   ]
  },
  {
   "cell_type": "code",
   "execution_count": 100,
   "id": "e6324d4b",
   "metadata": {},
   "outputs": [
    {
     "data": {
      "text/plain": [
       "array([44, 47,  9, 21, 36, 12, 58, 39, 46])"
      ]
     },
     "execution_count": 100,
     "metadata": {},
     "output_type": "execute_result"
    }
   ],
   "source": [
    "# find items less than the mean\n",
    "\n",
    "a[a < a.mean()]"
   ]
  },
  {
   "cell_type": "code",
   "execution_count": 103,
   "id": "5758bd39",
   "metadata": {},
   "outputs": [
    {
     "data": {
      "text/plain": [
       "array([ 9, 21, 12])"
      ]
     },
     "execution_count": 103,
     "metadata": {},
     "output_type": "execute_result"
    }
   ],
   "source": [
    "# find items less than 1 std below the mean\n",
    "\n",
    "# show me elements of a\n",
    "# where the elements are less than mean() - std()\n",
    "\n",
    "a[a < a.mean() - a.std()]"
   ]
  },
  {
   "cell_type": "markdown",
   "id": "8a4b0302",
   "metadata": {},
   "source": [
    "# Next up\n",
    "\n",
    "1. More complex conditions (and + or + not)\n",
    "2. dtypes + `nan`\n",
    "\n",
    "Return at :50"
   ]
  },
  {
   "cell_type": "markdown",
   "id": "08660827",
   "metadata": {},
   "source": [
    "# More complex conditions\n",
    "\n",
    "What if I want to find all of the even numbers that are < the mean?\n",
    "\n",
    "If I have some Python experience, I would try something like this..."
   ]
  },
  {
   "cell_type": "code",
   "execution_count": 105,
   "id": "b8d4b66a",
   "metadata": {},
   "outputs": [
    {
     "ename": "ValueError",
     "evalue": "The truth value of an array with more than one element is ambiguous. Use a.any() or a.all()",
     "output_type": "error",
     "traceback": [
      "\u001b[0;31m---------------------------------------------------------------------------\u001b[0m",
      "\u001b[0;31mValueError\u001b[0m                                Traceback (most recent call last)",
      "Cell \u001b[0;32mIn [105], line 1\u001b[0m\n\u001b[0;32m----> 1\u001b[0m a[\u001b[43ma\u001b[49m\u001b[43m \u001b[49m\u001b[38;5;241;43m%\u001b[39;49m\u001b[43m \u001b[49m\u001b[38;5;241;43m2\u001b[39;49m\u001b[43m \u001b[49m\u001b[38;5;241;43m==\u001b[39;49m\u001b[43m \u001b[49m\u001b[38;5;241;43m0\u001b[39;49m\u001b[43m \u001b[49m\u001b[38;5;129;43;01mand\u001b[39;49;00m\u001b[43m \u001b[49m\u001b[43ma\u001b[49m\u001b[43m \u001b[49m\u001b[38;5;241;43m<\u001b[39;49m\u001b[43m \u001b[49m\u001b[43ma\u001b[49m\u001b[38;5;241;43m.\u001b[39;49m\u001b[43mmean\u001b[49m\u001b[43m(\u001b[49m\u001b[43m)\u001b[49m]\n",
      "\u001b[0;31mValueError\u001b[0m: The truth value of an array with more than one element is ambiguous. Use a.any() or a.all()"
     ]
    }
   ],
   "source": [
    "a[a % 2 == 0 and a < a.mean()]"
   ]
  },
  {
   "cell_type": "markdown",
   "id": "955a80ce",
   "metadata": {},
   "source": [
    "# Boolean context\n",
    "\n",
    "Remember that in Python, when we have an `if` or a `while`, it looks to its right, and if the value is boolean, it decides what to do.\n",
    "\n",
    "But if the value is *not* boolean, then `if` and `while` turn that value into a boolean, and then act accordingly. You can do this manually by invoking `bool`.\n",
    "\n",
    "The problem is that `and` (and `or` and `not`) all work in this way, too. So if you use `and` somewhere, it looks to its right, turns that value into a boolean, looks to its left, turns that value into a boolean, and then decides what to do.\n",
    "\n",
    "In the above example, `and` tried to turn two values into booleans -- 0 and `a`.  (That's because `and` has higher priority than `==` and `<`.)"
   ]
  },
  {
   "cell_type": "code",
   "execution_count": 106,
   "id": "959bcc8c",
   "metadata": {},
   "outputs": [
    {
     "ename": "ValueError",
     "evalue": "The truth value of an array with more than one element is ambiguous. Use a.any() or a.all()",
     "output_type": "error",
     "traceback": [
      "\u001b[0;31m---------------------------------------------------------------------------\u001b[0m",
      "\u001b[0;31mValueError\u001b[0m                                Traceback (most recent call last)",
      "Cell \u001b[0;32mIn [106], line 3\u001b[0m\n\u001b[1;32m      1\u001b[0m \u001b[38;5;66;03m# we really did this:\u001b[39;00m\n\u001b[0;32m----> 3\u001b[0m a[a \u001b[38;5;241m%\u001b[39m \u001b[38;5;241m2\u001b[39m \u001b[38;5;241m==\u001b[39m (\u001b[38;5;241m0\u001b[39m \u001b[38;5;129;01mand\u001b[39;00m a) \u001b[38;5;241m<\u001b[39m a\u001b[38;5;241m.\u001b[39mmean()]\n",
      "\u001b[0;31mValueError\u001b[0m: The truth value of an array with more than one element is ambiguous. Use a.any() or a.all()"
     ]
    }
   ],
   "source": [
    "# we really did this:\n",
    "\n",
    "a[a % 2 == (0 and a) < a.mean()]"
   ]
  },
  {
   "cell_type": "markdown",
   "id": "e3dcfc45",
   "metadata": {},
   "source": [
    "Beyond all of the other problems, NumPy arrays do *not* allow you to turn them into booleans.  Empty arrays are `False`, and arrays with one element follow that element. Otherwise, you'll get an error.\n",
    "\n",
    "NumPy solves this problem by *not* using `and`, `or`, and `not`.  Instead, it hijacks the bitwise operators `&`, `|`, and `~`.  These are the operators we should be using in NumPy if we want this sort of thing.\n",
    "\n",
    "It's not enough to swap out `and` and swap in `&`. Rather, you also need to put parentheses around each of the expressions on the side of `&`, to ensure that priority works correctly."
   ]
  },
  {
   "cell_type": "code",
   "execution_count": 109,
   "id": "c5428005",
   "metadata": {},
   "outputs": [
    {
     "data": {
      "text/plain": [
       "array([44, 36, 12, 58, 46])"
      ]
     },
     "execution_count": 109,
     "metadata": {},
     "output_type": "execute_result"
    }
   ],
   "source": [
    "# this works, and here I split it across lines\n",
    "\n",
    "a[(a % 2 == 0) & \n",
    "  (a < a.mean())]"
   ]
  },
  {
   "cell_type": "markdown",
   "id": "ee530d9b",
   "metadata": {},
   "source": [
    "# Basic rule for complex conditions\n",
    "\n",
    "1. Put each expression in parentheses\n",
    "2. Use `&`, `|`, and `~`\n",
    "3. Put each expression on a separate line for greater readiblity."
   ]
  },
  {
   "cell_type": "markdown",
   "id": "0cf19a90",
   "metadata": {},
   "source": [
    "# Exercises\n",
    "\n",
    "1. Create an array of 20 random integers from 1-1,000.\n",
    "2. What's the smallest even number greater than the mean?\n",
    "3. Show all numbers that are either < mean-std  or > mean+std.\n",
    "4. Show odd numbers < mean, and even numbers > mean."
   ]
  },
  {
   "cell_type": "code",
   "execution_count": 110,
   "id": "121d2f8e",
   "metadata": {},
   "outputs": [
    {
     "data": {
      "text/plain": [
       "array([684, 559, 629, 192, 835, 763, 707, 359,   9, 723, 277, 754, 804,\n",
       "       599,  70, 472, 600, 396, 314, 705])"
      ]
     },
     "execution_count": 110,
     "metadata": {},
     "output_type": "execute_result"
    }
   ],
   "source": [
    "np.random.seed(0)\n",
    "a = np.random.randint(0, 1000, 20)\n",
    "a"
   ]
  },
  {
   "cell_type": "code",
   "execution_count": 111,
   "id": "7e68b40e",
   "metadata": {},
   "outputs": [
    {
     "data": {
      "text/plain": [
       "array([ True, False, False,  True, False, False, False, False, False,\n",
       "       False, False,  True,  True, False,  True,  True,  True,  True,\n",
       "        True, False])"
      ]
     },
     "execution_count": 111,
     "metadata": {},
     "output_type": "execute_result"
    }
   ],
   "source": [
    "# smallest even number greater than the mean\n",
    "\n",
    "(a%2==0)"
   ]
  },
  {
   "cell_type": "code",
   "execution_count": 113,
   "id": "b2b9262b",
   "metadata": {},
   "outputs": [
    {
     "data": {
      "text/plain": [
       "array([ True,  True,  True, False,  True,  True,  True, False, False,\n",
       "        True, False,  True,  True,  True, False, False,  True, False,\n",
       "       False,  True])"
      ]
     },
     "execution_count": 113,
     "metadata": {},
     "output_type": "execute_result"
    }
   ],
   "source": [
    "(a>a.mean())"
   ]
  },
  {
   "cell_type": "code",
   "execution_count": 116,
   "id": "812a7ce3",
   "metadata": {},
   "outputs": [
    {
     "data": {
      "text/plain": [
       "600"
      ]
     },
     "execution_count": 116,
     "metadata": {},
     "output_type": "execute_result"
    }
   ],
   "source": [
    "a[(a%2==0) & \n",
    "  (a>a.mean())].min()"
   ]
  },
  {
   "cell_type": "code",
   "execution_count": 119,
   "id": "2f3fae9c",
   "metadata": {},
   "outputs": [
    {
     "data": {
      "text/plain": [
       "array([192, 835,   9, 277, 804,  70])"
      ]
     },
     "execution_count": 119,
     "metadata": {},
     "output_type": "execute_result"
    }
   ],
   "source": [
    "# Show all numbers that are either < mean-std or > mean+std.\n",
    "\n",
    "a[(a < a.mean()-a.std()) | (a > a.mean()+a.std())]"
   ]
  },
  {
   "cell_type": "code",
   "execution_count": 122,
   "id": "1598db98",
   "metadata": {},
   "outputs": [
    {
     "data": {
      "text/plain": [
       "array([684, 359,   9, 277, 754, 804, 600])"
      ]
     },
     "execution_count": 122,
     "metadata": {},
     "output_type": "execute_result"
    }
   ],
   "source": [
    "# Show odd numbers < mean, and even numbers > mean.\n",
    "\n",
    "a[((a%2 == 1) & (a<a.mean()))    | \n",
    "  (a%2 == 0) & (a>a.mean())]"
   ]
  },
  {
   "cell_type": "markdown",
   "id": "73b5674a",
   "metadata": {},
   "source": [
    "# Underlying data types -- `dtype`\n",
    "\n",
    "In C, there isn't any such thing as \"an integer.\" An integer has a certain number of bits. The compiler needs to know how many bits your int will want, so that it can allocate the right amount of memory to that value.\n",
    "\n",
    "Because NumPy uses C behind the scenes, we need to think (most) like C programmers when it comes to our data sizes. We should indicate how many bits we want to use for our values.\n",
    "\n",
    "This is known as the `dtype`, and every NumPy array has that attribute. All of the values in the array *must* be of the same dtype."
   ]
  },
  {
   "cell_type": "code",
   "execution_count": 123,
   "id": "ebcc8669",
   "metadata": {},
   "outputs": [
    {
     "data": {
      "text/plain": [
       "dtype('int64')"
      ]
     },
     "execution_count": 123,
     "metadata": {},
     "output_type": "execute_result"
    }
   ],
   "source": [
    "a = np.array([10, 20, 30, 40, 50])\n",
    "a.dtype"
   ]
  },
  {
   "cell_type": "code",
   "execution_count": 124,
   "id": "b62fd6bc",
   "metadata": {},
   "outputs": [
    {
     "data": {
      "text/plain": [
       "dtype('int64')"
      ]
     },
     "execution_count": 124,
     "metadata": {},
     "output_type": "execute_result"
    }
   ],
   "source": [
    "# we can express this as:\n",
    "\n",
    "np.dtype('int64')"
   ]
  },
  {
   "cell_type": "code",
   "execution_count": 126,
   "id": "538dec69",
   "metadata": {},
   "outputs": [
    {
     "data": {
      "text/plain": [
       "numpy.int64"
      ]
     },
     "execution_count": 126,
     "metadata": {},
     "output_type": "execute_result"
    }
   ],
   "source": [
    "np.int64   # another way to do it"
   ]
  },
  {
   "cell_type": "code",
   "execution_count": 127,
   "id": "deda58fb",
   "metadata": {},
   "outputs": [
    {
     "data": {
      "text/plain": [
       "array([10, 20, 30, 40, 50], dtype=int32)"
      ]
     },
     "execution_count": 127,
     "metadata": {},
     "output_type": "execute_result"
    }
   ],
   "source": [
    "# that's not the only option! This means that each int is using 8 bytes (= 64 bits)\n",
    "# What if I want to save some memory? I can set the dtype when I create the array.\n",
    "\n",
    "a = np.array([10, 20, 30, 40, 50], dtype=np.int32)\n",
    "a"
   ]
  },
  {
   "cell_type": "code",
   "execution_count": 128,
   "id": "f8e10980",
   "metadata": {},
   "outputs": [
    {
     "data": {
      "text/plain": [
       "array([10, 20, 30, 40, 50], dtype=int16)"
      ]
     },
     "execution_count": 128,
     "metadata": {},
     "output_type": "execute_result"
    }
   ],
   "source": [
    "# what's the advantage? We're using roughy half of the memory we needed with int64.\n",
    "# maybe we can go smaller still?\n",
    "\n",
    "a = np.array([10, 20, 30, 40, 50], dtype=np.int16)\n",
    "a"
   ]
  },
  {
   "cell_type": "code",
   "execution_count": 129,
   "id": "26624b49",
   "metadata": {},
   "outputs": [
    {
     "data": {
      "text/plain": [
       "array([10, 20, 30, 40, 50], dtype=int8)"
      ]
     },
     "execution_count": 129,
     "metadata": {},
     "output_type": "execute_result"
    }
   ],
   "source": [
    "# I can even go down to np.int8, 1 byte / 8 bits for each number\n",
    "\n",
    "a = np.array([10, 20, 30, 40, 50], dtype=np.int8)\n",
    "a"
   ]
  },
  {
   "cell_type": "code",
   "execution_count": 130,
   "id": "4b1eb600",
   "metadata": {},
   "outputs": [
    {
     "data": {
      "text/plain": [
       "array([ -24,  -48,  -72,  -96, -120], dtype=int8)"
      ]
     },
     "execution_count": 130,
     "metadata": {},
     "output_type": "execute_result"
    }
   ],
   "source": [
    "# if you can shave off memory usage by changing to a smaller dtype, you should!\n",
    "# but....\n",
    "\n",
    "a * 100   # broadcast *100 to every element of a"
   ]
  },
  {
   "cell_type": "markdown",
   "id": "a45a1efc",
   "metadata": {},
   "source": [
    "# Choosing a `dtype`\n",
    "\n",
    "You are always navigating between two constraints:\n",
    "\n",
    "- Use the smallest possible `dtype` that you can, to save memory. If we have 1b rows of data, and each is an integer, then switching from `int64` to `int8` can save us 7/8 of the memory needs!\n",
    "- Don't use too small of a `dtype`, because you might end up ruining/truncating data that spills over the number of bits available.\n",
    "\n",
    "The practical advice is: Use the smallest `dtype` you can, taking into account some padding or extra space that you might need in the future."
   ]
  },
  {
   "cell_type": "markdown",
   "id": "95265114",
   "metadata": {},
   "source": [
    "# What dypes exist?\n",
    "\n",
    "- Integers\n",
    "    - `int64` (default)\n",
    "    - `int32`\n",
    "    - `int16`\n",
    "    - `int8`\n",
    "- Unsigned integers\n",
    "    - `uint64`\n",
    "    - `uint32`\n",
    "    - `uint16`\n",
    "    - `uint8`\n",
    "- Floats\n",
    "    - `float128`\n",
    "    - `float64` (default)\n",
    "    - `float32`\n",
    "    - `float16`"
   ]
  },
  {
   "cell_type": "code",
   "execution_count": 131,
   "id": "725f870d",
   "metadata": {},
   "outputs": [
    {
     "data": {
      "text/plain": [
       "array([10, 20, 30, 40, 50], dtype=int8)"
      ]
     },
     "execution_count": 131,
     "metadata": {},
     "output_type": "execute_result"
    }
   ],
   "source": [
    "a"
   ]
  },
  {
   "cell_type": "code",
   "execution_count": 132,
   "id": "a5ea11cd",
   "metadata": {},
   "outputs": [
    {
     "data": {
      "text/plain": [
       "array([10, 20, 30])"
      ]
     },
     "execution_count": 132,
     "metadata": {},
     "output_type": "execute_result"
    }
   ],
   "source": [
    "a = np.array([10, 20, 30])\n",
    "a"
   ]
  },
  {
   "cell_type": "code",
   "execution_count": 133,
   "id": "e8debbca",
   "metadata": {},
   "outputs": [
    {
     "data": {
      "text/plain": [
       "array([10. , 20.5, 30. ])"
      ]
     },
     "execution_count": 133,
     "metadata": {},
     "output_type": "execute_result"
    }
   ],
   "source": [
    "a = np.array([10, 20.5, 30])\n",
    "a"
   ]
  },
  {
   "cell_type": "code",
   "execution_count": 134,
   "id": "a76a7449",
   "metadata": {},
   "outputs": [
    {
     "data": {
      "text/plain": [
       "dtype('float64')"
      ]
     },
     "execution_count": 134,
     "metadata": {},
     "output_type": "execute_result"
    }
   ],
   "source": [
    "a.dtype"
   ]
  },
  {
   "cell_type": "code",
   "execution_count": 135,
   "id": "572daa0e",
   "metadata": {},
   "outputs": [
    {
     "data": {
      "text/plain": [
       "array([10, 20, 30, 40, 50])"
      ]
     },
     "execution_count": 135,
     "metadata": {},
     "output_type": "execute_result"
    }
   ],
   "source": [
    "a = np.array([10, 20, 30, 40, 50])\n",
    "a"
   ]
  },
  {
   "cell_type": "code",
   "execution_count": 138,
   "id": "a7a91d6a",
   "metadata": {},
   "outputs": [],
   "source": [
    "# what if I want to change the dtype?\n",
    "# don't do this!\n",
    "a.dtype = np.int32"
   ]
  },
  {
   "cell_type": "code",
   "execution_count": 137,
   "id": "ee515cb8",
   "metadata": {},
   "outputs": [
    {
     "data": {
      "text/plain": [
       "array([10,  0, 20,  0, 30,  0, 40,  0, 50,  0], dtype=int32)"
      ]
     },
     "execution_count": 137,
     "metadata": {},
     "output_type": "execute_result"
    }
   ],
   "source": [
    "a"
   ]
  },
  {
   "cell_type": "code",
   "execution_count": 139,
   "id": "420a1ed9",
   "metadata": {},
   "outputs": [
    {
     "data": {
      "text/plain": [
       "array([10,  0,  0,  0,  0,  0,  0,  0, 20,  0,  0,  0,  0,  0,  0,  0, 30,\n",
       "        0,  0,  0,  0,  0,  0,  0, 40,  0,  0,  0,  0,  0,  0,  0, 50,  0,\n",
       "        0,  0,  0,  0,  0,  0], dtype=int8)"
      ]
     },
     "execution_count": 139,
     "metadata": {},
     "output_type": "execute_result"
    }
   ],
   "source": [
    "a.dtype = np.int8\n",
    "a"
   ]
  },
  {
   "cell_type": "code",
   "execution_count": 140,
   "id": "c7ca541e",
   "metadata": {},
   "outputs": [],
   "source": [
    "# can I turn it into a bunch of floats?\n",
    "a.dtype = np.float64"
   ]
  },
  {
   "cell_type": "code",
   "execution_count": 141,
   "id": "b5e58053",
   "metadata": {},
   "outputs": [
    {
     "data": {
      "text/plain": [
       "array([4.94e-323, 9.88e-323, 1.48e-322, 1.98e-322, 2.47e-322])"
      ]
     },
     "execution_count": 141,
     "metadata": {},
     "output_type": "execute_result"
    }
   ],
   "source": [
    "a"
   ]
  },
  {
   "cell_type": "code",
   "execution_count": 142,
   "id": "bc6a2bbb",
   "metadata": {},
   "outputs": [],
   "source": [
    "# get back to sanity\n",
    "a.dtype = np.int64"
   ]
  },
  {
   "cell_type": "code",
   "execution_count": 143,
   "id": "7e3d8f0d",
   "metadata": {},
   "outputs": [
    {
     "data": {
      "text/plain": [
       "array([10, 20, 30, 40, 50])"
      ]
     },
     "execution_count": 143,
     "metadata": {},
     "output_type": "execute_result"
    }
   ],
   "source": [
    "a"
   ]
  },
  {
   "cell_type": "code",
   "execution_count": null,
   "id": "8b33bedd",
   "metadata": {},
   "outputs": [],
   "source": [
    "# if I have an array and I want to turn it into another dtype,\n",
    "# I have to use the .astype method, which takes a dtype as an argument,\n",
    "# and assign it (back to) a variable\n",
    "\n",
    "a.astype(np.float64)"
   ]
  }
 ],
 "metadata": {
  "kernelspec": {
   "display_name": "Python 3 (ipykernel)",
   "language": "python",
   "name": "python3"
  },
  "language_info": {
   "codemirror_mode": {
    "name": "ipython",
    "version": 3
   },
   "file_extension": ".py",
   "mimetype": "text/x-python",
   "name": "python",
   "nbconvert_exporter": "python",
   "pygments_lexer": "ipython3",
   "version": "3.11.3"
  }
 },
 "nbformat": 4,
 "nbformat_minor": 5
}
