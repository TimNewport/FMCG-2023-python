{
 "cells": [
  {
   "cell_type": "markdown",
   "id": "d047f243",
   "metadata": {},
   "source": [
    "# Agenda\n",
    "\n",
    "1. NumPy\n",
    "    - NumPy arrays\n",
    "    - Setting + retrieving\n",
    "    - Broadcasting\n",
    "    - Boolean / mask arrays for retrieving\n",
    "    - dtypes and `nan`\n",
    "2. Pandas\n",
    "    - series vs. data frames\n",
    "    - creating a series, from scratch or via NumPy"
   ]
  },
  {
   "cell_type": "markdown",
   "id": "8b9509ce",
   "metadata": {},
   "source": [
    "# What is NumPy? Why do we care?\n",
    "\n",
    "Python is *not*:\n",
    "\n",
    "- slim (in terms of memory)\n",
    "- fast (in terms of execution)\n",
    "\n"
   ]
  },
  {
   "cell_type": "code",
   "execution_count": 1,
   "id": "674acb11",
   "metadata": {},
   "outputs": [
    {
     "data": {
      "text/plain": [
       "28"
      ]
     },
     "execution_count": 1,
     "metadata": {},
     "output_type": "execute_result"
    }
   ],
   "source": [
    "import sys\n",
    "x = 0\n",
    "\n",
    "sys.getsizeof(x) # how many bytes does this integer use in memory?"
   ]
  },
  {
   "cell_type": "code",
   "execution_count": 4,
   "id": "3dbb68fe",
   "metadata": {},
   "outputs": [
    {
     "data": {
      "text/plain": [
       "28"
      ]
     },
     "execution_count": 4,
     "metadata": {},
     "output_type": "execute_result"
    }
   ],
   "source": [
    "x = 100_000_000\n",
    "sys.getsizeof(x)"
   ]
  },
  {
   "cell_type": "markdown",
   "id": "fbbef022",
   "metadata": {},
   "source": [
    "# What does NumPy do?\n",
    "\n",
    "The problem is that everything in Python is an object, and thus it's really big.\n",
    "\n",
    "In C, integers are tiny -- at the most, they're 64 bits (8 bytes) in size.  \n",
    "\n",
    "NumPy allows us to use C data structures with a Python API.  We (mostly) feel like we're working in Python, but we're gaining the speed and memory usage of C.\n",
    "\n",
    "The big deal in NumPy is actually one data structure, the NumPy array, aka `ndarray` -- it's an n-dimensional array.  If you're a mathematician or a physicist, then you'll want all of those dimensions.  We'll be using just 1-dimensional arrays and 2D arrays.\n",
    "\n",
    "A NumPy array actually has two pieces:\n",
    "\n",
    "- The Python part, which we work with\n",
    "- The C part, where it allocates memory and works with it at that level\n",
    "\n"
   ]
  },
  {
   "cell_type": "code",
   "execution_count": 5,
   "id": "0e146014",
   "metadata": {},
   "outputs": [],
   "source": [
    "# let's load NumPy!\n",
    "\n",
    "import numpy as np     "
   ]
  },
  {
   "cell_type": "code",
   "execution_count": 6,
   "id": "06aff0ac",
   "metadata": {},
   "outputs": [
    {
     "data": {
      "text/plain": [
       "numpy.ndarray"
      ]
     },
     "execution_count": 6,
     "metadata": {},
     "output_type": "execute_result"
    }
   ],
   "source": [
    "# create a NumPy array\n",
    "# we *don't* directly use np.ndarray, even though it exists!\n",
    "\n",
    "# rather, we'll use np.array, and pass it a regular Python list, which it'll turn\n",
    "# into a NumPy array with the appropriate back-end values\n",
    "\n",
    "a = np.array([10, 20, 30, 40, 50, 60, 70])\n",
    "type(a)"
   ]
  },
  {
   "cell_type": "code",
   "execution_count": 7,
   "id": "1898d860",
   "metadata": {},
   "outputs": [
    {
     "data": {
      "text/plain": [
       "array([10, 20, 30, 40, 50, 60, 70])"
      ]
     },
     "execution_count": 7,
     "metadata": {},
     "output_type": "execute_result"
    }
   ],
   "source": [
    "a"
   ]
  },
  {
   "cell_type": "code",
   "execution_count": 8,
   "id": "c97138f9",
   "metadata": {},
   "outputs": [
    {
     "data": {
      "text/plain": [
       "40"
      ]
     },
     "execution_count": 8,
     "metadata": {},
     "output_type": "execute_result"
    }
   ],
   "source": [
    "# things that are similar between lists and arrays\n",
    "# basic retrieval\n",
    "\n",
    "a[3]   #get the element at index 3"
   ]
  },
  {
   "cell_type": "code",
   "execution_count": 9,
   "id": "51ef9534",
   "metadata": {},
   "outputs": [
    {
     "data": {
      "text/plain": [
       "array([10, 20, 30, 41, 50, 60, 70])"
      ]
     },
     "execution_count": 9,
     "metadata": {},
     "output_type": "execute_result"
    }
   ],
   "source": [
    "# arrays are mutable\n",
    "a[3] = 41\n",
    "a"
   ]
  },
  {
   "cell_type": "code",
   "execution_count": 10,
   "id": "5c4cb2ae",
   "metadata": {},
   "outputs": [],
   "source": [
    "# they are iterable, as well -- so we can put them in a for loop\n",
    "\n",
    "# but DON'T DO THAT!"
   ]
  },
  {
   "cell_type": "code",
   "execution_count": 11,
   "id": "0d8c5b76",
   "metadata": {},
   "outputs": [],
   "source": [
    "# a few other ways to create NumPy arrays\n",
    "\n",
    "# (1) get a range, using np.arange (similar to Python's \"range\" builtin)\n",
    "a = np.arange(10, 200, 3)   # start at 10, end before 200, step size 3"
   ]
  },
  {
   "cell_type": "code",
   "execution_count": 12,
   "id": "b6eead2a",
   "metadata": {},
   "outputs": [
    {
     "data": {
      "text/plain": [
       "array([ 10,  13,  16,  19,  22,  25,  28,  31,  34,  37,  40,  43,  46,\n",
       "        49,  52,  55,  58,  61,  64,  67,  70,  73,  76,  79,  82,  85,\n",
       "        88,  91,  94,  97, 100, 103, 106, 109, 112, 115, 118, 121, 124,\n",
       "       127, 130, 133, 136, 139, 142, 145, 148, 151, 154, 157, 160, 163,\n",
       "       166, 169, 172, 175, 178, 181, 184, 187, 190, 193, 196, 199])"
      ]
     },
     "execution_count": 12,
     "metadata": {},
     "output_type": "execute_result"
    }
   ],
   "source": [
    "a"
   ]
  },
  {
   "cell_type": "code",
   "execution_count": 13,
   "id": "05646a4f",
   "metadata": {},
   "outputs": [
    {
     "data": {
      "text/plain": [
       "array([0., 0., 0., 0., 0., 0., 0., 0., 0., 0.])"
      ]
     },
     "execution_count": 13,
     "metadata": {},
     "output_type": "execute_result"
    }
   ],
   "source": [
    "# (2) get a bunch of 0s\n",
    "np.zeros(10)   # it's spelled \"zeros\" not \"zeroes\""
   ]
  },
  {
   "cell_type": "code",
   "execution_count": 14,
   "id": "1c2d0369",
   "metadata": {},
   "outputs": [
    {
     "data": {
      "text/plain": [
       "array([1., 1., 1., 1., 1., 1., 1., 1., 1., 1.])"
      ]
     },
     "execution_count": 14,
     "metadata": {},
     "output_type": "execute_result"
    }
   ],
   "source": [
    "# (3) get a bunch of 1s\n",
    "np.ones(10)"
   ]
  },
  {
   "cell_type": "code",
   "execution_count": 17,
   "id": "74c9d16b",
   "metadata": {},
   "outputs": [
    {
     "data": {
      "text/plain": [
       "array([44, 47, 64, 67, 67,  9, 83, 21, 36, 87, 70, 88, 88, 12, 58, 65, 39,\n",
       "       87, 46, 88])"
      ]
     },
     "execution_count": 17,
     "metadata": {},
     "output_type": "execute_result"
    }
   ],
   "source": [
    "# (4) get a bunch of random integers\n",
    "\n",
    "np.random.seed(0)    # start the random-number generator at a known value\n",
    "np.random.randint(0, 100, 20)   # 20 random ints from 0-100 (not including 100)"
   ]
  },
  {
   "cell_type": "code",
   "execution_count": 22,
   "id": "c4cf0d79",
   "metadata": {},
   "outputs": [
    {
     "data": {
      "text/plain": [
       "array([ 9, 12, 21, 36, 39, 44, 46, 47, 58, 64, 65, 67, 70, 83, 87, 88])"
      ]
     },
     "execution_count": 22,
     "metadata": {},
     "output_type": "execute_result"
    }
   ],
   "source": [
    "\n",
    "np.random.seed(0)    # start the random-number generator at a known value\n",
    "a = np.random.randint(0, 100, 20)\n",
    "np.unique(a)"
   ]
  },
  {
   "cell_type": "code",
   "execution_count": 18,
   "id": "8ef514fd",
   "metadata": {},
   "outputs": [
    {
     "data": {
      "text/plain": [
       "array([0.3927848 , 0.83607876, 0.33739616, 0.64817187, 0.36824154,\n",
       "       0.95715516, 0.14035078, 0.87008726, 0.47360805, 0.80091075])"
      ]
     },
     "execution_count": 18,
     "metadata": {},
     "output_type": "execute_result"
    }
   ],
   "source": [
    "# (5 ) get a bunch of random floats from 0-1\n",
    "\n",
    "np.random.rand(10)    # each result is a float in that range"
   ]
  },
  {
   "cell_type": "code",
   "execution_count": null,
   "id": "2153cb44",
   "metadata": {},
   "outputs": [],
   "source": []
  },
  {
   "cell_type": "code",
   "execution_count": null,
   "id": "8df0556a",
   "metadata": {},
   "outputs": [],
   "source": []
  },
  {
   "cell_type": "code",
   "execution_count": 24,
   "id": "659567fd",
   "metadata": {},
   "outputs": [
    {
     "data": {
      "text/plain": [
       "1166"
      ]
     },
     "execution_count": 24,
     "metadata": {},
     "output_type": "execute_result"
    }
   ],
   "source": [
    "# methods we can run on a NumPy array\n",
    "\n",
    "a.sum()"
   ]
  },
  {
   "cell_type": "code",
   "execution_count": 27,
   "id": "e36f2f59",
   "metadata": {},
   "outputs": [
    {
     "data": {
      "text/plain": [
       "20"
      ]
     },
     "execution_count": 27,
     "metadata": {},
     "output_type": "execute_result"
    }
   ],
   "source": [
    "a.size   # this is not a method -- this is a data attribute!"
   ]
  },
  {
   "cell_type": "code",
   "execution_count": 28,
   "id": "abe6e964",
   "metadata": {},
   "outputs": [
    {
     "data": {
      "text/plain": [
       "58.3"
      ]
     },
     "execution_count": 28,
     "metadata": {},
     "output_type": "execute_result"
    }
   ],
   "source": [
    "a.mean()  # mean"
   ]
  },
  {
   "cell_type": "code",
   "execution_count": 29,
   "id": "7160fc1a",
   "metadata": {},
   "outputs": [
    {
     "data": {
      "text/plain": [
       "25.088044961694404"
      ]
     },
     "execution_count": 29,
     "metadata": {},
     "output_type": "execute_result"
    }
   ],
   "source": [
    "a.std()   # standard deviation"
   ]
  },
  {
   "cell_type": "code",
   "execution_count": 30,
   "id": "f56f15b6",
   "metadata": {},
   "outputs": [
    {
     "data": {
      "text/plain": [
       "9"
      ]
     },
     "execution_count": 30,
     "metadata": {},
     "output_type": "execute_result"
    }
   ],
   "source": [
    "a.min()\n"
   ]
  },
  {
   "cell_type": "code",
   "execution_count": 31,
   "id": "46e80dc7",
   "metadata": {},
   "outputs": [
    {
     "data": {
      "text/plain": [
       "88"
      ]
     },
     "execution_count": 31,
     "metadata": {},
     "output_type": "execute_result"
    }
   ],
   "source": [
    "a.max()"
   ]
  },
  {
   "cell_type": "code",
   "execution_count": 36,
   "id": "186a2e1e",
   "metadata": {},
   "outputs": [
    {
     "data": {
      "text/plain": [
       "5"
      ]
     },
     "execution_count": 36,
     "metadata": {},
     "output_type": "execute_result"
    }
   ],
   "source": [
    "a.argmin()  # at what index in a is the min located?"
   ]
  },
  {
   "cell_type": "code",
   "execution_count": 37,
   "id": "55c629ed",
   "metadata": {},
   "outputs": [
    {
     "data": {
      "text/plain": [
       "11"
      ]
     },
     "execution_count": 37,
     "metadata": {},
     "output_type": "execute_result"
    }
   ],
   "source": [
    "a.argmax()   # at what index in a is the max located?"
   ]
  },
  {
   "cell_type": "code",
   "execution_count": null,
   "id": "70f132d2",
   "metadata": {},
   "outputs": [],
   "source": []
  }
 ],
 "metadata": {
  "kernelspec": {
   "display_name": "Python 3 (ipykernel)",
   "language": "python",
   "name": "python3"
  },
  "language_info": {
   "codemirror_mode": {
    "name": "ipython",
    "version": 3
   },
   "file_extension": ".py",
   "mimetype": "text/x-python",
   "name": "python",
   "nbconvert_exporter": "python",
   "pygments_lexer": "ipython3",
   "version": "3.11.3"
  }
 },
 "nbformat": 4,
 "nbformat_minor": 5
}
