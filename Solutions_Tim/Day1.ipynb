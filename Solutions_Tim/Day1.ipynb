{
 "cells": [
  {
   "cell_type": "markdown",
   "metadata": {},
   "source": []
  },
  {
   "cell_type": "code",
   "execution_count": 8,
   "metadata": {},
   "outputs": [
    {
     "name": "stdout",
     "output_type": "stream",
     "text": [
      "True\n"
     ]
    }
   ],
   "source": [
    "x = 'True'\n",
    "\n",
    "if x:\n",
    "    print('True')"
   ]
  },
  {
   "cell_type": "code",
   "execution_count": 23,
   "metadata": {},
   "outputs": [
    {
     "name": "stdout",
     "output_type": "stream",
     "text": [
      "Please provide us with your name\n",
      "Please provide us with your company name\n",
      "You are me! Cool!\n",
      "\n"
     ]
    }
   ],
   "source": [
    "print('Please provide us with your name')\n",
    "\n",
    "person_name = input('Enter your name:').casefold().strip()\n",
    "\n",
    "print('Please provide us with your company name')\n",
    "\n",
    "company_name = input('Enter your company').casefold().strip()\n",
    "out = ''\n",
    "\n",
    "if person_name == 'tim' and company_name == 'deluxe':\n",
    "    out += \"You are me! Cool!\\n\"\n",
    "elif person_name == 'tim' and company_name != 'deluxe':\n",
    "    out += \"How is the work life balance?\\n\"\n",
    "elif person_name == 'tim' and company_name != 'deluxe':\n",
    "    out += \"How is the work life balance?\\n\"\n",
    "elif person_name != 'tim' and company_name == 'deluxe':\n",
    "    out += \"Do you come in on anchor day?\\n\"\n",
    "else:\n",
    "    out += \"nice to meet you!\"\n",
    "print(out)\n"
   ]
  },
  {
   "attachments": {},
   "cell_type": "markdown",
   "metadata": {},
   "source": [
    "Random guessing game"
   ]
  },
  {
   "cell_type": "code",
   "execution_count": 43,
   "metadata": {},
   "outputs": [
    {
     "name": "stdout",
     "output_type": "stream",
     "text": [
      "70\n",
      " input is not a number; try again\n",
      "you got it\n"
     ]
    }
   ],
   "source": [
    "import random as r\n",
    "num = r.randint(1,100)\n",
    "\n",
    "print(num)\n",
    "\n",
    "while True:\n",
    "    try:\n",
    "        guess =  int(input(\"Please enter your guess\"))\n",
    "        break\n",
    "    except:\n",
    "        print(\" input is not a number; try again\")\n",
    "\n",
    "if guess > num:\n",
    "    print('too high')\n",
    "elif guess < num:\n",
    "    print('too low')\n",
    "else:\n",
    "     print('you got it')\n",
    "\n"
   ]
  },
  {
   "cell_type": "code",
   "execution_count": 50,
   "metadata": {},
   "outputs": [
    {
     "name": "stdout",
     "output_type": "stream",
     "text": [
      "This is a \"fun\" 'string'\n",
      "this is a long string to write on one line\n"
     ]
    }
   ],
   "source": [
    "x = \"\"\"This is a \"fun\" 'string'\"\"\"\n",
    "\n",
    "y = \"this is a long string \" \\\n",
    "    \"to write on one line\"\n",
    "\n",
    "print(x)\n",
    "print(y)"
   ]
  },
  {
   "attachments": {},
   "cell_type": "markdown",
   "metadata": {},
   "source": [
    "# Exercise: Pig Latin translator!The rules of Pig Latin:1. We check the first letter of a word. If it's a vowel (a, e, i, o, or u) then we add `way` to the word.\n",
    "\n",
    "2. In all other cases, we take the first letter, move it to the end, and add `ay`.Examples:- `computer` -> `omputercay`\n",
    "\n",
    "- `table` -> `abletay`\n",
    "\n",
    "- `papaya` -> `apayapay`\n",
    "\n",
    "- `amoeba` -> `amoebaway`1. Ask the user to enter a word (all lowercase, no punctuation, no spaces)\n",
    "\n",
    "2. Print the word, translated into Pig Latin.\n"
   ]
  },
  {
   "cell_type": "code",
   "execution_count": 12,
   "metadata": {},
   "outputs": [
    {
     "name": "stdout",
     "output_type": "stream",
     "text": [
      "elphay emay ithway ymay omeworkhay \n"
     ]
    }
   ],
   "source": [
    "# define a function to translate a word to Pig Latin\n",
    "def pig_latin_word(word,doCluster = False):\n",
    "    # list of vowels\n",
    "    vowels = 'aeiou'\n",
    "    word = word.casefold().strip()\n",
    "    # check if the word starts with a vowel\n",
    "    if word[0] in vowels:\n",
    "        # add 'way' to the end of the word\n",
    "        pig_latin = word + 'way'\n",
    "    else:\n",
    "        if not doCluster:\n",
    "            #move first char to end of string\n",
    "            pig_latin = word[1:] + word[0] + 'ay'\n",
    "        else:\n",
    "            # find the index of the first vowel in the word\n",
    "            for i in range(len(word)):\n",
    "                if word[i] in vowels:\n",
    "                    # move the consonant cluster to the end of the word\n",
    "                    pig_latin = word[i:] + word[:i] + 'ay'\n",
    "                    break  # break out of the loop after finding the first vowel\n",
    "\n",
    "    return pig_latin\n",
    "\n",
    "# get input from user and split it into words\n",
    "sentence = input(\"Enter a sentence to translate to Pig Latin: \")\n",
    "words = sentence.split()\n",
    "\n",
    "# translate each word to Pig Latin\n",
    "pig_latin_sentence = \"\"\n",
    "for word in words:\n",
    "    pig_latin_sentence += pig_latin_word(word) + \" \"\n",
    "\n",
    "# print the translated sentence\n",
    "print(pig_latin_sentence)"
   ]
  },
  {
   "cell_type": "code",
   "execution_count": null,
   "metadata": {},
   "outputs": [],
   "source": []
  }
 ],
 "metadata": {
  "kernelspec": {
   "display_name": "pyspark_glue",
   "language": "python",
   "name": "python3"
  },
  "language_info": {
   "codemirror_mode": {
    "name": "ipython",
    "version": 3
   },
   "file_extension": ".py",
   "mimetype": "text/x-python",
   "name": "python",
   "nbconvert_exporter": "python",
   "pygments_lexer": "ipython3",
   "version": "3.7.13"
  },
  "orig_nbformat": 4
 },
 "nbformat": 4,
 "nbformat_minor": 2
}
