{
 "cells": [
  {
   "cell_type": "code",
   "execution_count": 2,
   "metadata": {},
   "outputs": [
    {
     "name": "stdout",
     "output_type": "stream",
     "text": [
      "[ 7 12 14 17 20 22 29 37 38 52 53 57 58 64 76 79 81 96]\n"
     ]
    }
   ],
   "source": [
    "# what is the best way in np to get a list of 20 unique integer?\n",
    "import numpy as np\n",
    "\n",
    "rand_ints = np.random.randint(1, 100, 20)  # choose 20 random integers between 1 and 100\n",
    "unique_ints = np.unique(rand_ints)  # get only the unique integers from the list\n",
    "\n",
    "print(unique_ints) "
   ]
  },
  {
   "attachments": {},
   "cell_type": "markdown",
   "metadata": {},
   "source": [
    "# Exercises with NumPy\n",
    "\n",
    "1. Get the 10-day forecast for your city. Create two NumPy arrays -- `highs` with the expected high temps and `lows` with the expected low temps.\n",
    "2. Find the mean high temp in the coming days.\n",
    "3. Find the std for high temps, as well.\n",
    "4. If you entered the temperature in Fahrenheit, convert the temperature to Celsius. (If you used Celsius, convert to Fahrenheight.) Do this for each answer so it displays a F and C result.\n",
    "5. Calculate the mean difference between highs and lows in the coming days."
   ]
  },
  {
   "cell_type": "code",
   "execution_count": 13,
   "metadata": {},
   "outputs": [
    {
     "name": "stdout",
     "output_type": "stream",
     "text": [
      "Mean high temperature: 66.4 F, 19.1 C\n",
      "High temperature standard deviation: 2.33 F, 1.30 C\n",
      "High temperatures in Celsius: [19.44444444 20.         20.55555556 20.         17.22222222 16.66666667\n",
      " 17.77777778 19.44444444 20.         20.        ], in Fahrenheit: [67. 68. 69. 68. 63. 62. 64. 67. 68. 68.]\n",
      "Low temperatures in Celsius: [12.77777778 12.77777778 13.33333333 12.22222222 11.11111111 10.55555556\n",
      " 12.22222222 12.22222222 12.77777778 12.77777778], in Fahrenheit: [55. 55. 56. 54. 52. 51. 54. 54. 55. 55.]\n",
      "Mean temperature difference: 12.3 F, -10.9 C\n"
     ]
    }
   ],
   "source": [
    "import numpy as np\n",
    "\n",
    "# hypothetical forecast for the week of May 25th in San Francisco\n",
    "highs = np.array([67, 68, 69, 68, 63, 62, 64, 67, 68, 68])\n",
    "lows = np.array([55, 55, 56, 54, 52, 51, 54, 54, 55, 55])\n",
    "\n",
    "mean_highs = np.mean(highs)\n",
    "print(f\"Mean high temperature: {mean_highs} F, {(mean_highs-32)*5/9:.1f} C\")\n",
    "\n",
    "std_highs = np.std(highs)\n",
    "print(f\"High temperature standard deviation: {std_highs:.2f} F, {(std_highs)*5/9:.2f} C\")\n",
    "\n",
    "def convert_temp(temp_array, method):\n",
    "    \"\"\"NP array conversion\n",
    "\n",
    "    Args:\n",
    "        temp_array (np.array): temps\n",
    "        method (string): FtoC or CtoF\n",
    "\n",
    "    Returns:\n",
    "        np.array: result temps\n",
    "    \"\"\"\n",
    "    if method == \"FtoC\":\n",
    "        return (temp_array - 32) * 5/9\n",
    "    elif method == \"CtoF\":\n",
    "        return (temp_array * 9/5) + 32\n",
    "    else:\n",
    "        return 0\n",
    "\n",
    "# converting highs array to Celsius\n",
    "highs_C = convert_temp(highs, \"FtoC\")\n",
    "low_c = convert_temp(lows, \"FtoC\")\n",
    "\n",
    "print(f\"High temperatures in Celsius: {highs_C}, in Fahrenheit: {convert_temp(highs_C, 'CtoF')}\")\n",
    "print(f\"Low temperatures in Celsius: {low_c}, in Fahrenheit: {convert_temp(low_c, 'CtoF')}\")\n",
    "\n",
    "mean_diff = np.mean(highs - lows)\n",
    "print(f\"Mean temperature difference: {mean_diff} F, {convert_temp(mean_diff, 'FtoC'):.1f} C\")"
   ]
  },
  {
   "attachments": {},
   "cell_type": "markdown",
   "metadata": {},
   "source": [
    "# Exercises:\n",
    "\n",
    "\n",
    "1. Create an array of 20 random integers from 0 to 100.\n",
    "2. Find the largest even number.\n",
    "3. Find the mean of the odd numbers.\n",
    "4. Find items that are less than the mean.\n",
    "5. Find items less than the mean-std."
   ]
  },
  {
   "cell_type": "code",
   "execution_count": 23,
   "metadata": {},
   "outputs": [
    {
     "name": "stdout",
     "output_type": "stream",
     "text": [
      "Array: [41, 52, 81, 89, 91, 76, 91, 20, 27, 65, 11, 77, 46, 8, 10, 50, 82, 41, 90, 9]\n",
      "Largest even number: 90\n",
      "Mean of odd numbers: 56.63636363636363\n",
      "Items less than the mean: [41, 52, 20, 27, 11, 46, 8, 10, 50, 41, 9]\n",
      "Items less than the mean-std: [20, 11, 8, 10, 9]\n"
     ]
    }
   ],
   "source": [
    "# %%timeit\n",
    "import random\n",
    "import statistics\n",
    "\n",
    "# 1. Create an array of 20 random integers from 0 to 100.\n",
    "arr = [random.randint(0, 100) for i in range(20)]\n",
    "print(f\"Array: {arr}\")\n",
    "\n",
    "# 2. Find the largest even number.\n",
    "even_nums = [num for num in arr if num % 2 == 0]\n",
    "largest_even = max(even_nums)\n",
    "print(f\"Largest even number: {largest_even}\")\n",
    "\n",
    "# 3. Find the mean of the odd numbers.\n",
    "odd_nums = [num for num in arr if num % 2 != 0]\n",
    "mean_odd = statistics.mean(odd_nums)\n",
    "print(f\"Mean of odd numbers: {mean_odd}\")\n",
    "\n",
    "# 4. Find items that are less than the mean.\n",
    "less_than_mean = [num for num in arr if num < statistics.mean(arr)]\n",
    "print(f\"Items less than the mean: {less_than_mean}\")\n",
    "\n",
    "# 5. Find items less than the mean-std.\n",
    "less_than_mean_std = [num for num in arr if num < statistics.mean(arr) - statistics.stdev(arr)]\n",
    "print(f\"Items less than the mean-std: {less_than_mean_std}\")"
   ]
  },
  {
   "cell_type": "code",
   "execution_count": 24,
   "metadata": {},
   "outputs": [
    {
     "name": "stdout",
     "output_type": "stream",
     "text": [
      "Array: [17 15  0 11 84 98 52 51 82 84 28 28 18 23 72  8 61  3 97 88]\n",
      "Largest even number: 98\n",
      "Mean of odd numbers: 34.75\n",
      "Items less than the mean: [17 15  0 11 28 28 18 23  8  3]\n",
      "Items less than the mean-std: [ 0 11  8  3]\n"
     ]
    }
   ],
   "source": [
    "# %%timeit\n",
    "import nu\n",
    "# 4. Find items that are less than the mean.\n",
    "below_mean = arr[arr < np.mean(arr)]\n",
    "print(f\"Items less than the mean: {below_mean}\")\n",
    "\n",
    "# 5. Find items less than the mean-std.\n",
    "below_mean_std = arr[arr < np.mmpy as np\n",
    "\n",
    "# 1. Create an np array of 20 random integers from 0 to 100.\n",
    "arr = np.random.randint(0, 100, 20)\n",
    "print(f\"Array: {arr}\")\n",
    "\n",
    "# 2. Find the largest even number.\n",
    "even_nums = arr[arr % 2 == 0]\n",
    "largest_even = np.max(even_nums)\n",
    "print(f\"Largest even number: {largest_even}\")\n",
    "\n",
    "# 3. Find the mean of the odd numbers.\n",
    "odd_nums = arr[arr % 2 != 0]\n",
    "odd_mean = np.mean(odd_nums)\n",
    "print(f\"Mean of odd numbers: {odd_mean}\")\n",
    "ean(arr) - np.std(arr)]\n",
    "print(f\"Items less than the mean-std: {below_mean_std}\")"
   ]
  },
  {
   "cell_type": "code",
   "execution_count": 33,
   "metadata": {},
   "outputs": [
    {
     "name": "stdout",
     "output_type": "stream",
     "text": [
      "[60 29 93 65 14 91 98 55 18 31 89 25 32 63  9 83  5 16 98 41]\n",
      "[14 18 32 16]\n"
     ]
    }
   ],
   "source": [
    "a = np.random.randint(1, 100, 20) \n",
    "print(a)\n",
    "print(a[(a % 2 == 0) & (a < a.mean())])"
   ]
  },
  {
   "attachments": {},
   "cell_type": "markdown",
   "metadata": {},
   "source": [
    "# NP Exercises \n",
    "\n",
    "1. Create an array of 20 random integers from 1-1,000.\n",
    "2. What's the smallest even number greater than the mean?\n",
    "3. Show all numbers that are either < mean-std  or > mean+std.\n",
    "4. Show odd numbers < mean, and even numbers > mean."
   ]
  },
  {
   "cell_type": "code",
   "execution_count": 35,
   "metadata": {},
   "outputs": [
    {
     "name": "stdout",
     "output_type": "stream",
     "text": [
      "Array: [912 462 336 183 236 580 146 479 394 454 125 607 496 877 432 262 622 595\n",
      " 337 248]\n",
      "Mean: 439.15\n",
      "Standard Deviation: 213.21\n",
      "Smallest even number greater than the mean: 454\n",
      "Numbers less than mean-std or greater than mean+std: [912 183 146 125 877]\n",
      "Odd numbers less than mean: [183 125 337]\n",
      "Even numbers greater than mean: [912 462 580 454 496 622]\n"
     ]
    }
   ],
   "source": [
    "import numpy as np\n",
    "\n",
    "# Create array of 20 random integers from 1-1,000\n",
    "arr = np.random.randint(1, 1001, size=20)\n",
    "\n",
    "# Calculate mean and standard deviation\n",
    "mean = np.mean(arr)\n",
    "std = np.std(arr)\n",
    "\n",
    "# Find smallest even number greater than the mean\n",
    "even_nums = arr[arr % 2 == 0]\n",
    "smallest_even = np.min(even_nums[even_nums > mean])\n",
    "\n",
    "# Show all numbers that are either < mean-std or > mean+std\n",
    "outside_mean_std = arr[(arr < mean - std) | (arr > mean + std)]\n",
    "\n",
    "# Show odd numbers < mean, and even numbers > mean\n",
    "odds_below_mean = arr[(arr < mean) & (arr % 2 != 0)]\n",
    "evens_above_mean = arr[(arr > mean) & (arr % 2 == 0)]\n",
    "\n",
    "# Print results\n",
    "print(f\"Array: {arr}\")\n",
    "print(f\"Mean: {mean:.2f}\")\n",
    "print(f\"Standard Deviation: {std:.2f}\")\n",
    "print(f\"Smallest even number greater than the mean: {smallest_even}\")\n",
    "print(f\"Numbers less than mean-std or greater than mean+std: {outside_mean_std}\")\n",
    "print(f\"Odd numbers less than mean: {odds_below_mean}\")\n",
    "print(f\"Even numbers greater than mean: {evens_above_mean}\")"
   ]
  },
  {
   "attachments": {},
   "cell_type": "markdown",
   "metadata": {},
   "source": [
    "The dtype ranges for numpy are as follows:\n",
    "\n",
    "1. int8: Range from -128 to 127\n",
    "2. uint8: Range from 0 to 255\n",
    "3. int16: Range from -32768 to 32767\n",
    "4. uint16: Range from 0 to 65535\n",
    "5. int32: Range from -2147483648 to 2147483647\n",
    "6. uint32: Range from 0 to 4294967295\n",
    "7. int64: Range from -9223372036854775808 to 9223372036854775807\n",
    "8. uint64: Range from 0 to 18446744073709551615\n",
    "9. float16: Range from -65504 to 65504\n",
    "10. float32: Range from -3.4028235e+38 to 3.4028235e+38\n",
    "11. float64: Range from -1.7976931348623157e+308 to 1.7976931348623157e+308\n",
    "12. complex64: Range from (-3.4028235e+38 - 3.4028235e+38j) to (3.4028235e+38 + 3.4028235e+38j)\n",
    "13. complex128: Range from (-1.7976931348623157e+308 - 1.7976931348623157e+308j) to (1.7976931348623157e+308 + 1.7976931348623157e+308j)"
   ]
  },
  {
   "attachments": {},
   "cell_type": "markdown",
   "metadata": {},
   "source": [
    "# Exercise: `astype` and friends\n",
    "\n",
    " \n",
    "\n",
    "1. Create an array of 20 *floats* between 0 and 1,000.\n",
    "2. Find the mean of those floats whose integer part is even.  So 25.3 would be considered odd, but 28.7 would be considered event."
   ]
  },
  {
   "cell_type": "code",
   "execution_count": 41,
   "metadata": {},
   "outputs": [
    {
     "name": "stdout",
     "output_type": "stream",
     "text": [
      "[956.47158011 775.43852613 702.3353016  591.42613725 784.56147642\n",
      " 191.27873378  23.88482591 912.13840719 781.14225862 690.78677547\n",
      "  88.42283278 598.95300431 786.88411491 767.7821504  311.76184639\n",
      " 527.84996674 695.15906081 482.6118631  996.53638308 970.4114387 ]\n",
      "[956.47158011 702.3353016  784.56147642 912.13840719 690.78677547\n",
      "  88.42283278 598.95300431 786.88411491 482.6118631  996.53638308\n",
      " 970.4114387 ]\n",
      "724.5557434244472\n"
     ]
    }
   ],
   "source": [
    "import numpy as np\n",
    "\n",
    "# Create array of 20 floats between 0 and 1000\n",
    "arr = np.random.uniform(0, 1000, 20)\n",
    "print(arr)\n",
    "\n",
    "evens = arr[arr.astype(int) % 2 == 0]\n",
    "print(evens)\n",
    "# Find mean of floats whose integer part is even\n",
    "even_mean = np.mean(evens)\n",
    "\n",
    "print(even_mean)"
   ]
  },
  {
   "attachments": {},
   "cell_type": "markdown",
   "metadata": {},
   "source": [
    "# Exercise: Working with `nan`\n",
    "\n",
    " \n",
    "\n",
    "1. Create a NumPy array of 20 integers from 0-100.\n",
    "2. Calculate the mean (which is a float).\n",
    "3. Replace all values < mean-std or > mean+std with nan. (You might need to change the dtype of the array here.)"
   ]
  },
  {
   "cell_type": "code",
   "execution_count": 45,
   "metadata": {},
   "outputs": [
    {
     "name": "stdout",
     "output_type": "stream",
     "text": [
      "[78. 24. nan 92. nan 61. nan nan 91. 77. 91. 62. 96. nan 28. nan nan 95.\n",
      " 74. 90.]\n"
     ]
    }
   ],
   "source": [
    "import numpy as np\n",
    "\n",
    "# 1. Create NumPy array of 20 integers from 0 to 100\n",
    "arr = np.random.randint(low=0, high=100, size=20)\n",
    "arr\n",
    "# 2. Calculate the mean\n",
    "mean = np.mean(arr)\n",
    "\n",
    "# 3. Replace values < mean-std or > mean+std with nan\n",
    "std = np.std(arr)\n",
    "arr = arr.astype(float)  # Change dtype to float so we can replace with nan\n",
    "arr[(arr < mean - std) | (arr > mean + std)] = np.nan\n",
    "\n",
    "print(arr)"
   ]
  },
  {
   "attachments": {},
   "cell_type": "markdown",
   "metadata": {},
   "source": [
    "Homework Solutions\n",
    "\n",
    "In Python using numpy solve for: \n",
    "Input :\n",
    "N = 7, K = 2\n",
    "A[] = {1, 7, 4, 3, 4, 8, 7}\n",
    "Output :\n",
    "4\n",
    "Explanation:\n",
    "Both 7 and 4 occur 2 times.\n",
    "But 4 is first that occurs 2 times\n",
    "As at index = 4, 4 has occurred \n",
    "atleast 2 times whereas at index = 6,\n",
    "7 has occurred atleast 2 times."
   ]
  },
  {
   "cell_type": "code",
   "execution_count": null,
   "metadata": {},
   "outputs": [],
   "source": [
    "import numpy as np\n",
    "\n",
    "def firstElementKTime(A, K, N):\n",
    "    \"\"\"\n",
    "    Find the value that occurs K times in the first N elements of A.\n",
    "    \"\"\"\n",
    "    # make sure N is not larger than the array size\n",
    "    N = min(N, len(A))\n",
    "    \n",
    "    # select the first N elements of A\n",
    "    A = A[:N]\n",
    "    print(A)\n",
    "    # create a boolean mask that marks the elements that occur at least K times\n",
    "    mask = np.sum(A.reshape(-1, 1) == A, axis=0) >= K\n",
    "    print(mask)\n",
    "    # find the index of the first occurrence that satisfies the condition\n",
    "    index = np.argmax(mask)\n",
    "    \n",
    "    # return the value at that index\n",
    "    return A[index]"
   ]
  },
  {
   "cell_type": "code",
   "execution_count": null,
   "metadata": {},
   "outputs": [],
   "source": [
    "import numpy as np\n",
    "\n",
    "def firstElementKTime(A, N, K):\n",
    "    counts = np.array([np.sum(A == i) for i in A],dtype=object) # count occurrences of each unique element\n",
    "    print(counts)\n",
    "\n",
    "    matches = np.argwhere(counts == K).flatten() # find indices where count equals K\n",
    "    print(matches)\n",
    "    if len(matches) == 0:\n",
    "        return -1\n",
    "    else:\n",
    "        return np.min(matches) # find first index of element that occurs K times"
   ]
  },
  {
   "cell_type": "code",
   "execution_count": null,
   "metadata": {},
   "outputs": [],
   "source": [
    "# example\n",
    "A = np.array([1, 7, 4, 3, 4, 8, 7])\n",
    "print(A)\n",
    "N = 7\n",
    "K = 2\n",
    "\n",
    "print(firstElementKTime(A, K, N)) "
   ]
  },
  {
   "attachments": {},
   "cell_type": "markdown",
   "metadata": {},
   "source": [
    "Using numpy and broadcast I need to be able to find the find the value of an integer in an array of N size, The user will pass the array, the number of indexes/size they wish to search, and the count of occurrence they want to find in the array. So if I passed in K as 2 meaning the number of occurrences is 2 and an array A = np.array([1, 7, 4, 3, 4, 8, 7]) it would return the value 4 since the index 3 is repeated twice first before 7 is repeated twice. N will only search the array up to that index so in the above example if I put N= 3 then it would only compare the first three elements. If K is not found then it returns -1. Again, If I mark k as 2 and N as 7 then the answer should be 4 not 7. because K is satisfied first by the 4 in index four where 7 is not satisfied until index 6. Meaning I want to return the index of the first iteration of K that is satisfied. "
   ]
  }
 ],
 "metadata": {
  "kernelspec": {
   "display_name": "base",
   "language": "python",
   "name": "python3"
  },
  "language_info": {
   "codemirror_mode": {
    "name": "ipython",
    "version": 3
   },
   "file_extension": ".py",
   "mimetype": "text/x-python",
   "name": "python",
   "nbconvert_exporter": "python",
   "pygments_lexer": "ipython3",
   "version": "3.7.13"
  },
  "orig_nbformat": 4
 },
 "nbformat": 4,
 "nbformat_minor": 2
}
