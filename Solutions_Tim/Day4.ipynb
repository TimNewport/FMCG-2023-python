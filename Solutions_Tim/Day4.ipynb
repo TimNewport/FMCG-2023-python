{
 "cells": [
  {
   "cell_type": "code",
   "execution_count": 2,
   "metadata": {},
   "outputs": [
    {
     "name": "stdout",
     "output_type": "stream",
     "text": [
      "Tim is here\n",
      "{'T': 1, 'i': 2, 'm': 1, ' ': 2, 's': 1, 'h': 1, 'e': 2, 'r': 1}\n"
     ]
    }
   ],
   "source": [
    "# Define a function that takes a string as an argument and it returns a dictionary with the count of each character int he string. Use input to get the string from the user.\n",
    "\n",
    "def char_count(string):\n",
    "    '''\n",
    "    This function will break any string apart and count the number of occurrences of each character\n",
    "        Args: string(str): Any string of any length. \n",
    "        Returns: A dict of the count for each character in the string\n",
    "    '''\n",
    "    count_dict = {}\n",
    "    for char in string:\n",
    "        count_dict[char] = count_dict.get(char,0) + 1\n",
    "    return count_dict\n",
    "\n",
    "string = input(\"Enter a string: \")\n",
    "print(string)\n",
    "print(char_count(string))\n",
    "\n"
   ]
  },
  {
   "cell_type": "code",
   "execution_count": 3,
   "metadata": {},
   "outputs": [],
   "source": [
    "# Create a function that will recreate sum that accepts lists, set, or tuple   \n",
    "\n",
    "def my_sum(numbers):\n",
    "    \"\"\"\n",
    "    This function returns the sum of numbers in an iterable object.\n",
    "    Args: Any iterable numeric data structure. \n",
    "    Returns: the sum of that list\n",
    "    \"\"\"\n",
    "    total = 0\n",
    "    \n",
    "    for item in numbers:\n",
    "        total += item\n",
    "        \n",
    "    return total"
   ]
  },
  {
   "cell_type": "code",
   "execution_count": 4,
   "metadata": {},
   "outputs": [
    {
     "name": "stdout",
     "output_type": "stream",
     "text": [
      "10\n",
      "20\n",
      "24\n"
     ]
    }
   ],
   "source": [
    "nums_list = [1, 2, 3, 4]\n",
    "nums_set = {2, 4, 6, 8}\n",
    "nums_tuple = (3, 5, 7, 9)\n",
    "\n",
    "print(my_sum(nums_list))\n",
    "print(my_sum(nums_set))\n",
    "print(my_sum(nums_tuple))"
   ]
  },
  {
   "cell_type": "code",
   "execution_count": 12,
   "metadata": {},
   "outputs": [],
   "source": [
    "# Define a function called powers with a docstring that takes any number of parameters. The first is the base and all additional parms are the powers we want to raise the first parm to.  add each iteration to a dict \n",
    "\n",
    "def powers(base , *args):\n",
    "    \"\"\"\n",
    "    This function takes any number of parameters and applies the next sequential power to the base parameter.\n",
    "    Example:\n",
    "        powers(2, 3, 4) will compute 2^3 then 2^4\n",
    "    Args:\n",
    "        base is the base number we want to check against\n",
    "        *args: a variable number of integer parameters.\n",
    "    Returns:\n",
    "        The result of applying the sequence of powers to the inputs.\n",
    "    \"\"\"\n",
    "    # Wrong 1\n",
    "    # result = args[0]\n",
    "    # for i in range(1, len(args)):\n",
    "    #     result = result ** args[i]\n",
    "    # return result\n",
    "\n",
    "    #Wrong2\n",
    "    # power_dict = {}\n",
    "    # result = 1\n",
    "    \n",
    "    # for index, arg in enumerate(args):\n",
    "    #     result = result * arg\n",
    "    #     power_dict[f\"iteration{index+1}\"] = result\n",
    "    \n",
    "    # return power_dict\n",
    "\n",
    "    # Solution 3 followed directions :-P \n",
    "    result_dict = {}\n",
    "    for exp in args:\n",
    "        result_dict[exp] = base ** exp\n",
    "    return result_dict"
   ]
  },
  {
   "cell_type": "code",
   "execution_count": 13,
   "metadata": {},
   "outputs": [
    {
     "data": {
      "text/plain": [
       "{2: 4, 3: 8, 4: 16}"
      ]
     },
     "execution_count": 13,
     "metadata": {},
     "output_type": "execute_result"
    }
   ],
   "source": [
    "powers(2,2,3,4)"
   ]
  },
  {
   "cell_type": "code",
   "execution_count": 18,
   "metadata": {},
   "outputs": [],
   "source": [
    "# Goal I need to create a function that can generate valid xml. Each element is passed as a separate argument to the function using kwargs and support nested tags using dictionaries. Add docstring and make sure the argument can be a string or a kwarg\n",
    "\n",
    "def generate_xml(*args,**data):\n",
    "    \"\"\"\n",
    "    Generate valid XML with the given arguments.\n",
    "\n",
    "    Keyword arguments:\n",
    "    - Nested tags can be provided using dictionaries as values.\n",
    "    - Each element is passed as a separate argument using kwargs.\n",
    "    \"\"\"\n",
    "    xml = \"\"\n",
    "    for tag, value in data.items():\n",
    "        if isinstance(value, dict):\n",
    "            xml += f\"<{tag}>{generate_xml(**value)}</{tag}>\"\n",
    "        else:\n",
    "            xml += f\"<{tag}>{value}</{tag}>\"\n",
    "    return xml"
   ]
  },
  {
   "cell_type": "code",
   "execution_count": 29,
   "metadata": {},
   "outputs": [],
   "source": [
    "def generate_xml(*args, **kwargs):\n",
    "    \"\"\"\n",
    "    This function generates valid XML.\n",
    "    \n",
    "    Args:\n",
    "    *args: string arguments\n",
    "    **kwargs: XML tags with attributes and child tags\n",
    "    \n",
    "    Returns:\n",
    "    A valid XML string\n",
    "    \"\"\"\n",
    "    xml_string = ''\n",
    "    \n",
    "    # Loop through all the arguments\n",
    "    for arg in args:\n",
    "        # Check if it is a string\n",
    "        if isinstance(arg, str):\n",
    "            xml_string += f'<{arg}></{arg}>'\n",
    "        else:\n",
    "            # If not, it must be a kwargs\n",
    "            for key, value in arg.items():\n",
    "                # Check if it has attributes\n",
    "                if isinstance(value, dict):\n",
    "                    attr_string = ''\n",
    "                    for attr_key, attr_value in value.items():\n",
    "                        attr_string += f' {attr_key}=\"{attr_value}\"'\n",
    "                    xml_string += f'<{key}{attr_string}>'\n",
    "                    # Recursively call the function for its child tags\n",
    "                    xml_string += generate_xml(*value.values())\n",
    "                    xml_string += f'</{key}>'\n",
    "                else:\n",
    "                    xml_string += f'<{key}>{value}</{key}>'\n",
    "                    \n",
    "    return xml_string"
   ]
  },
  {
   "cell_type": "code",
   "execution_count": null,
   "metadata": {},
   "outputs": [],
   "source": [
    "print(generate_xml('empty'),\n",
    "      generate_xml('name', 'Reuven'),\n",
    "      generate_xml('language', 'Python', rank=1, opensource=True))"
   ]
  },
  {
   "cell_type": "code",
   "execution_count": 36,
   "metadata": {},
   "outputs": [],
   "source": [
    "def generate_xml(tagname, text=\"\", **kwargs):\n",
    "    attributes = \"\"\n",
    "\n",
    "    for key,value in kwargs.items():\n",
    "        attributes += f'{key}=\"{value}\" '\n",
    "    \n",
    "    return f'<{tagname} {attributes}>{text}</{tagname}>'"
   ]
  },
  {
   "cell_type": "code",
   "execution_count": 37,
   "metadata": {},
   "outputs": [
    {
     "name": "stdout",
     "output_type": "stream",
     "text": [
      "<empty ></empty> <name >Reuven</name> <language rank=\"1\" opensource=\"True\" >Python</language>\n"
     ]
    },
    {
     "data": {
      "text/plain": [
       "'\\n<empty></empty> \\n<name></name>\\n<Reuven></Reuven> \\n<language></language>\\n<Python></Python>\\n'"
      ]
     },
     "execution_count": 37,
     "metadata": {},
     "output_type": "execute_result"
    }
   ],
   "source": [
    "print(generate_xml('empty'),\n",
    "      generate_xml('name', 'Reuven'),\n",
    "      generate_xml('language', 'Python', rank=1, opensource=True))\n",
    "\n",
    "## output\n",
    "'''\n",
    "<empty ></empty> \n",
    "<name >Reuven</name> \n",
    "<language rank=\"1\" opensource=\"True\" >Python</language>\n",
    "'''"
   ]
  },
  {
   "cell_type": "code",
   "execution_count": null,
   "metadata": {},
   "outputs": [],
   "source": [
    "\n"
   ]
  }
 ],
 "metadata": {
  "kernelspec": {
   "display_name": "pyspark_glue",
   "language": "python",
   "name": "python3"
  },
  "language_info": {
   "codemirror_mode": {
    "name": "ipython",
    "version": 3
   },
   "file_extension": ".py",
   "mimetype": "text/x-python",
   "name": "python",
   "nbconvert_exporter": "python",
   "pygments_lexer": "ipython3",
   "version": "3.7.13"
  },
  "orig_nbformat": 4
 },
 "nbformat": 4,
 "nbformat_minor": 2
}
