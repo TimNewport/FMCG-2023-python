{
 "cells": [
  {
   "attachments": {},
   "cell_type": "markdown",
   "metadata": {},
   "source": [
    "Define three variables vowels digits and other. all default to 0, then ask the user to input a string then count the vowels, numbers, and other characters\n"
   ]
  },
  {
   "cell_type": "code",
   "execution_count": 2,
   "metadata": {},
   "outputs": [
    {
     "name": "stdout",
     "output_type": "stream",
     "text": [
      "Test Tim 1234\n",
      "Vowels: 2\n",
      "Digits: 4\n",
      "Other: 7\n"
     ]
    }
   ],
   "source": [
    "vowels = 0\n",
    "digits = 0\n",
    "other = 0\n",
    "string = input('Enter a string: ')\n",
    "print(string)\n",
    "for char in string:\n",
    "    if char.isalpha() and char.casefold() in 'aeiou':\n",
    "       vowels += 1\n",
    "    elif char.isdigit():\n",
    "       digits += 1\n",
    "    else:\n",
    "       other += 1\n",
    "\n",
    "print(\"Vowels:\", vowels)\n",
    "print(\"Digits:\", digits)\n",
    "print(\"Other:\", other)"
   ]
  },
  {
   "cell_type": "code",
   "execution_count": 3,
   "metadata": {},
   "outputs": [
    {
     "name": "stdout",
     "output_type": "stream",
     "text": [
      "other = 7\n"
     ]
    }
   ],
   "source": [
    "print(f'{other = }')"
   ]
  },
  {
   "cell_type": "code",
   "execution_count": 17,
   "metadata": {},
   "outputs": [
    {
     "name": "stdout",
     "output_type": "stream",
     "text": [
      "     S\n",
      "    SaS\n",
      "   SarSa\n",
      "  SaraSar\n",
      " SarahSara\n"
     ]
    }
   ],
   "source": [
    "# get a word from the user then print the word as a triangle using python\n",
    "word = input(\"Please enter a word: \")\n",
    "\n",
    "length = len(word)\n",
    "\n",
    "for i in range(length):\n",
    "    print(\" \"*(length-i), end=\"\")\n",
    "    for j in range(i+1):\n",
    "        print(word[j], end=\"\")\n",
    "    for k in range(i):\n",
    "        print(word[k], end=\"\")\n",
    "    print() #newline"
   ]
  },
  {
   "cell_type": "code",
   "execution_count": 18,
   "metadata": {},
   "outputs": [
    {
     "name": "stdout",
     "output_type": "stream",
     "text": [
      "Input string: Tim IS 123456789\n",
      "Integers in input: [1, 2, 3, 4, 5, 6, 7, 8, 9]\n",
      "Errors in input: ['T', 'i', 'm', ' ', 'I', 'S', ' ']\n",
      "Sum of integers: 45\n"
     ]
    }
   ],
   "source": [
    "# Loop through a string in python and sum up all the integers. Add the non integers to another list as errors and print the input, list, and sum \n",
    "input_string = input(\"Enter a string\")\n",
    "\n",
    "integers = []\n",
    "errors = []\n",
    "sum_integers = 0\n",
    "\n",
    "for letter in input_string:\n",
    "    if letter.isdigit():\n",
    "        integers.append(int(letter))\n",
    "        sum_integers += int(letter)\n",
    "    else:\n",
    "        errors.append(letter)\n",
    "\n",
    "print(\"Input string:\", input_string)\n",
    "print(\"Integers in input:\", integers)\n",
    "print(\"Errors in input:\", errors)\n",
    "print(\"Sum of integers:\", sum_integers)\n"
   ]
  },
  {
   "cell_type": "code",
   "execution_count": 21,
   "metadata": {},
   "outputs": [
    {
     "name": "stdout",
     "output_type": "stream",
     "text": [
      "T is not numeric\n",
      "i is not numeric\n",
      "m is not numeric\n",
      "Input string: Tim5555.55\n",
      "Integers in input: [5, 5, 5, 5]\n",
      "Sum of integers: 20\n"
     ]
    }
   ],
   "source": [
    "# Loop through a string in python and sum up all the integers. exit on . print warning else non integer\n",
    "input_string = input(\"Enter a string\")\n",
    "\n",
    "integers = []\n",
    "sum_integers = 0\n",
    "\n",
    "for char in input_string:\n",
    "    if char.isdigit():\n",
    "        integers.append(int(char))\n",
    "        sum_integers += int(char)\n",
    "    elif char == '.':\n",
    "        break\n",
    "    else:\n",
    "        print(f'{char} is not numeric')\n",
    "\n",
    "print(\"Input string:\", input_string)\n",
    "print(\"Integers in input:\", integers)\n",
    "print(\"Sum of integers:\", sum_integers)"
   ]
  },
  {
   "cell_type": "code",
   "execution_count": 26,
   "metadata": {},
   "outputs": [
    {
     "name": "stdout",
     "output_type": "stream",
     "text": [
      "Invalid input! Please enter a numeric value.\n",
      "current sum is:5\n",
      "current sum is:105\n",
      "Sum is equal to or exceed 100\n"
     ]
    }
   ],
   "source": [
    "# Ask the user to enter a number and verify its numeric. If we get a numeric add to sum once sum >= 100 break\n",
    "\n",
    "sum = 0\n",
    "\n",
    "while True:\n",
    "    user_input = input(\"Enter a number: \").strip()\n",
    "    if user_input.isdecimal():\n",
    "        sum += int(user_input)\n",
    "        print(f'current sum is:{sum}')\n",
    "        if sum >= 100:\n",
    "            break\n",
    "    else:\n",
    "        print(\"Invalid input! Please enter a numeric value.\")\n",
    "\n",
    "print(\"Sum is equal to or exceed 100\") "
   ]
  },
  {
   "cell_type": "code",
   "execution_count": 27,
   "metadata": {},
   "outputs": [
    {
     "name": "stdout",
     "output_type": "stream",
     "text": [
      "current sum is:5.5\n",
      "current sum is:12.3\n",
      "current sum is:9.3\n",
      "current sum is:109.3\n",
      "The final sum is 109.3\n"
     ]
    }
   ],
   "source": [
    "#Now do it for decimals and negatives too! \n",
    "sum = 0  \n",
    "while True:\n",
    "    try:\n",
    "        num = float(input(\"Enter a number: \"))  \n",
    "        sum += num  \n",
    "        print(f'current sum is:{sum}')\n",
    "        if sum >= 100:\n",
    "            break  \n",
    "    except ValueError:  \n",
    "          print(\"Invalid input! Please enter a numeric value.\")\n",
    "\n",
    "print(\"Sum is equal to or exceed 100\") "
   ]
  },
  {
   "cell_type": "code",
   "execution_count": 29,
   "metadata": {},
   "outputs": [
    {
     "name": "stdout",
     "output_type": "stream",
     "text": [
      "6\n"
     ]
    }
   ],
   "source": [
    "# What is mylist[1][2] doing in python \n",
    "mylist = [[1, 2, 3], [4, 5, 6], [7, 8, 9]]\n",
    "element = mylist[1][2]\n",
    "print(element)"
   ]
  },
  {
   "cell_type": "code",
   "execution_count": 32,
   "metadata": {},
   "outputs": [
    {
     "name": "stdout",
     "output_type": "stream",
     "text": [
      "3\n",
      "[4, 5, '?']\n",
      "[[4, 5, '?'], [1, 2, 3], [4, 5, '?']]\n"
     ]
    }
   ],
   "source": [
    "# What is mylist[1][2] doing in python \n",
    "mylist = [4,5,6]\n",
    "\n",
    "biglist = [mylist , [1, 2, 3],mylist]\n",
    "mylist[2] = '?' # Acts kind of like a pointer to the same object \n",
    "element = biglist[1][2]\n",
    "print(element)\n",
    "print(mylist)\n",
    "print(biglist)"
   ]
  },
  {
   "cell_type": "code",
   "execution_count": 34,
   "metadata": {},
   "outputs": [
    {
     "name": "stdout",
     "output_type": "stream",
     "text": [
      "Odd List: [5]Even List: []\n",
      "Odd List: [5]Even List: [6]\n",
      "Odd List: [5, 7]Even List: [6]\n",
      "Invalid input. Please enter a whole number.\n"
     ]
    }
   ],
   "source": [
    "# Ask the user to enter a whole number. if its odd add to the odd list. if even add to even list. In not digit scold them. print both lists each iteration. break when input is empty\n",
    "odd_list = []\n",
    "even_list = []\n",
    "\n",
    "while True:\n",
    "    number = input(\"Enter a whole number (press enter to exit): \")\n",
    "    if not number:\n",
    "\n",
    "        break\n",
    "        \n",
    "    if not number.isdigit():\n",
    "        print(\"Invalid input. Please enter a whole number.\")\n",
    "    else:\n",
    "        number = int(number)\n",
    "        if number % 2 == 0:\n",
    "            even_list.append(number)\n",
    "        else:\n",
    "            odd_list.append(number)\n",
    "        print(\"Odd List:\", odd_list, end=\" \")\n",
    "        print(\"Even List:\", even_list)"
   ]
  }
 ],
 "metadata": {
  "kernelspec": {
   "display_name": "pyspark_glue",
   "language": "python",
   "name": "python3"
  },
  "language_info": {
   "codemirror_mode": {
    "name": "ipython",
    "version": 3
   },
   "file_extension": ".py",
   "mimetype": "text/x-python",
   "name": "python",
   "nbconvert_exporter": "python",
   "pygments_lexer": "ipython3",
   "version": "3.10.4"
  },
  "orig_nbformat": 4
 },
 "nbformat": 4,
 "nbformat_minor": 2
}
