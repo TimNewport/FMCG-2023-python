{
 "cells": [
  {
   "attachments": {},
   "cell_type": "markdown",
   "metadata": {},
   "source": [
    "Define three variables vowels digits and other. all default to 0, then ask the user to input a string then count the vowels, numbers, and other characters\n"
   ]
  },
  {
   "cell_type": "code",
   "execution_count": 2,
   "metadata": {},
   "outputs": [
    {
     "name": "stdout",
     "output_type": "stream",
     "text": [
      "T1his is a 4d9fjjf,(! Test\n",
      "Vowels: 4\n",
      "Digits: 3\n",
      "Other: 19\n"
     ]
    }
   ],
   "source": [
    "vowels = 0\n",
    "digits = 0\n",
    "other = 0\n",
    "string = input('Enter a string: ')\n",
    "print(string)\n",
    "for char in string:\n",
    "    if char.isalpha() and char.casefold() in 'aeiou':\n",
    "       vowels += 1\n",
    "    elif char.isdigit():\n",
    "       digits += 1\n",
    "    else:\n",
    "       other += 1\n",
    "\n",
    "print(\"Vowels:\", vowels)\n",
    "print(\"Digits:\", digits)\n",
    "print(\"Other:\", other)"
   ]
  }
 ],
 "metadata": {
  "kernelspec": {
   "display_name": "pyspark_glue",
   "language": "python",
   "name": "python3"
  },
  "language_info": {
   "codemirror_mode": {
    "name": "ipython",
    "version": 3
   },
   "file_extension": ".py",
   "mimetype": "text/x-python",
   "name": "python",
   "nbconvert_exporter": "python",
   "pygments_lexer": "ipython3",
   "version": "3.7.13"
  },
  "orig_nbformat": 4
 },
 "nbformat": 4,
 "nbformat_minor": 2
}
