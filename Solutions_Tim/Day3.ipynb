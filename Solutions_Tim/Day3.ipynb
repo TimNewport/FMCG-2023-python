{
 "cells": [
  {
   "cell_type": "code",
   "execution_count": 1,
   "metadata": {},
   "outputs": [
    {
     "name": "stdout",
     "output_type": "stream",
     "text": [
      "Size of list: 8697440 bytes\n",
      "Size of dictionary: 41943120 bytes\n"
     ]
    }
   ],
   "source": [
    "# What is a downside of Python dictionaries other than size. \n",
    "my_list = [i for i in range(1000000)]\n",
    "\n",
    "# create a dictionary with the same elements\n",
    "my_dict = {i: None for i in range(1000000)}\n",
    "\n",
    "# print the size of each variable in bytes\n",
    "print(f\"Size of list: {my_list.__sizeof__()} bytes\")\n",
    "print(f\"Size of dictionary: {my_dict.__sizeof__()} bytes\")"
   ]
  },
  {
   "attachments": {},
   "cell_type": "markdown",
   "metadata": {},
   "source": [
    "starting from Python 3.7, dictionaries are guaranteed to maintain the insertion order.\n",
    "\n",
    "So if you were using the Dict as a cache with limited size then order added could make a difference."
   ]
  },
  {
   "cell_type": "code",
   "execution_count": 13,
   "metadata": {},
   "outputs": [
    {
     "name": "stdout",
     "output_type": "stream",
     "text": [
      "Unordered dictionary: {'name': 'John', 'age': 25, 'city': 'New York'}\n",
      "Ordered dictionary: OrderedDict([('name', 'John'), ('age', 25), ('city', 'New York')])\n",
      "Item by Item Sort:\n",
      "age 25; city New York; name John; \n"
     ]
    }
   ],
   "source": [
    "# create a dictionary with unordered elements\n",
    "my_dict = {'name': 'John', 'age': 25, 'city': 'New York'}\n",
    "print(\"Unordered dictionary:\", my_dict)\n",
    "\n",
    "# create a dictionary with ordered elements\n",
    "from collections import OrderedDict\n",
    "ordered_dict = OrderedDict([('name', 'John'), ('age', 25), ('city', 'New York')])\n",
    "print(\"Ordered dictionary:\", ordered_dict)\n",
    "\n",
    "print('Item by Item Sort:')\n",
    "for key in sorted(my_dict):\n",
    "    print(key, my_dict[key],end=\"; \")\n",
    "print()\n",
    "#What is an example where I need to know the dict order other than outputting it?"
   ]
  },
  {
   "cell_type": "code",
   "execution_count": 4,
   "metadata": {},
   "outputs": [
    {
     "name": "stdout",
     "output_type": "stream",
     "text": [
      "burger cost is 5, total is 5\n",
      "Item not available.\n",
      "Item not available.\n",
      "Final Total: $5\n"
     ]
    }
   ],
   "source": [
    "# Create a dictionary called menu and add items and their cost. Ask a user to enter their order by name and then sum up the total. Exit when input is empty. \n",
    "menu = {\"burger\": 5,\n",
    "        \"fries\": 2,\n",
    "        \"drink\": 1}\n",
    "\n",
    "total = 0\n",
    "\n",
    "while True:\n",
    "    item = input(\"Enter item name (press enter to quit): \").strip().casefold()\n",
    "    if not item:\n",
    "        break\n",
    "    elif item not in menu:\n",
    "        print(\"Item not available.\")\n",
    "    else:\n",
    "        cost =  menu[item]\n",
    "        \n",
    "        total += cost\n",
    "        print(f'{item} cost is {cost}, total is {total}')\n",
    "\n",
    "print(f\"Final Total: ${total}\")"
   ]
  },
  {
   "cell_type": "code",
   "execution_count": 12,
   "metadata": {},
   "outputs": [
    {
     "name": "stdout",
     "output_type": "stream",
     "text": [
      "vowels,digits,others {'vowels': 1, 'digits': 3, 'others': 6}\n"
     ]
    }
   ],
   "source": [
    "# Create a dictionary with keys called vowels, digits, and others. \n",
    "#  Then as the user to enter a string. Parse each character, ignoring whitespace\n",
    "#  and add 1 to the correct dictionary item\n",
    "\n",
    "# Create three dictionaries\n",
    "catagories = {\"vowels\" :0 ,\"digits\" : 0,\"others\" : 0  }\n",
    "\n",
    "# Ask for user input\n",
    "user_input = input(\"Enter a string: \").strip().casefold()\n",
    "\n",
    "# Parse each character\n",
    "for char in user_input:\n",
    "    # Ignore whitespace\n",
    "    if char != \" \":\n",
    "        # Add item to the correct dictionary\n",
    "        if char in 'aeiou':\n",
    "            catagories[\"vowels\"] += 1\n",
    "        elif char.isnumeric():\n",
    "            catagories[\"digits\"] += 1\n",
    "        else:\n",
    "            catagories[\"others\"] += 1\n",
    "\n",
    "# Print the results\n",
    "print(\"vowels,digits,others\", catagories)"
   ]
  },
  {
   "cell_type": "code",
   "execution_count": 19,
   "metadata": {},
   "outputs": [
    {
     "name": "stdout",
     "output_type": "stream",
     "text": [
      "CUMING has 34 mm of rain this year\n",
      "CUMMING has 50 mm of rain this year\n",
      "City rainfall data:\n",
      "CUMING 34mm rain; CUMMING 50mm rain; "
     ]
    }
   ],
   "source": [
    "# Define and dictionary called rainfall, the key is city and the value is rain fall in mm. \n",
    "#  Ask the user to enter a city name cast to upper. If key exists then add mm rain to value \n",
    "# else add new key, value pair to dict. make sure mm rain > 0 and exit loop when user hits \n",
    "# enter on input of city name. Prompt user to enter correct mm rain if wrong\n",
    "rainfall = {}\n",
    "\n",
    "while True:\n",
    "    city_name = input(\"Enter a city name (press Enter to exit): \").upper().strip()\n",
    "    if not city_name:\n",
    "        break\n",
    "    \n",
    "    mm_rain = input(\"Enter the amount of rain in mm: \").strip()\n",
    "    while not mm_rain.isdigit() or int(mm_rain) <= 0:\n",
    "        mm_rain = input(\"Invalid input, please enter a positive integer value: \").strip()\n",
    "        \n",
    "    mm_rain = int(mm_rain)\n",
    "    \n",
    "    rainfall[city_name] = rainfall.get(city_name,0) + mm_rain\n",
    "\n",
    "    # if city_name in rainfall.keys():\n",
    "    #     rainfall[city_name] += mm_rain\n",
    "    # else:\n",
    "    #     rainfall[city_name] = mm_rain\n",
    "    print(f'{city_name} has {rainfall[city_name]} mm of rain this year')\n",
    "\n",
    "print(\"City rainfall data:\")\n",
    "for key in sorted(rainfall):\n",
    "    print(key, f'{rainfall[key]}mm rain',end=\"; \")"
   ]
  },
  {
   "cell_type": "code",
   "execution_count": 22,
   "metadata": {},
   "outputs": [
    {
     "name": "stdout",
     "output_type": "stream",
     "text": [
      "g ,5 6 -2\n"
     ]
    },
    {
     "ename": "ValueError",
     "evalue": "invalid literal for int() with base 10: 'g'",
     "output_type": "error",
     "traceback": [
      "\u001b[1;31m---------------------------------------------------------------------------\u001b[0m",
      "\u001b[1;31mValueError\u001b[0m                                Traceback (most recent call last)",
      "\u001b[1;32m~\\AppData\\Local\\Temp\\ipykernel_26344\\4100013334.py\u001b[0m in \u001b[0;36m<module>\u001b[1;34m\u001b[0m\n\u001b[0;32m      2\u001b[0m \u001b[0muser_input\u001b[0m \u001b[1;33m=\u001b[0m \u001b[0minput\u001b[0m\u001b[1;33m(\u001b[0m\u001b[1;34m\"Enter a bunch of numbers separated by spaces or commas: \"\u001b[0m\u001b[1;33m)\u001b[0m\u001b[1;33m\u001b[0m\u001b[1;33m\u001b[0m\u001b[0m\n\u001b[0;32m      3\u001b[0m \u001b[0mprint\u001b[0m\u001b[1;33m(\u001b[0m\u001b[0muser_input\u001b[0m\u001b[1;33m)\u001b[0m\u001b[1;33m\u001b[0m\u001b[1;33m\u001b[0m\u001b[0m\n\u001b[1;32m----> 4\u001b[1;33m \u001b[0mnumbers\u001b[0m \u001b[1;33m=\u001b[0m \u001b[0mlist\u001b[0m\u001b[1;33m(\u001b[0m\u001b[0mmap\u001b[0m\u001b[1;33m(\u001b[0m\u001b[0mint\u001b[0m\u001b[1;33m,\u001b[0m \u001b[0muser_input\u001b[0m\u001b[1;33m.\u001b[0m\u001b[0mreplace\u001b[0m\u001b[1;33m(\u001b[0m\u001b[1;34m','\u001b[0m\u001b[1;33m,\u001b[0m \u001b[1;34m' '\u001b[0m\u001b[1;33m)\u001b[0m\u001b[1;33m.\u001b[0m\u001b[0msplit\u001b[0m\u001b[1;33m(\u001b[0m\u001b[1;33m)\u001b[0m\u001b[1;33m)\u001b[0m\u001b[1;33m)\u001b[0m\u001b[1;33m\u001b[0m\u001b[1;33m\u001b[0m\u001b[0m\n\u001b[0m\u001b[0;32m      5\u001b[0m \u001b[1;33m\u001b[0m\u001b[0m\n\u001b[0;32m      6\u001b[0m \u001b[0munique_numbers\u001b[0m \u001b[1;33m=\u001b[0m \u001b[0mlist\u001b[0m\u001b[1;33m(\u001b[0m\u001b[0mset\u001b[0m\u001b[1;33m(\u001b[0m\u001b[0mnumbers\u001b[0m\u001b[1;33m)\u001b[0m\u001b[1;33m)\u001b[0m\u001b[1;33m\u001b[0m\u001b[1;33m\u001b[0m\u001b[0m\n",
      "\u001b[1;31mValueError\u001b[0m: invalid literal for int() with base 10: 'g'"
     ]
    }
   ],
   "source": [
    "# Ask the user to enter a bunch of numbers as a string separated by spaces or commas. calculate the Sum of the unique numbers the user entered. validate each number is a number positive eor negative\n",
    "user_input = input(\"Enter a bunch of numbers separated by spaces or commas: \")\n",
    "print(user_input)\n",
    "numbers = list(map(int, user_input.replace(',', ' ').split()))\n",
    "\n",
    "unique_numbers = list(set(numbers))\n",
    "sum_unique_numbers = sum(unique_numbers)\n",
    "\n",
    "print(f'numbers entered:{numbers}')\n",
    "print(f'Unique Sum:{sum_unique_numbers}')\n",
    "\n"
   ]
  },
  {
   "cell_type": "code",
   "execution_count": 26,
   "metadata": {},
   "outputs": [
    {
     "name": "stdout",
     "output_type": "stream",
     "text": [
      "\n",
      "numbers entered:set()\n",
      "Unique Sum:0\n"
     ]
    }
   ],
   "source": [
    "# Lets do the same with better error handling. \n",
    "user_input = input(\"Please enter a bunch of numbers separated by spaces or commas: \")\n",
    "print(user_input)\n",
    "\n",
    "unique_numbers = set()\n",
    "\n",
    "for number in user_input.replace(\",\", \" \").split():\n",
    "  if number.isdigit():\n",
    "    unique_numbers.add(int(number))\n",
    "  elif number[0] == \"-\" and number[1:].isdigit():\n",
    "    unique_numbers.add(int(number))\n",
    "  else:\n",
    "    print(f\"Invalid number: {number}\")\n",
    "\n",
    "sum_of_numbers = sum(unique_numbers)\n",
    "\n",
    "print(f'numbers entered:{unique_numbers}')\n",
    "print(f'Unique Sum:{sum_of_numbers}')"
   ]
  },
  {
   "attachments": {},
   "cell_type": "markdown",
   "metadata": {},
   "source": [
    "# Exercise: Travel\n",
    "\n",
    " \n",
    "\n",
    "1. Our goal is to define a dictionary, `all_places`, in which the keys will be strings (names of countries) and the values will be lists of strings (list of cities in those countries).\n",
    "2. We'll ask the user, again and again, where they have traveled. They should enter it as \"city, country\".\n",
    "3. Pick apart the user's input, and then add it to our dict.\n",
    "4. After adding a bunch of places, we'll have the keys (countries) and the values (the lists of strings).\n",
    "5. When the user gives us an empty string, display all countries and then all cities in those countries.\n",
    "\n",
    " \n",
    "\n",
    "Example:\n",
    "\n",
    " \n",
    "\n",
    "    Place: Shanghai, China\n",
    "    Place: Beijing, China\n",
    "    Place: Chicago, USA\n",
    "    Place: Boston, USA\n",
    "    Place: [ENTER]\n",
    "\n",
    "This will create a dict that looks like:\n",
    "\n",
    " \n",
    "\n",
    "```python\n",
    "{'China': ['Shanghai', 'Beijing'], 'USA': ['Chicago', 'Boston']}    \n",
    "```\n"
   ]
  },
  {
   "cell_type": "code",
   "execution_count": 28,
   "metadata": {},
   "outputs": [
    {
     "name": "stdout",
     "output_type": "stream",
     "text": [
      "Entered: Peoria, Usa\n",
      "Entered: Rome, Italy\n",
      "Entered: Marano, Italy\n",
      "Entered: Rome, Italy\n",
      "{'Usa': ['Peoria'], 'Italy': ['Rome', 'Marano']}\n"
     ]
    }
   ],
   "source": [
    "# define a dictionary called all_places and the keys will be country names and the value will be a list of city names. As the user to enter city, country as input as a loop. Printing wha tthey entered each time. Then then they hit enter to escape the input add the citys to the dict. City should be unique in the list. \n",
    "\n",
    "all_places = {}\n",
    "\n",
    "while True:\n",
    "    user_input = input(\"Enter city and country (or press Enter to quit): \").strip().upper()\n",
    "    if not user_input:\n",
    "        break\n",
    "    city, country = user_input.split(\",\")\n",
    "    print(f\"Entered: {city}, {country}\")\n",
    "    \n",
    "    # all_places[country] = all_places.get(country,country).append(city)\n",
    "    if country not in all_places:\n",
    "        all_places[country] = [city]\n",
    "    elif city not in all_places[country]:\n",
    "        all_places[country].append(city)\n",
    "        \n",
    "print(all_places)\n",
    "\n",
    "# can I use all_places.get vs if country not in all_places: all_places[country] = [city] elif city not in all_places[country]: all_places[country].append(city)"
   ]
  },
  {
   "cell_type": "code",
   "execution_count": null,
   "metadata": {},
   "outputs": [],
   "source": []
  }
 ],
 "metadata": {
  "kernelspec": {
   "display_name": "pyspark_glue",
   "language": "python",
   "name": "python3"
  },
  "language_info": {
   "codemirror_mode": {
    "name": "ipython",
    "version": 3
   },
   "file_extension": ".py",
   "mimetype": "text/x-python",
   "name": "python",
   "nbconvert_exporter": "python",
   "pygments_lexer": "ipython3",
   "version": "3.7.13"
  },
  "orig_nbformat": 4
 },
 "nbformat": 4,
 "nbformat_minor": 2
}
