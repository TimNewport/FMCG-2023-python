{
 "cells": [
  {
   "cell_type": "code",
   "execution_count": 1,
   "metadata": {},
   "outputs": [
    {
     "name": "stdout",
     "output_type": "stream",
     "text": [
      "Size of list: 8697440 bytes\n",
      "Size of dictionary: 41943120 bytes\n"
     ]
    }
   ],
   "source": [
    "# What is a downside of Python dictionaries other than size. \n",
    "my_list = [i for i in range(1000000)]\n",
    "\n",
    "# create a dictionary with the same elements\n",
    "my_dict = {i: None for i in range(1000000)}\n",
    "\n",
    "# print the size of each variable in bytes\n",
    "print(f\"Size of list: {my_list.__sizeof__()} bytes\")\n",
    "print(f\"Size of dictionary: {my_dict.__sizeof__()} bytes\")"
   ]
  },
  {
   "attachments": {},
   "cell_type": "markdown",
   "metadata": {},
   "source": [
    "starting from Python 3.7, dictionaries are guaranteed to maintain the insertion order.\n",
    "\n",
    "So if you were using the Dict as a cache with limited size then order added could make a difference."
   ]
  },
  {
   "cell_type": "code",
   "execution_count": 9,
   "metadata": {},
   "outputs": [
    {
     "name": "stdout",
     "output_type": "stream",
     "text": [
      "Unordered dictionary: {'name': 'John', 'age': 25, 'city': 'New York'}\n",
      "Ordered dictionary: OrderedDict([('name', 'John'), ('age', 25), ('city', 'New York')])\n",
      "Item by Item Sort:\n",
      "age 25; city New York; name John; \n"
     ]
    }
   ],
   "source": [
    "# create a dictionary with unordered elements\n",
    "my_dict = {'name': 'John', 'age': 25, 'city': 'New York'}\n",
    "print(\"Unordered dictionary:\", my_dict)\n",
    "\n",
    "# create a dictionary with ordered elements\n",
    "from collections import OrderedDict\n",
    "ordered_dict = OrderedDict([('name', 'John'), ('age', 25), ('city', 'New York')])\n",
    "print(\"Ordered dictionary:\", ordered_dict)\n",
    "\n",
    "print('Item by Item Sort:')\n",
    "for key in sorted(my_dict.keys()):\n",
    "    print(key, my_dict[key],end=\"; \")\n",
    "print()\n",
    "#What is an example where I need to know the dict order other than outputting it?"
   ]
  },
  {
   "cell_type": "code",
   "execution_count": 4,
   "metadata": {},
   "outputs": [
    {
     "name": "stdout",
     "output_type": "stream",
     "text": [
      "burger cost is 5, total is 5\n",
      "Item not available.\n",
      "Item not available.\n",
      "Final Total: $5\n"
     ]
    }
   ],
   "source": [
    "# Create a dictionary called menu and add items and their cost. Ask a user to enter their order by name and then sum up the total. Exit when input is empty. \n",
    "menu = {\"burger\": 5,\n",
    "        \"fries\": 2,\n",
    "        \"drink\": 1}\n",
    "\n",
    "total = 0\n",
    "\n",
    "while True:\n",
    "    item = input(\"Enter item name (press enter to quit): \").strip().casefold()\n",
    "    if not item:\n",
    "        break\n",
    "    elif item not in menu:\n",
    "        print(\"Item not available.\")\n",
    "    else:\n",
    "        cost =  menu[item]\n",
    "        \n",
    "        total += cost\n",
    "        print(f'{item} cost is {cost}, total is {total}')\n",
    "\n",
    "print(f\"Final Total: ${total}\")"
   ]
  },
  {
   "cell_type": "code",
   "execution_count": 12,
   "metadata": {},
   "outputs": [
    {
     "name": "stdout",
     "output_type": "stream",
     "text": [
      "vowels,digits,others {'vowels': 1, 'digits': 3, 'others': 6}\n"
     ]
    }
   ],
   "source": [
    "# Create a dictionary with keys called vowels, digits, and others. \n",
    "#  Then as the user to enter a string. Parse each character, ignoring whitespace\n",
    "#  and add 1 to the correct dictionary item\n",
    "\n",
    "# Create three dictionaries\n",
    "catagories = {\"vowels\" :0 ,\"digits\" : 0,\"others\" : 0  }\n",
    "\n",
    "# Ask for user input\n",
    "user_input = input(\"Enter a string: \").strip().casefold()\n",
    "\n",
    "# Parse each character\n",
    "for char in user_input:\n",
    "    # Ignore whitespace\n",
    "    if char != \" \":\n",
    "        # Add item to the correct dictionary\n",
    "        if char in 'aeiou':\n",
    "            catagories[\"vowels\"] += 1\n",
    "        elif char.isnumeric():\n",
    "            catagories[\"digits\"] += 1\n",
    "        else:\n",
    "            catagories[\"others\"] += 1\n",
    "\n",
    "# Print the results\n",
    "print(\"vowels,digits,others\", catagories)"
   ]
  }
 ],
 "metadata": {
  "kernelspec": {
   "display_name": "pyspark_glue",
   "language": "python",
   "name": "python3"
  },
  "language_info": {
   "codemirror_mode": {
    "name": "ipython",
    "version": 3
   },
   "file_extension": ".py",
   "mimetype": "text/x-python",
   "name": "python",
   "nbconvert_exporter": "python",
   "pygments_lexer": "ipython3",
   "version": "3.7.13"
  },
  "orig_nbformat": 4
 },
 "nbformat": 4,
 "nbformat_minor": 2
}
