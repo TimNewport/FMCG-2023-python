{
 "cells": [
  {
   "attachments": {},
   "cell_type": "markdown",
   "metadata": {},
   "source": [
    "# Exercises with data frames\n",
    " \n",
    "1. Create a 5x5 pandas data frame with rows abcde and columns vwxyz. The values should be random integers from 0-1,000. (You can use a 2D NumPy array for this, if you want.)\n",
    " \n",
    "2. Retrieve row b\n",
    "3. Retrieve rows b and d\n",
    "4. Retrieve rows b, c, and d\n",
    "5. Retrieve column w\n",
    "6. Retrieve columns w and y\n",
    "7. Retrieve columns w, x, and y\n",
    "8. Retrieve the item at row e, column v"
   ]
  },
  {
   "cell_type": "code",
   "execution_count": null,
   "metadata": {},
   "outputs": [],
   "source": [
    "import pandas as pd\n",
    "import numpy as np\n",
    "\n",
    "# create a 5x5 pandas data frame with random integers from 0-1000\n",
    "data = np.random.randint(0, 1000, (5, 5))\n",
    "df = pd.DataFrame(data, index=list('abcde'), columns=list('vwxyz'))\n",
    "\n",
    "# retrieve row b\n",
    "print(df.loc['b'])\n",
    "\n",
    "# retrieve rows b and d\n",
    "print(df.loc[['b', 'd']])\n",
    "\n",
    "# retrieve rows b, c, and d\n",
    "print(df.loc[['b', 'c', 'd']])\n",
    "\n",
    "# retrieve column w\n",
    "print(df['w'])\n",
    "\n",
    "# retrieve columns w and y\n",
    "print(df[['w', 'y']])\n",
    "\n",
    "# retrieve columns w, x, and y\n",
    "print(df[['w', 'x', 'y']])\n",
    "\n",
    "# retrieve the item at row e, column v\n",
    "print(df.loc['e', 'v'])"
   ]
  },
  {
   "attachments": {},
   "cell_type": "markdown",
   "metadata": {},
   "source": [
    "### Lets output the results to a panda series. "
   ]
  },
  {
   "cell_type": "code",
   "execution_count": 15,
   "metadata": {},
   "outputs": [
    {
     "name": "stdout",
     "output_type": "stream",
     "text": [
      "|                         | 0                          |\n",
      "|:------------------------|:---------------------------|\n",
      "| Row b                   | v    450                   |\n",
      "|                         | w    326                   |\n",
      "|                         | x    901                   |\n",
      "|                         | y    220                   |\n",
      "|                         | z     61                   |\n",
      "|                         | Name: b, dtype: int32      |\n",
      "| Rows b and d            | v    w    x    y    z      |\n",
      "|                         | b  450  326  901  220   61 |\n",
      "|                         | d  945   94  311  854  206 |\n",
      "| Rows b, c, and d        | v    w    x    y    z      |\n",
      "|                         | b  450  326  901  220   61 |\n",
      "|                         | c  681  166  167  764  350 |\n",
      "|                         | d  945   94  311  854  206 |\n",
      "| Column w                | a    251                   |\n",
      "|                         | b    326                   |\n",
      "|                         | c    166                   |\n",
      "|                         | d     94                   |\n",
      "|                         | e    979                   |\n",
      "|                         | Name: w, dtype: int32      |\n",
      "| Columns w and y         | w    y                     |\n",
      "|                         | a  251  886                |\n",
      "|                         | b  326  220                |\n",
      "|                         | c  166  764                |\n",
      "|                         | d   94  854                |\n",
      "|                         | e  979  224                |\n",
      "| Columns w, x, and y     | w    x    y                |\n",
      "|                         | a  251  529  886           |\n",
      "|                         | b  326  901  220           |\n",
      "|                         | c  166  167  764           |\n",
      "|                         | d   94  311  854           |\n",
      "|                         | e  979  687  224           |\n",
      "| Item at row e, column v | 349                        |\n"
     ]
    }
   ],
   "source": [
    "import pandas as pd\n",
    "import numpy as np\n",
    "\n",
    "np.random.seed(0)\n",
    "\n",
    "# Creating a 2D numpy array of shape (5,5) with random integers from 0-1000\n",
    "arr = np.random.randint(0, 1000, (5,5))\n",
    "\n",
    "# Creating a pandas data frame from the numpy array\n",
    "df = pd.DataFrame(data, index=list('abcde'), columns=list('vwxyz'))\n",
    "\n",
    "row_b = df.loc['b']\n",
    "\n",
    "rows_bd = df.loc[['b', 'd']]\n",
    "\n",
    "rows_bcd = df.loc[['b', 'c', 'd']]\n",
    "\n",
    "col_w = df.loc[:,'w']\n",
    "\n",
    "cols_wy = df[['w', 'y']]\n",
    "\n",
    "cols_wxy = df.loc[:,'w':'y']\n",
    "\n",
    "item_ev = df.at['e', 'v']\n",
    "\n",
    "results = pd.Series({'Row b': row_b,\n",
    "                     'Rows b and d': rows_bd,\n",
    "                     'Rows b, c, and d': rows_bcd,\n",
    "                     'Column w': col_w,\n",
    "                     'Columns w and y': cols_wy,\n",
    "                     'Columns w, x, and y': cols_wxy,\n",
    "                     'Item at row e, column v': item_ev})\n",
    "\n",
    "print(results.to_markdown())"
   ]
  },
  {
   "cell_type": "code",
   "execution_count": 8,
   "metadata": {},
   "outputs": [
    {
     "name": "stdout",
     "output_type": "stream",
     "text": [
      "19.9 µs ± 4.38 µs per loop (mean ± std. dev. of 7 runs, 10000 loops each)\n"
     ]
    }
   ],
   "source": [
    "%%timeit\n",
    "item_ev = df.loc['e', 'v']"
   ]
  },
  {
   "cell_type": "markdown",
   "metadata": {},
   "source": [
    "You can add a new row to a DataFrame using pd.concat() without providing values for all columns. You can do this by creating a new DataFrame with the desired row values and then concatenating it with the original DataFrame along axis=0 1. For example:"
   ]
  },
  {
   "cell_type": "code",
   "execution_count": 16,
   "metadata": {},
   "outputs": [
    {
     "name": "stdout",
     "output_type": "stream",
     "text": [
      "|    |   A |   B |   C |\n",
      "|---:|----:|----:|----:|\n",
      "|  0 |   1 |   2 | nan |\n"
     ]
    }
   ],
   "source": [
    "import pandas as pd\n",
    "\n",
    "# Create an empty DataFrame with columns\n",
    "df = pd.DataFrame(columns=['A', 'B', 'C'])\n",
    "\n",
    "# Create a new row as a DataFrame\n",
    "new_row = pd.DataFrame({'A': [1], 'B': [2]})\n",
    "\n",
    "# Concatenate the new row with the original DataFrame\n",
    "df = pd.concat([df, new_row], axis=0, ignore_index=True)\n",
    "\n",
    "print(results.to_markdown())"
   ]
  },
  {
   "attachments": {},
   "cell_type": "markdown",
   "metadata": {},
   "source": [
    "# pandas df example\n",
    "1. Create a data frame in which we have three columns: High, Low, and Precip.  There should be 10 rows, one for each of the next 10 days. In each cell, show the high temp, low temp, or precipitation forecast for these days.\n",
    "2. Create a new column, Diff, which shows the difference in temperature between these days.\n",
    "3. Find the three days with the greatest temp difference."
   ]
  },
  {
   "cell_type": "code",
   "execution_count": 21,
   "metadata": {},
   "outputs": [
    {
     "name": "stdout",
     "output_type": "stream",
     "text": [
      "|    |   High |   Low |   Precip |\n",
      "|---:|-------:|------:|---------:|\n",
      "|  0 |     80 |    65 |      0   |\n",
      "|  1 |     82 |    66 |      0   |\n",
      "|  2 |     76 |    62 |      0.2 |\n",
      "|  3 |     75 |    60 |      0.5 |\n",
      "|  4 |     70 |    55 |      0.7 |\n",
      "|  5 |     68 |    50 |      0.3 |\n",
      "|  6 |     72 |    54 |      0.1 |\n",
      "|  7 |     77 |    58 |      0   |\n",
      "|  8 |     79 |    61 |      0   |\n",
      "|  9 |     81 |    64 |      0   |\n",
      "|    |   High |   Low |   Precip |   Diff |\n",
      "|---:|-------:|------:|---------:|-------:|\n",
      "|  0 |     80 |    65 |      0   |     15 |\n",
      "|  1 |     82 |    66 |      0   |     16 |\n",
      "|  2 |     76 |    62 |      0.2 |     14 |\n",
      "|  3 |     75 |    60 |      0.5 |     15 |\n",
      "|  4 |     70 |    55 |      0.7 |     15 |\n",
      "|  5 |     68 |    50 |      0.3 |     18 |\n",
      "|  6 |     72 |    54 |      0.1 |     18 |\n",
      "|  7 |     77 |    58 |      0   |     19 |\n",
      "|  8 |     79 |    61 |      0   |     18 |\n",
      "|  9 |     81 |    64 |      0   |     17 |\n",
      "   High  Low  Precip  Diff\n",
      "7    77   58     0.0    19\n",
      "5    68   50     0.3    18\n",
      "6    72   54     0.1    18\n",
      "|    |   High |   Low |   Precip |   Diff |\n",
      "|---:|-------:|------:|---------:|-------:|\n",
      "|  7 |     77 |    58 |      0   |     19 |\n",
      "|  5 |     68 |    50 |      0.3 |     18 |\n",
      "|  6 |     72 |    54 |      0.1 |     18 |\n",
      "|  8 |     79 |    61 |      0   |     18 |\n"
     ]
    }
   ],
   "source": [
    "import pandas as pd\n",
    "\n",
    "# creating the data frame with data for the next 10 days\n",
    "data = {'High': [80, 82, 76, 75, 70, 68, 72, 77, 79, 81],\n",
    "        'Low': [65, 66, 62, 60, 55, 50, 54, 58, 61, 64],\n",
    "        'Precip': [0.00, 0.00, 0.20, 0.50, 0.70, 0.30, 0.10, 0.00, 0.00, 0.00]}\n",
    "\n",
    "df = pd.DataFrame(data)\n",
    "print(df.to_markdown())\n",
    "\n",
    "# adding a new column which shows the difference in temperature between high and low temp\n",
    "df['Diff'] = df['High'] - df['Low']\n",
    "print(df.to_markdown())\n",
    "\n",
    "# finding the three days with the greatest temp difference\n",
    "print(df.sort_values('Diff', ascending=False).head(3))\n",
    "# Or better would be \n",
    "print(df.nlargest(3, 'Diff',keep='all').to_markdown())"
   ]
  },
  {
   "attachments": {},
   "cell_type": "markdown",
   "metadata": {},
   "source": [
    "* what happens if my sort has a tie? will i always get the same values if i only select some of the rows with those values? \n",
    "\n",
    "** If your sort has a tie, it depends on the implementation of the sorting algorithm you are using. \n",
    "\n",
    "Some sorting algorithms may break ties in a deterministic way (e.g. by using a secondary sorting criterion such as alphabetical order of a certain column), while others may leave the order of the tied elements undefined.\n",
    "\n",
    "If you only select some of the rows with tied values, there is no guarantee that you will always get the same values unless you specify a secondary criterion for the selection. For example, you could select the first five rows in the sorted list, or you could randomly select five rows among those with tied values."
   ]
  },
  {
   "cell_type": "markdown",
   "metadata": {},
   "source": []
  },
  {
   "attachments": {},
   "cell_type": "markdown",
   "metadata": {},
   "source": [
    "\n"
   ]
  },
  {
   "cell_type": "markdown",
   "metadata": {},
   "source": [
    "# Exercise: Querying forecasts\n",
    "\n",
    "1. Create/edit your data frame containing high/low/precip, such that its index will now contain the dates (in the form MMDD).\n",
    "2. On which days do you find an above-average amount of precipitation?\n",
    "3. What is the avearage low temp on days where there's an above-average diff in temperatures?"
   ]
  },
  {
   "cell_type": "code",
   "execution_count": 22,
   "metadata": {},
   "outputs": [
    {
     "name": "stdout",
     "output_type": "stream",
     "text": [
      "Above-average precipitation days: 0504, 0505, 0506, 0507\n",
      "Average low temp on days with above-average temp difference 0507, 0508, 0509, 0510, 0511: 57.4\n",
      "|      |   High |   Low |   Precip |\n",
      "|-----:|-------:|------:|---------:|\n",
      "| 0502 |     80 |    65 |      0   |\n",
      "| 0503 |     82 |    66 |      0   |\n",
      "| 0504 |     76 |    62 |      0.2 |\n",
      "| 0505 |     75 |    60 |      0.5 |\n",
      "| 0506 |     70 |    55 |      0.7 |\n",
      "| 0507 |     68 |    50 |      0.3 |\n",
      "| 0508 |     72 |    54 |      0.1 |\n",
      "| 0509 |     77 |    58 |      0   |\n",
      "| 0510 |     79 |    61 |      0   |\n",
      "| 0511 |     81 |    64 |      0   |\n"
     ]
    }
   ],
   "source": [
    "import pandas as pd\n",
    "\n",
    "# creating the data frame with data for the next 10 days\n",
    "data = {'High': [80, 82, 76, 75, 70, 68, 72, 77, 79, 81],\n",
    "        'Low': [65, 66, 62, 60, 55, 50, 54, 58, 61, 64],\n",
    "        'Precip': [0.00, 0.00, 0.20, 0.50, 0.70, 0.30, 0.10, 0.00, 0.00, 0.00]}\n",
    "\n",
    "# creating date index\n",
    "dates = pd.date_range(start=pd.Timestamp.today().strftime('%m/%d/%Y'), periods=10, freq='D')\n",
    "\n",
    "# creating data frame with date index\n",
    "df = pd.DataFrame(data, index=dates.strftime('%m%d'))\n",
    "\n",
    "# finding above-average precipitation days\n",
    "above_avg_precip = df[df['Precip'] > df['Precip'].mean()]\n",
    "above_avg_precip_days = ', '.join(above_avg_precip.index)\n",
    "\n",
    "# calculating average low temp on days with above-average temp difference\n",
    "temp_diff = df['High'] - df['Low']\n",
    "above_avg_temp_diff = temp_diff[temp_diff > temp_diff.mean()]\n",
    "above_avg_temp_diff_days = ', '.join(above_avg_temp_diff.index)\n",
    "avg_low_temp_above_avg_temp_diff = df.loc[above_avg_temp_diff.index, 'Low'].mean()\n",
    "\n",
    "# displaying results\n",
    "print(f\"Above-average precipitation days: {above_avg_precip_days}\")\n",
    "print(f\"Average low temp on days with above-average temp difference {above_avg_temp_diff_days}: {avg_low_temp_above_avg_temp_diff}\")\n",
    "print(df.to_markdown())"
   ]
  },
  {
   "attachments": {},
   "cell_type": "markdown",
   "metadata": {},
   "source": [
    "# Exercise: Weird taxi rides in pandas\n",
    "\n",
    "1. Read taxi.csv into a data frame. We only care about three columns: passenger_count, trip_distance, and total_amount.\n",
    "2. Were there any rides with 0 passengers? How much did people pay, on average, for such rides? How far did they go?\n",
    "3. Were there any rides where the total fare was <= 0? How many passengers were there, on average, and how far did they go?\n",
    "4. Were there any rides where they went 0 miles? How much did they pay?"
   ]
  },
  {
   "cell_type": "code",
   "execution_count": 27,
   "metadata": {},
   "outputs": [
    {
     "data": {
      "text/html": [
       "<div>\n",
       "<style scoped>\n",
       "    .dataframe tbody tr th:only-of-type {\n",
       "        vertical-align: middle;\n",
       "    }\n",
       "\n",
       "    .dataframe tbody tr th {\n",
       "        vertical-align: top;\n",
       "    }\n",
       "\n",
       "    .dataframe thead th {\n",
       "        text-align: right;\n",
       "    }\n",
       "</style>\n",
       "<table border=\"1\" class=\"dataframe\">\n",
       "  <thead>\n",
       "    <tr style=\"text-align: right;\">\n",
       "      <th></th>\n",
       "      <th>VendorID</th>\n",
       "      <th>tpep_pickup_datetime</th>\n",
       "      <th>tpep_dropoff_datetime</th>\n",
       "      <th>passenger_count</th>\n",
       "      <th>trip_distance</th>\n",
       "      <th>pickup_longitude</th>\n",
       "      <th>pickup_latitude</th>\n",
       "      <th>RateCodeID</th>\n",
       "      <th>store_and_fwd_flag</th>\n",
       "      <th>dropoff_longitude</th>\n",
       "      <th>dropoff_latitude</th>\n",
       "      <th>payment_type</th>\n",
       "      <th>fare_amount</th>\n",
       "      <th>extra</th>\n",
       "      <th>mta_tax</th>\n",
       "      <th>tip_amount</th>\n",
       "      <th>tolls_amount</th>\n",
       "      <th>improvement_surcharge</th>\n",
       "      <th>total_amount</th>\n",
       "    </tr>\n",
       "  </thead>\n",
       "  <tbody>\n",
       "    <tr>\n",
       "      <th>0</th>\n",
       "      <td>2</td>\n",
       "      <td>2015-06-02 11:19:29</td>\n",
       "      <td>2015-06-02 11:47:52</td>\n",
       "      <td>1</td>\n",
       "      <td>1.63</td>\n",
       "      <td>-73.954430</td>\n",
       "      <td>40.764141</td>\n",
       "      <td>1</td>\n",
       "      <td>N</td>\n",
       "      <td>-73.974754</td>\n",
       "      <td>40.754093</td>\n",
       "      <td>2</td>\n",
       "      <td>17.0</td>\n",
       "      <td>0.0</td>\n",
       "      <td>0.5</td>\n",
       "      <td>0.00</td>\n",
       "      <td>0.0</td>\n",
       "      <td>0.3</td>\n",
       "      <td>17.80</td>\n",
       "    </tr>\n",
       "    <tr>\n",
       "      <th>1</th>\n",
       "      <td>2</td>\n",
       "      <td>2015-06-02 11:19:30</td>\n",
       "      <td>2015-06-02 11:27:56</td>\n",
       "      <td>1</td>\n",
       "      <td>0.46</td>\n",
       "      <td>-73.971443</td>\n",
       "      <td>40.758942</td>\n",
       "      <td>1</td>\n",
       "      <td>N</td>\n",
       "      <td>-73.978539</td>\n",
       "      <td>40.761909</td>\n",
       "      <td>1</td>\n",
       "      <td>6.5</td>\n",
       "      <td>0.0</td>\n",
       "      <td>0.5</td>\n",
       "      <td>1.00</td>\n",
       "      <td>0.0</td>\n",
       "      <td>0.3</td>\n",
       "      <td>8.30</td>\n",
       "    </tr>\n",
       "    <tr>\n",
       "      <th>2</th>\n",
       "      <td>2</td>\n",
       "      <td>2015-06-02 11:19:31</td>\n",
       "      <td>2015-06-02 11:30:30</td>\n",
       "      <td>1</td>\n",
       "      <td>0.87</td>\n",
       "      <td>-73.978111</td>\n",
       "      <td>40.738434</td>\n",
       "      <td>1</td>\n",
       "      <td>N</td>\n",
       "      <td>-73.990273</td>\n",
       "      <td>40.745438</td>\n",
       "      <td>1</td>\n",
       "      <td>8.0</td>\n",
       "      <td>0.0</td>\n",
       "      <td>0.5</td>\n",
       "      <td>2.20</td>\n",
       "      <td>0.0</td>\n",
       "      <td>0.3</td>\n",
       "      <td>11.00</td>\n",
       "    </tr>\n",
       "    <tr>\n",
       "      <th>3</th>\n",
       "      <td>2</td>\n",
       "      <td>2015-06-02 11:19:31</td>\n",
       "      <td>2015-06-02 11:39:02</td>\n",
       "      <td>1</td>\n",
       "      <td>2.13</td>\n",
       "      <td>-73.945892</td>\n",
       "      <td>40.773529</td>\n",
       "      <td>1</td>\n",
       "      <td>N</td>\n",
       "      <td>-73.971527</td>\n",
       "      <td>40.760330</td>\n",
       "      <td>1</td>\n",
       "      <td>13.5</td>\n",
       "      <td>0.0</td>\n",
       "      <td>0.5</td>\n",
       "      <td>2.86</td>\n",
       "      <td>0.0</td>\n",
       "      <td>0.3</td>\n",
       "      <td>17.16</td>\n",
       "    </tr>\n",
       "    <tr>\n",
       "      <th>4</th>\n",
       "      <td>1</td>\n",
       "      <td>2015-06-02 11:19:32</td>\n",
       "      <td>2015-06-02 11:32:49</td>\n",
       "      <td>1</td>\n",
       "      <td>1.40</td>\n",
       "      <td>-73.979088</td>\n",
       "      <td>40.776772</td>\n",
       "      <td>1</td>\n",
       "      <td>N</td>\n",
       "      <td>-73.982162</td>\n",
       "      <td>40.758999</td>\n",
       "      <td>2</td>\n",
       "      <td>9.5</td>\n",
       "      <td>0.0</td>\n",
       "      <td>0.5</td>\n",
       "      <td>0.00</td>\n",
       "      <td>0.0</td>\n",
       "      <td>0.3</td>\n",
       "      <td>10.30</td>\n",
       "    </tr>\n",
       "  </tbody>\n",
       "</table>\n",
       "</div>"
      ],
      "text/plain": [
       "   VendorID tpep_pickup_datetime tpep_dropoff_datetime  passenger_count  \\\n",
       "0         2  2015-06-02 11:19:29   2015-06-02 11:47:52                1   \n",
       "1         2  2015-06-02 11:19:30   2015-06-02 11:27:56                1   \n",
       "2         2  2015-06-02 11:19:31   2015-06-02 11:30:30                1   \n",
       "3         2  2015-06-02 11:19:31   2015-06-02 11:39:02                1   \n",
       "4         1  2015-06-02 11:19:32   2015-06-02 11:32:49                1   \n",
       "\n",
       "   trip_distance  pickup_longitude  pickup_latitude  RateCodeID  \\\n",
       "0           1.63        -73.954430        40.764141           1   \n",
       "1           0.46        -73.971443        40.758942           1   \n",
       "2           0.87        -73.978111        40.738434           1   \n",
       "3           2.13        -73.945892        40.773529           1   \n",
       "4           1.40        -73.979088        40.776772           1   \n",
       "\n",
       "  store_and_fwd_flag  dropoff_longitude  dropoff_latitude  payment_type  \\\n",
       "0                  N         -73.974754         40.754093             2   \n",
       "1                  N         -73.978539         40.761909             1   \n",
       "2                  N         -73.990273         40.745438             1   \n",
       "3                  N         -73.971527         40.760330             1   \n",
       "4                  N         -73.982162         40.758999             2   \n",
       "\n",
       "   fare_amount  extra  mta_tax  tip_amount  tolls_amount  \\\n",
       "0         17.0    0.0      0.5        0.00           0.0   \n",
       "1          6.5    0.0      0.5        1.00           0.0   \n",
       "2          8.0    0.0      0.5        2.20           0.0   \n",
       "3         13.5    0.0      0.5        2.86           0.0   \n",
       "4          9.5    0.0      0.5        0.00           0.0   \n",
       "\n",
       "   improvement_surcharge  total_amount  \n",
       "0                    0.3         17.80  \n",
       "1                    0.3          8.30  \n",
       "2                    0.3         11.00  \n",
       "3                    0.3         17.16  \n",
       "4                    0.3         10.30  "
      ]
     },
     "execution_count": 27,
     "metadata": {},
     "output_type": "execute_result"
    }
   ],
   "source": [
    "df = pd.read_csv(r'..\\exercise-files\\mytaxidata.csv')\n",
    "df.head()"
   ]
  },
  {
   "cell_type": "code",
   "execution_count": 30,
   "metadata": {},
   "outputs": [
    {
     "data": {
      "text/plain": [
       "['Day1.ipynb',\n",
       " 'Day2.ipynb',\n",
       " 'Day3.ipynb',\n",
       " 'Day4.ipynb',\n",
       " 'Day5.ipynb',\n",
       " 'Day6.ipynb',\n",
       " 'Day7.ipynb',\n",
       " 'Day8.ipynb',\n",
       " 'Day9.ipynb',\n",
       " 'utils']"
      ]
     },
     "execution_count": 30,
     "metadata": {},
     "output_type": "execute_result"
    }
   ],
   "source": [
    "# list files in the current dir on a windows machine\n",
    "import os\n",
    "os.listdir()"
   ]
  },
  {
   "cell_type": "code",
   "execution_count": 38,
   "metadata": {},
   "outputs": [
    {
     "name": "stdout",
     "output_type": "stream",
     "text": [
      "There were 2 rides with 0 passengers!\n",
      "On average they paid $25.57 and traveled 4.60 miles\n",
      "There were 3 rides with negative or zero fares!\n",
      "On average there were 1.00 passengers and traveled 0.61 miles\n",
      "There were 67 rides with 0 miles!\n",
      "They paid an average of $31.58\n"
     ]
    }
   ],
   "source": [
    "import pandas as pd\n",
    "\n",
    "# 1. Read taxi.csv\n",
    "df = pd.read_csv(r'..\\exercise-files\\mytaxidata.csv', usecols=['passenger_count', 'trip_distance', 'total_amount'])\n",
    "\n",
    "# 2. Rides with 0 passengers\n",
    "zero_passengers = df.loc[df['passenger_count'] == 0]\n",
    "if len(zero_passengers) > 0:\n",
    "    print(f\"There were {len(zero_passengers)} rides with 0 passengers!\")\n",
    "    print(\"On average they paid ${:.2f} and traveled {:.2f} miles\".format(\n",
    "        zero_passengers['total_amount'].mean(), zero_passengers['trip_distance'].mean()))\n",
    "\n",
    "# 3. Rides where total fare was <= 0\n",
    "negative_fare = df.loc[df['total_amount'] <= 0]\n",
    "if len(negative_fare) > 0:\n",
    "    print(f\"There were {len(negative_fare)} rides with negative or zero fares!\")\n",
    "    print(\"On average there were {:.2f} passengers and traveled {:.2f} miles\".format(\n",
    "        negative_fare['passenger_count'].mean(), negative_fare['trip_distance'].mean()))\n",
    "\n",
    "# 4. Rides where they went 0 miles\n",
    "no_distance = df.loc[df['trip_distance'] == 0]\n",
    "if len(no_distance) > 0:\n",
    "    print(f\"There were {len(no_distance)} rides with 0 miles!\")\n",
    "    print(\"They paid an average of ${:.2f}\".format(no_distance['total_amount'].mean()))"
   ]
  },
  {
   "attachments": {},
   "cell_type": "markdown",
   "metadata": {},
   "source": []
  },
  {
   "cell_type": "code",
   "execution_count": 41,
   "metadata": {},
   "outputs": [
    {
     "data": {
      "text/plain": [
       "124"
      ]
     },
     "execution_count": 41,
     "metadata": {},
     "output_type": "execute_result"
    }
   ],
   "source": []
  }
 ],
 "metadata": {
  "kernelspec": {
   "display_name": "pyspark_glue",
   "language": "python",
   "name": "python3"
  },
  "language_info": {
   "codemirror_mode": {
    "name": "ipython",
    "version": 3
   },
   "file_extension": ".py",
   "mimetype": "text/x-python",
   "name": "python",
   "nbconvert_exporter": "python",
   "pygments_lexer": "ipython3",
   "version": "3.7.13"
  },
  "orig_nbformat": 4
 },
 "nbformat": 4,
 "nbformat_minor": 2
}
