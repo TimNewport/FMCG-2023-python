{
 "cells": [
  {
   "cell_type": "code",
   "execution_count": 1,
   "metadata": {},
   "outputs": [],
   "source": [
    "# What are the steps I need to follow to set up an AWS free sandbox using my personal account\n",
    "\n",
    "# What are the benefits of using from .. import in python? I heard the import reads everything into memory anyways. "
   ]
  },
  {
   "cell_type": "code",
   "execution_count": 2,
   "metadata": {},
   "outputs": [
    {
     "name": "stdout",
     "output_type": "stream",
     "text": [
      "Sorted by word length: ['giraffe', 'Three', 'Seven', 'eight', 'Four', 'Five', 'nine', 'One', 'Two', 'Six']\n",
      "Sorted by number of vowels: ['One', 'Two', 'Six', 'Three', 'Four', 'Five', 'Seven', 'eight', 'nine', 'giraffe']\n"
     ]
    }
   ],
   "source": [
    "words = \"One Two Three Four Five Six Seven eight nine giraffe\".split()\n",
    "\n",
    "# Sort the list by word length, from longest to shortest\n",
    "sorted_by_length = sorted(words, key=len, reverse=True)\n",
    "print(\"Sorted by word length:\", sorted_by_length)\n",
    "\n",
    "# Sort the list by the number of vowels, from 0 vowels to the maximum\n",
    "vowels = 'aeiou'\n",
    "sorted_by_vowels = sorted(words, key=lambda word: sum(1 for letter in word if letter in vowels))\n",
    "\n",
    "print(\"Sorted by number of vowels:\", sorted_by_vowels)"
   ]
  },
  {
   "cell_type": "code",
   "execution_count": 2,
   "metadata": {},
   "outputs": [
    {
     "data": {
      "text/plain": [
       "<module 'utils.usemenu' from 'c:\\\\Users\\\\t466252\\\\OneDrive - Deluxe Corporation\\\\GIT\\\\Training\\\\Solutions_Tim\\\\utils\\\\usemenu.py'>"
      ]
     },
     "execution_count": 2,
     "metadata": {},
     "output_type": "execute_result"
    }
   ],
   "source": [
    "from importlib import *\n",
    "from utils import *\n",
    "\n",
    "reload(usemenu)"
   ]
  },
  {
   "cell_type": "code",
   "execution_count": 2,
   "metadata": {},
   "outputs": [
    {
     "name": "stdout",
     "output_type": "stream",
     "text": [
      "User choice was :b\n"
     ]
    }
   ],
   "source": [
    "# from utils import usemenu\n",
    "\n",
    "user_choice = menu('a','b','c')\n",
    "\n",
    "print(f'User choice was :{user_choice}')\n"
   ]
  },
  {
   "cell_type": "code",
   "execution_count": 8,
   "metadata": {},
   "outputs": [
    {
     "name": "stdout",
     "output_type": "stream",
     "text": [
      "User choice was :4\n"
     ]
    }
   ],
   "source": [
    "from utils.usemenu import menu2\n",
    "\n",
    "user_choice = menu2({'a':'10'},{'b':'12'},{'c':'4','d':'6'})\n",
    "\n",
    "print(f'User choice was : {user_choice}')"
   ]
  }
 ],
 "metadata": {
  "kernelspec": {
   "display_name": "pyspark_glue",
   "language": "python",
   "name": "python3"
  },
  "language_info": {
   "codemirror_mode": {
    "name": "ipython",
    "version": 3
   },
   "file_extension": ".py",
   "mimetype": "text/x-python",
   "name": "python",
   "nbconvert_exporter": "python",
   "pygments_lexer": "ipython3",
   "version": "3.7.13"
  },
  "orig_nbformat": 4
 },
 "nbformat": 4,
 "nbformat_minor": 2
}
