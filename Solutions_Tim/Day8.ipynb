{
 "cells": [
  {
   "attachments": {},
   "cell_type": "markdown",
   "metadata": {},
   "source": [
    "# Exercises: Series and indexes in pandas\n",
    " \n",
    "1. Create a series containing 10 random integers, with index a-j.\n",
    "2. Retrieve the item at index b.\n",
    "3. Retrieve the items at indexes c, d, and f\n",
    "4. What is the mean of the items at indexes a, e, g, and h?\n",
    "5. What is the mean of the items with even numeric (positional) indexes?"
   ]
  },
  {
   "cell_type": "code",
   "execution_count": 9,
   "metadata": {},
   "outputs": [
    {
     "data": {
      "text/plain": [
       "a    98\n",
       "b    22\n",
       "c     6\n",
       "d    69\n",
       "e    85\n",
       "f     7\n",
       "g    29\n",
       "h     7\n",
       "i    55\n",
       "j    30\n",
       "dtype: int32"
      ]
     },
     "execution_count": 9,
     "metadata": {},
     "output_type": "execute_result"
    }
   ],
   "source": [
    "import pandas as pd\n",
    "import numpy as np\n",
    "\n",
    "data = np.random.randint(low=0, high=100, size=10)\n",
    "# index = ['a', 'b', 'c', 'd', 'e', 'f', 'g', 'h', 'i', 'j']\n",
    "series = pd.Series(data=data, index=list('abcdefghij'))\n",
    "series"
   ]
  },
  {
   "cell_type": "code",
   "execution_count": 4,
   "metadata": {},
   "outputs": [
    {
     "data": {
      "text/plain": [
       "33"
      ]
     },
     "execution_count": 4,
     "metadata": {},
     "output_type": "execute_result"
    }
   ],
   "source": [
    "series.loc['b'] # Retrieve the item at index b.\n"
   ]
  },
  {
   "cell_type": "code",
   "execution_count": 11,
   "metadata": {},
   "outputs": [
    {
     "data": {
      "text/plain": [
       "c     6\n",
       "d    69\n",
       "f     7\n",
       "dtype: int32"
      ]
     },
     "execution_count": 11,
     "metadata": {},
     "output_type": "execute_result"
    }
   ],
   "source": [
    "# series.loc[list('cdf')] # Retrieve the items at indexes c, d, and f\n",
    "series.loc[['c','d','f']]"
   ]
  },
  {
   "cell_type": "code",
   "execution_count": 6,
   "metadata": {},
   "outputs": [
    {
     "data": {
      "text/plain": [
       "56.25"
      ]
     },
     "execution_count": 6,
     "metadata": {},
     "output_type": "execute_result"
    }
   ],
   "source": [
    "series.loc[['a', 'e', 'g', 'h']].mean() #  What is the mean of the items at indexes a, e, g, and h?"
   ]
  },
  {
   "cell_type": "code",
   "execution_count": 8,
   "metadata": {},
   "outputs": [
    {
     "data": {
      "text/plain": [
       "52.8"
      ]
     },
     "execution_count": 8,
     "metadata": {},
     "output_type": "execute_result"
    }
   ],
   "source": [
    "series.iloc[::2].mean() #  What is the mean of the items with even numeric (positional) indexes?"
   ]
  },
  {
   "attachments": {},
   "cell_type": "markdown",
   "metadata": {},
   "source": [
    "# Exercises: Series and indexes\n",
    " \n",
    "1. Create a new series, with 5 random integers from 0-100, and an index of a-e.\n",
    "2. Create another new series, with 5 random integers from 0-100, and an index of b-f.\n",
    "3. What happens when you add these together? Do so both getting `nan` and with a default of 0.\n",
    "4. What happens when you multiply them together? Do so both getting `nan` and a default of 1. (Why not 0?)\n",
    "5. Add together only b-c-d from each of these series."
   ]
  },
  {
   "cell_type": "code",
   "execution_count": 15,
   "metadata": {},
   "outputs": [
    {
     "name": "stdout",
     "output_type": "stream",
     "text": [
      "series1:\n",
      "a    48\n",
      "b    43\n",
      "c    39\n",
      "d    62\n",
      "e    82\n",
      "dtype: int32\n",
      "series2:\n",
      "b    70\n",
      "c    89\n",
      "d    15\n",
      "e    39\n",
      "f    88\n",
      "dtype: int32\n",
      "series w nan:\n",
      "a      NaN\n",
      "b    113.0\n",
      "c    128.0\n",
      "d     77.0\n",
      "e    121.0\n",
      "f      NaN\n",
      "dtype: float64\n",
      "series w/o nan:\n",
      "a     48.0\n",
      "b    113.0\n",
      "c    128.0\n",
      "d     77.0\n",
      "e    121.0\n",
      "f     88.0\n",
      "dtype: float64\n",
      "series * w nan:\n",
      "a       NaN\n",
      "b    3010.0\n",
      "c    3471.0\n",
      "d     930.0\n",
      "e    3198.0\n",
      "f       NaN\n",
      "dtype: float64\n",
      "series * w/o nan:\n",
      "a      48.0\n",
      "b    3010.0\n",
      "c    3471.0\n",
      "d     930.0\n",
      "e    3198.0\n",
      "f      88.0\n",
      "dtype: float64\n",
      "b    113\n",
      "c    128\n",
      "d     77\n",
      "dtype: int32\n"
     ]
    }
   ],
   "source": [
    "\n",
    "# 1. Create a new series, with 5 random integers from 0-100, and an index of a-e.\n",
    "s1 = pd.Series(np.random.randint(low=0, high=100, size=5), index=list('abcde'))\n",
    "print(f\"series1:\\n{s1}\")\n",
    "\n",
    "# 2. Create another new series, with 5 random integers from 0-100, and an index of b-f.\n",
    "s2 = pd.Series(np.random.randint(low=0, high=100, size=5), index=list('bcdef'))\n",
    "print(f\"series2:\\n{s2}\")\n",
    "\n",
    "# 3. What happens when you add these together? Do so both getting `nan` and with a default of 0.\n",
    "add_nans = s1 + s2\n",
    "print(f\"series w nan:\\n{add_nans}\")\n",
    "add_zeros = s1.add(s2, fill_value=0)\n",
    "print(f\"series w/o nan:\\n{add_zeros}\")\n",
    "\n",
    "# 4. What happens when you multiply them together? Do so both getting `nan` and a default of 1. (Why not 0?)\n",
    "multiply_nans = s1 * s2\n",
    "print(f\"series * w nan:\\n{multiply_nans}\")\n",
    "multiply_ones = s1.multiply(s2, fill_value=1)\n",
    "print(f\"series * w/o nan:\\n{multiply_ones}\")\n",
    "\n",
    "# 5. Add together only b-c-d from each of these series.\n",
    "sub_add = s1[['b', 'c', 'd']] + s2[['b', 'c', 'd']]\n",
    "print(sub_add)"
   ]
  },
  {
   "cell_type": "code",
   "execution_count": null,
   "metadata": {},
   "outputs": [],
   "source": []
  }
 ],
 "metadata": {
  "kernelspec": {
   "display_name": "pyspark_glue",
   "language": "python",
   "name": "python3"
  },
  "language_info": {
   "codemirror_mode": {
    "name": "ipython",
    "version": 3
   },
   "file_extension": ".py",
   "mimetype": "text/x-python",
   "name": "python",
   "nbconvert_exporter": "python",
   "pygments_lexer": "ipython3",
   "version": "3.7.13"
  },
  "orig_nbformat": 4
 },
 "nbformat": 4,
 "nbformat_minor": 2
}
