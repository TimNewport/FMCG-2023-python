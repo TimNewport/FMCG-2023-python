{
 "cells": [
  {
   "attachments": {},
   "cell_type": "markdown",
   "metadata": {},
   "source": [
    "# Exercises: Series and indexes in pandas\n",
    " \n",
    "1. Create a series containing 10 random integers, with index a-j.\n",
    "2. Retrieve the item at index b.\n",
    "3. Retrieve the items at indexes c, d, and f\n",
    "4. What is the mean of the items at indexes a, e, g, and h?\n",
    "5. What is the mean of the items with even numeric (positional) indexes?"
   ]
  },
  {
   "cell_type": "code",
   "execution_count": 9,
   "metadata": {},
   "outputs": [
    {
     "data": {
      "text/plain": [
       "a    98\n",
       "b    22\n",
       "c     6\n",
       "d    69\n",
       "e    85\n",
       "f     7\n",
       "g    29\n",
       "h     7\n",
       "i    55\n",
       "j    30\n",
       "dtype: int32"
      ]
     },
     "execution_count": 9,
     "metadata": {},
     "output_type": "execute_result"
    }
   ],
   "source": [
    "import pandas as pd\n",
    "import numpy as np\n",
    "\n",
    "data = np.random.randint(low=0, high=100, size=10)\n",
    "# index = ['a', 'b', 'c', 'd', 'e', 'f', 'g', 'h', 'i', 'j']\n",
    "series = pd.Series(data=data, index=list('abcdefghij'))\n",
    "series"
   ]
  },
  {
   "cell_type": "code",
   "execution_count": 4,
   "metadata": {},
   "outputs": [
    {
     "data": {
      "text/plain": [
       "33"
      ]
     },
     "execution_count": 4,
     "metadata": {},
     "output_type": "execute_result"
    }
   ],
   "source": [
    "series.loc['b'] # Retrieve the item at index b.\n"
   ]
  },
  {
   "cell_type": "code",
   "execution_count": 11,
   "metadata": {},
   "outputs": [
    {
     "data": {
      "text/plain": [
       "c     6\n",
       "d    69\n",
       "f     7\n",
       "dtype: int32"
      ]
     },
     "execution_count": 11,
     "metadata": {},
     "output_type": "execute_result"
    }
   ],
   "source": [
    "# series.loc[list('cdf')] # Retrieve the items at indexes c, d, and f\n",
    "series.loc[['c','d','f']]"
   ]
  },
  {
   "cell_type": "code",
   "execution_count": 6,
   "metadata": {},
   "outputs": [
    {
     "data": {
      "text/plain": [
       "56.25"
      ]
     },
     "execution_count": 6,
     "metadata": {},
     "output_type": "execute_result"
    }
   ],
   "source": [
    "series.loc[['a', 'e', 'g', 'h']].mean() #  What is the mean of the items at indexes a, e, g, and h?"
   ]
  },
  {
   "cell_type": "code",
   "execution_count": 8,
   "metadata": {},
   "outputs": [
    {
     "data": {
      "text/plain": [
       "52.8"
      ]
     },
     "execution_count": 8,
     "metadata": {},
     "output_type": "execute_result"
    }
   ],
   "source": [
    "series.iloc[::2].mean() #  What is the mean of the items with even numeric (positional) indexes?"
   ]
  },
  {
   "attachments": {},
   "cell_type": "markdown",
   "metadata": {},
   "source": [
    "# Exercises: Series and indexes\n",
    " \n",
    "1. Create a new series, with 5 random integers from 0-100, and an index of a-e.\n",
    "2. Create another new series, with 5 random integers from 0-100, and an index of b-f.\n",
    "3. What happens when you add these together? Do so both getting `nan` and with a default of 0.\n",
    "4. What happens when you multiply them together? Do so both getting `nan` and a default of 1. (Why not 0?)\n",
    "5. Add together only b-c-d from each of these series."
   ]
  },
  {
   "cell_type": "code",
   "execution_count": 16,
   "metadata": {},
   "outputs": [
    {
     "name": "stdout",
     "output_type": "stream",
     "text": [
      "series1:\n",
      "a    18\n",
      "b    30\n",
      "c    26\n",
      "d    28\n",
      "e    12\n",
      "dtype: int32\n",
      "series2:\n",
      "b    95\n",
      "c    67\n",
      "d    46\n",
      "e    33\n",
      "f    66\n",
      "dtype: int32\n",
      "series w nan:\n",
      "a      NaN\n",
      "b    125.0\n",
      "c     93.0\n",
      "d     74.0\n",
      "e     45.0\n",
      "f      NaN\n",
      "dtype: float64\n",
      "series w/o nan:\n",
      "a     18.0\n",
      "b    125.0\n",
      "c     93.0\n",
      "d     74.0\n",
      "e     45.0\n",
      "f     66.0\n",
      "dtype: float64\n",
      "series * w nan:\n",
      "a       NaN\n",
      "b    2850.0\n",
      "c    1742.0\n",
      "d    1288.0\n",
      "e     396.0\n",
      "f       NaN\n",
      "dtype: float64\n",
      "series * w/o nan:\n",
      "a      18.0\n",
      "b    2850.0\n",
      "c    1742.0\n",
      "d    1288.0\n",
      "e     396.0\n",
      "f      66.0\n",
      "dtype: float64\n",
      "b    125\n",
      "c     93\n",
      "d     74\n",
      "dtype: int32\n"
     ]
    }
   ],
   "source": [
    "\n",
    "# 1. Create a new series, with 5 random integers from 0-100, and an index of a-e.\n",
    "s1 = pd.Series(np.random.randint(low=0, high=100, size=5), index=list('abcde'))\n",
    "print(f\"series1:\\n{s1}\")\n",
    "\n",
    "# 2. Create another new series, with 5 random integers from 0-100, and an index of b-f.\n",
    "s2 = pd.Series(np.random.randint(low=0, high=100, size=5), index=list('bcdef'))\n",
    "print(f\"series2:\\n{s2}\")\n",
    "\n",
    "# 3. What happens when you add these together? Do so both getting `nan` and with a default of 0.\n",
    "add_nans = s1 + s2\n",
    "print(f\"series w nan:\\n{add_nans}\")\n",
    "add_zeros = s1.add(s2, fill_value=0)\n",
    "print(f\"series w/o nan:\\n{add_zeros}\")\n",
    "\n",
    "# 4. What happens when you multiply them together? Do so both getting `nan` and a default of 1. (Why not 0?)\n",
    "multiply_nans = s1 * s2\n",
    "print(f\"series * w nan:\\n{multiply_nans}\")\n",
    "multiply_ones = s1.multiply(s2, fill_value=1)\n",
    "print(f\"series * w/o nan:\\n{multiply_ones}\")\n",
    "\n",
    "# 5. Add together only b-c-d from each of these series.\n",
    "sub_add = s1[['b', 'c', 'd']] + s2['b':'d']\n",
    "print(sub_add)"
   ]
  },
  {
   "attachments": {},
   "cell_type": "markdown",
   "metadata": {},
   "source": [
    "# Is a pandas dataframe the same as a panda series?\n",
    "\n",
    "~ No, a Pandas DataFrame is a two-dimensional table whereas a Pandas Series is a one-dimensional labeled array, similar to a column in a DataFrame. A Pandas Series can be thought of a single column of a DataFrame."
   ]
  },
  {
   "attachments": {},
   "cell_type": "markdown",
   "metadata": {},
   "source": [
    "# Exercises: Series and indexes\n",
    "1. Create a series containing 10 random floats from 1-1,000.\n",
    "2. Replace the numbers whose integer part is even with NaN.\n",
    "3. Replace those NaN values with the mean of the remaining numbers.\n",
    "4. What's the mean now?\n",
    "\n",
    "place all results in a single script using fstring to display the results clearly. "
   ]
  },
  {
   "cell_type": "code",
   "execution_count": 44,
   "metadata": {},
   "outputs": [
    {
     "name": "stdout",
     "output_type": "stream",
     "text": [
      "1. Series of 10 random floats from 1-1,000:\n",
      "0     76.308289\n",
      "1    779.918792\n",
      "2    438.409231\n",
      "3    723.465178\n",
      "4    977.989512\n",
      "5    538.495870\n",
      "6    501.120464\n",
      "7     72.051133\n",
      "8    268.438980\n",
      "9    499.882501\n",
      "dtype: float64\n"
     ]
    }
   ],
   "source": [
    "import numpy as np\n",
    "import pandas as pd\n",
    "\n",
    "# 1. Create a series containing 10 random floats from 1-1,000.\n",
    "np.random.seed(7)\n",
    "s = pd.Series(np.random.rand(10) * 1000)\n",
    "print(f\"1. Series of 10 random floats from 1-1,000:\\n{s}\")"
   ]
  },
  {
   "cell_type": "code",
   "execution_count": 43,
   "metadata": {},
   "outputs": [
    {
     "ename": "ValueError",
     "evalue": "cannot convert float NaN to integer",
     "output_type": "error",
     "traceback": [
      "\u001b[1;31m---------------------------------------------------------------------------\u001b[0m",
      "\u001b[1;31mValueError\u001b[0m                                Traceback (most recent call last)",
      "\u001b[1;32m~\\AppData\\Local\\Temp\\ipykernel_13048\\2587884378.py\u001b[0m in \u001b[0;36m<module>\u001b[1;34m\u001b[0m\n\u001b[0;32m      1\u001b[0m \u001b[1;31m# 2. Replace the numbers whose integer part is even with NaN.\u001b[0m\u001b[1;33m\u001b[0m\u001b[1;33m\u001b[0m\u001b[1;33m\u001b[0m\u001b[0m\n\u001b[1;32m----> 2\u001b[1;33m \u001b[0ms\u001b[0m\u001b[1;33m.\u001b[0m\u001b[0mloc\u001b[0m\u001b[1;33m[\u001b[0m\u001b[0ms\u001b[0m\u001b[1;33m.\u001b[0m\u001b[0mapply\u001b[0m\u001b[1;33m(\u001b[0m\u001b[1;32mlambda\u001b[0m \u001b[0mx\u001b[0m\u001b[1;33m:\u001b[0m \u001b[0mint\u001b[0m\u001b[1;33m(\u001b[0m\u001b[0mx\u001b[0m\u001b[1;33m)\u001b[0m \u001b[1;33m%\u001b[0m \u001b[1;36m2\u001b[0m \u001b[1;33m==\u001b[0m \u001b[1;36m0\u001b[0m\u001b[1;33m)\u001b[0m\u001b[1;33m]\u001b[0m \u001b[1;33m=\u001b[0m \u001b[0mnp\u001b[0m\u001b[1;33m.\u001b[0m\u001b[0mnan\u001b[0m\u001b[1;33m\u001b[0m\u001b[1;33m\u001b[0m\u001b[0m\n\u001b[0m\u001b[0;32m      3\u001b[0m \u001b[1;31m# s.loc[s.astype(np.int64) % 2 == 0]\u001b[0m\u001b[1;33m\u001b[0m\u001b[1;33m\u001b[0m\u001b[1;33m\u001b[0m\u001b[0m\n\u001b[0;32m      4\u001b[0m \u001b[0mprint\u001b[0m\u001b[1;33m(\u001b[0m\u001b[1;34mf\"\\n2. Series with even integer part replaced with NaN:\\n{s}\"\u001b[0m\u001b[1;33m)\u001b[0m\u001b[1;33m\u001b[0m\u001b[1;33m\u001b[0m\u001b[0m\n\u001b[0;32m      5\u001b[0m \u001b[1;33m\u001b[0m\u001b[0m\n",
      "\u001b[1;32mc:\\ProgramData\\Miniconda3\\envs\\pyspark_glue\\lib\\site-packages\\pandas\\core\\series.py\u001b[0m in \u001b[0;36mapply\u001b[1;34m(self, func, convert_dtype, args, **kwargs)\u001b[0m\n\u001b[0;32m   4355\u001b[0m         \u001b[0mdtype\u001b[0m\u001b[1;33m:\u001b[0m \u001b[0mfloat64\u001b[0m\u001b[1;33m\u001b[0m\u001b[1;33m\u001b[0m\u001b[0m\n\u001b[0;32m   4356\u001b[0m         \"\"\"\n\u001b[1;32m-> 4357\u001b[1;33m         \u001b[1;32mreturn\u001b[0m \u001b[0mSeriesApply\u001b[0m\u001b[1;33m(\u001b[0m\u001b[0mself\u001b[0m\u001b[1;33m,\u001b[0m \u001b[0mfunc\u001b[0m\u001b[1;33m,\u001b[0m \u001b[0mconvert_dtype\u001b[0m\u001b[1;33m,\u001b[0m \u001b[0margs\u001b[0m\u001b[1;33m,\u001b[0m \u001b[0mkwargs\u001b[0m\u001b[1;33m)\u001b[0m\u001b[1;33m.\u001b[0m\u001b[0mapply\u001b[0m\u001b[1;33m(\u001b[0m\u001b[1;33m)\u001b[0m\u001b[1;33m\u001b[0m\u001b[1;33m\u001b[0m\u001b[0m\n\u001b[0m\u001b[0;32m   4358\u001b[0m \u001b[1;33m\u001b[0m\u001b[0m\n\u001b[0;32m   4359\u001b[0m     def _reduce(\n",
      "\u001b[1;32mc:\\ProgramData\\Miniconda3\\envs\\pyspark_glue\\lib\\site-packages\\pandas\\core\\apply.py\u001b[0m in \u001b[0;36mapply\u001b[1;34m(self)\u001b[0m\n\u001b[0;32m   1041\u001b[0m             \u001b[1;32mreturn\u001b[0m \u001b[0mself\u001b[0m\u001b[1;33m.\u001b[0m\u001b[0mapply_str\u001b[0m\u001b[1;33m(\u001b[0m\u001b[1;33m)\u001b[0m\u001b[1;33m\u001b[0m\u001b[1;33m\u001b[0m\u001b[0m\n\u001b[0;32m   1042\u001b[0m \u001b[1;33m\u001b[0m\u001b[0m\n\u001b[1;32m-> 1043\u001b[1;33m         \u001b[1;32mreturn\u001b[0m \u001b[0mself\u001b[0m\u001b[1;33m.\u001b[0m\u001b[0mapply_standard\u001b[0m\u001b[1;33m(\u001b[0m\u001b[1;33m)\u001b[0m\u001b[1;33m\u001b[0m\u001b[1;33m\u001b[0m\u001b[0m\n\u001b[0m\u001b[0;32m   1044\u001b[0m \u001b[1;33m\u001b[0m\u001b[0m\n\u001b[0;32m   1045\u001b[0m     \u001b[1;32mdef\u001b[0m \u001b[0magg\u001b[0m\u001b[1;33m(\u001b[0m\u001b[0mself\u001b[0m\u001b[1;33m)\u001b[0m\u001b[1;33m:\u001b[0m\u001b[1;33m\u001b[0m\u001b[1;33m\u001b[0m\u001b[0m\n",
      "\u001b[1;32mc:\\ProgramData\\Miniconda3\\envs\\pyspark_glue\\lib\\site-packages\\pandas\\core\\apply.py\u001b[0m in \u001b[0;36mapply_standard\u001b[1;34m(self)\u001b[0m\n\u001b[0;32m   1099\u001b[0m                     \u001b[0mvalues\u001b[0m\u001b[1;33m,\u001b[0m\u001b[1;33m\u001b[0m\u001b[1;33m\u001b[0m\u001b[0m\n\u001b[0;32m   1100\u001b[0m                     \u001b[0mf\u001b[0m\u001b[1;33m,\u001b[0m  \u001b[1;31m# type: ignore[arg-type]\u001b[0m\u001b[1;33m\u001b[0m\u001b[1;33m\u001b[0m\u001b[0m\n\u001b[1;32m-> 1101\u001b[1;33m                     \u001b[0mconvert\u001b[0m\u001b[1;33m=\u001b[0m\u001b[0mself\u001b[0m\u001b[1;33m.\u001b[0m\u001b[0mconvert_dtype\u001b[0m\u001b[1;33m,\u001b[0m\u001b[1;33m\u001b[0m\u001b[1;33m\u001b[0m\u001b[0m\n\u001b[0m\u001b[0;32m   1102\u001b[0m                 )\n\u001b[0;32m   1103\u001b[0m \u001b[1;33m\u001b[0m\u001b[0m\n",
      "\u001b[1;32mc:\\ProgramData\\Miniconda3\\envs\\pyspark_glue\\lib\\site-packages\\pandas\\_libs\\lib.pyx\u001b[0m in \u001b[0;36mpandas._libs.lib.map_infer\u001b[1;34m()\u001b[0m\n",
      "\u001b[1;32m~\\AppData\\Local\\Temp\\ipykernel_13048\\2587884378.py\u001b[0m in \u001b[0;36m<lambda>\u001b[1;34m(x)\u001b[0m\n\u001b[0;32m      1\u001b[0m \u001b[1;31m# 2. Replace the numbers whose integer part is even with NaN.\u001b[0m\u001b[1;33m\u001b[0m\u001b[1;33m\u001b[0m\u001b[1;33m\u001b[0m\u001b[0m\n\u001b[1;32m----> 2\u001b[1;33m \u001b[0ms\u001b[0m\u001b[1;33m.\u001b[0m\u001b[0mloc\u001b[0m\u001b[1;33m[\u001b[0m\u001b[0ms\u001b[0m\u001b[1;33m.\u001b[0m\u001b[0mapply\u001b[0m\u001b[1;33m(\u001b[0m\u001b[1;32mlambda\u001b[0m \u001b[0mx\u001b[0m\u001b[1;33m:\u001b[0m \u001b[0mint\u001b[0m\u001b[1;33m(\u001b[0m\u001b[0mx\u001b[0m\u001b[1;33m)\u001b[0m \u001b[1;33m%\u001b[0m \u001b[1;36m2\u001b[0m \u001b[1;33m==\u001b[0m \u001b[1;36m0\u001b[0m\u001b[1;33m)\u001b[0m\u001b[1;33m]\u001b[0m \u001b[1;33m=\u001b[0m \u001b[0mnp\u001b[0m\u001b[1;33m.\u001b[0m\u001b[0mnan\u001b[0m\u001b[1;33m\u001b[0m\u001b[1;33m\u001b[0m\u001b[0m\n\u001b[0m\u001b[0;32m      3\u001b[0m \u001b[1;31m# s.loc[s.astype(np.int64) % 2 == 0]\u001b[0m\u001b[1;33m\u001b[0m\u001b[1;33m\u001b[0m\u001b[1;33m\u001b[0m\u001b[0m\n\u001b[0;32m      4\u001b[0m \u001b[0mprint\u001b[0m\u001b[1;33m(\u001b[0m\u001b[1;34mf\"\\n2. Series with even integer part replaced with NaN:\\n{s}\"\u001b[0m\u001b[1;33m)\u001b[0m\u001b[1;33m\u001b[0m\u001b[1;33m\u001b[0m\u001b[0m\n\u001b[0;32m      5\u001b[0m \u001b[1;33m\u001b[0m\u001b[0m\n",
      "\u001b[1;31mValueError\u001b[0m: cannot convert float NaN to integer"
     ]
    }
   ],
   "source": [
    "# 2. Replace the numbers whose integer part is even with NaN.\n",
    "s.loc[s.apply(lambda x: int(x) % 2 == 0)] = np.nan\n",
    "# s.loc[s.astype(np.int64) % 2 == 0]\n",
    "print(f\"\\n2. Series with even integer part replaced with NaN:\\n{s}\")\n",
    "\n",
    "# 3. Replace those NaN values with the mean of the remaining numbers.\n",
    "mean = s.mean(skipna=True)\n",
    "s = s.fillna(mean)\n",
    "print(f\"\\n3. Series with NaN values replaced with mean: \\n{s}\")\n",
    "\n",
    "# 4. What's the mean now?\n",
    "new_mean = s.mean(skipna=True)\n",
    "print(f\"\\n4. The mean of the series now is {new_mean:.2f}\")"
   ]
  },
  {
   "cell_type": "code",
   "execution_count": 49,
   "metadata": {},
   "outputs": [
    {
     "name": "stdout",
     "output_type": "stream",
     "text": [
      "3.18 ms ± 528 µs per loop (mean ± std. dev. of 7 runs, 100 loops each)\n"
     ]
    }
   ],
   "source": [
    "%%timeit\n",
    "import numpy as np\n",
    "import pandas as pd\n",
    "\n",
    "# 1. Create a series containing 10 random floats from 1-1,000.\n",
    "np.random.seed(7)\n",
    "s = pd.Series(np.random.rand(10) * 1000)\n",
    "# print(f\"1. Series of 10 random floats from 1-1,000:\\n{s}\")\n",
    "\n",
    "s.loc[s.apply(lambda x: int(x) % 2 == 0)] = np.nan\n",
    "# print(s)"
   ]
  },
  {
   "cell_type": "code",
   "execution_count": 48,
   "metadata": {},
   "outputs": [
    {
     "name": "stdout",
     "output_type": "stream",
     "text": [
      "2.99 ms ± 315 µs per loop (mean ± std. dev. of 7 runs, 100 loops each)\n"
     ]
    }
   ],
   "source": [
    "%%timeit\n",
    "import numpy as np\n",
    "import pandas as pd\n",
    "\n",
    "# 1. Create a series containing 10 random floats from 1-1,000.\n",
    "np.random.seed(7)\n",
    "s = pd.Series(np.random.rand(10) * 1000)\n",
    "# print(f\"1. Series of 10 random floats from 1-1,000:\\n{s}\")\n",
    "\n",
    "s.loc[s.astype(np.int64) % 2 == 0] = np.nan\n",
    "# print(s)\n"
   ]
  },
  {
   "attachments": {},
   "cell_type": "markdown",
   "metadata": {},
   "source": [
    "# Exercise: Weather data using panda's series and sort\n",
    " \n",
    "1. Create a series with the projected high temps for your location over the next 10 days. The index should contain 4-character strings with the month (two digits) and the date (two digits). The values should be the temps.\n",
    "2. Find descriptive statistics for the upcoming high temps.\n",
    "3. Find the 3 highest temperatures that are expected.\n",
    "4. Find the high temps starting on Monday and going through Wednesday."
   ]
  },
  {
   "cell_type": "code",
   "execution_count": 56,
   "metadata": {},
   "outputs": [
    {
     "name": "stdout",
     "output_type": "stream",
     "text": [
      "Descriptive statistics for the upcoming high temperatures:\n",
      "count    10.000000\n",
      "mean     87.300000\n",
      "std       3.267687\n",
      "min      82.000000\n",
      "25%      85.000000\n",
      "50%      87.500000\n",
      "75%      89.750000\n",
      "max      92.000000\n",
      "dtype: float64\n",
      "\n",
      "The 3 highest temperatures expected are:\n",
      "05-06    92\n",
      "05-07    91\n",
      "05-03    90\n",
      "dtype: int64\n",
      "\n",
      "The high temperatures from Monday to Wednesday are:\n",
      "05-07    91\n",
      "05-08    85\n",
      "05-09    84\n",
      "dtype: int64\n"
     ]
    }
   ],
   "source": [
    "import pandas as pd\n",
    "\n",
    "# 1. Create series of projected high temps for next 10 days\n",
    "temps = pd.Series([85, 87, 90, 89, 88, 92, 91, 85, 84, 82],\n",
    "                  index=['05-01','05-02','05-03','05-04','05-05','05-06',\n",
    "                         '05-07','05-08','05-09','05-10'])\n",
    "\n",
    "# 2. Descriptive statistics\n",
    "print(f\"Descriptive statistics for the upcoming high temperatures:\\n{temps.describe()}\\n\")\n",
    "\n",
    "# 3. 3 highest temperatures expected\n",
    "highest_temps = temps.sort_values(ascending=False)[:3]\n",
    "print(f\"The 3 highest temperatures expected are:\\n{highest_temps}\\n\")\n",
    "\n",
    "# 4. High temps starting on Monday to Wednesday\n",
    "mon_wed_temps = temps['05-07':'05-09']\n",
    "print(f\"The high temperatures from Monday to Wednesday are:\\n{mon_wed_temps}\")"
   ]
  },
  {
   "attachments": {},
   "cell_type": "markdown",
   "metadata": {},
   "source": [
    "# Does method chaining cause python to be less efficient? \n",
    "No, method chaining does not necessarily cause Python to be less efficient. In fact, some tasks can be accomplished more efficiently with method chaining. However, using too many method chains may make the code less readable and harder to debug, which can result in a loss of efficiency in terms of development time and maintenance. Ultimately, it depends on the specific task and how the code is written."
   ]
  },
  {
   "attachments": {},
   "cell_type": "markdown",
   "metadata": {},
   "source": [
    "# Exercises pandas series methods\n",
    " \n",
    "1. Create a series containing 10 words (strings) of varying lengths.\n",
    "2. Find all of the strings whose length is less than the mean length.\n",
    "3. Find all of the strings whose length is odd.\n",
    "4. Find the strings containing either 'a' or 'e'."
   ]
  },
  {
   "cell_type": "code",
   "execution_count": 60,
   "metadata": {},
   "outputs": [
    {
     "name": "stdout",
     "output_type": "stream",
     "text": [
      "Words: \n",
      "0       hello\n",
      "1       world\n",
      "2      pandas\n",
      "3    training\n",
      "4        with\n",
      "5      python\n",
      "6      series\n",
      "7      reuven\n",
      "8     timothy\n",
      "9     newport\n",
      "dtype: object\n",
      "\n",
      "Short words (length less than mean): \n",
      "0    hello\n",
      "1    world\n",
      "4     with\n",
      "dtype: object\n",
      "\n",
      "Words with odd lengths: \n",
      "0      hello\n",
      "1      world\n",
      "8    timothy\n",
      "9    newport\n",
      "dtype: object\n",
      "\n",
      "Words containing 'a' or 'e': \n",
      "0       hello\n",
      "2      pandas\n",
      "3    training\n",
      "6      series\n",
      "7      reuven\n",
      "9     newport\n",
      "dtype: object\n"
     ]
    }
   ],
   "source": [
    "words = pd.Series(['hello', 'world', 'pandas', 'training', 'with', 'python', 'series', 'reuven', 'timothy', 'newport'])\n",
    "\n",
    "mean_length = words.str.len().mean()\n",
    "short_words = words.loc[words.str.len() < mean_length]\n",
    "\n",
    "odd_length_words = words.loc[words.str.len() % 2 != 0]\n",
    "\n",
    "ae_words = words.loc[words.str.contains('[ae]')]\n",
    "\n",
    "print(f\"Words: \\n{words}\\n\")\n",
    "print(f\"Short words (length less than mean): \\n{short_words}\\n\")\n",
    "print(f\"Words with odd lengths: \\n{odd_length_words}\\n\")\n",
    "print(f\"Words containing 'a' or 'e': \\n{ae_words}\")"
   ]
  }
 ],
 "metadata": {
  "kernelspec": {
   "display_name": "pyspark_glue",
   "language": "python",
   "name": "python3"
  },
  "language_info": {
   "codemirror_mode": {
    "name": "ipython",
    "version": 3
   },
   "file_extension": ".py",
   "mimetype": "text/x-python",
   "name": "python",
   "nbconvert_exporter": "python",
   "pygments_lexer": "ipython3",
   "version": "3.7.13"
  },
  "orig_nbformat": 4
 },
 "nbformat": 4,
 "nbformat_minor": 2
}
