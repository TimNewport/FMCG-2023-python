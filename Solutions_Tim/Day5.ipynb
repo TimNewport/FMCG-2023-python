{
 "cells": [
  {
   "cell_type": "code",
   "execution_count": 31,
   "metadata": {},
   "outputs": [],
   "source": [
    "f = open(r'..\\exercise-files\\nums.txt')"
   ]
  },
  {
   "cell_type": "code",
   "execution_count": 11,
   "metadata": {},
   "outputs": [
    {
     "data": {
      "text/plain": [
       "'5\\n\\t10     \\n\\t20\\n  \\t3\\n\\t\\t   \\t20        \\n\\n 25\\n'"
      ]
     },
     "execution_count": 11,
     "metadata": {},
     "output_type": "execute_result"
    }
   ],
   "source": [
    "f.read()"
   ]
  },
  {
   "cell_type": "code",
   "execution_count": 37,
   "metadata": {},
   "outputs": [
    {
     "name": "stdout",
     "output_type": "stream",
     "text": [
      "Number Found:5\n",
      "Number Found:10\n",
      "Number Found:20\n",
      "Number Found:3\n",
      "Number Found:20\n",
      "Number Found:25\n",
      "83\n"
     ]
    }
   ],
   "source": [
    "sum = 0\n",
    "for one_line in open(r'..\\exercise-files\\nums.txt'):\n",
    "    n = one_line.strip()\n",
    "    if n.isdigit():\n",
    "        print(f\"Number Found:{n}\")\n",
    "        sum += int(n)\n",
    "\n",
    "print(sum)"
   ]
  },
  {
   "attachments": {},
   "cell_type": "markdown",
   "metadata": {},
   "source": [
    "# Exercise: `wc` -- word count\n",
    "\n",
    " \n",
    "\n",
    "1. Unix comes with a `wc` command, which we can run on a file. It'll tell us:\n",
    "    - The number of lines in the file (including blank lines)\n",
    "    - The number of words in the file (assuming words are separated by whitespace)\n",
    "    - The number of characters in the file (including whitespace, such as ' ' and '\\n')\n",
    "2. I want you to write a program that implements this in Python.  Given a file (and you can use the text file I've provided, `wcfile.txt`), get all three of those statistics.\n",
    "3. If you want, you can also add a fourth statistic, namely the number of *different* (or unique) words in the file.\n"
   ]
  },
  {
   "cell_type": "code",
   "execution_count": 47,
   "metadata": {},
   "outputs": [
    {
     "name": "stdout",
     "output_type": "stream",
     "text": [
      "Number of lines: 11\n",
      "Number of words: 28\n",
      "Number of characters: 165\n"
     ]
    }
   ],
   "source": [
    "def get_file_stats(filename):\n",
    "    with open(filename, 'r') as file:\n",
    "        lines = file.readlines()\n",
    "        num_lines = len(lines)\n",
    "        num_words = 0\n",
    "        num_chars = 0\n",
    "        for line in lines:\n",
    "            words = line.split()\n",
    "            num_words += len(words)\n",
    "            num_chars += len(line)\n",
    "    return num_lines, num_words, num_chars\n",
    "\n",
    "filename = r'..\\exercise-files\\wcfile.txt'\n",
    "num_lines, num_words, num_chars = get_file_stats(filename)\n",
    "print(\"Number of lines:\", num_lines)\n",
    "print(\"Number of words:\", num_words)\n",
    "print(\"Number of characters:\", num_chars)"
   ]
  },
  {
   "cell_type": "code",
   "execution_count": 48,
   "metadata": {},
   "outputs": [
    {
     "name": "stdout",
     "output_type": "stream",
     "text": [
      "Number of lines: 11\n",
      "Number of words: 28\n",
      "Number of characters: 165\n",
      "Number of unique words: 20\n"
     ]
    }
   ],
   "source": [
    "def get_file_stats(file_path):\n",
    "    num_lines = 0\n",
    "    num_words = 0\n",
    "    num_chars = 0\n",
    "    unique_words = set()\n",
    "\n",
    "#  Better to use with but he has not taught that yet. \n",
    "#   with open(file_path, 'r') as file:\n",
    "#     for line in file:\n",
    "    # lines = file.readlines()  # This reads the entire contents of a file into memory as a list of strings\n",
    "    for line in open(file_path):\n",
    "        num_lines += 1\n",
    "        words = line.split()\n",
    "        num_words += len(words)\n",
    "        num_chars += len(line)\n",
    "        #  A few ways to union the set\n",
    "        unique_words = unique_words | set(words)\n",
    "        #   unique_words = unique_words.union(set(words))\n",
    "        #   unique_words.update(set(words))\n",
    "\n",
    "    num_unique_words = len(unique_words)\n",
    "\n",
    "    return num_lines, num_words, num_chars, num_unique_words\n",
    "\n",
    "file_path = r'..\\exercise-files\\wcfile.txt'\n",
    "num_lines, num_words, num_chars, num_unique_words = get_file_stats(file_path)\n",
    "\n",
    "print(f'Number of lines: {num_lines}')\n",
    "print(f'Number of words: {num_words}')\n",
    "print(f'Number of characters: {num_chars}')\n",
    "print(f'Number of unique words: {num_unique_words}')"
   ]
  },
  {
   "cell_type": "code",
   "execution_count": 1,
   "metadata": {},
   "outputs": [
    {
     "name": "stdout",
     "output_type": "stream",
     "text": [
      "Sum of integers: 15\n",
      "Total characters in words string: 19\n"
     ]
    }
   ],
   "source": [
    "# Create string of integers separated by whitespace\n",
    "int_string = '1 2 3 4 5'\n",
    "\n",
    "# Sum the numbers\n",
    "int_sum = sum([int(item) for item in int_string.split()])\n",
    "\n",
    "# Create string of words separated by whitespace\n",
    "word_string = 'hello world how are you'\n",
    "\n",
    "# Count the total number of characters\n",
    "num_chars = sum([len(x) for x in word_string.split()])\n",
    "\n",
    "# Print results\n",
    "print(\"Sum of integers:\", int_sum)\n",
    "print(\"Total characters in words string:\", num_chars)\n"
   ]
  },
  {
   "cell_type": "code",
   "execution_count": 5,
   "metadata": {},
   "outputs": [
    {
     "name": "stdout",
     "output_type": "stream",
     "text": [
      "['5\\n', '\\t10     \\n', '\\t20\\n', '  \\t3\\n', '\\t\\t   \\t20        \\n', '\\n', ' 25\\n']\n"
     ]
    }
   ],
   "source": [
    "sum = 0\n",
    "\n",
    "sum = [one_line for one_line in open(r'..\\exercise-files\\nums.txt')]\n",
    "\n",
    "print(sum)"
   ]
  },
  {
   "cell_type": "code",
   "execution_count": 16,
   "metadata": {},
   "outputs": [
    {
     "ename": "SyntaxError",
     "evalue": "invalid syntax (3738282068.py, line 1)",
     "output_type": "error",
     "traceback": [
      "\u001b[1;36m  File \u001b[1;32m\"C:\\Users\\t466252\\AppData\\Local\\Temp\\ipykernel_2452\\3738282068.py\"\u001b[1;36m, line \u001b[1;32m1\u001b[0m\n\u001b[1;33m    total = sum({int(one_line)  : something else --select\u001b[0m\n\u001b[1;37m                                               ^\u001b[0m\n\u001b[1;31mSyntaxError\u001b[0m\u001b[1;31m:\u001b[0m invalid syntax\n"
     ]
    }
   ],
   "source": [
    "\n",
    "total = sum({int(one_line)  : something else #select\n",
    "          for one_line in open(r'..\\exercise-files\\nums.txt','w') # from\n",
    "          if one_line.strip().isdigit() })  #where\n",
    "print(total)\n",
    "\n",
    "\n",
    "{key:item}\n",
    "{key}\n",
    "(key)\n",
    "[list1,list2]"
   ]
  },
  {
   "cell_type": "code",
   "execution_count": 17,
   "metadata": {},
   "outputs": [
    {
     "ename": "NameError",
     "evalue": "name 'sum' is not defined",
     "output_type": "error",
     "traceback": [
      "\u001b[1;31m---------------------------------------------------------------------------\u001b[0m",
      "\u001b[1;31mNameError\u001b[0m                                 Traceback (most recent call last)",
      "\u001b[1;32m~\\AppData\\Local\\Temp\\ipykernel_2452\\1061411342.py\u001b[0m in \u001b[0;36m<module>\u001b[1;34m\u001b[0m\n\u001b[1;32m----> 1\u001b[1;33m \u001b[1;32mdel\u001b[0m \u001b[0msum\u001b[0m\u001b[1;33m\u001b[0m\u001b[1;33m\u001b[0m\u001b[0m\n\u001b[0m",
      "\u001b[1;31mNameError\u001b[0m: name 'sum' is not defined"
     ]
    }
   ],
   "source": [
    "del sum "
   ]
  },
  {
   "attachments": {},
   "cell_type": "markdown",
   "metadata": {},
   "source": [
    "# `shoe-data.txt`\n",
    "\n",
    " \n",
    "\n",
    "This file contains 100 lines of data. Each line contains three columns of values. The columns are separated with tab (`'\\t'`) characters:\n",
    "\n",
    " \n",
    "\n",
    "- brand\n",
    "- color\n",
    "- size\n",
    "\n",
    " \n",
    "\n",
    "How can I turn this file into a list of 100 dicts? Each dict should have three key-value pairs, with keys \"brand\", \"color\", and \"size\"?\n",
    "\n",
    " \n",
    "\n",
    "Try to do this using a list comprehension:\n",
    "\n",
    " \n",
    "\n",
    "- Each line of the file contains one record, which should be turned into one dict\n",
    "- All 100 dicts will have the same keys, but different values\n",
    "- It's OK to keep the sizes as strings, rather than ints, for our purposes\n",
    "- You'll probably be best off writing a function that takes a string and returns a dict, and that is invoked as part of the comprehension's expression"
   ]
  },
  {
   "cell_type": "code",
   "execution_count": 18,
   "metadata": {},
   "outputs": [
    {
     "name": "stdout",
     "output_type": "stream",
     "text": [
      "{'brand': 'Adidas', 'color': 'orange', 'size': 43}\n",
      "{'brand': 'Nike', 'color': 'black', 'size': 41}\n",
      "{'brand': 'Adidas', 'color': 'black', 'size': 39}\n",
      "{'brand': 'New Balance', 'color': 'pink', 'size': 41}\n",
      "{'brand': 'Nike', 'color': 'white', 'size': 44}\n",
      "{'brand': 'New Balance', 'color': 'orange', 'size': 38}\n",
      "{'brand': 'Nike', 'color': 'pink', 'size': 44}\n",
      "{'brand': 'Adidas', 'color': 'pink', 'size': 44}\n",
      "{'brand': 'New Balance', 'color': 'orange', 'size': 39}\n",
      "{'brand': 'New Balance', 'color': 'black', 'size': 43}\n",
      "{'brand': 'New Balance', 'color': 'orange', 'size': 44}\n",
      "{'brand': 'Nike', 'color': 'black', 'size': 41}\n",
      "{'brand': 'Adidas', 'color': 'orange', 'size': 37}\n",
      "{'brand': 'Adidas', 'color': 'black', 'size': 38}\n",
      "{'brand': 'Adidas', 'color': 'pink', 'size': 41}\n",
      "{'brand': 'Adidas', 'color': 'white', 'size': 36}\n",
      "{'brand': 'Adidas', 'color': 'orange', 'size': 36}\n",
      "{'brand': 'Nike', 'color': 'pink', 'size': 41}\n",
      "{'brand': 'Adidas', 'color': 'pink', 'size': 35}\n",
      "{'brand': 'New Balance', 'color': 'orange', 'size': 37}\n",
      "{'brand': 'Nike', 'color': 'pink', 'size': 43}\n",
      "{'brand': 'Nike', 'color': 'black', 'size': 43}\n",
      "{'brand': 'Nike', 'color': 'black', 'size': 42}\n",
      "{'brand': 'Nike', 'color': 'black', 'size': 35}\n",
      "{'brand': 'Adidas', 'color': 'black', 'size': 41}\n",
      "{'brand': 'New Balance', 'color': 'pink', 'size': 40}\n",
      "{'brand': 'Adidas', 'color': 'white', 'size': 35}\n",
      "{'brand': 'New Balance', 'color': 'pink', 'size': 41}\n",
      "{'brand': 'New Balance', 'color': 'orange', 'size': 41}\n",
      "{'brand': 'Adidas', 'color': 'orange', 'size': 40}\n",
      "{'brand': 'New Balance', 'color': 'orange', 'size': 40}\n",
      "{'brand': 'New Balance', 'color': 'white', 'size': 44}\n",
      "{'brand': 'New Balance', 'color': 'pink', 'size': 40}\n",
      "{'brand': 'Nike', 'color': 'black', 'size': 43}\n",
      "{'brand': 'Nike', 'color': 'pink', 'size': 36}\n",
      "{'brand': 'New Balance', 'color': 'white', 'size': 39}\n",
      "{'brand': 'Nike', 'color': 'black', 'size': 42}\n",
      "{'brand': 'Adidas', 'color': 'black', 'size': 41}\n",
      "{'brand': 'New Balance', 'color': 'orange', 'size': 40}\n",
      "{'brand': 'New Balance', 'color': 'black', 'size': 40}\n",
      "{'brand': 'Nike', 'color': 'white', 'size': 37}\n",
      "{'brand': 'Adidas', 'color': 'black', 'size': 39}\n",
      "{'brand': 'Adidas', 'color': 'black', 'size': 40}\n",
      "{'brand': 'Adidas', 'color': 'orange', 'size': 38}\n",
      "{'brand': 'New Balance', 'color': 'orange', 'size': 39}\n",
      "{'brand': 'Nike', 'color': 'black', 'size': 35}\n",
      "{'brand': 'Adidas', 'color': 'white', 'size': 39}\n",
      "{'brand': 'Nike', 'color': 'white', 'size': 37}\n",
      "{'brand': 'Adidas', 'color': 'orange', 'size': 37}\n",
      "{'brand': 'Adidas', 'color': 'pink', 'size': 35}\n",
      "{'brand': 'New Balance', 'color': 'orange', 'size': 41}\n",
      "{'brand': 'Nike', 'color': 'pink', 'size': 44}\n",
      "{'brand': 'Nike', 'color': 'pink', 'size': 38}\n",
      "{'brand': 'Adidas', 'color': 'black', 'size': 39}\n",
      "{'brand': 'New Balance', 'color': 'white', 'size': 35}\n",
      "{'brand': 'Nike', 'color': 'pink', 'size': 40}\n",
      "{'brand': 'Nike', 'color': 'white', 'size': 44}\n",
      "{'brand': 'Nike', 'color': 'orange', 'size': 38}\n",
      "{'brand': 'Adidas', 'color': 'orange', 'size': 42}\n",
      "{'brand': 'New Balance', 'color': 'orange', 'size': 43}\n",
      "{'brand': 'Adidas', 'color': 'pink', 'size': 39}\n",
      "{'brand': 'Adidas', 'color': 'pink', 'size': 41}\n",
      "{'brand': 'Adidas', 'color': 'pink', 'size': 39}\n",
      "{'brand': 'Nike', 'color': 'white', 'size': 37}\n",
      "{'brand': 'Nike', 'color': 'orange', 'size': 38}\n",
      "{'brand': 'Adidas', 'color': 'orange', 'size': 39}\n",
      "{'brand': 'Nike', 'color': 'pink', 'size': 40}\n",
      "{'brand': 'Adidas', 'color': 'white', 'size': 36}\n",
      "{'brand': 'Nike', 'color': 'orange', 'size': 40}\n",
      "{'brand': 'New Balance', 'color': 'pink', 'size': 40}\n",
      "{'brand': 'New Balance', 'color': 'black', 'size': 40}\n",
      "{'brand': 'New Balance', 'color': 'pink', 'size': 40}\n",
      "{'brand': 'Adidas', 'color': 'pink', 'size': 41}\n",
      "{'brand': 'Nike', 'color': 'pink', 'size': 40}\n",
      "{'brand': 'Nike', 'color': 'black', 'size': 41}\n",
      "{'brand': 'Nike', 'color': 'black', 'size': 39}\n",
      "{'brand': 'New Balance', 'color': 'white', 'size': 38}\n",
      "{'brand': 'Adidas', 'color': 'black', 'size': 41}\n",
      "{'brand': 'Nike', 'color': 'orange', 'size': 36}\n",
      "{'brand': 'Nike', 'color': 'black', 'size': 38}\n",
      "{'brand': 'New Balance', 'color': 'black', 'size': 40}\n",
      "{'brand': 'New Balance', 'color': 'pink', 'size': 40}\n",
      "{'brand': 'Adidas', 'color': 'black', 'size': 42}\n",
      "{'brand': 'Adidas', 'color': 'white', 'size': 40}\n",
      "{'brand': 'New Balance', 'color': 'orange', 'size': 38}\n",
      "{'brand': 'Nike', 'color': 'pink', 'size': 41}\n",
      "{'brand': 'Adidas', 'color': 'orange', 'size': 37}\n",
      "{'brand': 'Nike', 'color': 'black', 'size': 44}\n",
      "{'brand': 'Adidas', 'color': 'pink', 'size': 36}\n",
      "{'brand': 'Adidas', 'color': 'white', 'size': 35}\n",
      "{'brand': 'Nike', 'color': 'black', 'size': 38}\n",
      "{'brand': 'Nike', 'color': 'pink', 'size': 42}\n",
      "{'brand': 'New Balance', 'color': 'black', 'size': 43}\n",
      "{'brand': 'Nike', 'color': 'white', 'size': 38}\n",
      "{'brand': 'New Balance', 'color': 'pink', 'size': 39}\n",
      "{'brand': 'Nike', 'color': 'orange', 'size': 39}\n",
      "{'brand': 'New Balance', 'color': 'orange', 'size': 40}\n",
      "{'brand': 'New Balance', 'color': 'white', 'size': 44}\n",
      "{'brand': 'Adidas', 'color': 'black', 'size': 42}\n",
      "{'brand': 'Nike', 'color': 'black', 'size': 35}\n",
      "[{'brand': 'Adidas', 'color': 'orange', 'size': 43}, {'brand': 'Nike', 'color': 'black', 'size': 41}, {'brand': 'Adidas', 'color': 'black', 'size': 39}, {'brand': 'New Balance', 'color': 'pink', 'size': 41}, {'brand': 'Nike', 'color': 'white', 'size': 44}, {'brand': 'New Balance', 'color': 'orange', 'size': 38}, {'brand': 'Nike', 'color': 'pink', 'size': 44}, {'brand': 'Adidas', 'color': 'pink', 'size': 44}, {'brand': 'New Balance', 'color': 'orange', 'size': 39}, {'brand': 'New Balance', 'color': 'black', 'size': 43}, {'brand': 'New Balance', 'color': 'orange', 'size': 44}, {'brand': 'Nike', 'color': 'black', 'size': 41}, {'brand': 'Adidas', 'color': 'orange', 'size': 37}, {'brand': 'Adidas', 'color': 'black', 'size': 38}, {'brand': 'Adidas', 'color': 'pink', 'size': 41}, {'brand': 'Adidas', 'color': 'white', 'size': 36}, {'brand': 'Adidas', 'color': 'orange', 'size': 36}, {'brand': 'Nike', 'color': 'pink', 'size': 41}, {'brand': 'Adidas', 'color': 'pink', 'size': 35}, {'brand': 'New Balance', 'color': 'orange', 'size': 37}, {'brand': 'Nike', 'color': 'pink', 'size': 43}, {'brand': 'Nike', 'color': 'black', 'size': 43}, {'brand': 'Nike', 'color': 'black', 'size': 42}, {'brand': 'Nike', 'color': 'black', 'size': 35}, {'brand': 'Adidas', 'color': 'black', 'size': 41}, {'brand': 'New Balance', 'color': 'pink', 'size': 40}, {'brand': 'Adidas', 'color': 'white', 'size': 35}, {'brand': 'New Balance', 'color': 'pink', 'size': 41}, {'brand': 'New Balance', 'color': 'orange', 'size': 41}, {'brand': 'Adidas', 'color': 'orange', 'size': 40}, {'brand': 'New Balance', 'color': 'orange', 'size': 40}, {'brand': 'New Balance', 'color': 'white', 'size': 44}, {'brand': 'New Balance', 'color': 'pink', 'size': 40}, {'brand': 'Nike', 'color': 'black', 'size': 43}, {'brand': 'Nike', 'color': 'pink', 'size': 36}, {'brand': 'New Balance', 'color': 'white', 'size': 39}, {'brand': 'Nike', 'color': 'black', 'size': 42}, {'brand': 'Adidas', 'color': 'black', 'size': 41}, {'brand': 'New Balance', 'color': 'orange', 'size': 40}, {'brand': 'New Balance', 'color': 'black', 'size': 40}, {'brand': 'Nike', 'color': 'white', 'size': 37}, {'brand': 'Adidas', 'color': 'black', 'size': 39}, {'brand': 'Adidas', 'color': 'black', 'size': 40}, {'brand': 'Adidas', 'color': 'orange', 'size': 38}, {'brand': 'New Balance', 'color': 'orange', 'size': 39}, {'brand': 'Nike', 'color': 'black', 'size': 35}, {'brand': 'Adidas', 'color': 'white', 'size': 39}, {'brand': 'Nike', 'color': 'white', 'size': 37}, {'brand': 'Adidas', 'color': 'orange', 'size': 37}, {'brand': 'Adidas', 'color': 'pink', 'size': 35}, {'brand': 'New Balance', 'color': 'orange', 'size': 41}, {'brand': 'Nike', 'color': 'pink', 'size': 44}, {'brand': 'Nike', 'color': 'pink', 'size': 38}, {'brand': 'Adidas', 'color': 'black', 'size': 39}, {'brand': 'New Balance', 'color': 'white', 'size': 35}, {'brand': 'Nike', 'color': 'pink', 'size': 40}, {'brand': 'Nike', 'color': 'white', 'size': 44}, {'brand': 'Nike', 'color': 'orange', 'size': 38}, {'brand': 'Adidas', 'color': 'orange', 'size': 42}, {'brand': 'New Balance', 'color': 'orange', 'size': 43}, {'brand': 'Adidas', 'color': 'pink', 'size': 39}, {'brand': 'Adidas', 'color': 'pink', 'size': 41}, {'brand': 'Adidas', 'color': 'pink', 'size': 39}, {'brand': 'Nike', 'color': 'white', 'size': 37}, {'brand': 'Nike', 'color': 'orange', 'size': 38}, {'brand': 'Adidas', 'color': 'orange', 'size': 39}, {'brand': 'Nike', 'color': 'pink', 'size': 40}, {'brand': 'Adidas', 'color': 'white', 'size': 36}, {'brand': 'Nike', 'color': 'orange', 'size': 40}, {'brand': 'New Balance', 'color': 'pink', 'size': 40}, {'brand': 'New Balance', 'color': 'black', 'size': 40}, {'brand': 'New Balance', 'color': 'pink', 'size': 40}, {'brand': 'Adidas', 'color': 'pink', 'size': 41}, {'brand': 'Nike', 'color': 'pink', 'size': 40}, {'brand': 'Nike', 'color': 'black', 'size': 41}, {'brand': 'Nike', 'color': 'black', 'size': 39}, {'brand': 'New Balance', 'color': 'white', 'size': 38}, {'brand': 'Adidas', 'color': 'black', 'size': 41}, {'brand': 'Nike', 'color': 'orange', 'size': 36}, {'brand': 'Nike', 'color': 'black', 'size': 38}, {'brand': 'New Balance', 'color': 'black', 'size': 40}, {'brand': 'New Balance', 'color': 'pink', 'size': 40}, {'brand': 'Adidas', 'color': 'black', 'size': 42}, {'brand': 'Adidas', 'color': 'white', 'size': 40}, {'brand': 'New Balance', 'color': 'orange', 'size': 38}, {'brand': 'Nike', 'color': 'pink', 'size': 41}, {'brand': 'Adidas', 'color': 'orange', 'size': 37}, {'brand': 'Nike', 'color': 'black', 'size': 44}, {'brand': 'Adidas', 'color': 'pink', 'size': 36}, {'brand': 'Adidas', 'color': 'white', 'size': 35}, {'brand': 'Nike', 'color': 'black', 'size': 38}, {'brand': 'Nike', 'color': 'pink', 'size': 42}, {'brand': 'New Balance', 'color': 'black', 'size': 43}, {'brand': 'Nike', 'color': 'white', 'size': 38}, {'brand': 'New Balance', 'color': 'pink', 'size': 39}, {'brand': 'Nike', 'color': 'orange', 'size': 39}, {'brand': 'New Balance', 'color': 'orange', 'size': 40}, {'brand': 'New Balance', 'color': 'white', 'size': 44}, {'brand': 'Adidas', 'color': 'black', 'size': 42}, {'brand': 'Nike', 'color': 'black', 'size': 35}]\n"
     ]
    }
   ],
   "source": [
    "def line_to_dict(line:str):\n",
    "    \"\"\"\n",
    "    Converts the line of a file into a dictionary\n",
    "    Args: line is a string object as a single line of the file\n",
    "    returns: a dictionary  with branch, color, and size\n",
    "    \"\"\"\n",
    "    brand, color, size = line.strip().split('\\t')\n",
    "    return {'brand': brand, 'color': color, 'size': int(size)}\n",
    "\n",
    "with open(r'..\\exercise-files\\shoe-data.txt') as f:\n",
    "    shoes = [line_to_dict(line) for line in f]\n",
    "\n",
    "for item in shoes:\n",
    "    print(item)\n",
    "\n",
    "print(shoes)"
   ]
  }
 ],
 "metadata": {
  "kernelspec": {
   "display_name": "pyspark_glue",
   "language": "python",
   "name": "python3"
  },
  "language_info": {
   "codemirror_mode": {
    "name": "ipython",
    "version": 3
   },
   "file_extension": ".py",
   "mimetype": "text/x-python",
   "name": "python",
   "nbconvert_exporter": "python",
   "pygments_lexer": "ipython3",
   "version": "3.7.13"
  },
  "orig_nbformat": 4,
  "vscode": {
   "interpreter": {
    "hash": "a6d8d1ae25594d1bb25f264aa1d671139713bf739b0da97433c03871e5400dee"
   }
  }
 },
 "nbformat": 4,
 "nbformat_minor": 2
}
