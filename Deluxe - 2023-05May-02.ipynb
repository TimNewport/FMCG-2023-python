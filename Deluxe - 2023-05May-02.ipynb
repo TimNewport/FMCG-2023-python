{
 "cells": [
  {
   "cell_type": "markdown",
   "id": "2a56decd",
   "metadata": {},
   "source": [
    "# Agenda\n",
    "\n",
    "1. Data frames (2D data)\n",
    "2. Reading (and writing) files -- real-world data!\n",
    "\n",
    "To download: https://files.lerner.co.il/data-science-exercise-files.zip"
   ]
  },
  {
   "cell_type": "code",
   "execution_count": 2,
   "id": "3e7914fa",
   "metadata": {},
   "outputs": [],
   "source": [
    "import numpy as np\n",
    "import pandas as pd\n",
    "from pandas import Series, DataFrame"
   ]
  },
  {
   "cell_type": "markdown",
   "id": "d76d0f14",
   "metadata": {},
   "source": [
    "When we import a module, we're basically asking Python to do the following:\n",
    "\n",
    "1. Find the module (ending with \"py\") on disk\n",
    "2. Load it into memory\n",
    "3. Cache it, so that we don't need to load it a second time\n",
    "4. Define the module as a variable in our global namespace\n",
    "\n",
    "The second time we use import, we just jump directly to step 4.\n",
    "\n"
   ]
  },
  {
   "cell_type": "code",
   "execution_count": 4,
   "id": "46ac67b5",
   "metadata": {},
   "outputs": [
    {
     "data": {
      "text/plain": [
       "<module 'pandas' from '/usr/local/lib/python3.11/site-packages/pandas/__init__.py'>"
      ]
     },
     "execution_count": 4,
     "metadata": {},
     "output_type": "execute_result"
    }
   ],
   "source": [
    "import sys\n",
    "sys.modules['pandas']  # sys.modules is the cache that Python uses for modules"
   ]
  },
  {
   "cell_type": "markdown",
   "id": "9779a2ed",
   "metadata": {},
   "source": [
    "What about \"from import\"?\n",
    "\n",
    "In that case, it takes a slightly different route:\n",
    "\n",
    "1. Find the module (ending with \"py\") on disk\n",
    "2. Load it into memory\n",
    "3. Cache it, so that we don't need to load it a second time\n",
    "4. Defines only the names we've specified in our global namespace\n"
   ]
  },
  {
   "cell_type": "code",
   "execution_count": 5,
   "id": "89ff29f8",
   "metadata": {},
   "outputs": [],
   "source": [
    "from random import randint"
   ]
  },
  {
   "cell_type": "code",
   "execution_count": 6,
   "id": "176b3809",
   "metadata": {},
   "outputs": [
    {
     "data": {
      "text/plain": [
       "<module 'random' from '/usr/local/Cellar/python@3.11/3.11.3/Frameworks/Python.framework/Versions/3.11/lib/python3.11/random.py'>"
      ]
     },
     "execution_count": 6,
     "metadata": {},
     "output_type": "execute_result"
    }
   ],
   "source": [
    "sys.modules['random']"
   ]
  },
  {
   "cell_type": "code",
   "execution_count": 7,
   "id": "1830b2bc",
   "metadata": {},
   "outputs": [
    {
     "data": {
      "text/html": [
       "<div>\n",
       "<style scoped>\n",
       "    .dataframe tbody tr th:only-of-type {\n",
       "        vertical-align: middle;\n",
       "    }\n",
       "\n",
       "    .dataframe tbody tr th {\n",
       "        vertical-align: top;\n",
       "    }\n",
       "\n",
       "    .dataframe thead th {\n",
       "        text-align: right;\n",
       "    }\n",
       "</style>\n",
       "<table border=\"1\" class=\"dataframe\">\n",
       "  <thead>\n",
       "    <tr style=\"text-align: right;\">\n",
       "      <th></th>\n",
       "      <th>0</th>\n",
       "      <th>1</th>\n",
       "      <th>2</th>\n",
       "      <th>3</th>\n",
       "    </tr>\n",
       "  </thead>\n",
       "  <tbody>\n",
       "    <tr>\n",
       "      <th>0</th>\n",
       "      <td>10</td>\n",
       "      <td>20</td>\n",
       "      <td>30</td>\n",
       "      <td>40</td>\n",
       "    </tr>\n",
       "    <tr>\n",
       "      <th>1</th>\n",
       "      <td>50</td>\n",
       "      <td>60</td>\n",
       "      <td>70</td>\n",
       "      <td>80</td>\n",
       "    </tr>\n",
       "    <tr>\n",
       "      <th>2</th>\n",
       "      <td>90</td>\n",
       "      <td>100</td>\n",
       "      <td>110</td>\n",
       "      <td>120</td>\n",
       "    </tr>\n",
       "  </tbody>\n",
       "</table>\n",
       "</div>"
      ],
      "text/plain": [
       "    0    1    2    3\n",
       "0  10   20   30   40\n",
       "1  50   60   70   80\n",
       "2  90  100  110  120"
      ]
     },
     "execution_count": 7,
     "metadata": {},
     "output_type": "execute_result"
    }
   ],
   "source": [
    "# If I want to create a data frame...\n",
    "\n",
    "# list of lists\n",
    "df = DataFrame([[10, 20, 30, 40],\n",
    "               [50, 60, 70, 80],\n",
    "               [90, 100, 110, 120]])\n",
    "df"
   ]
  },
  {
   "cell_type": "markdown",
   "id": "f2c594eb",
   "metadata": {},
   "source": [
    "As with a series, we have an index -- along the left column, describing our rows\n",
    "\n",
    "We also have columns, which are along the top row, describing the columns.\n",
    "\n",
    "By default, both are numbered starting at 0.\n",
    "\n",
    "We can set one or both by passing \"index=\" or \"columns=\" when we create teh data frame. And yes, we can modify those down the road."
   ]
  },
  {
   "cell_type": "code",
   "execution_count": null,
   "id": "51548855",
   "metadata": {},
   "outputs": [],
   "source": [
    "df = DataFrame([[10, 20, 30, 40],\n",
    "               [50, 60, 70, 80],\n",
    "               [90, 100, 110, 120]],\n",
    "              index=list('abc'))\n",
    "df"
   ]
  }
 ],
 "metadata": {
  "kernelspec": {
   "display_name": "Python 3 (ipykernel)",
   "language": "python",
   "name": "python3"
  },
  "language_info": {
   "codemirror_mode": {
    "name": "ipython",
    "version": 3
   },
   "file_extension": ".py",
   "mimetype": "text/x-python",
   "name": "python",
   "nbconvert_exporter": "python",
   "pygments_lexer": "ipython3",
   "version": "3.11.3"
  }
 },
 "nbformat": 4,
 "nbformat_minor": 5
}
