{
 "cells": [
  {
   "cell_type": "markdown",
   "id": "2a56decd",
   "metadata": {},
   "source": [
    "# Agenda\n",
    "\n",
    "1. Data frames (2D data)\n",
    "2. Reading (and writing) files -- real-world data!\n",
    "\n",
    "To download: https://files.lerner.co.il/data-science-exercise-files.zip"
   ]
  },
  {
   "cell_type": "code",
   "execution_count": 2,
   "id": "24e559b0",
   "metadata": {},
   "outputs": [],
   "source": [
    "import numpy as np\n",
    "import pandas as pd\n",
    "from pandas import Series, DataFrame"
   ]
  },
  {
   "cell_type": "markdown",
   "id": "dfd72834",
   "metadata": {},
   "source": [
    "When we import a module, we're basically asking Python to do the following:\n",
    "\n",
    "1. Find the module (ending with \"py\") on disk\n",
    "2. Load it into memory\n",
    "3. Cache it, so that we don't need to load it a second time\n",
    "4. Define the module as a variable in our global namespace\n",
    "\n",
    "The second time we use import, we just jump directly to step 4.\n"
   ]
  }
 ],
 "metadata": {
  "kernelspec": {
   "display_name": "Python 3 (ipykernel)",
   "language": "python",
   "name": "python3"
  },
  "language_info": {
   "codemirror_mode": {
    "name": "ipython",
    "version": 3
   },
   "file_extension": ".py",
   "mimetype": "text/x-python",
   "name": "python",
   "nbconvert_exporter": "python",
   "pygments_lexer": "ipython3",
   "version": "3.11.3"
  }
 },
 "nbformat": 4,
 "nbformat_minor": 5
}
