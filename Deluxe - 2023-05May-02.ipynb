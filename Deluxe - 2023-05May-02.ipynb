{
 "cells": [
  {
   "cell_type": "markdown",
   "id": "2a56decd",
   "metadata": {},
   "source": [
    "# Agenda\n",
    "\n",
    "1. Data frames (2D data)\n",
    "2. Reading (and writing) files -- real-world data!\n",
    "\n",
    "To download: https://files.lerner.co.il/data-science-exercise-files.zip"
   ]
  },
  {
   "cell_type": "code",
   "execution_count": 2,
   "id": "314b2f2b",
   "metadata": {},
   "outputs": [],
   "source": [
    "import numpy as np\n",
    "import pandas as pd\n",
    "from pandas import Series, DataFrame"
   ]
  },
  {
   "cell_type": "markdown",
   "id": "15541deb",
   "metadata": {},
   "source": [
    "When we import a module, we're basically asking Python to do the following:\n",
    "\n",
    "1. Find the module (ending with \"py\") on disk\n",
    "2. Load it into memory\n",
    "3. Cache it, so that we don't need to load it a second time\n",
    "4. Define the module as a variable in our global namespace\n",
    "\n",
    "The second time we use import, we just jump directly to step 4.\n",
    "\n"
   ]
  },
  {
   "cell_type": "code",
   "execution_count": 4,
   "id": "41261593",
   "metadata": {},
   "outputs": [
    {
     "data": {
      "text/plain": [
       "<module 'pandas' from '/usr/local/lib/python3.11/site-packages/pandas/__init__.py'>"
      ]
     },
     "execution_count": 4,
     "metadata": {},
     "output_type": "execute_result"
    }
   ],
   "source": [
    "import sys\n",
    "sys.modules['pandas']  # sys.modules is the cache that Python uses for modules"
   ]
  },
  {
   "cell_type": "markdown",
   "id": "52d31a0c",
   "metadata": {},
   "source": [
    "What about \"from import\"?\n",
    "\n",
    "In that case, it takes a slightly different route:\n",
    "\n",
    "1. Find the module (ending with \"py\") on disk\n",
    "2. Load it into memory\n",
    "3. Cache it, so that we don't need to load it a second time\n",
    "4. Defines only the names we've specified in our global namespace\n"
   ]
  },
  {
   "cell_type": "code",
   "execution_count": 5,
   "id": "69bfc06e",
   "metadata": {},
   "outputs": [],
   "source": [
    "from random import randint"
   ]
  },
  {
   "cell_type": "code",
   "execution_count": 6,
   "id": "62559a98",
   "metadata": {},
   "outputs": [
    {
     "data": {
      "text/plain": [
       "<module 'random' from '/usr/local/Cellar/python@3.11/3.11.3/Frameworks/Python.framework/Versions/3.11/lib/python3.11/random.py'>"
      ]
     },
     "execution_count": 6,
     "metadata": {},
     "output_type": "execute_result"
    }
   ],
   "source": [
    "sys.modules['random']"
   ]
  },
  {
   "cell_type": "code",
   "execution_count": null,
   "id": "c27258dc",
   "metadata": {},
   "outputs": [],
   "source": [
    "# If I want to create a data frame...\n",
    "\n",
    "# list of lists\n",
    "df = DataFrame()"
   ]
  }
 ],
 "metadata": {
  "kernelspec": {
   "display_name": "Python 3 (ipykernel)",
   "language": "python",
   "name": "python3"
  },
  "language_info": {
   "codemirror_mode": {
    "name": "ipython",
    "version": 3
   },
   "file_extension": ".py",
   "mimetype": "text/x-python",
   "name": "python",
   "nbconvert_exporter": "python",
   "pygments_lexer": "ipython3",
   "version": "3.11.3"
  }
 },
 "nbformat": 4,
 "nbformat_minor": 5
}
