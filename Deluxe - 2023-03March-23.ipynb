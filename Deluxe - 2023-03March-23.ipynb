{
 "cells": [
  {
   "cell_type": "markdown",
   "id": "033e98e9",
   "metadata": {},
   "source": [
    "# Agenda\n",
    "\n",
    "1. Loops\n",
    "    - `for`\n",
    "    - `while`\n",
    "    - `range`\n",
    "2. Lists\n",
    "    - Creating them\n",
    "    - Manipulating them\n",
    "3. Strings to lists and back\n",
    "    - `str.join`\n",
    "    - `str.split`\n",
    "4. Tuples\n",
    "5. Tuple unpacking"
   ]
  },
  {
   "cell_type": "code",
   "execution_count": null,
   "id": "8512e727",
   "metadata": {},
   "outputs": [],
   "source": []
  }
 ],
 "metadata": {
  "kernelspec": {
   "display_name": "Python 3 (ipykernel)",
   "language": "python",
   "name": "python3"
  },
  "language_info": {
   "codemirror_mode": {
    "name": "ipython",
    "version": 3
   },
   "file_extension": ".py",
   "mimetype": "text/x-python",
   "name": "python",
   "nbconvert_exporter": "python",
   "pygments_lexer": "ipython3",
   "version": "3.11.2"
  }
 },
 "nbformat": 4,
 "nbformat_minor": 5
}
