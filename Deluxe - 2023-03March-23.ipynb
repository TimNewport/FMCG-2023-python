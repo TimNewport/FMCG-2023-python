{
 "cells": [
  {
   "cell_type": "markdown",
   "id": "099be1bb",
   "metadata": {},
   "source": [
    "# Agenda\n",
    "\n",
    "1. Loops\n",
    "    - `for`\n",
    "    - `while`\n",
    "    - `range`\n",
    "2. Lists\n",
    "    - Creating them\n",
    "    - Manipulating them\n",
    "3. Strings to lists and back\n",
    "    - `str.join`\n",
    "    - `str.split`\n",
    "4. Tuples\n",
    "5. Tuple unpacking"
   ]
  },
  {
   "cell_type": "code",
   "execution_count": 1,
   "id": "af9a579f",
   "metadata": {},
   "outputs": [
    {
     "name": "stdout",
     "output_type": "stream",
     "text": [
      "a\n",
      "b\n",
      "c\n",
      "d\n"
     ]
    }
   ],
   "source": [
    "# let's say that I have a string, and I want to print all of the characters in that string\n",
    "\n",
    "s = 'abcd'\n",
    "\n",
    "print(s[0])\n",
    "print(s[1])\n",
    "print(s[2])\n",
    "print(s[3])"
   ]
  },
  {
   "cell_type": "markdown",
   "id": "bcdf63be",
   "metadata": {},
   "source": [
    "# DRY -- don't repeat yourself!\n",
    "\n",
    "If I have several lines in a row that basically do the same thing, then I should replace them with a loop.\n",
    "\n",
    "WET -- write everything twice"
   ]
  },
  {
   "cell_type": "markdown",
   "id": "b2aed0e7",
   "metadata": {},
   "source": [
    "# Python has two kinds of loops\n",
    "\n",
    "- `for` \n",
    "- `while` "
   ]
  },
  {
   "cell_type": "code",
   "execution_count": 2,
   "id": "6fe98b49",
   "metadata": {},
   "outputs": [
    {
     "name": "stdout",
     "output_type": "stream",
     "text": [
      "a\n",
      "b\n",
      "c\n",
      "d\n"
     ]
    }
   ],
   "source": [
    "# if I want to print all of the characters in the string s, I can do this:\n",
    "\n",
    "# 1. for loop asks the object at the end of the line: are you iterable?\n",
    "# 2.  If not, then we get an error\n",
    "# 3. If so, then the loop asks the object for its next value\n",
    "# 4.  If the object is out of values, the loop ends\n",
    "# 5   Otherwise, we get the next value, assign it to one_character, and run the loop body\n",
    "\n",
    "# when we iterate over strings, we always get one character at a time\n",
    "\n",
    "s = 'abcd'\n",
    "\n",
    "for one_character in s:     # start of the for loop\n",
    "    print(one_character)    # body of the for loop (can be as many lines as we want)"
   ]
  },
  {
   "cell_type": "markdown",
   "id": "3dd3f603",
   "metadata": {},
   "source": [
    "# Exercise: Vowels, digits, and others\n",
    "\n",
    "1. Define three variables -- `vowels`, `digits`, and `others`, all to be 0.\n",
    "2. Ask the user to enter a string.\n",
    "3. Go through each element of the string, and check:\n",
    "    - If it's a vowel (a, e, i, o or u) then add 1 to `vowels`\n",
    "    - If it's a digit (0-9) then add 1 to `digits`\n",
    "    - In all other cases, add 1 to `others`."
   ]
  },
  {
   "cell_type": "code",
   "execution_count": 3,
   "id": "ea7de88d",
   "metadata": {},
   "outputs": [],
   "source": [
    "# don't do this!\n",
    "\n",
    "vowels = digits = others = 0"
   ]
  },
  {
   "cell_type": "code",
   "execution_count": 4,
   "id": "d882ba8f",
   "metadata": {},
   "outputs": [
    {
     "name": "stdout",
     "output_type": "stream",
     "text": [
      "Enter a string: hello! 12345?\n",
      "vowels = 2\n",
      "digits = 5\n",
      "others = 6\n"
     ]
    }
   ],
   "source": [
    "vowels = 0\n",
    "digits = 0\n",
    "others = 0\n",
    "\n",
    "s = input('Enter a string: ').strip()\n",
    "\n",
    "for one_character in s.lower():\n",
    "    if one_character in 'aeiou':\n",
    "        vowels += 1   # same as vowels = vowels + 1\n",
    "    elif one_character.isdigit():\n",
    "        digits += 1\n",
    "    else:\n",
    "        others += 1\n",
    "        \n",
    "print(f'vowels = {vowels}')        \n",
    "print(f'digits = {digits}')        \n",
    "print(f'others = {others}')        "
   ]
  },
  {
   "cell_type": "code",
   "execution_count": 7,
   "id": "e225eaa2",
   "metadata": {},
   "outputs": [
    {
     "name": "stdout",
     "output_type": "stream",
     "text": [
      "vowels = 2\n",
      "digits = 5\n",
      "others = 6\n"
     ]
    }
   ],
   "source": [
    "# As of Python 3.8 (I think) you can do this:\n",
    "\n",
    "print(f'{vowels = }')           # if the = is the last character in the f-string's {}, we get name=value\n",
    "print(f'{digits = }')        \n",
    "print(f'{others = }')        "
   ]
  },
  {
   "cell_type": "code",
   "execution_count": 8,
   "id": "b78a588c",
   "metadata": {},
   "outputs": [
    {
     "name": "stdout",
     "output_type": "stream",
     "text": [
      "len(s) = 13\n"
     ]
    }
   ],
   "source": [
    "print(f'{len(s) = }')        "
   ]
  },
  {
   "cell_type": "code",
   "execution_count": 9,
   "id": "9248ff08",
   "metadata": {},
   "outputs": [
    {
     "name": "stdout",
     "output_type": "stream",
     "text": [
      "0: a\n",
      "1: b\n",
      "2: c\n",
      "3: d\n"
     ]
    }
   ],
   "source": [
    "# what if I really *like* the idea of having indexes when iterating over a string?\n",
    "# for example: I want to print all of the characters in s, along with their indexes\n",
    "\n",
    "# option 1: do it manually!\n",
    "\n",
    "index = 0\n",
    "s = 'abcd'\n",
    "\n",
    "for one_character in s:\n",
    "    print(f'{index}: {one_character}')\n",
    "    index += 1"
   ]
  },
  {
   "cell_type": "code",
   "execution_count": 10,
   "id": "62f37721",
   "metadata": {},
   "outputs": [
    {
     "name": "stdout",
     "output_type": "stream",
     "text": [
      "0: a\n",
      "1: b\n",
      "2: c\n",
      "3: d\n"
     ]
    }
   ],
   "source": [
    "# option 2: Use \"enumerate\"\n",
    "\n",
    "# the \"enumerate\" function is called on something that's iterable\n",
    "# it is meant to be used in a for loop\n",
    "# it returns *two* values, not one -- the current index and the current value\n",
    "\n",
    "for index, one_character in enumerate(s):\n",
    "    print(f'{index}: {one_character}')"
   ]
  },
  {
   "cell_type": "markdown",
   "id": "13e03ad8",
   "metadata": {},
   "source": [
    "# What about executing something multiple times?\n",
    "\n",
    "So far, we've been iterating over strings, getting one character from the string with each iteration. But often we just want to execute a loop in order to repeat something a number of times.\n",
    "\n",
    "Can I iterate over an integer?\n",
    "\n",
    "No, integers are not iterable. You cannot put them in your `for` loop."
   ]
  },
  {
   "cell_type": "code",
   "execution_count": 12,
   "id": "f1a01f5e",
   "metadata": {},
   "outputs": [
    {
     "ename": "TypeError",
     "evalue": "'int' object is not iterable",
     "output_type": "error",
     "traceback": [
      "\u001b[0;31m---------------------------------------------------------------------------\u001b[0m",
      "\u001b[0;31mTypeError\u001b[0m                                 Traceback (most recent call last)",
      "Cell \u001b[0;32mIn [12], line 1\u001b[0m\n\u001b[0;32m----> 1\u001b[0m \u001b[38;5;28;01mfor\u001b[39;00m counter \u001b[38;5;129;01min\u001b[39;00m \u001b[38;5;241m5\u001b[39m:\n\u001b[1;32m      2\u001b[0m     \u001b[38;5;28mprint\u001b[39m(\u001b[38;5;124m'\u001b[39m\u001b[38;5;124mHooray!\u001b[39m\u001b[38;5;124m'\u001b[39m)\n",
      "\u001b[0;31mTypeError\u001b[0m: 'int' object is not iterable"
     ]
    }
   ],
   "source": [
    "for counter in 5:\n",
    "    print('Hooray!')"
   ]
  },
  {
   "cell_type": "code",
   "execution_count": 14,
   "id": "f46f5b30",
   "metadata": {},
   "outputs": [
    {
     "name": "stdout",
     "output_type": "stream",
     "text": [
      "Hooray!\n",
      "Hooray!\n",
      "Hooray!\n",
      "Hooray!\n",
      "Hooray!\n"
     ]
    }
   ],
   "source": [
    "# We can use \"range\"\n",
    "# the \"range\" function is designed to be called on an integer, giving us\n",
    "# something that is iterable from 0 until (not including) the number we give\n",
    "\n",
    "# so range(5) will give us 5 iterations\n",
    "\n",
    "for counter in range(5):\n",
    "    print('Hooray!')"
   ]
  },
  {
   "cell_type": "code",
   "execution_count": 15,
   "id": "69697cfc",
   "metadata": {},
   "outputs": [
    {
     "name": "stdout",
     "output_type": "stream",
     "text": [
      "[0] Hooray!\n",
      "[1] Hooray!\n",
      "[2] Hooray!\n",
      "[3] Hooray!\n",
      "[4] Hooray!\n"
     ]
    }
   ],
   "source": [
    "# when we iterate over range(n), we get the numbers 0 until (not including) n.\n",
    "\n",
    "for counter in range(5):\n",
    "    print(f'[{counter}] Hooray!')"
   ]
  },
  {
   "cell_type": "code",
   "execution_count": 16,
   "id": "67f54611",
   "metadata": {},
   "outputs": [
    {
     "name": "stdout",
     "output_type": "stream",
     "text": [
      "3\n",
      "4\n",
      "5\n",
      "6\n",
      "7\n",
      "8\n",
      "9\n"
     ]
    }
   ],
   "source": [
    "# it gets even better than that\n",
    "\n",
    "for one_number in range(3, 10):   # now we'll get the range from 3 up to (and not including) 10\n",
    "    print(one_number)"
   ]
  },
  {
   "cell_type": "code",
   "execution_count": 17,
   "id": "b25525cb",
   "metadata": {},
   "outputs": [
    {
     "name": "stdout",
     "output_type": "stream",
     "text": [
      "5\n",
      "12\n",
      "19\n",
      "26\n",
      "33\n"
     ]
    }
   ],
   "source": [
    "# just like with slices, we can provide range with *three* arguments:\n",
    "# start number\n",
    "# end number (+ 1)\n",
    "# step size\n",
    "\n",
    "for one_number in range(5, 35, 7):\n",
    "    print(one_number)"
   ]
  },
  {
   "cell_type": "markdown",
   "id": "94f6e7a7",
   "metadata": {},
   "source": [
    "# Using `range`\n",
    "\n",
    "- `range(n)` counts from 0 up to (and not including) `n`\n",
    "- `range(n,s)` counts from `n` up to (and not including) `s`\n",
    "- `range(n, s, step)` counts up from `n` up to (and not including) `s`, adding `step` with each iteration"
   ]
  },
  {
   "cell_type": "code",
   "execution_count": 18,
   "id": "490584ae",
   "metadata": {},
   "outputs": [],
   "source": [
    "# yes, you can use _ in your integers in Python for easier reading!\n",
    "\n",
    "x = range(100_000_000)"
   ]
  },
  {
   "cell_type": "markdown",
   "id": "7d4a1ff3",
   "metadata": {},
   "source": [
    "# Exercise: Name triangles\n",
    "\n",
    "1. Ask the user to enter their name.\n",
    "2. Print the user's name as a triangle, starting with the first letter and ending with the entire name.\n",
    "\n",
    "Example:\n",
    "\n",
    "    Name: Reuven\n",
    "    R\n",
    "    Re\n",
    "    Reu\n",
    "    Reuv\n",
    "    Reuve\n",
    "    Reuven\n",
    "\n",
    "Beware the off-by-one errors that are almost inevitable when doing this!"
   ]
  },
  {
   "cell_type": "code",
   "execution_count": 20,
   "id": "889697da",
   "metadata": {},
   "outputs": [
    {
     "name": "stdout",
     "output_type": "stream",
     "text": [
      "R\n",
      "Re\n",
      "Reu\n",
      "Reuv\n",
      "Reuve\n",
      "Reuven\n"
     ]
    }
   ],
   "source": [
    "name = 'Reuven'\n",
    "\n",
    "print(name[:1])\n",
    "print(name[:2])\n",
    "print(name[:3])\n",
    "print(name[:4])\n",
    "print(name[:5])\n",
    "print(name[:6])    # Python's OK with going off the edges of a slice"
   ]
  },
  {
   "cell_type": "code",
   "execution_count": 24,
   "id": "998b3e35",
   "metadata": {},
   "outputs": [
    {
     "name": "stdout",
     "output_type": "stream",
     "text": [
      "Enter a name: the most ridiculously long name in the world\n",
      "t\n",
      "th\n",
      "the\n",
      "the \n",
      "the m\n",
      "the mo\n",
      "the mos\n",
      "the most\n",
      "the most \n",
      "the most r\n",
      "the most ri\n",
      "the most rid\n",
      "the most ridi\n",
      "the most ridic\n",
      "the most ridicu\n",
      "the most ridicul\n",
      "the most ridiculo\n",
      "the most ridiculou\n",
      "the most ridiculous\n",
      "the most ridiculousl\n",
      "the most ridiculously\n",
      "the most ridiculously \n",
      "the most ridiculously l\n",
      "the most ridiculously lo\n",
      "the most ridiculously lon\n",
      "the most ridiculously long\n",
      "the most ridiculously long \n",
      "the most ridiculously long n\n",
      "the most ridiculously long na\n",
      "the most ridiculously long nam\n",
      "the most ridiculously long name\n",
      "the most ridiculously long name \n",
      "the most ridiculously long name i\n",
      "the most ridiculously long name in\n",
      "the most ridiculously long name in \n",
      "the most ridiculously long name in t\n",
      "the most ridiculously long name in th\n",
      "the most ridiculously long name in the\n",
      "the most ridiculously long name in the \n",
      "the most ridiculously long name in the w\n",
      "the most ridiculously long name in the wo\n",
      "the most ridiculously long name in the wor\n",
      "the most ridiculously long name in the worl\n",
      "the most ridiculously long name in the world\n"
     ]
    }
   ],
   "source": [
    "name = input('Enter a name: ').strip()\n",
    "\n",
    "for end_index in range(1, len(name)+1 ):\n",
    "    print(name[:end_index])"
   ]
  },
  {
   "cell_type": "code",
   "execution_count": 26,
   "id": "f9fd9aa5",
   "metadata": {},
   "outputs": [
    {
     "name": "stdout",
     "output_type": "stream",
     "text": [
      "Enter a name: whatever\n",
      "w\n",
      "wh\n",
      "wha\n",
      "what\n",
      "whate\n",
      "whatev\n",
      "whateve\n",
      "whatever\n"
     ]
    }
   ],
   "source": [
    "name = input('Enter a name: ').strip()\n",
    "\n",
    "# we can have our range go from 0-len, and then add 1 in the slice\n",
    "for end_index in range(0, len(name) ):\n",
    "    print(name[:end_index+1])"
   ]
  },
  {
   "cell_type": "code",
   "execution_count": 27,
   "id": "18026d19",
   "metadata": {},
   "outputs": [
    {
     "name": "stdout",
     "output_type": "stream",
     "text": [
      "Found d\n"
     ]
    }
   ],
   "source": [
    "# what if I want to leave the loop early?\n",
    "\n",
    "s = 'abcdef'\n",
    "look_for = 'd'   # let's pretend that \"in\" doesn't exist in Python\n",
    "\n",
    "# how can I know, given that pretend scenario, whether look_for is in s?\n",
    "\n",
    "for one_character in s:\n",
    "    if look_for == one_character:\n",
    "        print(f'Found {look_for}')"
   ]
  },
  {
   "cell_type": "code",
   "execution_count": 29,
   "id": "6bd6f2db",
   "metadata": {},
   "outputs": [
    {
     "name": "stdout",
     "output_type": "stream",
     "text": [
      "Found d\n"
     ]
    }
   ],
   "source": [
    "# if you're just looking for the first match of look_for in s, then\n",
    "# wouldn't it be nice (and more efficient! ) if we were to stop as \n",
    "# soon as he found look_for?\n",
    "\n",
    "# answer: yes\n",
    "\n",
    "# I can use \"break\" in a loop to say: stop now!\n",
    "\n",
    "s = 'abcdefabcdef'\n",
    "look_for = 'd'   # let's pretend that \"in\" doesn't exist in Python\n",
    "\n",
    "# how can I know, given that pretend scenario, whether look_for is in s?\n",
    "\n",
    "for one_character in s:\n",
    "    if look_for == one_character:\n",
    "        print(f'Found {look_for}')\n",
    "        break   # we will now break out of our for loop"
   ]
  },
  {
   "cell_type": "code",
   "execution_count": 30,
   "id": "81a26ca7",
   "metadata": {},
   "outputs": [
    {
     "name": "stdout",
     "output_type": "stream",
     "text": [
      "a\n",
      "b\n",
      "c\n",
      "e\n",
      "f\n"
     ]
    }
   ],
   "source": [
    "# if we have nested loops (i.e., one loop inside of another), then\n",
    "# the break will stop the innermost loop in which it's located.\n",
    "\n",
    "# sometimes, I want to stop the current iteration, not the entire loop\n",
    "# for that, I have the \"continue\" keyword\n",
    "\n",
    "# if Python encounters \"continue\" in a loop, it immediately goes to the next iteration,\n",
    "# skipping any of the loop body that might remain to be executed.\n",
    "\n",
    "s = 'abcdef'\n",
    "look_for = 'd'   \n",
    "\n",
    "for one_character in s:\n",
    "    if look_for == one_character:\n",
    "        continue   # ignoring the character\n",
    "        \n",
    "    print(one_character)"
   ]
  },
  {
   "cell_type": "code",
   "execution_count": 31,
   "id": "606d73a9",
   "metadata": {},
   "outputs": [
    {
     "ename": "SyntaxError",
     "evalue": "'break' outside loop (1481225530.py, line 2)",
     "output_type": "error",
     "traceback": [
      "\u001b[0;36m  Cell \u001b[0;32mIn [31], line 2\u001b[0;36m\u001b[0m\n\u001b[0;31m    break\u001b[0m\n\u001b[0m    ^\u001b[0m\n\u001b[0;31mSyntaxError\u001b[0m\u001b[0;31m:\u001b[0m 'break' outside loop\n"
     ]
    }
   ],
   "source": [
    "# what if we use break or continue outside of a loop?\n",
    "break"
   ]
  },
  {
   "cell_type": "code",
   "execution_count": 32,
   "id": "f34b56a2",
   "metadata": {},
   "outputs": [
    {
     "ename": "SyntaxError",
     "evalue": "'continue' not properly in loop (414696514.py, line 1)",
     "output_type": "error",
     "traceback": [
      "\u001b[0;36m  Cell \u001b[0;32mIn [32], line 1\u001b[0;36m\u001b[0m\n\u001b[0;31m    continue\u001b[0m\n\u001b[0m    ^\u001b[0m\n\u001b[0;31mSyntaxError\u001b[0m\u001b[0;31m:\u001b[0m 'continue' not properly in loop\n"
     ]
    }
   ],
   "source": [
    "continue"
   ]
  },
  {
   "cell_type": "markdown",
   "id": "51a756b9",
   "metadata": {},
   "source": [
    "# Exercise: Sum digits\n",
    "\n",
    "1. Define `total` to be 0.\n",
    "2. Ask the user to enter a string.\n",
    "3. Go through each character in the string:\n",
    "    - If the character is a digit, add it to `total`\n",
    "    - If the character is a `.`, stop counting and exit the loop\n",
    "    - In other cases, warn the user that it's not numeric\n",
    "4. Print `total`\n",
    "\n",
    "Example:\n",
    "\n",
    "    Enter a string: 1a2b3.45\n",
    "    a is not numeric\n",
    "    b is not numeric\n",
    "    total is 6"
   ]
  },
  {
   "cell_type": "code",
   "execution_count": 33,
   "id": "bd626d73",
   "metadata": {},
   "outputs": [
    {
     "name": "stdout",
     "output_type": "stream",
     "text": [
      "Enter a string: 1a2b3.45\n",
      "a is not numeric!\n",
      "b is not numeric!\n",
      "total=6\n"
     ]
    }
   ],
   "source": [
    "total = 0\n",
    "\n",
    "s = input('Enter a string: ').strip()\n",
    "\n",
    "for one_character in s:\n",
    "    if one_character == '.':\n",
    "        break\n",
    "        \n",
    "    if not one_character.isdigit():\n",
    "        print(f'{one_character} is not numeric!')\n",
    "        continue\n",
    "        \n",
    "    total += int(one_character)\n",
    "    \n",
    "print(f'{total=}')    "
   ]
  },
  {
   "cell_type": "markdown",
   "id": "2d7d7040",
   "metadata": {},
   "source": [
    "# `while` loops\n",
    "\n",
    "`while` loops run in a different way from `for` loops. You can think of them as `if` statements that are repeatedly checked and run:\n",
    "\n",
    "- To the right of the `while` statement is an expression that returns `True` or `False`\n",
    "    - If it's `False`, then the loop exits\n",
    "    - Otherwise, the loop body runs\n",
    "- When the loop body finishes, we go back up to the `while` statement and check the condition again.    "
   ]
  },
  {
   "cell_type": "code",
   "execution_count": 35,
   "id": "6574b572",
   "metadata": {},
   "outputs": [
    {
     "name": "stdout",
     "output_type": "stream",
     "text": [
      "Before\n",
      "x=5\n",
      "x=4\n",
      "x=3\n",
      "x=2\n",
      "x=1\n",
      "After\n"
     ]
    }
   ],
   "source": [
    "x = 5\n",
    "\n",
    "print('Before')\n",
    "\n",
    "while x > 0:\n",
    "    print(f'{x=}')\n",
    "    x -= 1   # decrement x by 1\n",
    "\n",
    "print('After')    "
   ]
  },
  {
   "cell_type": "markdown",
   "id": "f8774a7b",
   "metadata": {},
   "source": [
    "# When to use `for` vs. `while`?\n",
    "\n",
    "First: We use `for` in Python far more than `while`.  Many data structures are iterable.\n",
    "\n",
    "Often, it's a question of: When will we finish the loop?\n",
    "\n",
    "- If we want to go through every element of a collection, then a `for` loop is generally more appropriate.\n",
    "\n",
    "- If we can't articulate how many iterations we'll want, but there is a goal that we want to reach, then a `while` loop is more appropriate.\n",
    "\n",
    "- If we want to repeatedly ask people to enter data, or otherwise do something, until we reach some obvious \"stop\" command, then a `while` loop is also appropriate."
   ]
  },
  {
   "cell_type": "code",
   "execution_count": 36,
   "id": "ae4eb1bc",
   "metadata": {},
   "outputs": [
    {
     "name": "stdout",
     "output_type": "stream",
     "text": [
      "Enter your name: Reuven\n",
      "Hello, Reuven!\n",
      "Enter your name: asdfsadfas\n",
      "Hello, asdfsadfas!\n",
      "Enter your name: \n"
     ]
    }
   ],
   "source": [
    "while True:   # infinite loop!\n",
    "    name = input('Enter your name: ').strip()\n",
    "    \n",
    "    if not name:    # if we got an empty string from the user, exit the loop\n",
    "        break\n",
    "    \n",
    "    print(f'Hello, {name}!')"
   ]
  },
  {
   "cell_type": "markdown",
   "id": "96d43fee",
   "metadata": {},
   "source": [
    "# Exercise: Sum to 100\n",
    "\n",
    "1. Define `total` to be 0.\n",
    "2. Repeatedly ask the user to enter a number.\n",
    "    - If we get an empty string, exit the loop, no matter what.\n",
    "    - If we get something non-numeric, then scold the user.\n",
    "    - If we get something numeric, then add it to `total`\n",
    "3. Print the `total` at the start/end of each loop.    \n",
    "4. Once `total` is >= 100, stop.    \n",
    "\n",
    "Example:\n",
    "\n",
    "    Enter a number: 50\n",
    "    Total is 50\n",
    "    Enter a number: 30\n",
    "    Total is 80\n",
    "    Enter a number: banana\n",
    "    banana is not numeric\n",
    "    Enter a number: 20\n",
    "    Total is 100\n"
   ]
  },
  {
   "cell_type": "code",
   "execution_count": 39,
   "id": "e1cf9b4e",
   "metadata": {},
   "outputs": [
    {
     "name": "stdout",
     "output_type": "stream",
     "text": [
      "Enter a number: 50\n",
      "total=50\n",
      "Enter a number: 30\n",
      "total=80\n",
      "Enter a number: banana\n",
      "banana is not numeric\n",
      "Enter a number: 20\n",
      "total=100\n",
      "In the end, total=100\n"
     ]
    }
   ],
   "source": [
    "total = 0\n",
    "\n",
    "while total < 100:\n",
    "    s = input('Enter a number: ').strip()\n",
    "    \n",
    "    if not s:\n",
    "        break\n",
    "        \n",
    "    if not s.isdigit():\n",
    "        print(f'{s} is not numeric')\n",
    "        continue\n",
    "        \n",
    "    total += int(s)\n",
    "    print(f'{total=}')\n",
    "    \n",
    "print(f'In the end, {total=}')    "
   ]
  },
  {
   "cell_type": "code",
   "execution_count": 40,
   "id": "df448077",
   "metadata": {},
   "outputs": [
    {
     "data": {
      "text/plain": [
       "True"
      ]
     },
     "execution_count": 40,
     "metadata": {},
     "output_type": "execute_result"
    }
   ],
   "source": [
    "s = '12345'\n",
    "s.isdigit()"
   ]
  },
  {
   "cell_type": "code",
   "execution_count": 41,
   "id": "3e015910",
   "metadata": {},
   "outputs": [
    {
     "data": {
      "text/plain": [
       "True"
      ]
     },
     "execution_count": 41,
     "metadata": {},
     "output_type": "execute_result"
    }
   ],
   "source": [
    "s.isnumeric()"
   ]
  },
  {
   "cell_type": "code",
   "execution_count": 42,
   "id": "563ee207",
   "metadata": {},
   "outputs": [
    {
     "data": {
      "text/plain": [
       "True"
      ]
     },
     "execution_count": 42,
     "metadata": {},
     "output_type": "execute_result"
    }
   ],
   "source": [
    "s.isdecimal()"
   ]
  },
  {
   "cell_type": "code",
   "execution_count": 43,
   "id": "1bc991fb",
   "metadata": {},
   "outputs": [
    {
     "data": {
      "text/plain": [
       "False"
      ]
     },
     "execution_count": 43,
     "metadata": {},
     "output_type": "execute_result"
    }
   ],
   "source": [
    "# why all three?\n",
    "\n",
    "s = '一二三'\n",
    "\n",
    "s.isdigit()"
   ]
  },
  {
   "cell_type": "code",
   "execution_count": 44,
   "id": "bffafdac",
   "metadata": {},
   "outputs": [
    {
     "data": {
      "text/plain": [
       "True"
      ]
     },
     "execution_count": 44,
     "metadata": {},
     "output_type": "execute_result"
    }
   ],
   "source": [
    "s.isnumeric()"
   ]
  },
  {
   "cell_type": "code",
   "execution_count": 45,
   "id": "2226205a",
   "metadata": {},
   "outputs": [
    {
     "data": {
      "text/plain": [
       "False"
      ]
     },
     "execution_count": 45,
     "metadata": {},
     "output_type": "execute_result"
    }
   ],
   "source": [
    "s.isdecimal()"
   ]
  },
  {
   "cell_type": "code",
   "execution_count": 48,
   "id": "56fb4250",
   "metadata": {},
   "outputs": [
    {
     "data": {
      "text/plain": [
       "True"
      ]
     },
     "execution_count": 48,
     "metadata": {},
     "output_type": "execute_result"
    }
   ],
   "source": [
    "s = '²'\n",
    "\n",
    "s.isdigit()"
   ]
  },
  {
   "cell_type": "code",
   "execution_count": 49,
   "id": "ba23c5cb",
   "metadata": {},
   "outputs": [
    {
     "data": {
      "text/plain": [
       "False"
      ]
     },
     "execution_count": 49,
     "metadata": {},
     "output_type": "execute_result"
    }
   ],
   "source": [
    "s.isdecimal()"
   ]
  },
  {
   "cell_type": "code",
   "execution_count": 50,
   "id": "6d0a6554",
   "metadata": {},
   "outputs": [
    {
     "name": "stdout",
     "output_type": "stream",
     "text": [
      "Enter a number: 500\n",
      "total=500\n",
      "In the end, total=500\n"
     ]
    }
   ],
   "source": [
    "total = 0\n",
    "\n",
    "while total < 100:\n",
    "    s = input('Enter a number: ').strip()\n",
    "    \n",
    "    if not s:\n",
    "        break\n",
    "        \n",
    "    if not s.isdigit():\n",
    "        print(f'{s} is not numeric')\n",
    "        continue\n",
    "        \n",
    "    total += int(s)\n",
    "    print(f'{total=}')\n",
    "    \n",
    "print(f'In the end, {total=}')    "
   ]
  },
  {
   "cell_type": "markdown",
   "id": "fb1343b0",
   "metadata": {},
   "source": [
    "# Why not mix the `while` condition with assignment?"
   ]
  },
  {
   "cell_type": "code",
   "execution_count": 51,
   "id": "4294b612",
   "metadata": {},
   "outputs": [
    {
     "ename": "SyntaxError",
     "evalue": "invalid syntax. Maybe you meant '==' or ':=' instead of '='? (3166419494.py, line 1)",
     "output_type": "error",
     "traceback": [
      "\u001b[0;36m  Cell \u001b[0;32mIn [51], line 1\u001b[0;36m\u001b[0m\n\u001b[0;31m    while name = input('Enter your name: ').strip():\u001b[0m\n\u001b[0m          ^\u001b[0m\n\u001b[0;31mSyntaxError\u001b[0m\u001b[0;31m:\u001b[0m invalid syntax. Maybe you meant '==' or ':=' instead of '='?\n"
     ]
    }
   ],
   "source": [
    "while name = input('Enter your name: ').strip():\n",
    "    \n",
    "    print(f'Hello, {name}!')"
   ]
  },
  {
   "cell_type": "code",
   "execution_count": 52,
   "id": "a156f63f",
   "metadata": {},
   "outputs": [
    {
     "name": "stdout",
     "output_type": "stream",
     "text": [
      "Enter your name: Reuven\n",
      "Hello, Reuven!\n",
      "Enter your name: asdfsa\n",
      "Hello, asdfsa!\n",
      "Enter your name: \n"
     ]
    }
   ],
   "source": [
    "# as of Python 3.8, we got a new operator in the language\n",
    "# it's known as the \"assignment expression\"\n",
    "# but no one calls it that... they call it \"the walrus\"\n",
    "# :=\n",
    "\n",
    "while name := input('Enter your name: ').strip():\n",
    "    \n",
    "    print(f'Hello, {name}!')"
   ]
  },
  {
   "cell_type": "code",
   "execution_count": 55,
   "id": "a1e10b51",
   "metadata": {},
   "outputs": [
    {
     "name": "stdout",
     "output_type": "stream",
     "text": [
      "5\n"
     ]
    }
   ],
   "source": [
    "# please don't do this!\n",
    "\n",
    "print(x := 5)"
   ]
  },
  {
   "cell_type": "markdown",
   "id": "2ebd61a4",
   "metadata": {},
   "source": [
    "# Lists\n",
    "\n",
    "Lists are Python's most common container type. They are *not* arrays, because:\n",
    "\n",
    "- They can contain any objects, and any mix of objects and object types \n",
    "- Their length can change over time\n",
    "\n",
    "By Python conventions, we actually want to use lists for collections of objects that are all the same type -- a list of strings, a list of lists, a list of integers, etc."
   ]
  },
  {
   "cell_type": "code",
   "execution_count": 56,
   "id": "a0f725ba",
   "metadata": {},
   "outputs": [],
   "source": [
    "# here's a list\n",
    "# defined with []\n",
    "# elements are separated by ,\n",
    "# any object in Python can be put into a list\n",
    "\n",
    "mylist = [10, 20, 30, 40, 50]"
   ]
  },
  {
   "cell_type": "markdown",
   "id": "1d69df7d",
   "metadata": {},
   "source": [
    "# Lists and strings are both sequences\n",
    "\n",
    "As a result, they share a lot of syntax:\n",
    "\n",
    "- We can retrieve an item at index `i` with `mylist[i]`\n",
    "- We can retrieve a slice with `mylist[start:stop]` and `mylist[start:stop:step]`\n",
    "- We can search in a list with `in`\n",
    "- We can iterate over a list with `for`\n",
    "- Get the length with `len`"
   ]
  },
  {
   "cell_type": "code",
   "execution_count": 58,
   "id": "82716858",
   "metadata": {},
   "outputs": [
    {
     "data": {
      "text/plain": [
       "7"
      ]
     },
     "execution_count": 58,
     "metadata": {},
     "output_type": "execute_result"
    }
   ],
   "source": [
    "mylist = [10, 20, 30, 40, 50, 60, 70]\n",
    "\n",
    "len(mylist)"
   ]
  },
  {
   "cell_type": "code",
   "execution_count": 59,
   "id": "75c189b8",
   "metadata": {},
   "outputs": [
    {
     "data": {
      "text/plain": [
       "True"
      ]
     },
     "execution_count": 59,
     "metadata": {},
     "output_type": "execute_result"
    }
   ],
   "source": [
    "40 in mylist"
   ]
  },
  {
   "cell_type": "code",
   "execution_count": 60,
   "id": "e7bf65e9",
   "metadata": {},
   "outputs": [
    {
     "data": {
      "text/plain": [
       "[30, 40, 50]"
      ]
     },
     "execution_count": 60,
     "metadata": {},
     "output_type": "execute_result"
    }
   ],
   "source": [
    "mylist[2:5]"
   ]
  },
  {
   "cell_type": "code",
   "execution_count": 61,
   "id": "fa04d5a0",
   "metadata": {},
   "outputs": [
    {
     "name": "stdout",
     "output_type": "stream",
     "text": [
      "10\n",
      "20\n",
      "30\n",
      "40\n",
      "50\n",
      "60\n",
      "70\n"
     ]
    }
   ],
   "source": [
    "for one_item in mylist:\n",
    "    print(one_item)"
   ]
  },
  {
   "cell_type": "code",
   "execution_count": 62,
   "id": "57178fe9",
   "metadata": {},
   "outputs": [
    {
     "data": {
      "text/plain": [
       "70"
      ]
     },
     "execution_count": 62,
     "metadata": {},
     "output_type": "execute_result"
    }
   ],
   "source": [
    "mylist[-1]"
   ]
  },
  {
   "cell_type": "code",
   "execution_count": 63,
   "id": "4ba34aaf",
   "metadata": {},
   "outputs": [
    {
     "data": {
      "text/plain": [
       "60"
      ]
     },
     "execution_count": 63,
     "metadata": {},
     "output_type": "execute_result"
    }
   ],
   "source": [
    "mylist[-2]"
   ]
  },
  {
   "cell_type": "code",
   "execution_count": 64,
   "id": "a1c07180",
   "metadata": {},
   "outputs": [],
   "source": [
    "mylist = [10, 20, 30]\n",
    "\n",
    "biglist = [mylist, mylist, mylist]"
   ]
  },
  {
   "cell_type": "code",
   "execution_count": 65,
   "id": "8ca5d4a1",
   "metadata": {},
   "outputs": [
    {
     "data": {
      "text/plain": [
       "3"
      ]
     },
     "execution_count": 65,
     "metadata": {},
     "output_type": "execute_result"
    }
   ],
   "source": [
    "len(biglist)"
   ]
  },
  {
   "cell_type": "code",
   "execution_count": 66,
   "id": "a94d757d",
   "metadata": {},
   "outputs": [
    {
     "data": {
      "text/plain": [
       "3"
      ]
     },
     "execution_count": 66,
     "metadata": {},
     "output_type": "execute_result"
    }
   ],
   "source": [
    "len(mylist)"
   ]
  },
  {
   "cell_type": "code",
   "execution_count": 67,
   "id": "be014cea",
   "metadata": {},
   "outputs": [
    {
     "data": {
      "text/plain": [
       "[[10, 20, 30], [10, 20, 30], [10, 20, 30]]"
      ]
     },
     "execution_count": 67,
     "metadata": {},
     "output_type": "execute_result"
    }
   ],
   "source": [
    "biglist"
   ]
  },
  {
   "cell_type": "code",
   "execution_count": 68,
   "id": "42fbc05c",
   "metadata": {},
   "outputs": [
    {
     "data": {
      "text/plain": [
       "False"
      ]
     },
     "execution_count": 68,
     "metadata": {},
     "output_type": "execute_result"
    }
   ],
   "source": [
    "20 in biglist   # is 20 an element of biglist?"
   ]
  },
  {
   "cell_type": "code",
   "execution_count": 69,
   "id": "f0452eb6",
   "metadata": {},
   "outputs": [
    {
     "data": {
      "text/plain": [
       "True"
      ]
     },
     "execution_count": 69,
     "metadata": {},
     "output_type": "execute_result"
    }
   ],
   "source": [
    "20 in mylist"
   ]
  },
  {
   "cell_type": "code",
   "execution_count": 70,
   "id": "f6fb1cb2",
   "metadata": {},
   "outputs": [
    {
     "ename": "TypeError",
     "evalue": "'str' object does not support item assignment",
     "output_type": "error",
     "traceback": [
      "\u001b[0;31m---------------------------------------------------------------------------\u001b[0m",
      "\u001b[0;31mTypeError\u001b[0m                                 Traceback (most recent call last)",
      "Cell \u001b[0;32mIn [70], line 2\u001b[0m\n\u001b[1;32m      1\u001b[0m s \u001b[38;5;241m=\u001b[39m \u001b[38;5;124m'\u001b[39m\u001b[38;5;124mabcde\u001b[39m\u001b[38;5;124m'\u001b[39m\n\u001b[0;32m----> 2\u001b[0m \u001b[43ms\u001b[49m\u001b[43m[\u001b[49m\u001b[38;5;241;43m0\u001b[39;49m\u001b[43m]\u001b[49m \u001b[38;5;241m=\u001b[39m \u001b[38;5;124m'\u001b[39m\u001b[38;5;124m!\u001b[39m\u001b[38;5;124m'\u001b[39m   \u001b[38;5;66;03m# can I change a string? No, strings are immutable\u001b[39;00m\n",
      "\u001b[0;31mTypeError\u001b[0m: 'str' object does not support item assignment"
     ]
    }
   ],
   "source": [
    "s = 'abcde'\n",
    "s[0] = '!'   # can I change a string? No, strings are immutable"
   ]
  },
  {
   "cell_type": "code",
   "execution_count": 71,
   "id": "df7f15c4",
   "metadata": {},
   "outputs": [],
   "source": [
    "mylist[0] = '!'   # can I change a list?  "
   ]
  },
  {
   "cell_type": "code",
   "execution_count": 72,
   "id": "de5e63f1",
   "metadata": {},
   "outputs": [
    {
     "data": {
      "text/plain": [
       "['!', 20, 30]"
      ]
     },
     "execution_count": 72,
     "metadata": {},
     "output_type": "execute_result"
    }
   ],
   "source": [
    "mylist   # yes! lists are mutable!"
   ]
  },
  {
   "cell_type": "code",
   "execution_count": 73,
   "id": "a441d337",
   "metadata": {},
   "outputs": [
    {
     "data": {
      "text/plain": [
       "[['!', 20, 30], ['!', 20, 30], ['!', 20, 30]]"
      ]
     },
     "execution_count": 73,
     "metadata": {},
     "output_type": "execute_result"
    }
   ],
   "source": [
    "biglist"
   ]
  },
  {
   "cell_type": "markdown",
   "id": "75c9e52d",
   "metadata": {},
   "source": [
    "# Assignment can mean two things in Python\n",
    "\n",
    "1. When we assign to a variable, we're saying: I want this variable to refer to that value\n",
    "2. When we assign to an element of a list, we're saying: The list should stay intact, but we are mutating it so that one element is now referring to something else."
   ]
  },
  {
   "cell_type": "code",
   "execution_count": 74,
   "id": "d5fde11c",
   "metadata": {},
   "outputs": [],
   "source": [
    "mylist = [10, 20, 30]   # this is case 1 -- I create a list, and mylist refers to it\n",
    "\n",
    "other = mylist          # other will now refer to the same list as mylist\n",
    "\n",
    "mylist[2] = 'hello'     # this is case 2 -- the list is still the same list, but one element has changed"
   ]
  },
  {
   "cell_type": "code",
   "execution_count": 75,
   "id": "070cc082",
   "metadata": {},
   "outputs": [
    {
     "data": {
      "text/plain": [
       "[10, 20, 'hello']"
      ]
     },
     "execution_count": 75,
     "metadata": {},
     "output_type": "execute_result"
    }
   ],
   "source": [
    "other"
   ]
  },
  {
   "cell_type": "code",
   "execution_count": 76,
   "id": "b07ce4ca",
   "metadata": {},
   "outputs": [],
   "source": [
    "mylist = [10, 20, 30]   # this is case 1 -- I create a list, and mylist refers to it\n",
    "\n",
    "other = [10, 20, 30]          # other is == to mylist, but is otherwise unconnected\n",
    "\n",
    "mylist[2] = 'hello'     # this is case 2 -- the list is still the same list, but one element has changed"
   ]
  },
  {
   "cell_type": "code",
   "execution_count": 77,
   "id": "e63e11a3",
   "metadata": {},
   "outputs": [
    {
     "data": {
      "text/plain": [
       "[10]"
      ]
     },
     "execution_count": 77,
     "metadata": {},
     "output_type": "execute_result"
    }
   ],
   "source": [
    "mylist = []   # empty list\n",
    "\n",
    "# can I add elements to my list?  Yes, in several ways\n",
    "\n",
    "mylist.append(10)   # this adds 10 to the end of mylist\n",
    "mylist"
   ]
  },
  {
   "cell_type": "code",
   "execution_count": 78,
   "id": "efe29a0e",
   "metadata": {},
   "outputs": [
    {
     "data": {
      "text/plain": [
       "[10, 20, 30]"
      ]
     },
     "execution_count": 78,
     "metadata": {},
     "output_type": "execute_result"
    }
   ],
   "source": [
    "mylist.append(20)\n",
    "mylist.append(30)\n",
    "mylist"
   ]
  },
  {
   "cell_type": "code",
   "execution_count": 79,
   "id": "a89053c8",
   "metadata": {},
   "outputs": [
    {
     "data": {
      "text/plain": [
       "[10, 20, 30, [100, 200, 300]]"
      ]
     },
     "execution_count": 79,
     "metadata": {},
     "output_type": "execute_result"
    }
   ],
   "source": [
    "# I can add multiple elements with += or .extend()\n",
    "\n",
    "mylist.append([100, 200, 300])  # can I append a list to mylist?\n",
    "mylist"
   ]
  },
  {
   "cell_type": "code",
   "execution_count": 80,
   "id": "1290522f",
   "metadata": {},
   "outputs": [
    {
     "data": {
      "text/plain": [
       "[10, 20, 30, 10, 20, 30]"
      ]
     },
     "execution_count": 80,
     "metadata": {},
     "output_type": "execute_result"
    }
   ],
   "source": [
    "# I really wanted to add each element of [100, 200, 300] to mylist...\n",
    "\n",
    "mylist = [10, 20, 30]\n",
    "\n",
    "# instead of a for loop, I can just use .extend()\n",
    "mylist.extend(mylist)   # each element of mylist will be added\n",
    "\n",
    "mylist"
   ]
  },
  {
   "cell_type": "code",
   "execution_count": 81,
   "id": "e2af7bf2",
   "metadata": {},
   "outputs": [
    {
     "data": {
      "text/plain": [
       "[10, 20, 30, 10, 20, 30, 40, 50, 60]"
      ]
     },
     "execution_count": 81,
     "metadata": {},
     "output_type": "execute_result"
    }
   ],
   "source": [
    "mylist += [40, 50, 60]  # each element of this list will be added, just like .extend\n",
    "mylist"
   ]
  },
  {
   "cell_type": "code",
   "execution_count": 82,
   "id": "cd2b9261",
   "metadata": {},
   "outputs": [
    {
     "data": {
      "text/plain": [
       "[10, 20, 30, 10, 20, 30, 40, 50, 60, 'abcd']"
      ]
     },
     "execution_count": 82,
     "metadata": {},
     "output_type": "execute_result"
    }
   ],
   "source": [
    "mylist.append('abcd')\n",
    "mylist"
   ]
  },
  {
   "cell_type": "code",
   "execution_count": 83,
   "id": "5beb9e2e",
   "metadata": {},
   "outputs": [
    {
     "data": {
      "text/plain": [
       "[10, 20, 30, 10, 20, 30, 40, 50, 60, 'abcd', 'a', 'b', 'c', 'd']"
      ]
     },
     "execution_count": 83,
     "metadata": {},
     "output_type": "execute_result"
    }
   ],
   "source": [
    "mylist.extend('abcd')\n",
    "mylist"
   ]
  },
  {
   "cell_type": "code",
   "execution_count": 84,
   "id": "a423d5d4",
   "metadata": {},
   "outputs": [],
   "source": [
    "mylist = [10, 20, 30]\n",
    "biglist = [mylist, mylist, mylist]"
   ]
  },
  {
   "cell_type": "code",
   "execution_count": 85,
   "id": "68ca5e4b",
   "metadata": {},
   "outputs": [
    {
     "data": {
      "text/plain": [
       "[[10, 20, 30], [10, 20, 30], [10, 20, 30]]"
      ]
     },
     "execution_count": 85,
     "metadata": {},
     "output_type": "execute_result"
    }
   ],
   "source": [
    "biglist"
   ]
  },
  {
   "cell_type": "code",
   "execution_count": 86,
   "id": "a4ba9c37",
   "metadata": {},
   "outputs": [],
   "source": [
    "del(mylist)   # delete the variable mylist from Python"
   ]
  },
  {
   "cell_type": "code",
   "execution_count": 87,
   "id": "6e4af57f",
   "metadata": {},
   "outputs": [
    {
     "ename": "NameError",
     "evalue": "name 'mylist' is not defined",
     "output_type": "error",
     "traceback": [
      "\u001b[0;31m---------------------------------------------------------------------------\u001b[0m",
      "\u001b[0;31mNameError\u001b[0m                                 Traceback (most recent call last)",
      "Cell \u001b[0;32mIn [87], line 1\u001b[0m\n\u001b[0;32m----> 1\u001b[0m \u001b[43mmylist\u001b[49m\n",
      "\u001b[0;31mNameError\u001b[0m: name 'mylist' is not defined"
     ]
    }
   ],
   "source": [
    "mylist"
   ]
  },
  {
   "cell_type": "code",
   "execution_count": 88,
   "id": "a7664e7e",
   "metadata": {},
   "outputs": [
    {
     "data": {
      "text/plain": [
       "[[10, 20, 30], [10, 20, 30], [10, 20, 30]]"
      ]
     },
     "execution_count": 88,
     "metadata": {},
     "output_type": "execute_result"
    }
   ],
   "source": [
    "biglist"
   ]
  },
  {
   "cell_type": "markdown",
   "id": "5e27e142",
   "metadata": {},
   "source": [
    "# Exercise: Odds and evens\n",
    "\n",
    "1. Define two empty lists, `odds` and `evens`.\n",
    "2. Ask the user, repeatedly, to enter a number.\n",
    "    - If they give us an empty string, stop asking\n",
    "    - If they give us something non-numeric, scold them\n",
    "3. If they give us a number, then check if it's odd or even (by using `% 2` -- if it's 0, then the number is even, if 1, then it's odd).\n",
    "    - Add the number to the appropriate list.\n",
    "4. In the end, print each list.    "
   ]
  },
  {
   "cell_type": "code",
   "execution_count": 92,
   "id": "4bfb072e",
   "metadata": {},
   "outputs": [
    {
     "name": "stdout",
     "output_type": "stream",
     "text": [
      "Enter a number: 10\n",
      "Enter a number: 11\n",
      "Enter a number: 17\n",
      "Enter a number: 18\n",
      "Enter a number: abcd\n",
      "abcd is not numeric!\n",
      "Enter a number: \n",
      "odds=[11, 17], evens=[10, 18]\n"
     ]
    }
   ],
   "source": [
    "odds = []\n",
    "evens = []\n",
    "\n",
    "while True:\n",
    "    s = input('Enter a number: ').strip()\n",
    "    \n",
    "    if not s:\n",
    "        break\n",
    "        \n",
    "    if not s.isdigit():\n",
    "        print(f'{s} is not numeric!')\n",
    "        continue\n",
    "        \n",
    "    n = int(s)\n",
    "\n",
    "    if n % 2 == 1:      # odd\n",
    "        odds.append(n)\n",
    "    else:               # even\n",
    "        evens.append(n)\n",
    "        \n",
    "print(f'{odds=}, {evens=}')        "
   ]
  },
  {
   "cell_type": "code",
   "execution_count": 93,
   "id": "a2f9badc",
   "metadata": {},
   "outputs": [
    {
     "name": "stdout",
     "output_type": "stream",
     "text": [
      "Enter a number: 11\n",
      "Enter a number: 10\n",
      "Enter a number: 18\n",
      "Enter a number: 17\n",
      "Enter a number: \n",
      "odds=[11, 17], evens=[10, 18]\n"
     ]
    }
   ],
   "source": [
    "odds = []\n",
    "evens = []\n",
    "\n",
    "while True:\n",
    "    s = input('Enter a number: ').strip()\n",
    "    \n",
    "    if not s:\n",
    "        break\n",
    "        \n",
    "    if not s.isdigit():\n",
    "        print(f'{s} is not numeric!')\n",
    "        continue\n",
    "        \n",
    "    n = int(s)\n",
    "\n",
    "    if n % 2:      # odd -- because 1 is True in a boolean context\n",
    "        odds.append(n)\n",
    "    else:               # even\n",
    "        evens.append(n)\n",
    "        \n",
    "print(f'{odds=}, {evens=}')        "
   ]
  },
  {
   "cell_type": "code",
   "execution_count": null,
   "id": "3cec693e",
   "metadata": {},
   "outputs": [],
   "source": []
  },
  {
   "cell_type": "code",
   "execution_count": null,
   "id": "6cb2c170",
   "metadata": {},
   "outputs": [],
   "source": []
  },
  {
   "cell_type": "code",
   "execution_count": 90,
   "id": "c1afb627",
   "metadata": {},
   "outputs": [
    {
     "data": {
      "text/plain": [
       "[10, 20, 30, 40]"
      ]
     },
     "execution_count": 90,
     "metadata": {},
     "output_type": "execute_result"
    }
   ],
   "source": [
    "x = y = []  # this is bad... don't do it\n",
    "\n",
    "# now x and y refer to THE SAME LIST!\n",
    "x.append(10)\n",
    "y.append(20)\n",
    "x.append(30)\n",
    "y.append(40)\n",
    "\n",
    "x"
   ]
  },
  {
   "cell_type": "code",
   "execution_count": 91,
   "id": "c0758dca",
   "metadata": {},
   "outputs": [
    {
     "data": {
      "text/plain": [
       "[10, 20, 30, 40]"
      ]
     },
     "execution_count": 91,
     "metadata": {},
     "output_type": "execute_result"
    }
   ],
   "source": [
    "y"
   ]
  },
  {
   "cell_type": "markdown",
   "id": "f6fa78fa",
   "metadata": {},
   "source": [
    "# Next up\n",
    "\n",
    "1. Splitting and joining\n",
    "2. Tuples and unpacking\n",
    "\n",
    "Resume at :25"
   ]
  },
  {
   "cell_type": "markdown",
   "id": "3f22c166",
   "metadata": {},
   "source": [
    "# Splitting and joining\n",
    "\n",
    "It's common for us to have strings that we want to turn into lists.  There's a simple way to do it, but it won't always do what we want."
   ]
  },
  {
   "cell_type": "code",
   "execution_count": 94,
   "id": "c85b715b",
   "metadata": {},
   "outputs": [
    {
     "data": {
      "text/plain": [
       "['a', 'b', 'c', 'd', ';', 'e', 'f', 'g', 'h', ';', 'i', 'j', 'k', 'l']"
      ]
     },
     "execution_count": 94,
     "metadata": {},
     "output_type": "execute_result"
    }
   ],
   "source": [
    "s = 'abcd;efgh;ijkl'\n",
    "\n",
    "# we can get an integer from a string with int()\n",
    "# we can get a float from a string with float()\n",
    "# can we get a list from a string with list()?\n",
    "\n",
    "list(s)"
   ]
  },
  {
   "cell_type": "code",
   "execution_count": 95,
   "id": "889f8623",
   "metadata": {},
   "outputs": [
    {
     "data": {
      "text/plain": [
       "['abcd', 'efgh', 'ijkl']"
      ]
     },
     "execution_count": 95,
     "metadata": {},
     "output_type": "execute_result"
    }
   ],
   "source": [
    "# as a human, that's not really what I was aiming for.. I wanted to use ; as a delimiter\n",
    "# I can do that with the \"split\" method\n",
    "\n",
    "s.split(';')  # this returns a new list of strings, based on s, using ';' as the field separator\n"
   ]
  },
  {
   "cell_type": "code",
   "execution_count": null,
   "id": "4e972681",
   "metadata": {},
   "outputs": [],
   "source": []
  }
 ],
 "metadata": {
  "kernelspec": {
   "display_name": "Python 3 (ipykernel)",
   "language": "python",
   "name": "python3"
  },
  "language_info": {
   "codemirror_mode": {
    "name": "ipython",
    "version": 3
   },
   "file_extension": ".py",
   "mimetype": "text/x-python",
   "name": "python",
   "nbconvert_exporter": "python",
   "pygments_lexer": "ipython3",
   "version": "3.11.2"
  }
 },
 "nbformat": 4,
 "nbformat_minor": 5
}
