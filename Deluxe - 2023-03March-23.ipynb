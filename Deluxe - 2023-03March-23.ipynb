{
 "cells": [
  {
   "cell_type": "markdown",
   "id": "1637ab63",
   "metadata": {},
   "source": [
    "# Agenda\n",
    "\n",
    "1. Loops\n",
    "    - `for`\n",
    "    - `while`\n",
    "    - `range`\n",
    "2. Lists\n",
    "    - Creating them\n",
    "    - Manipulating them\n",
    "3. Strings to lists and back\n",
    "    - `str.join`\n",
    "    - `str.split`\n",
    "4. Tuples\n",
    "5. Tuple unpacking"
   ]
  },
  {
   "cell_type": "code",
   "execution_count": 1,
   "id": "2807f6e5",
   "metadata": {},
   "outputs": [
    {
     "name": "stdout",
     "output_type": "stream",
     "text": [
      "a\n",
      "b\n",
      "c\n",
      "d\n"
     ]
    }
   ],
   "source": [
    "# let's say that I have a string, and I want to print all of the characters in that string\n",
    "\n",
    "s = 'abcd'\n",
    "\n",
    "print(s[0])\n",
    "print(s[1])\n",
    "print(s[2])\n",
    "print(s[3])"
   ]
  },
  {
   "cell_type": "markdown",
   "id": "15b5e07b",
   "metadata": {},
   "source": [
    "# DRY -- don't repeat yourself!\n",
    "\n",
    "If I have several lines in a row that basically do the same thing, then I should replace them with a loop.\n",
    "\n",
    "WET -- write everything twice"
   ]
  },
  {
   "cell_type": "markdown",
   "id": "d647624f",
   "metadata": {},
   "source": [
    "# Python has two kinds of loops\n",
    "\n",
    "- `for` \n",
    "- `while` "
   ]
  },
  {
   "cell_type": "code",
   "execution_count": 2,
   "id": "a2cbe7fb",
   "metadata": {},
   "outputs": [
    {
     "name": "stdout",
     "output_type": "stream",
     "text": [
      "a\n",
      "b\n",
      "c\n",
      "d\n"
     ]
    }
   ],
   "source": [
    "# if I want to print all of the characters in the string s, I can do this:\n",
    "\n",
    "# 1. for loop asks the object at the end of the line: are you iterable?\n",
    "# 2.  If not, then we get an error\n",
    "# 3. If so, then the loop asks the object for its next value\n",
    "# 4.  If the object is out of values, the loop ends\n",
    "# 5   Otherwise, we get the next value, assign it to one_character, and run the loop body\n",
    "\n",
    "# when we iterate over strings, we always get one character at a time\n",
    "\n",
    "s = 'abcd'\n",
    "\n",
    "for one_character in s:     # start of the for loop\n",
    "    print(one_character)    # body of the for loop (can be as many lines as we want)"
   ]
  },
  {
   "cell_type": "markdown",
   "id": "a3bfda78",
   "metadata": {},
   "source": [
    "# Exercise: Vowels, digits, and others\n",
    "\n",
    "1. Define three variables -- `vowels`, `digits`, and `others`, all to be 0.\n",
    "2. Ask the user to enter a string.\n",
    "3. Go through each element of the string, and check:\n",
    "    - If it's a vowel (a, e, i, o or u) then add 1 to `vowels`\n",
    "    - If it's a digit (0-9) then add 1 to `digits`\n",
    "    - In all other cases, add 1 to `others`."
   ]
  },
  {
   "cell_type": "code",
   "execution_count": null,
   "id": "4e06a31a",
   "metadata": {},
   "outputs": [],
   "source": []
  }
 ],
 "metadata": {
  "kernelspec": {
   "display_name": "Python 3 (ipykernel)",
   "language": "python",
   "name": "python3"
  },
  "language_info": {
   "codemirror_mode": {
    "name": "ipython",
    "version": 3
   },
   "file_extension": ".py",
   "mimetype": "text/x-python",
   "name": "python",
   "nbconvert_exporter": "python",
   "pygments_lexer": "ipython3",
   "version": "3.11.2"
  }
 },
 "nbformat": 4,
 "nbformat_minor": 5
}
