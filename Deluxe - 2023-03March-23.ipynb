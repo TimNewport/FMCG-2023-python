{
 "cells": [
  {
   "cell_type": "markdown",
   "id": "d0545f16",
   "metadata": {},
   "source": [
    "# Agenda\n",
    "\n",
    "1. Loops\n",
    "    - `for`\n",
    "    - `while`\n",
    "    - `range`\n",
    "2. Lists\n",
    "    - Creating them\n",
    "    - Manipulating them\n",
    "3. Strings to lists and back\n",
    "    - `str.join`\n",
    "    - `str.split`\n",
    "4. Tuples\n",
    "5. Tuple unpacking"
   ]
  },
  {
   "cell_type": "code",
   "execution_count": 1,
   "id": "15cbcf89",
   "metadata": {},
   "outputs": [
    {
     "name": "stdout",
     "output_type": "stream",
     "text": [
      "a\n",
      "b\n",
      "c\n",
      "d\n"
     ]
    }
   ],
   "source": [
    "# let's say that I have a string, and I want to print all of the characters in that string\n",
    "\n",
    "s = 'abcd'\n",
    "\n",
    "print(s[0])\n",
    "print(s[1])\n",
    "print(s[2])\n",
    "print(s[3])"
   ]
  },
  {
   "cell_type": "markdown",
   "id": "84b80671",
   "metadata": {},
   "source": [
    "# DRY -- don't repeat yourself!\n",
    "\n",
    "If I have several lines in a row that basically do the same thing, then I should replace them with a loop.\n",
    "\n",
    "WET -- write everything twice"
   ]
  },
  {
   "cell_type": "markdown",
   "id": "f870ed43",
   "metadata": {},
   "source": [
    "# Python has two kinds of loops\n",
    "\n",
    "- `for` \n",
    "- `while` "
   ]
  },
  {
   "cell_type": "code",
   "execution_count": 2,
   "id": "76b5d1c2",
   "metadata": {},
   "outputs": [
    {
     "name": "stdout",
     "output_type": "stream",
     "text": [
      "a\n",
      "b\n",
      "c\n",
      "d\n"
     ]
    }
   ],
   "source": [
    "# if I want to print all of the characters in the string s, I can do this:\n",
    "\n",
    "# 1. for loop asks the object at the end of the line: are you iterable?\n",
    "# 2.  If not, then we get an error\n",
    "# 3. If so, then the loop asks the object for its next value\n",
    "# 4.  If the object is out of values, the loop ends\n",
    "# 5   Otherwise, we get the next value, assign it to one_character, and run the loop body\n",
    "\n",
    "# when we iterate over strings, we always get one character at a time\n",
    "\n",
    "s = 'abcd'\n",
    "\n",
    "for one_character in s:     # start of the for loop\n",
    "    print(one_character)    # body of the for loop (can be as many lines as we want)"
   ]
  },
  {
   "cell_type": "markdown",
   "id": "19273513",
   "metadata": {},
   "source": [
    "# Exercise: Vowels, digits, and others\n",
    "\n",
    "1. Define three variables -- `vowels`, `digits`, and `others`, all to be 0.\n",
    "2. Ask the user to enter a string.\n",
    "3. Go through each element of the string, and check:\n",
    "    - If it's a vowel (a, e, i, o or u) then add 1 to `vowels`\n",
    "    - If it's a digit (0-9) then add 1 to `digits`\n",
    "    - In all other cases, add 1 to `others`."
   ]
  },
  {
   "cell_type": "code",
   "execution_count": 3,
   "id": "9f2da074",
   "metadata": {},
   "outputs": [],
   "source": [
    "# don't do this!\n",
    "\n",
    "vowels = digits = others = 0"
   ]
  },
  {
   "cell_type": "code",
   "execution_count": 4,
   "id": "17a40d43",
   "metadata": {},
   "outputs": [
    {
     "name": "stdout",
     "output_type": "stream",
     "text": [
      "Enter a string: hello! 12345?\n",
      "vowels = 2\n",
      "digits = 5\n",
      "others = 6\n"
     ]
    }
   ],
   "source": [
    "vowels = 0\n",
    "digits = 0\n",
    "others = 0\n",
    "\n",
    "s = input('Enter a string: ').strip()\n",
    "\n",
    "for one_character in s.lower():\n",
    "    if one_character in 'aeiou':\n",
    "        vowels += 1   # same as vowels = vowels + 1\n",
    "    elif one_character.isdigit():\n",
    "        digits += 1\n",
    "    else:\n",
    "        others += 1\n",
    "        \n",
    "print(f'vowels = {vowels}')        \n",
    "print(f'digits = {digits}')        \n",
    "print(f'others = {others}')        "
   ]
  },
  {
   "cell_type": "code",
   "execution_count": 7,
   "id": "fd99f559",
   "metadata": {},
   "outputs": [
    {
     "name": "stdout",
     "output_type": "stream",
     "text": [
      "vowels = 2\n",
      "digits = 5\n",
      "others = 6\n"
     ]
    }
   ],
   "source": [
    "# As of Python 3.8 (I think) you can do this:\n",
    "\n",
    "print(f'{vowels = }')           # if the = is the last character in the f-string's {}, we get name=value\n",
    "print(f'{digits = }')        \n",
    "print(f'{others = }')        "
   ]
  },
  {
   "cell_type": "code",
   "execution_count": 8,
   "id": "5d1eaa19",
   "metadata": {},
   "outputs": [
    {
     "name": "stdout",
     "output_type": "stream",
     "text": [
      "len(s) = 13\n"
     ]
    }
   ],
   "source": [
    "print(f'{len(s) = }')        "
   ]
  },
  {
   "cell_type": "code",
   "execution_count": 9,
   "id": "6f10304a",
   "metadata": {},
   "outputs": [
    {
     "name": "stdout",
     "output_type": "stream",
     "text": [
      "0: a\n",
      "1: b\n",
      "2: c\n",
      "3: d\n"
     ]
    }
   ],
   "source": [
    "# what if I really *like* the idea of having indexes when iterating over a string?\n",
    "# for example: I want to print all of the characters in s, along with their indexes\n",
    "\n",
    "# option 1: do it manually!\n",
    "\n",
    "index = 0\n",
    "s = 'abcd'\n",
    "\n",
    "for one_character in s:\n",
    "    print(f'{index}: {one_character}')\n",
    "    index += 1"
   ]
  },
  {
   "cell_type": "code",
   "execution_count": 10,
   "id": "2deb22b0",
   "metadata": {},
   "outputs": [
    {
     "name": "stdout",
     "output_type": "stream",
     "text": [
      "0: a\n",
      "1: b\n",
      "2: c\n",
      "3: d\n"
     ]
    }
   ],
   "source": [
    "# option 2: Use \"enumerate\"\n",
    "\n",
    "# the \"enumerate\" function is called on something that's iterable\n",
    "# it is meant to be used in a for loop\n",
    "# it returns *two* values, not one -- the current index and the current value\n",
    "\n",
    "for index, one_character in enumerate(s):\n",
    "    print(f'{index}: {one_character}')"
   ]
  },
  {
   "cell_type": "markdown",
   "id": "3a6a5cfa",
   "metadata": {},
   "source": [
    "# What about executing something multiple times?\n",
    "\n",
    "So far, we've been iterating over strings, getting one character from the string with each iteration. But often we just want to execute a loop in order to repeat something a number of times.\n",
    "\n",
    "Can I iterate over an integer?\n",
    "\n",
    "No, integers are not iterable. You cannot put them in your `for` loop."
   ]
  },
  {
   "cell_type": "code",
   "execution_count": 12,
   "id": "34ee36da",
   "metadata": {},
   "outputs": [
    {
     "ename": "TypeError",
     "evalue": "'int' object is not iterable",
     "output_type": "error",
     "traceback": [
      "\u001b[0;31m---------------------------------------------------------------------------\u001b[0m",
      "\u001b[0;31mTypeError\u001b[0m                                 Traceback (most recent call last)",
      "Cell \u001b[0;32mIn [12], line 1\u001b[0m\n\u001b[0;32m----> 1\u001b[0m \u001b[38;5;28;01mfor\u001b[39;00m counter \u001b[38;5;129;01min\u001b[39;00m \u001b[38;5;241m5\u001b[39m:\n\u001b[1;32m      2\u001b[0m     \u001b[38;5;28mprint\u001b[39m(\u001b[38;5;124m'\u001b[39m\u001b[38;5;124mHooray!\u001b[39m\u001b[38;5;124m'\u001b[39m)\n",
      "\u001b[0;31mTypeError\u001b[0m: 'int' object is not iterable"
     ]
    }
   ],
   "source": [
    "for counter in 5:\n",
    "    print('Hooray!')"
   ]
  },
  {
   "cell_type": "code",
   "execution_count": 14,
   "id": "f584e090",
   "metadata": {},
   "outputs": [
    {
     "name": "stdout",
     "output_type": "stream",
     "text": [
      "Hooray!\n",
      "Hooray!\n",
      "Hooray!\n",
      "Hooray!\n",
      "Hooray!\n"
     ]
    }
   ],
   "source": [
    "# We can use \"range\"\n",
    "# the \"range\" function is designed to be called on an integer, giving us\n",
    "# something that is iterable from 0 until (not including) the number we give\n",
    "\n",
    "# so range(5) will give us 5 iterations\n",
    "\n",
    "for counter in range(5):\n",
    "    print('Hooray!')"
   ]
  },
  {
   "cell_type": "code",
   "execution_count": 15,
   "id": "e6d54cc9",
   "metadata": {},
   "outputs": [
    {
     "name": "stdout",
     "output_type": "stream",
     "text": [
      "[0] Hooray!\n",
      "[1] Hooray!\n",
      "[2] Hooray!\n",
      "[3] Hooray!\n",
      "[4] Hooray!\n"
     ]
    }
   ],
   "source": [
    "# when we iterate over range(n), we get the numbers 0 until (not including) n.\n",
    "\n",
    "for counter in range(5):\n",
    "    print(f'[{counter}] Hooray!')"
   ]
  },
  {
   "cell_type": "code",
   "execution_count": 16,
   "id": "aa7909cf",
   "metadata": {},
   "outputs": [
    {
     "name": "stdout",
     "output_type": "stream",
     "text": [
      "3\n",
      "4\n",
      "5\n",
      "6\n",
      "7\n",
      "8\n",
      "9\n"
     ]
    }
   ],
   "source": [
    "# it gets even better than that\n",
    "\n",
    "for one_number in range(3, 10):   # now we'll get the range from 3 up to (and not including) 10\n",
    "    print(one_number)"
   ]
  },
  {
   "cell_type": "code",
   "execution_count": 17,
   "id": "2ce72534",
   "metadata": {},
   "outputs": [
    {
     "name": "stdout",
     "output_type": "stream",
     "text": [
      "5\n",
      "12\n",
      "19\n",
      "26\n",
      "33\n"
     ]
    }
   ],
   "source": [
    "# just like with slices, we can provide range with *three* arguments:\n",
    "# start number\n",
    "# end number (+ 1)\n",
    "# step size\n",
    "\n",
    "for one_number in range(5, 35, 7):\n",
    "    print(one_number)"
   ]
  },
  {
   "cell_type": "markdown",
   "id": "326c8239",
   "metadata": {},
   "source": [
    "# Using `range`\n",
    "\n",
    "- `range(n)` counts from 0 up to (and not including) `n`\n",
    "- `range(n,s)` counts from `n` up to (and not including) `s`\n",
    "- `range(n, s, step)` counts up from `n` up to (and not including) `s`, adding `step` with each iteration"
   ]
  },
  {
   "cell_type": "code",
   "execution_count": 18,
   "id": "f2eb3a7e",
   "metadata": {},
   "outputs": [],
   "source": [
    "# yes, you can use _ in your integers in Python for easier reading!\n",
    "\n",
    "x = range(100_000_000)"
   ]
  },
  {
   "cell_type": "markdown",
   "id": "3690eb30",
   "metadata": {},
   "source": [
    "# Exercise: Name triangles\n",
    "\n",
    "1. Ask the user to enter their name.\n",
    "2. Print the user's name as a triangle, starting with the first letter and ending with the entire name.\n",
    "\n",
    "Example:\n",
    "\n",
    "    Name: Reuven\n",
    "    R\n",
    "    Re\n",
    "    Reu\n",
    "    Reuv\n",
    "    Reuve\n",
    "    Reuven\n",
    "\n",
    "Beware the off-by-one errors that are almost inevitable when doing this!"
   ]
  },
  {
   "cell_type": "code",
   "execution_count": 20,
   "id": "c9e68a66",
   "metadata": {},
   "outputs": [
    {
     "name": "stdout",
     "output_type": "stream",
     "text": [
      "R\n",
      "Re\n",
      "Reu\n",
      "Reuv\n",
      "Reuve\n",
      "Reuven\n"
     ]
    }
   ],
   "source": [
    "name = 'Reuven'\n",
    "\n",
    "print(name[:1])\n",
    "print(name[:2])\n",
    "print(name[:3])\n",
    "print(name[:4])\n",
    "print(name[:5])\n",
    "print(name[:6])    # Python's OK with going off the edges of a slice"
   ]
  },
  {
   "cell_type": "code",
   "execution_count": 24,
   "id": "68387e1c",
   "metadata": {},
   "outputs": [
    {
     "name": "stdout",
     "output_type": "stream",
     "text": [
      "Enter a name: the most ridiculously long name in the world\n",
      "t\n",
      "th\n",
      "the\n",
      "the \n",
      "the m\n",
      "the mo\n",
      "the mos\n",
      "the most\n",
      "the most \n",
      "the most r\n",
      "the most ri\n",
      "the most rid\n",
      "the most ridi\n",
      "the most ridic\n",
      "the most ridicu\n",
      "the most ridicul\n",
      "the most ridiculo\n",
      "the most ridiculou\n",
      "the most ridiculous\n",
      "the most ridiculousl\n",
      "the most ridiculously\n",
      "the most ridiculously \n",
      "the most ridiculously l\n",
      "the most ridiculously lo\n",
      "the most ridiculously lon\n",
      "the most ridiculously long\n",
      "the most ridiculously long \n",
      "the most ridiculously long n\n",
      "the most ridiculously long na\n",
      "the most ridiculously long nam\n",
      "the most ridiculously long name\n",
      "the most ridiculously long name \n",
      "the most ridiculously long name i\n",
      "the most ridiculously long name in\n",
      "the most ridiculously long name in \n",
      "the most ridiculously long name in t\n",
      "the most ridiculously long name in th\n",
      "the most ridiculously long name in the\n",
      "the most ridiculously long name in the \n",
      "the most ridiculously long name in the w\n",
      "the most ridiculously long name in the wo\n",
      "the most ridiculously long name in the wor\n",
      "the most ridiculously long name in the worl\n",
      "the most ridiculously long name in the world\n"
     ]
    }
   ],
   "source": [
    "name = input('Enter a name: ').strip()\n",
    "\n",
    "for end_index in range(1, len(name)+1 ):\n",
    "    print(name[:end_index])"
   ]
  },
  {
   "cell_type": "code",
   "execution_count": 26,
   "id": "b4cbc068",
   "metadata": {},
   "outputs": [
    {
     "name": "stdout",
     "output_type": "stream",
     "text": [
      "Enter a name: whatever\n",
      "w\n",
      "wh\n",
      "wha\n",
      "what\n",
      "whate\n",
      "whatev\n",
      "whateve\n",
      "whatever\n"
     ]
    }
   ],
   "source": [
    "name = input('Enter a name: ').strip()\n",
    "\n",
    "# we can have our range go from 0-len, and then add 1 in the slice\n",
    "for end_index in range(0, len(name) ):\n",
    "    print(name[:end_index+1])"
   ]
  },
  {
   "cell_type": "code",
   "execution_count": 27,
   "id": "9ad2c1c3",
   "metadata": {},
   "outputs": [
    {
     "name": "stdout",
     "output_type": "stream",
     "text": [
      "Found d\n"
     ]
    }
   ],
   "source": [
    "# what if I want to leave the loop early?\n",
    "\n",
    "s = 'abcdef'\n",
    "look_for = 'd'   # let's pretend that \"in\" doesn't exist in Python\n",
    "\n",
    "# how can I know, given that pretend scenario, whether look_for is in s?\n",
    "\n",
    "for one_character in s:\n",
    "    if look_for == one_character:\n",
    "        print(f'Found {look_for}')"
   ]
  },
  {
   "cell_type": "code",
   "execution_count": 29,
   "id": "b81991c5",
   "metadata": {},
   "outputs": [
    {
     "name": "stdout",
     "output_type": "stream",
     "text": [
      "Found d\n"
     ]
    }
   ],
   "source": [
    "# if you're just looking for the first match of look_for in s, then\n",
    "# wouldn't it be nice (and more efficient! ) if we were to stop as \n",
    "# soon as he found look_for?\n",
    "\n",
    "# answer: yes\n",
    "\n",
    "# I can use \"break\" in a loop to say: stop now!\n",
    "\n",
    "s = 'abcdefabcdef'\n",
    "look_for = 'd'   # let's pretend that \"in\" doesn't exist in Python\n",
    "\n",
    "# how can I know, given that pretend scenario, whether look_for is in s?\n",
    "\n",
    "for one_character in s:\n",
    "    if look_for == one_character:\n",
    "        print(f'Found {look_for}')\n",
    "        break   # we will now break out of our for loop"
   ]
  },
  {
   "cell_type": "code",
   "execution_count": 30,
   "id": "68705a5c",
   "metadata": {},
   "outputs": [
    {
     "name": "stdout",
     "output_type": "stream",
     "text": [
      "a\n",
      "b\n",
      "c\n",
      "e\n",
      "f\n"
     ]
    }
   ],
   "source": [
    "# if we have nested loops (i.e., one loop inside of another), then\n",
    "# the break will stop the innermost loop in which it's located.\n",
    "\n",
    "# sometimes, I want to stop the current iteration, not the entire loop\n",
    "# for that, I have the \"continue\" keyword\n",
    "\n",
    "# if Python encounters \"continue\" in a loop, it immediately goes to the next iteration,\n",
    "# skipping any of the loop body that might remain to be executed.\n",
    "\n",
    "s = 'abcdef'\n",
    "look_for = 'd'   \n",
    "\n",
    "for one_character in s:\n",
    "    if look_for == one_character:\n",
    "        continue   # ignoring the character\n",
    "        \n",
    "    print(one_character)"
   ]
  },
  {
   "cell_type": "code",
   "execution_count": 31,
   "id": "e79cde03",
   "metadata": {},
   "outputs": [
    {
     "ename": "SyntaxError",
     "evalue": "'break' outside loop (1481225530.py, line 2)",
     "output_type": "error",
     "traceback": [
      "\u001b[0;36m  Cell \u001b[0;32mIn [31], line 2\u001b[0;36m\u001b[0m\n\u001b[0;31m    break\u001b[0m\n\u001b[0m    ^\u001b[0m\n\u001b[0;31mSyntaxError\u001b[0m\u001b[0;31m:\u001b[0m 'break' outside loop\n"
     ]
    }
   ],
   "source": [
    "# what if we use break or continue outside of a loop?\n",
    "break"
   ]
  },
  {
   "cell_type": "code",
   "execution_count": 32,
   "id": "fd309ee8",
   "metadata": {},
   "outputs": [
    {
     "ename": "SyntaxError",
     "evalue": "'continue' not properly in loop (414696514.py, line 1)",
     "output_type": "error",
     "traceback": [
      "\u001b[0;36m  Cell \u001b[0;32mIn [32], line 1\u001b[0;36m\u001b[0m\n\u001b[0;31m    continue\u001b[0m\n\u001b[0m    ^\u001b[0m\n\u001b[0;31mSyntaxError\u001b[0m\u001b[0;31m:\u001b[0m 'continue' not properly in loop\n"
     ]
    }
   ],
   "source": [
    "continue"
   ]
  },
  {
   "cell_type": "markdown",
   "id": "2e0fe222",
   "metadata": {},
   "source": [
    "# Exercise: Sum digits\n",
    "\n",
    "1. Define `total` to be 0.\n",
    "2. Ask the user to enter a string.\n",
    "3. Go through each character in the string:\n",
    "    - If the character is a digit, add it to `total`\n",
    "    - If the character is a `.`, stop counting and exit the loop\n",
    "    - In other cases, warn the user that it's not numeric\n",
    "4. Print `total`\n",
    "\n",
    "Example:\n",
    "\n",
    "    Enter a string: 1a2b3.45\n",
    "    a is not numeric\n",
    "    b is not numeric\n",
    "    total is 6"
   ]
  },
  {
   "cell_type": "code",
   "execution_count": 33,
   "id": "ea3f2c73",
   "metadata": {},
   "outputs": [
    {
     "name": "stdout",
     "output_type": "stream",
     "text": [
      "Enter a string: 1a2b3.45\n",
      "a is not numeric!\n",
      "b is not numeric!\n",
      "total=6\n"
     ]
    }
   ],
   "source": [
    "total = 0\n",
    "\n",
    "s = input('Enter a string: ').strip()\n",
    "\n",
    "for one_character in s:\n",
    "    if one_character == '.':\n",
    "        break\n",
    "        \n",
    "    if not one_character.isdigit():\n",
    "        print(f'{one_character} is not numeric!')\n",
    "        continue\n",
    "        \n",
    "    total += int(one_character)\n",
    "    \n",
    "print(f'{total=}')    "
   ]
  },
  {
   "cell_type": "markdown",
   "id": "743c29f1",
   "metadata": {},
   "source": [
    "# `while` loops\n",
    "\n",
    "`while` loops run in a different way from `for` loops. You can think of them as `if` statements that are repeatedly checked and run:\n",
    "\n",
    "- To the right of the `while` statement is an expression that returns `True` or `False`\n",
    "    - If it's `False`, then the loop exits\n",
    "    - Otherwise, the loop body runs\n",
    "- When the loop body finishes, we go back up to the `while` statement and check the condition again.    "
   ]
  },
  {
   "cell_type": "code",
   "execution_count": 35,
   "id": "1090f86d",
   "metadata": {},
   "outputs": [
    {
     "name": "stdout",
     "output_type": "stream",
     "text": [
      "Before\n",
      "x=5\n",
      "x=4\n",
      "x=3\n",
      "x=2\n",
      "x=1\n",
      "After\n"
     ]
    }
   ],
   "source": [
    "x = 5\n",
    "\n",
    "print('Before')\n",
    "\n",
    "while x > 0:\n",
    "    print(f'{x=}')\n",
    "    x -= 1   # decrement x by 1\n",
    "\n",
    "print('After')    "
   ]
  },
  {
   "cell_type": "markdown",
   "id": "7b65cc93",
   "metadata": {},
   "source": [
    "# When to use `for` vs. `while`?\n",
    "\n",
    "First: We use `for` in Python far more than `while`.  Many data structures are iterable.\n",
    "\n",
    "Often, it's a question of: When will we finish the loop?\n",
    "\n",
    "- If we want to go through every element of a collection, then a `for` loop is generally more appropriate.\n",
    "\n",
    "- If we can't articulate how many iterations we'll want, but there is a goal that we want to reach, then a `while` loop is more appropriate.\n",
    "\n",
    "- If we want to repeatedly ask people to enter data, or otherwise do something, until we reach some obvious \"stop\" command, then a `while` loop is also appropriate."
   ]
  },
  {
   "cell_type": "code",
   "execution_count": 36,
   "id": "39838ffb",
   "metadata": {},
   "outputs": [
    {
     "name": "stdout",
     "output_type": "stream",
     "text": [
      "Enter your name: Reuven\n",
      "Hello, Reuven!\n",
      "Enter your name: asdfsadfas\n",
      "Hello, asdfsadfas!\n",
      "Enter your name: \n"
     ]
    }
   ],
   "source": [
    "while True:   # infinite loop!\n",
    "    name = input('Enter your name: ').strip()\n",
    "    \n",
    "    if not name:    # if we got an empty string from the user, exit the loop\n",
    "        break\n",
    "    \n",
    "    print(f'Hello, {name}!')"
   ]
  },
  {
   "cell_type": "markdown",
   "id": "4b82a9ad",
   "metadata": {},
   "source": [
    "# Exercise: Sum to 100\n",
    "\n",
    "1. Define `total` to be 0.\n",
    "2. Repeatedly ask the user to enter a number.\n",
    "    - If we get an empty string, exit the loop, no matter what.\n",
    "    - If we get something non-numeric, then scold the user.\n",
    "    - If we get something numeric, then add it to `total`\n",
    "3. Print the `to    \n",
    "3. Once `total` is >= 100, stop.    \n",
    "\n"
   ]
  }
 ],
 "metadata": {
  "kernelspec": {
   "display_name": "Python 3 (ipykernel)",
   "language": "python",
   "name": "python3"
  },
  "language_info": {
   "codemirror_mode": {
    "name": "ipython",
    "version": 3
   },
   "file_extension": ".py",
   "mimetype": "text/x-python",
   "name": "python",
   "nbconvert_exporter": "python",
   "pygments_lexer": "ipython3",
   "version": "3.11.2"
  }
 },
 "nbformat": 4,
 "nbformat_minor": 5
}
